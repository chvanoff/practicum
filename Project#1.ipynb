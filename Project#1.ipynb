{
 "cells": [
  {
   "cell_type": "markdown",
   "metadata": {
    "id": "E0vqbgi9ay0H"
   },
   "source": [
    "# Дата-сет Сервис.Музыка"
   ]
  },
  {
   "cell_type": "markdown",
   "metadata": {
    "id": "VUC88oWjTJw2"
   },
   "source": [
    "Сравнение Москвы и Петербурга окружено мифами. Например:\n",
    " * Москва — мегаполис, подчинённый жёсткому ритму рабочей недели;\n",
    " * Петербург — культурная столица, со своими вкусами.\n",
    "\n",
    "На данных пользователей мы сравним поведение пользователей двух столиц.\n",
    "\n",
    "**Цель исследования** — проверьте три гипотезы:\n",
    "1. Активность пользователей зависит от дня недели. Причём в Москве и Петербурге это проявляется по-разному.\n",
    "2. В понедельник утром в Москве преобладают одни жанры, а в Петербурге — другие. Так же и вечером пятницы преобладают разные жанры — в зависимости от города. \n",
    "3. Москва и Петербург предпочитают разные жанры музыки. В Москве чаще слушают поп-музыку, в Петербурге — русский рэп.\n",
    "\n",
    "**Ход исследования**\n",
    "\n",
    "Данные о поведении взяты из предоставленного дата-сета Сервис.Музыка. О качестве данных ничего не известно. Поэтому перед проверкой гипотез понадобится обзор данных. \n",
    "\n",
    "Проведем проверку и предобработку, после приступим к оценке гипотиз.\n",
    " \n",
    "Таким образом, исследование пройдёт в три этапа:\n",
    " 1. Обзор данных.\n",
    " 2. Предобработка данных.\n",
    " 3. Проверка гипотез.\n",
    "\n"
   ]
  },
  {
   "cell_type": "markdown",
   "metadata": {
    "id": "Ml1hmfXC_Zcs"
   },
   "source": [
    "## Обзор данных\n",
    "\n"
   ]
  },
  {
   "cell_type": "code",
   "execution_count": 1,
   "metadata": {
    "id": "AXN7PHPN_Zcs"
   },
   "outputs": [],
   "source": [
    "import pandas as pd"
   ]
  },
  {
   "cell_type": "code",
   "execution_count": 2,
   "metadata": {},
   "outputs": [],
   "source": [
    "df = pd.read_csv('/datasets/yandex_music_project.csv')"
   ]
  },
  {
   "cell_type": "code",
   "execution_count": 3,
   "metadata": {
    "id": "oWTVX3gW_Zct"
   },
   "outputs": [
    {
     "data": {
      "text/html": [
       "<div>\n",
       "<style scoped>\n",
       "    .dataframe tbody tr th:only-of-type {\n",
       "        vertical-align: middle;\n",
       "    }\n",
       "\n",
       "    .dataframe tbody tr th {\n",
       "        vertical-align: top;\n",
       "    }\n",
       "\n",
       "    .dataframe thead th {\n",
       "        text-align: right;\n",
       "    }\n",
       "</style>\n",
       "<table border=\"1\" class=\"dataframe\">\n",
       "  <thead>\n",
       "    <tr style=\"text-align: right;\">\n",
       "      <th></th>\n",
       "      <th>userID</th>\n",
       "      <th>Track</th>\n",
       "      <th>artist</th>\n",
       "      <th>genre</th>\n",
       "      <th>City</th>\n",
       "      <th>time</th>\n",
       "      <th>Day</th>\n",
       "    </tr>\n",
       "  </thead>\n",
       "  <tbody>\n",
       "    <tr>\n",
       "      <th>0</th>\n",
       "      <td>FFB692EC</td>\n",
       "      <td>Kamigata To Boots</td>\n",
       "      <td>The Mass Missile</td>\n",
       "      <td>rock</td>\n",
       "      <td>Saint-Petersburg</td>\n",
       "      <td>20:28:33</td>\n",
       "      <td>Wednesday</td>\n",
       "    </tr>\n",
       "    <tr>\n",
       "      <th>1</th>\n",
       "      <td>55204538</td>\n",
       "      <td>Delayed Because of Accident</td>\n",
       "      <td>Andreas Rönnberg</td>\n",
       "      <td>rock</td>\n",
       "      <td>Moscow</td>\n",
       "      <td>14:07:09</td>\n",
       "      <td>Friday</td>\n",
       "    </tr>\n",
       "    <tr>\n",
       "      <th>2</th>\n",
       "      <td>20EC38</td>\n",
       "      <td>Funiculì funiculà</td>\n",
       "      <td>Mario Lanza</td>\n",
       "      <td>pop</td>\n",
       "      <td>Saint-Petersburg</td>\n",
       "      <td>20:58:07</td>\n",
       "      <td>Wednesday</td>\n",
       "    </tr>\n",
       "    <tr>\n",
       "      <th>3</th>\n",
       "      <td>A3DD03C9</td>\n",
       "      <td>Dragons in the Sunset</td>\n",
       "      <td>Fire + Ice</td>\n",
       "      <td>folk</td>\n",
       "      <td>Saint-Petersburg</td>\n",
       "      <td>08:37:09</td>\n",
       "      <td>Monday</td>\n",
       "    </tr>\n",
       "    <tr>\n",
       "      <th>4</th>\n",
       "      <td>E2DC1FAE</td>\n",
       "      <td>Soul People</td>\n",
       "      <td>Space Echo</td>\n",
       "      <td>dance</td>\n",
       "      <td>Moscow</td>\n",
       "      <td>08:34:34</td>\n",
       "      <td>Monday</td>\n",
       "    </tr>\n",
       "    <tr>\n",
       "      <th>5</th>\n",
       "      <td>842029A1</td>\n",
       "      <td>Преданная</td>\n",
       "      <td>IMPERVTOR</td>\n",
       "      <td>rusrap</td>\n",
       "      <td>Saint-Petersburg</td>\n",
       "      <td>13:09:41</td>\n",
       "      <td>Friday</td>\n",
       "    </tr>\n",
       "    <tr>\n",
       "      <th>6</th>\n",
       "      <td>4CB90AA5</td>\n",
       "      <td>True</td>\n",
       "      <td>Roman Messer</td>\n",
       "      <td>dance</td>\n",
       "      <td>Moscow</td>\n",
       "      <td>13:00:07</td>\n",
       "      <td>Wednesday</td>\n",
       "    </tr>\n",
       "    <tr>\n",
       "      <th>7</th>\n",
       "      <td>F03E1C1F</td>\n",
       "      <td>Feeling This Way</td>\n",
       "      <td>Polina Griffith</td>\n",
       "      <td>dance</td>\n",
       "      <td>Moscow</td>\n",
       "      <td>20:47:49</td>\n",
       "      <td>Wednesday</td>\n",
       "    </tr>\n",
       "    <tr>\n",
       "      <th>8</th>\n",
       "      <td>8FA1D3BE</td>\n",
       "      <td>И вновь продолжается бой</td>\n",
       "      <td>NaN</td>\n",
       "      <td>ruspop</td>\n",
       "      <td>Moscow</td>\n",
       "      <td>09:17:40</td>\n",
       "      <td>Friday</td>\n",
       "    </tr>\n",
       "    <tr>\n",
       "      <th>9</th>\n",
       "      <td>E772D5C0</td>\n",
       "      <td>Pessimist</td>\n",
       "      <td>NaN</td>\n",
       "      <td>dance</td>\n",
       "      <td>Saint-Petersburg</td>\n",
       "      <td>21:20:49</td>\n",
       "      <td>Wednesday</td>\n",
       "    </tr>\n",
       "  </tbody>\n",
       "</table>\n",
       "</div>"
      ],
      "text/plain": [
       "     userID                        Track            artist   genre  \\\n",
       "0  FFB692EC            Kamigata To Boots  The Mass Missile    rock   \n",
       "1  55204538  Delayed Because of Accident  Andreas Rönnberg    rock   \n",
       "2    20EC38            Funiculì funiculà       Mario Lanza     pop   \n",
       "3  A3DD03C9        Dragons in the Sunset        Fire + Ice    folk   \n",
       "4  E2DC1FAE                  Soul People        Space Echo   dance   \n",
       "5  842029A1                    Преданная         IMPERVTOR  rusrap   \n",
       "6  4CB90AA5                         True      Roman Messer   dance   \n",
       "7  F03E1C1F             Feeling This Way   Polina Griffith   dance   \n",
       "8  8FA1D3BE     И вновь продолжается бой               NaN  ruspop   \n",
       "9  E772D5C0                    Pessimist               NaN   dance   \n",
       "\n",
       "             City        time        Day  \n",
       "0  Saint-Petersburg  20:28:33  Wednesday  \n",
       "1            Moscow  14:07:09     Friday  \n",
       "2  Saint-Petersburg  20:58:07  Wednesday  \n",
       "3  Saint-Petersburg  08:37:09     Monday  \n",
       "4            Moscow  08:34:34     Monday  \n",
       "5  Saint-Petersburg  13:09:41     Friday  \n",
       "6            Moscow  13:00:07  Wednesday  \n",
       "7            Moscow  20:47:49  Wednesday  \n",
       "8            Moscow  09:17:40     Friday  \n",
       "9  Saint-Petersburg  21:20:49  Wednesday  "
      ]
     },
     "metadata": {},
     "output_type": "display_data"
    }
   ],
   "source": [
    "display(df.head(10))"
   ]
  },
  {
   "cell_type": "code",
   "execution_count": 4,
   "metadata": {
    "id": "DSf2kIb-_Zct"
   },
   "outputs": [
    {
     "name": "stdout",
     "output_type": "stream",
     "text": [
      "<class 'pandas.core.frame.DataFrame'>\n",
      "RangeIndex: 65079 entries, 0 to 65078\n",
      "Data columns (total 7 columns):\n",
      " #   Column    Non-Null Count  Dtype \n",
      "---  ------    --------------  ----- \n",
      " 0     userID  65079 non-null  object\n",
      " 1   Track     63848 non-null  object\n",
      " 2   artist    57876 non-null  object\n",
      " 3   genre     63881 non-null  object\n",
      " 4     City    65079 non-null  object\n",
      " 5   time      65079 non-null  object\n",
      " 6   Day       65079 non-null  object\n",
      "dtypes: object(7)\n",
      "memory usage: 3.5+ MB\n"
     ]
    }
   ],
   "source": [
    "df.info()"
   ]
  },
  {
   "cell_type": "markdown",
   "metadata": {
    "id": "TaQ2Iwbr_Zct"
   },
   "source": [
    "Согласно документации к данным:\n",
    "* `userID` — идентификатор пользователя;\n",
    "* `Track` — название трека;  \n",
    "* `artist` — имя исполнителя;\n",
    "* `genre` — название жанра;\n",
    "* `City` — город пользователя;\n",
    "* `time` — время начала прослушивания;\n",
    "* `Day` — день недели.\n",
    "\n",
    "В названиях колонок видны три нарушения стиля:\n",
    "1. Строчные буквы сочетаются с прописными.\n",
    "2. Встречаются пробелы.\n",
    "3. Найдите ещё одну проблему в названии колонок и опишите её в этом пункте.\n",
    "\n",
    "\n",
    "\n",
    "Количество значений в столбцах различается. Значит, в данных есть пропущенные значения.\n"
   ]
  },
  {
   "cell_type": "markdown",
   "metadata": {
    "id": "MCB6-dXG_Zct"
   },
   "source": [
    "**Выводы**\n",
    "\n",
    "В каждой строке таблицы — данные о прослушанном треке. Часть колонок описывает саму композицию: название, исполнителя и жанр. Остальные данные рассказывают о пользователе: из какого он города, когда он слушал музыку. \n",
    "\n",
    "Предварительно, данных достаточно для проверки гипотез. Но встречаются пропуски в данных, а в названиях колонок — расхождения с хорошим стилем.\n",
    "\n",
    "Чтобы двигаться дальше, нужно устранить проблемы в данных."
   ]
  },
  {
   "cell_type": "markdown",
   "metadata": {
    "id": "SjYF6Ub9_Zct"
   },
   "source": [
    "## Предобработка данных"
   ]
  },
  {
   "cell_type": "code",
   "execution_count": 5,
   "metadata": {
    "id": "oKOTdF_Q_Zct"
   },
   "outputs": [
    {
     "data": {
      "text/plain": [
       "Index(['  userID', 'Track', 'artist', 'genre', '  City  ', 'time', 'Day'], dtype='object')"
      ]
     },
     "execution_count": 5,
     "metadata": {},
     "output_type": "execute_result"
    }
   ],
   "source": [
    "df.columns"
   ]
  },
  {
   "cell_type": "code",
   "execution_count": 6,
   "metadata": {
    "id": "ISlFqs5y_Zct"
   },
   "outputs": [
    {
     "data": {
      "text/plain": [
       "Index(['user_id', 'track', 'artist', 'genre', 'city', 'time', 'day'], dtype='object')"
      ]
     },
     "execution_count": 6,
     "metadata": {},
     "output_type": "execute_result"
    }
   ],
   "source": [
    "df = df.rename(columns={\"  userID\": \"user_id\", \"Track\": \"track\", \"  City  \": \"city\",\"Day\": \"day\"})\n",
    "\n",
    "df.columns"
   ]
  },
  {
   "cell_type": "markdown",
   "metadata": {
    "id": "5ISfbcfY_Zct"
   },
   "source": [
    "### Пропуски значений"
   ]
  },
  {
   "cell_type": "code",
   "execution_count": 7,
   "metadata": {
    "id": "RskX29qr_Zct"
   },
   "outputs": [
    {
     "data": {
      "text/plain": [
       "user_id       0\n",
       "track      1231\n",
       "artist     7203\n",
       "genre      1198\n",
       "city          0\n",
       "time          0\n",
       "day           0\n",
       "dtype: int64"
      ]
     },
     "execution_count": 7,
     "metadata": {},
     "output_type": "execute_result"
    }
   ],
   "source": [
    "df.isna().sum()"
   ]
  },
  {
   "cell_type": "code",
   "execution_count": 8,
   "metadata": {
    "id": "KplB5qWs_Zct"
   },
   "outputs": [
    {
     "name": "stdout",
     "output_type": "stream",
     "text": [
      "track\n",
      "artist\n",
      "genre\n"
     ]
    }
   ],
   "source": [
    "columns_to_replace = ['track', 'artist', 'genre'] # перебор названий столбцов в цикле и замена пропущенных значений на 'unknown'\n",
    "for column in columns_to_replace:\n",
    "    print(column)\n",
    "    df[column] = df[column].fillna('unknown')"
   ]
  },
  {
   "cell_type": "code",
   "execution_count": 9,
   "metadata": {
    "id": "Tq4nYRX4_Zct",
    "scrolled": true
   },
   "outputs": [
    {
     "data": {
      "text/plain": [
       "user_id    0\n",
       "track      0\n",
       "artist     0\n",
       "genre      0\n",
       "city       0\n",
       "time       0\n",
       "day        0\n",
       "dtype: int64"
      ]
     },
     "execution_count": 9,
     "metadata": {},
     "output_type": "execute_result"
    }
   ],
   "source": [
    "df.isna().sum()"
   ]
  },
  {
   "cell_type": "markdown",
   "metadata": {
    "id": "BWKRtBJ3_Zct"
   },
   "source": [
    "### Дубликаты\n",
    "Посчитайте явные дубликаты в таблице одной командой:"
   ]
  },
  {
   "cell_type": "code",
   "execution_count": 46,
   "metadata": {
    "id": "36eES_S0_Zct"
   },
   "outputs": [
    {
     "data": {
      "text/plain": [
       "0"
      ]
     },
     "execution_count": 46,
     "metadata": {},
     "output_type": "execute_result"
    }
   ],
   "source": [
    "df.duplicated().sum()"
   ]
  },
  {
   "cell_type": "code",
   "execution_count": 11,
   "metadata": {
    "id": "exFHq6tt_Zct"
   },
   "outputs": [],
   "source": [
    "df = df.drop_duplicates().reset_index(drop=True)"
   ]
  },
  {
   "cell_type": "code",
   "execution_count": 12,
   "metadata": {
    "id": "-8PuNWQ0_Zct"
   },
   "outputs": [
    {
     "data": {
      "text/plain": [
       "0"
      ]
     },
     "execution_count": 12,
     "metadata": {},
     "output_type": "execute_result"
    }
   ],
   "source": [
    "df.duplicated().sum()"
   ]
  },
  {
   "cell_type": "markdown",
   "metadata": {
    "id": "QlFBsxAr_Zct"
   },
   "source": [
    "Проверим неявные дубликаты в `genre`."
   ]
  },
  {
   "cell_type": "code",
   "execution_count": 47,
   "metadata": {
    "id": "JIUcqzZN_Zct"
   },
   "outputs": [
    {
     "data": {
      "text/plain": [
       "array(['acid', 'acoustic', 'action', 'adult', 'africa', 'afrikaans',\n",
       "       'alternative', 'alternativepunk', 'ambient', 'americana',\n",
       "       'animated', 'anime', 'arabesk', 'arabic', 'arena',\n",
       "       'argentinetango', 'art', 'audiobook', 'author', 'avantgarde',\n",
       "       'axé', 'baile', 'balkan', 'beats', 'bigroom', 'black', 'bluegrass',\n",
       "       'blues', 'bollywood', 'bossa', 'brazilian', 'breakbeat', 'breaks',\n",
       "       'broadway', 'cantautori', 'cantopop', 'canzone', 'caribbean',\n",
       "       'caucasian', 'celtic', 'chamber', 'chanson', 'children', 'chill',\n",
       "       'chinese', 'choral', 'christian', 'christmas', 'classical',\n",
       "       'classicmetal', 'club', 'colombian', 'comedy', 'conjazz',\n",
       "       'contemporary', 'country', 'cuban', 'dance', 'dancehall',\n",
       "       'dancepop', 'dark', 'death', 'deep', 'deutschrock', 'deutschspr',\n",
       "       'dirty', 'disco', 'dnb', 'documentary', 'downbeat', 'downtempo',\n",
       "       'drum', 'dub', 'dubstep', 'eastern', 'easy', 'electronic',\n",
       "       'electropop', 'emo', 'entehno', 'epicmetal', 'estrada', 'ethnic',\n",
       "       'eurofolk', 'european', 'experimental', 'extrememetal', 'fado',\n",
       "       'fairytail', 'film', 'fitness', 'flamenco', 'folk', 'folklore',\n",
       "       'folkmetal', 'folkrock', 'folktronica', 'forró', 'frankreich',\n",
       "       'französisch', 'french', 'funk', 'future', 'gangsta', 'garage',\n",
       "       'german', 'ghazal', 'gitarre', 'glitch', 'gospel', 'gothic',\n",
       "       'grime', 'grunge', 'gypsy', 'handsup', \"hard'n'heavy\", 'hardcore',\n",
       "       'hardstyle', 'hardtechno', 'hiphop', 'historisch', 'holiday',\n",
       "       'horror', 'house', 'hymn', 'idm', 'independent', 'indian', 'indie',\n",
       "       'indipop', 'industrial', 'inspirational', 'instrumental',\n",
       "       'international', 'irish', 'jam', 'japanese', 'jazz', 'jewish',\n",
       "       'jpop', 'jungle', 'k-pop', 'karadeniz', 'karaoke', 'kayokyoku',\n",
       "       'korean', 'laiko', 'latin', 'latino', 'leftfield', 'local',\n",
       "       'lounge', 'loungeelectronic', 'lovers', 'malaysian', 'mandopop',\n",
       "       'marschmusik', 'meditative', 'mediterranean', 'melodic', 'metal',\n",
       "       'metalcore', 'mexican', 'middle', 'minimal', 'miscellaneous',\n",
       "       'modern', 'mood', 'mpb', 'muslim', 'native', 'neoklassik', 'neue',\n",
       "       'new', 'newage', 'newwave', 'nu', 'nujazz', 'numetal', 'oceania',\n",
       "       'old', 'opera', 'orchestral', 'other', 'piano', 'podcasts', 'pop',\n",
       "       'popdance', 'popelectronic', 'popeurodance', 'poprussian', 'post',\n",
       "       'posthardcore', 'postrock', 'power', 'progmetal', 'progressive',\n",
       "       'psychedelic', 'punjabi', 'punk', 'quebecois', 'ragga', 'ram',\n",
       "       'rancheras', 'rap', 'rave', 'reggae', 'reggaeton', 'regional',\n",
       "       'relax', 'religious', 'retro', 'rhythm', 'rnb', 'rnr', 'rock',\n",
       "       'rockabilly', 'rockalternative', 'rockindie', 'rockother',\n",
       "       'romance', 'roots', 'ruspop', 'rusrap', 'rusrock', 'russian',\n",
       "       'salsa', 'samba', 'scenic', 'schlager', 'self', 'sertanejo',\n",
       "       'shanson', 'shoegazing', 'showtunes', 'singer', 'ska', 'skarock',\n",
       "       'slow', 'smooth', 'soft', 'soul', 'soulful', 'sound', 'soundtrack',\n",
       "       'southern', 'specialty', 'speech', 'spiritual', 'sport',\n",
       "       'stonerrock', 'surf', 'swing', 'synthpop', 'synthrock',\n",
       "       'sängerportrait', 'tango', 'tanzorchester', 'taraftar', 'tatar',\n",
       "       'tech', 'techno', 'teen', 'thrash', 'top', 'traditional',\n",
       "       'tradjazz', 'trance', 'tribal', 'trip', 'triphop', 'tropical',\n",
       "       'türk', 'türkçe', 'ukrrock', 'unknown', 'urban', 'uzbek',\n",
       "       'variété', 'vi', 'videogame', 'vocal', 'western', 'world',\n",
       "       'worldbeat', 'ïîï', 'электроника'], dtype=object)"
      ]
     },
     "execution_count": 47,
     "metadata": {},
     "output_type": "execute_result"
    }
   ],
   "source": [
    "df['genre'].sort_values().unique()"
   ]
  },
  {
   "cell_type": "code",
   "execution_count": 48,
   "metadata": {
    "id": "ErNDkmns_Zct"
   },
   "outputs": [],
   "source": [
    "def replace_wrong_genres(wrong_genres, correct_genre):\n",
    "    for wrong_genre in wrong_genres:\n",
    "        df['genre'] = df['genre'].replace(wrong_genre, correct_genre)"
   ]
  },
  {
   "cell_type": "code",
   "execution_count": 49,
   "metadata": {
    "id": "YN5i2hpmSo09"
   },
   "outputs": [],
   "source": [
    "wrong_genres_list = ['hip', 'hop', 'hip-hop']\n",
    "replace_wrong_genres(wrong_genres_list, 'hiphop')"
   ]
  },
  {
   "cell_type": "code",
   "execution_count": 50,
   "metadata": {},
   "outputs": [
    {
     "data": {
      "text/plain": [
       "0"
      ]
     },
     "execution_count": 50,
     "metadata": {},
     "output_type": "execute_result"
    }
   ],
   "source": [
    "df.duplicated().sum()"
   ]
  },
  {
   "cell_type": "markdown",
   "metadata": {
    "id": "jz6a9-7HQUDd"
   },
   "source": [
    "**Выводы**\n",
    "\n",
    "Устранены дубликаты, заполнены пропуски, заголовки приведены к требуемому виду.\n"
   ]
  },
  {
   "cell_type": "markdown",
   "metadata": {
    "id": "WttZHXH0SqKk"
   },
   "source": [
    "## Проверка гипотез"
   ]
  },
  {
   "cell_type": "markdown",
   "metadata": {
    "id": "Im936VVi_Zcu"
   },
   "source": [
    "### Сравнение поведения пользователей двух столиц"
   ]
  },
  {
   "cell_type": "markdown",
   "metadata": {
    "id": "nwt_MuaL_Zcu"
   },
   "source": [
    "Проверим гипотезу, что пользователи в Москве и Санкт-Петербурге различаются в музыкальных вкусах.\n"
   ]
  },
  {
   "cell_type": "code",
   "execution_count": 51,
   "metadata": {
    "id": "0_Qs96oh_Zcu",
    "scrolled": true
   },
   "outputs": [
    {
     "data": {
      "text/plain": [
       "city\n",
       "Moscow              42741\n",
       "Saint-Petersburg    18512\n",
       "Name: genre, dtype: int64"
      ]
     },
     "execution_count": 51,
     "metadata": {},
     "output_type": "execute_result"
    }
   ],
   "source": [
    "df.groupby('city')['genre'].count()"
   ]
  },
  {
   "cell_type": "markdown",
   "metadata": {
    "id": "dzli3w8o_Zcu"
   },
   "source": [
    "Посмотрим распределение по дням недели."
   ]
  },
  {
   "cell_type": "code",
   "execution_count": 52,
   "metadata": {
    "id": "uZMKjiJz_Zcu"
   },
   "outputs": [
    {
     "data": {
      "text/plain": [
       "day\n",
       "Friday       21840\n",
       "Monday       21354\n",
       "Wednesday    18059\n",
       "Name: genre, dtype: int64"
      ]
     },
     "execution_count": 52,
     "metadata": {},
     "output_type": "execute_result"
    }
   ],
   "source": [
    "df.groupby('day')['genre'].count()"
   ]
  },
  {
   "cell_type": "code",
   "execution_count": 53,
   "metadata": {},
   "outputs": [
    {
     "data": {
      "text/plain": [
       "array(['Wednesday', 'Friday', 'Monday'], dtype=object)"
      ]
     },
     "execution_count": 53,
     "metadata": {},
     "output_type": "execute_result"
    }
   ],
   "source": [
    "df['day'].unique()"
   ]
  },
  {
   "cell_type": "markdown",
   "metadata": {
    "id": "cC2tNrlL_Zcu"
   },
   "source": [
    "В среднем пользователи из двух городов менее активны по средам. Но картина может измениться, если рассмотреть каждый город в отдельности."
   ]
  },
  {
   "cell_type": "code",
   "execution_count": 54,
   "metadata": {
    "id": "Nz3GdQB1_Zcu"
   },
   "outputs": [],
   "source": [
    "def number_tracks(day, city):\n",
    "    track_list = df[(df['day'] == day) & (df['city'] == city)]\n",
    "    track_list_count = track_list['user_id'].count()\n",
    "    return track_list_count\n"
   ]
  },
  {
   "cell_type": "markdown",
   "metadata": {
    "id": "ytf7xFrFJQ2r"
   },
   "source": [
    "Вызовите `number_tracks()` шесть раз, меняя значение параметров — так, чтобы получить данные для каждого города в каждый из трёх дней."
   ]
  },
  {
   "cell_type": "code",
   "execution_count": 28,
   "metadata": {},
   "outputs": [
    {
     "name": "stdout",
     "output_type": "stream",
     "text": [
      "Moscow Wednesday 11056\n",
      "Moscow Friday 15945\n",
      "Moscow Monday 15740\n",
      "Saint-Petersburg Wednesday 7003\n",
      "Saint-Petersburg Friday 5895\n",
      "Saint-Petersburg Monday 5614\n"
     ]
    }
   ],
   "source": [
    "intrest_city_list = ['Moscow', 'Saint-Petersburg']\n",
    "\n",
    "\n",
    "for city in intrest_city_list:\n",
    "    for day in df['day'].unique():\n",
    "        print(city, day, number_tracks(day, city))\n",
    "        "
   ]
  },
  {
   "cell_type": "code",
   "execution_count": 72,
   "metadata": {},
   "outputs": [
    {
     "data": {
      "text/html": [
       "<div>\n",
       "<style scoped>\n",
       "    .dataframe tbody tr th:only-of-type {\n",
       "        vertical-align: middle;\n",
       "    }\n",
       "\n",
       "    .dataframe tbody tr th {\n",
       "        vertical-align: top;\n",
       "    }\n",
       "\n",
       "    .dataframe thead th {\n",
       "        text-align: right;\n",
       "    }\n",
       "</style>\n",
       "<table border=\"1\" class=\"dataframe\">\n",
       "  <thead>\n",
       "    <tr style=\"text-align: right;\">\n",
       "      <th></th>\n",
       "      <th></th>\n",
       "      <th>track</th>\n",
       "    </tr>\n",
       "    <tr>\n",
       "      <th>city</th>\n",
       "      <th>day</th>\n",
       "      <th></th>\n",
       "    </tr>\n",
       "  </thead>\n",
       "  <tbody>\n",
       "    <tr>\n",
       "      <th rowspan=\"3\" valign=\"top\">Moscow</th>\n",
       "      <th>Friday</th>\n",
       "      <td>15945</td>\n",
       "    </tr>\n",
       "    <tr>\n",
       "      <th>Monday</th>\n",
       "      <td>15740</td>\n",
       "    </tr>\n",
       "    <tr>\n",
       "      <th>Wednesday</th>\n",
       "      <td>11056</td>\n",
       "    </tr>\n",
       "    <tr>\n",
       "      <th rowspan=\"3\" valign=\"top\">Saint-Petersburg</th>\n",
       "      <th>Friday</th>\n",
       "      <td>5895</td>\n",
       "    </tr>\n",
       "    <tr>\n",
       "      <th>Monday</th>\n",
       "      <td>5614</td>\n",
       "    </tr>\n",
       "    <tr>\n",
       "      <th>Wednesday</th>\n",
       "      <td>7003</td>\n",
       "    </tr>\n",
       "  </tbody>\n",
       "</table>\n",
       "</div>"
      ],
      "text/plain": [
       "                            track\n",
       "city             day             \n",
       "Moscow           Friday     15945\n",
       "                 Monday     15740\n",
       "                 Wednesday  11056\n",
       "Saint-Petersburg Friday      5895\n",
       "                 Monday      5614\n",
       "                 Wednesday   7003"
      ]
     },
     "execution_count": 72,
     "metadata": {},
     "output_type": "execute_result"
    }
   ],
   "source": [
    "df.pivot_table(index = ['city', 'day'], values = ['track'], aggfunc='count')"
   ]
  },
  {
   "cell_type": "markdown",
   "metadata": {
    "id": "-EgPIHYu_Zcu"
   },
   "source": [
    "**Выводы**\n",
    "\n",
    "Данные показывают разницу поведения пользователей:\n",
    "\n",
    "- В Москве пик прослушиваний приходится на понедельник и пятницу, а в среду заметен спад.\n",
    "- В Петербурге, наоборот, больше слушают музыку по средам. Активность в понедельник и пятницу здесь почти в равной мере уступает среде.\n",
    "\n",
    "Значит, данные говорят в пользу первой гипотезы."
   ]
  },
  {
   "cell_type": "markdown",
   "metadata": {
    "id": "atZAxtq4_Zcu"
   },
   "source": [
    "### Музыка в начале и в конце недели"
   ]
  },
  {
   "cell_type": "markdown",
   "metadata": {
    "id": "eXrQqXFH_Zcu"
   },
   "source": [
    "Согласно второй гипотезе, утром в понедельник в Москве преобладают одни жанры, а в Петербурге — другие. Так же и вечером пятницы преобладают разные жанры — в зависимости от города."
   ]
  },
  {
   "cell_type": "markdown",
   "metadata": {
    "id": "S8UcW6Hw_Zcu"
   },
   "source": [
    "Сохраните таблицы с данными в две переменные:\n",
    "* по Москве — в `moscow_general`;\n",
    "* по Санкт-Петербургу — в `spb_general`."
   ]
  },
  {
   "cell_type": "code",
   "execution_count": 73,
   "metadata": {
    "id": "qeaFfM_P_Zcu"
   },
   "outputs": [],
   "source": [
    "moscow_general = df[df['city'] == 'Moscow']\n",
    "spb_general = df[df['city'] == 'Saint-Petersburg']"
   ]
  },
  {
   "cell_type": "code",
   "execution_count": 85,
   "metadata": {
    "id": "ORaVRKto_Zcu"
   },
   "outputs": [
    {
     "data": {
      "text/html": [
       "<div>\n",
       "<style scoped>\n",
       "    .dataframe tbody tr th:only-of-type {\n",
       "        vertical-align: middle;\n",
       "    }\n",
       "\n",
       "    .dataframe tbody tr th {\n",
       "        vertical-align: top;\n",
       "    }\n",
       "\n",
       "    .dataframe thead th {\n",
       "        text-align: right;\n",
       "    }\n",
       "</style>\n",
       "<table border=\"1\" class=\"dataframe\">\n",
       "  <thead>\n",
       "    <tr style=\"text-align: right;\">\n",
       "      <th></th>\n",
       "      <th>user_id</th>\n",
       "      <th>track</th>\n",
       "      <th>artist</th>\n",
       "      <th>genre</th>\n",
       "      <th>city</th>\n",
       "      <th>time</th>\n",
       "      <th>day</th>\n",
       "    </tr>\n",
       "  </thead>\n",
       "  <tbody>\n",
       "    <tr>\n",
       "      <th>1</th>\n",
       "      <td>55204538</td>\n",
       "      <td>Delayed Because of Accident</td>\n",
       "      <td>Andreas Rönnberg</td>\n",
       "      <td>rock</td>\n",
       "      <td>Moscow</td>\n",
       "      <td>14:07:09</td>\n",
       "      <td>Friday</td>\n",
       "    </tr>\n",
       "    <tr>\n",
       "      <th>4</th>\n",
       "      <td>E2DC1FAE</td>\n",
       "      <td>Soul People</td>\n",
       "      <td>Space Echo</td>\n",
       "      <td>dance</td>\n",
       "      <td>Moscow</td>\n",
       "      <td>08:34:34</td>\n",
       "      <td>Monday</td>\n",
       "    </tr>\n",
       "    <tr>\n",
       "      <th>6</th>\n",
       "      <td>4CB90AA5</td>\n",
       "      <td>True</td>\n",
       "      <td>Roman Messer</td>\n",
       "      <td>dance</td>\n",
       "      <td>Moscow</td>\n",
       "      <td>13:00:07</td>\n",
       "      <td>Wednesday</td>\n",
       "    </tr>\n",
       "    <tr>\n",
       "      <th>7</th>\n",
       "      <td>F03E1C1F</td>\n",
       "      <td>Feeling This Way</td>\n",
       "      <td>Polina Griffith</td>\n",
       "      <td>dance</td>\n",
       "      <td>Moscow</td>\n",
       "      <td>20:47:49</td>\n",
       "      <td>Wednesday</td>\n",
       "    </tr>\n",
       "    <tr>\n",
       "      <th>8</th>\n",
       "      <td>8FA1D3BE</td>\n",
       "      <td>И вновь продолжается бой</td>\n",
       "      <td>unknown</td>\n",
       "      <td>ruspop</td>\n",
       "      <td>Moscow</td>\n",
       "      <td>09:17:40</td>\n",
       "      <td>Friday</td>\n",
       "    </tr>\n",
       "    <tr>\n",
       "      <th>...</th>\n",
       "      <td>...</td>\n",
       "      <td>...</td>\n",
       "      <td>...</td>\n",
       "      <td>...</td>\n",
       "      <td>...</td>\n",
       "      <td>...</td>\n",
       "      <td>...</td>\n",
       "    </tr>\n",
       "    <tr>\n",
       "      <th>61247</th>\n",
       "      <td>83A474E7</td>\n",
       "      <td>I Worship Only What You Bleed</td>\n",
       "      <td>The Black Dahlia Murder</td>\n",
       "      <td>extrememetal</td>\n",
       "      <td>Moscow</td>\n",
       "      <td>21:07:12</td>\n",
       "      <td>Monday</td>\n",
       "    </tr>\n",
       "    <tr>\n",
       "      <th>61248</th>\n",
       "      <td>729CBB09</td>\n",
       "      <td>My Name</td>\n",
       "      <td>McLean</td>\n",
       "      <td>rnb</td>\n",
       "      <td>Moscow</td>\n",
       "      <td>13:32:28</td>\n",
       "      <td>Wednesday</td>\n",
       "    </tr>\n",
       "    <tr>\n",
       "      <th>61250</th>\n",
       "      <td>C5E3A0D5</td>\n",
       "      <td>Jalopiina</td>\n",
       "      <td>unknown</td>\n",
       "      <td>industrial</td>\n",
       "      <td>Moscow</td>\n",
       "      <td>20:09:26</td>\n",
       "      <td>Friday</td>\n",
       "    </tr>\n",
       "    <tr>\n",
       "      <th>61251</th>\n",
       "      <td>321D0506</td>\n",
       "      <td>Freight Train</td>\n",
       "      <td>Chas McDevitt</td>\n",
       "      <td>rock</td>\n",
       "      <td>Moscow</td>\n",
       "      <td>21:43:59</td>\n",
       "      <td>Friday</td>\n",
       "    </tr>\n",
       "    <tr>\n",
       "      <th>61252</th>\n",
       "      <td>3A64EF84</td>\n",
       "      <td>Tell Me Sweet Little Lies</td>\n",
       "      <td>Monica Lopez</td>\n",
       "      <td>country</td>\n",
       "      <td>Moscow</td>\n",
       "      <td>21:59:46</td>\n",
       "      <td>Friday</td>\n",
       "    </tr>\n",
       "  </tbody>\n",
       "</table>\n",
       "<p>42741 rows × 7 columns</p>\n",
       "</div>"
      ],
      "text/plain": [
       "        user_id                          track                   artist  \\\n",
       "1      55204538    Delayed Because of Accident         Andreas Rönnberg   \n",
       "4      E2DC1FAE                    Soul People               Space Echo   \n",
       "6      4CB90AA5                           True             Roman Messer   \n",
       "7      F03E1C1F               Feeling This Way          Polina Griffith   \n",
       "8      8FA1D3BE       И вновь продолжается бой                  unknown   \n",
       "...         ...                            ...                      ...   \n",
       "61247  83A474E7  I Worship Only What You Bleed  The Black Dahlia Murder   \n",
       "61248  729CBB09                        My Name                   McLean   \n",
       "61250  C5E3A0D5                      Jalopiina                  unknown   \n",
       "61251  321D0506                  Freight Train            Chas McDevitt   \n",
       "61252  3A64EF84      Tell Me Sweet Little Lies             Monica Lopez   \n",
       "\n",
       "              genre    city      time        day  \n",
       "1              rock  Moscow  14:07:09     Friday  \n",
       "4             dance  Moscow  08:34:34     Monday  \n",
       "6             dance  Moscow  13:00:07  Wednesday  \n",
       "7             dance  Moscow  20:47:49  Wednesday  \n",
       "8            ruspop  Moscow  09:17:40     Friday  \n",
       "...             ...     ...       ...        ...  \n",
       "61247  extrememetal  Moscow  21:07:12     Monday  \n",
       "61248           rnb  Moscow  13:32:28  Wednesday  \n",
       "61250    industrial  Moscow  20:09:26     Friday  \n",
       "61251          rock  Moscow  21:43:59     Friday  \n",
       "61252       country  Moscow  21:59:46     Friday  \n",
       "\n",
       "[42741 rows x 7 columns]"
      ]
     },
     "metadata": {},
     "output_type": "display_data"
    }
   ],
   "source": [
    "display(moscow_general)"
   ]
  },
  {
   "cell_type": "markdown",
   "metadata": {
    "id": "MEJV-CX2_Zcu"
   },
   "source": [
    "Создайте функцию `genre_weekday()` с четырьмя параметрами:\n",
    "* таблица (датафрейм) с данными,\n",
    "* день недели,\n",
    "* начальная временная метка в формате 'hh:mm', \n",
    "* последняя временная метка в формате 'hh:mm'.\n",
    "\n",
    "Функция должна вернуть информацию о топ-10 жанров тех треков, которые прослушивали в указанный день, в промежутке между двумя отметками времени."
   ]
  },
  {
   "cell_type": "code",
   "execution_count": 89,
   "metadata": {
    "id": "laJT9BYl_Zcu"
   },
   "outputs": [],
   "source": [
    "\n",
    "def genre_weekday(table, day, time1, time2):\n",
    "    genre_df = table[table['day'] == day]\n",
    "    genre_df = genre_df[genre_df['time'] > time1]\n",
    "    genre_df = genre_df[genre_df['time'] < time2]\n",
    "    genre_df_count = genre_df.groupby('genre')['city'].count()\n",
    "    genre_df_sorted = genre_df_count.sort_values(ascending=False)\n",
    "    return genre_df_sorted.head(10)\n"
   ]
  },
  {
   "cell_type": "markdown",
   "metadata": {
    "id": "la2s2_PF_Zcu"
   },
   "source": [
    "Сравним какие жанры слушают в Москве и Санкт-Петербурге в понедельник утром (с 7:00 до 11:00) и в пятницу вечером (с 17:00 до 23:00)"
   ]
  },
  {
   "cell_type": "code",
   "execution_count": 90,
   "metadata": {
    "id": "yz7itPUQ_Zcu"
   },
   "outputs": [
    {
     "data": {
      "text/plain": [
       "genre\n",
       "pop            781\n",
       "dance          549\n",
       "electronic     480\n",
       "rock           474\n",
       "hiphop         286\n",
       "ruspop         186\n",
       "world          181\n",
       "rusrap         175\n",
       "alternative    164\n",
       "unknown        161\n",
       "Name: city, dtype: int64"
      ]
     },
     "execution_count": 90,
     "metadata": {},
     "output_type": "execute_result"
    }
   ],
   "source": [
    "genre_weekday(moscow_general, 'Monday', '07:00', '11:00')"
   ]
  },
  {
   "cell_type": "code",
   "execution_count": 92,
   "metadata": {
    "id": "kwUcHPdy_Zcu"
   },
   "outputs": [
    {
     "data": {
      "text/plain": [
       "genre\n",
       "pop            218\n",
       "dance          182\n",
       "rock           162\n",
       "electronic     147\n",
       "hiphop          80\n",
       "ruspop          64\n",
       "alternative     58\n",
       "rusrap          55\n",
       "jazz            44\n",
       "classical       40\n",
       "Name: city, dtype: int64"
      ]
     },
     "execution_count": 92,
     "metadata": {},
     "output_type": "execute_result"
    }
   ],
   "source": [
    "genre_weekday(spb_general, 'Monday', '07:00', '11:00')    "
   ]
  },
  {
   "cell_type": "code",
   "execution_count": 93,
   "metadata": {
    "id": "EzXVRE1o_Zcu"
   },
   "outputs": [
    {
     "data": {
      "text/plain": [
       "genre\n",
       "pop            713\n",
       "rock           517\n",
       "dance          495\n",
       "electronic     482\n",
       "hiphop         273\n",
       "world          208\n",
       "ruspop         170\n",
       "alternative    163\n",
       "classical      163\n",
       "rusrap         142\n",
       "Name: city, dtype: int64"
      ]
     },
     "execution_count": 93,
     "metadata": {},
     "output_type": "execute_result"
    }
   ],
   "source": [
    "genre_weekday(moscow_general, 'Friday', '17:00', '23:00')"
   ]
  },
  {
   "cell_type": "code",
   "execution_count": 95,
   "metadata": {
    "id": "JZaEKu5v_Zcu"
   },
   "outputs": [
    {
     "data": {
      "text/plain": [
       "genre\n",
       "pop            256\n",
       "electronic     216\n",
       "rock           216\n",
       "dance          210\n",
       "hiphop          97\n",
       "alternative     63\n",
       "jazz            61\n",
       "classical       60\n",
       "rusrap          59\n",
       "world           54\n",
       "Name: city, dtype: int64"
      ]
     },
     "execution_count": 95,
     "metadata": {},
     "output_type": "execute_result"
    }
   ],
   "source": [
    "genre_weekday(spb_general, 'Friday', '17:00', '23:00')"
   ]
  },
  {
   "cell_type": "markdown",
   "metadata": {
    "id": "wrCe4MNX_Zcu"
   },
   "source": [
    "**Выводы**\n",
    "\n",
    "Если сравнить топ-10 жанров в понедельник утром, можно сделать такие выводы:\n",
    "\n",
    "1. В Москве и Петербурге слушают похожую музыку. Единственное отличие — в московский рейтинг вошёл жанр “world”, а в петербургский — джаз и классика.\n",
    "\n",
    "2. В Москве пропущенных значений оказалось так много, что значение `'unknown'` заняло десятое место среди самых популярных жанров. Значит, пропущенные значения занимают существенную долю в данных и угрожают достоверности исследования.\n",
    "\n",
    "Вечер пятницы не меняет эту картину. Некоторые жанры поднимаются немного выше, другие спускаются, но в целом топ-10 остаётся тем же самым.\n",
    "\n",
    "Таким образом, вторая гипотеза подтвердилась лишь частично:\n",
    "* Пользователи слушают похожую музыку в начале недели и в конце.\n",
    "* Разница между Москвой и Петербургом не слишком выражена. В Москве чаще слушают русскую популярную музыку, в Петербурге — джаз.\n",
    "\n",
    "Однако пропуски в данных ставят под сомнение этот результат. В Москве их так много, что рейтинг топ-10 мог бы выглядеть иначе, если бы не утерянные  данные о жанрах."
   ]
  },
  {
   "cell_type": "markdown",
   "metadata": {
    "id": "JolODAqr_Zcu"
   },
   "source": [
    "### Жанровые предпочтения в Москве и Петербурге\n",
    "\n",
    "Проверим гипотезу: Петербург — столица рэпа, там его слушают чаще, чем в Москве. А в Москве в основном слушают поп-музыку. Проверим топ-10 жанров (по прослушиваниям) в столицах."
   ]
  },
  {
   "cell_type": "code",
   "execution_count": 127,
   "metadata": {
    "id": "r19lIPke_Zcu"
   },
   "outputs": [
    {
     "data": {
      "text/plain": [
       "genre\n",
       "pop            5892\n",
       "dance          4435\n",
       "rock           3965\n",
       "electronic     3786\n",
       "hiphop         2096\n",
       "classical      1616\n",
       "world          1432\n",
       "alternative    1379\n",
       "ruspop         1372\n",
       "rusrap         1161\n",
       "Name: city, dtype: int64"
      ]
     },
     "execution_count": 127,
     "metadata": {},
     "output_type": "execute_result"
    }
   ],
   "source": [
    "moscow_genres = moscow_general.groupby('genre')['city'].count().sort_values(ascending=False)\n",
    "moscow_genres.head(10)"
   ]
  },
  {
   "cell_type": "code",
   "execution_count": 128,
   "metadata": {
    "id": "gluLIpE7_Zcv"
   },
   "outputs": [
    {
     "data": {
      "text/plain": [
       "genre\n",
       "pop            2431\n",
       "dance          1932\n",
       "rock           1879\n",
       "electronic     1736\n",
       "hiphop          960\n",
       "alternative     649\n",
       "classical       646\n",
       "rusrap          564\n",
       "ruspop          538\n",
       "world           515\n",
       "Name: city, dtype: int64"
      ]
     },
     "execution_count": 128,
     "metadata": {},
     "output_type": "execute_result"
    }
   ],
   "source": [
    "spb_genres = spb_general.groupby('genre')['city'].count().sort_values(ascending=False)\n",
    "spb_genres.head(10)"
   ]
  },
  {
   "cell_type": "code",
   "execution_count": 107,
   "metadata": {},
   "outputs": [
    {
     "data": {
      "text/plain": [
       "pandas.core.series.Series"
      ]
     },
     "execution_count": 107,
     "metadata": {},
     "output_type": "execute_result"
    }
   ],
   "source": [
    "type(spb_genres.head(10))"
   ]
  },
  {
   "cell_type": "code",
   "execution_count": 123,
   "metadata": {},
   "outputs": [],
   "source": [
    "final_table=pd.concat([moscow_genres,spb_genres], names=['Series name', 'Row ID'], axis=1)\n",
    "final_table.columns = ['Moscow','Saint-petersburg']"
   ]
  },
  {
   "cell_type": "markdown",
   "metadata": {
    "id": "RY51YJYu_Zcv"
   },
   "source": [
    "**Выводы**"
   ]
  },
  {
   "cell_type": "markdown",
   "metadata": {
    "id": "nVhnJEm__Zcv"
   },
   "source": [
    "Гипотеза частично подтвердилась:\n",
    "* Поп-музыка — самый популярный жанр в Москве, как и предполагала гипотеза. Более того, в топ-10 жанров встречается близкий жанр — русская популярная музыка.\n",
    "* Вопреки ожиданиям, рэп одинаково популярен в Москве и Петербурге. \n"
   ]
  },
  {
   "cell_type": "markdown",
   "metadata": {
    "id": "ykKQ0N65_Zcv"
   },
   "source": [
    "## Итоги исследования"
   ]
  },
  {
   "cell_type": "markdown",
   "metadata": {
    "id": "tjUwbHb3_Zcv"
   },
   "source": [
    "мы проверили три гипотезы и установили:\n",
    "\n",
    "1. День недели по-разному влияет на активность пользователей в Москве и Петербурге. \n",
    "\n",
    "Первая гипотеза полностью подтвердилась.\n",
    "\n",
    "2. Музыкальные предпочтения не сильно меняются в течение недели — будь то Москва или Петербург. Небольшие различия заметны в начале недели, по понедельникам:\n",
    "* в Москве слушают музыку жанра “world”,\n",
    "* в Петербурге — джаз и классику.\n",
    "\n",
    "Таким образом, вторая гипотеза подтвердилась лишь отчасти. Этот результат мог оказаться иным, если бы не пропуски в данных.\n",
    "\n",
    "3. Во вкусах пользователей Москвы и Петербурга больше общего чем различий. Вопреки ожиданиям, предпочтения жанров в Петербурге напоминают московские.\n",
    "\n",
    "Третья гипотеза не подтвердилась. Если различия в предпочтениях и существуют, на основной массе пользователей они незаметны.\n",
    "\n",
    "**Все выводы основаны на данных пользователей приложения, но не могут в полной мере описывать всех жителей городов.**"
   ]
  },
  {
   "cell_type": "code",
   "execution_count": 131,
   "metadata": {},
   "outputs": [
    {
     "data": {
      "text/html": [
       "<div>\n",
       "<style scoped>\n",
       "    .dataframe tbody tr th:only-of-type {\n",
       "        vertical-align: middle;\n",
       "    }\n",
       "\n",
       "    .dataframe tbody tr th {\n",
       "        vertical-align: top;\n",
       "    }\n",
       "\n",
       "    .dataframe thead th {\n",
       "        text-align: right;\n",
       "    }\n",
       "</style>\n",
       "<table border=\"1\" class=\"dataframe\">\n",
       "  <thead>\n",
       "    <tr style=\"text-align: right;\">\n",
       "      <th></th>\n",
       "      <th>Moscow</th>\n",
       "      <th>Saint-petersburg</th>\n",
       "    </tr>\n",
       "    <tr>\n",
       "      <th>genre</th>\n",
       "      <th></th>\n",
       "      <th></th>\n",
       "    </tr>\n",
       "  </thead>\n",
       "  <tbody>\n",
       "    <tr>\n",
       "      <th>pop</th>\n",
       "      <td>5892.0</td>\n",
       "      <td>2431.0</td>\n",
       "    </tr>\n",
       "    <tr>\n",
       "      <th>dance</th>\n",
       "      <td>4435.0</td>\n",
       "      <td>1932.0</td>\n",
       "    </tr>\n",
       "    <tr>\n",
       "      <th>rock</th>\n",
       "      <td>3965.0</td>\n",
       "      <td>1879.0</td>\n",
       "    </tr>\n",
       "    <tr>\n",
       "      <th>electronic</th>\n",
       "      <td>3786.0</td>\n",
       "      <td>1736.0</td>\n",
       "    </tr>\n",
       "    <tr>\n",
       "      <th>hiphop</th>\n",
       "      <td>2096.0</td>\n",
       "      <td>960.0</td>\n",
       "    </tr>\n",
       "    <tr>\n",
       "      <th>classical</th>\n",
       "      <td>1616.0</td>\n",
       "      <td>646.0</td>\n",
       "    </tr>\n",
       "    <tr>\n",
       "      <th>world</th>\n",
       "      <td>1432.0</td>\n",
       "      <td>515.0</td>\n",
       "    </tr>\n",
       "    <tr>\n",
       "      <th>alternative</th>\n",
       "      <td>1379.0</td>\n",
       "      <td>649.0</td>\n",
       "    </tr>\n",
       "    <tr>\n",
       "      <th>ruspop</th>\n",
       "      <td>1372.0</td>\n",
       "      <td>538.0</td>\n",
       "    </tr>\n",
       "    <tr>\n",
       "      <th>rusrap</th>\n",
       "      <td>1161.0</td>\n",
       "      <td>564.0</td>\n",
       "    </tr>\n",
       "    <tr>\n",
       "      <th>jazz</th>\n",
       "      <td>980.0</td>\n",
       "      <td>486.0</td>\n",
       "    </tr>\n",
       "    <tr>\n",
       "      <th>unknown</th>\n",
       "      <td>849.0</td>\n",
       "      <td>278.0</td>\n",
       "    </tr>\n",
       "  </tbody>\n",
       "</table>\n",
       "</div>"
      ],
      "text/plain": [
       "             Moscow  Saint-petersburg\n",
       "genre                                \n",
       "pop          5892.0            2431.0\n",
       "dance        4435.0            1932.0\n",
       "rock         3965.0            1879.0\n",
       "electronic   3786.0            1736.0\n",
       "hiphop       2096.0             960.0\n",
       "classical    1616.0             646.0\n",
       "world        1432.0             515.0\n",
       "alternative  1379.0             649.0\n",
       "ruspop       1372.0             538.0\n",
       "rusrap       1161.0             564.0\n",
       "jazz          980.0             486.0\n",
       "unknown       849.0             278.0"
      ]
     },
     "execution_count": 131,
     "metadata": {},
     "output_type": "execute_result"
    }
   ],
   "source": [
    "final_table.head(12)"
   ]
  },
  {
   "cell_type": "code",
   "execution_count": null,
   "metadata": {},
   "outputs": [],
   "source": []
  }
 ],
 "metadata": {
  "ExecuteTimeLog": [
   {
    "duration": 637,
    "start_time": "2022-02-20T17:52:38.334Z"
   },
   {
    "duration": 81,
    "start_time": "2022-02-20T17:53:17.060Z"
   },
   {
    "duration": 80,
    "start_time": "2022-02-20T17:53:34.327Z"
   },
   {
    "duration": 309,
    "start_time": "2022-02-20T17:53:36.414Z"
   },
   {
    "duration": 256,
    "start_time": "2022-02-20T17:53:41.035Z"
   },
   {
    "duration": 157,
    "start_time": "2022-02-20T17:53:55.092Z"
   },
   {
    "duration": 92,
    "start_time": "2022-02-20T17:54:02.020Z"
   },
   {
    "duration": 91,
    "start_time": "2022-02-20T17:54:10.799Z"
   },
   {
    "duration": 87,
    "start_time": "2022-02-20T17:54:12.248Z"
   },
   {
    "duration": 257,
    "start_time": "2022-02-20T17:54:14.588Z"
   },
   {
    "duration": 77,
    "start_time": "2022-02-20T17:54:18.284Z"
   },
   {
    "duration": 155,
    "start_time": "2022-02-20T17:55:13.711Z"
   },
   {
    "duration": 20,
    "start_time": "2022-02-20T17:55:32.656Z"
   },
   {
    "duration": 27,
    "start_time": "2022-02-20T17:56:39.794Z"
   },
   {
    "duration": 434,
    "start_time": "2022-02-20T17:57:39.459Z"
   },
   {
    "duration": 239,
    "start_time": "2022-02-20T17:57:43.497Z"
   },
   {
    "duration": 369,
    "start_time": "2022-02-20T17:57:47.671Z"
   },
   {
    "duration": 20,
    "start_time": "2022-02-20T17:58:12.226Z"
   },
   {
    "duration": 1712,
    "start_time": "2022-02-20T17:58:18.967Z"
   },
   {
    "duration": 2112,
    "start_time": "2022-02-20T17:58:28.900Z"
   },
   {
    "duration": 1876,
    "start_time": "2022-02-20T17:58:36.057Z"
   },
   {
    "duration": 5,
    "start_time": "2022-02-20T17:59:18.046Z"
   },
   {
    "duration": 4,
    "start_time": "2022-02-20T17:59:21.374Z"
   },
   {
    "duration": 4,
    "start_time": "2022-02-20T18:01:09.701Z"
   },
   {
    "duration": 5,
    "start_time": "2022-02-20T18:01:16.711Z"
   },
   {
    "duration": 6,
    "start_time": "2022-02-20T18:01:30.423Z"
   },
   {
    "duration": 5,
    "start_time": "2022-02-20T18:01:36.249Z"
   },
   {
    "duration": 5,
    "start_time": "2022-02-20T18:02:06.348Z"
   },
   {
    "duration": 32,
    "start_time": "2022-02-20T18:02:25.074Z"
   },
   {
    "duration": 31,
    "start_time": "2022-02-20T18:02:32.395Z"
   },
   {
    "duration": 29,
    "start_time": "2022-02-20T18:03:34.588Z"
   },
   {
    "duration": 26,
    "start_time": "2022-02-20T18:03:53.654Z"
   },
   {
    "duration": 41,
    "start_time": "2022-02-20T18:04:00.840Z"
   },
   {
    "duration": 42,
    "start_time": "2022-02-20T18:04:17.002Z"
   },
   {
    "duration": 3,
    "start_time": "2022-02-20T18:06:01.802Z"
   },
   {
    "duration": 18,
    "start_time": "2022-02-20T18:07:36.869Z"
   },
   {
    "duration": 25,
    "start_time": "2022-02-20T18:07:46.798Z"
   },
   {
    "duration": 19,
    "start_time": "2022-02-20T18:07:51.842Z"
   },
   {
    "duration": 25,
    "start_time": "2022-02-20T18:07:53.180Z"
   },
   {
    "duration": 26,
    "start_time": "2022-02-20T18:08:51.105Z"
   },
   {
    "duration": 25,
    "start_time": "2022-02-20T18:08:52.440Z"
   },
   {
    "duration": 15,
    "start_time": "2022-02-20T18:09:03.007Z"
   },
   {
    "duration": 18,
    "start_time": "2022-02-20T18:09:19.346Z"
   },
   {
    "duration": 17,
    "start_time": "2022-02-20T18:09:43.384Z"
   },
   {
    "duration": 25,
    "start_time": "2022-02-20T18:10:05.223Z"
   },
   {
    "duration": 28,
    "start_time": "2022-02-20T18:10:10.236Z"
   },
   {
    "duration": 25,
    "start_time": "2022-02-20T18:10:23.146Z"
   },
   {
    "duration": 2,
    "start_time": "2022-02-20T18:10:40.968Z"
   },
   {
    "duration": 154,
    "start_time": "2022-02-20T18:10:40.972Z"
   },
   {
    "duration": 12,
    "start_time": "2022-02-20T18:10:41.128Z"
   },
   {
    "duration": 30,
    "start_time": "2022-02-20T18:10:41.142Z"
   },
   {
    "duration": 10,
    "start_time": "2022-02-20T18:10:41.174Z"
   },
   {
    "duration": 27,
    "start_time": "2022-02-20T18:10:41.186Z"
   },
   {
    "duration": 9,
    "start_time": "2022-02-20T18:10:41.215Z"
   },
   {
    "duration": 26,
    "start_time": "2022-02-20T18:10:41.226Z"
   },
   {
    "duration": 22,
    "start_time": "2022-02-20T18:10:41.254Z"
   },
   {
    "duration": 39,
    "start_time": "2022-02-20T18:10:41.278Z"
   },
   {
    "duration": 3,
    "start_time": "2022-02-20T18:10:46.210Z"
   },
   {
    "duration": 2,
    "start_time": "2022-02-20T18:10:57.156Z"
   },
   {
    "duration": 150,
    "start_time": "2022-02-20T18:10:57.584Z"
   },
   {
    "duration": 12,
    "start_time": "2022-02-20T18:10:57.928Z"
   },
   {
    "duration": 28,
    "start_time": "2022-02-20T18:10:59.371Z"
   },
   {
    "duration": 5,
    "start_time": "2022-02-20T18:11:02.676Z"
   },
   {
    "duration": 4,
    "start_time": "2022-02-20T18:11:04.420Z"
   },
   {
    "duration": 6,
    "start_time": "2022-02-20T18:11:05.874Z"
   },
   {
    "duration": 26,
    "start_time": "2022-02-20T18:11:08.965Z"
   },
   {
    "duration": 18,
    "start_time": "2022-02-20T18:11:12.678Z"
   },
   {
    "duration": 25,
    "start_time": "2022-02-20T18:11:20.245Z"
   },
   {
    "duration": 21,
    "start_time": "2022-02-20T18:11:41.888Z"
   },
   {
    "duration": 25,
    "start_time": "2022-02-20T18:11:43.350Z"
   },
   {
    "duration": 71,
    "start_time": "2022-02-20T18:12:23.210Z"
   },
   {
    "duration": 81,
    "start_time": "2022-02-20T18:13:10.673Z"
   },
   {
    "duration": 63,
    "start_time": "2022-02-20T18:13:23.730Z"
   },
   {
    "duration": 72,
    "start_time": "2022-02-20T18:13:32.724Z"
   },
   {
    "duration": 57,
    "start_time": "2022-02-20T18:13:34.660Z"
   },
   {
    "duration": 8,
    "start_time": "2022-02-20T18:14:05.760Z"
   },
   {
    "duration": 9,
    "start_time": "2022-02-20T18:14:21.108Z"
   },
   {
    "duration": 8,
    "start_time": "2022-02-20T18:14:26.112Z"
   },
   {
    "duration": 6,
    "start_time": "2022-02-20T18:15:25.522Z"
   },
   {
    "duration": 248,
    "start_time": "2022-02-20T18:16:05.269Z"
   },
   {
    "duration": 232,
    "start_time": "2022-02-20T18:16:37.279Z"
   },
   {
    "duration": 10,
    "start_time": "2022-02-20T18:17:11.513Z"
   },
   {
    "duration": 257,
    "start_time": "2022-02-20T18:17:23.048Z"
   },
   {
    "duration": 7,
    "start_time": "2022-02-20T18:17:34.524Z"
   },
   {
    "duration": 6,
    "start_time": "2022-02-20T18:17:39.184Z"
   },
   {
    "duration": 253,
    "start_time": "2022-02-20T18:17:50.208Z"
   },
   {
    "duration": 9,
    "start_time": "2022-02-20T18:18:03.160Z"
   },
   {
    "duration": 272,
    "start_time": "2022-02-20T18:18:20.739Z"
   },
   {
    "duration": 313,
    "start_time": "2022-02-20T18:18:45.957Z"
   },
   {
    "duration": 7,
    "start_time": "2022-02-20T18:18:59.934Z"
   },
   {
    "duration": 8,
    "start_time": "2022-02-20T18:20:06.427Z"
   },
   {
    "duration": 311,
    "start_time": "2022-02-20T18:21:37.353Z"
   },
   {
    "duration": 7,
    "start_time": "2022-02-20T18:21:45.187Z"
   },
   {
    "duration": 7,
    "start_time": "2022-02-20T18:21:46.698Z"
   },
   {
    "duration": 7,
    "start_time": "2022-02-20T18:21:52.979Z"
   },
   {
    "duration": 11,
    "start_time": "2022-02-20T18:23:19.063Z"
   },
   {
    "duration": 8,
    "start_time": "2022-02-20T18:23:41.500Z"
   },
   {
    "duration": 4,
    "start_time": "2022-02-20T18:27:32.139Z"
   },
   {
    "duration": 3,
    "start_time": "2022-02-20T18:36:02.808Z"
   },
   {
    "duration": 12,
    "start_time": "2022-02-20T18:36:32.276Z"
   },
   {
    "duration": 11,
    "start_time": "2022-02-20T18:36:33.437Z"
   },
   {
    "duration": 8,
    "start_time": "2022-02-20T18:36:50.365Z"
   },
   {
    "duration": 48,
    "start_time": "2022-02-20T18:39:55.872Z"
   },
   {
    "duration": 60,
    "start_time": "2022-02-20T18:40:00.043Z"
   },
   {
    "duration": 58,
    "start_time": "2022-02-20T18:40:08.481Z"
   },
   {
    "duration": 61,
    "start_time": "2022-02-20T18:40:24.277Z"
   },
   {
    "duration": 7,
    "start_time": "2022-02-20T18:41:00.699Z"
   },
   {
    "duration": 42,
    "start_time": "2022-02-20T18:47:52.456Z"
   },
   {
    "duration": 25,
    "start_time": "2022-02-20T18:48:20.723Z"
   },
   {
    "duration": 24,
    "start_time": "2022-02-20T18:49:02.843Z"
   },
   {
    "duration": 33,
    "start_time": "2022-02-20T18:51:24.551Z"
   },
   {
    "duration": 4,
    "start_time": "2022-02-20T19:13:19.919Z"
   },
   {
    "duration": -32,
    "start_time": "2022-02-20T19:14:07.031Z"
   },
   {
    "duration": 6664,
    "start_time": "2022-02-20T19:14:26.560Z"
   },
   {
    "duration": -18,
    "start_time": "2022-02-20T19:14:33.245Z"
   },
   {
    "duration": 3,
    "start_time": "2022-02-20T19:14:36.987Z"
   },
   {
    "duration": 6778,
    "start_time": "2022-02-20T19:14:38.556Z"
   },
   {
    "duration": 6479,
    "start_time": "2022-02-20T19:14:55.450Z"
   },
   {
    "duration": 4,
    "start_time": "2022-02-20T19:15:04.211Z"
   },
   {
    "duration": 4,
    "start_time": "2022-02-20T19:15:06.124Z"
   },
   {
    "duration": 6412,
    "start_time": "2022-02-20T19:15:07.754Z"
   },
   {
    "duration": 3,
    "start_time": "2022-02-20T19:16:51.328Z"
   },
   {
    "duration": 4,
    "start_time": "2022-02-20T19:16:56.287Z"
   },
   {
    "duration": 6809,
    "start_time": "2022-02-20T19:16:59.508Z"
   },
   {
    "duration": 4,
    "start_time": "2022-02-20T19:18:28.437Z"
   },
   {
    "duration": 6951,
    "start_time": "2022-02-20T19:18:29.903Z"
   },
   {
    "duration": 4,
    "start_time": "2022-02-20T19:19:25.681Z"
   },
   {
    "duration": 6778,
    "start_time": "2022-02-20T19:19:28.323Z"
   },
   {
    "duration": 240,
    "start_time": "2022-02-20T19:20:11.643Z"
   },
   {
    "duration": 289,
    "start_time": "2022-02-20T19:20:19.453Z"
   },
   {
    "duration": 242,
    "start_time": "2022-02-20T19:20:24.578Z"
   },
   {
    "duration": 6,
    "start_time": "2022-02-20T19:20:43.584Z"
   },
   {
    "duration": 6252,
    "start_time": "2022-02-20T19:20:53.199Z"
   },
   {
    "duration": 5,
    "start_time": "2022-02-20T19:21:12.122Z"
   },
   {
    "duration": 6567,
    "start_time": "2022-02-20T19:21:24.806Z"
   },
   {
    "duration": 6180,
    "start_time": "2022-02-20T19:21:41.208Z"
   },
   {
    "duration": 7173,
    "start_time": "2022-02-20T19:22:14.784Z"
   },
   {
    "duration": 6845,
    "start_time": "2022-02-20T19:22:31.864Z"
   },
   {
    "duration": 5987,
    "start_time": "2022-02-20T19:22:54.589Z"
   },
   {
    "duration": 13,
    "start_time": "2022-02-20T19:23:55.395Z"
   },
   {
    "duration": 17,
    "start_time": "2022-02-20T19:24:05.853Z"
   },
   {
    "duration": 3,
    "start_time": "2022-02-20T19:24:51.796Z"
   },
   {
    "duration": 538,
    "start_time": "2022-02-20T19:24:56.073Z"
   },
   {
    "duration": 5,
    "start_time": "2022-02-20T19:25:48.334Z"
   },
   {
    "duration": 16,
    "start_time": "2022-02-20T19:25:52.270Z"
   },
   {
    "duration": 16,
    "start_time": "2022-02-20T19:25:57.227Z"
   },
   {
    "duration": 4,
    "start_time": "2022-02-20T19:26:05.262Z"
   },
   {
    "duration": 18,
    "start_time": "2022-02-20T19:26:06.750Z"
   },
   {
    "duration": 17,
    "start_time": "2022-02-20T19:26:42.019Z"
   },
   {
    "duration": 19,
    "start_time": "2022-02-20T19:27:50.975Z"
   },
   {
    "duration": 16,
    "start_time": "2022-02-20T19:27:52.072Z"
   },
   {
    "duration": 19,
    "start_time": "2022-02-20T19:27:52.930Z"
   },
   {
    "duration": 16,
    "start_time": "2022-02-20T19:27:54.177Z"
   },
   {
    "duration": 7,
    "start_time": "2022-02-20T19:29:54.235Z"
   },
   {
    "duration": 228,
    "start_time": "2022-02-20T19:32:56.349Z"
   },
   {
    "duration": 10,
    "start_time": "2022-02-20T19:34:35.643Z"
   },
   {
    "duration": 12,
    "start_time": "2022-02-20T19:34:44.310Z"
   },
   {
    "duration": 10,
    "start_time": "2022-02-20T19:37:28.582Z"
   },
   {
    "duration": 696,
    "start_time": "2022-02-21T05:58:09.174Z"
   },
   {
    "duration": 261,
    "start_time": "2022-02-21T05:59:33.241Z"
   },
   {
    "duration": 244,
    "start_time": "2022-02-21T06:00:38.270Z"
   },
   {
    "duration": 3,
    "start_time": "2022-02-21T06:01:06.635Z"
   },
   {
    "duration": 726,
    "start_time": "2022-02-21T06:01:19.247Z"
   },
   {
    "duration": 178,
    "start_time": "2022-02-21T06:01:19.976Z"
   },
   {
    "duration": 37,
    "start_time": "2022-02-21T06:01:20.157Z"
   },
   {
    "duration": 32,
    "start_time": "2022-02-21T06:01:20.197Z"
   },
   {
    "duration": 6,
    "start_time": "2022-02-21T06:01:20.231Z"
   },
   {
    "duration": 7,
    "start_time": "2022-02-21T06:01:20.239Z"
   },
   {
    "duration": 10,
    "start_time": "2022-02-21T06:01:20.248Z"
   },
   {
    "duration": 64,
    "start_time": "2022-02-21T06:01:20.260Z"
   },
   {
    "duration": 24,
    "start_time": "2022-02-21T06:01:20.329Z"
   },
   {
    "duration": 57,
    "start_time": "2022-02-21T06:01:20.356Z"
   },
   {
    "duration": 104,
    "start_time": "2022-02-21T06:01:20.416Z"
   },
   {
    "duration": 134,
    "start_time": "2022-02-21T06:01:20.523Z"
   },
   {
    "duration": 92,
    "start_time": "2022-02-21T06:01:20.660Z"
   },
   {
    "duration": 10,
    "start_time": "2022-02-21T06:01:20.754Z"
   },
   {
    "duration": 4,
    "start_time": "2022-02-21T06:01:20.766Z"
   },
   {
    "duration": 15,
    "start_time": "2022-02-21T06:01:20.794Z"
   },
   {
    "duration": 14,
    "start_time": "2022-02-21T06:01:20.811Z"
   },
   {
    "duration": 31,
    "start_time": "2022-02-21T06:01:20.828Z"
   },
   {
    "duration": 61,
    "start_time": "2022-02-21T06:01:20.861Z"
   },
   {
    "duration": 5,
    "start_time": "2022-02-21T06:01:20.925Z"
   },
   {
    "duration": 28,
    "start_time": "2022-02-21T06:01:20.933Z"
   },
   {
    "duration": 39,
    "start_time": "2022-02-21T06:01:20.964Z"
   },
   {
    "duration": 18,
    "start_time": "2022-02-21T06:01:21.006Z"
   },
   {
    "duration": 17,
    "start_time": "2022-02-21T06:01:21.027Z"
   },
   {
    "duration": 58,
    "start_time": "2022-02-21T06:01:21.046Z"
   },
   {
    "duration": 18,
    "start_time": "2022-02-21T06:01:21.106Z"
   },
   {
    "duration": 12,
    "start_time": "2022-02-21T06:01:21.129Z"
   },
   {
    "duration": 18,
    "start_time": "2022-02-21T06:01:21.144Z"
   },
   {
    "duration": 29,
    "start_time": "2022-02-21T06:01:21.165Z"
   },
   {
    "duration": 6,
    "start_time": "2022-02-21T06:01:21.197Z"
   },
   {
    "duration": 22,
    "start_time": "2022-02-21T06:01:21.206Z"
   },
   {
    "duration": 8,
    "start_time": "2022-02-21T06:01:21.231Z"
   },
   {
    "duration": 9,
    "start_time": "2022-02-21T06:01:21.242Z"
   },
   {
    "duration": 7,
    "start_time": "2022-02-21T06:01:21.254Z"
   },
   {
    "duration": 10,
    "start_time": "2022-02-21T06:01:21.264Z"
   },
   {
    "duration": 16,
    "start_time": "2022-02-21T06:01:21.277Z"
   },
   {
    "duration": 6,
    "start_time": "2022-02-21T06:01:21.296Z"
   },
   {
    "duration": 9,
    "start_time": "2022-02-21T06:01:21.304Z"
   },
   {
    "duration": 24,
    "start_time": "2022-02-21T06:01:40.950Z"
   },
   {
    "duration": 27,
    "start_time": "2022-02-21T07:21:22.785Z"
   },
   {
    "duration": 17,
    "start_time": "2022-02-21T07:21:53.824Z"
   },
   {
    "duration": 12,
    "start_time": "2022-02-21T07:21:54.886Z"
   },
   {
    "duration": 29,
    "start_time": "2022-02-21T11:08:26.787Z"
   },
   {
    "duration": 297,
    "start_time": "2022-02-21T11:08:33.867Z"
   },
   {
    "duration": 3,
    "start_time": "2022-02-21T11:08:41.228Z"
   },
   {
    "duration": 197,
    "start_time": "2022-02-21T11:08:41.234Z"
   },
   {
    "duration": 16,
    "start_time": "2022-02-21T11:08:41.435Z"
   },
   {
    "duration": 46,
    "start_time": "2022-02-21T11:08:41.453Z"
   },
   {
    "duration": 5,
    "start_time": "2022-02-21T11:08:41.502Z"
   },
   {
    "duration": 7,
    "start_time": "2022-02-21T11:08:41.509Z"
   },
   {
    "duration": 8,
    "start_time": "2022-02-21T11:08:41.519Z"
   },
   {
    "duration": 31,
    "start_time": "2022-02-21T11:08:41.529Z"
   },
   {
    "duration": 23,
    "start_time": "2022-02-21T11:08:41.594Z"
   },
   {
    "duration": 33,
    "start_time": "2022-02-21T11:08:41.620Z"
   },
   {
    "duration": 108,
    "start_time": "2022-02-21T11:08:41.655Z"
   },
   {
    "duration": 100,
    "start_time": "2022-02-21T11:08:41.765Z"
   },
   {
    "duration": 83,
    "start_time": "2022-02-21T11:08:41.867Z"
   },
   {
    "duration": 8,
    "start_time": "2022-02-21T11:08:41.953Z"
   },
   {
    "duration": 7,
    "start_time": "2022-02-21T11:08:41.964Z"
   },
   {
    "duration": 27,
    "start_time": "2022-02-21T11:08:41.974Z"
   },
   {
    "duration": 14,
    "start_time": "2022-02-21T11:08:42.003Z"
   },
   {
    "duration": 28,
    "start_time": "2022-02-21T11:08:42.020Z"
   },
   {
    "duration": 65,
    "start_time": "2022-02-21T11:08:42.052Z"
   },
   {
    "duration": 4,
    "start_time": "2022-02-21T11:08:42.120Z"
   },
   {
    "duration": 28,
    "start_time": "2022-02-21T11:08:42.127Z"
   },
   {
    "duration": 38,
    "start_time": "2022-02-21T11:08:42.157Z"
   },
   {
    "duration": 22,
    "start_time": "2022-02-21T11:08:42.198Z"
   },
   {
    "duration": 22,
    "start_time": "2022-02-21T11:08:42.223Z"
   },
   {
    "duration": 50,
    "start_time": "2022-02-21T11:08:42.247Z"
   },
   {
    "duration": 25,
    "start_time": "2022-02-21T11:08:42.299Z"
   },
   {
    "duration": 21,
    "start_time": "2022-02-21T11:08:42.327Z"
   },
   {
    "duration": 45,
    "start_time": "2022-02-21T11:08:42.350Z"
   },
   {
    "duration": 15,
    "start_time": "2022-02-21T11:08:42.398Z"
   },
   {
    "duration": 6,
    "start_time": "2022-02-21T11:08:42.415Z"
   },
   {
    "duration": 13,
    "start_time": "2022-02-21T11:08:42.424Z"
   },
   {
    "duration": 13,
    "start_time": "2022-02-21T11:08:42.439Z"
   },
   {
    "duration": 9,
    "start_time": "2022-02-21T11:08:42.455Z"
   },
   {
    "duration": 14,
    "start_time": "2022-02-21T11:08:42.467Z"
   },
   {
    "duration": 5,
    "start_time": "2022-02-21T11:08:42.495Z"
   },
   {
    "duration": 6,
    "start_time": "2022-02-21T11:08:42.503Z"
   },
   {
    "duration": 13,
    "start_time": "2022-02-21T11:08:42.512Z"
   },
   {
    "duration": 7,
    "start_time": "2022-02-21T11:08:42.527Z"
   },
   {
    "duration": 8,
    "start_time": "2022-02-21T11:21:11.292Z"
   },
   {
    "duration": 7105,
    "start_time": "2022-02-21T11:23:34.390Z"
   },
   {
    "duration": 5,
    "start_time": "2022-02-21T11:25:59.547Z"
   },
   {
    "duration": 7056,
    "start_time": "2022-02-21T11:26:01.963Z"
   },
   {
    "duration": 79,
    "start_time": "2022-02-21T11:26:47.448Z"
   },
   {
    "duration": 6,
    "start_time": "2022-02-21T11:26:55.296Z"
   },
   {
    "duration": 7827,
    "start_time": "2022-02-21T11:26:57.467Z"
   },
   {
    "duration": 6,
    "start_time": "2022-02-21T11:28:39.236Z"
   },
   {
    "duration": 7642,
    "start_time": "2022-02-21T11:28:40.644Z"
   },
   {
    "duration": 7,
    "start_time": "2022-02-21T11:30:37.731Z"
   },
   {
    "duration": 28,
    "start_time": "2022-02-21T11:30:41.102Z"
   },
   {
    "duration": 6,
    "start_time": "2022-02-21T11:32:07.791Z"
   },
   {
    "duration": 8,
    "start_time": "2022-02-21T11:33:09.676Z"
   },
   {
    "duration": 6,
    "start_time": "2022-02-21T11:33:25.262Z"
   },
   {
    "duration": 24,
    "start_time": "2022-02-21T11:33:27.574Z"
   },
   {
    "duration": 17,
    "start_time": "2022-02-21T11:33:30.317Z"
   },
   {
    "duration": 22,
    "start_time": "2022-02-21T11:33:32.614Z"
   },
   {
    "duration": 16,
    "start_time": "2022-02-21T11:33:34.660Z"
   },
   {
    "duration": 13,
    "start_time": "2022-02-21T11:51:15.943Z"
   },
   {
    "duration": 15,
    "start_time": "2022-02-21T11:51:31.427Z"
   },
   {
    "duration": 14,
    "start_time": "2022-02-21T11:52:02.306Z"
   },
   {
    "duration": 13,
    "start_time": "2022-02-21T11:52:11.027Z"
   },
   {
    "duration": 14,
    "start_time": "2022-02-21T11:52:17.728Z"
   },
   {
    "duration": 14,
    "start_time": "2022-02-21T11:52:21.501Z"
   },
   {
    "duration": 11,
    "start_time": "2022-02-21T11:52:44.867Z"
   },
   {
    "duration": 8,
    "start_time": "2022-02-21T11:52:46.164Z"
   },
   {
    "duration": 8,
    "start_time": "2022-02-21T11:53:27.145Z"
   },
   {
    "duration": 7,
    "start_time": "2022-02-21T11:53:36.922Z"
   },
   {
    "duration": 99,
    "start_time": "2022-02-21T12:44:30.069Z"
   },
   {
    "duration": 839,
    "start_time": "2022-02-22T10:03:29.841Z"
   },
   {
    "duration": 436,
    "start_time": "2022-02-22T10:03:30.683Z"
   },
   {
    "duration": 28,
    "start_time": "2022-02-22T10:03:31.123Z"
   },
   {
    "duration": 55,
    "start_time": "2022-02-22T10:03:31.154Z"
   },
   {
    "duration": 6,
    "start_time": "2022-02-22T10:03:31.211Z"
   },
   {
    "duration": 4,
    "start_time": "2022-02-22T10:03:31.220Z"
   },
   {
    "duration": 7,
    "start_time": "2022-02-22T10:03:31.227Z"
   },
   {
    "duration": 68,
    "start_time": "2022-02-22T10:03:31.238Z"
   },
   {
    "duration": 26,
    "start_time": "2022-02-22T10:03:31.309Z"
   },
   {
    "duration": 58,
    "start_time": "2022-02-22T10:03:31.337Z"
   },
   {
    "duration": 102,
    "start_time": "2022-02-22T10:03:31.398Z"
   },
   {
    "duration": 124,
    "start_time": "2022-02-22T10:03:31.502Z"
   },
   {
    "duration": 89,
    "start_time": "2022-02-22T10:03:31.628Z"
   },
   {
    "duration": 12,
    "start_time": "2022-02-22T10:03:31.720Z"
   },
   {
    "duration": 8,
    "start_time": "2022-02-22T10:03:31.736Z"
   },
   {
    "duration": 19,
    "start_time": "2022-02-22T10:03:31.746Z"
   },
   {
    "duration": 9,
    "start_time": "2022-02-22T10:03:31.794Z"
   },
   {
    "duration": 37,
    "start_time": "2022-02-22T10:03:31.806Z"
   },
   {
    "duration": 103,
    "start_time": "2022-02-22T10:03:31.846Z"
   },
   {
    "duration": 8,
    "start_time": "2022-02-22T10:03:31.952Z"
   },
   {
    "duration": 57,
    "start_time": "2022-02-22T10:03:31.963Z"
   },
   {
    "duration": 19,
    "start_time": "2022-02-22T10:03:32.022Z"
   },
   {
    "duration": 20,
    "start_time": "2022-02-22T10:03:32.046Z"
   },
   {
    "duration": 19,
    "start_time": "2022-02-22T10:03:32.095Z"
   },
   {
    "duration": 22,
    "start_time": "2022-02-22T10:03:32.116Z"
   },
   {
    "duration": 61,
    "start_time": "2022-02-22T10:03:32.140Z"
   },
   {
    "duration": 13,
    "start_time": "2022-02-22T10:03:32.203Z"
   },
   {
    "duration": 39,
    "start_time": "2022-02-22T10:03:32.218Z"
   },
   {
    "duration": 20,
    "start_time": "2022-02-22T10:03:32.259Z"
   },
   {
    "duration": 28,
    "start_time": "2022-02-22T10:03:32.294Z"
   },
   {
    "duration": 38,
    "start_time": "2022-02-22T10:03:32.324Z"
   },
   {
    "duration": 18,
    "start_time": "2022-02-22T10:03:32.364Z"
   },
   {
    "duration": 28,
    "start_time": "2022-02-22T10:03:32.385Z"
   },
   {
    "duration": 17,
    "start_time": "2022-02-22T10:03:32.415Z"
   },
   {
    "duration": 13,
    "start_time": "2022-02-22T10:03:32.434Z"
   },
   {
    "duration": 7,
    "start_time": "2022-02-22T10:03:32.450Z"
   },
   {
    "duration": 41,
    "start_time": "2022-02-22T10:03:32.459Z"
   },
   {
    "duration": 10,
    "start_time": "2022-02-22T10:03:32.502Z"
   },
   {
    "duration": 316,
    "start_time": "2022-02-22T13:52:21.815Z"
   },
   {
    "duration": 271,
    "start_time": "2022-02-22T13:52:24.812Z"
   },
   {
    "duration": 262,
    "start_time": "2022-02-22T13:53:09.839Z"
   },
   {
    "duration": 882,
    "start_time": "2022-02-22T13:56:48.006Z"
   },
   {
    "duration": 204,
    "start_time": "2022-02-22T13:56:48.891Z"
   },
   {
    "duration": 32,
    "start_time": "2022-02-22T13:56:49.098Z"
   },
   {
    "duration": 65,
    "start_time": "2022-02-22T13:56:49.134Z"
   },
   {
    "duration": 39,
    "start_time": "2022-02-22T13:56:49.202Z"
   },
   {
    "duration": 46,
    "start_time": "2022-02-22T13:56:49.244Z"
   },
   {
    "duration": 24,
    "start_time": "2022-02-22T13:56:49.292Z"
   },
   {
    "duration": 56,
    "start_time": "2022-02-22T13:56:49.320Z"
   },
   {
    "duration": 53,
    "start_time": "2022-02-22T13:56:49.378Z"
   },
   {
    "duration": 43,
    "start_time": "2022-02-22T13:56:49.433Z"
   },
   {
    "duration": 103,
    "start_time": "2022-02-22T13:56:49.478Z"
   },
   {
    "duration": 111,
    "start_time": "2022-02-22T13:56:49.583Z"
   },
   {
    "duration": 99,
    "start_time": "2022-02-22T13:56:49.697Z"
   },
   {
    "duration": 367,
    "start_time": "2022-02-22T13:56:54.953Z"
   },
   {
    "duration": 267,
    "start_time": "2022-02-22T13:57:59.419Z"
   },
   {
    "duration": 261,
    "start_time": "2022-02-22T13:58:09.354Z"
   },
   {
    "duration": 263,
    "start_time": "2022-02-22T13:58:30.468Z"
   },
   {
    "duration": 269,
    "start_time": "2022-02-22T13:58:35.957Z"
   },
   {
    "duration": 249,
    "start_time": "2022-02-22T13:58:40.942Z"
   },
   {
    "duration": 7,
    "start_time": "2022-02-22T13:58:54.684Z"
   },
   {
    "duration": 9,
    "start_time": "2022-02-22T13:58:58.187Z"
   },
   {
    "duration": 257,
    "start_time": "2022-02-22T13:59:30.151Z"
   },
   {
    "duration": 246,
    "start_time": "2022-02-22T13:59:54.370Z"
   },
   {
    "duration": 553,
    "start_time": "2022-02-22T14:00:06.142Z"
   },
   {
    "duration": 256,
    "start_time": "2022-02-22T14:00:58.997Z"
   },
   {
    "duration": 65,
    "start_time": "2022-02-22T14:01:13.399Z"
   },
   {
    "duration": 112,
    "start_time": "2022-02-22T14:01:41.284Z"
   },
   {
    "duration": 58,
    "start_time": "2022-02-22T14:09:15.353Z"
   },
   {
    "duration": 4,
    "start_time": "2022-02-22T14:09:19.927Z"
   },
   {
    "duration": 15,
    "start_time": "2022-02-22T14:09:21.625Z"
   },
   {
    "duration": 71,
    "start_time": "2022-02-22T14:09:43.503Z"
   },
   {
    "duration": 62,
    "start_time": "2022-02-22T14:11:15.561Z"
   },
   {
    "duration": 17,
    "start_time": "2022-02-22T14:14:24.493Z"
   },
   {
    "duration": 17,
    "start_time": "2022-02-22T14:14:55.121Z"
   },
   {
    "duration": 363,
    "start_time": "2022-02-22T14:16:16.198Z"
   },
   {
    "duration": 20,
    "start_time": "2022-02-22T14:16:19.532Z"
   },
   {
    "duration": 279,
    "start_time": "2022-02-22T14:16:55.409Z"
   },
   {
    "duration": 15,
    "start_time": "2022-02-22T14:16:59.347Z"
   },
   {
    "duration": 6,
    "start_time": "2022-02-22T14:20:29.671Z"
   },
   {
    "duration": 36,
    "start_time": "2022-02-22T14:20:33.234Z"
   },
   {
    "duration": 5,
    "start_time": "2022-02-22T14:20:58.073Z"
   },
   {
    "duration": 616,
    "start_time": "2022-02-22T14:21:00.764Z"
   },
   {
    "duration": 5,
    "start_time": "2022-02-22T14:21:08.664Z"
   },
   {
    "duration": 1058,
    "start_time": "2022-02-22T14:21:10.192Z"
   },
   {
    "duration": 5,
    "start_time": "2022-02-22T14:21:25.239Z"
   },
   {
    "duration": 27,
    "start_time": "2022-02-22T14:21:27.074Z"
   },
   {
    "duration": 5,
    "start_time": "2022-02-22T14:21:46.410Z"
   },
   {
    "duration": 2400,
    "start_time": "2022-02-22T14:21:48.247Z"
   },
   {
    "duration": 5,
    "start_time": "2022-02-22T14:22:26.455Z"
   },
   {
    "duration": 31,
    "start_time": "2022-02-22T14:22:28.301Z"
   },
   {
    "duration": 5,
    "start_time": "2022-02-22T14:22:43.101Z"
   },
   {
    "duration": 523,
    "start_time": "2022-02-22T14:22:45.051Z"
   },
   {
    "duration": 83,
    "start_time": "2022-02-22T14:22:52.708Z"
   },
   {
    "duration": 5,
    "start_time": "2022-02-22T14:22:58.326Z"
   },
   {
    "duration": 2178,
    "start_time": "2022-02-22T14:22:59.826Z"
   },
   {
    "duration": 5,
    "start_time": "2022-02-22T14:24:07.854Z"
   },
   {
    "duration": 474,
    "start_time": "2022-02-22T14:24:10.350Z"
   },
   {
    "duration": 91,
    "start_time": "2022-02-22T14:24:20.922Z"
   },
   {
    "duration": 5,
    "start_time": "2022-02-22T14:24:24.763Z"
   },
   {
    "duration": 499,
    "start_time": "2022-02-22T14:24:26.740Z"
   },
   {
    "duration": 5,
    "start_time": "2022-02-22T14:26:42.681Z"
   },
   {
    "duration": 2481,
    "start_time": "2022-02-22T14:26:45.859Z"
   },
   {
    "duration": 5,
    "start_time": "2022-02-22T14:27:16.368Z"
   },
   {
    "duration": 2477,
    "start_time": "2022-02-22T14:27:19.146Z"
   },
   {
    "duration": 5,
    "start_time": "2022-02-22T14:27:44.618Z"
   },
   {
    "duration": 6,
    "start_time": "2022-02-22T14:27:47.517Z"
   },
   {
    "duration": 1326,
    "start_time": "2022-02-22T14:27:48.739Z"
   },
   {
    "duration": 5,
    "start_time": "2022-02-22T14:29:24.846Z"
   },
   {
    "duration": 366,
    "start_time": "2022-02-22T14:29:30.877Z"
   },
   {
    "duration": 5,
    "start_time": "2022-02-22T14:29:52.739Z"
   },
   {
    "duration": 3937,
    "start_time": "2022-02-22T14:29:55.552Z"
   },
   {
    "duration": 5,
    "start_time": "2022-02-22T14:30:12.342Z"
   },
   {
    "duration": 17,
    "start_time": "2022-02-22T14:30:14.645Z"
   },
   {
    "duration": 5,
    "start_time": "2022-02-22T14:30:27.764Z"
   },
   {
    "duration": 3802,
    "start_time": "2022-02-22T14:30:31.574Z"
   },
   {
    "duration": 5,
    "start_time": "2022-02-22T14:30:48.915Z"
   },
   {
    "duration": 3918,
    "start_time": "2022-02-22T14:30:51.178Z"
   },
   {
    "duration": 5,
    "start_time": "2022-02-22T14:31:21.598Z"
   },
   {
    "duration": 5,
    "start_time": "2022-02-22T14:31:23.945Z"
   },
   {
    "duration": 30,
    "start_time": "2022-02-22T14:31:26.384Z"
   },
   {
    "duration": 6,
    "start_time": "2022-02-22T14:31:44.844Z"
   },
   {
    "duration": 33,
    "start_time": "2022-02-22T14:31:50.215Z"
   },
   {
    "duration": 5,
    "start_time": "2022-02-22T14:32:02.579Z"
   },
   {
    "duration": 45,
    "start_time": "2022-02-22T14:32:05.377Z"
   },
   {
    "duration": 5,
    "start_time": "2022-02-22T14:32:15.791Z"
   },
   {
    "duration": 39,
    "start_time": "2022-02-22T14:32:17.397Z"
   },
   {
    "duration": 30,
    "start_time": "2022-02-22T14:32:26.665Z"
   },
   {
    "duration": 5,
    "start_time": "2022-02-22T14:32:28.949Z"
   },
   {
    "duration": 22,
    "start_time": "2022-02-22T14:32:30.335Z"
   },
   {
    "duration": 19,
    "start_time": "2022-02-22T14:32:32.987Z"
   },
   {
    "duration": 19,
    "start_time": "2022-02-22T14:35:12.089Z"
   },
   {
    "duration": 6,
    "start_time": "2022-02-22T14:36:27.930Z"
   },
   {
    "duration": 7,
    "start_time": "2022-02-22T14:36:30.515Z"
   },
   {
    "duration": 13,
    "start_time": "2022-02-22T14:37:04.674Z"
   },
   {
    "duration": 13,
    "start_time": "2022-02-22T14:37:14.226Z"
   },
   {
    "duration": 13,
    "start_time": "2022-02-22T14:37:18.696Z"
   },
   {
    "duration": 7,
    "start_time": "2022-02-22T14:48:10.165Z"
   },
   {
    "duration": 287,
    "start_time": "2022-02-22T14:48:14.104Z"
   },
   {
    "duration": 4,
    "start_time": "2022-02-22T14:48:26.697Z"
   },
   {
    "duration": 231,
    "start_time": "2022-02-22T14:48:26.703Z"
   },
   {
    "duration": 17,
    "start_time": "2022-02-22T14:48:26.936Z"
   },
   {
    "duration": 35,
    "start_time": "2022-02-22T14:48:26.956Z"
   },
   {
    "duration": 6,
    "start_time": "2022-02-22T14:48:26.993Z"
   },
   {
    "duration": 4,
    "start_time": "2022-02-22T14:48:27.027Z"
   },
   {
    "duration": 13,
    "start_time": "2022-02-22T14:48:27.035Z"
   },
   {
    "duration": 37,
    "start_time": "2022-02-22T14:48:27.052Z"
   },
   {
    "duration": 56,
    "start_time": "2022-02-22T14:48:27.092Z"
   },
   {
    "duration": 33,
    "start_time": "2022-02-22T14:48:27.150Z"
   },
   {
    "duration": 114,
    "start_time": "2022-02-22T14:48:27.185Z"
   },
   {
    "duration": 116,
    "start_time": "2022-02-22T14:48:27.301Z"
   },
   {
    "duration": 87,
    "start_time": "2022-02-22T14:48:27.419Z"
   },
   {
    "duration": 67,
    "start_time": "2022-02-22T14:48:27.509Z"
   },
   {
    "duration": 4,
    "start_time": "2022-02-22T14:48:27.579Z"
   },
   {
    "duration": 44,
    "start_time": "2022-02-22T14:48:27.586Z"
   },
   {
    "duration": 60,
    "start_time": "2022-02-22T14:48:27.632Z"
   },
   {
    "duration": 39,
    "start_time": "2022-02-22T14:48:27.694Z"
   },
   {
    "duration": 14,
    "start_time": "2022-02-22T14:48:27.738Z"
   },
   {
    "duration": 5,
    "start_time": "2022-02-22T14:48:27.754Z"
   },
   {
    "duration": 26,
    "start_time": "2022-02-22T14:48:27.762Z"
   },
   {
    "duration": 48,
    "start_time": "2022-02-22T14:48:27.790Z"
   },
   {
    "duration": 21,
    "start_time": "2022-02-22T14:48:27.841Z"
   },
   {
    "duration": 19,
    "start_time": "2022-02-22T14:48:27.864Z"
   },
   {
    "duration": 54,
    "start_time": "2022-02-22T14:48:27.886Z"
   },
   {
    "duration": 19,
    "start_time": "2022-02-22T14:48:27.942Z"
   },
   {
    "duration": 14,
    "start_time": "2022-02-22T14:48:27.963Z"
   },
   {
    "duration": 51,
    "start_time": "2022-02-22T14:48:27.979Z"
   },
   {
    "duration": 19,
    "start_time": "2022-02-22T14:48:28.033Z"
   },
   {
    "duration": 7,
    "start_time": "2022-02-22T14:48:28.054Z"
   },
   {
    "duration": 28,
    "start_time": "2022-02-22T14:48:34.595Z"
   },
   {
    "duration": 6,
    "start_time": "2022-02-22T14:49:11.519Z"
   },
   {
    "duration": 7622,
    "start_time": "2022-02-22T14:49:20.935Z"
   },
   {
    "duration": 5,
    "start_time": "2022-02-22T14:49:50.851Z"
   },
   {
    "duration": 6,
    "start_time": "2022-02-22T14:49:52.672Z"
   },
   {
    "duration": 28,
    "start_time": "2022-02-22T14:49:57.134Z"
   },
   {
    "duration": 20,
    "start_time": "2022-02-22T15:01:04.178Z"
   },
   {
    "duration": 24,
    "start_time": "2022-02-22T15:01:05.737Z"
   },
   {
    "duration": 18,
    "start_time": "2022-02-22T15:01:07.137Z"
   },
   {
    "duration": 11,
    "start_time": "2022-02-22T15:01:11.664Z"
   },
   {
    "duration": 7,
    "start_time": "2022-02-22T15:01:13.278Z"
   },
   {
    "duration": 7,
    "start_time": "2022-02-22T15:01:16.306Z"
   },
   {
    "duration": 9,
    "start_time": "2022-02-22T15:01:20.022Z"
   },
   {
    "duration": 7,
    "start_time": "2022-02-22T15:01:23.254Z"
   },
   {
    "duration": 11,
    "start_time": "2022-02-22T15:03:17.049Z"
   },
   {
    "duration": 9,
    "start_time": "2022-02-22T15:03:37.430Z"
   },
   {
    "duration": 95,
    "start_time": "2022-02-22T15:04:06.566Z"
   },
   {
    "duration": 101,
    "start_time": "2022-02-22T15:04:14.573Z"
   },
   {
    "duration": 87,
    "start_time": "2022-02-22T15:04:18.379Z"
   },
   {
    "duration": 88,
    "start_time": "2022-02-22T15:04:43.107Z"
   },
   {
    "duration": 79,
    "start_time": "2022-02-22T15:04:50.462Z"
   },
   {
    "duration": 8,
    "start_time": "2022-02-22T15:04:55.309Z"
   },
   {
    "duration": 4,
    "start_time": "2022-02-22T15:06:47.124Z"
   },
   {
    "duration": 7,
    "start_time": "2022-02-22T15:09:37.241Z"
   },
   {
    "duration": 6,
    "start_time": "2022-02-22T15:09:41.269Z"
   },
   {
    "duration": 216,
    "start_time": "2022-02-22T15:10:25.687Z"
   },
   {
    "duration": 93,
    "start_time": "2022-02-22T15:10:37.484Z"
   },
   {
    "duration": 92,
    "start_time": "2022-02-22T15:10:40.190Z"
   },
   {
    "duration": 81,
    "start_time": "2022-02-22T15:10:43.071Z"
   },
   {
    "duration": 88,
    "start_time": "2022-02-22T15:11:10.109Z"
   },
   {
    "duration": 8,
    "start_time": "2022-02-22T15:11:14.420Z"
   },
   {
    "duration": 262,
    "start_time": "2022-02-22T15:11:21.875Z"
   },
   {
    "duration": 6,
    "start_time": "2022-02-22T15:11:57.483Z"
   },
   {
    "duration": 7,
    "start_time": "2022-02-22T15:12:09.832Z"
   },
   {
    "duration": 8,
    "start_time": "2022-02-22T15:12:35.201Z"
   },
   {
    "duration": 8,
    "start_time": "2022-02-22T15:13:44.347Z"
   },
   {
    "duration": 8,
    "start_time": "2022-02-22T15:14:15.647Z"
   },
   {
    "duration": 254,
    "start_time": "2022-02-22T15:14:49.810Z"
   },
   {
    "duration": 267,
    "start_time": "2022-02-22T15:14:55.432Z"
   },
   {
    "duration": 8,
    "start_time": "2022-02-22T15:15:17.348Z"
   },
   {
    "duration": 8,
    "start_time": "2022-02-22T15:16:40.476Z"
   },
   {
    "duration": 8,
    "start_time": "2022-02-22T15:16:58.576Z"
   },
   {
    "duration": 10,
    "start_time": "2022-02-22T15:17:12.929Z"
   },
   {
    "duration": 12,
    "start_time": "2022-02-22T15:17:22.058Z"
   },
   {
    "duration": 12,
    "start_time": "2022-02-22T15:18:13.546Z"
   },
   {
    "duration": 745,
    "start_time": "2022-02-22T15:27:08.983Z"
   },
   {
    "duration": 196,
    "start_time": "2022-02-22T15:27:09.731Z"
   },
   {
    "duration": 26,
    "start_time": "2022-02-22T15:27:09.930Z"
   },
   {
    "duration": 33,
    "start_time": "2022-02-22T15:27:09.959Z"
   },
   {
    "duration": 34,
    "start_time": "2022-02-22T15:27:09.994Z"
   },
   {
    "duration": 4,
    "start_time": "2022-02-22T15:27:10.030Z"
   },
   {
    "duration": 13,
    "start_time": "2022-02-22T15:27:10.037Z"
   },
   {
    "duration": 34,
    "start_time": "2022-02-22T15:27:10.054Z"
   },
   {
    "duration": 55,
    "start_time": "2022-02-22T15:27:10.091Z"
   },
   {
    "duration": 36,
    "start_time": "2022-02-22T15:27:10.149Z"
   },
   {
    "duration": 116,
    "start_time": "2022-02-22T15:27:10.188Z"
   },
   {
    "duration": 126,
    "start_time": "2022-02-22T15:27:10.307Z"
   },
   {
    "duration": 101,
    "start_time": "2022-02-22T15:27:10.436Z"
   },
   {
    "duration": 92,
    "start_time": "2022-02-22T15:27:10.540Z"
   },
   {
    "duration": 5,
    "start_time": "2022-02-22T15:27:10.634Z"
   },
   {
    "duration": 22,
    "start_time": "2022-02-22T15:27:10.641Z"
   },
   {
    "duration": 61,
    "start_time": "2022-02-22T15:27:10.665Z"
   },
   {
    "duration": 15,
    "start_time": "2022-02-22T15:27:10.729Z"
   },
   {
    "duration": 14,
    "start_time": "2022-02-22T15:27:10.746Z"
   },
   {
    "duration": 5,
    "start_time": "2022-02-22T15:27:10.762Z"
   },
   {
    "duration": 28,
    "start_time": "2022-02-22T15:27:10.769Z"
   },
   {
    "duration": 18,
    "start_time": "2022-02-22T15:27:10.799Z"
   },
   {
    "duration": 20,
    "start_time": "2022-02-22T15:27:10.829Z"
   },
   {
    "duration": 18,
    "start_time": "2022-02-22T15:27:10.852Z"
   },
   {
    "duration": 23,
    "start_time": "2022-02-22T15:27:10.873Z"
   },
   {
    "duration": 33,
    "start_time": "2022-02-22T15:27:10.899Z"
   },
   {
    "duration": 13,
    "start_time": "2022-02-22T15:27:10.934Z"
   },
   {
    "duration": 16,
    "start_time": "2022-02-22T15:27:10.949Z"
   },
   {
    "duration": 12,
    "start_time": "2022-02-22T15:27:10.968Z"
   },
   {
    "duration": 6,
    "start_time": "2022-02-22T15:27:10.984Z"
   },
   {
    "duration": 35,
    "start_time": "2022-02-22T15:27:10.992Z"
   },
   {
    "duration": 18,
    "start_time": "2022-02-22T15:27:11.030Z"
   },
   {
    "duration": 46,
    "start_time": "2022-02-22T15:27:11.051Z"
   },
   {
    "duration": 19,
    "start_time": "2022-02-22T15:27:11.100Z"
   },
   {
    "duration": 25,
    "start_time": "2022-02-22T15:27:11.121Z"
   },
   {
    "duration": 13,
    "start_time": "2022-02-22T15:27:11.148Z"
   },
   {
    "duration": 21,
    "start_time": "2022-02-22T15:27:11.163Z"
   },
   {
    "duration": 20,
    "start_time": "2022-02-22T15:27:11.187Z"
   },
   {
    "duration": 371,
    "start_time": "2022-02-22T17:54:31.164Z"
   },
   {
    "duration": 822,
    "start_time": "2022-02-22T17:54:39.677Z"
   },
   {
    "duration": 151,
    "start_time": "2022-02-22T17:54:42.806Z"
   },
   {
    "duration": 6901,
    "start_time": "2022-02-22T17:54:57.039Z"
   },
   {
    "duration": 658,
    "start_time": "2022-02-22T17:55:13.556Z"
   },
   {
    "duration": 152,
    "start_time": "2022-02-22T17:55:14.216Z"
   },
   {
    "duration": 20,
    "start_time": "2022-02-22T17:55:14.370Z"
   },
   {
    "duration": 72,
    "start_time": "2022-02-22T17:55:14.393Z"
   },
   {
    "duration": 24,
    "start_time": "2022-02-22T17:55:14.468Z"
   },
   {
    "duration": 18,
    "start_time": "2022-02-22T17:55:14.495Z"
   },
   {
    "duration": 13,
    "start_time": "2022-02-22T17:55:14.516Z"
   },
   {
    "duration": 53,
    "start_time": "2022-02-22T17:55:14.532Z"
   },
   {
    "duration": 25,
    "start_time": "2022-02-22T17:55:14.587Z"
   },
   {
    "duration": 35,
    "start_time": "2022-02-22T17:55:14.615Z"
   },
   {
    "duration": 97,
    "start_time": "2022-02-22T17:55:14.652Z"
   },
   {
    "duration": 88,
    "start_time": "2022-02-22T17:55:14.751Z"
   },
   {
    "duration": 67,
    "start_time": "2022-02-22T17:55:14.841Z"
   },
   {
    "duration": 46,
    "start_time": "2022-02-22T17:55:14.910Z"
   },
   {
    "duration": 24,
    "start_time": "2022-02-22T17:55:14.958Z"
   },
   {
    "duration": 50,
    "start_time": "2022-02-22T17:55:14.984Z"
   },
   {
    "duration": 76,
    "start_time": "2022-02-22T17:55:15.036Z"
   },
   {
    "duration": 29,
    "start_time": "2022-02-22T17:55:15.114Z"
   },
   {
    "duration": 19,
    "start_time": "2022-02-22T17:55:15.145Z"
   },
   {
    "duration": 24,
    "start_time": "2022-02-22T17:55:15.166Z"
   },
   {
    "duration": 431,
    "start_time": "2022-02-22T17:55:15.192Z"
   },
   {
    "duration": -867,
    "start_time": "2022-02-22T17:55:16.493Z"
   },
   {
    "duration": -875,
    "start_time": "2022-02-22T17:55:16.503Z"
   },
   {
    "duration": -900,
    "start_time": "2022-02-22T17:55:16.529Z"
   },
   {
    "duration": -906,
    "start_time": "2022-02-22T17:55:16.537Z"
   },
   {
    "duration": -928,
    "start_time": "2022-02-22T17:55:16.560Z"
   },
   {
    "duration": -936,
    "start_time": "2022-02-22T17:55:16.569Z"
   },
   {
    "duration": -949,
    "start_time": "2022-02-22T17:55:16.584Z"
   },
   {
    "duration": -963,
    "start_time": "2022-02-22T17:55:16.599Z"
   },
   {
    "duration": -969,
    "start_time": "2022-02-22T17:55:16.606Z"
   },
   {
    "duration": -981,
    "start_time": "2022-02-22T17:55:16.620Z"
   },
   {
    "duration": -985,
    "start_time": "2022-02-22T17:55:16.626Z"
   },
   {
    "duration": -993,
    "start_time": "2022-02-22T17:55:16.635Z"
   },
   {
    "duration": -1017,
    "start_time": "2022-02-22T17:55:16.661Z"
   },
   {
    "duration": -1022,
    "start_time": "2022-02-22T17:55:16.667Z"
   },
   {
    "duration": -1028,
    "start_time": "2022-02-22T17:55:16.675Z"
   },
   {
    "duration": -1034,
    "start_time": "2022-02-22T17:55:16.682Z"
   },
   {
    "duration": -1040,
    "start_time": "2022-02-22T17:55:16.690Z"
   },
   {
    "duration": -1046,
    "start_time": "2022-02-22T17:55:16.697Z"
   },
   {
    "duration": 6816,
    "start_time": "2022-02-22T17:56:11.305Z"
   },
   {
    "duration": 47,
    "start_time": "2022-02-22T17:56:51.103Z"
   },
   {
    "duration": 348,
    "start_time": "2023-07-23T14:03:13.768Z"
   },
   {
    "duration": 47,
    "start_time": "2023-07-23T14:07:30.019Z"
   },
   {
    "duration": 332,
    "start_time": "2023-07-23T14:07:32.844Z"
   },
   {
    "duration": 166,
    "start_time": "2023-07-23T14:07:33.771Z"
   },
   {
    "duration": 508,
    "start_time": "2023-07-23T14:07:34.669Z"
   },
   {
    "duration": 16,
    "start_time": "2023-07-23T14:10:22.765Z"
   },
   {
    "duration": 20,
    "start_time": "2023-07-23T14:10:44.303Z"
   },
   {
    "duration": 9,
    "start_time": "2023-07-23T14:10:47.463Z"
   },
   {
    "duration": 24,
    "start_time": "2023-07-23T14:10:55.554Z"
   },
   {
    "duration": 4,
    "start_time": "2023-07-23T14:12:22.936Z"
   },
   {
    "duration": 3,
    "start_time": "2023-07-23T14:12:31.002Z"
   },
   {
    "duration": 4,
    "start_time": "2023-07-23T14:12:40.744Z"
   },
   {
    "duration": 109,
    "start_time": "2023-07-23T15:25:25.060Z"
   },
   {
    "duration": 123,
    "start_time": "2023-07-23T15:25:27.366Z"
   },
   {
    "duration": 13,
    "start_time": "2023-07-23T15:27:21.736Z"
   },
   {
    "duration": 37,
    "start_time": "2023-07-23T16:00:05.600Z"
   },
   {
    "duration": 10,
    "start_time": "2023-07-23T16:00:32.259Z"
   },
   {
    "duration": 20,
    "start_time": "2023-07-23T16:01:04.132Z"
   },
   {
    "duration": 82,
    "start_time": "2023-07-23T16:01:14.433Z"
   },
   {
    "duration": 48,
    "start_time": "2023-07-23T16:02:11.686Z"
   },
   {
    "duration": 15,
    "start_time": "2023-07-23T16:06:42.421Z"
   },
   {
    "duration": 3,
    "start_time": "2023-07-23T16:07:10.429Z"
   },
   {
    "duration": 9,
    "start_time": "2023-07-23T16:07:11.143Z"
   },
   {
    "duration": 22,
    "start_time": "2023-07-23T16:07:12.331Z"
   },
   {
    "duration": 4,
    "start_time": "2023-07-23T16:07:14.129Z"
   },
   {
    "duration": 12,
    "start_time": "2023-07-23T16:07:14.665Z"
   },
   {
    "duration": 19,
    "start_time": "2023-07-23T16:07:15.763Z"
   },
   {
    "duration": 17,
    "start_time": "2023-07-23T16:07:16.870Z"
   },
   {
    "duration": 18,
    "start_time": "2023-07-23T16:07:17.677Z"
   },
   {
    "duration": 58,
    "start_time": "2023-07-23T16:07:20.838Z"
   },
   {
    "duration": 387,
    "start_time": "2023-07-23T16:07:31.395Z"
   },
   {
    "duration": 70,
    "start_time": "2023-07-23T16:07:33.161Z"
   },
   {
    "duration": 172,
    "start_time": "2023-07-23T16:07:45.889Z"
   },
   {
    "duration": 15,
    "start_time": "2023-07-23T16:07:46.945Z"
   },
   {
    "duration": 24,
    "start_time": "2023-07-23T16:07:48.328Z"
   },
   {
    "duration": 9,
    "start_time": "2023-07-23T16:07:50.524Z"
   },
   {
    "duration": 13,
    "start_time": "2023-07-23T16:07:51.537Z"
   },
   {
    "duration": 21,
    "start_time": "2023-07-23T16:08:07.094Z"
   },
   {
    "duration": 21,
    "start_time": "2023-07-23T16:08:09.130Z"
   },
   {
    "duration": 16,
    "start_time": "2023-07-23T16:08:10.928Z"
   },
   {
    "duration": 35,
    "start_time": "2023-07-23T16:08:12.052Z"
   },
   {
    "duration": 84,
    "start_time": "2023-07-23T16:08:13.656Z"
   },
   {
    "duration": 87,
    "start_time": "2023-07-23T16:08:14.912Z"
   },
   {
    "duration": 57,
    "start_time": "2023-07-23T16:08:16.403Z"
   },
   {
    "duration": 32,
    "start_time": "2023-07-23T16:08:18.465Z"
   },
   {
    "duration": 3,
    "start_time": "2023-07-23T16:08:21.055Z"
   },
   {
    "duration": 9,
    "start_time": "2023-07-23T16:08:22.735Z"
   },
   {
    "duration": 46,
    "start_time": "2023-07-23T16:08:23.695Z"
   },
   {
    "duration": 9,
    "start_time": "2023-07-23T16:08:27.043Z"
   },
   {
    "duration": 22,
    "start_time": "2023-07-23T16:08:28.297Z"
   },
   {
    "duration": 3,
    "start_time": "2023-07-23T16:54:32.288Z"
   },
   {
    "duration": 29,
    "start_time": "2023-07-23T16:54:56.875Z"
   },
   {
    "duration": 6,
    "start_time": "2023-07-23T16:54:57.906Z"
   },
   {
    "duration": 28,
    "start_time": "2023-07-23T16:54:58.675Z"
   },
   {
    "duration": 6,
    "start_time": "2023-07-23T16:55:52.373Z"
   },
   {
    "duration": 20,
    "start_time": "2023-07-23T16:56:32.965Z"
   },
   {
    "duration": 25,
    "start_time": "2023-07-23T16:56:34.433Z"
   },
   {
    "duration": 14,
    "start_time": "2023-07-23T16:56:35.235Z"
   },
   {
    "duration": 23,
    "start_time": "2023-07-23T16:56:36.100Z"
   },
   {
    "duration": 27,
    "start_time": "2023-07-23T16:56:37.022Z"
   },
   {
    "duration": 25,
    "start_time": "2023-07-23T16:56:37.906Z"
   },
   {
    "duration": 14,
    "start_time": "2023-07-23T16:56:55.728Z"
   },
   {
    "duration": 11,
    "start_time": "2023-07-23T16:57:40.097Z"
   },
   {
    "duration": 8,
    "start_time": "2023-07-23T16:57:46.664Z"
   },
   {
    "duration": 11,
    "start_time": "2023-07-23T16:57:53.562Z"
   },
   {
    "duration": 427,
    "start_time": "2023-07-25T04:40:34.870Z"
   },
   {
    "duration": 242,
    "start_time": "2023-07-25T04:40:35.713Z"
   },
   {
    "duration": 21,
    "start_time": "2023-07-25T04:40:36.922Z"
   },
   {
    "duration": 48,
    "start_time": "2023-07-25T04:40:40.534Z"
   },
   {
    "duration": 5,
    "start_time": "2023-07-25T04:40:48.958Z"
   },
   {
    "duration": 14,
    "start_time": "2023-07-25T04:40:50.093Z"
   },
   {
    "duration": 20,
    "start_time": "2023-07-25T04:40:54.803Z"
   },
   {
    "duration": 16,
    "start_time": "2023-07-25T04:41:04.382Z"
   },
   {
    "duration": 20,
    "start_time": "2023-07-25T04:41:05.006Z"
   },
   {
    "duration": 63,
    "start_time": "2023-07-25T04:41:07.373Z"
   },
   {
    "duration": 80,
    "start_time": "2023-07-25T04:41:09.406Z"
   },
   {
    "duration": 78,
    "start_time": "2023-07-25T04:41:10.206Z"
   },
   {
    "duration": 35,
    "start_time": "2023-07-25T04:41:18.605Z"
   },
   {
    "duration": 4,
    "start_time": "2023-07-25T04:41:24.038Z"
   },
   {
    "duration": 3,
    "start_time": "2023-07-25T04:41:27.094Z"
   },
   {
    "duration": 12,
    "start_time": "2023-07-25T04:41:36.447Z"
   },
   {
    "duration": 51,
    "start_time": "2023-07-25T04:41:40.093Z"
   },
   {
    "duration": 8,
    "start_time": "2023-07-25T04:41:43.102Z"
   },
   {
    "duration": 61,
    "start_time": "2023-07-25T04:42:18.128Z"
   },
   {
    "duration": 10,
    "start_time": "2023-07-25T04:43:04.224Z"
   },
   {
    "duration": 12,
    "start_time": "2023-07-25T04:43:05.832Z"
   },
   {
    "duration": 7,
    "start_time": "2023-07-25T04:43:07.064Z"
   },
   {
    "duration": 3,
    "start_time": "2023-07-25T04:43:09.271Z"
   },
   {
    "duration": 400,
    "start_time": "2023-07-25T04:43:55.248Z"
   },
   {
    "duration": 67,
    "start_time": "2023-07-25T04:44:01.785Z"
   },
   {
    "duration": 84,
    "start_time": "2023-07-25T04:44:18.128Z"
   },
   {
    "duration": 76,
    "start_time": "2023-07-25T04:44:28.400Z"
   },
   {
    "duration": 68,
    "start_time": "2023-07-25T04:44:32.848Z"
   },
   {
    "duration": 9,
    "start_time": "2023-07-25T04:45:15.231Z"
   },
   {
    "duration": 72,
    "start_time": "2023-07-25T04:45:28.553Z"
   },
   {
    "duration": 8,
    "start_time": "2023-07-25T04:46:01.661Z"
   },
   {
    "duration": 10,
    "start_time": "2023-07-25T04:46:08.442Z"
   },
   {
    "duration": 9,
    "start_time": "2023-07-25T04:46:15.339Z"
   },
   {
    "duration": 123,
    "start_time": "2023-07-25T04:56:07.867Z"
   },
   {
    "duration": 39,
    "start_time": "2023-07-25T04:56:13.279Z"
   },
   {
    "duration": 19,
    "start_time": "2023-07-25T04:56:24.869Z"
   },
   {
    "duration": 17,
    "start_time": "2023-07-25T04:58:06.329Z"
   },
   {
    "duration": 7,
    "start_time": "2023-07-25T05:00:12.275Z"
   },
   {
    "duration": 8,
    "start_time": "2023-07-25T05:04:33.034Z"
   },
   {
    "duration": 6,
    "start_time": "2023-07-25T05:05:10.046Z"
   },
   {
    "duration": 14,
    "start_time": "2023-07-25T05:05:50.577Z"
   },
   {
    "duration": 8,
    "start_time": "2023-07-25T05:06:06.430Z"
   },
   {
    "duration": 7,
    "start_time": "2023-07-25T05:06:10.944Z"
   },
   {
    "duration": 716,
    "start_time": "2023-07-25T05:06:39.954Z"
   },
   {
    "duration": 716,
    "start_time": "2023-07-25T05:06:47.122Z"
   },
   {
    "duration": 85,
    "start_time": "2023-07-25T05:24:07.509Z"
   },
   {
    "duration": 55,
    "start_time": "2023-07-25T05:24:10.206Z"
   },
   {
    "duration": 2,
    "start_time": "2023-07-25T05:24:13.139Z"
   },
   {
    "duration": 20,
    "start_time": "2023-07-25T05:24:13.796Z"
   },
   {
    "duration": 60,
    "start_time": "2023-07-25T05:24:14.877Z"
   },
   {
    "duration": 17,
    "start_time": "2023-07-25T05:24:16.748Z"
   },
   {
    "duration": 23,
    "start_time": "2023-07-25T05:24:17.895Z"
   },
   {
    "duration": 7,
    "start_time": "2023-07-25T05:24:19.731Z"
   },
   {
    "duration": 3,
    "start_time": "2023-07-25T05:24:21.660Z"
   },
   {
    "duration": 592,
    "start_time": "2023-07-25T05:24:38.300Z"
   },
   {
    "duration": 29,
    "start_time": "2023-07-25T05:25:11.326Z"
   },
   {
    "duration": 40,
    "start_time": "2023-07-25T05:25:37.496Z"
   },
   {
    "duration": 90,
    "start_time": "2023-07-25T05:25:55.975Z"
   },
   {
    "duration": 25,
    "start_time": "2023-07-25T05:26:19.015Z"
   },
   {
    "duration": 23,
    "start_time": "2023-07-25T05:26:26.425Z"
   },
   {
    "duration": 23,
    "start_time": "2023-07-25T05:26:49.218Z"
   },
   {
    "duration": 36,
    "start_time": "2023-07-25T05:29:22.177Z"
   },
   {
    "duration": 6,
    "start_time": "2023-07-25T05:29:58.249Z"
   },
   {
    "duration": 5,
    "start_time": "2023-07-25T05:30:02.361Z"
   },
   {
    "duration": 3,
    "start_time": "2023-07-25T05:30:19.050Z"
   },
   {
    "duration": 35,
    "start_time": "2023-07-25T05:30:38.694Z"
   },
   {
    "duration": 29,
    "start_time": "2023-07-25T05:30:41.111Z"
   },
   {
    "duration": 37,
    "start_time": "2023-07-25T05:30:45.097Z"
   },
   {
    "duration": 39,
    "start_time": "2023-07-25T05:31:13.315Z"
   },
   {
    "duration": 31,
    "start_time": "2023-07-25T05:31:23.314Z"
   },
   {
    "duration": 38,
    "start_time": "2023-07-25T05:31:40.612Z"
   },
   {
    "duration": 25,
    "start_time": "2023-07-25T05:31:50.415Z"
   },
   {
    "duration": 10,
    "start_time": "2023-07-25T05:32:23.372Z"
   },
   {
    "duration": 12,
    "start_time": "2023-07-25T05:32:25.630Z"
   },
   {
    "duration": 5,
    "start_time": "2023-07-25T05:48:38.559Z"
   },
   {
    "duration": 4,
    "start_time": "2023-07-25T05:49:34.234Z"
   },
   {
    "duration": 17,
    "start_time": "2023-07-25T05:52:33.770Z"
   },
   {
    "duration": 37,
    "start_time": "2023-07-25T05:52:38.993Z"
   },
   {
    "duration": 44,
    "start_time": "2023-07-25T05:52:40.297Z"
   },
   {
    "duration": 18,
    "start_time": "2023-07-25T05:52:42.026Z"
   },
   {
    "duration": 16,
    "start_time": "2023-07-25T05:53:45.178Z"
   },
   {
    "duration": 32,
    "start_time": "2023-07-25T05:53:51.809Z"
   },
   {
    "duration": 22,
    "start_time": "2023-07-25T05:54:32.610Z"
   },
   {
    "duration": 11,
    "start_time": "2023-07-25T05:54:54.859Z"
   },
   {
    "duration": 17,
    "start_time": "2023-07-25T05:55:15.526Z"
   },
   {
    "duration": 7,
    "start_time": "2023-07-25T05:56:53.106Z"
   },
   {
    "duration": 3,
    "start_time": "2023-07-25T05:57:01.769Z"
   },
   {
    "duration": 19,
    "start_time": "2023-07-25T05:57:05.466Z"
   },
   {
    "duration": 6,
    "start_time": "2023-07-25T05:57:29.563Z"
   },
   {
    "duration": 23,
    "start_time": "2023-07-25T05:57:55.951Z"
   },
   {
    "duration": 11,
    "start_time": "2023-07-25T05:57:59.239Z"
   },
   {
    "duration": 12,
    "start_time": "2023-07-25T05:58:00.951Z"
   },
   {
    "duration": 15,
    "start_time": "2023-07-25T05:58:04.439Z"
   },
   {
    "duration": 21,
    "start_time": "2023-07-25T05:58:07.322Z"
   },
   {
    "duration": 17,
    "start_time": "2023-07-25T05:58:09.551Z"
   },
   {
    "duration": 7,
    "start_time": "2023-07-25T05:59:28.042Z"
   },
   {
    "duration": 29,
    "start_time": "2023-07-25T05:59:41.199Z"
   },
   {
    "duration": 8,
    "start_time": "2023-07-25T05:59:57.864Z"
   },
   {
    "duration": 20,
    "start_time": "2023-07-25T06:03:52.501Z"
   },
   {
    "duration": 8,
    "start_time": "2023-07-25T06:04:04.534Z"
   },
   {
    "duration": 186,
    "start_time": "2023-07-25T06:04:47.166Z"
   },
   {
    "duration": 154,
    "start_time": "2023-07-25T06:04:58.942Z"
   },
   {
    "duration": 22,
    "start_time": "2023-07-25T06:05:15.899Z"
   },
   {
    "duration": 39,
    "start_time": "2023-07-25T06:05:51.198Z"
   },
   {
    "duration": 8,
    "start_time": "2023-07-25T06:05:56.357Z"
   },
   {
    "duration": 7,
    "start_time": "2023-07-25T06:06:05.534Z"
   },
   {
    "duration": 3,
    "start_time": "2023-07-25T06:06:58.070Z"
   },
   {
    "duration": 10,
    "start_time": "2023-07-25T06:08:07.383Z"
   },
   {
    "duration": 8,
    "start_time": "2023-07-25T06:10:48.233Z"
   },
   {
    "duration": 11,
    "start_time": "2023-07-25T06:10:50.633Z"
   },
   {
    "duration": 13,
    "start_time": "2023-07-25T06:13:09.826Z"
   },
   {
    "duration": 6,
    "start_time": "2023-07-25T06:13:15.741Z"
   },
   {
    "duration": 11,
    "start_time": "2023-07-25T06:13:23.222Z"
   },
   {
    "duration": 10,
    "start_time": "2023-07-25T06:13:25.476Z"
   },
   {
    "duration": 18,
    "start_time": "2023-07-25T06:15:01.915Z"
   },
   {
    "duration": 965,
    "start_time": "2023-07-25T06:15:22.452Z"
   },
   {
    "duration": 42,
    "start_time": "2023-07-25T06:15:35.095Z"
   },
   {
    "duration": 11,
    "start_time": "2023-07-25T06:15:51.054Z"
   },
   {
    "duration": 11,
    "start_time": "2023-07-25T06:15:54.332Z"
   },
   {
    "duration": 7,
    "start_time": "2023-07-25T06:16:11.234Z"
   },
   {
    "duration": 15,
    "start_time": "2023-07-25T06:16:14.036Z"
   },
   {
    "duration": 870,
    "start_time": "2023-07-25T06:16:23.862Z"
   },
   {
    "duration": 5,
    "start_time": "2023-07-25T06:16:28.143Z"
   },
   {
    "duration": 4,
    "start_time": "2023-07-25T06:16:31.738Z"
   },
   {
    "duration": 20,
    "start_time": "2023-07-25T06:16:37.321Z"
   },
   {
    "duration": 8,
    "start_time": "2023-07-25T06:16:44.780Z"
   },
   {
    "duration": 9,
    "start_time": "2023-07-25T06:17:10.359Z"
   },
   {
    "duration": 7,
    "start_time": "2023-07-25T06:17:11.462Z"
   },
   {
    "duration": 19,
    "start_time": "2023-07-25T06:17:52.494Z"
   },
   {
    "duration": 649,
    "start_time": "2023-07-25T06:26:28.924Z"
   },
   {
    "duration": 9,
    "start_time": "2023-07-25T06:26:39.726Z"
   }
  ],
  "colab": {
   "collapsed_sections": [
    "E0vqbgi9ay0H",
    "VUC88oWjTJw2"
   ],
   "name": "yandex_music_project_2021.2.ipynb",
   "provenance": []
  },
  "kernelspec": {
   "display_name": "Python 3 (ipykernel)",
   "language": "python",
   "name": "python3"
  },
  "language_info": {
   "codemirror_mode": {
    "name": "ipython",
    "version": 3
   },
   "file_extension": ".py",
   "mimetype": "text/x-python",
   "name": "python",
   "nbconvert_exporter": "python",
   "pygments_lexer": "ipython3",
   "version": "3.9.5"
  },
  "toc": {
   "base_numbering": 1,
   "nav_menu": {},
   "number_sections": true,
   "sideBar": true,
   "skip_h1_title": true,
   "title_cell": "Table of Contents",
   "title_sidebar": "Contents",
   "toc_cell": false,
   "toc_position": {
    "height": "calc(100% - 180px)",
    "left": "10px",
    "top": "150px",
    "width": "447.812px"
   },
   "toc_section_display": true,
   "toc_window_display": false
  }
 },
 "nbformat": 4,
 "nbformat_minor": 1
}
