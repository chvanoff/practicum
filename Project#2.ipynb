{
 "cells": [
  {
   "cell_type": "markdown",
   "id": "0514ee36",
   "metadata": {},
   "source": [
    "# Исследование надежности заемщиков.\n",
    "\n"
   ]
  },
  {
   "cell_type": "markdown",
   "id": "e88e3745",
   "metadata": {},
   "source": [
    "Запрос на исследования от кредитного отдела банка. \n",
    "\n",
    "Необходимо выявить, влияет ли семейное положение и количество детей клиента на факт погашения кредита в срок. Входные данные от банка — статистика о платёжеспособности клиентов.\n",
    "\n",
    "На основании диапазонов, указанных ниже, создайте столбец total_income_category с категориями:\n",
    "<br>0–30000 — 'E';\n",
    "<br>30001–50000 — 'D';\n",
    "<br>50001–200000 — 'C';\n",
    "<br>200001–1000000 — 'B';\n",
    "<br>1000001 и выше — 'A'.\n",
    "\n",
    "\n",
    "Результаты исследования будут учтены при построении модели кредитного скоринга."
   ]
  },
  {
   "cell_type": "markdown",
   "id": "ae387f12",
   "metadata": {},
   "source": [
    "## Обзор данных"
   ]
  },
  {
   "cell_type": "markdown",
   "id": "b9b16831",
   "metadata": {},
   "source": [
    "Описание данных:<br>\n",
    "children — количество детей в семье<br>\n",
    "days_employed — общий трудовой стаж в днях<br>\n",
    "dob_years — возраст клиента в годах<br>\n",
    "education — уровень образования клиента<br>\n",
    "education_id — идентификатор уровня образования<br>\n",
    "family_status — семейное положение<br>\n",
    "family_status_id — идентификатор семейного положения<br>\n",
    "gender — пол клиента<br>\n",
    "income_type — тип занятости<br>\n",
    "debt — имел ли задолженность по возврату кредитов<br>\n",
    "total_income — ежемесячный доход<br>\n",
    "purpose — цель получения кредита"
   ]
  },
  {
   "cell_type": "code",
   "execution_count": 1,
   "id": "7fe67d89",
   "metadata": {},
   "outputs": [
    {
     "data": {
      "text/html": [
       "<div>\n",
       "<style scoped>\n",
       "    .dataframe tbody tr th:only-of-type {\n",
       "        vertical-align: middle;\n",
       "    }\n",
       "\n",
       "    .dataframe tbody tr th {\n",
       "        vertical-align: top;\n",
       "    }\n",
       "\n",
       "    .dataframe thead th {\n",
       "        text-align: right;\n",
       "    }\n",
       "</style>\n",
       "<table border=\"1\" class=\"dataframe\">\n",
       "  <thead>\n",
       "    <tr style=\"text-align: right;\">\n",
       "      <th></th>\n",
       "      <th>children</th>\n",
       "      <th>days_employed</th>\n",
       "      <th>dob_years</th>\n",
       "      <th>education</th>\n",
       "      <th>education_id</th>\n",
       "      <th>family_status</th>\n",
       "      <th>family_status_id</th>\n",
       "      <th>gender</th>\n",
       "      <th>income_type</th>\n",
       "      <th>debt</th>\n",
       "      <th>total_income</th>\n",
       "      <th>purpose</th>\n",
       "    </tr>\n",
       "  </thead>\n",
       "  <tbody>\n",
       "    <tr>\n",
       "      <th>0</th>\n",
       "      <td>1</td>\n",
       "      <td>-8437.673028</td>\n",
       "      <td>42</td>\n",
       "      <td>высшее</td>\n",
       "      <td>0</td>\n",
       "      <td>женат / замужем</td>\n",
       "      <td>0</td>\n",
       "      <td>F</td>\n",
       "      <td>сотрудник</td>\n",
       "      <td>0</td>\n",
       "      <td>253875.639453</td>\n",
       "      <td>покупка жилья</td>\n",
       "    </tr>\n",
       "    <tr>\n",
       "      <th>1</th>\n",
       "      <td>1</td>\n",
       "      <td>-4024.803754</td>\n",
       "      <td>36</td>\n",
       "      <td>среднее</td>\n",
       "      <td>1</td>\n",
       "      <td>женат / замужем</td>\n",
       "      <td>0</td>\n",
       "      <td>F</td>\n",
       "      <td>сотрудник</td>\n",
       "      <td>0</td>\n",
       "      <td>112080.014102</td>\n",
       "      <td>приобретение автомобиля</td>\n",
       "    </tr>\n",
       "    <tr>\n",
       "      <th>2</th>\n",
       "      <td>0</td>\n",
       "      <td>-5623.422610</td>\n",
       "      <td>33</td>\n",
       "      <td>Среднее</td>\n",
       "      <td>1</td>\n",
       "      <td>женат / замужем</td>\n",
       "      <td>0</td>\n",
       "      <td>M</td>\n",
       "      <td>сотрудник</td>\n",
       "      <td>0</td>\n",
       "      <td>145885.952297</td>\n",
       "      <td>покупка жилья</td>\n",
       "    </tr>\n",
       "    <tr>\n",
       "      <th>3</th>\n",
       "      <td>3</td>\n",
       "      <td>-4124.747207</td>\n",
       "      <td>32</td>\n",
       "      <td>среднее</td>\n",
       "      <td>1</td>\n",
       "      <td>женат / замужем</td>\n",
       "      <td>0</td>\n",
       "      <td>M</td>\n",
       "      <td>сотрудник</td>\n",
       "      <td>0</td>\n",
       "      <td>267628.550329</td>\n",
       "      <td>дополнительное образование</td>\n",
       "    </tr>\n",
       "    <tr>\n",
       "      <th>4</th>\n",
       "      <td>0</td>\n",
       "      <td>340266.072047</td>\n",
       "      <td>53</td>\n",
       "      <td>среднее</td>\n",
       "      <td>1</td>\n",
       "      <td>гражданский брак</td>\n",
       "      <td>1</td>\n",
       "      <td>F</td>\n",
       "      <td>пенсионер</td>\n",
       "      <td>0</td>\n",
       "      <td>158616.077870</td>\n",
       "      <td>сыграть свадьбу</td>\n",
       "    </tr>\n",
       "    <tr>\n",
       "      <th>5</th>\n",
       "      <td>0</td>\n",
       "      <td>-926.185831</td>\n",
       "      <td>27</td>\n",
       "      <td>высшее</td>\n",
       "      <td>0</td>\n",
       "      <td>гражданский брак</td>\n",
       "      <td>1</td>\n",
       "      <td>M</td>\n",
       "      <td>компаньон</td>\n",
       "      <td>0</td>\n",
       "      <td>255763.565419</td>\n",
       "      <td>покупка жилья</td>\n",
       "    </tr>\n",
       "    <tr>\n",
       "      <th>6</th>\n",
       "      <td>0</td>\n",
       "      <td>-2879.202052</td>\n",
       "      <td>43</td>\n",
       "      <td>высшее</td>\n",
       "      <td>0</td>\n",
       "      <td>женат / замужем</td>\n",
       "      <td>0</td>\n",
       "      <td>F</td>\n",
       "      <td>компаньон</td>\n",
       "      <td>0</td>\n",
       "      <td>240525.971920</td>\n",
       "      <td>операции с жильем</td>\n",
       "    </tr>\n",
       "    <tr>\n",
       "      <th>7</th>\n",
       "      <td>0</td>\n",
       "      <td>-152.779569</td>\n",
       "      <td>50</td>\n",
       "      <td>СРЕДНЕЕ</td>\n",
       "      <td>1</td>\n",
       "      <td>женат / замужем</td>\n",
       "      <td>0</td>\n",
       "      <td>M</td>\n",
       "      <td>сотрудник</td>\n",
       "      <td>0</td>\n",
       "      <td>135823.934197</td>\n",
       "      <td>образование</td>\n",
       "    </tr>\n",
       "    <tr>\n",
       "      <th>8</th>\n",
       "      <td>2</td>\n",
       "      <td>-6929.865299</td>\n",
       "      <td>35</td>\n",
       "      <td>ВЫСШЕЕ</td>\n",
       "      <td>0</td>\n",
       "      <td>гражданский брак</td>\n",
       "      <td>1</td>\n",
       "      <td>F</td>\n",
       "      <td>сотрудник</td>\n",
       "      <td>0</td>\n",
       "      <td>95856.832424</td>\n",
       "      <td>на проведение свадьбы</td>\n",
       "    </tr>\n",
       "    <tr>\n",
       "      <th>9</th>\n",
       "      <td>0</td>\n",
       "      <td>-2188.756445</td>\n",
       "      <td>41</td>\n",
       "      <td>среднее</td>\n",
       "      <td>1</td>\n",
       "      <td>женат / замужем</td>\n",
       "      <td>0</td>\n",
       "      <td>M</td>\n",
       "      <td>сотрудник</td>\n",
       "      <td>0</td>\n",
       "      <td>144425.938277</td>\n",
       "      <td>покупка жилья для семьи</td>\n",
       "    </tr>\n",
       "    <tr>\n",
       "      <th>10</th>\n",
       "      <td>2</td>\n",
       "      <td>-4171.483647</td>\n",
       "      <td>36</td>\n",
       "      <td>высшее</td>\n",
       "      <td>0</td>\n",
       "      <td>женат / замужем</td>\n",
       "      <td>0</td>\n",
       "      <td>M</td>\n",
       "      <td>компаньон</td>\n",
       "      <td>0</td>\n",
       "      <td>113943.491460</td>\n",
       "      <td>покупка недвижимости</td>\n",
       "    </tr>\n",
       "    <tr>\n",
       "      <th>11</th>\n",
       "      <td>0</td>\n",
       "      <td>-792.701887</td>\n",
       "      <td>40</td>\n",
       "      <td>среднее</td>\n",
       "      <td>1</td>\n",
       "      <td>женат / замужем</td>\n",
       "      <td>0</td>\n",
       "      <td>F</td>\n",
       "      <td>сотрудник</td>\n",
       "      <td>0</td>\n",
       "      <td>77069.234271</td>\n",
       "      <td>покупка коммерческой недвижимости</td>\n",
       "    </tr>\n",
       "    <tr>\n",
       "      <th>12</th>\n",
       "      <td>0</td>\n",
       "      <td>NaN</td>\n",
       "      <td>65</td>\n",
       "      <td>среднее</td>\n",
       "      <td>1</td>\n",
       "      <td>гражданский брак</td>\n",
       "      <td>1</td>\n",
       "      <td>M</td>\n",
       "      <td>пенсионер</td>\n",
       "      <td>0</td>\n",
       "      <td>NaN</td>\n",
       "      <td>сыграть свадьбу</td>\n",
       "    </tr>\n",
       "    <tr>\n",
       "      <th>13</th>\n",
       "      <td>0</td>\n",
       "      <td>-1846.641941</td>\n",
       "      <td>54</td>\n",
       "      <td>неоконченное высшее</td>\n",
       "      <td>2</td>\n",
       "      <td>женат / замужем</td>\n",
       "      <td>0</td>\n",
       "      <td>F</td>\n",
       "      <td>сотрудник</td>\n",
       "      <td>0</td>\n",
       "      <td>130458.228857</td>\n",
       "      <td>приобретение автомобиля</td>\n",
       "    </tr>\n",
       "    <tr>\n",
       "      <th>14</th>\n",
       "      <td>0</td>\n",
       "      <td>-1844.956182</td>\n",
       "      <td>56</td>\n",
       "      <td>высшее</td>\n",
       "      <td>0</td>\n",
       "      <td>гражданский брак</td>\n",
       "      <td>1</td>\n",
       "      <td>F</td>\n",
       "      <td>компаньон</td>\n",
       "      <td>1</td>\n",
       "      <td>165127.911772</td>\n",
       "      <td>покупка жилой недвижимости</td>\n",
       "    </tr>\n",
       "  </tbody>\n",
       "</table>\n",
       "</div>"
      ],
      "text/plain": [
       "    children  days_employed  dob_years            education  education_id  \\\n",
       "0          1   -8437.673028         42               высшее             0   \n",
       "1          1   -4024.803754         36              среднее             1   \n",
       "2          0   -5623.422610         33              Среднее             1   \n",
       "3          3   -4124.747207         32              среднее             1   \n",
       "4          0  340266.072047         53              среднее             1   \n",
       "5          0    -926.185831         27               высшее             0   \n",
       "6          0   -2879.202052         43               высшее             0   \n",
       "7          0    -152.779569         50              СРЕДНЕЕ             1   \n",
       "8          2   -6929.865299         35               ВЫСШЕЕ             0   \n",
       "9          0   -2188.756445         41              среднее             1   \n",
       "10         2   -4171.483647         36               высшее             0   \n",
       "11         0    -792.701887         40              среднее             1   \n",
       "12         0            NaN         65              среднее             1   \n",
       "13         0   -1846.641941         54  неоконченное высшее             2   \n",
       "14         0   -1844.956182         56               высшее             0   \n",
       "\n",
       "       family_status  family_status_id gender income_type  debt  \\\n",
       "0    женат / замужем                 0      F   сотрудник     0   \n",
       "1    женат / замужем                 0      F   сотрудник     0   \n",
       "2    женат / замужем                 0      M   сотрудник     0   \n",
       "3    женат / замужем                 0      M   сотрудник     0   \n",
       "4   гражданский брак                 1      F   пенсионер     0   \n",
       "5   гражданский брак                 1      M   компаньон     0   \n",
       "6    женат / замужем                 0      F   компаньон     0   \n",
       "7    женат / замужем                 0      M   сотрудник     0   \n",
       "8   гражданский брак                 1      F   сотрудник     0   \n",
       "9    женат / замужем                 0      M   сотрудник     0   \n",
       "10   женат / замужем                 0      M   компаньон     0   \n",
       "11   женат / замужем                 0      F   сотрудник     0   \n",
       "12  гражданский брак                 1      M   пенсионер     0   \n",
       "13   женат / замужем                 0      F   сотрудник     0   \n",
       "14  гражданский брак                 1      F   компаньон     1   \n",
       "\n",
       "     total_income                            purpose  \n",
       "0   253875.639453                      покупка жилья  \n",
       "1   112080.014102            приобретение автомобиля  \n",
       "2   145885.952297                      покупка жилья  \n",
       "3   267628.550329         дополнительное образование  \n",
       "4   158616.077870                    сыграть свадьбу  \n",
       "5   255763.565419                      покупка жилья  \n",
       "6   240525.971920                  операции с жильем  \n",
       "7   135823.934197                        образование  \n",
       "8    95856.832424              на проведение свадьбы  \n",
       "9   144425.938277            покупка жилья для семьи  \n",
       "10  113943.491460               покупка недвижимости  \n",
       "11   77069.234271  покупка коммерческой недвижимости  \n",
       "12            NaN                    сыграть свадьбу  \n",
       "13  130458.228857            приобретение автомобиля  \n",
       "14  165127.911772         покупка жилой недвижимости  "
      ]
     },
     "metadata": {},
     "output_type": "display_data"
    }
   ],
   "source": [
    "import pandas as pd\n",
    "df = pd.read_csv('/datasets/data.csv')\n",
    "\n",
    "display(df.head(15))"
   ]
  },
  {
   "cell_type": "code",
   "execution_count": 2,
   "id": "ae8c9b06",
   "metadata": {
    "scrolled": true
   },
   "outputs": [
    {
     "name": "stdout",
     "output_type": "stream",
     "text": [
      "<class 'pandas.core.frame.DataFrame'>\n",
      "RangeIndex: 21525 entries, 0 to 21524\n",
      "Data columns (total 12 columns):\n",
      " #   Column            Non-Null Count  Dtype  \n",
      "---  ------            --------------  -----  \n",
      " 0   children          21525 non-null  int64  \n",
      " 1   days_employed     19351 non-null  float64\n",
      " 2   dob_years         21525 non-null  int64  \n",
      " 3   education         21525 non-null  object \n",
      " 4   education_id      21525 non-null  int64  \n",
      " 5   family_status     21525 non-null  object \n",
      " 6   family_status_id  21525 non-null  int64  \n",
      " 7   gender            21525 non-null  object \n",
      " 8   income_type       21525 non-null  object \n",
      " 9   debt              21525 non-null  int64  \n",
      " 10  total_income      19351 non-null  float64\n",
      " 11  purpose           21525 non-null  object \n",
      "dtypes: float64(2), int64(5), object(5)\n",
      "memory usage: 2.0+ MB\n"
     ]
    }
   ],
   "source": [
    "df.info()"
   ]
  },
  {
   "cell_type": "code",
   "execution_count": 3,
   "id": "3e93f1cb",
   "metadata": {},
   "outputs": [
    {
     "data": {
      "text/plain": [
       "54"
      ]
     },
     "execution_count": 3,
     "metadata": {},
     "output_type": "execute_result"
    }
   ],
   "source": [
    "df.duplicated().sum()"
   ]
  },
  {
   "cell_type": "code",
   "execution_count": 4,
   "id": "b8732ad2",
   "metadata": {},
   "outputs": [
    {
     "data": {
      "text/plain": [
       "0"
      ]
     },
     "execution_count": 4,
     "metadata": {},
     "output_type": "execute_result"
    }
   ],
   "source": [
    "df = df.drop_duplicates().reset_index(drop = True)\n",
    "df.duplicated().sum()"
   ]
  },
  {
   "cell_type": "code",
   "execution_count": 5,
   "id": "46c569a6",
   "metadata": {
    "scrolled": false
   },
   "outputs": [
    {
     "data": {
      "text/html": [
       "<div>\n",
       "<style scoped>\n",
       "    .dataframe tbody tr th:only-of-type {\n",
       "        vertical-align: middle;\n",
       "    }\n",
       "\n",
       "    .dataframe tbody tr th {\n",
       "        vertical-align: top;\n",
       "    }\n",
       "\n",
       "    .dataframe thead th {\n",
       "        text-align: right;\n",
       "    }\n",
       "</style>\n",
       "<table border=\"1\" class=\"dataframe\">\n",
       "  <thead>\n",
       "    <tr style=\"text-align: right;\">\n",
       "      <th></th>\n",
       "      <th>children</th>\n",
       "      <th>days_employed</th>\n",
       "      <th>dob_years</th>\n",
       "      <th>education</th>\n",
       "      <th>education_id</th>\n",
       "      <th>family_status</th>\n",
       "      <th>family_status_id</th>\n",
       "      <th>gender</th>\n",
       "      <th>income_type</th>\n",
       "      <th>debt</th>\n",
       "      <th>total_income</th>\n",
       "      <th>purpose</th>\n",
       "    </tr>\n",
       "  </thead>\n",
       "  <tbody>\n",
       "    <tr>\n",
       "      <th>12</th>\n",
       "      <td>0</td>\n",
       "      <td>NaN</td>\n",
       "      <td>65</td>\n",
       "      <td>среднее</td>\n",
       "      <td>1</td>\n",
       "      <td>гражданский брак</td>\n",
       "      <td>1</td>\n",
       "      <td>M</td>\n",
       "      <td>пенсионер</td>\n",
       "      <td>0</td>\n",
       "      <td>NaN</td>\n",
       "      <td>сыграть свадьбу</td>\n",
       "    </tr>\n",
       "    <tr>\n",
       "      <th>26</th>\n",
       "      <td>0</td>\n",
       "      <td>NaN</td>\n",
       "      <td>41</td>\n",
       "      <td>среднее</td>\n",
       "      <td>1</td>\n",
       "      <td>женат / замужем</td>\n",
       "      <td>0</td>\n",
       "      <td>M</td>\n",
       "      <td>госслужащий</td>\n",
       "      <td>0</td>\n",
       "      <td>NaN</td>\n",
       "      <td>образование</td>\n",
       "    </tr>\n",
       "    <tr>\n",
       "      <th>29</th>\n",
       "      <td>0</td>\n",
       "      <td>NaN</td>\n",
       "      <td>63</td>\n",
       "      <td>среднее</td>\n",
       "      <td>1</td>\n",
       "      <td>Не женат / не замужем</td>\n",
       "      <td>4</td>\n",
       "      <td>F</td>\n",
       "      <td>пенсионер</td>\n",
       "      <td>0</td>\n",
       "      <td>NaN</td>\n",
       "      <td>строительство жилой недвижимости</td>\n",
       "    </tr>\n",
       "    <tr>\n",
       "      <th>41</th>\n",
       "      <td>0</td>\n",
       "      <td>NaN</td>\n",
       "      <td>50</td>\n",
       "      <td>среднее</td>\n",
       "      <td>1</td>\n",
       "      <td>женат / замужем</td>\n",
       "      <td>0</td>\n",
       "      <td>F</td>\n",
       "      <td>госслужащий</td>\n",
       "      <td>0</td>\n",
       "      <td>NaN</td>\n",
       "      <td>сделка с подержанным автомобилем</td>\n",
       "    </tr>\n",
       "    <tr>\n",
       "      <th>55</th>\n",
       "      <td>0</td>\n",
       "      <td>NaN</td>\n",
       "      <td>54</td>\n",
       "      <td>среднее</td>\n",
       "      <td>1</td>\n",
       "      <td>гражданский брак</td>\n",
       "      <td>1</td>\n",
       "      <td>F</td>\n",
       "      <td>пенсионер</td>\n",
       "      <td>1</td>\n",
       "      <td>NaN</td>\n",
       "      <td>сыграть свадьбу</td>\n",
       "    </tr>\n",
       "    <tr>\n",
       "      <th>...</th>\n",
       "      <td>...</td>\n",
       "      <td>...</td>\n",
       "      <td>...</td>\n",
       "      <td>...</td>\n",
       "      <td>...</td>\n",
       "      <td>...</td>\n",
       "      <td>...</td>\n",
       "      <td>...</td>\n",
       "      <td>...</td>\n",
       "      <td>...</td>\n",
       "      <td>...</td>\n",
       "      <td>...</td>\n",
       "    </tr>\n",
       "    <tr>\n",
       "      <th>21435</th>\n",
       "      <td>2</td>\n",
       "      <td>NaN</td>\n",
       "      <td>47</td>\n",
       "      <td>Среднее</td>\n",
       "      <td>1</td>\n",
       "      <td>женат / замужем</td>\n",
       "      <td>0</td>\n",
       "      <td>M</td>\n",
       "      <td>компаньон</td>\n",
       "      <td>0</td>\n",
       "      <td>NaN</td>\n",
       "      <td>сделка с автомобилем</td>\n",
       "    </tr>\n",
       "    <tr>\n",
       "      <th>21441</th>\n",
       "      <td>1</td>\n",
       "      <td>NaN</td>\n",
       "      <td>50</td>\n",
       "      <td>среднее</td>\n",
       "      <td>1</td>\n",
       "      <td>гражданский брак</td>\n",
       "      <td>1</td>\n",
       "      <td>F</td>\n",
       "      <td>сотрудник</td>\n",
       "      <td>0</td>\n",
       "      <td>NaN</td>\n",
       "      <td>свадьба</td>\n",
       "    </tr>\n",
       "    <tr>\n",
       "      <th>21443</th>\n",
       "      <td>0</td>\n",
       "      <td>NaN</td>\n",
       "      <td>48</td>\n",
       "      <td>ВЫСШЕЕ</td>\n",
       "      <td>0</td>\n",
       "      <td>женат / замужем</td>\n",
       "      <td>0</td>\n",
       "      <td>F</td>\n",
       "      <td>компаньон</td>\n",
       "      <td>0</td>\n",
       "      <td>NaN</td>\n",
       "      <td>строительство недвижимости</td>\n",
       "    </tr>\n",
       "    <tr>\n",
       "      <th>21448</th>\n",
       "      <td>1</td>\n",
       "      <td>NaN</td>\n",
       "      <td>42</td>\n",
       "      <td>среднее</td>\n",
       "      <td>1</td>\n",
       "      <td>женат / замужем</td>\n",
       "      <td>0</td>\n",
       "      <td>F</td>\n",
       "      <td>сотрудник</td>\n",
       "      <td>0</td>\n",
       "      <td>NaN</td>\n",
       "      <td>строительство жилой недвижимости</td>\n",
       "    </tr>\n",
       "    <tr>\n",
       "      <th>21456</th>\n",
       "      <td>2</td>\n",
       "      <td>NaN</td>\n",
       "      <td>28</td>\n",
       "      <td>среднее</td>\n",
       "      <td>1</td>\n",
       "      <td>женат / замужем</td>\n",
       "      <td>0</td>\n",
       "      <td>F</td>\n",
       "      <td>сотрудник</td>\n",
       "      <td>0</td>\n",
       "      <td>NaN</td>\n",
       "      <td>приобретение автомобиля</td>\n",
       "    </tr>\n",
       "  </tbody>\n",
       "</table>\n",
       "<p>2120 rows × 12 columns</p>\n",
       "</div>"
      ],
      "text/plain": [
       "       children  days_employed  dob_years education  education_id  \\\n",
       "12            0            NaN         65   среднее             1   \n",
       "26            0            NaN         41   среднее             1   \n",
       "29            0            NaN         63   среднее             1   \n",
       "41            0            NaN         50   среднее             1   \n",
       "55            0            NaN         54   среднее             1   \n",
       "...         ...            ...        ...       ...           ...   \n",
       "21435         2            NaN         47   Среднее             1   \n",
       "21441         1            NaN         50   среднее             1   \n",
       "21443         0            NaN         48    ВЫСШЕЕ             0   \n",
       "21448         1            NaN         42   среднее             1   \n",
       "21456         2            NaN         28   среднее             1   \n",
       "\n",
       "               family_status  family_status_id gender  income_type  debt  \\\n",
       "12          гражданский брак                 1      M    пенсионер     0   \n",
       "26           женат / замужем                 0      M  госслужащий     0   \n",
       "29     Не женат / не замужем                 4      F    пенсионер     0   \n",
       "41           женат / замужем                 0      F  госслужащий     0   \n",
       "55          гражданский брак                 1      F    пенсионер     1   \n",
       "...                      ...               ...    ...          ...   ...   \n",
       "21435        женат / замужем                 0      M    компаньон     0   \n",
       "21441       гражданский брак                 1      F    сотрудник     0   \n",
       "21443        женат / замужем                 0      F    компаньон     0   \n",
       "21448        женат / замужем                 0      F    сотрудник     0   \n",
       "21456        женат / замужем                 0      F    сотрудник     0   \n",
       "\n",
       "       total_income                           purpose  \n",
       "12              NaN                   сыграть свадьбу  \n",
       "26              NaN                       образование  \n",
       "29              NaN  строительство жилой недвижимости  \n",
       "41              NaN  сделка с подержанным автомобилем  \n",
       "55              NaN                   сыграть свадьбу  \n",
       "...             ...                               ...  \n",
       "21435           NaN              сделка с автомобилем  \n",
       "21441           NaN                           свадьба  \n",
       "21443           NaN        строительство недвижимости  \n",
       "21448           NaN  строительство жилой недвижимости  \n",
       "21456           NaN           приобретение автомобиля  \n",
       "\n",
       "[2120 rows x 12 columns]"
      ]
     },
     "execution_count": 5,
     "metadata": {},
     "output_type": "execute_result"
    }
   ],
   "source": [
    "df[df['total_income'].isna()]"
   ]
  },
  {
   "cell_type": "code",
   "execution_count": 6,
   "id": "7ecf0a57",
   "metadata": {},
   "outputs": [
    {
     "data": {
      "text/plain": [
       "'9.87% пропусков в столбце total_income'"
      ]
     },
     "execution_count": 6,
     "metadata": {},
     "output_type": "execute_result"
    }
   ],
   "source": [
    "f\"{df['days_employed'].isna().sum()/len(df):.2%} пропусков в столбце total_income\""
   ]
  },
  {
   "cell_type": "code",
   "execution_count": 7,
   "id": "ea2de137",
   "metadata": {
    "scrolled": false
   },
   "outputs": [
    {
     "data": {
      "text/html": [
       "<div>\n",
       "<style scoped>\n",
       "    .dataframe tbody tr th:only-of-type {\n",
       "        vertical-align: middle;\n",
       "    }\n",
       "\n",
       "    .dataframe tbody tr th {\n",
       "        vertical-align: top;\n",
       "    }\n",
       "\n",
       "    .dataframe thead th {\n",
       "        text-align: right;\n",
       "    }\n",
       "</style>\n",
       "<table border=\"1\" class=\"dataframe\">\n",
       "  <thead>\n",
       "    <tr style=\"text-align: right;\">\n",
       "      <th></th>\n",
       "      <th>children</th>\n",
       "      <th>days_employed</th>\n",
       "      <th>dob_years</th>\n",
       "      <th>education</th>\n",
       "      <th>education_id</th>\n",
       "      <th>family_status</th>\n",
       "      <th>family_status_id</th>\n",
       "      <th>gender</th>\n",
       "      <th>income_type</th>\n",
       "      <th>debt</th>\n",
       "      <th>total_income</th>\n",
       "      <th>purpose</th>\n",
       "    </tr>\n",
       "  </thead>\n",
       "  <tbody>\n",
       "  </tbody>\n",
       "</table>\n",
       "</div>"
      ],
      "text/plain": [
       "Empty DataFrame\n",
       "Columns: [children, days_employed, dob_years, education, education_id, family_status, family_status_id, gender, income_type, debt, total_income, purpose]\n",
       "Index: []"
      ]
     },
     "metadata": {},
     "output_type": "display_data"
    }
   ],
   "source": [
    "display( df[ (df['days_employed'].isna()) & (df['total_income']>0) ]) "
   ]
  },
  {
   "cell_type": "code",
   "execution_count": 8,
   "id": "639e67af",
   "metadata": {},
   "outputs": [
    {
     "data": {
      "text/plain": [
       "0.0"
      ]
     },
     "execution_count": 8,
     "metadata": {},
     "output_type": "execute_result"
    }
   ],
   "source": [
    "df[df['days_employed'].isna()]['total_income'].sum()"
   ]
  },
  {
   "cell_type": "markdown",
   "id": "00f9088d",
   "metadata": {},
   "source": [
    "Данные показывают, что люди с отсутсвием трудоустройства так же и не имеют дохода. \n",
    "\n",
    "Посмотрим, есть ли группировка по пропущенным значениям. Возможно, пропущены значения только в определенных категориях."
   ]
  },
  {
   "cell_type": "code",
   "execution_count": 9,
   "id": "f9ea9732",
   "metadata": {},
   "outputs": [
    {
     "data": {
      "text/plain": [
       "array(['пенсионер', 'госслужащий', 'компаньон', 'сотрудник',\n",
       "       'предприниматель'], dtype=object)"
      ]
     },
     "metadata": {},
     "output_type": "display_data"
    },
    {
     "data": {
      "text/plain": [
       "array(['гражданский брак', 'женат / замужем', 'Не женат / не замужем',\n",
       "       'вдовец / вдова', 'в разводе'], dtype=object)"
      ]
     },
     "metadata": {},
     "output_type": "display_data"
    },
    {
     "data": {
      "text/plain": [
       "array(['сыграть свадьбу', 'образование',\n",
       "       'строительство жилой недвижимости',\n",
       "       'сделка с подержанным автомобилем',\n",
       "       'операции с коммерческой недвижимостью', 'покупка жилья для семьи',\n",
       "       'жилье', 'операции с жильем', 'на проведение свадьбы',\n",
       "       'покупка жилой недвижимости', 'профильное образование',\n",
       "       'высшее образование', 'автомобиль', 'свадьба',\n",
       "       'строительство недвижимости', 'свой автомобиль',\n",
       "       'на покупку подержанного автомобиля',\n",
       "       'строительство собственной недвижимости', 'покупка своего жилья',\n",
       "       'заняться высшим образованием', 'недвижимость',\n",
       "       'операции со своей недвижимостью', 'покупка жилья для сдачи',\n",
       "       'сделка с автомобилем', 'приобретение автомобиля',\n",
       "       'получение высшего образования', 'дополнительное образование',\n",
       "       'на покупку автомобиля', 'покупка недвижимости', 'автомобили',\n",
       "       'покупка коммерческой недвижимости', 'покупка жилья',\n",
       "       'получение образования', 'операции с недвижимостью',\n",
       "       'ремонт жилью', 'на покупку своего автомобиля',\n",
       "       'заняться образованием', 'получение дополнительного образования'],\n",
       "      dtype=object)"
      ]
     },
     "metadata": {},
     "output_type": "display_data"
    }
   ],
   "source": [
    "for x in ['income_type','family_status','purpose']:\n",
    "    display(df[df['days_employed'].isna()][x].unique())"
   ]
  },
  {
   "cell_type": "code",
   "execution_count": 10,
   "id": "f4649707",
   "metadata": {},
   "outputs": [
    {
     "data": {
      "text/plain": [
       "8.108611615667645"
      ]
     },
     "execution_count": 10,
     "metadata": {},
     "output_type": "execute_result"
    }
   ],
   "source": [
    "df['debt'].sum()/len(df['debt'])*100"
   ]
  },
  {
   "cell_type": "code",
   "execution_count": 11,
   "id": "0936faa3",
   "metadata": {},
   "outputs": [
    {
     "data": {
      "text/plain": [
       "8.018867924528301"
      ]
     },
     "execution_count": 11,
     "metadata": {},
     "output_type": "execute_result"
    }
   ],
   "source": [
    "df[df['days_employed'].isna()]['debt'].sum()/df['days_employed'].isna().sum()*100"
   ]
  },
  {
   "cell_type": "code",
   "execution_count": 12,
   "id": "de294187",
   "metadata": {},
   "outputs": [],
   "source": [
    "import matplotlib.pyplot as plt"
   ]
  },
  {
   "cell_type": "code",
   "execution_count": 13,
   "id": "39b6c29d",
   "metadata": {
    "scrolled": true
   },
   "outputs": [
    {
     "data": {
      "image/png": "[encoded data removed]",
      "text/plain": [
       "<Figure size 864x288 with 1 Axes>"
      ]
     },
     "metadata": {
      "needs_background": "light"
     },
     "output_type": "display_data"
    },
    {
     "data": {
      "image/png": "[encoded data removed]",
      "text/plain": [
       "<Figure size 864x288 with 1 Axes>"
      ]
     },
     "metadata": {
      "needs_background": "light"
     },
     "output_type": "display_data"
    },
    {
     "data": {
      "image/png": "[encoded data removed]",
      "text/plain": [
       "<Figure size 864x288 with 1 Axes>"
      ]
     },
     "metadata": {
      "needs_background": "light"
     },
     "output_type": "display_data"
    },
    {
     "data": {
      "image/png": "[encoded data removed]",
      "text/plain": [
       "<Figure size 864x288 with 1 Axes>"
      ]
     },
     "metadata": {
      "needs_background": "light"
     },
     "output_type": "display_data"
    },
    {
     "data": {
      "image/png": "[encoded data removed]",
      "text/plain": [
       "<Figure size 864x288 with 1 Axes>"
      ]
     },
     "metadata": {
      "needs_background": "light"
     },
     "output_type": "display_data"
    },
    {
     "data": {
      "image/png": "[encoded data removed]",
      "text/plain": [
       "<Figure size 864x288 with 1 Axes>"
      ]
     },
     "metadata": {
      "needs_background": "light"
     },
     "output_type": "display_data"
    },
    {
     "data": {
      "image/png": "[encoded data removed]",
      "text/plain": [
       "<Figure size 864x288 with 1 Axes>"
      ]
     },
     "metadata": {
      "needs_background": "light"
     },
     "output_type": "display_data"
    },
    {
     "data": {
      "image/png": "[encoded data removed]",
      "text/plain": [
       "<Figure size 864x288 with 1 Axes>"
      ]
     },
     "metadata": {
      "needs_background": "light"
     },
     "output_type": "display_data"
    },
    {
     "data": {
      "image/png": "[encoded data removed]",
      "text/plain": [
       "<Figure size 864x288 with 1 Axes>"
      ]
     },
     "metadata": {
      "needs_background": "light"
     },
     "output_type": "display_data"
    },
    {
     "data": {
      "image/png": "[encoded data removed]",
      "text/plain": [
       "<Figure size 864x288 with 1 Axes>"
      ]
     },
     "metadata": {
      "needs_background": "light"
     },
     "output_type": "display_data"
    },
    {
     "data": {
      "image/png": "[encoded data removed]",
      "text/plain": [
       "<Figure size 864x288 with 1 Axes>"
      ]
     },
     "metadata": {
      "needs_background": "light"
     },
     "output_type": "display_data"
    },
    {
     "data": {
      "image/png": "[encoded data removed]",
      "text/plain": [
       "<Figure size 864x288 with 1 Axes>"
      ]
     },
     "metadata": {
      "needs_background": "light"
     },
     "output_type": "display_data"
    }
   ],
   "source": [
    "for x in df.columns:\n",
    "    df[df['days_employed'].notna()][x].hist(legend = True, figsize = (12,4), bins = 50) \n",
    "    df[df['days_employed'].isna()][x].hist(bins = 50)\n",
    "    plt.show()"
   ]
  },
  {
   "cell_type": "markdown",
   "id": "b4298fc4",
   "metadata": {},
   "source": [
    "Данные по дням работы и доходу либо есть, либо одновременно отсутвтуют в обоих столбцах. <br> При этом тип дохода у всех разный, семейный статус или цель кредита у всех разные. Получается, что данные просто пропущены у 2174 строк, что является чуть более 10% всего дата сета.\n",
    "Однако стоит отметить удивительную однородность данных.\n",
    "\n",
    "**Поскольку это учебный проект, эти данные мы не выкидываем, а учимся заполнять.**"
   ]
  },
  {
   "cell_type": "markdown",
   "id": "407299d1",
   "metadata": {},
   "source": [
    "### Шаг Заполнение пропусков"
   ]
  },
  {
   "cell_type": "code",
   "execution_count": 14,
   "id": "a714887c",
   "metadata": {
    "scrolled": false
   },
   "outputs": [
    {
     "name": "stdout",
     "output_type": "stream",
     "text": [
      "среднее количество дней найма 63046.49766147338\n",
      "медианное количество дней найма -1203.369528770489\n",
      "\n",
      "среднее количество дохода 167422.30220817294\n",
      "медианное количество дохода 145017.93753253992\n"
     ]
    }
   ],
   "source": [
    "#сравним как отличаются средние и медианные значения\n",
    "print('среднее количество дней найма', df['days_employed'].mean())\n",
    "print('медианное количество дней найма', df['days_employed'].median())\n",
    "print('')\n",
    "print('среднее количество дохода', df['total_income'].mean())\n",
    "print('медианное количество дохода', df['total_income'].median())"
   ]
  },
  {
   "cell_type": "code",
   "execution_count": 15,
   "id": "edd3dd14",
   "metadata": {
    "scrolled": false
   },
   "outputs": [
    {
     "data": {
      "text/plain": [
       "сотрудник          11091\n",
       "компаньон           5080\n",
       "пенсионер           3837\n",
       "госслужащий         1457\n",
       "предприниматель        2\n",
       "безработный            2\n",
       "студент                1\n",
       "в декрете              1\n",
       "Name: income_type, dtype: int64"
      ]
     },
     "execution_count": 15,
     "metadata": {},
     "output_type": "execute_result"
    }
   ],
   "source": [
    "df['income_type'].value_counts()"
   ]
  },
  {
   "cell_type": "markdown",
   "id": "a0aa230a",
   "metadata": {},
   "source": [
    "Мелкие выборки по 4 оставшимся категориям являются крайне не информативными."
   ]
  },
  {
   "cell_type": "code",
   "execution_count": 16,
   "id": "8da65e34",
   "metadata": {},
   "outputs": [],
   "source": [
    "df = df.query('income_type != \"безработный\" & income_type != \"предприниматель\" & income_type != \"студент\" & income_type != \"в декрете\" ')"
   ]
  },
  {
   "cell_type": "code",
   "execution_count": 17,
   "id": "4d89f13a",
   "metadata": {},
   "outputs": [
    {
     "data": {
      "text/plain": [
       "сотрудник       9.71\n",
       "компаньон       9.90\n",
       "пенсионер      10.27\n",
       "госслужащий     9.95\n",
       "Name: income_type, dtype: float64"
      ]
     },
     "metadata": {},
     "output_type": "display_data"
    }
   ],
   "source": [
    "display(round(df[df['days_employed'].isna()]['income_type'].value_counts()/df['income_type'].value_counts()*100,2))"
   ]
  },
  {
   "cell_type": "markdown",
   "id": "c5c9cdc6",
   "metadata": {},
   "source": [
    "Порядка 50% заемщиков - сотрудники, а еще 50% - пенсионеры, компаньоны, госслужащие. \n",
    "\n",
    "<br/>Причины пропущенных данных могут быть разными, но судя по ровности пропусков - это не системная ошибка по категориям. Возможно, это какие-то сбои в программе работы с клиентами или невнимательность сотрудников в отдельных случаях.\n",
    "<br/>Ну что же, по всей видимости, поскольку пропущенные данные очень ровно пропущены по всем категориям, логичным кажется заменить эти пропуски в строке 'total_income' на медианные значение по столбцу.\n"
   ]
  },
  {
   "cell_type": "code",
   "execution_count": 18,
   "id": "e48368d6",
   "metadata": {
    "scrolled": true
   },
   "outputs": [
    {
     "data": {
      "text/html": [
       "<div>\n",
       "<style scoped>\n",
       "    .dataframe tbody tr th:only-of-type {\n",
       "        vertical-align: middle;\n",
       "    }\n",
       "\n",
       "    .dataframe tbody tr th {\n",
       "        vertical-align: top;\n",
       "    }\n",
       "\n",
       "    .dataframe thead th {\n",
       "        text-align: right;\n",
       "    }\n",
       "</style>\n",
       "<table border=\"1\" class=\"dataframe\">\n",
       "  <thead>\n",
       "    <tr style=\"text-align: right;\">\n",
       "      <th></th>\n",
       "      <th>children</th>\n",
       "      <th>days_employed</th>\n",
       "      <th>dob_years</th>\n",
       "      <th>education_id</th>\n",
       "      <th>family_status_id</th>\n",
       "      <th>debt</th>\n",
       "      <th>total_income</th>\n",
       "    </tr>\n",
       "    <tr>\n",
       "      <th>income_type</th>\n",
       "      <th></th>\n",
       "      <th></th>\n",
       "      <th></th>\n",
       "      <th></th>\n",
       "      <th></th>\n",
       "      <th></th>\n",
       "      <th></th>\n",
       "    </tr>\n",
       "  </thead>\n",
       "  <tbody>\n",
       "    <tr>\n",
       "      <th>госслужащий</th>\n",
       "      <td>0</td>\n",
       "      <td>-2689.368353</td>\n",
       "      <td>40</td>\n",
       "      <td>1</td>\n",
       "      <td>0</td>\n",
       "      <td>0</td>\n",
       "      <td>150447.935283</td>\n",
       "    </tr>\n",
       "    <tr>\n",
       "      <th>компаньон</th>\n",
       "      <td>0</td>\n",
       "      <td>-1547.382223</td>\n",
       "      <td>39</td>\n",
       "      <td>1</td>\n",
       "      <td>0</td>\n",
       "      <td>0</td>\n",
       "      <td>172357.950966</td>\n",
       "    </tr>\n",
       "    <tr>\n",
       "      <th>пенсионер</th>\n",
       "      <td>0</td>\n",
       "      <td>365213.306266</td>\n",
       "      <td>60</td>\n",
       "      <td>1</td>\n",
       "      <td>0</td>\n",
       "      <td>0</td>\n",
       "      <td>118514.486412</td>\n",
       "    </tr>\n",
       "    <tr>\n",
       "      <th>сотрудник</th>\n",
       "      <td>0</td>\n",
       "      <td>-1574.202821</td>\n",
       "      <td>39</td>\n",
       "      <td>1</td>\n",
       "      <td>0</td>\n",
       "      <td>0</td>\n",
       "      <td>142594.396847</td>\n",
       "    </tr>\n",
       "  </tbody>\n",
       "</table>\n",
       "</div>"
      ],
      "text/plain": [
       "             children  days_employed  dob_years  education_id  \\\n",
       "income_type                                                     \n",
       "госслужащий         0   -2689.368353         40             1   \n",
       "компаньон           0   -1547.382223         39             1   \n",
       "пенсионер           0  365213.306266         60             1   \n",
       "сотрудник           0   -1574.202821         39             1   \n",
       "\n",
       "             family_status_id  debt   total_income  \n",
       "income_type                                         \n",
       "госслужащий                 0     0  150447.935283  \n",
       "компаньон                   0     0  172357.950966  \n",
       "пенсионер                   0     0  118514.486412  \n",
       "сотрудник                   0     0  142594.396847  "
      ]
     },
     "metadata": {},
     "output_type": "display_data"
    }
   ],
   "source": [
    "median_total_income = df.groupby(by = 'income_type').median()\n",
    "display(median_total_income)"
   ]
  },
  {
   "cell_type": "code",
   "execution_count": 19,
   "id": "cd711270",
   "metadata": {
    "scrolled": false
   },
   "outputs": [
    {
     "data": {
      "image/png": "[encoded data removed]",
      "text/plain": [
       "<Figure size 1080x288 with 1 Axes>"
      ]
     },
     "metadata": {
      "needs_background": "light"
     },
     "output_type": "display_data"
    },
    {
     "data": {
      "image/png": "[encoded data removed]",
      "text/plain": [
       "<Figure size 1080x288 with 1 Axes>"
      ]
     },
     "metadata": {
      "needs_background": "light"
     },
     "output_type": "display_data"
    },
    {
     "data": {
      "image/png": "[encoded data removed]",
      "text/plain": [
       "<Figure size 1080x288 with 1 Axes>"
      ]
     },
     "metadata": {
      "needs_background": "light"
     },
     "output_type": "display_data"
    },
    {
     "data": {
      "image/png": "[encoded data removed]",
      "text/plain": [
       "<Figure size 1080x288 with 1 Axes>"
      ]
     },
     "metadata": {
      "needs_background": "light"
     },
     "output_type": "display_data"
    }
   ],
   "source": [
    "for type in df.income_type.unique():\n",
    "    plt.figure(figsize=(15,4))\n",
    "    plt.xlabel(\"days_employed\", fontsize=10, labelpad=1)\n",
    "    plt.ylabel(\"total_income\", fontsize=10, labelpad=10)\n",
    "    plt.title(type, fontsize=14, pad=15)\n",
    "    plt.scatter(df.query('income_type == @type')['days_employed'], df.query('income_type == @type')['total_income'], marker = '.')\n",
    "    plt.show()"
   ]
  },
  {
   "cell_type": "code",
   "execution_count": 20,
   "id": "9fe4758a",
   "metadata": {},
   "outputs": [
    {
     "data": {
      "image/png": "[encoded data removed]",
      "text/plain": [
       "<Figure size 1080x288 with 1 Axes>"
      ]
     },
     "metadata": {
      "needs_background": "light"
     },
     "output_type": "display_data"
    }
   ],
   "source": [
    "plt.figure(figsize=(15,4))\n",
    "plt.xlabel(\"возраст\", fontsize=10, labelpad=1)\n",
    "plt.ylabel(\"days_employed\", fontsize=10, labelpad=10)\n",
    "plt.title('пенсионер', fontsize=14, pad=15)\n",
    "plt.scatter(df.query('income_type == \"пенсионер\"')['dob_years'], df.query('income_type == \"пенсионер\"')['days_employed'], marker = '.')\n",
    "plt.show()"
   ]
  },
  {
   "cell_type": "markdown",
   "id": "321e02a7",
   "metadata": {},
   "source": [
    "У всех, кто формально \"работает\" - значение в колонке \"days_employed\" отрицательное. А вот у пенсионеров это значение положительное. \n",
    "    <br/> Заполним пропуски в total_income медианными значениямит по категории дохода"
   ]
  },
  {
   "cell_type": "code",
   "execution_count": 21,
   "id": "05ddcfb2",
   "metadata": {
    "scrolled": true
   },
   "outputs": [],
   "source": [
    "for type in median_total_income.index:\n",
    "    df.loc[df['income_type'] == type, 'total_income'] = df.loc[df['income_type'] == type, 'total_income'].fillna(value = median_total_income.loc[type, 'total_income'])\n"
   ]
  },
  {
   "cell_type": "code",
   "execution_count": 24,
   "id": "fd3b4bb2",
   "metadata": {},
   "outputs": [],
   "source": [
    "for type in median_total_income.index:\n",
    "    df.loc[df['income_type'] == type, 'days_employed'] = df.loc[df['income_type'] == type, 'days_employed'].fillna(value = median_total_income.loc[type, 'days_employed'])\n"
   ]
  },
  {
   "cell_type": "code",
   "execution_count": 25,
   "id": "de50e0cc",
   "metadata": {},
   "outputs": [
    {
     "name": "stdout",
     "output_type": "stream",
     "text": [
      "<class 'pandas.core.frame.DataFrame'>\n",
      "Int64Index: 21465 entries, 0 to 21470\n",
      "Data columns (total 12 columns):\n",
      " #   Column            Non-Null Count  Dtype  \n",
      "---  ------            --------------  -----  \n",
      " 0   children          21465 non-null  int64  \n",
      " 1   days_employed     21465 non-null  float64\n",
      " 2   dob_years         21465 non-null  int64  \n",
      " 3   education         21465 non-null  object \n",
      " 4   education_id      21465 non-null  int64  \n",
      " 5   family_status     21465 non-null  object \n",
      " 6   family_status_id  21465 non-null  int64  \n",
      " 7   gender            21465 non-null  object \n",
      " 8   income_type       21465 non-null  object \n",
      " 9   debt              21465 non-null  int64  \n",
      " 10  total_income      21465 non-null  float64\n",
      " 11  purpose           21465 non-null  object \n",
      "dtypes: float64(2), int64(5), object(5)\n",
      "memory usage: 2.1+ MB\n"
     ]
    }
   ],
   "source": [
    "df.info() #проверяем, что всё заполнилось"
   ]
  },
  {
   "cell_type": "markdown",
   "id": "081c3bbc",
   "metadata": {},
   "source": [
    "### Проверка данных на аномалии и исправления."
   ]
  },
  {
   "cell_type": "code",
   "execution_count": 28,
   "id": "1c76d01c",
   "metadata": {
    "scrolled": true
   },
   "outputs": [
    {
     "data": {
      "text/html": [
       "<div>\n",
       "<style scoped>\n",
       "    .dataframe tbody tr th:only-of-type {\n",
       "        vertical-align: middle;\n",
       "    }\n",
       "\n",
       "    .dataframe tbody tr th {\n",
       "        vertical-align: top;\n",
       "    }\n",
       "\n",
       "    .dataframe thead th {\n",
       "        text-align: right;\n",
       "    }\n",
       "</style>\n",
       "<table border=\"1\" class=\"dataframe\">\n",
       "  <thead>\n",
       "    <tr style=\"text-align: right;\">\n",
       "      <th></th>\n",
       "      <th>children</th>\n",
       "      <th>days_employed</th>\n",
       "      <th>dob_years</th>\n",
       "      <th>education_id</th>\n",
       "      <th>family_status_id</th>\n",
       "      <th>debt</th>\n",
       "      <th>total_income</th>\n",
       "    </tr>\n",
       "    <tr>\n",
       "      <th>income_type</th>\n",
       "      <th></th>\n",
       "      <th></th>\n",
       "      <th></th>\n",
       "      <th></th>\n",
       "      <th></th>\n",
       "      <th></th>\n",
       "      <th></th>\n",
       "    </tr>\n",
       "  </thead>\n",
       "  <tbody>\n",
       "    <tr>\n",
       "      <th>госслужащий</th>\n",
       "      <td>0</td>\n",
       "      <td>-2689.368353</td>\n",
       "      <td>40</td>\n",
       "      <td>1</td>\n",
       "      <td>0</td>\n",
       "      <td>0</td>\n",
       "      <td>150447.935283</td>\n",
       "    </tr>\n",
       "    <tr>\n",
       "      <th>компаньон</th>\n",
       "      <td>0</td>\n",
       "      <td>-1547.382223</td>\n",
       "      <td>39</td>\n",
       "      <td>1</td>\n",
       "      <td>0</td>\n",
       "      <td>0</td>\n",
       "      <td>172357.950966</td>\n",
       "    </tr>\n",
       "    <tr>\n",
       "      <th>пенсионер</th>\n",
       "      <td>0</td>\n",
       "      <td>365213.306266</td>\n",
       "      <td>60</td>\n",
       "      <td>1</td>\n",
       "      <td>0</td>\n",
       "      <td>0</td>\n",
       "      <td>118514.486412</td>\n",
       "    </tr>\n",
       "    <tr>\n",
       "      <th>сотрудник</th>\n",
       "      <td>0</td>\n",
       "      <td>-1574.202821</td>\n",
       "      <td>39</td>\n",
       "      <td>1</td>\n",
       "      <td>0</td>\n",
       "      <td>0</td>\n",
       "      <td>142594.396847</td>\n",
       "    </tr>\n",
       "  </tbody>\n",
       "</table>\n",
       "</div>"
      ],
      "text/plain": [
       "             children  days_employed  dob_years  education_id  \\\n",
       "income_type                                                     \n",
       "госслужащий         0   -2689.368353         40             1   \n",
       "компаньон           0   -1547.382223         39             1   \n",
       "пенсионер           0  365213.306266         60             1   \n",
       "сотрудник           0   -1574.202821         39             1   \n",
       "\n",
       "             family_status_id  debt   total_income  \n",
       "income_type                                         \n",
       "госслужащий                 0     0  150447.935283  \n",
       "компаньон                   0     0  172357.950966  \n",
       "пенсионер                   0     0  118514.486412  \n",
       "сотрудник                   0     0  142594.396847  "
      ]
     },
     "metadata": {},
     "output_type": "display_data"
    }
   ],
   "source": [
    "display(df.groupby(by = 'income_type').median())"
   ]
  },
  {
   "cell_type": "markdown",
   "id": "31d16952",
   "metadata": {},
   "source": [
    "Вернувшись к задече, поставленной нам из банка:\n",
    "    \n",
    "    \"влияет ли семейное положение и количество детей клиента на факт погашения кредита в срок\" \n",
    "    \n",
    "получаем, что нам не важны (а если быть честным - совсем не важны) значения в столбце 'days_employed'\n",
    "    <br/>\n",
    "    <br/> Тем не менее, кажется, что отрицательные значения в днях реалистичны, потому их необходимо перевести в положительные.\n",
    "    <br/> Текущие положительные значения находятся в районе 365 тысяч дней или 1000 лет. Мне видится, что у пенсионера стаж не может быть ни 1000, ни даже 100 лет. Но и 10 лет для пенсионера кажется маловатым. Так же выбивается что безработные обладают таким же стажем. Возможно, из этих значений нужно вычесть какую-то константу, которая приведёт значения к нормальному исходу.\n",
    "    <br/>\n",
    "    <br/>Что будет, если сравнить выборки людей от 40 до 60 лет - работающих и пенсионеров?"
   ]
  },
  {
   "cell_type": "code",
   "execution_count": 29,
   "id": "4712b419",
   "metadata": {},
   "outputs": [
    {
     "data": {
      "text/plain": [
       "2769.63967769936"
      ]
     },
     "execution_count": 29,
     "metadata": {},
     "output_type": "execute_result"
    }
   ],
   "source": [
    "#средний стаж работников от 40 до 60 лет\n",
    "avr_workers_days_employed = df[(df['dob_years'] >= 40) & \n",
    "                               (df['dob_years'] <= 60) & \n",
    "                               (df['income_type'] == 'сотрудник')]['days_employed'].mean()\n",
    "avr_workers_days_employed*(-1)"
   ]
  },
  {
   "cell_type": "code",
   "execution_count": 30,
   "id": "36a83965",
   "metadata": {},
   "outputs": [
    {
     "data": {
      "text/plain": [
       "364773.75006148947"
      ]
     },
     "execution_count": 30,
     "metadata": {},
     "output_type": "execute_result"
    }
   ],
   "source": [
    "#средний стаж пенсионеров от 40 до 60 лет\n",
    "avr_retiree_days_employed =  df[(df['dob_years'] >= 40) & \n",
    "                               (df['dob_years'] <= 60) & \n",
    "                               (df['income_type'] == 'пенсионер')]['days_employed'].mean()\n",
    "avr_retiree_days_employed"
   ]
  },
  {
   "cell_type": "code",
   "execution_count": 31,
   "id": "6c7546fc",
   "metadata": {},
   "outputs": [
    {
     "data": {
      "text/plain": [
       "131.70440653294435"
      ]
     },
     "execution_count": 31,
     "metadata": {},
     "output_type": "execute_result"
    }
   ],
   "source": [
    "#посмотрим переводной коэфициент\n",
    "\n",
    "retiree_to_workers_coeff = avr_retiree_days_employed / avr_workers_days_employed*(-1)\n",
    "retiree_to_workers_coeff"
   ]
  },
  {
   "cell_type": "code",
   "execution_count": 32,
   "id": "fc1162a0",
   "metadata": {},
   "outputs": [
    {
     "data": {
      "text/html": [
       "<div>\n",
       "<style scoped>\n",
       "    .dataframe tbody tr th:only-of-type {\n",
       "        vertical-align: middle;\n",
       "    }\n",
       "\n",
       "    .dataframe tbody tr th {\n",
       "        vertical-align: top;\n",
       "    }\n",
       "\n",
       "    .dataframe thead th {\n",
       "        text-align: right;\n",
       "    }\n",
       "</style>\n",
       "<table border=\"1\" class=\"dataframe\">\n",
       "  <thead>\n",
       "    <tr style=\"text-align: right;\">\n",
       "      <th></th>\n",
       "      <th>children</th>\n",
       "      <th>days_employed</th>\n",
       "      <th>dob_years</th>\n",
       "      <th>education</th>\n",
       "      <th>education_id</th>\n",
       "      <th>family_status</th>\n",
       "      <th>family_status_id</th>\n",
       "      <th>gender</th>\n",
       "      <th>income_type</th>\n",
       "      <th>debt</th>\n",
       "      <th>total_income</th>\n",
       "      <th>purpose</th>\n",
       "    </tr>\n",
       "  </thead>\n",
       "  <tbody>\n",
       "    <tr>\n",
       "      <th>4</th>\n",
       "      <td>0</td>\n",
       "      <td>2583.558751</td>\n",
       "      <td>53</td>\n",
       "      <td>среднее</td>\n",
       "      <td>1</td>\n",
       "      <td>гражданский брак</td>\n",
       "      <td>1</td>\n",
       "      <td>F</td>\n",
       "      <td>пенсионер</td>\n",
       "      <td>0</td>\n",
       "      <td>158616.077870</td>\n",
       "      <td>сыграть свадьбу</td>\n",
       "    </tr>\n",
       "    <tr>\n",
       "      <th>12</th>\n",
       "      <td>0</td>\n",
       "      <td>2772.977123</td>\n",
       "      <td>65</td>\n",
       "      <td>среднее</td>\n",
       "      <td>1</td>\n",
       "      <td>гражданский брак</td>\n",
       "      <td>1</td>\n",
       "      <td>M</td>\n",
       "      <td>пенсионер</td>\n",
       "      <td>0</td>\n",
       "      <td>118514.486412</td>\n",
       "      <td>сыграть свадьбу</td>\n",
       "    </tr>\n",
       "    <tr>\n",
       "      <th>18</th>\n",
       "      <td>0</td>\n",
       "      <td>3039.238758</td>\n",
       "      <td>53</td>\n",
       "      <td>среднее</td>\n",
       "      <td>1</td>\n",
       "      <td>вдовец / вдова</td>\n",
       "      <td>2</td>\n",
       "      <td>F</td>\n",
       "      <td>пенсионер</td>\n",
       "      <td>0</td>\n",
       "      <td>56823.777243</td>\n",
       "      <td>на покупку подержанного автомобиля</td>\n",
       "    </tr>\n",
       "    <tr>\n",
       "      <th>24</th>\n",
       "      <td>1</td>\n",
       "      <td>2570.543855</td>\n",
       "      <td>57</td>\n",
       "      <td>среднее</td>\n",
       "      <td>1</td>\n",
       "      <td>Не женат / не замужем</td>\n",
       "      <td>4</td>\n",
       "      <td>F</td>\n",
       "      <td>пенсионер</td>\n",
       "      <td>0</td>\n",
       "      <td>290547.235997</td>\n",
       "      <td>операции с коммерческой недвижимостью</td>\n",
       "    </tr>\n",
       "    <tr>\n",
       "      <th>25</th>\n",
       "      <td>0</td>\n",
       "      <td>2760.336567</td>\n",
       "      <td>67</td>\n",
       "      <td>среднее</td>\n",
       "      <td>1</td>\n",
       "      <td>женат / замужем</td>\n",
       "      <td>0</td>\n",
       "      <td>M</td>\n",
       "      <td>пенсионер</td>\n",
       "      <td>0</td>\n",
       "      <td>55112.757732</td>\n",
       "      <td>покупка недвижимости</td>\n",
       "    </tr>\n",
       "    <tr>\n",
       "      <th>...</th>\n",
       "      <td>...</td>\n",
       "      <td>...</td>\n",
       "      <td>...</td>\n",
       "      <td>...</td>\n",
       "      <td>...</td>\n",
       "      <td>...</td>\n",
       "      <td>...</td>\n",
       "      <td>...</td>\n",
       "      <td>...</td>\n",
       "      <td>...</td>\n",
       "      <td>...</td>\n",
       "      <td>...</td>\n",
       "    </tr>\n",
       "    <tr>\n",
       "      <th>21451</th>\n",
       "      <td>0</td>\n",
       "      <td>2573.223443</td>\n",
       "      <td>53</td>\n",
       "      <td>среднее</td>\n",
       "      <td>1</td>\n",
       "      <td>гражданский брак</td>\n",
       "      <td>1</td>\n",
       "      <td>M</td>\n",
       "      <td>пенсионер</td>\n",
       "      <td>0</td>\n",
       "      <td>75439.993167</td>\n",
       "      <td>сыграть свадьбу</td>\n",
       "    </tr>\n",
       "    <tr>\n",
       "      <th>21454</th>\n",
       "      <td>0</td>\n",
       "      <td>2934.584531</td>\n",
       "      <td>62</td>\n",
       "      <td>среднее</td>\n",
       "      <td>1</td>\n",
       "      <td>женат / замужем</td>\n",
       "      <td>0</td>\n",
       "      <td>M</td>\n",
       "      <td>пенсионер</td>\n",
       "      <td>0</td>\n",
       "      <td>72638.590915</td>\n",
       "      <td>недвижимость</td>\n",
       "    </tr>\n",
       "    <tr>\n",
       "      <th>21455</th>\n",
       "      <td>0</td>\n",
       "      <td>2749.802103</td>\n",
       "      <td>59</td>\n",
       "      <td>высшее</td>\n",
       "      <td>0</td>\n",
       "      <td>женат / замужем</td>\n",
       "      <td>0</td>\n",
       "      <td>M</td>\n",
       "      <td>пенсионер</td>\n",
       "      <td>0</td>\n",
       "      <td>73029.059379</td>\n",
       "      <td>операции с недвижимостью</td>\n",
       "    </tr>\n",
       "    <tr>\n",
       "      <th>21464</th>\n",
       "      <td>0</td>\n",
       "      <td>2839.659816</td>\n",
       "      <td>59</td>\n",
       "      <td>СРЕДНЕЕ</td>\n",
       "      <td>1</td>\n",
       "      <td>женат / замужем</td>\n",
       "      <td>0</td>\n",
       "      <td>F</td>\n",
       "      <td>пенсионер</td>\n",
       "      <td>0</td>\n",
       "      <td>153864.650328</td>\n",
       "      <td>сделка с автомобилем</td>\n",
       "    </tr>\n",
       "    <tr>\n",
       "      <th>21467</th>\n",
       "      <td>0</td>\n",
       "      <td>2611.434296</td>\n",
       "      <td>67</td>\n",
       "      <td>среднее</td>\n",
       "      <td>1</td>\n",
       "      <td>женат / замужем</td>\n",
       "      <td>0</td>\n",
       "      <td>F</td>\n",
       "      <td>пенсионер</td>\n",
       "      <td>0</td>\n",
       "      <td>155999.806512</td>\n",
       "      <td>сделка с автомобилем</td>\n",
       "    </tr>\n",
       "  </tbody>\n",
       "</table>\n",
       "<p>3837 rows × 12 columns</p>\n",
       "</div>"
      ],
      "text/plain": [
       "       children  days_employed  dob_years education  education_id  \\\n",
       "4             0    2583.558751         53   среднее             1   \n",
       "12            0    2772.977123         65   среднее             1   \n",
       "18            0    3039.238758         53   среднее             1   \n",
       "24            1    2570.543855         57   среднее             1   \n",
       "25            0    2760.336567         67   среднее             1   \n",
       "...         ...            ...        ...       ...           ...   \n",
       "21451         0    2573.223443         53   среднее             1   \n",
       "21454         0    2934.584531         62   среднее             1   \n",
       "21455         0    2749.802103         59    высшее             0   \n",
       "21464         0    2839.659816         59   СРЕДНЕЕ             1   \n",
       "21467         0    2611.434296         67   среднее             1   \n",
       "\n",
       "               family_status  family_status_id gender income_type  debt  \\\n",
       "4           гражданский брак                 1      F   пенсионер     0   \n",
       "12          гражданский брак                 1      M   пенсионер     0   \n",
       "18            вдовец / вдова                 2      F   пенсионер     0   \n",
       "24     Не женат / не замужем                 4      F   пенсионер     0   \n",
       "25           женат / замужем                 0      M   пенсионер     0   \n",
       "...                      ...               ...    ...         ...   ...   \n",
       "21451       гражданский брак                 1      M   пенсионер     0   \n",
       "21454        женат / замужем                 0      M   пенсионер     0   \n",
       "21455        женат / замужем                 0      M   пенсионер     0   \n",
       "21464        женат / замужем                 0      F   пенсионер     0   \n",
       "21467        женат / замужем                 0      F   пенсионер     0   \n",
       "\n",
       "        total_income                                purpose  \n",
       "4      158616.077870                        сыграть свадьбу  \n",
       "12     118514.486412                        сыграть свадьбу  \n",
       "18      56823.777243     на покупку подержанного автомобиля  \n",
       "24     290547.235997  операции с коммерческой недвижимостью  \n",
       "25      55112.757732                   покупка недвижимости  \n",
       "...              ...                                    ...  \n",
       "21451   75439.993167                        сыграть свадьбу  \n",
       "21454   72638.590915                           недвижимость  \n",
       "21455   73029.059379               операции с недвижимостью  \n",
       "21464  153864.650328                   сделка с автомобилем  \n",
       "21467  155999.806512                   сделка с автомобилем  \n",
       "\n",
       "[3837 rows x 12 columns]"
      ]
     },
     "metadata": {},
     "output_type": "display_data"
    }
   ],
   "source": [
    "#проверим, что будет, если применить такой коэффициент к стажу пенсионеров и безработных\n",
    "\n",
    "retiree_list = pd.DataFrame( data = df[df['days_employed'] > 0])\n",
    "#retiree_list['days_employed'] = retiree_list['days_employed'].astype('int')\n",
    "\n",
    "\n",
    "retiree_list['days_employed'] = retiree_list['days_employed'] / retiree_to_workers_coeff\n",
    "\n",
    "display(retiree_list)\n"
   ]
  },
  {
   "cell_type": "code",
   "execution_count": 33,
   "id": "84ccacc8",
   "metadata": {},
   "outputs": [
    {
     "name": "stdout",
     "output_type": "stream",
     "text": [
      "-2253.4469017287774\n",
      "2771.5476314055068\n"
     ]
    }
   ],
   "source": [
    "#сравним средний стаж работников и других\n",
    "print(df[df['income_type'] == 'сотрудник']['days_employed'].mean())\n",
    "print(retiree_list[retiree_list['income_type'] != 'сотрудник']['days_employed'].mean())"
   ]
  },
  {
   "cell_type": "markdown",
   "id": "e4054235",
   "metadata": {},
   "source": [
    "    Получили что-то похожее на правду. Если посчитать на калькуляторе средние значения стажа для работников в годах, то получается 7 лет. Если среднее значение стажа пенсионеров разделить на 7 - получается около 52 тысяч. Еще одна из теорий - возможно для неработающих по какой-то причине стаж записан в неделях и умножен на тысячу. \n",
    "    У меня нет этому объяснения."
   ]
  },
  {
   "cell_type": "markdown",
   "id": "53472dd7",
   "metadata": {},
   "source": [
    "посмотрим уникальные значения столбцов, чтобы \"увидеть аномалии\""
   ]
  },
  {
   "cell_type": "code",
   "execution_count": 39,
   "id": "4dad1b7b",
   "metadata": {},
   "outputs": [
    {
     "name": "stdout",
     "output_type": "stream",
     "text": [
      "[ 1  0  3  2 -1  4 20  5]     children\n",
      "[-8437.67302776 -4024.80375385 -5623.42261023 ... -2113.3468877\n",
      " -3112.4817052  -1984.50758853]     days_employed\n",
      "[42 36 33 32 53 27 43 50 35 41 40 65 54 56 26 48 24 21 57 67 28 63 62 47\n",
      " 34 68 25 31 30 20 49 37 45 61 64 44 52 46 23 38 39 51  0 59 29 60 55 58\n",
      " 71 22 73 66 69 19 72 70 74 75]     dob_years\n",
      "['высшее' 'среднее' 'Среднее' 'СРЕДНЕЕ' 'ВЫСШЕЕ' 'неоконченное высшее'\n",
      " 'начальное' 'Высшее' 'НЕОКОНЧЕННОЕ ВЫСШЕЕ' 'Неоконченное высшее'\n",
      " 'НАЧАЛЬНОЕ' 'Начальное' 'Ученая степень' 'УЧЕНАЯ СТЕПЕНЬ'\n",
      " 'ученая степень']     education\n",
      "[0 1 2 3 4]     education_id\n",
      "['женат / замужем' 'гражданский брак' 'вдовец / вдова' 'в разводе'\n",
      " 'Не женат / не замужем']     family_status\n",
      "[0 1 2 3 4]     family_status_id\n",
      "['F' 'M' 'XNA']     gender\n",
      "['сотрудник' 'пенсионер' 'компаньон' 'госслужащий']     income_type\n",
      "[0 1]     debt\n",
      "[253875.6394526  112080.01410244 145885.95229686 ...  89672.56115303\n",
      " 244093.05050043  82047.41889948]     total_income\n",
      "['покупка жилья' 'приобретение автомобиля' 'дополнительное образование'\n",
      " 'сыграть свадьбу' 'операции с жильем' 'образование'\n",
      " 'на проведение свадьбы' 'покупка жилья для семьи' 'покупка недвижимости'\n",
      " 'покупка коммерческой недвижимости' 'покупка жилой недвижимости'\n",
      " 'строительство собственной недвижимости' 'недвижимость'\n",
      " 'строительство недвижимости' 'на покупку подержанного автомобиля'\n",
      " 'на покупку своего автомобиля' 'операции с коммерческой недвижимостью'\n",
      " 'строительство жилой недвижимости' 'жилье'\n",
      " 'операции со своей недвижимостью' 'автомобили' 'заняться образованием'\n",
      " 'сделка с подержанным автомобилем' 'получение образования' 'автомобиль'\n",
      " 'свадьба' 'получение дополнительного образования' 'покупка своего жилья'\n",
      " 'операции с недвижимостью' 'получение высшего образования'\n",
      " 'свой автомобиль' 'сделка с автомобилем' 'профильное образование'\n",
      " 'высшее образование' 'покупка жилья для сдачи' 'на покупку автомобиля'\n",
      " 'ремонт жилью' 'заняться высшим образованием']     purpose\n"
     ]
    }
   ],
   "source": [
    "for name in df.columns:\n",
    "    print(df[name].unique(), '   ', name)"
   ]
  },
  {
   "cell_type": "markdown",
   "id": "18ecbdb4",
   "metadata": {},
   "source": [
    "\n",
    "Количество детей - есть явная ошибка \"-1\". И возможна неявная - 20 детей. Нужно проверить эти строчки.\n",
    "<br/>\n",
    "<br/>\n",
    "    Возраст заёмщиков начинается с нуля лет. Это явная ошибка. Данные не критичные, можно заменить на средний возраст по столбцу.\n",
    "<br/>\n",
    "<br/> \n",
    "    В графе 'образование' много повторов, но удалять мы их будем позже. Сейчас мы видим, что есть 5 типов образования и 5 индексов. Тут всё корректно. \n",
    "<br/>\n",
    "<br/> \n",
    "    С семейным статусом всё корректно. Нет повторов. Пять видов статусов и пять индикаторов статусов.\n",
    "<br/>\n",
    "<br/>\n",
    "    Обнаружился уникальный гендер XNA, хотя индексов для гендера всего два. Очевидно, это ошибка. Поскольку мы будем оценивать количество детей и семейное положение, то можно это значение заменить на любое по вкусу.\n",
    "<br/>\n",
    "<br/>\n",
    "    Значения в графе \"цель кредита\" не блещут структурированностью, но явных ошибок не содержат.\n",
    "<br/>\n",
    "<br/> ИТОГО:<br/> 1) Разобраться с количеством детей. <br/>2) Разобраться с возрастом <br/>3) Разобраться с уникальным гендером.\n",
    "    \n",
    "    \n"
   ]
  },
  {
   "cell_type": "code",
   "execution_count": 40,
   "id": "2354ea97",
   "metadata": {},
   "outputs": [
    {
     "data": {
      "text/plain": [
       " 0     14103\n",
       " 1      4808\n",
       " 2      2051\n",
       " 3       330\n",
       " 20       76\n",
       "-1        47\n",
       " 4        41\n",
       " 5         9\n",
       "Name: children, dtype: int64"
      ]
     },
     "execution_count": 40,
     "metadata": {},
     "output_type": "execute_result"
    }
   ],
   "source": [
    "#проверим сколько строк содержат \"-1\" и \"20\" детей.\n",
    "\n",
    "df['children'].value_counts()\n"
   ]
  },
  {
   "cell_type": "code",
   "execution_count": 41,
   "id": "1aaa17ee",
   "metadata": {},
   "outputs": [
    {
     "data": {
      "text/plain": [
       "dob_years\n",
       "0     101\n",
       "19     14\n",
       "20     51\n",
       "21    111\n",
       "22    182\n",
       "Name: purpose, dtype: int64"
      ]
     },
     "execution_count": 41,
     "metadata": {},
     "output_type": "execute_result"
    }
   ],
   "source": [
    "#проверим сколько людей в ноль лет взяли кредит.\n",
    "\n",
    "loaner_by_age = df.groupby(by = 'dob_years')['purpose'].count()\n",
    "\n",
    "loaner_by_age.head(5)\n"
   ]
  },
  {
   "cell_type": "code",
   "execution_count": 42,
   "id": "3e5df198",
   "metadata": {},
   "outputs": [
    {
     "data": {
      "text/plain": [
       "F      14186\n",
       "M       7278\n",
       "XNA        1\n",
       "Name: gender, dtype: int64"
      ]
     },
     "execution_count": 42,
     "metadata": {},
     "output_type": "execute_result"
    }
   ],
   "source": [
    "#проверим, сколько людей имеют уникальный генедр\n",
    "\n",
    "df['gender'].value_counts()\n"
   ]
  },
  {
   "cell_type": "markdown",
   "id": "7cd24120",
   "metadata": {},
   "source": [
    "\n",
    "ИТОГО: 76 людей с 20 детьми (явная ошибка), 47 людей с минус одним ребенком (явная ошибка).\n",
    "<br/>\n",
    "<br/>1) Поскольку у нас 21525 измерений, а строк с ошибками 76+47 = 123, то это составляет 0.5%. Уверен, что \"гадать\" на данных с ошибкой в критической информации явно не стоит, а уж тем более там, где это составляет такой низкий процент от выборки.\n",
    "<br/>\n",
    "<br/>2) Люди без возраста будут превращены в людей со средним возрастом по столбцу\n",
    "<br/>\n",
    "<br/>3) Уникальный гендер в единственном экземпляре, будет заменен на 'F', поскольку значений в этом подтипе в два раза больше, а значит влияние будет минимальным.\n",
    "<br/>\n",
    "<br/> Так же необходимо отрицательный стаж умножить на '-1'.\n",
    "<br/>\n",
    "<br/> Поехали!\n"
   ]
  },
  {
   "cell_type": "code",
   "execution_count": 46,
   "id": "ed142c33",
   "metadata": {},
   "outputs": [
    {
     "data": {
      "text/plain": [
       "0    14103\n",
       "1     4808\n",
       "2     2051\n",
       "3      330\n",
       "4       41\n",
       "5        9\n",
       "Name: children, dtype: int64"
      ]
     },
     "execution_count": 46,
     "metadata": {},
     "output_type": "execute_result"
    }
   ],
   "source": [
    "# 1) Удаляем строки с некорректным количеством детей и сбрасываем индексы\n",
    "df = df.loc[df['children'] != -1]\n",
    "df = df.loc[df['children'] != 20].reset_index(drop=True)\n",
    "df['children'].value_counts()\n",
    "\n"
   ]
  },
  {
   "cell_type": "code",
   "execution_count": 47,
   "id": "2ddf7e3a",
   "metadata": {},
   "outputs": [
    {
     "data": {
      "text/plain": [
       "dob_years\n",
       "40.0    601\n",
       "41.0    602\n",
       "42.0    691\n",
       "43.0    509\n",
       "44.0    541\n",
       "45.0    493\n",
       "Name: dob_years, dtype: int64"
      ]
     },
     "execution_count": 47,
     "metadata": {},
     "output_type": "execute_result"
    }
   ],
   "source": [
    "# 2) первращаем возраст \"ноль\" в средний по столбцу\n",
    "median_age = df['dob_years'].median()\n",
    "\n",
    "df.loc[df['dob_years'] == 0, 'dob_years'] = median_age\n",
    "df.groupby(by = 'dob_years')['dob_years'].count()[40:45] \n",
    "#наши 101 человек с возрастом ноль превратились в +95 человек с возрастом 42 \n",
    "#похоже у кого-то из них было -1 или 20 детей\n"
   ]
  },
  {
   "cell_type": "code",
   "execution_count": 48,
   "id": "e790fb79",
   "metadata": {},
   "outputs": [
    {
     "data": {
      "text/plain": [
       "F    14105\n",
       "M     7237\n",
       "Name: gender, dtype: int64"
      ]
     },
     "execution_count": 48,
     "metadata": {},
     "output_type": "execute_result"
    }
   ],
   "source": [
    "# 3) первращаем гендер \"XNA\" в 'F'\n",
    "\n",
    "df.loc[df['gender'] == 'XNA','gender'] = 'F'\n",
    "df['gender'].value_counts()\n"
   ]
  },
  {
   "cell_type": "code",
   "execution_count": 49,
   "id": "8c57789d",
   "metadata": {},
   "outputs": [],
   "source": [
    "# избавляемся от отрицательных значений в строке 'days_employed'\n",
    "df.loc[df['days_employed'] < 0, 'days_employed'] = df.loc[df['days_employed'] < 0, 'days_employed'] * (-1)\n"
   ]
  },
  {
   "cell_type": "code",
   "execution_count": 50,
   "id": "89a346fd",
   "metadata": {
    "scrolled": true
   },
   "outputs": [
    {
     "data": {
      "text/html": [
       "<div>\n",
       "<style scoped>\n",
       "    .dataframe tbody tr th:only-of-type {\n",
       "        vertical-align: middle;\n",
       "    }\n",
       "\n",
       "    .dataframe tbody tr th {\n",
       "        vertical-align: top;\n",
       "    }\n",
       "\n",
       "    .dataframe thead th {\n",
       "        text-align: right;\n",
       "    }\n",
       "</style>\n",
       "<table border=\"1\" class=\"dataframe\">\n",
       "  <thead>\n",
       "    <tr style=\"text-align: right;\">\n",
       "      <th></th>\n",
       "      <th>children</th>\n",
       "      <th>days_employed</th>\n",
       "      <th>dob_years</th>\n",
       "      <th>education_id</th>\n",
       "      <th>family_status_id</th>\n",
       "      <th>debt</th>\n",
       "      <th>total_income</th>\n",
       "    </tr>\n",
       "    <tr>\n",
       "      <th>income_type</th>\n",
       "      <th></th>\n",
       "      <th></th>\n",
       "      <th></th>\n",
       "      <th></th>\n",
       "      <th></th>\n",
       "      <th></th>\n",
       "      <th></th>\n",
       "    </tr>\n",
       "  </thead>\n",
       "  <tbody>\n",
       "    <tr>\n",
       "      <th>госслужащий</th>\n",
       "      <td>0</td>\n",
       "      <td>2689.368353</td>\n",
       "      <td>40.0</td>\n",
       "      <td>1</td>\n",
       "      <td>0</td>\n",
       "      <td>0</td>\n",
       "      <td>150447.935283</td>\n",
       "    </tr>\n",
       "    <tr>\n",
       "      <th>компаньон</th>\n",
       "      <td>0</td>\n",
       "      <td>1547.382223</td>\n",
       "      <td>39.0</td>\n",
       "      <td>1</td>\n",
       "      <td>0</td>\n",
       "      <td>0</td>\n",
       "      <td>172357.950966</td>\n",
       "    </tr>\n",
       "    <tr>\n",
       "      <th>пенсионер</th>\n",
       "      <td>0</td>\n",
       "      <td>365213.306266</td>\n",
       "      <td>60.0</td>\n",
       "      <td>1</td>\n",
       "      <td>0</td>\n",
       "      <td>0</td>\n",
       "      <td>118514.486412</td>\n",
       "    </tr>\n",
       "    <tr>\n",
       "      <th>сотрудник</th>\n",
       "      <td>0</td>\n",
       "      <td>1574.202821</td>\n",
       "      <td>40.0</td>\n",
       "      <td>1</td>\n",
       "      <td>0</td>\n",
       "      <td>0</td>\n",
       "      <td>142594.396847</td>\n",
       "    </tr>\n",
       "  </tbody>\n",
       "</table>\n",
       "</div>"
      ],
      "text/plain": [
       "             children  days_employed  dob_years  education_id  \\\n",
       "income_type                                                     \n",
       "госслужащий         0    2689.368353       40.0             1   \n",
       "компаньон           0    1547.382223       39.0             1   \n",
       "пенсионер           0  365213.306266       60.0             1   \n",
       "сотрудник           0    1574.202821       40.0             1   \n",
       "\n",
       "             family_status_id  debt   total_income  \n",
       "income_type                                         \n",
       "госслужащий                 0     0  150447.935283  \n",
       "компаньон                   0     0  172357.950966  \n",
       "пенсионер                   0     0  118514.486412  \n",
       "сотрудник                   0     0  142594.396847  "
      ]
     },
     "metadata": {},
     "output_type": "display_data"
    }
   ],
   "source": [
    "#проверяем\n",
    "\n",
    "display(df.groupby(by = 'income_type').median())"
   ]
  },
  {
   "cell_type": "markdown",
   "id": "61b0830d",
   "metadata": {},
   "source": [
    "После обработки причины кажутся следующими:\n",
    "<br/>\n",
    "<br/>1) Количество детей - скорее всего неверная загрузка данных из шаблона. минус один, скорее всего, это дефис один. 20 детей - скорее всего это 2. Но установить точных причин не представляется возможным, а количество сбитых данных мало по сравнению с выборкой, потому принял решение удалить.\n",
    "<br/>\n",
    "<br/>2) возраст 0 - скорее всего пустое значение, превратившееся в ноль.\n",
    "<br/>\n",
    "<br/>3) Уникальный гендер видимо так же возврат пустого значения.\n",
    "<br/>\n",
    "<br/> Свои домыслы относительно стажа я уже высказал ранее. Скорее всего минус - это дефис. \n"
   ]
  },
  {
   "cell_type": "markdown",
   "id": "5e4f73ad",
   "metadata": {},
   "source": [
    "###  Изменение типов данных."
   ]
  },
  {
   "cell_type": "code",
   "execution_count": 51,
   "id": "4805f088",
   "metadata": {},
   "outputs": [
    {
     "name": "stdout",
     "output_type": "stream",
     "text": [
      "<class 'pandas.core.frame.DataFrame'>\n",
      "RangeIndex: 21342 entries, 0 to 21341\n",
      "Data columns (total 12 columns):\n",
      " #   Column            Non-Null Count  Dtype  \n",
      "---  ------            --------------  -----  \n",
      " 0   children          21342 non-null  int64  \n",
      " 1   days_employed     21342 non-null  float64\n",
      " 2   dob_years         21342 non-null  float64\n",
      " 3   education         21342 non-null  object \n",
      " 4   education_id      21342 non-null  int64  \n",
      " 5   family_status     21342 non-null  object \n",
      " 6   family_status_id  21342 non-null  int64  \n",
      " 7   gender            21342 non-null  object \n",
      " 8   income_type       21342 non-null  object \n",
      " 9   debt              21342 non-null  int64  \n",
      " 10  total_income      21342 non-null  int64  \n",
      " 11  purpose           21342 non-null  object \n",
      "dtypes: float64(2), int64(5), object(5)\n",
      "memory usage: 2.0+ MB\n"
     ]
    }
   ],
   "source": [
    "#заменяем доход на целочисленное значение.\n",
    "\n",
    "try:\n",
    "    df['total_income'] = df['total_income'].astype('int')\n",
    "except:\n",
    "    print('проверьте значения')\n",
    "    \n",
    "df.info()"
   ]
  },
  {
   "cell_type": "markdown",
   "id": "6490d3d6",
   "metadata": {},
   "source": [
    "###  Удаление дубликатов."
   ]
  },
  {
   "cell_type": "code",
   "execution_count": 52,
   "id": "adf95b0f",
   "metadata": {},
   "outputs": [
    {
     "data": {
      "text/plain": [
       "array(['высшее', 'среднее', 'неоконченное высшее', 'начальное',\n",
       "       'ученая степень'], dtype=object)"
      ]
     },
     "execution_count": 52,
     "metadata": {},
     "output_type": "execute_result"
    }
   ],
   "source": [
    "#разберемся с образованием\n",
    "df['education'] = df['education'].str.lower()\n",
    "df['education'].unique()\n",
    "#как видим, типов образования осталось всего 5, как и индексов."
   ]
  },
  {
   "cell_type": "code",
   "execution_count": 53,
   "id": "09e8873e",
   "metadata": {
    "scrolled": true
   },
   "outputs": [
    {
     "data": {
      "text/plain": [
       "18"
      ]
     },
     "execution_count": 53,
     "metadata": {},
     "output_type": "execute_result"
    }
   ],
   "source": [
    "#посчитаем количество дубликатов\n",
    "df.duplicated().sum()"
   ]
  },
  {
   "cell_type": "code",
   "execution_count": 54,
   "id": "d51f9eb2",
   "metadata": {},
   "outputs": [
    {
     "data": {
      "text/html": [
       "<div>\n",
       "<style scoped>\n",
       "    .dataframe tbody tr th:only-of-type {\n",
       "        vertical-align: middle;\n",
       "    }\n",
       "\n",
       "    .dataframe tbody tr th {\n",
       "        vertical-align: top;\n",
       "    }\n",
       "\n",
       "    .dataframe thead th {\n",
       "        text-align: right;\n",
       "    }\n",
       "</style>\n",
       "<table border=\"1\" class=\"dataframe\">\n",
       "  <thead>\n",
       "    <tr style=\"text-align: right;\">\n",
       "      <th></th>\n",
       "      <th>children</th>\n",
       "      <th>days_employed</th>\n",
       "      <th>dob_years</th>\n",
       "      <th>education</th>\n",
       "      <th>education_id</th>\n",
       "      <th>family_status</th>\n",
       "      <th>family_status_id</th>\n",
       "      <th>gender</th>\n",
       "      <th>income_type</th>\n",
       "      <th>debt</th>\n",
       "      <th>total_income</th>\n",
       "      <th>purpose</th>\n",
       "    </tr>\n",
       "  </thead>\n",
       "  <tbody>\n",
       "    <tr>\n",
       "      <th>3275</th>\n",
       "      <td>0</td>\n",
       "      <td>365213.306266</td>\n",
       "      <td>58.0</td>\n",
       "      <td>среднее</td>\n",
       "      <td>1</td>\n",
       "      <td>гражданский брак</td>\n",
       "      <td>1</td>\n",
       "      <td>F</td>\n",
       "      <td>пенсионер</td>\n",
       "      <td>0</td>\n",
       "      <td>118514</td>\n",
       "      <td>сыграть свадьбу</td>\n",
       "    </tr>\n",
       "    <tr>\n",
       "      <th>6276</th>\n",
       "      <td>0</td>\n",
       "      <td>1574.202821</td>\n",
       "      <td>30.0</td>\n",
       "      <td>среднее</td>\n",
       "      <td>1</td>\n",
       "      <td>женат / замужем</td>\n",
       "      <td>0</td>\n",
       "      <td>M</td>\n",
       "      <td>сотрудник</td>\n",
       "      <td>0</td>\n",
       "      <td>142594</td>\n",
       "      <td>строительство жилой недвижимости</td>\n",
       "    </tr>\n",
       "    <tr>\n",
       "      <th>7874</th>\n",
       "      <td>0</td>\n",
       "      <td>365213.306266</td>\n",
       "      <td>64.0</td>\n",
       "      <td>высшее</td>\n",
       "      <td>0</td>\n",
       "      <td>гражданский брак</td>\n",
       "      <td>1</td>\n",
       "      <td>F</td>\n",
       "      <td>пенсионер</td>\n",
       "      <td>0</td>\n",
       "      <td>118514</td>\n",
       "      <td>на проведение свадьбы</td>\n",
       "    </tr>\n",
       "    <tr>\n",
       "      <th>7891</th>\n",
       "      <td>0</td>\n",
       "      <td>365213.306266</td>\n",
       "      <td>71.0</td>\n",
       "      <td>среднее</td>\n",
       "      <td>1</td>\n",
       "      <td>гражданский брак</td>\n",
       "      <td>1</td>\n",
       "      <td>F</td>\n",
       "      <td>пенсионер</td>\n",
       "      <td>0</td>\n",
       "      <td>118514</td>\n",
       "      <td>на проведение свадьбы</td>\n",
       "    </tr>\n",
       "    <tr>\n",
       "      <th>9543</th>\n",
       "      <td>0</td>\n",
       "      <td>365213.306266</td>\n",
       "      <td>71.0</td>\n",
       "      <td>среднее</td>\n",
       "      <td>1</td>\n",
       "      <td>гражданский брак</td>\n",
       "      <td>1</td>\n",
       "      <td>F</td>\n",
       "      <td>пенсионер</td>\n",
       "      <td>0</td>\n",
       "      <td>118514</td>\n",
       "      <td>на проведение свадьбы</td>\n",
       "    </tr>\n",
       "    <tr>\n",
       "      <th>9793</th>\n",
       "      <td>0</td>\n",
       "      <td>365213.306266</td>\n",
       "      <td>62.0</td>\n",
       "      <td>среднее</td>\n",
       "      <td>1</td>\n",
       "      <td>женат / замужем</td>\n",
       "      <td>0</td>\n",
       "      <td>F</td>\n",
       "      <td>пенсионер</td>\n",
       "      <td>0</td>\n",
       "      <td>118514</td>\n",
       "      <td>получение дополнительного образования</td>\n",
       "    </tr>\n",
       "    <tr>\n",
       "      <th>13993</th>\n",
       "      <td>0</td>\n",
       "      <td>1574.202821</td>\n",
       "      <td>48.0</td>\n",
       "      <td>среднее</td>\n",
       "      <td>1</td>\n",
       "      <td>гражданский брак</td>\n",
       "      <td>1</td>\n",
       "      <td>F</td>\n",
       "      <td>сотрудник</td>\n",
       "      <td>0</td>\n",
       "      <td>142594</td>\n",
       "      <td>свадьба</td>\n",
       "    </tr>\n",
       "    <tr>\n",
       "      <th>14620</th>\n",
       "      <td>0</td>\n",
       "      <td>1574.202821</td>\n",
       "      <td>46.0</td>\n",
       "      <td>среднее</td>\n",
       "      <td>1</td>\n",
       "      <td>гражданский брак</td>\n",
       "      <td>1</td>\n",
       "      <td>F</td>\n",
       "      <td>сотрудник</td>\n",
       "      <td>0</td>\n",
       "      <td>142594</td>\n",
       "      <td>покупка жилья для сдачи</td>\n",
       "    </tr>\n",
       "    <tr>\n",
       "      <th>14901</th>\n",
       "      <td>0</td>\n",
       "      <td>1574.202821</td>\n",
       "      <td>42.0</td>\n",
       "      <td>среднее</td>\n",
       "      <td>1</td>\n",
       "      <td>гражданский брак</td>\n",
       "      <td>1</td>\n",
       "      <td>F</td>\n",
       "      <td>сотрудник</td>\n",
       "      <td>0</td>\n",
       "      <td>142594</td>\n",
       "      <td>на проведение свадьбы</td>\n",
       "    </tr>\n",
       "    <tr>\n",
       "      <th>15870</th>\n",
       "      <td>0</td>\n",
       "      <td>1547.382223</td>\n",
       "      <td>51.0</td>\n",
       "      <td>среднее</td>\n",
       "      <td>1</td>\n",
       "      <td>гражданский брак</td>\n",
       "      <td>1</td>\n",
       "      <td>F</td>\n",
       "      <td>компаньон</td>\n",
       "      <td>0</td>\n",
       "      <td>172357</td>\n",
       "      <td>на проведение свадьбы</td>\n",
       "    </tr>\n",
       "    <tr>\n",
       "      <th>16081</th>\n",
       "      <td>0</td>\n",
       "      <td>365213.306266</td>\n",
       "      <td>56.0</td>\n",
       "      <td>среднее</td>\n",
       "      <td>1</td>\n",
       "      <td>женат / замужем</td>\n",
       "      <td>0</td>\n",
       "      <td>F</td>\n",
       "      <td>пенсионер</td>\n",
       "      <td>0</td>\n",
       "      <td>118514</td>\n",
       "      <td>на покупку автомобиля</td>\n",
       "    </tr>\n",
       "    <tr>\n",
       "      <th>17204</th>\n",
       "      <td>0</td>\n",
       "      <td>365213.306266</td>\n",
       "      <td>64.0</td>\n",
       "      <td>среднее</td>\n",
       "      <td>1</td>\n",
       "      <td>гражданский брак</td>\n",
       "      <td>1</td>\n",
       "      <td>F</td>\n",
       "      <td>пенсионер</td>\n",
       "      <td>0</td>\n",
       "      <td>118514</td>\n",
       "      <td>сыграть свадьбу</td>\n",
       "    </tr>\n",
       "    <tr>\n",
       "      <th>19139</th>\n",
       "      <td>0</td>\n",
       "      <td>1574.202821</td>\n",
       "      <td>51.0</td>\n",
       "      <td>среднее</td>\n",
       "      <td>1</td>\n",
       "      <td>женат / замужем</td>\n",
       "      <td>0</td>\n",
       "      <td>F</td>\n",
       "      <td>сотрудник</td>\n",
       "      <td>0</td>\n",
       "      <td>142594</td>\n",
       "      <td>покупка коммерческой недвижимости</td>\n",
       "    </tr>\n",
       "    <tr>\n",
       "      <th>19211</th>\n",
       "      <td>0</td>\n",
       "      <td>1547.382223</td>\n",
       "      <td>45.0</td>\n",
       "      <td>среднее</td>\n",
       "      <td>1</td>\n",
       "      <td>гражданский брак</td>\n",
       "      <td>1</td>\n",
       "      <td>F</td>\n",
       "      <td>компаньон</td>\n",
       "      <td>0</td>\n",
       "      <td>172357</td>\n",
       "      <td>свадьба</td>\n",
       "    </tr>\n",
       "    <tr>\n",
       "      <th>19399</th>\n",
       "      <td>0</td>\n",
       "      <td>1574.202821</td>\n",
       "      <td>41.0</td>\n",
       "      <td>среднее</td>\n",
       "      <td>1</td>\n",
       "      <td>женат / замужем</td>\n",
       "      <td>0</td>\n",
       "      <td>F</td>\n",
       "      <td>сотрудник</td>\n",
       "      <td>0</td>\n",
       "      <td>142594</td>\n",
       "      <td>свой автомобиль</td>\n",
       "    </tr>\n",
       "    <tr>\n",
       "      <th>20019</th>\n",
       "      <td>0</td>\n",
       "      <td>365213.306266</td>\n",
       "      <td>65.0</td>\n",
       "      <td>среднее</td>\n",
       "      <td>1</td>\n",
       "      <td>гражданский брак</td>\n",
       "      <td>1</td>\n",
       "      <td>F</td>\n",
       "      <td>пенсионер</td>\n",
       "      <td>0</td>\n",
       "      <td>118514</td>\n",
       "      <td>сыграть свадьбу</td>\n",
       "    </tr>\n",
       "    <tr>\n",
       "      <th>20129</th>\n",
       "      <td>1</td>\n",
       "      <td>1574.202821</td>\n",
       "      <td>23.0</td>\n",
       "      <td>среднее</td>\n",
       "      <td>1</td>\n",
       "      <td>гражданский брак</td>\n",
       "      <td>1</td>\n",
       "      <td>F</td>\n",
       "      <td>сотрудник</td>\n",
       "      <td>0</td>\n",
       "      <td>142594</td>\n",
       "      <td>сыграть свадьбу</td>\n",
       "    </tr>\n",
       "    <tr>\n",
       "      <th>20492</th>\n",
       "      <td>0</td>\n",
       "      <td>1574.202821</td>\n",
       "      <td>58.0</td>\n",
       "      <td>среднее</td>\n",
       "      <td>1</td>\n",
       "      <td>гражданский брак</td>\n",
       "      <td>1</td>\n",
       "      <td>M</td>\n",
       "      <td>сотрудник</td>\n",
       "      <td>0</td>\n",
       "      <td>142594</td>\n",
       "      <td>на проведение свадьбы</td>\n",
       "    </tr>\n",
       "  </tbody>\n",
       "</table>\n",
       "</div>"
      ],
      "text/plain": [
       "       children  days_employed  dob_years education  education_id  \\\n",
       "3275          0  365213.306266       58.0   среднее             1   \n",
       "6276          0    1574.202821       30.0   среднее             1   \n",
       "7874          0  365213.306266       64.0    высшее             0   \n",
       "7891          0  365213.306266       71.0   среднее             1   \n",
       "9543          0  365213.306266       71.0   среднее             1   \n",
       "9793          0  365213.306266       62.0   среднее             1   \n",
       "13993         0    1574.202821       48.0   среднее             1   \n",
       "14620         0    1574.202821       46.0   среднее             1   \n",
       "14901         0    1574.202821       42.0   среднее             1   \n",
       "15870         0    1547.382223       51.0   среднее             1   \n",
       "16081         0  365213.306266       56.0   среднее             1   \n",
       "17204         0  365213.306266       64.0   среднее             1   \n",
       "19139         0    1574.202821       51.0   среднее             1   \n",
       "19211         0    1547.382223       45.0   среднее             1   \n",
       "19399         0    1574.202821       41.0   среднее             1   \n",
       "20019         0  365213.306266       65.0   среднее             1   \n",
       "20129         1    1574.202821       23.0   среднее             1   \n",
       "20492         0    1574.202821       58.0   среднее             1   \n",
       "\n",
       "          family_status  family_status_id gender income_type  debt  \\\n",
       "3275   гражданский брак                 1      F   пенсионер     0   \n",
       "6276    женат / замужем                 0      M   сотрудник     0   \n",
       "7874   гражданский брак                 1      F   пенсионер     0   \n",
       "7891   гражданский брак                 1      F   пенсионер     0   \n",
       "9543   гражданский брак                 1      F   пенсионер     0   \n",
       "9793    женат / замужем                 0      F   пенсионер     0   \n",
       "13993  гражданский брак                 1      F   сотрудник     0   \n",
       "14620  гражданский брак                 1      F   сотрудник     0   \n",
       "14901  гражданский брак                 1      F   сотрудник     0   \n",
       "15870  гражданский брак                 1      F   компаньон     0   \n",
       "16081   женат / замужем                 0      F   пенсионер     0   \n",
       "17204  гражданский брак                 1      F   пенсионер     0   \n",
       "19139   женат / замужем                 0      F   сотрудник     0   \n",
       "19211  гражданский брак                 1      F   компаньон     0   \n",
       "19399   женат / замужем                 0      F   сотрудник     0   \n",
       "20019  гражданский брак                 1      F   пенсионер     0   \n",
       "20129  гражданский брак                 1      F   сотрудник     0   \n",
       "20492  гражданский брак                 1      M   сотрудник     0   \n",
       "\n",
       "       total_income                                purpose  \n",
       "3275         118514                        сыграть свадьбу  \n",
       "6276         142594       строительство жилой недвижимости  \n",
       "7874         118514                  на проведение свадьбы  \n",
       "7891         118514                  на проведение свадьбы  \n",
       "9543         118514                  на проведение свадьбы  \n",
       "9793         118514  получение дополнительного образования  \n",
       "13993        142594                                свадьба  \n",
       "14620        142594                покупка жилья для сдачи  \n",
       "14901        142594                  на проведение свадьбы  \n",
       "15870        172357                  на проведение свадьбы  \n",
       "16081        118514                  на покупку автомобиля  \n",
       "17204        118514                        сыграть свадьбу  \n",
       "19139        142594      покупка коммерческой недвижимости  \n",
       "19211        172357                                свадьба  \n",
       "19399        142594                        свой автомобиль  \n",
       "20019        118514                        сыграть свадьбу  \n",
       "20129        142594                        сыграть свадьбу  \n",
       "20492        142594                  на проведение свадьбы  "
      ]
     },
     "metadata": {},
     "output_type": "display_data"
    }
   ],
   "source": [
    "display(df[df.duplicated() == True])"
   ]
  },
  {
   "cell_type": "markdown",
   "id": "f28bdeee",
   "metadata": {},
   "source": [
    "\n",
    "Судя по содержанию столбцов 'days_employed' и 'total_income' часть данных, заполня их медианными значениями, мы превратили в дубликаты. Неудивительно. Среди 21 тысячи человека нашлись одинаковые по целям кредита, семейному положению, гендеру и месту работы. Не считаю, что удаление таких \"дубликатов\" - правильное решение, ведь по сути это вероятнее всего независимые значения. Что же, задание достаточно категорично в данном случае. Придется их удалить.\n"
   ]
  },
  {
   "cell_type": "code",
   "execution_count": 55,
   "id": "45f9ee77",
   "metadata": {
    "scrolled": true
   },
   "outputs": [
    {
     "name": "stdout",
     "output_type": "stream",
     "text": [
      "<class 'pandas.core.frame.DataFrame'>\n",
      "Int64Index: 21324 entries, 0 to 21341\n",
      "Data columns (total 12 columns):\n",
      " #   Column            Non-Null Count  Dtype  \n",
      "---  ------            --------------  -----  \n",
      " 0   children          21324 non-null  int64  \n",
      " 1   days_employed     21324 non-null  float64\n",
      " 2   dob_years         21324 non-null  float64\n",
      " 3   education         21324 non-null  object \n",
      " 4   education_id      21324 non-null  int64  \n",
      " 5   family_status     21324 non-null  object \n",
      " 6   family_status_id  21324 non-null  int64  \n",
      " 7   gender            21324 non-null  object \n",
      " 8   income_type       21324 non-null  object \n",
      " 9   debt              21324 non-null  int64  \n",
      " 10  total_income      21324 non-null  int64  \n",
      " 11  purpose           21324 non-null  object \n",
      "dtypes: float64(2), int64(5), object(5)\n",
      "memory usage: 2.1+ MB\n"
     ]
    }
   ],
   "source": [
    "#удаляем дубликаты\n",
    "df = df.drop_duplicates()\n",
    "df.info()"
   ]
  },
  {
   "cell_type": "markdown",
   "id": "071172f2",
   "metadata": {},
   "source": [
    "дубликатов вполне стандартный, я его сделал ранее с помощью параметра .unique(). Теперь же встроенными методами просто их удалил.\n",
    "\n",
    "Как упомянул ранее, дубликаты возникли, вероятно, по причине массового заполнения строк с доходом медианными значениями. Получилось всего 72 дубликата из 21 тысячи строк, что ожидаемо и не много, учитывая ограниченное количество переменных. Была бы у нас сейчас комбинаторика, я бы может даже смог посчитать процент вероятности.\n",
    "\n"
   ]
  },
  {
   "cell_type": "markdown",
   "id": "dd7d807d",
   "metadata": {},
   "source": [
    "### Формирование дополнительных датафреймов словарей, декомпозиция исходного датафрейма."
   ]
  },
  {
   "cell_type": "code",
   "execution_count": 61,
   "id": "100fd810",
   "metadata": {
    "scrolled": true
   },
   "outputs": [
    {
     "name": "stdout",
     "output_type": "stream",
     "text": [
      "             education  education_id\n",
      "0               высшее             0\n",
      "1              среднее             1\n",
      "2  неоконченное высшее             2\n",
      "3            начальное             3\n",
      "4       ученая степень             4\n",
      "           family_status  family_status_id\n",
      "0        женат / замужем                 0\n",
      "1       гражданский брак                 1\n",
      "2         вдовец / вдова                 2\n",
      "3              в разводе                 3\n",
      "4  Не женат / не замужем                 4\n"
     ]
    }
   ],
   "source": [
    "#создадим словари\n",
    "\n",
    "education_dict=df[['education','education_id']].drop_duplicates().reset_index(drop=True)\n",
    "family_dict=df[['family_status','family_status_id']].drop_duplicates().reset_index(drop=True)\n",
    "\n",
    "print(education_dict.head())\n",
    "print(family_dict.head())\n",
    "\n"
   ]
  },
  {
   "cell_type": "code",
   "execution_count": 62,
   "id": "2df99530",
   "metadata": {},
   "outputs": [
    {
     "name": "stdout",
     "output_type": "stream",
     "text": [
      "<class 'pandas.core.frame.DataFrame'>\n",
      "Int64Index: 21324 entries, 0 to 21341\n",
      "Data columns (total 10 columns):\n",
      " #   Column            Non-Null Count  Dtype  \n",
      "---  ------            --------------  -----  \n",
      " 0   children          21324 non-null  int64  \n",
      " 1   days_employed     21324 non-null  float64\n",
      " 2   dob_years         21324 non-null  float64\n",
      " 3   education_id      21324 non-null  int64  \n",
      " 4   family_status_id  21324 non-null  int64  \n",
      " 5   gender            21324 non-null  object \n",
      " 6   income_type       21324 non-null  object \n",
      " 7   debt              21324 non-null  int64  \n",
      " 8   total_income      21324 non-null  int64  \n",
      " 9   purpose           21324 non-null  object \n",
      "dtypes: float64(2), int64(5), object(3)\n",
      "memory usage: 1.8+ MB\n"
     ]
    }
   ],
   "source": [
    "#удалим ненужные столбцы\n",
    "df = df.drop(columns=['education', 'family_status'])\n",
    "df.info()"
   ]
  },
  {
   "cell_type": "markdown",
   "id": "8bb9d5d5",
   "metadata": {},
   "source": [
    "### Категоризация дохода."
   ]
  },
  {
   "cell_type": "code",
   "execution_count": 63,
   "id": "da756333",
   "metadata": {
    "scrolled": false
   },
   "outputs": [
    {
     "name": "stdout",
     "output_type": "stream",
     "text": [
      "<class 'pandas.core.frame.DataFrame'>\n",
      "Int64Index: 21324 entries, 0 to 21341\n",
      "Data columns (total 11 columns):\n",
      " #   Column                 Non-Null Count  Dtype  \n",
      "---  ------                 --------------  -----  \n",
      " 0   children               21324 non-null  int64  \n",
      " 1   days_employed          21324 non-null  float64\n",
      " 2   dob_years              21324 non-null  float64\n",
      " 3   education_id           21324 non-null  int64  \n",
      " 4   family_status_id       21324 non-null  int64  \n",
      " 5   gender                 21324 non-null  object \n",
      " 6   income_type            21324 non-null  object \n",
      " 7   debt                   21324 non-null  int64  \n",
      " 8   total_income           21324 non-null  int64  \n",
      " 9   purpose                21324 non-null  object \n",
      " 10  total_income_category  21324 non-null  object \n",
      "dtypes: float64(2), int64(5), object(4)\n",
      "memory usage: 2.0+ MB\n"
     ]
    }
   ],
   "source": [
    "#присвоим категории дохода заемщикам\n",
    "def total_income_category(messages):\n",
    "    if messages <= 30000:\n",
    "        return 'E'\n",
    "    if messages <= 50000:\n",
    "        return 'D'\n",
    "    if messages <= 200000:\n",
    "        return 'C'\n",
    "    if messages <= 1000000:\n",
    "        return 'B'\n",
    "    return 'A' \n",
    "\n",
    "df['total_income_category'] = df['total_income'].apply(total_income_category)\n",
    "\n",
    "df.info()\n"
   ]
  },
  {
   "cell_type": "code",
   "execution_count": 64,
   "id": "9aa09cfa",
   "metadata": {
    "scrolled": true
   },
   "outputs": [
    {
     "name": "stdout",
     "output_type": "stream",
     "text": [
      "total_income_category\n",
      "A       25\n",
      "B     5011\n",
      "C    15917\n",
      "D      349\n",
      "E       22\n",
      "Name: debt, dtype: int64\n",
      "total_income_category\n",
      "A       2\n",
      "B     354\n",
      "C    1351\n",
      "D      21\n",
      "E       2\n",
      "Name: debt, dtype: int64\n",
      "total_income_category\n",
      "A    8.000000\n",
      "B    7.064458\n",
      "C    8.487780\n",
      "D    6.017192\n",
      "E    9.090909\n",
      "Name: debt, dtype: float64\n"
     ]
    }
   ],
   "source": [
    "#посмотрим, где больше всего неплательщиков\n",
    "print(df.groupby(by = 'total_income_category')['debt'].count())\n",
    "print(df.groupby(by = 'total_income_category')['debt'].sum())\n",
    "print(df.groupby(by = 'total_income_category')['debt'].sum() / df.groupby(by = 'total_income_category')['debt'].count() *100)\n",
    "#умножим неплательщиков на 100, чтобы получить проценты"
   ]
  },
  {
   "cell_type": "markdown",
   "id": "65ee5118",
   "metadata": {},
   "source": [
    "### Категоризация целей кредита."
   ]
  },
  {
   "cell_type": "code",
   "execution_count": 65,
   "id": "0ace8686",
   "metadata": {
    "scrolled": true
   },
   "outputs": [
    {
     "data": {
      "text/plain": [
       "array(['автомобили', 'автомобиль', 'высшее образование',\n",
       "       'дополнительное образование', 'жилье',\n",
       "       'заняться высшим образованием', 'заняться образованием',\n",
       "       'на покупку автомобиля', 'на покупку подержанного автомобиля',\n",
       "       'на покупку своего автомобиля', 'на проведение свадьбы',\n",
       "       'недвижимость', 'образование', 'операции с жильем',\n",
       "       'операции с коммерческой недвижимостью',\n",
       "       'операции с недвижимостью', 'операции со своей недвижимостью',\n",
       "       'покупка жилой недвижимости', 'покупка жилья',\n",
       "       'покупка жилья для сдачи', 'покупка жилья для семьи',\n",
       "       'покупка коммерческой недвижимости', 'покупка недвижимости',\n",
       "       'покупка своего жилья', 'получение высшего образования',\n",
       "       'получение дополнительного образования', 'получение образования',\n",
       "       'приобретение автомобиля', 'профильное образование',\n",
       "       'ремонт жилью', 'свадьба', 'свой автомобиль',\n",
       "       'сделка с автомобилем', 'сделка с подержанным автомобилем',\n",
       "       'строительство жилой недвижимости', 'строительство недвижимости',\n",
       "       'строительство собственной недвижимости', 'сыграть свадьбу'],\n",
       "      dtype=object)"
      ]
     },
     "execution_count": 65,
     "metadata": {},
     "output_type": "execute_result"
    }
   ],
   "source": [
    "#посмотрим, на какие цели берут кредиты, чтобы корректно написать функцию категоризации\n",
    "\n",
    "df['purpose'].sort_values().unique()\n"
   ]
  },
  {
   "cell_type": "code",
   "execution_count": 68,
   "id": "e2e95cdc",
   "metadata": {},
   "outputs": [
    {
     "name": "stdout",
     "output_type": "stream",
     "text": [
      "38\n",
      "38\n"
     ]
    }
   ],
   "source": [
    "#очень грустно формировать списки вручную. Наверняка есть способ, который проверит содержание в df.series наличие \"авто\", \n",
    "#но мы, вроде, такой метод не прошли. Сам пытался сделать df['purpose'].isin(['авто']), но не смог\n",
    "\n",
    "auto_purpose = ['автомобили', 'автомобиль', 'на покупку автомобиля', 'на покупку подержанного автомобиля',\n",
    "                'на покупку своего автомобиля', 'приобретение автомобиля', 'свой автомобиль', 'сделка с автомобилем',\n",
    "                'сделка с подержанным автомобилем']\n",
    "\n",
    "realty_purpose = ['жилье', 'недвижимость', 'операции с жильем','операции с коммерческой недвижимостью',\n",
    "                  'операции с недвижимостью', 'операции со своей недвижимостью', 'покупка жилой недвижимости', \n",
    "                  'покупка жилья', 'покупка жилья для сдачи', 'покупка жилья для семьи','покупка коммерческой недвижимости',\n",
    "                  'покупка недвижимости', 'покупка своего жилья', 'ремонт жилью',\n",
    "                  'строительство жилой недвижимости', 'строительство недвижимости','строительство собственной недвижимости']\n",
    "\n",
    "wedding_purpose = ['на проведение свадьбы', 'свадьба', 'сыграть свадьбу']\n",
    "\n",
    "education_purpose = [ 'высшее образование', 'дополнительное образование', 'заняться высшим образованием', \n",
    "                    'заняться образованием', 'образование', 'получение высшего образования', \n",
    "                    'получение дополнительного образования', 'получение образования', 'профильное образование']\n",
    "\n",
    "#проверим, ничего ли не пропустили:\n",
    "\n",
    "print(len(df['purpose'].sort_values().unique()))\n",
    "\n",
    "print(len(auto_purpose) + len(realty_purpose) + len(wedding_purpose) + len(education_purpose))\n",
    "\n",
    "#вроде ничего не пропустилии"
   ]
  },
  {
   "cell_type": "code",
   "execution_count": 69,
   "id": "a9003d49",
   "metadata": {},
   "outputs": [
    {
     "name": "stdout",
     "output_type": "stream",
     "text": [
      "<class 'pandas.core.frame.DataFrame'>\n",
      "Int64Index: 21324 entries, 0 to 21341\n",
      "Data columns (total 12 columns):\n",
      " #   Column                 Non-Null Count  Dtype  \n",
      "---  ------                 --------------  -----  \n",
      " 0   children               21324 non-null  int64  \n",
      " 1   days_employed          21324 non-null  float64\n",
      " 2   dob_years              21324 non-null  float64\n",
      " 3   education_id           21324 non-null  int64  \n",
      " 4   family_status_id       21324 non-null  int64  \n",
      " 5   gender                 21324 non-null  object \n",
      " 6   income_type            21324 non-null  object \n",
      " 7   debt                   21324 non-null  int64  \n",
      " 8   total_income           21324 non-null  int64  \n",
      " 9   purpose                21324 non-null  object \n",
      " 10  total_income_category  21324 non-null  object \n",
      " 11  purpose_category       21324 non-null  object \n",
      "dtypes: float64(2), int64(5), object(5)\n",
      "memory usage: 2.1+ MB\n",
      "None\n"
     ]
    },
    {
     "data": {
      "text/plain": [
       "purpose_category          debt\n",
       "операции с автомобилем    0       3879\n",
       "                          1        399\n",
       "операции с недвижимостью  0       9968\n",
       "                          1        779\n",
       "получение образования     0       3619\n",
       "                          1        369\n",
       "проведение свадьбы        0       2128\n",
       "                          1        183\n",
       "Name: debt, dtype: int64"
      ]
     },
     "metadata": {},
     "output_type": "display_data"
    }
   ],
   "source": [
    "def assign_purpose_category(purpose_list, purpose_category):    # Функция для категоризации \n",
    "    for purpose in purpose_list:\n",
    "        df.loc[df['purpose'] == purpose, 'purpose_category'] = purpose_category\n",
    "\n",
    "assign_purpose_category(auto_purpose, 'операции с автомобилем') #созадем категории\n",
    "assign_purpose_category(realty_purpose, 'операции с недвижимостью')\n",
    "assign_purpose_category(wedding_purpose, 'проведение свадьбы')\n",
    "assign_purpose_category(education_purpose, 'получение образования')\n",
    "\n",
    "\n",
    "print(df.info()) # проверим\n",
    "display(df.groupby(by = 'purpose_category')['debt'].value_counts()) #поинтересуемся, где чаще не платят\n",
    "                        "
   ]
  },
  {
   "cell_type": "code",
   "execution_count": 72,
   "id": "da655e56",
   "metadata": {
    "scrolled": true
   },
   "outputs": [
    {
     "data": {
      "text/html": [
       "<div>\n",
       "<style scoped>\n",
       "    .dataframe tbody tr th:only-of-type {\n",
       "        vertical-align: middle;\n",
       "    }\n",
       "\n",
       "    .dataframe tbody tr th {\n",
       "        vertical-align: top;\n",
       "    }\n",
       "\n",
       "    .dataframe thead th {\n",
       "        text-align: right;\n",
       "    }\n",
       "</style>\n",
       "<table border=\"1\" class=\"dataframe\">\n",
       "  <thead>\n",
       "    <tr style=\"text-align: right;\">\n",
       "      <th>debt</th>\n",
       "      <th>0</th>\n",
       "      <th>1</th>\n",
       "      <th>debtor</th>\n",
       "    </tr>\n",
       "    <tr>\n",
       "      <th>total_income_category</th>\n",
       "      <th></th>\n",
       "      <th></th>\n",
       "      <th></th>\n",
       "    </tr>\n",
       "  </thead>\n",
       "  <tbody>\n",
       "    <tr>\n",
       "      <th>A</th>\n",
       "      <td>23</td>\n",
       "      <td>2</td>\n",
       "      <td>8.000000</td>\n",
       "    </tr>\n",
       "    <tr>\n",
       "      <th>B</th>\n",
       "      <td>4657</td>\n",
       "      <td>354</td>\n",
       "      <td>7.064458</td>\n",
       "    </tr>\n",
       "    <tr>\n",
       "      <th>C</th>\n",
       "      <td>14566</td>\n",
       "      <td>1351</td>\n",
       "      <td>8.487780</td>\n",
       "    </tr>\n",
       "    <tr>\n",
       "      <th>D</th>\n",
       "      <td>328</td>\n",
       "      <td>21</td>\n",
       "      <td>6.017192</td>\n",
       "    </tr>\n",
       "    <tr>\n",
       "      <th>E</th>\n",
       "      <td>20</td>\n",
       "      <td>2</td>\n",
       "      <td>9.090909</td>\n",
       "    </tr>\n",
       "  </tbody>\n",
       "</table>\n",
       "</div>"
      ],
      "text/plain": [
       "debt                       0     1    debtor\n",
       "total_income_category                       \n",
       "A                         23     2  8.000000\n",
       "B                       4657   354  7.064458\n",
       "C                      14566  1351  8.487780\n",
       "D                        328    21  6.017192\n",
       "E                         20     2  9.090909"
      ]
     },
     "metadata": {},
     "output_type": "display_data"
    }
   ],
   "source": [
    "#Посмотрим, как соотносятся задержки по выплате кредитов и категория доходов.\n",
    "\n",
    "df_pivot_income = df.pivot_table(index = 'total_income_category', \n",
    "                          columns = 'debt', \n",
    "                          values = 'gender', aggfunc = 'count')\n",
    "\n",
    "df_pivot_income['debtor'] = df_pivot_income[1]/(df_pivot_income[1] + df_pivot_income[0])*100 \n",
    "#добавим столбец с количеством неплательщиков в %\n",
    "\n",
    "display(df_pivot_income)"
   ]
  },
  {
   "cell_type": "code",
   "execution_count": 73,
   "id": "32a5ce86",
   "metadata": {
    "scrolled": false
   },
   "outputs": [
    {
     "data": {
      "text/html": [
       "<div>\n",
       "<style scoped>\n",
       "    .dataframe tbody tr th:only-of-type {\n",
       "        vertical-align: middle;\n",
       "    }\n",
       "\n",
       "    .dataframe tbody tr th {\n",
       "        vertical-align: top;\n",
       "    }\n",
       "\n",
       "    .dataframe thead th {\n",
       "        text-align: right;\n",
       "    }\n",
       "</style>\n",
       "<table border=\"1\" class=\"dataframe\">\n",
       "  <thead>\n",
       "    <tr style=\"text-align: right;\">\n",
       "      <th>debt</th>\n",
       "      <th>0</th>\n",
       "      <th>1</th>\n",
       "      <th>debtor</th>\n",
       "    </tr>\n",
       "    <tr>\n",
       "      <th>purpose_category</th>\n",
       "      <th></th>\n",
       "      <th></th>\n",
       "      <th></th>\n",
       "    </tr>\n",
       "  </thead>\n",
       "  <tbody>\n",
       "    <tr>\n",
       "      <th>операции с автомобилем</th>\n",
       "      <td>3879</td>\n",
       "      <td>399</td>\n",
       "      <td>9.326788</td>\n",
       "    </tr>\n",
       "    <tr>\n",
       "      <th>операции с недвижимостью</th>\n",
       "      <td>9968</td>\n",
       "      <td>779</td>\n",
       "      <td>7.248534</td>\n",
       "    </tr>\n",
       "    <tr>\n",
       "      <th>получение образования</th>\n",
       "      <td>3619</td>\n",
       "      <td>369</td>\n",
       "      <td>9.252758</td>\n",
       "    </tr>\n",
       "    <tr>\n",
       "      <th>проведение свадьбы</th>\n",
       "      <td>2128</td>\n",
       "      <td>183</td>\n",
       "      <td>7.918650</td>\n",
       "    </tr>\n",
       "  </tbody>\n",
       "</table>\n",
       "</div>"
      ],
      "text/plain": [
       "debt                         0    1    debtor\n",
       "purpose_category                             \n",
       "операции с автомобилем    3879  399  9.326788\n",
       "операции с недвижимостью  9968  779  7.248534\n",
       "получение образования     3619  369  9.252758\n",
       "проведение свадьбы        2128  183  7.918650"
      ]
     },
     "metadata": {},
     "output_type": "display_data"
    }
   ],
   "source": [
    "#Посмотрим, как соотносятся задержки по выплате кредитов и категория кредита.\n",
    "\n",
    "df_pivot_purpose = df.pivot_table(index = 'purpose_category', \n",
    "                          columns = 'debt', \n",
    "                          values = 'gender', aggfunc = 'count')\n",
    "\n",
    "df_pivot_purpose['debtor'] = df_pivot_purpose[1]/(df_pivot_purpose[1] + df_pivot_purpose[0])*100 \n",
    "#добавим столбец с количеством неплательщиков в %\n",
    "\n",
    "display(df_pivot_purpose)"
   ]
  },
  {
   "cell_type": "markdown",
   "id": "8e3740c0",
   "metadata": {},
   "source": [
    "# Вывод 1:"
   ]
  },
  {
   "cell_type": "markdown",
   "id": "16e7a574",
   "metadata": {},
   "source": [
    "    Есть ли зависимость между количеством детей и возвратом кредита в срок?\n",
    "\n",
    "Исходя из полученной информации, можно сделать однозначный вывод, что количество детей отрицательно влияет на динамику возврата заемных средств. В случае отсутствия детей, только 7.5% заёмщиков пропускают платежи по кредиту. При появлении первого ребенка, эта цифра возрастает на 1.7 процентных пункта до 9.2%. Другими словами, доля клиентов с трудностями по кредитам возрастает на 22%. В дальнейшем эта цифра линейно растет, однако снижается при наличии трех детей. Вероятно, это связано с тем, что семья получает статус многодетной и многочисленные социальные льготы. \n",
    "Стоит отметить, что количество заемщиков с четырмя и пятью детьми слишком мало, чтобы полагаться на эти выводы.\n",
    "Результаты в таблице:\n",
    "\n",
    "# Зависимость между количеством детей и возвратом кредита в срок\n",
    "\n",
    "| Количество детей  | Количество беспроблемных заемщиков | Количество должников | Количество неплательщиков, % от общего |\n",
    "|-------------------|------------------------------------|----------------------|----------------------------------------|\n",
    "| 0    | 13027      | 1063         | 7,54%     \n",
    "| 1    | 4364       | 444          | 9.23%   \n",
    "| 2    | 1858       | 194          | 9.45%    \n",
    "| 3    | 303        | 27           | 8.18%    \n",
    "| 4    | 37         | 4            | 9.75%    \n",
    "| 5    | 9          | 0            | 0%     \n"
   ]
  },
  {
   "cell_type": "markdown",
   "id": "a41bf6ea",
   "metadata": {},
   "source": [
    "# Вывод 2:"
   ]
  },
  {
   "cell_type": "markdown",
   "id": "0119a761",
   "metadata": {},
   "source": [
    "    Есть ли зависимость между семейным положением и возвратом кредита в срок?\n",
    "    \n",
    "Исходя из полученной информации, можно сделать однозначный вывод, что наличие социально-гражданских отношений положительно влияют на динамику возврата кредитов в срок. Самый высокий процент просрочек по кредитам у одиноких людей и сожительствующих пар. У находящихся в официально браке количество невыплат на 2.2 процентных пункта ниже или, другими словами, одинокие люди на 29% чаще не могут провести платежи в срок.\n",
    "Стоит отметить, что положительная динамика возврата заемных средств сохраняется даже после расторжения официального брака. Самый низкий процент просрочек у потерявших супруга, но и находящихся в разводе он ниже, чем у находящихся в браке. \n",
    "Результаты в таблице:\n",
    "\n",
    "# Зависимость между семейным положением и возвратом кредита в срок\n",
    "\n",
    "| Семейное положение| Количество беспроблемных заемщиков | Количество должников | Количество неплательщиков, % от общего |\n",
    "|-------------------|------------------------------------|----------------------|----------------------------------------|\n",
    "| Не женат / не замужем  | 2523        | 273          | 9,76%     \n",
    "| гражданский брак       | 3748        | 385          | 9.32%   \n",
    "| женат / замужем        | 11334       | 927          | 7.56%    \n",
    "| в разводе              | 1105        | 84           | 7.06%    \n",
    "| вдовец / вдова         | 888         | 63           | 6.62%    \n"
   ]
  },
  {
   "cell_type": "markdown",
   "id": "09d6ed5a",
   "metadata": {},
   "source": [
    "# Вывод 3:"
   ]
  },
  {
   "cell_type": "markdown",
   "id": "495d6ac1",
   "metadata": {},
   "source": [
    "    Есть ли зависимость между уровнем дохода и возвратом кредита в срок?\n",
    "\n",
    "К сожалению, данных для корректных выводах о зависимости доходов от проблем с возвратом средств в категориях до 30 тысяч и выше миллиона рублей слишком мало. По данным категориям сделать выводов не получится.\n",
    "В оставшихся трех категориях получились неоднозначные выводы. Люди со средним доходом хуже всех возвращают заемные средства, в то время, как люди с доходом от 30 до 50 тысяч допускают меньше всего просрочек. На данном примере заметно, что необходимо разбить категории 50-200 и 200-1000 (тыс. руб.) на подкатегории, а так же провести анализ просрочек от суммы кредита относительно дохода.\n",
    "Результаты в таблице:\n",
    "\n",
    "# Зависимость между уровнем дохода и возвратом кредита в срок\n",
    "\n",
    "|Уровень дохода, тыс. руб.| Количество беспроблемных заемщиков | Количество должников |Количество неплательщиков, % от общего |\n",
    "|-------------------------|------------------------------------|----------------------|---------------------------------------|\n",
    "| до 30 тыс. руб.          | 20        | 2          | 9,09%     \n",
    "| от 30 до 50 тыс. руб.       | 328        | 21          | 6.02%   \n",
    "| от 50 до 200 тыс. руб.        | 14568       | 1353          | 8.50%    \n",
    "| от 200 до 1 000 тыс. руб.              | 4659        | 354           | 7.06%    \n",
    "| выше 1 000 тыс. руб.         | 23         | 2           | 8.00%    \n"
   ]
  },
  {
   "cell_type": "markdown",
   "id": "d6faca04",
   "metadata": {},
   "source": [
    "# Вывод 4:"
   ]
  },
  {
   "cell_type": "markdown",
   "id": "07fd9167",
   "metadata": {},
   "source": [
    "    Как разные цели кредита влияют на его возврат в срок?\n",
    "\n",
    "Исходя из полученной информации, можно сделать однозначный вывод, что цели кредита влияют на динамику возврата кредитов в срок. Самый высокий процент просрочек по кредитам, если займ берется на образование или покупку автомобиля (9.25% и 9.35% соответственно). Более ответственно заемщики подходят к возврату средств взятых на проведение свадьбы и операции с недвижимостью (7.92% и 7.26% соответственно). Так же, стоит отметить, что займы на операции с недвижимостью являются одновременно самыми массовыми и самыми безопасными для банковского сектора.\n",
    "\n",
    "\n",
    "Результаты в таблице:\n",
    "\n",
    "\n",
    "\n",
    "# Зависимость цели кредита и возвратом кредита в срок\n",
    "\n",
    "|  Цель кредита         | Количество беспроблемных заемщиков | Количество должников | Количество неплательщиков, % от общего |\n",
    "|-----------------------|------------------------------------|----------------------|----------------------------------------|\n",
    "| получение образования        | 3619        | 369          | 9,25%     \n",
    "| операции с автомобилем       | 3879        | 400          | 9.35%   \n",
    "| проведение свадьбы           | 2129        | 183          | 7.92%    \n",
    "| операции с недвижимостью     | 9971        | 780          | 7.26%    \n",
    "\n",
    "\n"
   ]
  },
  {
   "cell_type": "markdown",
   "id": "4c9e8b48",
   "metadata": {},
   "source": [
    "# Общий вывод:"
   ]
  },
  {
   "cell_type": "markdown",
   "id": "9c128589",
   "metadata": {},
   "source": [
    "Наблюдается прямая кореляция между проблемами с возвратом кредитных средств и количеством детей, целью кредита или семейным положением. Появление детей негативно влияет на способность возврата средств заемщиками. Официальные гражданско-правовые отнощения между супругами положительно влияют на дисциплину возврата заемных средств. Кредиты на образование и покупку автомобиля возвращают хуже, чем кредиты на проведение свадьбы и операции с недвижимостью. <br> Такую же четкую кореляцию в обозначенных категориях дохода граждан установить не удалось. Рекомендую, со своей стороны, сузить границы категорий дохода граждан для выявления пика неплательщиков."
   ]
  }
 ],
 "metadata": {
  "ExecuteTimeLog": [
   {
    "duration": 652,
    "start_time": "2022-03-05T05:08:15.628Z"
   },
   {
    "duration": 268,
    "start_time": "2022-03-05T05:08:22.385Z"
   },
   {
    "duration": 58,
    "start_time": "2022-03-05T05:08:29.629Z"
   },
   {
    "duration": 51,
    "start_time": "2022-03-05T05:09:50.554Z"
   },
   {
    "duration": 55,
    "start_time": "2022-03-05T05:09:57.439Z"
   },
   {
    "duration": 11,
    "start_time": "2022-03-05T05:10:29.088Z"
   },
   {
    "duration": 62,
    "start_time": "2022-03-05T05:13:19.110Z"
   },
   {
    "duration": 4,
    "start_time": "2022-03-05T05:20:02.667Z"
   },
   {
    "duration": 7,
    "start_time": "2022-03-05T05:21:00.992Z"
   },
   {
    "duration": 10,
    "start_time": "2022-03-05T05:21:13.260Z"
   },
   {
    "duration": 9,
    "start_time": "2022-03-05T05:21:27.959Z"
   },
   {
    "duration": 60,
    "start_time": "2022-03-05T05:21:31.554Z"
   },
   {
    "duration": 8,
    "start_time": "2022-03-05T05:21:39.065Z"
   },
   {
    "duration": 22,
    "start_time": "2022-03-05T05:21:42.321Z"
   },
   {
    "duration": 180,
    "start_time": "2022-03-05T05:22:44.539Z"
   },
   {
    "duration": 9,
    "start_time": "2022-03-05T05:22:47.929Z"
   },
   {
    "duration": 8,
    "start_time": "2022-03-05T05:23:02.400Z"
   },
   {
    "duration": 8,
    "start_time": "2022-03-05T05:23:05.232Z"
   },
   {
    "duration": 12,
    "start_time": "2022-03-05T05:23:06.483Z"
   },
   {
    "duration": 62,
    "start_time": "2022-03-05T05:23:08.586Z"
   },
   {
    "duration": 12,
    "start_time": "2022-03-05T05:23:10.675Z"
   },
   {
    "duration": 9,
    "start_time": "2022-03-05T05:23:11.879Z"
   },
   {
    "duration": 179,
    "start_time": "2022-03-05T05:23:20.245Z"
   },
   {
    "duration": 20,
    "start_time": "2022-03-05T05:25:20.227Z"
   },
   {
    "duration": 185,
    "start_time": "2022-03-05T05:25:51.360Z"
   },
   {
    "duration": 18,
    "start_time": "2022-03-05T05:26:12.349Z"
   },
   {
    "duration": 20,
    "start_time": "2022-03-05T05:26:51.217Z"
   },
   {
    "duration": 16,
    "start_time": "2022-03-05T05:27:23.497Z"
   },
   {
    "duration": 10,
    "start_time": "2022-03-05T05:27:33.583Z"
   },
   {
    "duration": 14,
    "start_time": "2022-03-05T05:27:56.866Z"
   },
   {
    "duration": 168,
    "start_time": "2022-03-05T05:29:20.581Z"
   },
   {
    "duration": 62,
    "start_time": "2022-03-05T05:29:33.957Z"
   },
   {
    "duration": 1068,
    "start_time": "2022-03-05T05:29:44.194Z"
   },
   {
    "duration": 174,
    "start_time": "2022-03-05T05:29:49.761Z"
   },
   {
    "duration": 181,
    "start_time": "2022-03-05T05:29:57.162Z"
   },
   {
    "duration": 10,
    "start_time": "2022-03-05T05:30:12.925Z"
   },
   {
    "duration": 23,
    "start_time": "2022-03-05T05:32:42.766Z"
   },
   {
    "duration": 2,
    "start_time": "2022-03-05T05:33:51.158Z"
   },
   {
    "duration": 188,
    "start_time": "2022-03-05T05:34:03.419Z"
   },
   {
    "duration": 3,
    "start_time": "2022-03-05T05:34:12.080Z"
   },
   {
    "duration": 3,
    "start_time": "2022-03-05T05:34:17.532Z"
   },
   {
    "duration": 9,
    "start_time": "2022-03-05T05:35:27.571Z"
   },
   {
    "duration": 7,
    "start_time": "2022-03-05T06:02:47.100Z"
   },
   {
    "duration": 7,
    "start_time": "2022-03-05T06:03:01.076Z"
   },
   {
    "duration": 9,
    "start_time": "2022-03-05T06:03:14.986Z"
   },
   {
    "duration": 180,
    "start_time": "2022-03-05T06:03:19.146Z"
   },
   {
    "duration": 270,
    "start_time": "2022-03-05T06:03:22.046Z"
   },
   {
    "duration": 183,
    "start_time": "2022-03-05T06:03:27.746Z"
   },
   {
    "duration": 10,
    "start_time": "2022-03-05T06:03:35.329Z"
   },
   {
    "duration": 14,
    "start_time": "2022-03-05T06:03:53.446Z"
   },
   {
    "duration": 15,
    "start_time": "2022-03-05T06:04:00.458Z"
   },
   {
    "duration": 53,
    "start_time": "2022-03-05T06:12:52.671Z"
   },
   {
    "duration": 236,
    "start_time": "2022-03-05T06:12:57.728Z"
   },
   {
    "duration": 4,
    "start_time": "2022-03-05T06:13:03.805Z"
   },
   {
    "duration": 5,
    "start_time": "2022-03-05T06:13:25.557Z"
   },
   {
    "duration": 5,
    "start_time": "2022-03-05T06:13:31.877Z"
   },
   {
    "duration": 7,
    "start_time": "2022-03-05T06:17:49.138Z"
   },
   {
    "duration": 180,
    "start_time": "2022-03-05T06:20:31.874Z"
   },
   {
    "duration": 202,
    "start_time": "2022-03-05T06:21:07.714Z"
   },
   {
    "duration": 190,
    "start_time": "2022-03-05T06:21:33.738Z"
   },
   {
    "duration": 173,
    "start_time": "2022-03-05T06:21:37.812Z"
   },
   {
    "duration": 4,
    "start_time": "2022-03-05T06:21:50.034Z"
   },
   {
    "duration": 7,
    "start_time": "2022-03-05T06:23:26.866Z"
   },
   {
    "duration": 8,
    "start_time": "2022-03-05T06:25:10.732Z"
   },
   {
    "duration": 8,
    "start_time": "2022-03-05T06:28:42.695Z"
   },
   {
    "duration": 63,
    "start_time": "2022-03-05T06:28:57.337Z"
   },
   {
    "duration": 9,
    "start_time": "2022-03-05T06:29:02.511Z"
   },
   {
    "duration": 1238,
    "start_time": "2022-03-05T06:32:59.389Z"
   },
   {
    "duration": 8,
    "start_time": "2022-03-05T06:33:18.921Z"
   },
   {
    "duration": 61,
    "start_time": "2022-03-05T06:33:57.771Z"
   },
   {
    "duration": 11,
    "start_time": "2022-03-05T06:34:03.021Z"
   },
   {
    "duration": 12,
    "start_time": "2022-03-05T06:56:04.877Z"
   },
   {
    "duration": 21,
    "start_time": "2022-03-05T06:56:32.881Z"
   },
   {
    "duration": 23,
    "start_time": "2022-03-05T06:56:39.219Z"
   },
   {
    "duration": 22,
    "start_time": "2022-03-05T07:00:31.708Z"
   },
   {
    "duration": 10,
    "start_time": "2022-03-05T07:00:38.077Z"
   },
   {
    "duration": 26,
    "start_time": "2022-03-05T07:04:05.320Z"
   },
   {
    "duration": 29,
    "start_time": "2022-03-05T07:04:16.005Z"
   },
   {
    "duration": 24,
    "start_time": "2022-03-05T07:04:32.661Z"
   },
   {
    "duration": 12,
    "start_time": "2022-03-05T07:11:05.164Z"
   },
   {
    "duration": 17,
    "start_time": "2022-03-05T07:11:09.881Z"
   },
   {
    "duration": 19,
    "start_time": "2022-03-05T07:18:32.498Z"
   },
   {
    "duration": 12,
    "start_time": "2022-03-05T07:33:51.988Z"
   },
   {
    "duration": 5,
    "start_time": "2022-03-05T07:40:14.626Z"
   },
   {
    "duration": 16,
    "start_time": "2022-03-05T07:40:23.049Z"
   },
   {
    "duration": 12,
    "start_time": "2022-03-05T07:40:25.721Z"
   },
   {
    "duration": 18,
    "start_time": "2022-03-05T07:41:48.537Z"
   },
   {
    "duration": 185,
    "start_time": "2022-03-05T07:52:36.950Z"
   },
   {
    "duration": 496,
    "start_time": "2022-03-05T07:53:37.688Z"
   },
   {
    "duration": 8,
    "start_time": "2022-03-05T07:54:03.582Z"
   },
   {
    "duration": 8,
    "start_time": "2022-03-05T07:54:05.445Z"
   },
   {
    "duration": 53,
    "start_time": "2022-03-05T07:54:16.784Z"
   },
   {
    "duration": 10,
    "start_time": "2022-03-05T07:54:16.839Z"
   },
   {
    "duration": 34,
    "start_time": "2022-03-05T07:54:16.851Z"
   },
   {
    "duration": 3,
    "start_time": "2022-03-05T07:54:16.887Z"
   },
   {
    "duration": 26,
    "start_time": "2022-03-05T07:54:16.891Z"
   },
   {
    "duration": 33,
    "start_time": "2022-03-05T07:54:16.918Z"
   },
   {
    "duration": 10,
    "start_time": "2022-03-05T07:54:16.952Z"
   },
   {
    "duration": 20,
    "start_time": "2022-03-05T07:54:16.964Z"
   },
   {
    "duration": 24,
    "start_time": "2022-03-05T07:54:16.986Z"
   },
   {
    "duration": 16,
    "start_time": "2022-03-05T07:54:17.011Z"
   },
   {
    "duration": 32,
    "start_time": "2022-03-05T07:54:17.029Z"
   },
   {
    "duration": 14,
    "start_time": "2022-03-05T07:54:17.063Z"
   },
   {
    "duration": 28,
    "start_time": "2022-03-05T07:54:17.079Z"
   },
   {
    "duration": 21,
    "start_time": "2022-03-05T07:54:17.109Z"
   },
   {
    "duration": 18,
    "start_time": "2022-03-05T07:54:43.954Z"
   },
   {
    "duration": 7,
    "start_time": "2022-03-05T07:58:49.985Z"
   },
   {
    "duration": 9,
    "start_time": "2022-03-05T07:59:12.190Z"
   },
   {
    "duration": 9,
    "start_time": "2022-03-05T08:00:59.834Z"
   },
   {
    "duration": 9,
    "start_time": "2022-03-05T08:01:02.175Z"
   },
   {
    "duration": 3481,
    "start_time": "2022-03-05T08:02:47.014Z"
   },
   {
    "duration": 10,
    "start_time": "2022-03-05T08:03:02.948Z"
   },
   {
    "duration": 9,
    "start_time": "2022-03-05T08:03:28.210Z"
   },
   {
    "duration": 11,
    "start_time": "2022-03-05T08:05:29.756Z"
   },
   {
    "duration": 8,
    "start_time": "2022-03-05T08:05:37.166Z"
   },
   {
    "duration": 8,
    "start_time": "2022-03-05T08:05:49.983Z"
   },
   {
    "duration": 9,
    "start_time": "2022-03-05T08:06:06.379Z"
   },
   {
    "duration": 341,
    "start_time": "2022-03-05T08:07:13.274Z"
   },
   {
    "duration": 8,
    "start_time": "2022-03-05T08:08:19.938Z"
   },
   {
    "duration": 8,
    "start_time": "2022-03-05T08:08:22.402Z"
   },
   {
    "duration": 10,
    "start_time": "2022-03-05T08:08:26.294Z"
   },
   {
    "duration": 21,
    "start_time": "2022-03-05T08:08:34.769Z"
   },
   {
    "duration": 21,
    "start_time": "2022-03-05T08:08:53.633Z"
   },
   {
    "duration": 23,
    "start_time": "2022-03-05T08:09:31.924Z"
   },
   {
    "duration": 188,
    "start_time": "2022-03-05T08:10:16.562Z"
   },
   {
    "duration": 216,
    "start_time": "2022-03-05T08:12:05.299Z"
   },
   {
    "duration": 183,
    "start_time": "2022-03-05T08:12:51.612Z"
   },
   {
    "duration": 193,
    "start_time": "2022-03-05T08:13:20.677Z"
   },
   {
    "duration": 8,
    "start_time": "2022-03-05T08:13:34.065Z"
   },
   {
    "duration": 11,
    "start_time": "2022-03-05T08:13:37.536Z"
   },
   {
    "duration": 21,
    "start_time": "2022-03-05T08:13:39.177Z"
   },
   {
    "duration": 20,
    "start_time": "2022-03-05T08:15:03.753Z"
   },
   {
    "duration": 21,
    "start_time": "2022-03-05T08:18:21.583Z"
   },
   {
    "duration": 707,
    "start_time": "2022-03-05T08:18:31.013Z"
   },
   {
    "duration": 1682,
    "start_time": "2022-03-05T08:18:45.765Z"
   },
   {
    "duration": 22,
    "start_time": "2022-03-05T08:19:45.392Z"
   },
   {
    "duration": 21,
    "start_time": "2022-03-05T08:19:53.089Z"
   },
   {
    "duration": 711,
    "start_time": "2022-03-05T08:20:23.093Z"
   },
   {
    "duration": 23,
    "start_time": "2022-03-05T08:20:56.990Z"
   },
   {
    "duration": 43,
    "start_time": "2022-03-05T08:21:13.833Z"
   },
   {
    "duration": 1986,
    "start_time": "2022-03-05T08:21:20.472Z"
   },
   {
    "duration": 68,
    "start_time": "2022-03-05T08:23:13.203Z"
   },
   {
    "duration": 43,
    "start_time": "2022-03-05T08:23:25.221Z"
   },
   {
    "duration": 40,
    "start_time": "2022-03-05T08:23:41.396Z"
   },
   {
    "duration": 44,
    "start_time": "2022-03-05T08:24:18.431Z"
   },
   {
    "duration": 42,
    "start_time": "2022-03-05T08:24:22.621Z"
   },
   {
    "duration": 440,
    "start_time": "2022-03-05T08:24:29.371Z"
   },
   {
    "duration": 482,
    "start_time": "2022-03-05T08:24:33.909Z"
   },
   {
    "duration": 42,
    "start_time": "2022-03-05T08:24:38.551Z"
   },
   {
    "duration": 44,
    "start_time": "2022-03-05T08:25:45.844Z"
   },
   {
    "duration": 30,
    "start_time": "2022-03-05T08:26:56.951Z"
   },
   {
    "duration": 2,
    "start_time": "2022-03-05T08:28:41.555Z"
   },
   {
    "duration": 19,
    "start_time": "2022-03-05T09:16:11.338Z"
   },
   {
    "duration": 17,
    "start_time": "2022-03-05T09:16:13.318Z"
   },
   {
    "duration": 21,
    "start_time": "2022-03-05T09:16:21.917Z"
   },
   {
    "duration": 8,
    "start_time": "2022-03-05T09:16:41.774Z"
   },
   {
    "duration": 8,
    "start_time": "2022-03-05T09:17:03.898Z"
   },
   {
    "duration": 9,
    "start_time": "2022-03-05T09:18:43.853Z"
   },
   {
    "duration": 10,
    "start_time": "2022-03-05T09:18:56.608Z"
   },
   {
    "duration": 10,
    "start_time": "2022-03-05T09:19:13.438Z"
   },
   {
    "duration": 11,
    "start_time": "2022-03-05T09:19:30.554Z"
   },
   {
    "duration": 2,
    "start_time": "2022-03-05T09:20:03.590Z"
   },
   {
    "duration": 3,
    "start_time": "2022-03-05T09:20:43.168Z"
   },
   {
    "duration": 4,
    "start_time": "2022-03-05T09:20:48.391Z"
   },
   {
    "duration": 207,
    "start_time": "2022-03-05T09:23:25.478Z"
   },
   {
    "duration": 189,
    "start_time": "2022-03-05T09:23:44.728Z"
   },
   {
    "duration": 196,
    "start_time": "2022-03-05T09:24:01.003Z"
   },
   {
    "duration": 22,
    "start_time": "2022-03-05T09:24:22.965Z"
   },
   {
    "duration": 24,
    "start_time": "2022-03-05T09:24:55.299Z"
   },
   {
    "duration": 229,
    "start_time": "2022-03-05T09:25:15.737Z"
   },
   {
    "duration": 189,
    "start_time": "2022-03-05T09:26:03.543Z"
   },
   {
    "duration": 180,
    "start_time": "2022-03-05T09:26:48.308Z"
   },
   {
    "duration": 188,
    "start_time": "2022-03-05T09:27:12.132Z"
   },
   {
    "duration": 182,
    "start_time": "2022-03-05T09:27:57.208Z"
   },
   {
    "duration": 24,
    "start_time": "2022-03-05T09:28:19.846Z"
   },
   {
    "duration": 222,
    "start_time": "2022-03-05T09:28:33.528Z"
   },
   {
    "duration": 178,
    "start_time": "2022-03-05T09:28:55.671Z"
   },
   {
    "duration": 186,
    "start_time": "2022-03-05T09:30:17.186Z"
   },
   {
    "duration": 186,
    "start_time": "2022-03-05T09:30:40.954Z"
   },
   {
    "duration": 183,
    "start_time": "2022-03-05T09:31:46.427Z"
   },
   {
    "duration": 24,
    "start_time": "2022-03-05T09:31:53.713Z"
   },
   {
    "duration": 26,
    "start_time": "2022-03-05T09:32:08.509Z"
   },
   {
    "duration": 23,
    "start_time": "2022-03-05T09:32:12.382Z"
   },
   {
    "duration": 23,
    "start_time": "2022-03-05T09:32:19.804Z"
   },
   {
    "duration": 12,
    "start_time": "2022-03-05T09:36:01.343Z"
   },
   {
    "duration": 10,
    "start_time": "2022-03-05T09:36:17.221Z"
   },
   {
    "duration": 9,
    "start_time": "2022-03-05T09:37:08.026Z"
   },
   {
    "duration": 13,
    "start_time": "2022-03-05T09:42:53.907Z"
   },
   {
    "duration": 4,
    "start_time": "2022-03-05T09:44:10.994Z"
   },
   {
    "duration": 5,
    "start_time": "2022-03-05T09:44:36.868Z"
   },
   {
    "duration": 13,
    "start_time": "2022-03-05T09:48:44.593Z"
   },
   {
    "duration": 62,
    "start_time": "2022-03-05T09:49:19.975Z"
   },
   {
    "duration": 14,
    "start_time": "2022-03-05T09:49:31.536Z"
   },
   {
    "duration": 6,
    "start_time": "2022-03-05T10:02:52.948Z"
   },
   {
    "duration": 5,
    "start_time": "2022-03-05T10:03:19.399Z"
   },
   {
    "duration": 186,
    "start_time": "2022-03-05T10:03:33.876Z"
   },
   {
    "duration": 5,
    "start_time": "2022-03-05T10:04:02.745Z"
   },
   {
    "duration": 7,
    "start_time": "2022-03-05T10:05:30.131Z"
   },
   {
    "duration": 7,
    "start_time": "2022-03-05T10:05:40.393Z"
   },
   {
    "duration": 5,
    "start_time": "2022-03-05T10:05:41.852Z"
   },
   {
    "duration": 6,
    "start_time": "2022-03-05T10:05:42.761Z"
   },
   {
    "duration": 191,
    "start_time": "2022-03-05T10:09:20.134Z"
   },
   {
    "duration": 17,
    "start_time": "2022-03-05T10:09:33.957Z"
   },
   {
    "duration": 6,
    "start_time": "2022-03-05T10:11:44.925Z"
   },
   {
    "duration": 8,
    "start_time": "2022-03-05T10:12:01.518Z"
   },
   {
    "duration": 7,
    "start_time": "2022-03-05T10:12:12.918Z"
   },
   {
    "duration": 7,
    "start_time": "2022-03-05T10:13:09.968Z"
   },
   {
    "duration": 91,
    "start_time": "2022-03-05T10:13:43.962Z"
   },
   {
    "duration": 185,
    "start_time": "2022-03-05T10:13:46.576Z"
   },
   {
    "duration": 179,
    "start_time": "2022-03-05T10:14:14.656Z"
   },
   {
    "duration": 183,
    "start_time": "2022-03-05T10:14:24.595Z"
   },
   {
    "duration": 7,
    "start_time": "2022-03-05T10:14:36.195Z"
   },
   {
    "duration": 205,
    "start_time": "2022-03-05T10:15:06.874Z"
   },
   {
    "duration": 5,
    "start_time": "2022-03-05T10:15:26.046Z"
   },
   {
    "duration": 5,
    "start_time": "2022-03-05T10:15:58.346Z"
   },
   {
    "duration": 206,
    "start_time": "2022-03-05T10:16:12.098Z"
   },
   {
    "duration": 4,
    "start_time": "2022-03-05T10:16:27.271Z"
   },
   {
    "duration": 26,
    "start_time": "2022-03-05T10:16:41.309Z"
   },
   {
    "duration": 8,
    "start_time": "2022-03-05T10:17:42.425Z"
   },
   {
    "duration": 7,
    "start_time": "2022-03-05T10:17:51.462Z"
   },
   {
    "duration": 409,
    "start_time": "2022-03-05T10:31:21.692Z"
   },
   {
    "duration": 189,
    "start_time": "2022-03-05T10:31:53.425Z"
   },
   {
    "duration": 203,
    "start_time": "2022-03-05T10:31:57.426Z"
   },
   {
    "duration": 191,
    "start_time": "2022-03-05T10:32:05.138Z"
   },
   {
    "duration": 190,
    "start_time": "2022-03-05T10:32:57.650Z"
   },
   {
    "duration": 244,
    "start_time": "2022-03-05T10:33:00.280Z"
   },
   {
    "duration": 201,
    "start_time": "2022-03-05T10:33:15.173Z"
   },
   {
    "duration": 194,
    "start_time": "2022-03-05T10:33:18.822Z"
   },
   {
    "duration": 181,
    "start_time": "2022-03-05T10:34:10.017Z"
   },
   {
    "duration": 177,
    "start_time": "2022-03-05T10:34:20.794Z"
   },
   {
    "duration": 186,
    "start_time": "2022-03-05T10:36:33.238Z"
   },
   {
    "duration": 174,
    "start_time": "2022-03-05T10:38:23.478Z"
   },
   {
    "duration": 55,
    "start_time": "2022-03-05T10:38:35.242Z"
   },
   {
    "duration": 10,
    "start_time": "2022-03-05T10:38:35.299Z"
   },
   {
    "duration": 43,
    "start_time": "2022-03-05T10:38:35.311Z"
   },
   {
    "duration": 2,
    "start_time": "2022-03-05T10:38:35.356Z"
   },
   {
    "duration": 17,
    "start_time": "2022-03-05T10:38:35.360Z"
   },
   {
    "duration": 12,
    "start_time": "2022-03-05T10:38:35.379Z"
   },
   {
    "duration": 7,
    "start_time": "2022-03-05T10:38:35.392Z"
   },
   {
    "duration": 8,
    "start_time": "2022-03-05T10:38:35.401Z"
   },
   {
    "duration": 33,
    "start_time": "2022-03-05T10:38:35.411Z"
   },
   {
    "duration": 20,
    "start_time": "2022-03-05T10:38:35.445Z"
   },
   {
    "duration": 20,
    "start_time": "2022-03-05T10:38:35.468Z"
   },
   {
    "duration": 11,
    "start_time": "2022-03-05T10:38:35.490Z"
   },
   {
    "duration": 43,
    "start_time": "2022-03-05T10:38:35.503Z"
   },
   {
    "duration": 2,
    "start_time": "2022-03-05T10:38:35.548Z"
   },
   {
    "duration": 14,
    "start_time": "2022-03-05T10:38:35.552Z"
   },
   {
    "duration": 9,
    "start_time": "2022-03-05T10:38:35.568Z"
   },
   {
    "duration": 6,
    "start_time": "2022-03-05T10:38:35.578Z"
   },
   {
    "duration": 26,
    "start_time": "2022-03-05T10:38:35.585Z"
   },
   {
    "duration": 9,
    "start_time": "2022-03-05T10:38:35.638Z"
   },
   {
    "duration": 11,
    "start_time": "2022-03-05T10:38:35.649Z"
   },
   {
    "duration": 14,
    "start_time": "2022-03-05T10:38:35.662Z"
   },
   {
    "duration": 4,
    "start_time": "2022-03-05T10:38:35.678Z"
   },
   {
    "duration": 7,
    "start_time": "2022-03-05T10:38:35.684Z"
   },
   {
    "duration": 45,
    "start_time": "2022-03-05T10:38:35.692Z"
   },
   {
    "duration": 182,
    "start_time": "2022-03-05T10:38:35.739Z"
   },
   {
    "duration": 6,
    "start_time": "2022-03-05T10:39:01.021Z"
   },
   {
    "duration": 12,
    "start_time": "2022-03-05T10:39:25.484Z"
   },
   {
    "duration": 10,
    "start_time": "2022-03-05T10:39:37.821Z"
   },
   {
    "duration": 9,
    "start_time": "2022-03-05T10:40:49.249Z"
   },
   {
    "duration": 70,
    "start_time": "2022-03-05T10:40:56.921Z"
   },
   {
    "duration": 8,
    "start_time": "2022-03-05T10:41:01.771Z"
   },
   {
    "duration": 55,
    "start_time": "2022-03-05T10:41:09.530Z"
   },
   {
    "duration": 11,
    "start_time": "2022-03-05T10:41:09.586Z"
   },
   {
    "duration": 47,
    "start_time": "2022-03-05T10:41:09.599Z"
   },
   {
    "duration": 3,
    "start_time": "2022-03-05T10:41:09.649Z"
   },
   {
    "duration": 12,
    "start_time": "2022-03-05T10:41:09.653Z"
   },
   {
    "duration": 12,
    "start_time": "2022-03-05T10:41:09.667Z"
   },
   {
    "duration": 8,
    "start_time": "2022-03-05T10:41:09.681Z"
   },
   {
    "duration": 7,
    "start_time": "2022-03-05T10:41:09.690Z"
   },
   {
    "duration": 45,
    "start_time": "2022-03-05T10:41:09.700Z"
   },
   {
    "duration": 16,
    "start_time": "2022-03-05T10:41:09.747Z"
   },
   {
    "duration": 19,
    "start_time": "2022-03-05T10:41:09.765Z"
   },
   {
    "duration": 13,
    "start_time": "2022-03-05T10:41:09.785Z"
   },
   {
    "duration": 44,
    "start_time": "2022-03-05T10:41:09.800Z"
   },
   {
    "duration": 2,
    "start_time": "2022-03-05T10:41:09.846Z"
   },
   {
    "duration": 15,
    "start_time": "2022-03-05T10:41:09.850Z"
   },
   {
    "duration": 13,
    "start_time": "2022-03-05T10:41:09.867Z"
   },
   {
    "duration": 4,
    "start_time": "2022-03-05T10:41:09.881Z"
   },
   {
    "duration": 29,
    "start_time": "2022-03-05T10:41:09.886Z"
   },
   {
    "duration": 10,
    "start_time": "2022-03-05T10:41:09.937Z"
   },
   {
    "duration": 20,
    "start_time": "2022-03-05T10:41:09.949Z"
   },
   {
    "duration": 17,
    "start_time": "2022-03-05T10:41:09.970Z"
   },
   {
    "duration": 5,
    "start_time": "2022-03-05T10:41:09.988Z"
   },
   {
    "duration": 12,
    "start_time": "2022-03-05T10:41:09.995Z"
   },
   {
    "duration": 33,
    "start_time": "2022-03-05T10:41:10.009Z"
   },
   {
    "duration": 17,
    "start_time": "2022-03-05T10:41:10.044Z"
   },
   {
    "duration": 8,
    "start_time": "2022-03-05T10:41:23.954Z"
   },
   {
    "duration": 13,
    "start_time": "2022-03-05T10:41:42.293Z"
   },
   {
    "duration": 22,
    "start_time": "2022-03-05T10:41:55.781Z"
   },
   {
    "duration": 21,
    "start_time": "2022-03-05T10:42:04.132Z"
   },
   {
    "duration": 22,
    "start_time": "2022-03-05T10:42:18.042Z"
   },
   {
    "duration": 17,
    "start_time": "2022-03-05T10:42:40.658Z"
   },
   {
    "duration": 15,
    "start_time": "2022-03-05T10:42:59.430Z"
   },
   {
    "duration": 16,
    "start_time": "2022-03-05T10:43:32.945Z"
   },
   {
    "duration": 187,
    "start_time": "2022-03-05T10:44:40.174Z"
   },
   {
    "duration": 196,
    "start_time": "2022-03-05T10:44:53.801Z"
   },
   {
    "duration": 460,
    "start_time": "2022-03-05T10:45:02.876Z"
   },
   {
    "duration": 63,
    "start_time": "2022-03-05T10:45:13.507Z"
   },
   {
    "duration": 72,
    "start_time": "2022-03-05T10:45:17.931Z"
   },
   {
    "duration": 16,
    "start_time": "2022-03-05T10:45:27.632Z"
   },
   {
    "duration": 19,
    "start_time": "2022-03-05T10:45:39.793Z"
   },
   {
    "duration": 22,
    "start_time": "2022-03-05T10:46:02.322Z"
   },
   {
    "duration": 28,
    "start_time": "2022-03-05T10:46:41.402Z"
   },
   {
    "duration": 27,
    "start_time": "2022-03-05T10:46:51.077Z"
   },
   {
    "duration": 12,
    "start_time": "2022-03-05T10:47:28.990Z"
   },
   {
    "duration": 13,
    "start_time": "2022-03-05T10:47:45.466Z"
   },
   {
    "duration": 58,
    "start_time": "2022-03-05T10:48:22.186Z"
   },
   {
    "duration": 10,
    "start_time": "2022-03-05T10:48:22.246Z"
   },
   {
    "duration": 21,
    "start_time": "2022-03-05T10:48:22.257Z"
   },
   {
    "duration": 3,
    "start_time": "2022-03-05T10:48:22.279Z"
   },
   {
    "duration": 11,
    "start_time": "2022-03-05T10:48:22.284Z"
   },
   {
    "duration": 46,
    "start_time": "2022-03-05T10:48:22.297Z"
   },
   {
    "duration": 9,
    "start_time": "2022-03-05T10:48:22.345Z"
   },
   {
    "duration": 7,
    "start_time": "2022-03-05T10:48:22.358Z"
   },
   {
    "duration": 8,
    "start_time": "2022-03-05T10:48:22.368Z"
   },
   {
    "duration": 13,
    "start_time": "2022-03-05T10:48:22.378Z"
   },
   {
    "duration": 56,
    "start_time": "2022-03-05T10:48:22.393Z"
   },
   {
    "duration": 12,
    "start_time": "2022-03-05T10:48:22.451Z"
   },
   {
    "duration": 20,
    "start_time": "2022-03-05T10:48:22.464Z"
   },
   {
    "duration": 2,
    "start_time": "2022-03-05T10:48:22.486Z"
   },
   {
    "duration": 13,
    "start_time": "2022-03-05T10:48:22.490Z"
   },
   {
    "duration": 34,
    "start_time": "2022-03-05T10:48:22.505Z"
   },
   {
    "duration": 3,
    "start_time": "2022-03-05T10:48:22.541Z"
   },
   {
    "duration": 24,
    "start_time": "2022-03-05T10:48:22.546Z"
   },
   {
    "duration": 9,
    "start_time": "2022-03-05T10:48:22.571Z"
   },
   {
    "duration": 12,
    "start_time": "2022-03-05T10:48:22.582Z"
   },
   {
    "duration": 52,
    "start_time": "2022-03-05T10:48:22.595Z"
   },
   {
    "duration": 5,
    "start_time": "2022-03-05T10:48:22.649Z"
   },
   {
    "duration": 6,
    "start_time": "2022-03-05T10:48:22.657Z"
   },
   {
    "duration": 9,
    "start_time": "2022-03-05T10:48:22.664Z"
   },
   {
    "duration": 16,
    "start_time": "2022-03-05T10:48:22.675Z"
   },
   {
    "duration": 14,
    "start_time": "2022-03-05T10:49:00.804Z"
   },
   {
    "duration": 13,
    "start_time": "2022-03-05T10:50:20.121Z"
   },
   {
    "duration": 16,
    "start_time": "2022-03-05T10:50:37.441Z"
   },
   {
    "duration": 16,
    "start_time": "2022-03-05T10:50:57.792Z"
   },
   {
    "duration": 14,
    "start_time": "2022-03-05T10:51:53.482Z"
   },
   {
    "duration": 16,
    "start_time": "2022-03-05T10:52:01.683Z"
   },
   {
    "duration": 15,
    "start_time": "2022-03-05T10:52:17.914Z"
   },
   {
    "duration": 16,
    "start_time": "2022-03-05T10:52:28.932Z"
   },
   {
    "duration": 16,
    "start_time": "2022-03-05T10:53:30.978Z"
   },
   {
    "duration": 15,
    "start_time": "2022-03-05T10:53:53.487Z"
   },
   {
    "duration": 8,
    "start_time": "2022-03-05T10:56:09.754Z"
   },
   {
    "duration": 7,
    "start_time": "2022-03-05T10:56:23.565Z"
   },
   {
    "duration": 26,
    "start_time": "2022-03-05T10:56:39.133Z"
   },
   {
    "duration": 31,
    "start_time": "2022-03-05T10:57:08.393Z"
   },
   {
    "duration": 21,
    "start_time": "2022-03-05T10:57:24.805Z"
   },
   {
    "duration": 22,
    "start_time": "2022-03-05T10:57:31.737Z"
   },
   {
    "duration": 23,
    "start_time": "2022-03-05T10:57:34.385Z"
   },
   {
    "duration": 17,
    "start_time": "2022-03-05T10:58:09.138Z"
   },
   {
    "duration": 17,
    "start_time": "2022-03-05T10:58:13.211Z"
   },
   {
    "duration": 15,
    "start_time": "2022-03-05T10:58:24.763Z"
   },
   {
    "duration": 16,
    "start_time": "2022-03-05T10:58:27.242Z"
   },
   {
    "duration": 56,
    "start_time": "2022-03-05T10:58:36.535Z"
   },
   {
    "duration": 10,
    "start_time": "2022-03-05T10:58:36.593Z"
   },
   {
    "duration": 43,
    "start_time": "2022-03-05T10:58:36.605Z"
   },
   {
    "duration": 3,
    "start_time": "2022-03-05T10:58:36.650Z"
   },
   {
    "duration": 11,
    "start_time": "2022-03-05T10:58:36.654Z"
   },
   {
    "duration": 12,
    "start_time": "2022-03-05T10:58:36.667Z"
   },
   {
    "duration": 7,
    "start_time": "2022-03-05T10:58:36.680Z"
   },
   {
    "duration": 6,
    "start_time": "2022-03-05T10:58:36.690Z"
   },
   {
    "duration": 7,
    "start_time": "2022-03-05T10:58:36.739Z"
   },
   {
    "duration": 11,
    "start_time": "2022-03-05T10:58:36.748Z"
   },
   {
    "duration": 17,
    "start_time": "2022-03-05T10:58:36.760Z"
   },
   {
    "duration": 12,
    "start_time": "2022-03-05T10:58:36.779Z"
   },
   {
    "duration": 55,
    "start_time": "2022-03-05T10:58:36.792Z"
   },
   {
    "duration": 2,
    "start_time": "2022-03-05T10:58:36.849Z"
   },
   {
    "duration": 15,
    "start_time": "2022-03-05T10:58:36.852Z"
   },
   {
    "duration": 8,
    "start_time": "2022-03-05T10:58:36.869Z"
   },
   {
    "duration": 4,
    "start_time": "2022-03-05T10:58:36.879Z"
   },
   {
    "duration": 55,
    "start_time": "2022-03-05T10:58:36.885Z"
   },
   {
    "duration": 11,
    "start_time": "2022-03-05T10:58:36.942Z"
   },
   {
    "duration": 13,
    "start_time": "2022-03-05T10:58:36.955Z"
   },
   {
    "duration": 17,
    "start_time": "2022-03-05T10:58:36.970Z"
   },
   {
    "duration": 6,
    "start_time": "2022-03-05T10:58:36.989Z"
   },
   {
    "duration": 8,
    "start_time": "2022-03-05T10:58:37.041Z"
   },
   {
    "duration": 12,
    "start_time": "2022-03-05T10:58:37.051Z"
   },
   {
    "duration": 18,
    "start_time": "2022-03-05T10:58:37.065Z"
   },
   {
    "duration": 17,
    "start_time": "2022-03-05T10:58:37.085Z"
   },
   {
    "duration": 16,
    "start_time": "2022-03-05T10:58:51.867Z"
   },
   {
    "duration": 7,
    "start_time": "2022-03-05T10:59:10.251Z"
   },
   {
    "duration": 58,
    "start_time": "2022-03-05T10:59:22.118Z"
   },
   {
    "duration": 12,
    "start_time": "2022-03-05T10:59:22.179Z"
   },
   {
    "duration": 50,
    "start_time": "2022-03-05T10:59:22.193Z"
   },
   {
    "duration": 4,
    "start_time": "2022-03-05T10:59:22.246Z"
   },
   {
    "duration": 14,
    "start_time": "2022-03-05T10:59:22.252Z"
   },
   {
    "duration": 15,
    "start_time": "2022-03-05T10:59:22.268Z"
   },
   {
    "duration": 8,
    "start_time": "2022-03-05T10:59:22.286Z"
   },
   {
    "duration": 45,
    "start_time": "2022-03-05T10:59:22.298Z"
   },
   {
    "duration": 8,
    "start_time": "2022-03-05T10:59:22.346Z"
   },
   {
    "duration": 13,
    "start_time": "2022-03-05T10:59:22.356Z"
   },
   {
    "duration": 19,
    "start_time": "2022-03-05T10:59:22.370Z"
   },
   {
    "duration": 48,
    "start_time": "2022-03-05T10:59:22.391Z"
   },
   {
    "duration": 18,
    "start_time": "2022-03-05T10:59:22.440Z"
   },
   {
    "duration": 2,
    "start_time": "2022-03-05T10:59:22.460Z"
   },
   {
    "duration": 11,
    "start_time": "2022-03-05T10:59:22.464Z"
   },
   {
    "duration": 9,
    "start_time": "2022-03-05T10:59:22.476Z"
   },
   {
    "duration": 5,
    "start_time": "2022-03-05T10:59:22.487Z"
   },
   {
    "duration": 61,
    "start_time": "2022-03-05T10:59:22.494Z"
   },
   {
    "duration": 11,
    "start_time": "2022-03-05T10:59:22.557Z"
   },
   {
    "duration": 13,
    "start_time": "2022-03-05T10:59:22.570Z"
   },
   {
    "duration": 18,
    "start_time": "2022-03-05T10:59:22.585Z"
   },
   {
    "duration": 37,
    "start_time": "2022-03-05T10:59:22.605Z"
   },
   {
    "duration": 8,
    "start_time": "2022-03-05T10:59:22.645Z"
   },
   {
    "duration": 11,
    "start_time": "2022-03-05T10:59:22.654Z"
   },
   {
    "duration": 15,
    "start_time": "2022-03-05T10:59:22.667Z"
   },
   {
    "duration": 56,
    "start_time": "2022-03-05T10:59:22.683Z"
   },
   {
    "duration": 15,
    "start_time": "2022-03-05T11:01:52.253Z"
   },
   {
    "duration": 8,
    "start_time": "2022-03-05T11:02:56.013Z"
   },
   {
    "duration": 58,
    "start_time": "2022-03-05T11:03:00.733Z"
   },
   {
    "duration": 10,
    "start_time": "2022-03-05T11:03:00.794Z"
   },
   {
    "duration": 46,
    "start_time": "2022-03-05T11:03:00.806Z"
   },
   {
    "duration": 3,
    "start_time": "2022-03-05T11:03:00.854Z"
   },
   {
    "duration": 15,
    "start_time": "2022-03-05T11:03:00.859Z"
   },
   {
    "duration": 19,
    "start_time": "2022-03-05T11:03:00.876Z"
   },
   {
    "duration": 7,
    "start_time": "2022-03-05T11:03:00.897Z"
   },
   {
    "duration": 34,
    "start_time": "2022-03-05T11:03:00.905Z"
   },
   {
    "duration": 14,
    "start_time": "2022-03-05T11:03:00.941Z"
   },
   {
    "duration": 22,
    "start_time": "2022-03-05T11:03:00.958Z"
   },
   {
    "duration": 34,
    "start_time": "2022-03-05T11:03:00.982Z"
   },
   {
    "duration": 36,
    "start_time": "2022-03-05T11:03:01.018Z"
   },
   {
    "duration": 25,
    "start_time": "2022-03-05T11:03:01.056Z"
   },
   {
    "duration": 22,
    "start_time": "2022-03-05T11:03:01.083Z"
   },
   {
    "duration": 16,
    "start_time": "2022-03-05T11:03:01.107Z"
   },
   {
    "duration": 26,
    "start_time": "2022-03-05T11:03:01.125Z"
   },
   {
    "duration": 11,
    "start_time": "2022-03-05T11:03:01.153Z"
   },
   {
    "duration": 32,
    "start_time": "2022-03-05T11:03:01.166Z"
   },
   {
    "duration": 10,
    "start_time": "2022-03-05T11:03:01.199Z"
   },
   {
    "duration": 13,
    "start_time": "2022-03-05T11:03:01.211Z"
   },
   {
    "duration": 16,
    "start_time": "2022-03-05T11:03:01.237Z"
   },
   {
    "duration": 7,
    "start_time": "2022-03-05T11:03:01.255Z"
   },
   {
    "duration": 22,
    "start_time": "2022-03-05T11:03:01.264Z"
   },
   {
    "duration": 22,
    "start_time": "2022-03-05T11:03:01.288Z"
   },
   {
    "duration": 34,
    "start_time": "2022-03-05T11:03:01.312Z"
   },
   {
    "duration": 18,
    "start_time": "2022-03-05T11:03:01.348Z"
   },
   {
    "duration": 28,
    "start_time": "2022-03-05T11:04:16.134Z"
   },
   {
    "duration": 246,
    "start_time": "2022-03-05T11:04:43.314Z"
   },
   {
    "duration": 57,
    "start_time": "2022-03-05T11:04:49.535Z"
   },
   {
    "duration": 10,
    "start_time": "2022-03-05T11:04:49.594Z"
   },
   {
    "duration": 41,
    "start_time": "2022-03-05T11:04:49.606Z"
   },
   {
    "duration": 5,
    "start_time": "2022-03-05T11:04:49.649Z"
   },
   {
    "duration": 11,
    "start_time": "2022-03-05T11:04:49.655Z"
   },
   {
    "duration": 11,
    "start_time": "2022-03-05T11:04:49.667Z"
   },
   {
    "duration": 8,
    "start_time": "2022-03-05T11:04:49.679Z"
   },
   {
    "duration": 7,
    "start_time": "2022-03-05T11:04:49.688Z"
   },
   {
    "duration": 45,
    "start_time": "2022-03-05T11:04:49.698Z"
   },
   {
    "duration": 10,
    "start_time": "2022-03-05T11:04:49.746Z"
   },
   {
    "duration": 17,
    "start_time": "2022-03-05T11:04:49.758Z"
   },
   {
    "duration": 11,
    "start_time": "2022-03-05T11:04:49.777Z"
   },
   {
    "duration": 49,
    "start_time": "2022-03-05T11:04:49.790Z"
   },
   {
    "duration": 2,
    "start_time": "2022-03-05T11:04:49.840Z"
   },
   {
    "duration": 24,
    "start_time": "2022-03-05T11:04:49.844Z"
   },
   {
    "duration": 11,
    "start_time": "2022-03-05T11:04:49.870Z"
   },
   {
    "duration": 11,
    "start_time": "2022-03-05T11:04:49.883Z"
   },
   {
    "duration": 25,
    "start_time": "2022-03-05T11:04:49.896Z"
   },
   {
    "duration": 18,
    "start_time": "2022-03-05T11:04:49.923Z"
   },
   {
    "duration": 12,
    "start_time": "2022-03-05T11:04:49.942Z"
   },
   {
    "duration": 15,
    "start_time": "2022-03-05T11:04:49.956Z"
   },
   {
    "duration": 5,
    "start_time": "2022-03-05T11:04:49.973Z"
   },
   {
    "duration": 7,
    "start_time": "2022-03-05T11:04:49.980Z"
   },
   {
    "duration": 8,
    "start_time": "2022-03-05T11:04:49.989Z"
   },
   {
    "duration": 52,
    "start_time": "2022-03-05T11:04:49.999Z"
   },
   {
    "duration": 18,
    "start_time": "2022-03-05T11:04:50.053Z"
   },
   {
    "duration": 27,
    "start_time": "2022-03-05T11:04:50.075Z"
   },
   {
    "duration": 30,
    "start_time": "2022-03-05T11:05:41.684Z"
   },
   {
    "duration": 18,
    "start_time": "2022-03-05T11:06:01.388Z"
   },
   {
    "duration": 16,
    "start_time": "2022-03-05T11:06:24.822Z"
   },
   {
    "duration": 21,
    "start_time": "2022-03-05T11:06:28.975Z"
   },
   {
    "duration": 186,
    "start_time": "2022-03-05T11:06:56.206Z"
   },
   {
    "duration": 197,
    "start_time": "2022-03-05T11:07:01.467Z"
   },
   {
    "duration": 199,
    "start_time": "2022-03-05T11:08:25.961Z"
   },
   {
    "duration": 178,
    "start_time": "2022-03-05T11:08:30.633Z"
   },
   {
    "duration": 192,
    "start_time": "2022-03-05T11:20:16.506Z"
   },
   {
    "duration": 189,
    "start_time": "2022-03-05T11:20:22.462Z"
   },
   {
    "duration": 199,
    "start_time": "2022-03-05T11:20:27.707Z"
   },
   {
    "duration": 183,
    "start_time": "2022-03-05T11:20:40.897Z"
   },
   {
    "duration": 182,
    "start_time": "2022-03-05T11:20:51.060Z"
   },
   {
    "duration": 207,
    "start_time": "2022-03-05T11:20:52.147Z"
   },
   {
    "duration": 70,
    "start_time": "2022-03-05T11:20:59.969Z"
   },
   {
    "duration": 11,
    "start_time": "2022-03-05T11:21:00.042Z"
   },
   {
    "duration": 27,
    "start_time": "2022-03-05T11:21:00.056Z"
   },
   {
    "duration": 3,
    "start_time": "2022-03-05T11:21:00.085Z"
   },
   {
    "duration": 35,
    "start_time": "2022-03-05T11:21:00.090Z"
   },
   {
    "duration": 22,
    "start_time": "2022-03-05T11:21:00.127Z"
   },
   {
    "duration": 9,
    "start_time": "2022-03-05T11:21:00.151Z"
   },
   {
    "duration": 10,
    "start_time": "2022-03-05T11:21:00.162Z"
   },
   {
    "duration": 14,
    "start_time": "2022-03-05T11:21:00.175Z"
   },
   {
    "duration": 14,
    "start_time": "2022-03-05T11:21:00.192Z"
   },
   {
    "duration": 19,
    "start_time": "2022-03-05T11:21:00.237Z"
   },
   {
    "duration": 12,
    "start_time": "2022-03-05T11:21:00.258Z"
   },
   {
    "duration": 18,
    "start_time": "2022-03-05T11:21:00.271Z"
   },
   {
    "duration": 2,
    "start_time": "2022-03-05T11:21:00.291Z"
   },
   {
    "duration": 14,
    "start_time": "2022-03-05T11:21:00.294Z"
   },
   {
    "duration": 12,
    "start_time": "2022-03-05T11:21:00.338Z"
   },
   {
    "duration": 9,
    "start_time": "2022-03-05T11:21:00.351Z"
   },
   {
    "duration": 24,
    "start_time": "2022-03-05T11:21:00.361Z"
   },
   {
    "duration": 10,
    "start_time": "2022-03-05T11:21:00.386Z"
   },
   {
    "duration": 12,
    "start_time": "2022-03-05T11:21:00.397Z"
   },
   {
    "duration": 40,
    "start_time": "2022-03-05T11:21:00.411Z"
   },
   {
    "duration": 19,
    "start_time": "2022-03-05T11:21:00.453Z"
   },
   {
    "duration": 23,
    "start_time": "2022-03-05T11:21:00.473Z"
   },
   {
    "duration": 11,
    "start_time": "2022-03-05T11:21:00.497Z"
   },
   {
    "duration": 18,
    "start_time": "2022-03-05T11:21:00.510Z"
   },
   {
    "duration": 23,
    "start_time": "2022-03-05T11:21:00.530Z"
   },
   {
    "duration": 41,
    "start_time": "2022-03-05T11:21:00.556Z"
   },
   {
    "duration": 65,
    "start_time": "2022-03-05T11:21:40.817Z"
   },
   {
    "duration": 11,
    "start_time": "2022-03-05T11:21:41.097Z"
   },
   {
    "duration": 21,
    "start_time": "2022-03-05T11:21:41.110Z"
   },
   {
    "duration": 3,
    "start_time": "2022-03-05T11:21:41.133Z"
   },
   {
    "duration": 10,
    "start_time": "2022-03-05T11:21:41.138Z"
   },
   {
    "duration": 13,
    "start_time": "2022-03-05T11:21:41.150Z"
   },
   {
    "duration": 8,
    "start_time": "2022-03-05T11:21:41.164Z"
   },
   {
    "duration": 7,
    "start_time": "2022-03-05T11:21:41.174Z"
   },
   {
    "duration": 10,
    "start_time": "2022-03-05T11:21:41.182Z"
   },
   {
    "duration": 43,
    "start_time": "2022-03-05T11:21:41.195Z"
   },
   {
    "duration": 19,
    "start_time": "2022-03-05T11:21:41.240Z"
   },
   {
    "duration": 13,
    "start_time": "2022-03-05T11:21:41.261Z"
   },
   {
    "duration": 19,
    "start_time": "2022-03-05T11:21:41.275Z"
   },
   {
    "duration": 2,
    "start_time": "2022-03-05T11:21:41.296Z"
   },
   {
    "duration": 42,
    "start_time": "2022-03-05T11:21:41.300Z"
   },
   {
    "duration": 11,
    "start_time": "2022-03-05T11:21:41.344Z"
   },
   {
    "duration": 5,
    "start_time": "2022-03-05T11:21:41.357Z"
   },
   {
    "duration": 29,
    "start_time": "2022-03-05T11:21:41.364Z"
   },
   {
    "duration": 10,
    "start_time": "2022-03-05T11:21:41.395Z"
   },
   {
    "duration": 40,
    "start_time": "2022-03-05T11:21:41.407Z"
   },
   {
    "duration": 17,
    "start_time": "2022-03-05T11:21:41.449Z"
   },
   {
    "duration": 5,
    "start_time": "2022-03-05T11:21:41.468Z"
   },
   {
    "duration": 20,
    "start_time": "2022-03-05T11:21:41.475Z"
   },
   {
    "duration": 8,
    "start_time": "2022-03-05T11:21:41.497Z"
   },
   {
    "duration": 42,
    "start_time": "2022-03-05T11:21:41.507Z"
   },
   {
    "duration": 27,
    "start_time": "2022-03-05T11:21:44.915Z"
   },
   {
    "duration": 18,
    "start_time": "2022-03-05T11:21:55.229Z"
   },
   {
    "duration": 19,
    "start_time": "2022-03-05T11:21:58.194Z"
   },
   {
    "duration": 10,
    "start_time": "2022-03-05T11:22:03.178Z"
   },
   {
    "duration": 19,
    "start_time": "2022-03-05T11:22:14.863Z"
   },
   {
    "duration": 58,
    "start_time": "2022-03-05T11:22:24.707Z"
   },
   {
    "duration": 11,
    "start_time": "2022-03-05T11:22:24.767Z"
   },
   {
    "duration": 25,
    "start_time": "2022-03-05T11:22:24.780Z"
   },
   {
    "duration": 3,
    "start_time": "2022-03-05T11:22:24.807Z"
   },
   {
    "duration": 28,
    "start_time": "2022-03-05T11:22:24.812Z"
   },
   {
    "duration": 15,
    "start_time": "2022-03-05T11:22:24.842Z"
   },
   {
    "duration": 8,
    "start_time": "2022-03-05T11:22:24.858Z"
   },
   {
    "duration": 10,
    "start_time": "2022-03-05T11:22:24.868Z"
   },
   {
    "duration": 14,
    "start_time": "2022-03-05T11:22:24.880Z"
   },
   {
    "duration": 42,
    "start_time": "2022-03-05T11:22:24.896Z"
   },
   {
    "duration": 20,
    "start_time": "2022-03-05T11:22:24.940Z"
   },
   {
    "duration": 12,
    "start_time": "2022-03-05T11:22:24.961Z"
   },
   {
    "duration": 22,
    "start_time": "2022-03-05T11:22:24.975Z"
   },
   {
    "duration": 2,
    "start_time": "2022-03-05T11:22:24.999Z"
   },
   {
    "duration": 42,
    "start_time": "2022-03-05T11:22:25.003Z"
   },
   {
    "duration": 9,
    "start_time": "2022-03-05T11:22:25.046Z"
   },
   {
    "duration": 8,
    "start_time": "2022-03-05T11:22:25.056Z"
   },
   {
    "duration": 40,
    "start_time": "2022-03-05T11:22:25.066Z"
   },
   {
    "duration": 19,
    "start_time": "2022-03-05T11:22:25.108Z"
   },
   {
    "duration": 21,
    "start_time": "2022-03-05T11:22:25.128Z"
   },
   {
    "duration": 20,
    "start_time": "2022-03-05T11:22:25.151Z"
   },
   {
    "duration": 12,
    "start_time": "2022-03-05T11:22:25.173Z"
   },
   {
    "duration": 7,
    "start_time": "2022-03-05T11:22:25.187Z"
   },
   {
    "duration": 12,
    "start_time": "2022-03-05T11:22:25.196Z"
   },
   {
    "duration": 30,
    "start_time": "2022-03-05T11:22:25.210Z"
   },
   {
    "duration": 11,
    "start_time": "2022-03-05T11:22:28.927Z"
   },
   {
    "duration": 11,
    "start_time": "2022-03-05T11:22:32.978Z"
   },
   {
    "duration": 11,
    "start_time": "2022-03-05T11:22:58.393Z"
   },
   {
    "duration": 11,
    "start_time": "2022-03-05T11:23:09.032Z"
   },
   {
    "duration": 655,
    "start_time": "2022-03-05T11:24:00.801Z"
   },
   {
    "duration": 12,
    "start_time": "2022-03-05T11:24:01.458Z"
   },
   {
    "duration": 24,
    "start_time": "2022-03-05T11:24:01.475Z"
   },
   {
    "duration": 12,
    "start_time": "2022-03-05T11:24:01.501Z"
   },
   {
    "duration": 34,
    "start_time": "2022-03-05T11:24:01.515Z"
   },
   {
    "duration": 29,
    "start_time": "2022-03-05T11:24:01.551Z"
   },
   {
    "duration": 9,
    "start_time": "2022-03-05T11:24:01.583Z"
   },
   {
    "duration": 10,
    "start_time": "2022-03-05T11:24:01.594Z"
   },
   {
    "duration": 33,
    "start_time": "2022-03-05T11:24:01.606Z"
   },
   {
    "duration": 13,
    "start_time": "2022-03-05T11:24:01.641Z"
   },
   {
    "duration": 25,
    "start_time": "2022-03-05T11:24:01.656Z"
   },
   {
    "duration": 14,
    "start_time": "2022-03-05T11:24:01.683Z"
   },
   {
    "duration": 48,
    "start_time": "2022-03-05T11:24:01.699Z"
   },
   {
    "duration": 2,
    "start_time": "2022-03-05T11:24:01.750Z"
   },
   {
    "duration": 19,
    "start_time": "2022-03-05T11:24:01.754Z"
   },
   {
    "duration": 11,
    "start_time": "2022-03-05T11:24:01.775Z"
   },
   {
    "duration": 29,
    "start_time": "2022-03-05T11:24:01.788Z"
   },
   {
    "duration": 38,
    "start_time": "2022-03-05T11:24:01.819Z"
   },
   {
    "duration": 10,
    "start_time": "2022-03-05T11:24:01.860Z"
   },
   {
    "duration": 14,
    "start_time": "2022-03-05T11:24:01.872Z"
   },
   {
    "duration": 16,
    "start_time": "2022-03-05T11:24:01.888Z"
   },
   {
    "duration": 6,
    "start_time": "2022-03-05T11:24:01.939Z"
   },
   {
    "duration": 7,
    "start_time": "2022-03-05T11:24:01.947Z"
   },
   {
    "duration": 18,
    "start_time": "2022-03-05T11:24:01.956Z"
   },
   {
    "duration": 22,
    "start_time": "2022-03-05T11:24:01.975Z"
   },
   {
    "duration": 10,
    "start_time": "2022-03-05T11:24:01.998Z"
   },
   {
    "duration": 15,
    "start_time": "2022-03-05T11:24:02.009Z"
   },
   {
    "duration": 6,
    "start_time": "2022-03-05T11:24:13.981Z"
   },
   {
    "duration": 6,
    "start_time": "2022-03-05T11:24:23.721Z"
   },
   {
    "duration": 7,
    "start_time": "2022-03-05T11:24:31.285Z"
   },
   {
    "duration": 10,
    "start_time": "2022-03-05T11:24:34.296Z"
   },
   {
    "duration": 10,
    "start_time": "2022-03-05T11:25:27.944Z"
   },
   {
    "duration": 10,
    "start_time": "2022-03-05T11:25:45.503Z"
   },
   {
    "duration": 260,
    "start_time": "2022-03-05T11:25:59.384Z"
   },
   {
    "duration": 183,
    "start_time": "2022-03-05T11:26:07.620Z"
   },
   {
    "duration": 8,
    "start_time": "2022-03-05T11:26:26.285Z"
   },
   {
    "duration": 7,
    "start_time": "2022-03-05T11:26:35.546Z"
   },
   {
    "duration": 8,
    "start_time": "2022-03-05T11:27:07.276Z"
   },
   {
    "duration": 185,
    "start_time": "2022-03-05T11:27:11.009Z"
   },
   {
    "duration": 11,
    "start_time": "2022-03-05T11:27:23.892Z"
   },
   {
    "duration": 13,
    "start_time": "2022-03-05T11:46:20.597Z"
   },
   {
    "duration": 15,
    "start_time": "2022-03-05T11:46:45.112Z"
   },
   {
    "duration": 10,
    "start_time": "2022-03-05T11:46:54.928Z"
   },
   {
    "duration": 10,
    "start_time": "2022-03-05T11:47:11.551Z"
   },
   {
    "duration": 12,
    "start_time": "2022-03-05T11:47:42.955Z"
   },
   {
    "duration": 13,
    "start_time": "2022-03-05T11:47:48.594Z"
   },
   {
    "duration": 18,
    "start_time": "2022-03-05T11:48:03.169Z"
   },
   {
    "duration": 12,
    "start_time": "2022-03-05T11:48:10.266Z"
   },
   {
    "duration": 13,
    "start_time": "2022-03-05T11:48:18.962Z"
   },
   {
    "duration": 12,
    "start_time": "2022-03-05T11:48:29.648Z"
   },
   {
    "duration": 11,
    "start_time": "2022-03-05T11:48:50.773Z"
   },
   {
    "duration": 8,
    "start_time": "2022-03-05T11:50:40.713Z"
   },
   {
    "duration": 21,
    "start_time": "2022-03-05T11:51:19.472Z"
   },
   {
    "duration": 13,
    "start_time": "2022-03-05T12:36:13.292Z"
   },
   {
    "duration": 4,
    "start_time": "2022-03-05T12:36:47.939Z"
   },
   {
    "duration": 15,
    "start_time": "2022-03-05T12:36:53.021Z"
   },
   {
    "duration": 11,
    "start_time": "2022-03-05T12:37:11.149Z"
   },
   {
    "duration": 12,
    "start_time": "2022-03-05T12:38:15.649Z"
   },
   {
    "duration": 196,
    "start_time": "2022-03-05T12:38:43.277Z"
   },
   {
    "duration": 16,
    "start_time": "2022-03-05T12:39:15.200Z"
   },
   {
    "duration": 54,
    "start_time": "2022-03-05T12:39:27.485Z"
   },
   {
    "duration": 218,
    "start_time": "2022-03-05T12:40:10.967Z"
   },
   {
    "duration": 189,
    "start_time": "2022-03-05T12:40:17.250Z"
   },
   {
    "duration": 189,
    "start_time": "2022-03-05T12:40:37.055Z"
   },
   {
    "duration": 56,
    "start_time": "2022-03-05T12:40:55.859Z"
   },
   {
    "duration": 15,
    "start_time": "2022-03-05T12:40:59.571Z"
   },
   {
    "duration": 16,
    "start_time": "2022-03-05T12:41:10.892Z"
   },
   {
    "duration": 16,
    "start_time": "2022-03-05T12:41:45.561Z"
   },
   {
    "duration": 34,
    "start_time": "2022-03-05T12:42:52.168Z"
   },
   {
    "duration": 16,
    "start_time": "2022-03-05T12:50:29.327Z"
   },
   {
    "duration": 28,
    "start_time": "2022-03-05T12:50:38.302Z"
   },
   {
    "duration": 3,
    "start_time": "2022-03-05T12:51:38.648Z"
   },
   {
    "duration": 56,
    "start_time": "2022-03-05T12:52:52.295Z"
   },
   {
    "duration": 173,
    "start_time": "2022-03-05T12:52:58.750Z"
   },
   {
    "duration": 16,
    "start_time": "2022-03-05T12:53:21.448Z"
   },
   {
    "duration": 18,
    "start_time": "2022-03-05T12:54:21.450Z"
   },
   {
    "duration": 28,
    "start_time": "2022-03-05T13:01:20.368Z"
   },
   {
    "duration": 16,
    "start_time": "2022-03-05T13:02:17.919Z"
   },
   {
    "duration": 27,
    "start_time": "2022-03-05T13:02:19.270Z"
   },
   {
    "duration": 17,
    "start_time": "2022-03-05T13:02:49.456Z"
   },
   {
    "duration": 56,
    "start_time": "2022-03-05T13:03:58.254Z"
   },
   {
    "duration": 12,
    "start_time": "2022-03-05T13:03:58.312Z"
   },
   {
    "duration": 30,
    "start_time": "2022-03-05T13:03:58.326Z"
   },
   {
    "duration": 4,
    "start_time": "2022-03-05T13:03:58.357Z"
   },
   {
    "duration": 10,
    "start_time": "2022-03-05T13:03:58.363Z"
   },
   {
    "duration": 15,
    "start_time": "2022-03-05T13:03:58.375Z"
   },
   {
    "duration": 8,
    "start_time": "2022-03-05T13:03:58.391Z"
   },
   {
    "duration": 8,
    "start_time": "2022-03-05T13:03:58.438Z"
   },
   {
    "duration": 10,
    "start_time": "2022-03-05T13:03:58.447Z"
   },
   {
    "duration": 12,
    "start_time": "2022-03-05T13:03:58.459Z"
   },
   {
    "duration": 20,
    "start_time": "2022-03-05T13:03:58.473Z"
   },
   {
    "duration": 46,
    "start_time": "2022-03-05T13:03:58.494Z"
   },
   {
    "duration": 17,
    "start_time": "2022-03-05T13:03:58.542Z"
   },
   {
    "duration": 2,
    "start_time": "2022-03-05T13:03:58.561Z"
   },
   {
    "duration": 12,
    "start_time": "2022-03-05T13:03:58.565Z"
   },
   {
    "duration": 8,
    "start_time": "2022-03-05T13:03:58.578Z"
   },
   {
    "duration": 5,
    "start_time": "2022-03-05T13:03:58.588Z"
   },
   {
    "duration": 55,
    "start_time": "2022-03-05T13:03:58.594Z"
   },
   {
    "duration": 10,
    "start_time": "2022-03-05T13:03:58.650Z"
   },
   {
    "duration": 13,
    "start_time": "2022-03-05T13:03:58.662Z"
   },
   {
    "duration": 16,
    "start_time": "2022-03-05T13:03:58.677Z"
   },
   {
    "duration": 5,
    "start_time": "2022-03-05T13:03:58.695Z"
   },
   {
    "duration": 7,
    "start_time": "2022-03-05T13:03:58.740Z"
   },
   {
    "duration": 11,
    "start_time": "2022-03-05T13:03:58.749Z"
   },
   {
    "duration": 17,
    "start_time": "2022-03-05T13:03:58.762Z"
   },
   {
    "duration": 12,
    "start_time": "2022-03-05T13:03:58.780Z"
   },
   {
    "duration": 10,
    "start_time": "2022-03-05T13:03:58.794Z"
   },
   {
    "duration": 7,
    "start_time": "2022-03-05T13:03:58.838Z"
   },
   {
    "duration": 19,
    "start_time": "2022-03-05T13:03:58.847Z"
   },
   {
    "duration": 13,
    "start_time": "2022-03-05T13:03:58.867Z"
   },
   {
    "duration": 17,
    "start_time": "2022-03-05T13:04:02.627Z"
   },
   {
    "duration": 19,
    "start_time": "2022-03-05T13:04:06.477Z"
   },
   {
    "duration": 33,
    "start_time": "2022-03-05T13:04:19.601Z"
   },
   {
    "duration": 26,
    "start_time": "2022-03-05T13:04:40.671Z"
   },
   {
    "duration": 21,
    "start_time": "2022-03-05T13:06:52.263Z"
   },
   {
    "duration": 10,
    "start_time": "2022-03-05T13:23:02.359Z"
   },
   {
    "duration": 18,
    "start_time": "2022-03-05T13:23:26.783Z"
   },
   {
    "duration": 160,
    "start_time": "2022-03-05T13:24:43.045Z"
   },
   {
    "duration": 4,
    "start_time": "2022-03-05T13:24:46.380Z"
   },
   {
    "duration": 13,
    "start_time": "2022-03-05T13:26:17.986Z"
   },
   {
    "duration": 223,
    "start_time": "2022-03-05T13:27:02.771Z"
   },
   {
    "duration": 188,
    "start_time": "2022-03-05T13:27:06.578Z"
   },
   {
    "duration": 55,
    "start_time": "2022-03-05T13:27:23.888Z"
   },
   {
    "duration": 11,
    "start_time": "2022-03-05T13:27:23.945Z"
   },
   {
    "duration": 32,
    "start_time": "2022-03-05T13:27:23.958Z"
   },
   {
    "duration": 3,
    "start_time": "2022-03-05T13:27:23.992Z"
   },
   {
    "duration": 17,
    "start_time": "2022-03-05T13:27:23.997Z"
   },
   {
    "duration": 35,
    "start_time": "2022-03-05T13:27:24.016Z"
   },
   {
    "duration": 10,
    "start_time": "2022-03-05T13:27:24.053Z"
   },
   {
    "duration": 9,
    "start_time": "2022-03-05T13:27:24.067Z"
   },
   {
    "duration": 11,
    "start_time": "2022-03-05T13:27:24.079Z"
   },
   {
    "duration": 50,
    "start_time": "2022-03-05T13:27:24.092Z"
   },
   {
    "duration": 20,
    "start_time": "2022-03-05T13:27:24.144Z"
   },
   {
    "duration": 12,
    "start_time": "2022-03-05T13:27:24.166Z"
   },
   {
    "duration": 21,
    "start_time": "2022-03-05T13:27:24.180Z"
   },
   {
    "duration": 5,
    "start_time": "2022-03-05T13:27:24.203Z"
   },
   {
    "duration": 36,
    "start_time": "2022-03-05T13:27:24.210Z"
   },
   {
    "duration": 11,
    "start_time": "2022-03-05T13:27:24.248Z"
   },
   {
    "duration": 7,
    "start_time": "2022-03-05T13:27:24.261Z"
   },
   {
    "duration": 26,
    "start_time": "2022-03-05T13:27:24.270Z"
   },
   {
    "duration": 10,
    "start_time": "2022-03-05T13:27:24.298Z"
   },
   {
    "duration": 40,
    "start_time": "2022-03-05T13:27:24.309Z"
   },
   {
    "duration": 22,
    "start_time": "2022-03-05T13:27:24.351Z"
   },
   {
    "duration": 7,
    "start_time": "2022-03-05T13:27:24.375Z"
   },
   {
    "duration": 10,
    "start_time": "2022-03-05T13:27:24.385Z"
   },
   {
    "duration": 43,
    "start_time": "2022-03-05T13:27:24.398Z"
   },
   {
    "duration": 18,
    "start_time": "2022-03-05T13:27:24.443Z"
   },
   {
    "duration": 12,
    "start_time": "2022-03-05T13:27:24.462Z"
   },
   {
    "duration": 11,
    "start_time": "2022-03-05T13:27:24.477Z"
   },
   {
    "duration": 9,
    "start_time": "2022-03-05T13:27:24.489Z"
   },
   {
    "duration": 54,
    "start_time": "2022-03-05T13:27:24.500Z"
   },
   {
    "duration": 14,
    "start_time": "2022-03-05T13:27:24.556Z"
   },
   {
    "duration": 14,
    "start_time": "2022-03-05T13:27:24.571Z"
   },
   {
    "duration": 53,
    "start_time": "2022-03-05T13:27:24.587Z"
   },
   {
    "duration": 30,
    "start_time": "2022-03-05T13:27:24.642Z"
   },
   {
    "duration": 35,
    "start_time": "2022-03-05T13:27:24.675Z"
   },
   {
    "duration": 36,
    "start_time": "2022-03-05T13:27:24.712Z"
   },
   {
    "duration": 13,
    "start_time": "2022-03-05T13:27:28.182Z"
   },
   {
    "duration": 14,
    "start_time": "2022-03-05T13:32:09.260Z"
   },
   {
    "duration": 193,
    "start_time": "2022-03-05T13:32:23.454Z"
   },
   {
    "duration": 11,
    "start_time": "2022-03-05T13:32:27.000Z"
   },
   {
    "duration": 10,
    "start_time": "2022-03-05T13:32:59.226Z"
   },
   {
    "duration": 21,
    "start_time": "2022-03-05T13:33:02.508Z"
   },
   {
    "duration": 13,
    "start_time": "2022-03-05T13:33:28.528Z"
   },
   {
    "duration": 17,
    "start_time": "2022-03-05T13:33:52.168Z"
   },
   {
    "duration": 15,
    "start_time": "2022-03-05T13:34:36.174Z"
   },
   {
    "duration": 11,
    "start_time": "2022-03-05T13:34:43.517Z"
   },
   {
    "duration": 16,
    "start_time": "2022-03-05T13:35:21.833Z"
   },
   {
    "duration": 16,
    "start_time": "2022-03-05T13:35:52.593Z"
   },
   {
    "duration": 56,
    "start_time": "2022-03-05T13:39:45.065Z"
   },
   {
    "duration": 59,
    "start_time": "2022-03-05T13:39:48.398Z"
   },
   {
    "duration": 67,
    "start_time": "2022-03-05T13:39:53.606Z"
   },
   {
    "duration": 61,
    "start_time": "2022-03-05T13:39:57.033Z"
   },
   {
    "duration": 57,
    "start_time": "2022-03-05T13:40:04.242Z"
   },
   {
    "duration": 17,
    "start_time": "2022-03-05T13:40:07.053Z"
   },
   {
    "duration": 59,
    "start_time": "2022-03-05T13:41:03.591Z"
   },
   {
    "duration": 17,
    "start_time": "2022-03-05T13:41:06.100Z"
   },
   {
    "duration": 15,
    "start_time": "2022-03-05T13:41:21.719Z"
   },
   {
    "duration": 14,
    "start_time": "2022-03-05T13:42:07.622Z"
   },
   {
    "duration": 72,
    "start_time": "2022-03-05T13:42:31.328Z"
   },
   {
    "duration": 14,
    "start_time": "2022-03-05T13:42:35.849Z"
   },
   {
    "duration": 72,
    "start_time": "2022-03-05T13:42:41.760Z"
   },
   {
    "duration": 62,
    "start_time": "2022-03-05T13:43:41.772Z"
   },
   {
    "duration": 70,
    "start_time": "2022-03-05T13:43:49.549Z"
   },
   {
    "duration": 14,
    "start_time": "2022-03-05T13:44:01.014Z"
   },
   {
    "duration": 15,
    "start_time": "2022-03-05T13:46:31.045Z"
   },
   {
    "duration": 6,
    "start_time": "2022-03-05T13:48:51.910Z"
   },
   {
    "duration": 19,
    "start_time": "2022-03-05T13:49:08.951Z"
   },
   {
    "duration": 189,
    "start_time": "2022-03-05T13:52:15.679Z"
   },
   {
    "duration": 182,
    "start_time": "2022-03-05T13:52:38.512Z"
   },
   {
    "duration": 176,
    "start_time": "2022-03-05T13:52:50.736Z"
   },
   {
    "duration": 175,
    "start_time": "2022-03-05T13:52:57.534Z"
   },
   {
    "duration": 185,
    "start_time": "2022-03-05T13:53:08.288Z"
   },
   {
    "duration": 179,
    "start_time": "2022-03-05T13:53:29.689Z"
   },
   {
    "duration": 176,
    "start_time": "2022-03-05T13:59:43.757Z"
   },
   {
    "duration": 3,
    "start_time": "2022-03-05T14:00:26.218Z"
   },
   {
    "duration": 5,
    "start_time": "2022-03-05T14:00:35.579Z"
   },
   {
    "duration": 5,
    "start_time": "2022-03-05T14:00:47.047Z"
   },
   {
    "duration": 190,
    "start_time": "2022-03-05T14:00:59.063Z"
   },
   {
    "duration": 166,
    "start_time": "2022-03-05T14:01:36.514Z"
   },
   {
    "duration": 28,
    "start_time": "2022-03-05T14:02:04.946Z"
   },
   {
    "duration": 7,
    "start_time": "2022-03-05T14:02:27.267Z"
   },
   {
    "duration": 57,
    "start_time": "2022-03-05T14:04:28.008Z"
   },
   {
    "duration": 61,
    "start_time": "2022-03-05T14:04:30.844Z"
   },
   {
    "duration": 188,
    "start_time": "2022-03-05T14:04:34.519Z"
   },
   {
    "duration": 196,
    "start_time": "2022-03-05T14:04:41.801Z"
   },
   {
    "duration": 196,
    "start_time": "2022-03-05T14:05:24.493Z"
   },
   {
    "duration": 61,
    "start_time": "2022-03-05T14:05:31.083Z"
   },
   {
    "duration": 177,
    "start_time": "2022-03-05T14:05:36.028Z"
   },
   {
    "duration": 1,
    "start_time": "2022-03-05T14:05:50.357Z"
   },
   {
    "duration": 171,
    "start_time": "2022-03-05T14:05:59.089Z"
   },
   {
    "duration": 5,
    "start_time": "2022-03-05T14:06:02.598Z"
   },
   {
    "duration": 192,
    "start_time": "2022-03-05T14:06:09.021Z"
   },
   {
    "duration": 8,
    "start_time": "2022-03-05T14:06:16.593Z"
   },
   {
    "duration": 7,
    "start_time": "2022-03-05T14:06:33.381Z"
   },
   {
    "duration": 182,
    "start_time": "2022-03-05T14:06:38.311Z"
   },
   {
    "duration": 213,
    "start_time": "2022-03-05T14:06:44.743Z"
   },
   {
    "duration": 7,
    "start_time": "2022-03-05T14:06:48.369Z"
   },
   {
    "duration": 7,
    "start_time": "2022-03-05T14:07:08.295Z"
   },
   {
    "duration": 7,
    "start_time": "2022-03-05T14:07:25.115Z"
   },
   {
    "duration": 167,
    "start_time": "2022-03-05T14:07:56.218Z"
   },
   {
    "duration": 220,
    "start_time": "2022-03-05T14:08:00.059Z"
   },
   {
    "duration": 170,
    "start_time": "2022-03-05T14:09:06.265Z"
   },
   {
    "duration": 175,
    "start_time": "2022-03-05T14:09:13.802Z"
   },
   {
    "duration": 182,
    "start_time": "2022-03-05T14:09:24.418Z"
   },
   {
    "duration": 65,
    "start_time": "2022-03-05T14:15:37.368Z"
   },
   {
    "duration": 7,
    "start_time": "2022-03-05T14:15:43.762Z"
   },
   {
    "duration": 3,
    "start_time": "2022-03-05T14:16:14.969Z"
   },
   {
    "duration": 19,
    "start_time": "2022-03-05T14:26:21.631Z"
   },
   {
    "duration": 18,
    "start_time": "2022-03-05T14:26:55.479Z"
   },
   {
    "duration": 35,
    "start_time": "2022-03-05T14:32:32.862Z"
   },
   {
    "duration": 38,
    "start_time": "2022-03-05T14:32:49.202Z"
   },
   {
    "duration": 40,
    "start_time": "2022-03-05T14:33:04.479Z"
   },
   {
    "duration": 120,
    "start_time": "2022-03-05T14:33:54.713Z"
   },
   {
    "duration": 115,
    "start_time": "2022-03-05T14:34:05.499Z"
   },
   {
    "duration": 287,
    "start_time": "2022-03-05T14:35:16.294Z"
   },
   {
    "duration": 288,
    "start_time": "2022-03-05T14:35:35.654Z"
   },
   {
    "duration": 119,
    "start_time": "2022-03-05T14:35:43.425Z"
   },
   {
    "duration": 296,
    "start_time": "2022-03-05T14:35:49.805Z"
   },
   {
    "duration": 116,
    "start_time": "2022-03-05T14:35:56.079Z"
   },
   {
    "duration": 115,
    "start_time": "2022-03-05T14:36:09.039Z"
   },
   {
    "duration": 285,
    "start_time": "2022-03-05T14:36:49.138Z"
   },
   {
    "duration": 124,
    "start_time": "2022-03-05T14:37:01.157Z"
   },
   {
    "duration": 299,
    "start_time": "2022-03-05T14:37:27.268Z"
   },
   {
    "duration": 121,
    "start_time": "2022-03-05T14:37:54.061Z"
   },
   {
    "duration": 268,
    "start_time": "2022-03-05T14:50:52.819Z"
   },
   {
    "duration": 194,
    "start_time": "2022-03-05T14:50:57.696Z"
   },
   {
    "duration": 77,
    "start_time": "2022-03-05T14:51:17.978Z"
   },
   {
    "duration": 73,
    "start_time": "2022-03-05T14:51:29.212Z"
   },
   {
    "duration": 85,
    "start_time": "2022-03-05T14:51:41.158Z"
   },
   {
    "duration": 190,
    "start_time": "2022-03-05T14:54:18.978Z"
   },
   {
    "duration": 185,
    "start_time": "2022-03-05T14:54:25.682Z"
   },
   {
    "duration": 5,
    "start_time": "2022-03-05T14:55:32.368Z"
   },
   {
    "duration": 185,
    "start_time": "2022-03-05T14:55:42.075Z"
   },
   {
    "duration": 100,
    "start_time": "2022-03-05T14:56:03.290Z"
   },
   {
    "duration": 108,
    "start_time": "2022-03-05T14:57:02.816Z"
   },
   {
    "duration": 61,
    "start_time": "2022-03-05T14:58:03.651Z"
   },
   {
    "duration": 192,
    "start_time": "2022-03-05T14:58:26.246Z"
   },
   {
    "duration": 175,
    "start_time": "2022-03-05T14:58:57.185Z"
   },
   {
    "duration": 20,
    "start_time": "2022-03-05T14:59:12.788Z"
   },
   {
    "duration": 242,
    "start_time": "2022-03-05T14:59:39.223Z"
   },
   {
    "duration": 19,
    "start_time": "2022-03-05T14:59:42.067Z"
   },
   {
    "duration": 27,
    "start_time": "2022-03-05T14:59:44.410Z"
   },
   {
    "duration": 18,
    "start_time": "2022-03-05T14:59:47.879Z"
   },
   {
    "duration": 3318,
    "start_time": "2022-03-05T15:02:56.729Z"
   },
   {
    "duration": 18,
    "start_time": "2022-03-05T15:03:05.463Z"
   },
   {
    "duration": 3247,
    "start_time": "2022-03-05T15:03:10.213Z"
   },
   {
    "duration": 21,
    "start_time": "2022-03-05T15:03:27.372Z"
   },
   {
    "duration": 20,
    "start_time": "2022-03-05T15:03:34.866Z"
   },
   {
    "duration": 20,
    "start_time": "2022-03-05T15:05:55.441Z"
   },
   {
    "duration": 23,
    "start_time": "2022-03-05T15:06:30.681Z"
   },
   {
    "duration": 22,
    "start_time": "2022-03-05T15:07:09.118Z"
   },
   {
    "duration": 23,
    "start_time": "2022-03-05T15:07:10.979Z"
   },
   {
    "duration": 183,
    "start_time": "2022-03-05T15:08:17.157Z"
   },
   {
    "duration": 22,
    "start_time": "2022-03-05T15:08:22.099Z"
   },
   {
    "duration": 21,
    "start_time": "2022-03-05T15:09:24.222Z"
   },
   {
    "duration": 867,
    "start_time": "2022-03-06T04:26:08.944Z"
   },
   {
    "duration": 16,
    "start_time": "2022-03-06T04:26:09.813Z"
   },
   {
    "duration": 54,
    "start_time": "2022-03-06T04:26:09.831Z"
   },
   {
    "duration": 4,
    "start_time": "2022-03-06T04:26:09.887Z"
   },
   {
    "duration": 16,
    "start_time": "2022-03-06T04:26:09.893Z"
   },
   {
    "duration": 16,
    "start_time": "2022-03-06T04:26:09.911Z"
   },
   {
    "duration": 59,
    "start_time": "2022-03-06T04:26:09.929Z"
   },
   {
    "duration": 10,
    "start_time": "2022-03-06T04:26:09.992Z"
   },
   {
    "duration": 10,
    "start_time": "2022-03-06T04:26:10.005Z"
   },
   {
    "duration": 66,
    "start_time": "2022-03-06T04:26:10.018Z"
   },
   {
    "duration": 28,
    "start_time": "2022-03-06T04:26:10.086Z"
   },
   {
    "duration": 17,
    "start_time": "2022-03-06T04:26:10.116Z"
   },
   {
    "duration": 57,
    "start_time": "2022-03-06T04:26:10.136Z"
   },
   {
    "duration": 4,
    "start_time": "2022-03-06T04:26:10.195Z"
   },
   {
    "duration": 14,
    "start_time": "2022-03-06T04:26:10.201Z"
   },
   {
    "duration": 22,
    "start_time": "2022-03-06T04:26:10.218Z"
   },
   {
    "duration": 43,
    "start_time": "2022-03-06T04:26:10.242Z"
   },
   {
    "duration": 53,
    "start_time": "2022-03-06T04:26:10.287Z"
   },
   {
    "duration": 13,
    "start_time": "2022-03-06T04:26:10.343Z"
   },
   {
    "duration": 17,
    "start_time": "2022-03-06T04:26:10.383Z"
   },
   {
    "duration": 30,
    "start_time": "2022-03-06T04:26:10.402Z"
   },
   {
    "duration": 7,
    "start_time": "2022-03-06T04:26:10.435Z"
   },
   {
    "duration": 38,
    "start_time": "2022-03-06T04:26:10.447Z"
   },
   {
    "duration": 11,
    "start_time": "2022-03-06T04:26:10.488Z"
   },
   {
    "duration": 21,
    "start_time": "2022-03-06T04:26:10.501Z"
   },
   {
    "duration": 16,
    "start_time": "2022-03-06T04:26:10.524Z"
   },
   {
    "duration": 50,
    "start_time": "2022-03-06T04:26:10.542Z"
   },
   {
    "duration": 10,
    "start_time": "2022-03-06T04:26:10.595Z"
   },
   {
    "duration": 32,
    "start_time": "2022-03-06T04:26:10.607Z"
   },
   {
    "duration": 46,
    "start_time": "2022-03-06T04:26:10.641Z"
   },
   {
    "duration": 22,
    "start_time": "2022-03-06T04:26:10.689Z"
   },
   {
    "duration": 30,
    "start_time": "2022-03-06T04:26:10.714Z"
   },
   {
    "duration": 75,
    "start_time": "2022-03-06T04:26:10.746Z"
   },
   {
    "duration": 34,
    "start_time": "2022-03-06T04:26:10.824Z"
   },
   {
    "duration": 38,
    "start_time": "2022-03-06T04:26:10.861Z"
   },
   {
    "duration": 21,
    "start_time": "2022-03-06T04:26:10.902Z"
   },
   {
    "duration": 64,
    "start_time": "2022-03-06T04:26:10.926Z"
   },
   {
    "duration": 26,
    "start_time": "2022-03-06T04:26:10.993Z"
   },
   {
    "duration": 61,
    "start_time": "2022-03-06T04:26:11.023Z"
   },
   {
    "duration": 41,
    "start_time": "2022-03-06T04:26:11.088Z"
   },
   {
    "duration": 216,
    "start_time": "2022-03-06T04:26:11.132Z"
   },
   {
    "duration": 55,
    "start_time": "2022-03-06T04:26:11.350Z"
   },
   {
    "duration": 50,
    "start_time": "2022-03-06T04:26:11.409Z"
   },
   {
    "duration": 43,
    "start_time": "2022-03-06T04:26:11.483Z"
   },
   {
    "duration": 69,
    "start_time": "2022-03-06T04:26:11.529Z"
   },
   {
    "duration": 45,
    "start_time": "2022-03-06T06:21:05.568Z"
   },
   {
    "duration": 31,
    "start_time": "2022-03-06T06:21:35.766Z"
   },
   {
    "duration": 5,
    "start_time": "2022-03-06T06:22:33.841Z"
   },
   {
    "duration": 32,
    "start_time": "2022-03-06T06:23:42.022Z"
   },
   {
    "duration": 542,
    "start_time": "2022-03-06T06:32:31.359Z"
   },
   {
    "duration": 82,
    "start_time": "2022-03-06T06:32:55.499Z"
   },
   {
    "duration": 91,
    "start_time": "2022-03-06T06:33:14.866Z"
   },
   {
    "duration": 96,
    "start_time": "2022-03-06T06:33:21.826Z"
   },
   {
    "duration": 106,
    "start_time": "2022-03-06T06:33:28.744Z"
   },
   {
    "duration": 86,
    "start_time": "2022-03-06T06:33:33.231Z"
   },
   {
    "duration": 119,
    "start_time": "2022-03-06T06:35:36.409Z"
   },
   {
    "duration": 115,
    "start_time": "2022-03-06T06:36:02.196Z"
   },
   {
    "duration": 31,
    "start_time": "2022-03-06T06:36:28.270Z"
   },
   {
    "duration": 50,
    "start_time": "2022-03-06T06:36:45.825Z"
   },
   {
    "duration": 33,
    "start_time": "2022-03-06T06:37:07.987Z"
   },
   {
    "duration": 31,
    "start_time": "2022-03-06T06:37:24.093Z"
   },
   {
    "duration": 169,
    "start_time": "2022-03-06T06:37:35.489Z"
   },
   {
    "duration": 177,
    "start_time": "2022-03-06T06:38:16.823Z"
   },
   {
    "duration": 118,
    "start_time": "2022-03-06T06:38:45.837Z"
   },
   {
    "duration": 779,
    "start_time": "2022-03-06T07:53:44.108Z"
   },
   {
    "duration": 14,
    "start_time": "2022-03-06T07:53:44.890Z"
   },
   {
    "duration": 35,
    "start_time": "2022-03-06T07:53:44.907Z"
   },
   {
    "duration": 5,
    "start_time": "2022-03-06T07:53:44.944Z"
   },
   {
    "duration": 13,
    "start_time": "2022-03-06T07:53:44.983Z"
   },
   {
    "duration": 32,
    "start_time": "2022-03-06T07:53:44.999Z"
   },
   {
    "duration": 11,
    "start_time": "2022-03-06T07:53:45.033Z"
   },
   {
    "duration": 39,
    "start_time": "2022-03-06T07:53:45.048Z"
   },
   {
    "duration": 11,
    "start_time": "2022-03-06T07:53:45.090Z"
   },
   {
    "duration": 14,
    "start_time": "2022-03-06T07:53:45.103Z"
   },
   {
    "duration": 65,
    "start_time": "2022-03-06T07:53:45.119Z"
   },
   {
    "duration": 17,
    "start_time": "2022-03-06T07:53:45.186Z"
   },
   {
    "duration": 26,
    "start_time": "2022-03-06T07:53:45.206Z"
   },
   {
    "duration": 4,
    "start_time": "2022-03-06T07:53:45.234Z"
   },
   {
    "duration": 47,
    "start_time": "2022-03-06T07:53:45.240Z"
   },
   {
    "duration": 13,
    "start_time": "2022-03-06T07:53:45.289Z"
   },
   {
    "duration": 6,
    "start_time": "2022-03-06T07:53:45.305Z"
   },
   {
    "duration": 71,
    "start_time": "2022-03-06T07:53:45.313Z"
   },
   {
    "duration": 13,
    "start_time": "2022-03-06T07:53:45.386Z"
   },
   {
    "duration": 18,
    "start_time": "2022-03-06T07:53:45.401Z"
   },
   {
    "duration": 62,
    "start_time": "2022-03-06T07:53:45.421Z"
   },
   {
    "duration": 8,
    "start_time": "2022-03-06T07:53:45.485Z"
   },
   {
    "duration": 13,
    "start_time": "2022-03-06T07:53:45.495Z"
   },
   {
    "duration": 11,
    "start_time": "2022-03-06T07:53:45.511Z"
   },
   {
    "duration": 20,
    "start_time": "2022-03-06T07:53:45.525Z"
   },
   {
    "duration": 17,
    "start_time": "2022-03-06T07:53:45.585Z"
   },
   {
    "duration": 15,
    "start_time": "2022-03-06T07:53:45.606Z"
   },
   {
    "duration": 9,
    "start_time": "2022-03-06T07:53:45.623Z"
   },
   {
    "duration": 61,
    "start_time": "2022-03-06T07:53:45.635Z"
   },
   {
    "duration": 17,
    "start_time": "2022-03-06T07:53:45.698Z"
   },
   {
    "duration": 21,
    "start_time": "2022-03-06T07:53:45.718Z"
   },
   {
    "duration": 62,
    "start_time": "2022-03-06T07:53:45.741Z"
   },
   {
    "duration": 45,
    "start_time": "2022-03-06T07:53:45.806Z"
   },
   {
    "duration": 50,
    "start_time": "2022-03-06T07:53:45.854Z"
   },
   {
    "duration": 20,
    "start_time": "2022-03-06T07:53:45.906Z"
   },
   {
    "duration": 15,
    "start_time": "2022-03-06T07:53:45.929Z"
   },
   {
    "duration": 68,
    "start_time": "2022-03-06T07:53:45.947Z"
   },
   {
    "duration": 26,
    "start_time": "2022-03-06T07:53:46.018Z"
   },
   {
    "duration": 59,
    "start_time": "2022-03-06T07:53:46.047Z"
   },
   {
    "duration": 27,
    "start_time": "2022-03-06T07:53:46.109Z"
   },
   {
    "duration": 216,
    "start_time": "2022-03-06T07:53:46.139Z"
   },
   {
    "duration": 46,
    "start_time": "2022-03-06T07:53:46.358Z"
   },
   {
    "duration": 34,
    "start_time": "2022-03-06T07:53:46.407Z"
   },
   {
    "duration": 59,
    "start_time": "2022-03-06T07:53:46.444Z"
   },
   {
    "duration": 34,
    "start_time": "2022-03-06T07:53:46.506Z"
   },
   {
    "duration": 155,
    "start_time": "2022-03-06T07:53:46.543Z"
   },
   {
    "duration": 955,
    "start_time": "2022-03-14T07:53:52.089Z"
   },
   {
    "duration": 20,
    "start_time": "2022-03-14T07:53:56.045Z"
   },
   {
    "duration": 48,
    "start_time": "2022-03-14T07:53:57.919Z"
   },
   {
    "duration": 412,
    "start_time": "2022-03-14T07:54:06.234Z"
   },
   {
    "duration": 106,
    "start_time": "2022-03-14T07:54:24.210Z"
   },
   {
    "duration": 101,
    "start_time": "2022-03-14T07:54:44.193Z"
   },
   {
    "duration": 7,
    "start_time": "2022-03-14T07:54:48.672Z"
   },
   {
    "duration": 138,
    "start_time": "2022-03-14T08:09:49.954Z"
   },
   {
    "duration": 42,
    "start_time": "2022-03-14T08:09:50.095Z"
   },
   {
    "duration": 58,
    "start_time": "2022-03-14T08:09:50.142Z"
   },
   {
    "duration": 9,
    "start_time": "2022-03-14T08:09:50.232Z"
   },
   {
    "duration": 13,
    "start_time": "2022-03-14T08:09:50.243Z"
   },
   {
    "duration": 18,
    "start_time": "2022-03-14T08:09:50.259Z"
   },
   {
    "duration": 53,
    "start_time": "2022-03-14T08:09:50.280Z"
   },
   {
    "duration": 13,
    "start_time": "2022-03-14T08:09:50.336Z"
   },
   {
    "duration": 11,
    "start_time": "2022-03-14T08:09:50.354Z"
   },
   {
    "duration": 17,
    "start_time": "2022-03-14T08:09:50.369Z"
   },
   {
    "duration": 67,
    "start_time": "2022-03-14T08:09:50.389Z"
   },
   {
    "duration": 21,
    "start_time": "2022-03-14T08:09:50.459Z"
   },
   {
    "duration": 67,
    "start_time": "2022-03-14T08:09:50.483Z"
   },
   {
    "duration": 3,
    "start_time": "2022-03-14T08:09:50.552Z"
   },
   {
    "duration": 19,
    "start_time": "2022-03-14T08:09:50.558Z"
   },
   {
    "duration": 14,
    "start_time": "2022-03-14T08:09:50.579Z"
   },
   {
    "duration": 38,
    "start_time": "2022-03-14T08:09:50.595Z"
   },
   {
    "duration": 40,
    "start_time": "2022-03-14T08:09:50.636Z"
   },
   {
    "duration": 14,
    "start_time": "2022-03-14T08:09:50.678Z"
   },
   {
    "duration": 53,
    "start_time": "2022-03-14T08:09:50.696Z"
   },
   {
    "duration": 33,
    "start_time": "2022-03-14T08:09:50.753Z"
   },
   {
    "duration": 10,
    "start_time": "2022-03-14T08:09:50.790Z"
   },
   {
    "duration": 13,
    "start_time": "2022-03-14T08:09:50.835Z"
   },
   {
    "duration": 14,
    "start_time": "2022-03-14T08:09:50.851Z"
   },
   {
    "duration": 65,
    "start_time": "2022-03-14T08:09:50.868Z"
   },
   {
    "duration": 24,
    "start_time": "2022-03-14T08:09:50.936Z"
   },
   {
    "duration": 23,
    "start_time": "2022-03-14T08:09:50.968Z"
   },
   {
    "duration": 47,
    "start_time": "2022-03-14T08:09:50.995Z"
   },
   {
    "duration": 40,
    "start_time": "2022-03-14T08:09:51.045Z"
   },
   {
    "duration": 45,
    "start_time": "2022-03-14T08:09:51.088Z"
   },
   {
    "duration": 34,
    "start_time": "2022-03-14T08:09:51.136Z"
   },
   {
    "duration": 61,
    "start_time": "2022-03-14T08:09:51.173Z"
   },
   {
    "duration": 48,
    "start_time": "2022-03-14T08:09:51.237Z"
   },
   {
    "duration": 57,
    "start_time": "2022-03-14T08:09:51.288Z"
   },
   {
    "duration": 25,
    "start_time": "2022-03-14T08:09:51.347Z"
   },
   {
    "duration": 17,
    "start_time": "2022-03-14T08:09:51.374Z"
   },
   {
    "duration": 61,
    "start_time": "2022-03-14T08:09:51.393Z"
   },
   {
    "duration": 19,
    "start_time": "2022-03-14T08:09:51.456Z"
   },
   {
    "duration": 58,
    "start_time": "2022-03-14T08:09:51.479Z"
   },
   {
    "duration": 30,
    "start_time": "2022-03-14T08:09:51.540Z"
   },
   {
    "duration": 234,
    "start_time": "2022-03-14T08:09:51.572Z"
   },
   {
    "duration": 443,
    "start_time": "2022-03-14T08:09:56.324Z"
   },
   {
    "duration": 109,
    "start_time": "2022-03-14T08:10:29.947Z"
   },
   {
    "duration": 372,
    "start_time": "2022-03-14T08:10:35.391Z"
   },
   {
    "duration": 31,
    "start_time": "2022-03-14T08:10:57.161Z"
   },
   {
    "duration": 376,
    "start_time": "2022-03-14T08:11:08.561Z"
   },
   {
    "duration": 102,
    "start_time": "2022-03-14T08:11:16.879Z"
   },
   {
    "duration": 359,
    "start_time": "2022-03-14T08:11:22.784Z"
   },
   {
    "duration": 814,
    "start_time": "2022-03-14T08:11:29.466Z"
   },
   {
    "duration": 114,
    "start_time": "2022-03-14T08:11:37.644Z"
   },
   {
    "duration": 317,
    "start_time": "2022-03-14T08:11:40.357Z"
   },
   {
    "duration": 380,
    "start_time": "2022-03-14T08:12:00.769Z"
   },
   {
    "duration": 339,
    "start_time": "2022-03-14T08:13:09.486Z"
   },
   {
    "duration": 330,
    "start_time": "2022-03-14T08:14:50.756Z"
   },
   {
    "duration": 352,
    "start_time": "2022-03-14T08:14:55.371Z"
   },
   {
    "duration": 28,
    "start_time": "2022-03-14T08:14:58.559Z"
   },
   {
    "duration": 339,
    "start_time": "2022-03-14T08:15:05.076Z"
   },
   {
    "duration": 29,
    "start_time": "2022-03-14T08:15:13.477Z"
   },
   {
    "duration": 45,
    "start_time": "2022-03-14T08:15:23.876Z"
   },
   {
    "duration": 321,
    "start_time": "2022-03-14T08:16:13.142Z"
   },
   {
    "duration": 149,
    "start_time": "2022-03-14T08:19:37.240Z"
   },
   {
    "duration": 342,
    "start_time": "2022-03-14T08:19:54.502Z"
   },
   {
    "duration": 365,
    "start_time": "2022-03-14T08:23:03.941Z"
   },
   {
    "duration": 79,
    "start_time": "2022-03-14T08:23:29.069Z"
   },
   {
    "duration": 65,
    "start_time": "2022-03-14T08:24:03.337Z"
   },
   {
    "duration": 65,
    "start_time": "2022-03-14T08:24:05.244Z"
   },
   {
    "duration": 28,
    "start_time": "2022-03-14T08:27:50.502Z"
   },
   {
    "duration": 30,
    "start_time": "2022-03-14T08:27:55.816Z"
   },
   {
    "duration": 273,
    "start_time": "2022-03-15T16:55:54.077Z"
   },
   {
    "duration": 790,
    "start_time": "2022-03-15T16:56:02.667Z"
   },
   {
    "duration": 12,
    "start_time": "2022-03-15T16:56:03.460Z"
   },
   {
    "duration": 40,
    "start_time": "2022-03-15T16:56:03.474Z"
   },
   {
    "duration": 4,
    "start_time": "2022-03-15T16:56:03.517Z"
   },
   {
    "duration": 27,
    "start_time": "2022-03-15T16:56:03.523Z"
   },
   {
    "duration": 19,
    "start_time": "2022-03-15T16:56:03.552Z"
   },
   {
    "duration": 14,
    "start_time": "2022-03-15T16:56:03.573Z"
   },
   {
    "duration": 19,
    "start_time": "2022-03-15T16:56:03.589Z"
   },
   {
    "duration": 16,
    "start_time": "2022-03-15T16:56:03.611Z"
   },
   {
    "duration": 18,
    "start_time": "2022-03-15T16:56:03.630Z"
   },
   {
    "duration": 21,
    "start_time": "2022-03-15T16:56:03.652Z"
   },
   {
    "duration": 40,
    "start_time": "2022-03-15T16:56:03.675Z"
   },
   {
    "duration": 21,
    "start_time": "2022-03-15T16:56:03.718Z"
   },
   {
    "duration": 13,
    "start_time": "2022-03-15T16:56:03.741Z"
   },
   {
    "duration": 15,
    "start_time": "2022-03-15T16:56:03.756Z"
   },
   {
    "duration": 34,
    "start_time": "2022-03-15T16:56:03.773Z"
   },
   {
    "duration": 4,
    "start_time": "2022-03-15T16:56:03.809Z"
   },
   {
    "duration": 50,
    "start_time": "2022-03-15T16:56:03.815Z"
   },
   {
    "duration": 19,
    "start_time": "2022-03-15T16:56:03.867Z"
   },
   {
    "duration": 19,
    "start_time": "2022-03-15T16:56:03.888Z"
   },
   {
    "duration": 20,
    "start_time": "2022-03-15T16:56:03.909Z"
   },
   {
    "duration": 8,
    "start_time": "2022-03-15T16:56:03.931Z"
   },
   {
    "duration": 10,
    "start_time": "2022-03-15T16:56:03.940Z"
   },
   {
    "duration": 18,
    "start_time": "2022-03-15T16:56:03.951Z"
   },
   {
    "duration": 15,
    "start_time": "2022-03-15T16:56:04.000Z"
   },
   {
    "duration": 13,
    "start_time": "2022-03-15T16:56:04.018Z"
   },
   {
    "duration": 12,
    "start_time": "2022-03-15T16:56:04.034Z"
   },
   {
    "duration": 14,
    "start_time": "2022-03-15T16:56:04.048Z"
   },
   {
    "duration": 47,
    "start_time": "2022-03-15T16:56:04.064Z"
   },
   {
    "duration": 14,
    "start_time": "2022-03-15T16:56:04.113Z"
   },
   {
    "duration": 16,
    "start_time": "2022-03-15T16:56:04.129Z"
   },
   {
    "duration": 20,
    "start_time": "2022-03-15T16:56:04.147Z"
   },
   {
    "duration": 60,
    "start_time": "2022-03-15T16:56:04.169Z"
   },
   {
    "duration": 25,
    "start_time": "2022-03-15T16:56:04.231Z"
   },
   {
    "duration": 20,
    "start_time": "2022-03-15T16:56:04.257Z"
   },
   {
    "duration": 33,
    "start_time": "2022-03-15T16:56:04.279Z"
   },
   {
    "duration": 22,
    "start_time": "2022-03-15T16:56:04.314Z"
   },
   {
    "duration": 14,
    "start_time": "2022-03-15T16:56:04.338Z"
   },
   {
    "duration": 48,
    "start_time": "2022-03-15T16:56:04.354Z"
   },
   {
    "duration": 22,
    "start_time": "2022-03-15T16:56:04.404Z"
   },
   {
    "duration": 172,
    "start_time": "2022-03-15T16:56:04.428Z"
   },
   {
    "duration": 6360,
    "start_time": "2022-03-15T16:56:04.602Z"
   },
   {
    "duration": -139,
    "start_time": "2022-03-15T16:56:58.132Z"
   },
   {
    "duration": 136,
    "start_time": "2022-03-15T16:57:19.323Z"
   },
   {
    "duration": 6464,
    "start_time": "2022-03-15T16:57:22.016Z"
   },
   {
    "duration": 76,
    "start_time": "2022-03-15T16:57:58.272Z"
   },
   {
    "duration": 73,
    "start_time": "2022-03-15T16:58:13.306Z"
   },
   {
    "duration": 241,
    "start_time": "2022-03-15T16:58:17.950Z"
   },
   {
    "duration": 5815,
    "start_time": "2022-03-15T16:58:33.878Z"
   },
   {
    "duration": 6208,
    "start_time": "2022-03-15T16:58:56.553Z"
   },
   {
    "duration": 26,
    "start_time": "2022-03-15T16:59:06.122Z"
   },
   {
    "duration": 19,
    "start_time": "2022-03-15T16:59:22.095Z"
   },
   {
    "duration": 13,
    "start_time": "2022-03-15T16:59:39.046Z"
   },
   {
    "duration": 28,
    "start_time": "2022-03-15T16:59:52.617Z"
   },
   {
    "duration": 265,
    "start_time": "2022-03-15T17:00:10.057Z"
   },
   {
    "duration": 267,
    "start_time": "2022-03-15T17:00:33.724Z"
   },
   {
    "duration": 28,
    "start_time": "2022-03-15T17:00:38.221Z"
   },
   {
    "duration": 56,
    "start_time": "2022-03-15T17:12:16.242Z"
   },
   {
    "duration": 262,
    "start_time": "2022-03-15T17:12:32.760Z"
   },
   {
    "duration": 273,
    "start_time": "2022-03-15T17:12:36.743Z"
   },
   {
    "duration": 29,
    "start_time": "2022-03-15T17:13:26.410Z"
   },
   {
    "duration": 68,
    "start_time": "2023-07-25T07:22:59.258Z"
   },
   {
    "duration": 803,
    "start_time": "2023-07-25T07:23:02.938Z"
   },
   {
    "duration": 31,
    "start_time": "2023-07-25T07:23:05.592Z"
   },
   {
    "duration": 30,
    "start_time": "2023-07-25T07:23:07.151Z"
   },
   {
    "duration": 7,
    "start_time": "2023-07-25T07:23:15.666Z"
   },
   {
    "duration": 16,
    "start_time": "2023-07-25T07:23:58.755Z"
   },
   {
    "duration": 49,
    "start_time": "2023-07-25T07:24:09.588Z"
   },
   {
    "duration": 16,
    "start_time": "2023-07-25T07:24:12.050Z"
   },
   {
    "duration": 54,
    "start_time": "2023-07-25T07:24:21.889Z"
   },
   {
    "duration": 17,
    "start_time": "2023-07-25T07:24:59.359Z"
   },
   {
    "duration": 36,
    "start_time": "2023-07-25T07:25:18.045Z"
   },
   {
    "duration": 14,
    "start_time": "2023-07-25T07:25:39.638Z"
   },
   {
    "duration": 4,
    "start_time": "2023-07-25T07:55:07.843Z"
   },
   {
    "duration": 5,
    "start_time": "2023-07-25T07:55:24.093Z"
   },
   {
    "duration": 7,
    "start_time": "2023-07-25T07:56:23.887Z"
   },
   {
    "duration": 38,
    "start_time": "2023-07-25T07:56:35.137Z"
   },
   {
    "duration": 47,
    "start_time": "2023-07-25T07:56:40.296Z"
   },
   {
    "duration": 13,
    "start_time": "2023-07-25T07:56:43.824Z"
   },
   {
    "duration": 103,
    "start_time": "2023-07-25T07:58:05.818Z"
   },
   {
    "duration": 6,
    "start_time": "2023-07-25T07:58:47.695Z"
   },
   {
    "duration": 4,
    "start_time": "2023-07-25T08:03:05.285Z"
   },
   {
    "duration": 8,
    "start_time": "2023-07-25T08:03:10.724Z"
   },
   {
    "duration": 4,
    "start_time": "2023-07-25T08:05:27.179Z"
   },
   {
    "duration": 17,
    "start_time": "2023-07-25T08:07:32.099Z"
   },
   {
    "duration": 4,
    "start_time": "2023-07-25T08:07:35.076Z"
   },
   {
    "duration": 5,
    "start_time": "2023-07-25T08:07:41.676Z"
   },
   {
    "duration": 5,
    "start_time": "2023-07-25T08:07:46.747Z"
   },
   {
    "duration": 4,
    "start_time": "2023-07-25T08:07:55.380Z"
   },
   {
    "duration": 4,
    "start_time": "2023-07-25T08:08:07.628Z"
   },
   {
    "duration": 8,
    "start_time": "2023-07-25T08:08:23.895Z"
   },
   {
    "duration": 9,
    "start_time": "2023-07-25T08:08:33.015Z"
   },
   {
    "duration": 5,
    "start_time": "2023-07-25T08:08:35.531Z"
   },
   {
    "duration": 5,
    "start_time": "2023-07-25T08:08:39.122Z"
   },
   {
    "duration": 5,
    "start_time": "2023-07-25T08:09:22.375Z"
   },
   {
    "duration": 8,
    "start_time": "2023-07-25T08:09:26.149Z"
   },
   {
    "duration": 4,
    "start_time": "2023-07-25T08:09:33.484Z"
   },
   {
    "duration": 5,
    "start_time": "2023-07-25T08:09:37.172Z"
   },
   {
    "duration": 5,
    "start_time": "2023-07-25T08:09:56.375Z"
   },
   {
    "duration": 415,
    "start_time": "2023-07-25T08:10:04.062Z"
   },
   {
    "duration": 270,
    "start_time": "2023-07-25T08:10:13.726Z"
   },
   {
    "duration": 115,
    "start_time": "2023-07-25T08:10:17.273Z"
   },
   {
    "duration": 480,
    "start_time": "2023-07-25T08:10:23.388Z"
   },
   {
    "duration": 225,
    "start_time": "2023-07-25T08:10:47.242Z"
   },
   {
    "duration": 312,
    "start_time": "2023-07-25T08:11:01.368Z"
   },
   {
    "duration": 4,
    "start_time": "2023-07-25T08:11:20.976Z"
   },
   {
    "duration": 4,
    "start_time": "2023-07-25T08:11:45.030Z"
   },
   {
    "duration": 4,
    "start_time": "2023-07-25T08:11:51.214Z"
   },
   {
    "duration": 4,
    "start_time": "2023-07-25T08:13:39.983Z"
   },
   {
    "duration": 4,
    "start_time": "2023-07-25T08:13:47.173Z"
   },
   {
    "duration": 4,
    "start_time": "2023-07-25T08:13:49.923Z"
   },
   {
    "duration": 4,
    "start_time": "2023-07-25T08:14:09.674Z"
   },
   {
    "duration": 23,
    "start_time": "2023-07-25T08:14:37.994Z"
   },
   {
    "duration": 4,
    "start_time": "2023-07-25T08:41:46.536Z"
   },
   {
    "duration": 12,
    "start_time": "2023-07-25T08:41:59.626Z"
   },
   {
    "duration": 24,
    "start_time": "2023-07-25T10:45:45.422Z"
   },
   {
    "duration": 5,
    "start_time": "2023-07-25T10:45:49.060Z"
   },
   {
    "duration": 12,
    "start_time": "2023-07-25T10:46:58.269Z"
   },
   {
    "duration": 179,
    "start_time": "2023-07-25T10:47:00.589Z"
   },
   {
    "duration": 11,
    "start_time": "2023-07-25T10:47:04.027Z"
   },
   {
    "duration": 13,
    "start_time": "2023-07-25T10:47:10.540Z"
   },
   {
    "duration": 3,
    "start_time": "2023-07-25T10:48:00.481Z"
   },
   {
    "duration": 7,
    "start_time": "2023-07-25T10:48:03.416Z"
   },
   {
    "duration": 11,
    "start_time": "2023-07-25T10:48:16.244Z"
   },
   {
    "duration": 7,
    "start_time": "2023-07-25T10:48:39.271Z"
   },
   {
    "duration": 7,
    "start_time": "2023-07-25T10:55:34.684Z"
   },
   {
    "duration": 5,
    "start_time": "2023-07-25T10:55:43.156Z"
   },
   {
    "duration": 309,
    "start_time": "2023-07-25T10:56:30.343Z"
   },
   {
    "duration": 281,
    "start_time": "2023-07-25T10:56:35.049Z"
   },
   {
    "duration": 15,
    "start_time": "2023-07-25T10:56:43.734Z"
   },
   {
    "duration": 9,
    "start_time": "2023-07-25T10:56:59.336Z"
   },
   {
    "duration": 13,
    "start_time": "2023-07-25T10:57:43.422Z"
   },
   {
    "duration": 15,
    "start_time": "2023-07-25T10:57:52.949Z"
   },
   {
    "duration": 6,
    "start_time": "2023-07-25T10:58:04.352Z"
   },
   {
    "duration": 4,
    "start_time": "2023-07-25T10:58:12.944Z"
   },
   {
    "duration": 5,
    "start_time": "2023-07-25T10:58:17.166Z"
   },
   {
    "duration": 8,
    "start_time": "2023-07-25T10:58:41.525Z"
   },
   {
    "duration": 16,
    "start_time": "2023-07-25T10:59:01.447Z"
   },
   {
    "duration": 6,
    "start_time": "2023-07-25T10:59:07.049Z"
   },
   {
    "duration": 6,
    "start_time": "2023-07-25T10:59:17.046Z"
   },
   {
    "duration": 9,
    "start_time": "2023-07-25T10:59:43.906Z"
   },
   {
    "duration": 550,
    "start_time": "2023-07-25T11:00:04.035Z"
   },
   {
    "duration": 10,
    "start_time": "2023-07-25T11:00:08.201Z"
   },
   {
    "duration": 6,
    "start_time": "2023-07-25T11:01:48.385Z"
   },
   {
    "duration": 5,
    "start_time": "2023-07-25T11:01:57.845Z"
   },
   {
    "duration": 6,
    "start_time": "2023-07-25T11:02:12.149Z"
   },
   {
    "duration": 463,
    "start_time": "2023-07-25T11:03:06.698Z"
   },
   {
    "duration": 233,
    "start_time": "2023-07-25T11:03:20.644Z"
   },
   {
    "duration": 169,
    "start_time": "2023-07-25T11:03:32.056Z"
   },
   {
    "duration": 16,
    "start_time": "2023-07-25T11:04:00.745Z"
   },
   {
    "duration": 6,
    "start_time": "2023-07-25T11:04:04.441Z"
   },
   {
    "duration": 149,
    "start_time": "2023-07-25T11:04:48.148Z"
   },
   {
    "duration": 1716,
    "start_time": "2023-07-25T11:04:55.538Z"
   },
   {
    "duration": 170,
    "start_time": "2023-07-25T11:07:13.426Z"
   },
   {
    "duration": 3,
    "start_time": "2023-07-25T11:07:16.594Z"
   },
   {
    "duration": 217,
    "start_time": "2023-07-25T11:07:19.040Z"
   },
   {
    "duration": 2031,
    "start_time": "2023-07-25T11:08:57.590Z"
   },
   {
    "duration": 143,
    "start_time": "2023-07-25T11:09:11.688Z"
   },
   {
    "duration": 3,
    "start_time": "2023-07-25T11:10:27.131Z"
   },
   {
    "duration": 196,
    "start_time": "2023-07-25T11:10:34.539Z"
   },
   {
    "duration": 2100,
    "start_time": "2023-07-25T11:10:37.537Z"
   },
   {
    "duration": 2272,
    "start_time": "2023-07-25T11:10:49.781Z"
   },
   {
    "duration": 2838,
    "start_time": "2023-07-25T11:11:16.340Z"
   },
   {
    "duration": 2881,
    "start_time": "2023-07-25T11:11:21.373Z"
   },
   {
    "duration": 2348,
    "start_time": "2023-07-25T11:11:26.642Z"
   },
   {
    "duration": 3114,
    "start_time": "2023-07-25T11:11:36.973Z"
   },
   {
    "duration": 3915,
    "start_time": "2023-07-25T11:11:50.441Z"
   },
   {
    "duration": 3839,
    "start_time": "2023-07-25T11:12:43.948Z"
   },
   {
    "duration": 201,
    "start_time": "2023-07-25T11:13:29.982Z"
   },
   {
    "duration": 3686,
    "start_time": "2023-07-25T11:13:42.233Z"
   },
   {
    "duration": 9,
    "start_time": "2023-07-25T13:27:00.146Z"
   },
   {
    "duration": 9,
    "start_time": "2023-07-25T13:27:01.550Z"
   },
   {
    "duration": 8,
    "start_time": "2023-07-25T13:27:21.301Z"
   },
   {
    "duration": 15,
    "start_time": "2023-07-25T13:34:53.419Z"
   },
   {
    "duration": 110,
    "start_time": "2023-07-25T13:35:28.059Z"
   },
   {
    "duration": 11,
    "start_time": "2023-07-25T13:35:30.904Z"
   },
   {
    "duration": 97,
    "start_time": "2023-07-25T13:35:45.381Z"
   },
   {
    "duration": 113,
    "start_time": "2023-07-25T13:36:01.968Z"
   },
   {
    "duration": 14,
    "start_time": "2023-07-25T13:36:15.897Z"
   },
   {
    "duration": 4,
    "start_time": "2023-07-25T13:36:35.004Z"
   },
   {
    "duration": 4,
    "start_time": "2023-07-25T13:36:50.601Z"
   },
   {
    "duration": 153,
    "start_time": "2023-07-25T13:36:59.515Z"
   },
   {
    "duration": 31,
    "start_time": "2023-07-25T13:37:05.317Z"
   },
   {
    "duration": 12,
    "start_time": "2023-07-25T13:37:22.153Z"
   },
   {
    "duration": 12,
    "start_time": "2023-07-25T13:37:28.147Z"
   },
   {
    "duration": 28,
    "start_time": "2023-07-25T13:39:07.149Z"
   },
   {
    "duration": 372,
    "start_time": "2023-07-26T04:26:06.871Z"
   },
   {
    "duration": 487,
    "start_time": "2023-07-26T04:26:16.988Z"
   },
   {
    "duration": 30,
    "start_time": "2023-07-26T04:26:19.096Z"
   },
   {
    "duration": 15,
    "start_time": "2023-07-26T04:26:20.649Z"
   },
   {
    "duration": 38,
    "start_time": "2023-07-26T04:26:21.343Z"
   },
   {
    "duration": 18,
    "start_time": "2023-07-26T04:26:22.235Z"
   },
   {
    "duration": 16,
    "start_time": "2023-07-26T04:26:24.297Z"
   },
   {
    "duration": 12,
    "start_time": "2023-07-26T04:26:25.634Z"
   },
   {
    "duration": 5,
    "start_time": "2023-07-26T04:26:26.793Z"
   },
   {
    "duration": 9,
    "start_time": "2023-07-26T04:26:28.288Z"
   },
   {
    "duration": 16,
    "start_time": "2023-07-26T04:26:29.697Z"
   },
   {
    "duration": 7,
    "start_time": "2023-07-26T04:26:30.776Z"
   },
   {
    "duration": 320,
    "start_time": "2023-07-26T04:26:32.734Z"
   },
   {
    "duration": 4102,
    "start_time": "2023-07-26T04:26:33.635Z"
   },
   {
    "duration": 9,
    "start_time": "2023-07-26T04:26:37.942Z"
   },
   {
    "duration": 10,
    "start_time": "2023-07-26T04:26:38.951Z"
   },
   {
    "duration": 275,
    "start_time": "2023-07-26T04:26:40.323Z"
   },
   {
    "duration": 23,
    "start_time": "2023-07-26T04:26:46.169Z"
   },
   {
    "duration": 98,
    "start_time": "2023-07-26T04:28:15.640Z"
   },
   {
    "duration": 5,
    "start_time": "2023-07-26T04:28:19.882Z"
   },
   {
    "duration": 55,
    "start_time": "2023-07-26T04:35:21.577Z"
   },
   {
    "duration": 11,
    "start_time": "2023-07-26T04:35:50.671Z"
   },
   {
    "duration": 35,
    "start_time": "2023-07-26T04:36:09.338Z"
   },
   {
    "duration": 35,
    "start_time": "2023-07-26T04:36:48.329Z"
   },
   {
    "duration": 474,
    "start_time": "2023-07-26T04:46:52.094Z"
   },
   {
    "duration": 544,
    "start_time": "2023-07-26T04:47:11.634Z"
   },
   {
    "duration": 442,
    "start_time": "2023-07-26T04:47:28.355Z"
   },
   {
    "duration": 195,
    "start_time": "2023-07-26T04:48:25.292Z"
   },
   {
    "duration": 166,
    "start_time": "2023-07-26T04:48:49.893Z"
   },
   {
    "duration": 136,
    "start_time": "2023-07-26T04:49:26.750Z"
   },
   {
    "duration": 125,
    "start_time": "2023-07-26T04:50:51.943Z"
   },
   {
    "duration": 124,
    "start_time": "2023-07-26T04:51:01.829Z"
   },
   {
    "duration": 163,
    "start_time": "2023-07-26T04:51:07.293Z"
   },
   {
    "duration": 123,
    "start_time": "2023-07-26T04:51:30.668Z"
   },
   {
    "duration": 149,
    "start_time": "2023-07-26T04:51:34.989Z"
   },
   {
    "duration": 138,
    "start_time": "2023-07-26T04:51:39.549Z"
   },
   {
    "duration": 13,
    "start_time": "2023-07-26T04:51:50.241Z"
   },
   {
    "duration": 13,
    "start_time": "2023-07-26T04:51:52.965Z"
   },
   {
    "duration": 10,
    "start_time": "2023-07-26T04:52:50.269Z"
   },
   {
    "duration": 250,
    "start_time": "2023-07-26T04:52:56.331Z"
   },
   {
    "duration": 166,
    "start_time": "2023-07-26T04:53:03.277Z"
   },
   {
    "duration": 163,
    "start_time": "2023-07-26T04:54:13.435Z"
   },
   {
    "duration": 283,
    "start_time": "2023-07-26T04:54:20.540Z"
   },
   {
    "duration": 947,
    "start_time": "2023-07-26T04:55:11.727Z"
   },
   {
    "duration": 1442,
    "start_time": "2023-07-26T04:55:31.523Z"
   },
   {
    "duration": 1598,
    "start_time": "2023-07-26T04:56:06.982Z"
   },
   {
    "duration": 1210,
    "start_time": "2023-07-26T04:56:22.062Z"
   },
   {
    "duration": 1358,
    "start_time": "2023-07-26T04:56:33.575Z"
   },
   {
    "duration": 13,
    "start_time": "2023-07-26T05:31:26.896Z"
   },
   {
    "duration": 228,
    "start_time": "2023-07-26T05:37:54.275Z"
   },
   {
    "duration": 134,
    "start_time": "2023-07-26T05:39:00.638Z"
   },
   {
    "duration": 10,
    "start_time": "2023-07-26T05:39:11.153Z"
   },
   {
    "duration": 9,
    "start_time": "2023-07-26T05:39:17.048Z"
   },
   {
    "duration": 14,
    "start_time": "2023-07-26T05:39:22.034Z"
   },
   {
    "duration": 24,
    "start_time": "2023-07-26T05:40:00.969Z"
   },
   {
    "duration": 795,
    "start_time": "2023-07-26T05:40:08.800Z"
   },
   {
    "duration": 30,
    "start_time": "2023-07-26T05:48:03.536Z"
   },
   {
    "duration": 21,
    "start_time": "2023-07-26T05:48:18.867Z"
   },
   {
    "duration": 15,
    "start_time": "2023-07-26T05:48:31.055Z"
   },
   {
    "duration": 39,
    "start_time": "2023-07-26T05:48:41.543Z"
   },
   {
    "duration": 53,
    "start_time": "2023-07-26T05:49:04.483Z"
   },
   {
    "duration": 185,
    "start_time": "2023-07-26T05:51:52.421Z"
   },
   {
    "duration": 305,
    "start_time": "2023-07-26T05:52:48.879Z"
   },
   {
    "duration": 944,
    "start_time": "2023-07-26T06:03:56.840Z"
   },
   {
    "duration": 230,
    "start_time": "2023-07-26T06:04:18.425Z"
   },
   {
    "duration": 12,
    "start_time": "2023-07-26T06:20:54.664Z"
   },
   {
    "duration": 100,
    "start_time": "2023-07-26T14:43:05.456Z"
   },
   {
    "duration": 455,
    "start_time": "2023-07-26T14:43:13.580Z"
   },
   {
    "duration": 17,
    "start_time": "2023-07-26T14:43:15.431Z"
   },
   {
    "duration": 35,
    "start_time": "2023-07-26T14:43:16.617Z"
   },
   {
    "duration": 55,
    "start_time": "2023-07-26T14:43:17.282Z"
   },
   {
    "duration": 24,
    "start_time": "2023-07-26T14:43:17.921Z"
   },
   {
    "duration": 16,
    "start_time": "2023-07-26T14:43:19.696Z"
   },
   {
    "duration": 13,
    "start_time": "2023-07-26T14:43:20.623Z"
   },
   {
    "duration": 5,
    "start_time": "2023-07-26T14:43:24.376Z"
   },
   {
    "duration": 10,
    "start_time": "2023-07-26T14:43:39.864Z"
   },
   {
    "duration": 25,
    "start_time": "2023-07-26T14:43:41.396Z"
   },
   {
    "duration": 6,
    "start_time": "2023-07-26T14:43:42.054Z"
   },
   {
    "duration": 260,
    "start_time": "2023-07-26T14:43:43.296Z"
   },
   {
    "duration": 3584,
    "start_time": "2023-07-26T14:43:43.784Z"
   },
   {
    "duration": 8,
    "start_time": "2023-07-26T14:43:54.348Z"
   },
   {
    "duration": 8,
    "start_time": "2023-07-26T14:43:55.128Z"
   },
   {
    "duration": 9,
    "start_time": "2023-07-26T14:44:00.372Z"
   },
   {
    "duration": 12,
    "start_time": "2023-07-26T14:44:02.179Z"
   },
   {
    "duration": 31,
    "start_time": "2023-07-26T14:44:06.590Z"
   },
   {
    "duration": 179,
    "start_time": "2023-07-26T14:44:44.104Z"
   },
   {
    "duration": 11,
    "start_time": "2023-07-26T15:31:03.450Z"
   },
   {
    "duration": 133,
    "start_time": "2023-07-26T16:35:43.018Z"
   },
   {
    "duration": 99,
    "start_time": "2023-07-26T16:35:47.240Z"
   },
   {
    "duration": 114,
    "start_time": "2023-07-26T16:35:50.919Z"
   },
   {
    "duration": 10,
    "start_time": "2023-07-26T16:35:55.582Z"
   },
   {
    "duration": 8,
    "start_time": "2023-07-26T16:35:58.951Z"
   },
   {
    "duration": 9,
    "start_time": "2023-07-26T16:36:08.018Z"
   },
   {
    "duration": 29,
    "start_time": "2023-07-26T16:36:13.795Z"
   },
   {
    "duration": 31,
    "start_time": "2023-07-26T16:37:56.794Z"
   },
   {
    "duration": 7,
    "start_time": "2023-07-26T16:38:23.343Z"
   },
   {
    "duration": 10,
    "start_time": "2023-07-26T16:41:57.722Z"
   },
   {
    "duration": 5,
    "start_time": "2023-07-26T16:42:06.062Z"
   },
   {
    "duration": 7,
    "start_time": "2023-07-26T16:42:15.370Z"
   },
   {
    "duration": 3,
    "start_time": "2023-07-26T16:42:18.383Z"
   },
   {
    "duration": 8,
    "start_time": "2023-07-26T16:43:44.549Z"
   },
   {
    "duration": 25,
    "start_time": "2023-07-26T16:44:04.164Z"
   },
   {
    "duration": 11,
    "start_time": "2023-07-26T16:44:34.447Z"
   },
   {
    "duration": 111,
    "start_time": "2023-07-26T16:48:51.761Z"
   },
   {
    "duration": 22,
    "start_time": "2023-07-26T16:50:34.427Z"
   },
   {
    "duration": 6,
    "start_time": "2023-07-26T16:50:57.533Z"
   },
   {
    "duration": 10,
    "start_time": "2023-07-26T16:51:07.438Z"
   },
   {
    "duration": 6,
    "start_time": "2023-07-26T16:51:15.639Z"
   },
   {
    "duration": 21,
    "start_time": "2023-07-26T16:51:20.122Z"
   },
   {
    "duration": 8,
    "start_time": "2023-07-26T16:51:41.163Z"
   },
   {
    "duration": 24,
    "start_time": "2023-07-26T16:53:14.359Z"
   },
   {
    "duration": 9,
    "start_time": "2023-07-26T16:53:19.435Z"
   },
   {
    "duration": 36,
    "start_time": "2023-07-26T16:53:25.114Z"
   },
   {
    "duration": 10,
    "start_time": "2023-07-26T16:53:26.684Z"
   },
   {
    "duration": 16,
    "start_time": "2023-07-26T16:53:36.455Z"
   },
   {
    "duration": 28,
    "start_time": "2023-07-26T16:53:47.656Z"
   },
   {
    "duration": 17,
    "start_time": "2023-07-26T16:53:49.736Z"
   },
   {
    "duration": 38,
    "start_time": "2023-07-26T16:54:19.587Z"
   },
   {
    "duration": 31,
    "start_time": "2023-07-26T16:54:20.599Z"
   },
   {
    "duration": 20,
    "start_time": "2023-07-26T16:54:26.831Z"
   },
   {
    "duration": 25,
    "start_time": "2023-07-26T17:00:58.779Z"
   },
   {
    "duration": 8,
    "start_time": "2023-07-26T17:01:09.866Z"
   },
   {
    "duration": 19,
    "start_time": "2023-07-26T17:01:19.743Z"
   },
   {
    "duration": 8,
    "start_time": "2023-07-26T17:01:23.950Z"
   },
   {
    "duration": 12,
    "start_time": "2023-07-26T17:01:26.724Z"
   },
   {
    "duration": 19,
    "start_time": "2023-07-26T17:01:30.698Z"
   },
   {
    "duration": 20,
    "start_time": "2023-07-26T17:01:32.776Z"
   },
   {
    "duration": 8,
    "start_time": "2023-07-26T17:01:47.267Z"
   },
   {
    "duration": 124,
    "start_time": "2023-07-26T17:02:37.392Z"
   },
   {
    "duration": 144,
    "start_time": "2023-07-26T17:03:01.388Z"
   },
   {
    "duration": 193,
    "start_time": "2023-07-26T17:04:00.379Z"
   },
   {
    "duration": 114,
    "start_time": "2023-07-26T17:04:07.129Z"
   },
   {
    "duration": 113,
    "start_time": "2023-07-26T17:04:18.226Z"
   },
   {
    "duration": 203,
    "start_time": "2023-07-26T17:04:25.256Z"
   },
   {
    "duration": 512,
    "start_time": "2023-07-26T17:04:37.727Z"
   },
   {
    "duration": 13,
    "start_time": "2023-07-26T17:04:40.382Z"
   },
   {
    "duration": 15,
    "start_time": "2023-07-26T17:04:42.241Z"
   },
   {
    "duration": 31,
    "start_time": "2023-07-26T17:04:43.367Z"
   },
   {
    "duration": 23,
    "start_time": "2023-07-26T17:04:44.293Z"
   },
   {
    "duration": 4,
    "start_time": "2023-07-26T17:04:45.638Z"
   },
   {
    "duration": 9,
    "start_time": "2023-07-26T17:04:46.526Z"
   },
   {
    "duration": 6,
    "start_time": "2023-07-26T17:04:47.539Z"
   },
   {
    "duration": 13,
    "start_time": "2023-07-26T17:04:48.817Z"
   },
   {
    "duration": 4,
    "start_time": "2023-07-26T17:04:50.573Z"
   },
   {
    "duration": 5,
    "start_time": "2023-07-26T17:04:52.131Z"
   },
   {
    "duration": 242,
    "start_time": "2023-07-26T17:04:52.992Z"
   },
   {
    "duration": 3412,
    "start_time": "2023-07-26T17:04:53.657Z"
   },
   {
    "duration": 7,
    "start_time": "2023-07-26T17:04:57.070Z"
   },
   {
    "duration": 6,
    "start_time": "2023-07-26T17:04:58.470Z"
   },
   {
    "duration": 10,
    "start_time": "2023-07-26T17:04:59.947Z"
   },
   {
    "duration": 12,
    "start_time": "2023-07-26T17:05:01.618Z"
   },
   {
    "duration": 34,
    "start_time": "2023-07-26T17:05:02.990Z"
   },
   {
    "duration": 711,
    "start_time": "2023-07-26T17:05:10.185Z"
   },
   {
    "duration": 116,
    "start_time": "2023-07-26T17:05:18.730Z"
   },
   {
    "duration": 33,
    "start_time": "2023-07-26T17:06:26.142Z"
   },
   {
    "duration": 8,
    "start_time": "2023-07-26T17:06:29.476Z"
   },
   {
    "duration": 3,
    "start_time": "2023-07-26T17:06:52.127Z"
   },
   {
    "duration": 42,
    "start_time": "2023-07-26T17:11:40.086Z"
   },
   {
    "duration": 86,
    "start_time": "2023-07-26T17:11:51.668Z"
   },
   {
    "duration": 17,
    "start_time": "2023-07-26T17:11:54.534Z"
   },
   {
    "duration": 5,
    "start_time": "2023-07-26T17:12:16.966Z"
   },
   {
    "duration": 22,
    "start_time": "2023-07-26T17:12:24.453Z"
   },
   {
    "duration": 68,
    "start_time": "2023-07-26T17:13:11.496Z"
   },
   {
    "duration": 35,
    "start_time": "2023-07-26T17:18:13.536Z"
   },
   {
    "duration": 143,
    "start_time": "2023-07-26T17:18:35.822Z"
   },
   {
    "duration": 50,
    "start_time": "2023-07-26T17:18:38.221Z"
   },
   {
    "duration": 2362,
    "start_time": "2023-07-26T17:24:34.368Z"
   },
   {
    "duration": 4,
    "start_time": "2023-07-26T17:25:57.521Z"
   },
   {
    "duration": 19,
    "start_time": "2023-07-26T17:26:09.925Z"
   },
   {
    "duration": 10,
    "start_time": "2023-07-26T17:26:21.579Z"
   },
   {
    "duration": 14,
    "start_time": "2023-07-26T17:27:11.626Z"
   },
   {
    "duration": 15,
    "start_time": "2023-07-26T17:27:35.394Z"
   },
   {
    "duration": 1822,
    "start_time": "2023-07-26T17:28:29.085Z"
   },
   {
    "duration": 11,
    "start_time": "2023-07-26T17:29:31.795Z"
   },
   {
    "duration": 7,
    "start_time": "2023-07-26T17:29:47.815Z"
   },
   {
    "duration": 3,
    "start_time": "2023-07-26T17:29:52.848Z"
   },
   {
    "duration": 10,
    "start_time": "2023-07-26T17:29:56.335Z"
   },
   {
    "duration": 11,
    "start_time": "2023-07-26T17:30:32.388Z"
   },
   {
    "duration": 21,
    "start_time": "2023-07-26T17:30:44.156Z"
   },
   {
    "duration": 25,
    "start_time": "2023-07-26T17:31:25.423Z"
   },
   {
    "duration": 4,
    "start_time": "2023-07-26T17:33:38.342Z"
   },
   {
    "duration": 12,
    "start_time": "2023-07-26T17:33:41.650Z"
   },
   {
    "duration": 13,
    "start_time": "2023-07-26T17:34:01.437Z"
   },
   {
    "duration": 14,
    "start_time": "2023-07-26T17:34:28.797Z"
   },
   {
    "duration": 2800,
    "start_time": "2023-07-26T17:34:30.851Z"
   },
   {
    "duration": 0,
    "start_time": "2023-07-26T17:34:33.652Z"
   },
   {
    "duration": 11,
    "start_time": "2023-07-26T17:34:43.297Z"
   },
   {
    "duration": 449,
    "start_time": "2023-07-26T17:35:28.443Z"
   },
   {
    "duration": 14,
    "start_time": "2023-07-26T17:35:30.543Z"
   },
   {
    "duration": 21,
    "start_time": "2023-07-26T17:35:31.817Z"
   },
   {
    "duration": 47,
    "start_time": "2023-07-26T17:35:32.473Z"
   },
   {
    "duration": 20,
    "start_time": "2023-07-26T17:35:33.161Z"
   },
   {
    "duration": 5,
    "start_time": "2023-07-26T17:35:34.537Z"
   },
   {
    "duration": 12,
    "start_time": "2023-07-26T17:35:35.300Z"
   },
   {
    "duration": 6,
    "start_time": "2023-07-26T17:35:36.321Z"
   },
   {
    "duration": 12,
    "start_time": "2023-07-26T17:35:37.173Z"
   },
   {
    "duration": 10,
    "start_time": "2023-07-26T17:35:38.795Z"
   },
   {
    "duration": 6,
    "start_time": "2023-07-26T17:35:39.725Z"
   },
   {
    "duration": 280,
    "start_time": "2023-07-26T17:35:40.973Z"
   },
   {
    "duration": 3467,
    "start_time": "2023-07-26T17:35:42.227Z"
   },
   {
    "duration": 24,
    "start_time": "2023-07-26T17:35:45.696Z"
   },
   {
    "duration": 7,
    "start_time": "2023-07-26T17:35:47.394Z"
   },
   {
    "duration": 9,
    "start_time": "2023-07-26T17:35:49.526Z"
   },
   {
    "duration": 10,
    "start_time": "2023-07-26T17:35:50.496Z"
   },
   {
    "duration": 23,
    "start_time": "2023-07-26T17:35:52.113Z"
   },
   {
    "duration": 753,
    "start_time": "2023-07-26T17:35:58.660Z"
   },
   {
    "duration": 189,
    "start_time": "2023-07-26T17:36:02.461Z"
   },
   {
    "duration": 16,
    "start_time": "2023-07-26T17:36:10.543Z"
   },
   {
    "duration": 10,
    "start_time": "2023-07-26T17:36:12.513Z"
   },
   {
    "duration": 18,
    "start_time": "2023-07-26T17:36:39.534Z"
   },
   {
    "duration": 17,
    "start_time": "2023-07-26T17:37:36.575Z"
   },
   {
    "duration": 13,
    "start_time": "2023-07-26T17:37:37.948Z"
   },
   {
    "duration": 15,
    "start_time": "2023-07-26T17:37:55.031Z"
   },
   {
    "duration": 15,
    "start_time": "2023-07-26T17:39:03.252Z"
   },
   {
    "duration": 15,
    "start_time": "2023-07-26T17:39:14.257Z"
   },
   {
    "duration": 7,
    "start_time": "2023-07-26T17:39:56.749Z"
   },
   {
    "duration": 7,
    "start_time": "2023-07-26T17:40:08.275Z"
   },
   {
    "duration": 3,
    "start_time": "2023-07-26T17:40:11.051Z"
   },
   {
    "duration": 34,
    "start_time": "2023-07-26T17:40:13.692Z"
   },
   {
    "duration": 9,
    "start_time": "2023-07-26T17:40:19.722Z"
   },
   {
    "duration": 21,
    "start_time": "2023-07-26T17:41:29.684Z"
   },
   {
    "duration": 16,
    "start_time": "2023-07-26T17:41:54.657Z"
   },
   {
    "duration": 74,
    "start_time": "2023-07-26T17:43:08.933Z"
   },
   {
    "duration": 17,
    "start_time": "2023-07-26T17:43:19.217Z"
   },
   {
    "duration": 15,
    "start_time": "2023-07-26T17:43:41.049Z"
   },
   {
    "duration": 17,
    "start_time": "2023-07-26T17:44:02.523Z"
   },
   {
    "duration": 6,
    "start_time": "2023-07-26T17:44:39.581Z"
   },
   {
    "duration": 6,
    "start_time": "2023-07-26T17:44:41.558Z"
   },
   {
    "duration": 7,
    "start_time": "2023-07-26T17:44:43.155Z"
   },
   {
    "duration": 14,
    "start_time": "2023-07-26T17:46:14.696Z"
   },
   {
    "duration": 5,
    "start_time": "2023-07-26T17:46:16.522Z"
   },
   {
    "duration": 17,
    "start_time": "2023-07-26T17:46:17.578Z"
   },
   {
    "duration": 11,
    "start_time": "2023-07-26T17:46:21.845Z"
   },
   {
    "duration": 8,
    "start_time": "2023-07-26T17:46:23.539Z"
   },
   {
    "duration": 9,
    "start_time": "2023-07-26T17:46:24.966Z"
   },
   {
    "duration": 5,
    "start_time": "2023-07-26T17:46:26.221Z"
   },
   {
    "duration": 14,
    "start_time": "2023-07-26T17:46:27.152Z"
   },
   {
    "duration": 14,
    "start_time": "2023-07-26T17:46:51.915Z"
   },
   {
    "duration": 13,
    "start_time": "2023-07-26T17:47:02.064Z"
   },
   {
    "duration": 30,
    "start_time": "2023-07-26T17:47:03.500Z"
   },
   {
    "duration": 39,
    "start_time": "2023-07-26T17:47:05.915Z"
   },
   {
    "duration": 28,
    "start_time": "2023-07-26T17:47:22.800Z"
   },
   {
    "duration": 21,
    "start_time": "2023-07-26T17:47:58.200Z"
   },
   {
    "duration": 11,
    "start_time": "2023-07-26T17:49:07.098Z"
   },
   {
    "duration": 1757,
    "start_time": "2023-07-26T17:49:12.371Z"
   },
   {
    "duration": 11,
    "start_time": "2023-07-26T17:49:25.764Z"
   },
   {
    "duration": 11,
    "start_time": "2023-07-26T17:49:28.105Z"
   },
   {
    "duration": 15,
    "start_time": "2023-07-26T17:49:32.131Z"
   },
   {
    "duration": 16,
    "start_time": "2023-07-26T17:49:34.360Z"
   },
   {
    "duration": 19,
    "start_time": "2023-07-26T17:49:43.714Z"
   },
   {
    "duration": 14,
    "start_time": "2023-07-26T17:49:46.734Z"
   },
   {
    "duration": 26,
    "start_time": "2023-07-26T17:52:13.003Z"
   },
   {
    "duration": 111,
    "start_time": "2023-07-26T17:52:31.307Z"
   },
   {
    "duration": 135,
    "start_time": "2023-07-26T17:52:37.130Z"
   },
   {
    "duration": 24,
    "start_time": "2023-07-26T17:53:17.450Z"
   },
   {
    "duration": 110,
    "start_time": "2023-07-26T17:53:19.107Z"
   },
   {
    "duration": 105,
    "start_time": "2023-07-26T17:54:04.647Z"
   },
   {
    "duration": 31,
    "start_time": "2023-07-26T17:54:06.705Z"
   },
   {
    "duration": 20,
    "start_time": "2023-07-26T17:54:11.500Z"
   },
   {
    "duration": 18,
    "start_time": "2023-07-26T17:54:13.216Z"
   },
   {
    "duration": 104,
    "start_time": "2023-07-26T17:54:42.361Z"
   }
  ],
  "kernelspec": {
   "display_name": "Python 3 (ipykernel)",
   "language": "python",
   "name": "python3"
  },
  "language_info": {
   "codemirror_mode": {
    "name": "ipython",
    "version": 3
   },
   "file_extension": ".py",
   "mimetype": "text/x-python",
   "name": "python",
   "nbconvert_exporter": "python",
   "pygments_lexer": "ipython3",
   "version": "3.9.5"
  },
  "toc": {
   "base_numbering": 1,
   "nav_menu": {},
   "number_sections": true,
   "sideBar": true,
   "skip_h1_title": true,
   "title_cell": "Table of Contents",
   "title_sidebar": "Contents",
   "toc_cell": false,
   "toc_position": {},
   "toc_section_display": true,
   "toc_window_display": true
  }
 },
 "nbformat": 4,
 "nbformat_minor": 5
}
