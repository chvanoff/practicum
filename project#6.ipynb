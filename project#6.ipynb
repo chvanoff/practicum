{
 "cells": [
  {
   "cell_type": "markdown",
   "metadata": {},
   "source": [
    "# Рекомендация тарифов"
   ]
  },
  {
   "cell_type": "markdown",
   "metadata": {},
   "source": [
    "В нашем распоряжении данные о поведении клиентов, которые уже выбрали тарифы. Нужно построить модель для задачи классификации, которая выберет подходящий тариф. Предобработка данных не понадобится.\n",
    "\n",
    "    Задача от заказчика: Постройте модель с максимально большим значением *accuracy*."
   ]
  },
  {
   "cell_type": "markdown",
   "metadata": {
    "toc": true
   },
   "source": [
    "<h1>Содержание<span class=\"tocSkip\"></span></h1>\n",
    "<div class=\"toc\"><ul class=\"toc-item\"><li><span><a href=\"#Откройте-и-изучите-файл\" data-toc-modified-id=\"Откройте-и-изучите-файл-1\"><span class=\"toc-item-num\">1&nbsp;&nbsp;</span>Откройте и изучите файл</a></span></li><li><span><a href=\"#Разбивка-данные-на-выборки\" data-toc-modified-id=\"Разбивка-данные-на-выборки-2\"><span class=\"toc-item-num\">2&nbsp;&nbsp;</span>Разбивка данные на выборки</a></span></li><li><span><a href=\"#Тестирование-моделей\" data-toc-modified-id=\"Тестирование-моделей-3\"><span class=\"toc-item-num\">3&nbsp;&nbsp;</span>Тестирование моделей</a></span><ul class=\"toc-item\"><li><span><a href=\"#Подытог\" data-toc-modified-id=\"Подытог-3.1\"><span class=\"toc-item-num\">3.1&nbsp;&nbsp;</span>Подытог</a></span></li></ul></li><li><span><a href=\"#Проверка-модели-на-тестовой-выборке\" data-toc-modified-id=\"Проверка-модели-на-тестовой-выборке-4\"><span class=\"toc-item-num\">4&nbsp;&nbsp;</span>Проверка модели на тестовой выборке</a></span><ul class=\"toc-item\"><li><span><a href=\"#Проверка-других-моделей\" data-toc-modified-id=\"Проверка-других-моделей-4.1\"><span class=\"toc-item-num\">4.1&nbsp;&nbsp;</span>Проверка других моделей</a></span></li><li><span><a href=\"#Проверка-других-моделей-на-выборке-без-данных-о-потраченных-минутах\" data-toc-modified-id=\"Проверка-других-моделей-на-выборке-без-данных-о-потраченных-минутах-4.2\"><span class=\"toc-item-num\">4.2&nbsp;&nbsp;</span>Проверка других моделей на выборке без данных о потраченных минутах</a></span></li></ul></li><li><span><a href=\"#(бонус)-Проверьте-модели-на-адекватность\" data-toc-modified-id=\"(бонус)-Проверьте-модели-на-адекватность-5\"><span class=\"toc-item-num\">5&nbsp;&nbsp;</span>(бонус) Проверьте модели на адекватность</a></span></li><li><span><a href=\"#Вывод\" data-toc-modified-id=\"Вывод-6\"><span class=\"toc-item-num\">6&nbsp;&nbsp;</span>Вывод</a></span></li></ul></div>"
   ]
  },
  {
   "cell_type": "markdown",
   "metadata": {},
   "source": [
    "## Откройте и изучите файл"
   ]
  },
  {
   "cell_type": "code",
   "execution_count": 1,
   "metadata": {},
   "outputs": [],
   "source": [
    "import pandas as pd\n",
    "import math\n",
    "import numpy as np\n",
    "from scipy import stats as st\n",
    "import matplotlib.pyplot as plt\n",
    "import matplotlib as mpl\n",
    "import seaborn as sb\n",
    "from joblib import dump\n",
    "from sklearn.model_selection import train_test_split\n",
    "from sklearn.tree import DecisionTreeClassifier\n",
    "from sklearn.metrics import accuracy_score\n",
    "from sklearn.metrics import mean_squared_error\n",
    "from sklearn.ensemble import RandomForestClassifier\n",
    "from sklearn.ensemble import RandomForestRegressor\n",
    "from sklearn.linear_model import LogisticRegression\n",
    "from sklearn.linear_model import LinearRegression\n",
    "from sklearn.dummy import DummyClassifier #для проверки адекватности модели"
   ]
  },
  {
   "cell_type": "code",
   "execution_count": 2,
   "metadata": {},
   "outputs": [
    {
     "name": "stdout",
     "output_type": "stream",
     "text": [
      "<class 'pandas.core.frame.DataFrame'>\n",
      "RangeIndex: 3214 entries, 0 to 3213\n",
      "Data columns (total 5 columns):\n",
      " #   Column    Non-Null Count  Dtype  \n",
      "---  ------    --------------  -----  \n",
      " 0   calls     3214 non-null   float64\n",
      " 1   minutes   3214 non-null   float64\n",
      " 2   messages  3214 non-null   float64\n",
      " 3   mb_used   3214 non-null   float64\n",
      " 4   is_ultra  3214 non-null   int64  \n",
      "dtypes: float64(4), int64(1)\n",
      "memory usage: 125.7 KB\n"
     ]
    },
    {
     "data": {
      "text/plain": [
       "None"
      ]
     },
     "metadata": {},
     "output_type": "display_data"
    },
    {
     "data": {
      "text/html": [
       "<div>\n",
       "<style scoped>\n",
       "    .dataframe tbody tr th:only-of-type {\n",
       "        vertical-align: middle;\n",
       "    }\n",
       "\n",
       "    .dataframe tbody tr th {\n",
       "        vertical-align: top;\n",
       "    }\n",
       "\n",
       "    .dataframe thead th {\n",
       "        text-align: right;\n",
       "    }\n",
       "</style>\n",
       "<table border=\"1\" class=\"dataframe\">\n",
       "  <thead>\n",
       "    <tr style=\"text-align: right;\">\n",
       "      <th></th>\n",
       "      <th>0</th>\n",
       "      <th>1</th>\n",
       "      <th>2</th>\n",
       "      <th>3</th>\n",
       "      <th>4</th>\n",
       "      <th>5</th>\n",
       "      <th>6</th>\n",
       "      <th>7</th>\n",
       "      <th>8</th>\n",
       "      <th>9</th>\n",
       "    </tr>\n",
       "  </thead>\n",
       "  <tbody>\n",
       "    <tr>\n",
       "      <th>calls</th>\n",
       "      <td>40.00</td>\n",
       "      <td>85.00</td>\n",
       "      <td>77.00</td>\n",
       "      <td>106.00</td>\n",
       "      <td>66.00</td>\n",
       "      <td>58.00</td>\n",
       "      <td>57.00</td>\n",
       "      <td>15.0</td>\n",
       "      <td>7.00</td>\n",
       "      <td>90.00</td>\n",
       "    </tr>\n",
       "    <tr>\n",
       "      <th>minutes</th>\n",
       "      <td>311.90</td>\n",
       "      <td>516.75</td>\n",
       "      <td>467.66</td>\n",
       "      <td>745.53</td>\n",
       "      <td>418.74</td>\n",
       "      <td>344.56</td>\n",
       "      <td>431.64</td>\n",
       "      <td>132.4</td>\n",
       "      <td>43.39</td>\n",
       "      <td>665.41</td>\n",
       "    </tr>\n",
       "    <tr>\n",
       "      <th>messages</th>\n",
       "      <td>83.00</td>\n",
       "      <td>56.00</td>\n",
       "      <td>86.00</td>\n",
       "      <td>81.00</td>\n",
       "      <td>1.00</td>\n",
       "      <td>21.00</td>\n",
       "      <td>20.00</td>\n",
       "      <td>6.0</td>\n",
       "      <td>3.00</td>\n",
       "      <td>38.00</td>\n",
       "    </tr>\n",
       "    <tr>\n",
       "      <th>mb_used</th>\n",
       "      <td>19915.42</td>\n",
       "      <td>22696.96</td>\n",
       "      <td>21060.45</td>\n",
       "      <td>8437.39</td>\n",
       "      <td>14502.75</td>\n",
       "      <td>15823.37</td>\n",
       "      <td>3738.90</td>\n",
       "      <td>21911.6</td>\n",
       "      <td>2538.67</td>\n",
       "      <td>17358.61</td>\n",
       "    </tr>\n",
       "    <tr>\n",
       "      <th>is_ultra</th>\n",
       "      <td>0.00</td>\n",
       "      <td>0.00</td>\n",
       "      <td>0.00</td>\n",
       "      <td>1.00</td>\n",
       "      <td>0.00</td>\n",
       "      <td>0.00</td>\n",
       "      <td>1.00</td>\n",
       "      <td>0.0</td>\n",
       "      <td>1.00</td>\n",
       "      <td>0.00</td>\n",
       "    </tr>\n",
       "  </tbody>\n",
       "</table>\n",
       "</div>"
      ],
      "text/plain": [
       "                 0         1         2        3         4         5        6  \\\n",
       "calls        40.00     85.00     77.00   106.00     66.00     58.00    57.00   \n",
       "minutes     311.90    516.75    467.66   745.53    418.74    344.56   431.64   \n",
       "messages     83.00     56.00     86.00    81.00      1.00     21.00    20.00   \n",
       "mb_used   19915.42  22696.96  21060.45  8437.39  14502.75  15823.37  3738.90   \n",
       "is_ultra      0.00      0.00      0.00     1.00      0.00      0.00     1.00   \n",
       "\n",
       "                7        8         9  \n",
       "calls        15.0     7.00     90.00  \n",
       "minutes     132.4    43.39    665.41  \n",
       "messages      6.0     3.00     38.00  \n",
       "mb_used   21911.6  2538.67  17358.61  \n",
       "is_ultra      0.0     1.00      0.00  "
      ]
     },
     "execution_count": 2,
     "metadata": {},
     "output_type": "execute_result"
    }
   ],
   "source": [
    "try:\n",
    "    df = pd.read_csv('C://datasets/users_behavior.csv')\n",
    "except:\n",
    "    df = pd.read_csv('/datasets/users_behavior.csv')\n",
    "    \n",
    "display(df.info())\n",
    "df.head(10).T"
   ]
  },
  {
   "cell_type": "code",
   "execution_count": 3,
   "metadata": {},
   "outputs": [
    {
     "data": {
      "text/html": [
       "<div>\n",
       "<style scoped>\n",
       "    .dataframe tbody tr th:only-of-type {\n",
       "        vertical-align: middle;\n",
       "    }\n",
       "\n",
       "    .dataframe tbody tr th {\n",
       "        vertical-align: top;\n",
       "    }\n",
       "\n",
       "    .dataframe thead th {\n",
       "        text-align: right;\n",
       "    }\n",
       "</style>\n",
       "<table border=\"1\" class=\"dataframe\">\n",
       "  <thead>\n",
       "    <tr style=\"text-align: right;\">\n",
       "      <th></th>\n",
       "      <th>calls</th>\n",
       "      <th>minutes</th>\n",
       "      <th>messages</th>\n",
       "      <th>mb_used</th>\n",
       "      <th>is_ultra</th>\n",
       "    </tr>\n",
       "  </thead>\n",
       "  <tbody>\n",
       "    <tr>\n",
       "      <th>count</th>\n",
       "      <td>3214.000000</td>\n",
       "      <td>3214.000000</td>\n",
       "      <td>3214.000000</td>\n",
       "      <td>3214.000000</td>\n",
       "      <td>3214.000000</td>\n",
       "    </tr>\n",
       "    <tr>\n",
       "      <th>mean</th>\n",
       "      <td>63.038892</td>\n",
       "      <td>438.208787</td>\n",
       "      <td>38.281269</td>\n",
       "      <td>17207.673836</td>\n",
       "      <td>0.306472</td>\n",
       "    </tr>\n",
       "    <tr>\n",
       "      <th>std</th>\n",
       "      <td>33.236368</td>\n",
       "      <td>234.569872</td>\n",
       "      <td>36.148326</td>\n",
       "      <td>7570.968246</td>\n",
       "      <td>0.461100</td>\n",
       "    </tr>\n",
       "    <tr>\n",
       "      <th>min</th>\n",
       "      <td>0.000000</td>\n",
       "      <td>0.000000</td>\n",
       "      <td>0.000000</td>\n",
       "      <td>0.000000</td>\n",
       "      <td>0.000000</td>\n",
       "    </tr>\n",
       "    <tr>\n",
       "      <th>25%</th>\n",
       "      <td>40.000000</td>\n",
       "      <td>274.575000</td>\n",
       "      <td>9.000000</td>\n",
       "      <td>12491.902500</td>\n",
       "      <td>0.000000</td>\n",
       "    </tr>\n",
       "    <tr>\n",
       "      <th>50%</th>\n",
       "      <td>62.000000</td>\n",
       "      <td>430.600000</td>\n",
       "      <td>30.000000</td>\n",
       "      <td>16943.235000</td>\n",
       "      <td>0.000000</td>\n",
       "    </tr>\n",
       "    <tr>\n",
       "      <th>75%</th>\n",
       "      <td>82.000000</td>\n",
       "      <td>571.927500</td>\n",
       "      <td>57.000000</td>\n",
       "      <td>21424.700000</td>\n",
       "      <td>1.000000</td>\n",
       "    </tr>\n",
       "    <tr>\n",
       "      <th>max</th>\n",
       "      <td>244.000000</td>\n",
       "      <td>1632.060000</td>\n",
       "      <td>224.000000</td>\n",
       "      <td>49745.730000</td>\n",
       "      <td>1.000000</td>\n",
       "    </tr>\n",
       "  </tbody>\n",
       "</table>\n",
       "</div>"
      ],
      "text/plain": [
       "             calls      minutes     messages       mb_used     is_ultra\n",
       "count  3214.000000  3214.000000  3214.000000   3214.000000  3214.000000\n",
       "mean     63.038892   438.208787    38.281269  17207.673836     0.306472\n",
       "std      33.236368   234.569872    36.148326   7570.968246     0.461100\n",
       "min       0.000000     0.000000     0.000000      0.000000     0.000000\n",
       "25%      40.000000   274.575000     9.000000  12491.902500     0.000000\n",
       "50%      62.000000   430.600000    30.000000  16943.235000     0.000000\n",
       "75%      82.000000   571.927500    57.000000  21424.700000     1.000000\n",
       "max     244.000000  1632.060000   224.000000  49745.730000     1.000000"
      ]
     },
     "execution_count": 3,
     "metadata": {},
     "output_type": "execute_result"
    }
   ],
   "source": [
    "df.describe()"
   ]
  },
  {
   "cell_type": "code",
   "execution_count": 4,
   "metadata": {},
   "outputs": [
    {
     "data": {
      "text/plain": [
       "0"
      ]
     },
     "execution_count": 4,
     "metadata": {},
     "output_type": "execute_result"
    }
   ],
   "source": [
    "df.duplicated().sum()"
   ]
  },
  {
   "cell_type": "markdown",
   "metadata": {},
   "source": [
    "    Посмотрим распределение переменных"
   ]
  },
  {
   "cell_type": "code",
   "execution_count": 5,
   "metadata": {
    "scrolled": false
   },
   "outputs": [
    {
     "data": {
      "image/png": "[encoded data removed]",
      "text/plain": [
       "<Figure size 864x360 with 1 Axes>"
      ]
     },
     "metadata": {
      "needs_background": "light"
     },
     "output_type": "display_data"
    },
    {
     "data": {
      "image/png": "[encoded data removed]",
      "text/plain": [
       "<Figure size 864x360 with 1 Axes>"
      ]
     },
     "metadata": {
      "needs_background": "light"
     },
     "output_type": "display_data"
    },
    {
     "data": {
      "image/png": "[encoded data removed]",
      "text/plain": [
       "<Figure size 864x360 with 1 Axes>"
      ]
     },
     "metadata": {
      "needs_background": "light"
     },
     "output_type": "display_data"
    },
    {
     "data": {
      "image/png": "[encoded data removed]",
      "text/plain": [
       "<Figure size 864x360 with 1 Axes>"
      ]
     },
     "metadata": {
      "needs_background": "light"
     },
     "output_type": "display_data"
    },
    {
     "data": {
      "image/png": "[encoded data removed]",
      "text/plain": [
       "<Figure size 864x360 with 1 Axes>"
      ]
     },
     "metadata": {
      "needs_background": "light"
     },
     "output_type": "display_data"
    }
   ],
   "source": [
    "for x, data in df.items():\n",
    "    ax = data.hist(bins = 100, figsize = (12,5))\n",
    "    ax.set_xlabel(x)\n",
    "    ax.set_ylabel(f'{x} count')\n",
    "    ax.set_title(f'Распределение {x}', fontsize = 12)\n",
    "    plt.show()\n",
    "    \n"
   ]
  },
  {
   "cell_type": "markdown",
   "metadata": {},
   "source": [
    "- 30% на тарифе ультра.\n",
    "- В медиане - 430 минут, 30 СМС и 17Гб"
   ]
  },
  {
   "cell_type": "code",
   "execution_count": 6,
   "metadata": {},
   "outputs": [],
   "source": [
    "%%capture\n",
    "fig1 = sb.jointplot(x='minutes', y='messages', data = df)\n",
    "fig2 = sb.jointplot(x='mb_used', y='messages', data = df)\n",
    "fig3 = sb.jointplot(x='mb_used', y='minutes', data = df)"
   ]
  },
  {
   "cell_type": "code",
   "execution_count": 7,
   "metadata": {
    "scrolled": false
   },
   "outputs": [
    {
     "data": {
      "image/png": "[encoded data removed]",
      "text/plain": [
       "<Figure size 432x288 with 9 Axes>"
      ]
     },
     "metadata": {},
     "output_type": "display_data"
    }
   ],
   "source": [
    "sb.set()\n",
    "f = plt.figure()\n",
    "for J in [fig1, fig2, fig3]:\n",
    "    for A in J.fig.axes:\n",
    "        f._axstack.add(f._make_key(A), A)\n",
    "#subplots size adjustment\n",
    "f.axes[0].set_position([0.1, 0.1, 0.5,  0.5])\n",
    "f.axes[1].set_position([0.1, 0.6, 0.5,  0.1])\n",
    "f.axes[2].set_position([0.6, 0.1, 0.1, 0.5])\n",
    "f.axes[3].set_position([0.8, 0.1, 0.5,  0.5])\n",
    "f.axes[4].set_position([0.8, 0.6, 0.5,  0.1])\n",
    "f.axes[5].set_position([1.3, 0.1, 0.1, 0.5])\n",
    "f.axes[6].set_position([1.5, 0.1, 0.5,  0.5])\n",
    "f.axes[7].set_position([1.5, 0.6, 0.5,  0.1])\n",
    "f.axes[8].set_position([2, 0.1, 0.1, 0.5])\n"
   ]
  },
  {
   "cell_type": "markdown",
   "metadata": {},
   "source": [
    "- Можно обратить внимание, что распределение по минутам и по использованным мегабайтам очень похожи."
   ]
  },
  {
   "cell_type": "code",
   "execution_count": null,
   "metadata": {},
   "outputs": [],
   "source": [
    "df['minutes'].corr(df['mb_used'])"
   ]
  },
  {
   "cell_type": "markdown",
   "metadata": {},
   "source": [
    "## Разбивка данные на выборки"
   ]
  },
  {
   "cell_type": "markdown",
   "metadata": {},
   "source": [
    " - Разделим исходные данные на обучающую, валидационную и тестовую выборки."
   ]
  },
  {
   "cell_type": "code",
   "execution_count": 8,
   "metadata": {},
   "outputs": [
    {
     "data": {
      "text/plain": [
       "0.3065352697095436"
      ]
     },
     "metadata": {},
     "output_type": "display_data"
    },
    {
     "data": {
      "text/plain": [
       "0.30637636080870917"
      ]
     },
     "metadata": {},
     "output_type": "display_data"
    },
    {
     "data": {
      "text/plain": [
       "0.30637636080870917"
      ]
     },
     "metadata": {},
     "output_type": "display_data"
    }
   ],
   "source": [
    "features = df.drop(['is_ultra'], axis=1)\n",
    "target = df['is_ultra']\n",
    "\n",
    "features_train, features_subset, target_train, target_subset = train_test_split(\n",
    "    features, target, test_size=0.40, stratify = target, random_state=111)\n",
    "\n",
    "features_valid, features_test, target_valid, target_test = train_test_split(\n",
    "    features_subset, target_subset, test_size=0.5, stratify = target_subset, random_state=111)\n",
    "\n",
    "display(target_train.mean())\n",
    "\n",
    "display(target_valid.mean())\n",
    "\n",
    "display(target_test.mean())"
   ]
  },
  {
   "cell_type": "markdown",
   "metadata": {},
   "source": [
    "- Сделаем дополниетльную загрузку и разбивку данных, в которых исключим столбец 'minutes'. В будущем попробуем улучшить нашу лучшую модель просто исключив его."
   ]
  },
  {
   "cell_type": "code",
   "execution_count": 9,
   "metadata": {},
   "outputs": [],
   "source": [
    "try:\n",
    "    df2 = pd.read_csv('C://datasets/users_behavior.csv')\n",
    "except:\n",
    "    df2 = pd.read_csv('/datasets/users_behavior.csv')"
   ]
  },
  {
   "cell_type": "code",
   "execution_count": 10,
   "metadata": {},
   "outputs": [
    {
     "data": {
      "text/plain": [
       "0.3065352697095436"
      ]
     },
     "metadata": {},
     "output_type": "display_data"
    },
    {
     "data": {
      "text/plain": [
       "0.30637636080870917"
      ]
     },
     "metadata": {},
     "output_type": "display_data"
    },
    {
     "data": {
      "text/plain": [
       "0.30637636080870917"
      ]
     },
     "metadata": {},
     "output_type": "display_data"
    }
   ],
   "source": [
    "features2 = df2.drop(['is_ultra', 'minutes'], axis=1)\n",
    "target2 = df2['is_ultra']\n",
    "\n",
    "features_train2, features_subset2, target_train2, target_subset2 = train_test_split(\n",
    "    features2, target2, test_size=0.40, random_state=111, stratify = target2)\n",
    "\n",
    "features_valid2, features_test2, target_valid2, target_test2 = train_test_split(\n",
    "    features_subset2, target_subset2, test_size=0.5, random_state=111, stratify = target_subset2)\n",
    "\n",
    "display(target_train2.mean())\n",
    "\n",
    "display(target_valid2.mean())\n",
    "\n",
    "display(target_test2.mean())"
   ]
  },
  {
   "cell_type": "markdown",
   "metadata": {},
   "source": [
    "## Тестирование моделей"
   ]
  },
  {
   "cell_type": "code",
   "execution_count": 11,
   "metadata": {},
   "outputs": [
    {
     "name": "stdout",
     "output_type": "stream",
     "text": [
      "Accuracy лучшей модели решающего дерева на валидационной выборке: 0.781 Глубина: 7\n"
     ]
    },
    {
     "data": {
      "image/png": "[encoded data removed]",
      "text/plain": [
       "<Figure size 432x288 with 1 Axes>"
      ]
     },
     "metadata": {},
     "output_type": "display_data"
    }
   ],
   "source": [
    "best_model_tree = None\n",
    "best_result_tree = 0\n",
    "best_depth_tree = 0\n",
    "graph = pd.DataFrame(columns=['depth', 'accuracy'])\n",
    "\n",
    "for depth in range(1, 45):\n",
    "    \n",
    "    model = DecisionTreeClassifier(random_state=111, max_depth=depth) #раз уж взяли 111, то оставим везде, чтоб не путаться\n",
    "    model.fit(features_train, target_train) \n",
    "    predictions = model.predict(features_valid)\n",
    "    result = accuracy_score(target_valid, predictions)\n",
    "    graph = graph.append({'depth': depth, 'accuracy': result}, ignore_index=True)\n",
    "    if result > best_result_tree:\n",
    "        best_model_tree = model\n",
    "        best_result_tree = result\n",
    "        best_depth_tree = depth\n",
    "        \n",
    "print(\"Accuracy лучшей модели решающего дерева на валидационной выборке:\", round(best_result_tree, 3), \"Глубина:\", best_depth_tree)\n",
    "graph.plot(x = 'depth', y = 'accuracy')\n",
    "plt.show()"
   ]
  },
  {
   "cell_type": "markdown",
   "metadata": {},
   "source": [
    "- Очевидное переобучение после глубины в 7 развилок."
   ]
  },
  {
   "cell_type": "code",
   "execution_count": 12,
   "metadata": {},
   "outputs": [
    {
     "name": "stdout",
     "output_type": "stream",
     "text": [
      "Accuracy наилучшей модели случайного леса на валидационной выборке: 0.785 Количество деревьев: 26\n"
     ]
    },
    {
     "data": {
      "image/png": "[encoded data removed]",
      "text/plain": [
       "<Figure size 432x288 with 1 Axes>"
      ]
     },
     "metadata": {},
     "output_type": "display_data"
    }
   ],
   "source": [
    "best_model_random_forest = None\n",
    "best_result_random_forest = 0\n",
    "best_est_random_forest = 0\n",
    "graph = pd.DataFrame(columns=['n_estimators', 'accuracy'])\n",
    "\n",
    "for est in range(1, 100):\n",
    "    model = RandomForestClassifier(random_state=111, n_estimators= est)\n",
    "    model.fit(features_train, target_train) \n",
    "    result = model.score(features_valid, target_valid)\n",
    "    graph = graph.append({'n_estimators': est, 'accuracy': result}, ignore_index=True)\n",
    "    if result > best_result_random_forest:\n",
    "        best_model_random_forest = model \n",
    "        best_result_random_forest = result\n",
    "        best_est_random_forest = est\n",
    "\n",
    "print(\"Accuracy наилучшей модели случайного леса на валидационной выборке:\", round(best_result_random_forest, 3), \n",
    "      \"Количество деревьев:\", best_est_random_forest)\n",
    "graph.plot(x = 'n_estimators', y = 'accuracy', logx=True)\n",
    "plt.show()"
   ]
  },
  {
   "cell_type": "code",
   "execution_count": 13,
   "metadata": {},
   "outputs": [
    {
     "name": "stdout",
     "output_type": "stream",
     "text": [
      "А на тестовой выборке результат: 0.801\n",
      "Модель: RandomForestClassifier(n_estimators=26, random_state=111)\n"
     ]
    }
   ],
   "source": [
    "result = best_model_random_forest.score(features_test, target_test) \n",
    "print(\"А на тестовой выборке результат:\", round(result, 3))\n",
    "print(\"Модель:\", best_model_random_forest)"
   ]
  },
  {
   "cell_type": "code",
   "execution_count": 14,
   "metadata": {},
   "outputs": [
    {
     "name": "stdout",
     "output_type": "stream",
     "text": [
      "Accuracy модели логистической регрессии на валидационной выборке: 0.731\n",
      "Модель: LogisticRegression(max_iter=1000, random_state=111)\n"
     ]
    }
   ],
   "source": [
    "model_logic_regress = LogisticRegression(random_state=111, solver='lbfgs', max_iter=1000)\n",
    "model_logic_regress.fit(features_train, target_train)\n",
    "\n",
    "print(\"Accuracy модели логистической регрессии на валидационной выборке:\", round(model_logic_regress.score(features_valid, target_valid), 3))\n",
    "print(\"Модель:\", model_logic_regress)"
   ]
  },
  {
   "cell_type": "code",
   "execution_count": 15,
   "metadata": {},
   "outputs": [
    {
     "name": "stdout",
     "output_type": "stream",
     "text": [
      " Accuracy наилучшей модели случайного леса на валидационной выборке: 0.801 Количество деревьев: 6 \n",
      " Глубина: 17 \n",
      " RandomForestClassifier(max_depth=17, min_samples_split=5, n_estimators=6,\n",
      "                       random_state=111) \n",
      "\n"
     ]
    }
   ],
   "source": [
    "best_model_random_forest_new = None\n",
    "best_result_random_forest_new = 0\n",
    "best_est_random_forest_new = 0\n",
    "best_depth_new = 0\n",
    "best_min_samples_split = 0\n",
    "for est in range(1, 30):\n",
    "    for depth in range(1, 20):\n",
    "        for split in range(2,11):\n",
    "            model = RandomForestClassifier(random_state=111, n_estimators= est, max_depth=depth, min_samples_split = split )\n",
    "            model.fit(features_train, target_train) \n",
    "            result = model.score(features_valid, target_valid)\n",
    "            if result > best_result_random_forest_new:\n",
    "                best_model_random_forest_new = model \n",
    "                best_result_random_forest_new = result\n",
    "                best_est_random_forest_new = est\n",
    "                best_depth_new = depth\n",
    "                best_min_samples_split = split\n",
    "print(\" Accuracy наилучшей модели случайного леса на валидационной выборке:\", round(best_result_random_forest_new, 3), \n",
    "      \"Количество деревьев:\", best_est_random_forest_new,'\\n',\n",
    "      \"Глубина:\", best_depth_new,'\\n',\n",
    "      best_model_random_forest_new,'\\n'\n",
    "     )"
   ]
  },
  {
   "cell_type": "markdown",
   "metadata": {},
   "source": [
    "- Исключим данные по количеству использованных минут."
   ]
  },
  {
   "cell_type": "code",
   "execution_count": 16,
   "metadata": {},
   "outputs": [
    {
     "name": "stdout",
     "output_type": "stream",
     "text": [
      "Accuracy лучшей модели решающего дерева на валидационной выборке без 'minutes': 0.782 Глубина: 7\n"
     ]
    }
   ],
   "source": [
    "best_model_tree2 = None\n",
    "best_result_tree2 = 0\n",
    "best_depth_tree2 = 0\n",
    "for depth in range(1, 45):\n",
    "    \n",
    "    model = DecisionTreeClassifier(random_state=111, max_depth=depth) #раз уж взяли 111, то оставим везде, чтоб не путаться\n",
    "    model.fit(features_train2, target_train2) \n",
    "    predictions2 = model.predict(features_valid2)\n",
    "    result = accuracy_score(target_valid2, predictions2)\n",
    "    if result > best_result_tree2:\n",
    "        best_model_tree2 = model\n",
    "        best_result_tree2 = result\n",
    "        best_depth_tree2 = depth\n",
    "        \n",
    "print(\"Accuracy лучшей модели решающего дерева на валидационной выборке без 'minutes':\", round(best_result_tree2, 3), \n",
    "      \"Глубина:\", best_depth_tree2)"
   ]
  },
  {
   "cell_type": "code",
   "execution_count": 17,
   "metadata": {},
   "outputs": [
    {
     "name": "stdout",
     "output_type": "stream",
     "text": [
      "Accuracy наилучшей модели случайного леса на валидационной выборке без 'minutes': 0.806 \n",
      " Количество деревьев: 6 \n",
      " Глубина: 9 \n",
      " RandomForestClassifier(max_depth=9, min_samples_split=9, n_estimators=6,\n",
      "                       random_state=111)\n"
     ]
    }
   ],
   "source": [
    "best_model_random_forest_new2 = None\n",
    "best_result_random_forest_new2 = 0\n",
    "best_est_random_forest_new2 = 0\n",
    "best_depth_new2 = 0\n",
    "best_min_samples_split2 = 0\n",
    "for est in range(1, 20):\n",
    "    for depth in range(1, 20):\n",
    "        for split in range(2,11):\n",
    "            model = RandomForestClassifier(random_state=111, n_estimators= est, max_depth=depth, min_samples_split = split )\n",
    "            model.fit(features_train2, target_train2) \n",
    "            result = model.score(features_valid2, target_valid2)\n",
    "            if result > best_result_random_forest_new2:\n",
    "                best_model_random_forest_new2 = model \n",
    "                best_result_random_forest_new2 = result\n",
    "                best_est_random_forest_new2 = est\n",
    "                best_depth_new2 = depth\n",
    "                best_min_samples_split2 = split\n",
    "            \n",
    "print(\"Accuracy наилучшей модели случайного леса на валидационной выборке без 'minutes':\", round(best_result_random_forest_new2, 3),'\\n', \n",
    "      \"Количество деревьев:\", best_est_random_forest_new2,'\\n',\n",
    "      \"Глубина:\", best_depth_new2,'\\n',\n",
    "      best_model_random_forest_new2\n",
    "     )"
   ]
  },
  {
   "cell_type": "markdown",
   "metadata": {},
   "source": [
    "### Подытог\n",
    "\n",
    "Подведем итоги по точности на валидационной выборке наших моделей:\n",
    "    \n",
    "1) Решающее дерево: 0.780715\n",
    "\n",
    "2) Случайный лес: 0.785381 \n",
    "    \n",
    "3) Логистической регрессии: 0.730948\n",
    "    \n",
    "4) Случайный леса с подбором гиперпараметров: 0.800933\n",
    "    \n",
    "Так же мы протестировали как изменится точность двух моделей, если из данных удалить столбец \"minutes\":\n",
    "    \n",
    "5) Решающее дерево без 'minutes' : 0.782270 (выше на 0.0015)\n",
    "    \n",
    "6) Случайный леса с подбором гиперпараметров без 'minutes': 0.805600 (выше на 0.0046)    \n",
    "\n",
    "    \n",
    "Кажется, что настраивать модель с выбросом данных на данном этапе для повышения точности на 0,0046 не кажется правильным. \n"
   ]
  },
  {
   "cell_type": "markdown",
   "metadata": {},
   "source": [
    "## Проверка модели на тестовой выборке"
   ]
  },
  {
   "cell_type": "markdown",
   "metadata": {},
   "source": [
    "\n",
    "На данный момент, лучшим выбором выглядит случайный лес с подобранными гиперпараметрами. \n",
    "    \n",
    "По результатам валидации мы уже выбрали модель:\n",
    "    \n",
    "    RandomForestClassifier(max_depth=17, min_samples_split=5, n_estimators=6, random_state=111)\n",
    "    \n",
    "    \n",
    "<b>Её точность на валидационной выборке : <b>0.801</b>    "
   ]
  },
  {
   "cell_type": "code",
   "execution_count": 18,
   "metadata": {
    "scrolled": true
   },
   "outputs": [
    {
     "name": "stdout",
     "output_type": "stream",
     "text": [
      "Accuracy наилучшей модели случайного леса с тремя меняемыми гиперпараметрами на тестовой выборке: 0.792\n",
      "Модель: RandomForestClassifier(max_depth=17, min_samples_split=5, n_estimators=6,\n",
      "                       random_state=111)\n"
     ]
    }
   ],
   "source": [
    "print(\"Accuracy наилучшей модели случайного леса с тремя меняемыми гиперпараметрами на тестовой выборке:\", \n",
    "      round(best_model_random_forest_new.score(features_test, target_test), 3))\n",
    "print(\"Модель:\", \n",
    "      best_model_random_forest_new)"
   ]
  },
  {
   "cell_type": "markdown",
   "metadata": {},
   "source": [
    "<b>Точность на тестовой выборке : <b>0.792</b>    "
   ]
  },
  {
   "cell_type": "markdown",
   "metadata": {},
   "source": [
    "### Проверка других моделей"
   ]
  },
  {
   "cell_type": "code",
   "execution_count": 19,
   "metadata": {},
   "outputs": [
    {
     "name": "stdout",
     "output_type": "stream",
     "text": [
      "Accuracy лучшей модели решающего дерева на тестовой выборке: 0.781\n"
     ]
    }
   ],
   "source": [
    "print(\"Accuracy лучшей модели решающего дерева на тестовой выборке:\", round(best_model_tree.score(features_test, target_test),3))"
   ]
  },
  {
   "cell_type": "code",
   "execution_count": 20,
   "metadata": {},
   "outputs": [
    {
     "name": "stdout",
     "output_type": "stream",
     "text": [
      "Accuracy наилучшей модели случайного леса на тестовой выборке: 0.801\n"
     ]
    }
   ],
   "source": [
    "print(\"Accuracy наилучшей модели случайного леса на тестовой выборке:\", \n",
    "      round(best_model_random_forest.score(features_test, target_test), 3))"
   ]
  },
  {
   "cell_type": "code",
   "execution_count": 21,
   "metadata": {
    "scrolled": false
   },
   "outputs": [
    {
     "name": "stdout",
     "output_type": "stream",
     "text": [
      "Accuracy модели логистической регрессии на тестовой выборке: 0.756\n"
     ]
    }
   ],
   "source": [
    "print(\"Accuracy модели логистической регрессии на тестовой выборке:\", \n",
    "      round(model_logic_regress.score(features_test, target_test),3))"
   ]
  },
  {
   "cell_type": "markdown",
   "metadata": {},
   "source": [
    "### Проверка других моделей на выборке без данных о потраченных минутах"
   ]
  },
  {
   "cell_type": "code",
   "execution_count": 22,
   "metadata": {},
   "outputs": [
    {
     "name": "stdout",
     "output_type": "stream",
     "text": [
      "Accuracy лучшей модели решающего дерева на тестовой выборке без 'minutes': 0.802\n"
     ]
    }
   ],
   "source": [
    "print(\"Accuracy лучшей модели решающего дерева на тестовой выборке без 'minutes':\", round(best_model_tree2.score(features_test2, target_test2),3))"
   ]
  },
  {
   "cell_type": "code",
   "execution_count": 23,
   "metadata": {},
   "outputs": [
    {
     "name": "stdout",
     "output_type": "stream",
     "text": [
      "Accuracy лучшей модели случайного леса на тестовой выборке без 'minutes': 0.809\n"
     ]
    }
   ],
   "source": [
    "print(\"Accuracy лучшей модели случайного леса на тестовой выборке без 'minutes':\", round(best_model_random_forest_new2.score(features_test2, target_test2),3))\n"
   ]
  },
  {
   "cell_type": "markdown",
   "metadata": {},
   "source": [
    "Лучшее качество модели без данных о потраченных минут выше:\n",
    "    \n",
    "    RandomForestClassifier(max_depth=9, min_samples_split=9, n_estimators=6, random_state=111)    \n",
    "    \n",
    "<b>Показывает на тестовой выборке точность  0.809 </b>\n",
    "    \n"
   ]
  },
  {
   "cell_type": "markdown",
   "metadata": {},
   "source": [
    "## (бонус) Проверьте модели на адекватность"
   ]
  },
  {
   "cell_type": "code",
   "execution_count": 24,
   "metadata": {},
   "outputs": [
    {
     "data": {
      "text/plain": [
       "0.20659614187927816"
      ]
     },
     "metadata": {},
     "output_type": "display_data"
    },
    {
     "data": {
      "text/plain": [
       "0.27286869943995024"
      ]
     },
     "metadata": {},
     "output_type": "display_data"
    },
    {
     "data": {
      "text/plain": [
       "0.1001866832607343"
      ]
     },
     "metadata": {},
     "output_type": "display_data"
    },
    {
     "data": {
      "text/plain": [
       "0.2476664592408214"
      ]
     },
     "metadata": {},
     "output_type": "display_data"
    },
    {
     "data": {
      "text/plain": [
       "0.21219663970130678"
      ]
     },
     "metadata": {},
     "output_type": "display_data"
    },
    {
     "data": {
      "text/plain": [
       "0.30647168637212197"
      ]
     },
     "metadata": {},
     "output_type": "display_data"
    }
   ],
   "source": [
    "features_control = df2.drop(['is_ultra'], axis=1)\n",
    "features_control2 = df2.drop(['is_ultra', 'minutes'], axis=1)\n",
    "target_control = df2['is_ultra']\n",
    "\n",
    "prediction_best_model_tree = best_model_tree.predict(features_control)\n",
    "prediction_best_model_random_forest = best_model_random_forest.predict(features_control)\n",
    "prediction_model_logic_regress = model_logic_regress.predict(features_control)\n",
    "prediction_best_model_random_forest_new = best_model_random_forest_new.predict(features_control)\n",
    "prediction_best2 = best_model_random_forest_new2.predict(features_control2)\n",
    "\n",
    "display(prediction_best_model_tree.mean())\n",
    "display(prediction_best_model_random_forest.mean())\n",
    "display(prediction_model_logic_regress.mean())\n",
    "display(prediction_best_model_random_forest_new.mean())\n",
    "display(prediction_best2.mean())\n",
    "display(target_control.mean())"
   ]
  },
  {
   "cell_type": "code",
   "execution_count": 25,
   "metadata": {},
   "outputs": [],
   "source": [
    "for x in prediction_best_model_random_forest:\n",
    "    if (x != 0) and (x != 1):\n",
    "        print(x)"
   ]
  },
  {
   "cell_type": "code",
   "execution_count": 26,
   "metadata": {},
   "outputs": [
    {
     "data": {
      "text/plain": [
       "0.5505443234836703"
      ]
     },
     "execution_count": 26,
     "metadata": {},
     "output_type": "execute_result"
    }
   ],
   "source": [
    "dummy_model = DummyClassifier(strategy=\"stratified\")\n",
    "dummy_model.fit(features_train, target_train)\n",
    "#dummy_model.predict(features_train)\n",
    "dummy_model.score(features_valid, target_valid)\n"
   ]
  },
  {
   "cell_type": "code",
   "execution_count": 27,
   "metadata": {},
   "outputs": [
    {
     "data": {
      "text/plain": [
       "0.6936236391912908"
      ]
     },
     "execution_count": 27,
     "metadata": {},
     "output_type": "execute_result"
    }
   ],
   "source": [
    "dummy_model2 = DummyClassifier(strategy=\"most_frequent\")\n",
    "dummy_model2.fit(features_train, target_train)\n",
    "dummy_model2.score(features_valid, target_valid)"
   ]
  },
  {
   "cell_type": "code",
   "execution_count": 28,
   "metadata": {},
   "outputs": [
    {
     "data": {
      "text/plain": [
       "0.5085536547433903"
      ]
     },
     "execution_count": 28,
     "metadata": {},
     "output_type": "execute_result"
    }
   ],
   "source": [
    "dummy_model2 = DummyClassifier(strategy=\"uniform\")\n",
    "dummy_model2.fit(features_train, target_train)\n",
    "dummy_model2.score(features_valid, target_valid)"
   ]
  },
  {
   "cell_type": "markdown",
   "metadata": {},
   "source": [
    "## Вывод"
   ]
  },
  {
   "cell_type": "markdown",
   "metadata": {},
   "source": [
    "При тестировании моделей\n",
    "\n",
    "<b>    RandomForestClassifier(max_depth=17, min_samples_split=5, n_estimators=6, random_state=111) </b>\n",
    "    \n",
    "оказалась лучшей моделью для исходных данных с точностью <b>на валидационной выборке 0.801</b> и <b>на тестовой выборке 0.7916</b>.\n",
    "    \n",
    "    \n",
    "Если удалить из исходных данных столбец \"minutes\", то модель может обучиться чуть лучше.\n",
    "\n",
    "<b>    RandomForestClassifier(max_depth=9, min_samples_split=9, n_estimators=6, random_state=111)</b>, \n",
    "\n",
    "обученная на данных без столбца \"minutes\", показывает точность <b>на валидационной выборке 0.806</b> и <b>на тестовой выборке 0.809</b>.\n",
    "    \n",
    "\n",
    "    \n",
    "Точность моделей DummyClassifier значительно ниже. Если сравнить с заполнением самыми частыми значениями, то точность DummyClassifier - 0.694. Это говорит о том, что наши модели в целом достаточно адекватны.\n"
   ]
  }
 ],
 "metadata": {
  "ExecuteTimeLog": [
   {
    "duration": 1746,
    "start_time": "2022-05-21T12:02:13.771Z"
   },
   {
    "duration": 67,
    "start_time": "2022-05-21T12:03:07.290Z"
   },
   {
    "duration": 37,
    "start_time": "2022-05-21T12:03:11.277Z"
   },
   {
    "duration": 33,
    "start_time": "2022-05-21T12:04:14.181Z"
   },
   {
    "duration": 5,
    "start_time": "2022-05-21T12:08:16.503Z"
   },
   {
    "duration": 5,
    "start_time": "2022-05-21T12:08:31.680Z"
   },
   {
    "duration": 312,
    "start_time": "2022-05-21T12:08:54.832Z"
   },
   {
    "duration": 126,
    "start_time": "2022-05-21T12:09:15.723Z"
   },
   {
    "duration": 158,
    "start_time": "2022-05-21T12:09:42.613Z"
   },
   {
    "duration": 23,
    "start_time": "2022-05-21T12:09:47.986Z"
   },
   {
    "duration": 10,
    "start_time": "2022-05-21T12:09:59.371Z"
   },
   {
    "duration": 10,
    "start_time": "2022-05-21T12:10:23.100Z"
   },
   {
    "duration": 12,
    "start_time": "2022-05-21T12:10:28.413Z"
   },
   {
    "duration": 4,
    "start_time": "2022-05-21T12:10:36.601Z"
   },
   {
    "duration": 10,
    "start_time": "2022-05-21T12:10:41.389Z"
   },
   {
    "duration": 14,
    "start_time": "2022-05-21T12:11:07.371Z"
   },
   {
    "duration": 189,
    "start_time": "2022-05-21T12:11:14.333Z"
   },
   {
    "duration": 218,
    "start_time": "2022-05-21T12:12:00.584Z"
   },
   {
    "duration": 185,
    "start_time": "2022-05-21T12:12:53.611Z"
   },
   {
    "duration": 181,
    "start_time": "2022-05-21T12:13:04.179Z"
   },
   {
    "duration": 719,
    "start_time": "2022-05-21T12:13:28.665Z"
   },
   {
    "duration": 752,
    "start_time": "2022-05-21T12:13:44.907Z"
   },
   {
    "duration": 1007,
    "start_time": "2022-05-21T12:14:08.801Z"
   },
   {
    "duration": 1427,
    "start_time": "2022-05-21T12:14:13.425Z"
   },
   {
    "duration": 33,
    "start_time": "2022-05-21T12:16:14.625Z"
   },
   {
    "duration": 9,
    "start_time": "2022-05-21T12:22:13.827Z"
   },
   {
    "duration": 9,
    "start_time": "2022-05-21T12:22:19.788Z"
   },
   {
    "duration": 10,
    "start_time": "2022-05-21T12:22:25.994Z"
   },
   {
    "duration": 9,
    "start_time": "2022-05-21T12:22:29.491Z"
   },
   {
    "duration": 9,
    "start_time": "2022-05-21T12:22:32.935Z"
   },
   {
    "duration": 8,
    "start_time": "2022-05-21T12:22:36.268Z"
   },
   {
    "duration": 40,
    "start_time": "2022-05-21T12:23:02.687Z"
   },
   {
    "duration": 10,
    "start_time": "2022-05-21T12:24:04.175Z"
   },
   {
    "duration": 41,
    "start_time": "2022-05-21T12:24:06.791Z"
   },
   {
    "duration": 9,
    "start_time": "2022-05-21T12:24:19.608Z"
   },
   {
    "duration": 10,
    "start_time": "2022-05-21T12:24:24.760Z"
   },
   {
    "duration": 40,
    "start_time": "2022-05-21T12:24:26.771Z"
   },
   {
    "duration": 8,
    "start_time": "2022-05-21T12:55:12.884Z"
   },
   {
    "duration": 8,
    "start_time": "2022-05-21T12:55:18.100Z"
   },
   {
    "duration": 10,
    "start_time": "2022-05-21T13:03:41.589Z"
   },
   {
    "duration": 18,
    "start_time": "2022-05-21T13:06:19.269Z"
   },
   {
    "duration": 12,
    "start_time": "2022-05-21T13:06:28.407Z"
   },
   {
    "duration": 13,
    "start_time": "2022-05-21T13:06:35.326Z"
   },
   {
    "duration": 12,
    "start_time": "2022-05-21T13:06:41.480Z"
   },
   {
    "duration": 15,
    "start_time": "2022-05-21T13:06:46.074Z"
   },
   {
    "duration": 16,
    "start_time": "2022-05-21T13:06:48.896Z"
   },
   {
    "duration": 13,
    "start_time": "2022-05-21T13:06:53.182Z"
   },
   {
    "duration": 14,
    "start_time": "2022-05-21T13:07:00.794Z"
   },
   {
    "duration": 15,
    "start_time": "2022-05-21T13:07:11.369Z"
   },
   {
    "duration": 12,
    "start_time": "2022-05-21T13:07:22.171Z"
   },
   {
    "duration": 21,
    "start_time": "2022-05-21T13:07:28.909Z"
   },
   {
    "duration": 13,
    "start_time": "2022-05-21T13:07:50.128Z"
   },
   {
    "duration": 12,
    "start_time": "2022-05-21T13:07:53.892Z"
   },
   {
    "duration": 14,
    "start_time": "2022-05-21T13:07:57.303Z"
   },
   {
    "duration": 14,
    "start_time": "2022-05-21T13:07:59.490Z"
   },
   {
    "duration": 15,
    "start_time": "2022-05-21T13:08:01.787Z"
   },
   {
    "duration": 12,
    "start_time": "2022-05-21T13:08:04.096Z"
   },
   {
    "duration": 12,
    "start_time": "2022-05-21T13:08:16.970Z"
   },
   {
    "duration": 13,
    "start_time": "2022-05-21T13:08:20.484Z"
   },
   {
    "duration": 15,
    "start_time": "2022-05-21T13:08:24.583Z"
   },
   {
    "duration": 15,
    "start_time": "2022-05-21T13:08:27.234Z"
   },
   {
    "duration": 14,
    "start_time": "2022-05-21T13:08:30.675Z"
   },
   {
    "duration": 14,
    "start_time": "2022-05-21T13:08:36.166Z"
   },
   {
    "duration": 16,
    "start_time": "2022-05-21T13:08:40.174Z"
   },
   {
    "duration": 13,
    "start_time": "2022-05-21T13:08:44.427Z"
   },
   {
    "duration": 13,
    "start_time": "2022-05-21T13:08:47.634Z"
   },
   {
    "duration": 39,
    "start_time": "2022-05-21T13:08:49.213Z"
   },
   {
    "duration": 14,
    "start_time": "2022-05-21T13:08:51.775Z"
   },
   {
    "duration": 14,
    "start_time": "2022-05-21T13:08:55.822Z"
   },
   {
    "duration": 13,
    "start_time": "2022-05-21T13:08:59.466Z"
   },
   {
    "duration": 13,
    "start_time": "2022-05-21T13:09:02.386Z"
   },
   {
    "duration": 13,
    "start_time": "2022-05-21T13:09:05.870Z"
   },
   {
    "duration": 5,
    "start_time": "2022-05-21T13:09:09.766Z"
   },
   {
    "duration": 12,
    "start_time": "2022-05-21T13:09:14.200Z"
   },
   {
    "duration": 13,
    "start_time": "2022-05-21T13:09:18.035Z"
   },
   {
    "duration": 13,
    "start_time": "2022-05-21T13:09:20.831Z"
   },
   {
    "duration": 13,
    "start_time": "2022-05-21T13:09:25.307Z"
   },
   {
    "duration": 13,
    "start_time": "2022-05-21T13:09:29.858Z"
   },
   {
    "duration": 13,
    "start_time": "2022-05-21T13:10:10.281Z"
   },
   {
    "duration": 44,
    "start_time": "2022-05-21T13:10:22.767Z"
   },
   {
    "duration": 62,
    "start_time": "2022-05-21T13:10:30.083Z"
   },
   {
    "duration": 44,
    "start_time": "2022-05-21T13:19:10.156Z"
   },
   {
    "duration": 33,
    "start_time": "2022-05-21T13:24:21.657Z"
   },
   {
    "duration": 110,
    "start_time": "2022-05-21T13:24:27.457Z"
   },
   {
    "duration": 117,
    "start_time": "2022-05-21T13:24:47.979Z"
   },
   {
    "duration": 114,
    "start_time": "2022-05-21T13:25:31.107Z"
   },
   {
    "duration": 277,
    "start_time": "2022-05-21T13:29:37.771Z"
   },
   {
    "duration": 275,
    "start_time": "2022-05-21T13:29:49.309Z"
   },
   {
    "duration": 30,
    "start_time": "2022-05-21T13:30:14.160Z"
   },
   {
    "duration": 32,
    "start_time": "2022-05-21T13:30:21.448Z"
   },
   {
    "duration": 282,
    "start_time": "2022-05-21T13:30:23.918Z"
   },
   {
    "duration": 281,
    "start_time": "2022-05-21T13:30:53.313Z"
   },
   {
    "duration": 3556,
    "start_time": "2022-05-21T13:30:58.656Z"
   },
   {
    "duration": 5107,
    "start_time": "2022-05-21T13:31:22.764Z"
   },
   {
    "duration": 5274,
    "start_time": "2022-05-21T13:31:44.471Z"
   },
   {
    "duration": 5352,
    "start_time": "2022-05-21T13:33:44.459Z"
   },
   {
    "duration": 11,
    "start_time": "2022-05-21T13:34:07.075Z"
   },
   {
    "duration": 111,
    "start_time": "2022-05-21T13:36:09.180Z"
   },
   {
    "duration": 110,
    "start_time": "2022-05-21T13:36:16.670Z"
   },
   {
    "duration": 490,
    "start_time": "2022-05-21T13:36:48.725Z"
   },
   {
    "duration": 472,
    "start_time": "2022-05-21T13:37:01.692Z"
   },
   {
    "duration": 478,
    "start_time": "2022-05-21T13:37:29.864Z"
   },
   {
    "duration": 27,
    "start_time": "2022-05-21T13:37:58.954Z"
   },
   {
    "duration": 478,
    "start_time": "2022-05-21T13:38:18.583Z"
   },
   {
    "duration": 5379,
    "start_time": "2022-05-21T13:38:33.260Z"
   },
   {
    "duration": 11,
    "start_time": "2022-05-21T13:38:57.716Z"
   },
   {
    "duration": 11,
    "start_time": "2022-05-21T13:39:13.269Z"
   },
   {
    "duration": 10,
    "start_time": "2022-05-21T13:39:34.477Z"
   },
   {
    "duration": 5,
    "start_time": "2022-05-21T13:43:00.053Z"
   },
   {
    "duration": 1403,
    "start_time": "2022-05-21T13:43:09.365Z"
   },
   {
    "duration": 43,
    "start_time": "2022-05-21T13:43:10.772Z"
   },
   {
    "duration": 25,
    "start_time": "2022-05-21T13:43:10.817Z"
   },
   {
    "duration": 20,
    "start_time": "2022-05-21T13:43:10.844Z"
   },
   {
    "duration": 1397,
    "start_time": "2022-05-21T13:43:10.866Z"
   },
   {
    "duration": 14,
    "start_time": "2022-05-21T13:43:12.265Z"
   },
   {
    "duration": 88,
    "start_time": "2022-05-21T13:43:12.281Z"
   },
   {
    "duration": 470,
    "start_time": "2022-05-21T13:43:12.370Z"
   },
   {
    "duration": 5544,
    "start_time": "2022-05-21T13:43:12.841Z"
   },
   {
    "duration": 12,
    "start_time": "2022-05-21T13:43:18.388Z"
   },
   {
    "duration": 44,
    "start_time": "2022-05-21T13:47:29.916Z"
   },
   {
    "duration": 35,
    "start_time": "2022-05-21T13:48:29.169Z"
   },
   {
    "duration": 7,
    "start_time": "2022-05-21T14:00:18.646Z"
   },
   {
    "duration": 484,
    "start_time": "2022-05-21T14:00:30.202Z"
   },
   {
    "duration": 5350,
    "start_time": "2022-05-21T14:00:33.942Z"
   },
   {
    "duration": 9,
    "start_time": "2022-05-21T14:01:22.445Z"
   },
   {
    "duration": 127,
    "start_time": "2022-05-21T14:02:02.585Z"
   },
   {
    "duration": 11,
    "start_time": "2022-05-21T14:02:25.650Z"
   },
   {
    "duration": 13,
    "start_time": "2022-05-21T14:02:31.347Z"
   },
   {
    "duration": 10,
    "start_time": "2022-05-21T14:02:35.592Z"
   },
   {
    "duration": 18,
    "start_time": "2022-05-21T14:03:34.419Z"
   },
   {
    "duration": 34,
    "start_time": "2022-05-21T14:03:57.794Z"
   },
   {
    "duration": 35,
    "start_time": "2022-05-21T14:04:05.288Z"
   },
   {
    "duration": 9,
    "start_time": "2022-05-21T14:04:29.266Z"
   },
   {
    "duration": 33,
    "start_time": "2022-05-21T14:05:50.136Z"
   },
   {
    "duration": 104274,
    "start_time": "2022-05-21T14:10:18.009Z"
   },
   {
    "duration": 232116,
    "start_time": "2022-05-21T14:12:08.244Z"
   },
   {
    "duration": 15,
    "start_time": "2022-05-21T14:16:53.515Z"
   },
   {
    "duration": 12,
    "start_time": "2022-05-21T20:29:40.889Z"
   },
   {
    "duration": 636,
    "start_time": "2022-05-21T20:30:23.351Z"
   },
   {
    "duration": 297,
    "start_time": "2022-05-21T20:30:27.461Z"
   },
   {
    "duration": 269,
    "start_time": "2022-05-21T20:30:40.266Z"
   },
   {
    "duration": 391,
    "start_time": "2022-05-21T20:30:53.025Z"
   },
   {
    "duration": 295,
    "start_time": "2022-05-21T20:31:20.416Z"
   },
   {
    "duration": 269,
    "start_time": "2022-05-21T20:31:40.907Z"
   },
   {
    "duration": 321,
    "start_time": "2022-05-21T20:32:04.387Z"
   },
   {
    "duration": 344,
    "start_time": "2022-05-21T20:32:08.361Z"
   },
   {
    "duration": 412,
    "start_time": "2022-05-21T20:32:11.716Z"
   },
   {
    "duration": 281,
    "start_time": "2022-05-21T20:32:16.680Z"
   },
   {
    "duration": 301,
    "start_time": "2022-05-21T20:32:21.866Z"
   },
   {
    "duration": 170,
    "start_time": "2022-05-21T20:32:49.806Z"
   },
   {
    "duration": 386,
    "start_time": "2022-05-21T20:35:55.924Z"
   },
   {
    "duration": 193,
    "start_time": "2022-05-21T20:37:47.720Z"
   },
   {
    "duration": 199,
    "start_time": "2022-05-21T20:39:18.261Z"
   },
   {
    "duration": 14,
    "start_time": "2022-05-21T20:40:34.081Z"
   },
   {
    "duration": 465,
    "start_time": "2022-05-21T20:41:25.160Z"
   },
   {
    "duration": 316,
    "start_time": "2022-05-21T20:42:03.818Z"
   },
   {
    "duration": 164338,
    "start_time": "2022-05-21T20:43:42.085Z"
   },
   {
    "duration": 8,
    "start_time": "2022-05-21T20:46:57.492Z"
   },
   {
    "duration": 236,
    "start_time": "2022-05-21T20:47:23.978Z"
   },
   {
    "duration": 306,
    "start_time": "2022-05-21T20:47:41.493Z"
   },
   {
    "duration": 197,
    "start_time": "2022-05-21T20:47:55.176Z"
   },
   {
    "duration": 204,
    "start_time": "2022-05-21T20:48:01.947Z"
   },
   {
    "duration": 20,
    "start_time": "2022-05-21T20:48:08.095Z"
   },
   {
    "duration": 216,
    "start_time": "2022-05-21T20:48:09.014Z"
   },
   {
    "duration": 235,
    "start_time": "2022-05-21T20:48:10.402Z"
   },
   {
    "duration": 195,
    "start_time": "2022-05-21T20:48:30.680Z"
   },
   {
    "duration": 14,
    "start_time": "2022-05-21T20:48:36.003Z"
   },
   {
    "duration": 271,
    "start_time": "2022-05-21T20:48:39.069Z"
   },
   {
    "duration": 20,
    "start_time": "2022-05-21T20:48:45.454Z"
   },
   {
    "duration": 181,
    "start_time": "2022-05-21T20:48:50.363Z"
   },
   {
    "duration": 313,
    "start_time": "2022-05-21T20:48:52.282Z"
   },
   {
    "duration": 21,
    "start_time": "2022-05-21T20:48:59.909Z"
   },
   {
    "duration": 182,
    "start_time": "2022-05-21T20:49:00.754Z"
   },
   {
    "duration": 207,
    "start_time": "2022-05-21T20:49:01.904Z"
   },
   {
    "duration": 202,
    "start_time": "2022-05-21T20:49:03.266Z"
   },
   {
    "duration": 13,
    "start_time": "2022-05-21T20:49:05.701Z"
   },
   {
    "duration": 270,
    "start_time": "2022-05-21T20:49:07.586Z"
   },
   {
    "duration": 183,
    "start_time": "2022-05-21T20:49:31.397Z"
   },
   {
    "duration": 21,
    "start_time": "2022-05-21T20:49:33.683Z"
   },
   {
    "duration": 195,
    "start_time": "2022-05-21T20:49:35.063Z"
   },
   {
    "duration": 183,
    "start_time": "2022-05-21T20:49:37.232Z"
   },
   {
    "duration": 190,
    "start_time": "2022-05-21T20:49:42.973Z"
   },
   {
    "duration": 19,
    "start_time": "2022-05-21T20:49:50.646Z"
   },
   {
    "duration": 175,
    "start_time": "2022-05-21T20:49:51.609Z"
   },
   {
    "duration": 308,
    "start_time": "2022-05-21T20:49:52.742Z"
   },
   {
    "duration": 188,
    "start_time": "2022-05-21T20:49:54.095Z"
   },
   {
    "duration": 12,
    "start_time": "2022-05-21T20:49:56.612Z"
   },
   {
    "duration": 244,
    "start_time": "2022-05-21T20:49:58.472Z"
   },
   {
    "duration": 9,
    "start_time": "2022-05-21T20:50:01.084Z"
   },
   {
    "duration": 6,
    "start_time": "2022-05-21T20:50:10.850Z"
   },
   {
    "duration": 23,
    "start_time": "2022-05-21T20:50:30.495Z"
   },
   {
    "duration": 173,
    "start_time": "2022-05-21T20:50:31.536Z"
   },
   {
    "duration": 184,
    "start_time": "2022-05-21T20:50:37.440Z"
   },
   {
    "duration": 189,
    "start_time": "2022-05-21T20:50:40.161Z"
   },
   {
    "duration": 12,
    "start_time": "2022-05-21T20:50:41.839Z"
   },
   {
    "duration": 256,
    "start_time": "2022-05-21T20:50:43.538Z"
   },
   {
    "duration": 8,
    "start_time": "2022-05-21T20:50:48.305Z"
   },
   {
    "duration": 9,
    "start_time": "2022-05-21T20:51:17.182Z"
   },
   {
    "duration": 8,
    "start_time": "2022-05-21T20:51:29.795Z"
   },
   {
    "duration": 10,
    "start_time": "2022-05-21T20:51:30.881Z"
   },
   {
    "duration": 20,
    "start_time": "2022-05-21T20:51:46.936Z"
   },
   {
    "duration": 165,
    "start_time": "2022-05-21T20:51:47.616Z"
   },
   {
    "duration": 235,
    "start_time": "2022-05-21T20:51:48.748Z"
   },
   {
    "duration": 222,
    "start_time": "2022-05-21T20:51:49.962Z"
   },
   {
    "duration": 11,
    "start_time": "2022-05-21T20:51:51.778Z"
   },
   {
    "duration": 233,
    "start_time": "2022-05-21T20:51:53.464Z"
   },
   {
    "duration": 9,
    "start_time": "2022-05-21T20:51:55.012Z"
   },
   {
    "duration": 8,
    "start_time": "2022-05-21T20:51:57.082Z"
   },
   {
    "duration": 18,
    "start_time": "2022-05-21T20:52:07.495Z"
   },
   {
    "duration": 231,
    "start_time": "2022-05-21T20:52:10.822Z"
   },
   {
    "duration": 337,
    "start_time": "2022-05-21T20:52:12.291Z"
   },
   {
    "duration": 12,
    "start_time": "2022-05-21T20:52:14.143Z"
   },
   {
    "duration": 331,
    "start_time": "2022-05-21T20:52:17.494Z"
   },
   {
    "duration": 9,
    "start_time": "2022-05-21T20:52:25.109Z"
   },
   {
    "duration": 19,
    "start_time": "2022-05-21T20:52:41.640Z"
   },
   {
    "duration": 187,
    "start_time": "2022-05-21T20:52:45.954Z"
   },
   {
    "duration": 182,
    "start_time": "2022-05-21T20:52:47.141Z"
   },
   {
    "duration": 213,
    "start_time": "2022-05-21T20:52:50.060Z"
   },
   {
    "duration": 13,
    "start_time": "2022-05-21T20:52:52.863Z"
   },
   {
    "duration": 258,
    "start_time": "2022-05-21T20:52:55.355Z"
   },
   {
    "duration": 8,
    "start_time": "2022-05-21T20:52:58.547Z"
   },
   {
    "duration": 21,
    "start_time": "2022-05-21T20:53:09.038Z"
   },
   {
    "duration": 185,
    "start_time": "2022-05-21T20:53:09.801Z"
   },
   {
    "duration": 182,
    "start_time": "2022-05-21T20:53:11.286Z"
   },
   {
    "duration": 197,
    "start_time": "2022-05-21T20:53:12.920Z"
   },
   {
    "duration": 14,
    "start_time": "2022-05-21T20:53:14.337Z"
   },
   {
    "duration": 259,
    "start_time": "2022-05-21T20:53:15.635Z"
   },
   {
    "duration": 9,
    "start_time": "2022-05-21T20:53:17.277Z"
   },
   {
    "duration": 8,
    "start_time": "2022-05-21T20:53:20.337Z"
   },
   {
    "duration": 24,
    "start_time": "2022-05-21T20:53:28.655Z"
   },
   {
    "duration": 182,
    "start_time": "2022-05-21T20:53:29.339Z"
   },
   {
    "duration": 223,
    "start_time": "2022-05-21T20:53:30.462Z"
   },
   {
    "duration": 221,
    "start_time": "2022-05-21T20:53:31.787Z"
   },
   {
    "duration": 15,
    "start_time": "2022-05-21T20:53:33.145Z"
   },
   {
    "duration": 258,
    "start_time": "2022-05-21T20:53:34.436Z"
   },
   {
    "duration": 8,
    "start_time": "2022-05-21T20:53:36.851Z"
   },
   {
    "duration": 19,
    "start_time": "2022-05-21T20:53:45.180Z"
   },
   {
    "duration": 303,
    "start_time": "2022-05-21T20:53:46.377Z"
   },
   {
    "duration": 193,
    "start_time": "2022-05-21T20:53:49.287Z"
   },
   {
    "duration": 12,
    "start_time": "2022-05-21T20:53:50.684Z"
   },
   {
    "duration": 287,
    "start_time": "2022-05-21T20:53:53.007Z"
   },
   {
    "duration": 9,
    "start_time": "2022-05-21T20:53:55.555Z"
   },
   {
    "duration": 20,
    "start_time": "2022-05-21T20:54:11.957Z"
   },
   {
    "duration": 190,
    "start_time": "2022-05-21T20:54:13.050Z"
   },
   {
    "duration": 196,
    "start_time": "2022-05-21T20:54:14.694Z"
   },
   {
    "duration": 13,
    "start_time": "2022-05-21T20:54:16.769Z"
   },
   {
    "duration": 288,
    "start_time": "2022-05-21T20:54:18.304Z"
   },
   {
    "duration": 8,
    "start_time": "2022-05-21T20:54:19.892Z"
   },
   {
    "duration": 184,
    "start_time": "2022-05-21T20:54:29.596Z"
   },
   {
    "duration": 12,
    "start_time": "2022-05-21T20:54:34.430Z"
   },
   {
    "duration": 262,
    "start_time": "2022-05-21T20:54:38.184Z"
   },
   {
    "duration": 8,
    "start_time": "2022-05-21T20:54:40.734Z"
   },
   {
    "duration": 19,
    "start_time": "2022-05-21T20:54:44.694Z"
   },
   {
    "duration": 168,
    "start_time": "2022-05-21T20:54:45.484Z"
   },
   {
    "duration": 182,
    "start_time": "2022-05-21T20:54:46.722Z"
   },
   {
    "duration": 190,
    "start_time": "2022-05-21T20:54:47.982Z"
   },
   {
    "duration": 11,
    "start_time": "2022-05-21T20:54:49.283Z"
   },
   {
    "duration": 248,
    "start_time": "2022-05-21T20:54:51.417Z"
   },
   {
    "duration": 10,
    "start_time": "2022-05-21T20:54:54.160Z"
   },
   {
    "duration": 8,
    "start_time": "2022-05-21T20:54:56.806Z"
   },
   {
    "duration": 19,
    "start_time": "2022-05-21T20:55:06.465Z"
   },
   {
    "duration": 173,
    "start_time": "2022-05-21T20:55:07.836Z"
   },
   {
    "duration": 285,
    "start_time": "2022-05-21T20:55:09.111Z"
   },
   {
    "duration": 205,
    "start_time": "2022-05-21T20:55:10.455Z"
   },
   {
    "duration": 12,
    "start_time": "2022-05-21T20:55:12.269Z"
   },
   {
    "duration": 285,
    "start_time": "2022-05-21T20:55:13.558Z"
   },
   {
    "duration": 9,
    "start_time": "2022-05-21T20:55:17.566Z"
   },
   {
    "duration": 22,
    "start_time": "2022-05-21T20:55:56.000Z"
   },
   {
    "duration": 168,
    "start_time": "2022-05-21T20:55:56.918Z"
   },
   {
    "duration": 205,
    "start_time": "2022-05-21T20:55:58.753Z"
   },
   {
    "duration": 197,
    "start_time": "2022-05-21T20:56:00.639Z"
   },
   {
    "duration": 195,
    "start_time": "2022-05-21T20:56:02.819Z"
   },
   {
    "duration": 13,
    "start_time": "2022-05-21T20:56:04.792Z"
   },
   {
    "duration": 217,
    "start_time": "2022-05-21T20:56:06.496Z"
   },
   {
    "duration": 10,
    "start_time": "2022-05-21T20:56:08.048Z"
   },
   {
    "duration": 11,
    "start_time": "2022-05-21T20:56:33.445Z"
   },
   {
    "duration": 218,
    "start_time": "2022-05-21T20:56:35.044Z"
   },
   {
    "duration": 9,
    "start_time": "2022-05-21T20:56:36.466Z"
   },
   {
    "duration": 24,
    "start_time": "2022-05-21T20:56:38.955Z"
   },
   {
    "duration": 187,
    "start_time": "2022-05-21T20:56:40.166Z"
   },
   {
    "duration": 199,
    "start_time": "2022-05-21T20:56:41.695Z"
   },
   {
    "duration": 330,
    "start_time": "2022-05-21T20:56:43.383Z"
   },
   {
    "duration": 208,
    "start_time": "2022-05-21T20:56:44.849Z"
   },
   {
    "duration": 16,
    "start_time": "2022-05-21T20:56:46.340Z"
   },
   {
    "duration": 252,
    "start_time": "2022-05-21T20:56:55.099Z"
   },
   {
    "duration": 11,
    "start_time": "2022-05-21T20:57:00.319Z"
   },
   {
    "duration": 13,
    "start_time": "2022-05-21T20:57:28.039Z"
   },
   {
    "duration": 178,
    "start_time": "2022-05-21T20:57:30.047Z"
   },
   {
    "duration": 8,
    "start_time": "2022-05-21T20:57:31.548Z"
   },
   {
    "duration": 26,
    "start_time": "2022-05-21T20:57:44.446Z"
   },
   {
    "duration": 17,
    "start_time": "2022-05-21T20:57:48.944Z"
   },
   {
    "duration": 335,
    "start_time": "2022-05-21T20:57:50.282Z"
   },
   {
    "duration": 8,
    "start_time": "2022-05-21T20:57:52.246Z"
   },
   {
    "duration": 12,
    "start_time": "2022-05-21T20:57:54.194Z"
   },
   {
    "duration": 19,
    "start_time": "2022-05-21T20:58:13.009Z"
   },
   {
    "duration": 19,
    "start_time": "2022-05-21T20:58:25.754Z"
   },
   {
    "duration": 22,
    "start_time": "2022-05-21T20:58:42.564Z"
   },
   {
    "duration": 199,
    "start_time": "2022-05-21T20:58:43.506Z"
   },
   {
    "duration": 23,
    "start_time": "2022-05-21T20:58:45.445Z"
   },
   {
    "duration": 13,
    "start_time": "2022-05-21T20:58:48.703Z"
   },
   {
    "duration": 319,
    "start_time": "2022-05-21T20:58:50.666Z"
   },
   {
    "duration": 8,
    "start_time": "2022-05-21T20:58:52.459Z"
   },
   {
    "duration": 8,
    "start_time": "2022-05-21T20:58:54.995Z"
   },
   {
    "duration": 10,
    "start_time": "2022-05-21T20:59:09.939Z"
   },
   {
    "duration": 21,
    "start_time": "2022-05-21T20:59:30.851Z"
   },
   {
    "duration": 15,
    "start_time": "2022-05-21T20:59:35.723Z"
   },
   {
    "duration": 194,
    "start_time": "2022-05-21T20:59:38.251Z"
   },
   {
    "duration": 9,
    "start_time": "2022-05-21T20:59:40.204Z"
   },
   {
    "duration": 23,
    "start_time": "2022-05-21T21:00:09.347Z"
   },
   {
    "duration": 12,
    "start_time": "2022-05-21T21:00:13.213Z"
   },
   {
    "duration": 204,
    "start_time": "2022-05-21T21:00:14.309Z"
   },
   {
    "duration": 17,
    "start_time": "2022-05-21T21:00:52.737Z"
   },
   {
    "duration": 22,
    "start_time": "2022-05-21T21:00:55.494Z"
   },
   {
    "duration": 13,
    "start_time": "2022-05-21T21:00:57.765Z"
   },
   {
    "duration": 305,
    "start_time": "2022-05-21T21:00:59.830Z"
   },
   {
    "duration": 19,
    "start_time": "2022-05-21T21:01:47.911Z"
   },
   {
    "duration": 14,
    "start_time": "2022-05-21T21:01:50.452Z"
   },
   {
    "duration": 440,
    "start_time": "2022-05-21T21:01:51.979Z"
   },
   {
    "duration": 9,
    "start_time": "2022-05-21T21:01:53.449Z"
   },
   {
    "duration": 19,
    "start_time": "2022-05-21T21:02:18.604Z"
   },
   {
    "duration": 13,
    "start_time": "2022-05-21T21:02:20.683Z"
   },
   {
    "duration": 178,
    "start_time": "2022-05-21T21:02:22.515Z"
   },
   {
    "duration": 8,
    "start_time": "2022-05-21T21:02:24.460Z"
   },
   {
    "duration": 12,
    "start_time": "2022-05-21T21:02:39.533Z"
   },
   {
    "duration": 258,
    "start_time": "2022-05-21T21:02:41.259Z"
   },
   {
    "duration": 9,
    "start_time": "2022-05-21T21:02:42.677Z"
   },
   {
    "duration": 21,
    "start_time": "2022-05-21T21:02:45.263Z"
   },
   {
    "duration": 14,
    "start_time": "2022-05-21T21:02:48.552Z"
   },
   {
    "duration": 252,
    "start_time": "2022-05-21T21:02:50.344Z"
   },
   {
    "duration": 8,
    "start_time": "2022-05-21T21:02:51.887Z"
   },
   {
    "duration": 19,
    "start_time": "2022-05-21T21:03:01.730Z"
   },
   {
    "duration": 12,
    "start_time": "2022-05-21T21:03:03.986Z"
   },
   {
    "duration": 254,
    "start_time": "2022-05-21T21:03:05.517Z"
   },
   {
    "duration": 8,
    "start_time": "2022-05-21T21:03:06.975Z"
   },
   {
    "duration": 19,
    "start_time": "2022-05-21T21:03:19.347Z"
   },
   {
    "duration": 13,
    "start_time": "2022-05-21T21:03:21.669Z"
   },
   {
    "duration": 176,
    "start_time": "2022-05-21T21:03:23.889Z"
   },
   {
    "duration": 18,
    "start_time": "2022-05-21T21:03:50.467Z"
   },
   {
    "duration": 12,
    "start_time": "2022-05-21T21:03:52.519Z"
   },
   {
    "duration": 437,
    "start_time": "2022-05-21T21:03:53.842Z"
   },
   {
    "duration": 9,
    "start_time": "2022-05-21T21:03:55.317Z"
   },
   {
    "duration": 19,
    "start_time": "2022-05-21T21:04:08.261Z"
   },
   {
    "duration": 16,
    "start_time": "2022-05-21T21:04:10.284Z"
   },
   {
    "duration": 397,
    "start_time": "2022-05-21T21:04:11.484Z"
   },
   {
    "duration": 13,
    "start_time": "2022-05-21T21:04:38.584Z"
   },
   {
    "duration": 18,
    "start_time": "2022-05-21T21:04:41.483Z"
   },
   {
    "duration": 12,
    "start_time": "2022-05-21T21:04:43.258Z"
   },
   {
    "duration": 356,
    "start_time": "2022-05-21T21:04:44.818Z"
   },
   {
    "duration": 20,
    "start_time": "2022-05-21T21:05:08.766Z"
   },
   {
    "duration": 12,
    "start_time": "2022-05-21T21:05:10.854Z"
   },
   {
    "duration": 352,
    "start_time": "2022-05-21T21:05:12.649Z"
   },
   {
    "duration": 9,
    "start_time": "2022-05-21T21:05:18.363Z"
   },
   {
    "duration": 19,
    "start_time": "2022-05-21T21:05:35.384Z"
   },
   {
    "duration": 176,
    "start_time": "2022-05-21T21:05:36.311Z"
   },
   {
    "duration": 13,
    "start_time": "2022-05-21T21:05:40.447Z"
   },
   {
    "duration": 268,
    "start_time": "2022-05-21T21:05:41.975Z"
   },
   {
    "duration": 22,
    "start_time": "2022-05-21T21:05:51.333Z"
   },
   {
    "duration": 192,
    "start_time": "2022-05-21T21:05:52.131Z"
   },
   {
    "duration": 12,
    "start_time": "2022-05-21T21:05:54.877Z"
   },
   {
    "duration": 271,
    "start_time": "2022-05-21T21:05:56.165Z"
   },
   {
    "duration": 20,
    "start_time": "2022-05-21T21:06:05.246Z"
   },
   {
    "duration": 176,
    "start_time": "2022-05-21T21:06:06.052Z"
   },
   {
    "duration": 13,
    "start_time": "2022-05-21T21:06:09.338Z"
   },
   {
    "duration": 265,
    "start_time": "2022-05-21T21:06:10.823Z"
   },
   {
    "duration": 19,
    "start_time": "2022-05-21T21:06:39.193Z"
   },
   {
    "duration": 25,
    "start_time": "2022-05-21T21:07:00.976Z"
   },
   {
    "duration": 209,
    "start_time": "2022-05-21T21:07:01.566Z"
   },
   {
    "duration": 12,
    "start_time": "2022-05-21T21:07:04.139Z"
   },
   {
    "duration": 274,
    "start_time": "2022-05-21T21:07:05.563Z"
   },
   {
    "duration": 9,
    "start_time": "2022-05-21T21:07:08.777Z"
   },
   {
    "duration": 20,
    "start_time": "2022-05-21T21:07:13.831Z"
   },
   {
    "duration": 14,
    "start_time": "2022-05-21T21:07:16.845Z"
   },
   {
    "duration": 347,
    "start_time": "2022-05-21T21:07:17.731Z"
   },
   {
    "duration": 11,
    "start_time": "2022-05-21T21:07:19.027Z"
   },
   {
    "duration": 20,
    "start_time": "2022-05-21T21:07:55.051Z"
   },
   {
    "duration": 191,
    "start_time": "2022-05-21T21:08:02.709Z"
   },
   {
    "duration": 13,
    "start_time": "2022-05-21T21:08:05.243Z"
   },
   {
    "duration": 361,
    "start_time": "2022-05-21T21:08:06.837Z"
   },
   {
    "duration": 9,
    "start_time": "2022-05-21T21:08:10.079Z"
   },
   {
    "duration": 20,
    "start_time": "2022-05-21T21:08:17.380Z"
   },
   {
    "duration": 19,
    "start_time": "2022-05-21T21:08:27.528Z"
   },
   {
    "duration": 312,
    "start_time": "2022-05-21T21:08:29.526Z"
   },
   {
    "duration": 13,
    "start_time": "2022-05-21T21:08:41.400Z"
   },
   {
    "duration": 335,
    "start_time": "2022-05-21T21:08:43.564Z"
   },
   {
    "duration": 11,
    "start_time": "2022-05-21T21:08:48.851Z"
   },
   {
    "duration": 21,
    "start_time": "2022-05-21T21:08:56.025Z"
   },
   {
    "duration": 139,
    "start_time": "2022-05-21T21:09:10.511Z"
   },
   {
    "duration": 13,
    "start_time": "2022-05-21T21:09:12.978Z"
   },
   {
    "duration": 362,
    "start_time": "2022-05-21T21:09:14.626Z"
   },
   {
    "duration": 9,
    "start_time": "2022-05-21T21:09:18.236Z"
   },
   {
    "duration": 18,
    "start_time": "2022-05-21T21:09:34.130Z"
   },
   {
    "duration": 178,
    "start_time": "2022-05-21T21:09:35.580Z"
   },
   {
    "duration": 12,
    "start_time": "2022-05-21T21:09:39.847Z"
   },
   {
    "duration": 304,
    "start_time": "2022-05-21T21:09:41.342Z"
   },
   {
    "duration": 20,
    "start_time": "2022-05-21T21:09:47.261Z"
   },
   {
    "duration": 14,
    "start_time": "2022-05-21T21:09:52.079Z"
   },
   {
    "duration": 348,
    "start_time": "2022-05-21T21:09:53.044Z"
   },
   {
    "duration": 9,
    "start_time": "2022-05-21T21:09:54.932Z"
   },
   {
    "duration": 22,
    "start_time": "2022-05-21T21:10:01.992Z"
   },
   {
    "duration": 179,
    "start_time": "2022-05-21T21:10:03.357Z"
   },
   {
    "duration": 14,
    "start_time": "2022-05-21T21:10:04.751Z"
   },
   {
    "duration": 315,
    "start_time": "2022-05-21T21:10:05.847Z"
   },
   {
    "duration": 11,
    "start_time": "2022-05-21T21:10:12.148Z"
   },
   {
    "duration": 20,
    "start_time": "2022-05-21T21:10:27.047Z"
   },
   {
    "duration": 21,
    "start_time": "2022-05-21T21:10:40.565Z"
   },
   {
    "duration": 199,
    "start_time": "2022-05-21T21:10:41.250Z"
   },
   {
    "duration": 14,
    "start_time": "2022-05-21T21:10:42.282Z"
   },
   {
    "duration": 312,
    "start_time": "2022-05-21T21:10:43.522Z"
   },
   {
    "duration": 9,
    "start_time": "2022-05-21T21:10:45.314Z"
   },
   {
    "duration": 21,
    "start_time": "2022-05-21T21:10:52.134Z"
   },
   {
    "duration": 210,
    "start_time": "2022-05-21T21:10:53.903Z"
   },
   {
    "duration": 13,
    "start_time": "2022-05-21T21:10:55.535Z"
   },
   {
    "duration": 317,
    "start_time": "2022-05-21T21:10:56.664Z"
   },
   {
    "duration": 11,
    "start_time": "2022-05-21T21:10:58.239Z"
   },
   {
    "duration": 21,
    "start_time": "2022-05-21T21:11:16.403Z"
   },
   {
    "duration": 208,
    "start_time": "2022-05-21T21:11:18.691Z"
   },
   {
    "duration": 15,
    "start_time": "2022-05-21T21:11:20.575Z"
   },
   {
    "duration": 321,
    "start_time": "2022-05-21T21:11:21.750Z"
   },
   {
    "duration": 9,
    "start_time": "2022-05-21T21:11:23.981Z"
   },
   {
    "duration": 28,
    "start_time": "2022-05-21T21:11:26.566Z"
   },
   {
    "duration": 15,
    "start_time": "2022-05-21T21:11:31.538Z"
   },
   {
    "duration": 340,
    "start_time": "2022-05-21T21:11:32.588Z"
   },
   {
    "duration": 10,
    "start_time": "2022-05-21T21:11:34.453Z"
   },
   {
    "duration": 8,
    "start_time": "2022-05-21T21:13:29.754Z"
   },
   {
    "duration": 19,
    "start_time": "2022-05-21T21:13:37.598Z"
   },
   {
    "duration": 12,
    "start_time": "2022-05-21T21:13:38.197Z"
   },
   {
    "duration": 354,
    "start_time": "2022-05-21T21:13:39.285Z"
   },
   {
    "duration": 12,
    "start_time": "2022-05-21T21:13:40.552Z"
   },
   {
    "duration": 179119,
    "start_time": "2022-05-21T21:15:33.842Z"
   },
   {
    "duration": 18,
    "start_time": "2022-05-21T21:18:39.127Z"
   },
   {
    "duration": 36,
    "start_time": "2022-05-21T21:23:28.867Z"
   },
   {
    "duration": 26,
    "start_time": "2022-05-21T21:23:39.958Z"
   },
   {
    "duration": 19,
    "start_time": "2022-05-21T21:27:51.632Z"
   },
   {
    "duration": 189,
    "start_time": "2022-05-21T21:29:19.513Z"
   },
   {
    "duration": 10,
    "start_time": "2022-05-21T21:30:00.672Z"
   },
   {
    "duration": 5,
    "start_time": "2022-05-21T21:30:11.500Z"
   },
   {
    "duration": 48,
    "start_time": "2022-05-21T21:30:58.933Z"
   },
   {
    "duration": 3,
    "start_time": "2022-05-21T21:31:09.663Z"
   },
   {
    "duration": 377,
    "start_time": "2022-05-21T21:31:26.814Z"
   },
   {
    "duration": 3,
    "start_time": "2022-05-21T21:31:47.884Z"
   },
   {
    "duration": 67,
    "start_time": "2022-05-22T11:36:07.875Z"
   },
   {
    "duration": 1439,
    "start_time": "2022-05-22T11:36:07.975Z"
   },
   {
    "duration": 39,
    "start_time": "2022-05-22T11:36:09.416Z"
   },
   {
    "duration": 27,
    "start_time": "2022-05-22T11:36:09.457Z"
   },
   {
    "duration": 6,
    "start_time": "2022-05-22T11:36:09.486Z"
   },
   {
    "duration": 1339,
    "start_time": "2022-05-22T11:36:09.494Z"
   },
   {
    "duration": 12,
    "start_time": "2022-05-22T11:36:10.835Z"
   },
   {
    "duration": 73,
    "start_time": "2022-05-22T11:36:10.848Z"
   },
   {
    "duration": 474,
    "start_time": "2022-05-22T11:36:10.923Z"
   },
   {
    "duration": 5442,
    "start_time": "2022-05-22T11:36:11.399Z"
   },
   {
    "duration": 21,
    "start_time": "2022-05-22T11:36:16.844Z"
   },
   {
    "duration": 34,
    "start_time": "2022-05-22T11:36:16.867Z"
   },
   {
    "duration": 9,
    "start_time": "2022-05-22T11:36:16.903Z"
   },
   {
    "duration": 17,
    "start_time": "2022-05-22T11:36:16.914Z"
   },
   {
    "duration": 37,
    "start_time": "2022-05-22T11:36:16.933Z"
   },
   {
    "duration": 235345,
    "start_time": "2022-05-22T11:36:16.973Z"
   },
   {
    "duration": 14,
    "start_time": "2022-05-22T11:40:12.320Z"
   },
   {
    "duration": 157,
    "start_time": "2022-05-22T11:40:12.335Z"
   },
   {
    "duration": 13,
    "start_time": "2022-05-22T11:40:12.494Z"
   },
   {
    "duration": 347,
    "start_time": "2022-05-22T11:40:12.508Z"
   },
   {
    "duration": 12,
    "start_time": "2022-05-22T11:40:12.857Z"
   },
   {
    "duration": 173290,
    "start_time": "2022-05-22T11:40:12.870Z"
   },
   {
    "duration": 23,
    "start_time": "2022-05-22T11:43:06.164Z"
   },
   {
    "duration": 218,
    "start_time": "2022-05-22T11:43:06.189Z"
   },
   {
    "duration": 4,
    "start_time": "2022-05-22T11:43:06.408Z"
   },
   {
    "duration": 5,
    "start_time": "2022-05-22T11:44:21.482Z"
   },
   {
    "duration": 4,
    "start_time": "2022-05-22T11:50:22.863Z"
   },
   {
    "duration": 162,
    "start_time": "2022-05-22T11:50:22.869Z"
   },
   {
    "duration": 25,
    "start_time": "2022-05-22T11:50:23.032Z"
   },
   {
    "duration": 6,
    "start_time": "2022-05-22T11:50:23.059Z"
   },
   {
    "duration": 1363,
    "start_time": "2022-05-22T11:50:23.068Z"
   },
   {
    "duration": 14,
    "start_time": "2022-05-22T11:50:24.433Z"
   },
   {
    "duration": 74,
    "start_time": "2022-05-22T11:50:24.449Z"
   },
   {
    "duration": 481,
    "start_time": "2022-05-22T11:50:24.525Z"
   },
   {
    "duration": 5545,
    "start_time": "2022-05-22T11:50:25.009Z"
   },
   {
    "duration": 16,
    "start_time": "2022-05-22T11:50:30.556Z"
   },
   {
    "duration": 64,
    "start_time": "2022-05-22T11:50:30.574Z"
   },
   {
    "duration": 8,
    "start_time": "2022-05-22T11:50:30.640Z"
   },
   {
    "duration": 35,
    "start_time": "2022-05-22T11:50:30.650Z"
   },
   {
    "duration": 20,
    "start_time": "2022-05-22T11:50:30.687Z"
   },
   {
    "duration": 236449,
    "start_time": "2022-05-22T11:50:30.709Z"
   },
   {
    "duration": 20,
    "start_time": "2022-05-22T11:54:27.159Z"
   },
   {
    "duration": 199,
    "start_time": "2022-05-22T11:54:27.181Z"
   },
   {
    "duration": 18,
    "start_time": "2022-05-22T11:54:27.382Z"
   },
   {
    "duration": 410,
    "start_time": "2022-05-22T11:54:27.402Z"
   },
   {
    "duration": 11,
    "start_time": "2022-05-22T11:54:27.814Z"
   },
   {
    "duration": 163772,
    "start_time": "2022-05-22T11:54:27.827Z"
   },
   {
    "duration": 11,
    "start_time": "2022-05-22T11:57:11.601Z"
   },
   {
    "duration": 177,
    "start_time": "2022-05-22T11:57:11.614Z"
   },
   {
    "duration": 3,
    "start_time": "2022-05-22T11:57:11.793Z"
   },
   {
    "duration": 1838,
    "start_time": "2022-05-23T10:27:56.664Z"
   },
   {
    "duration": 68,
    "start_time": "2022-05-23T10:27:58.505Z"
   },
   {
    "duration": 24,
    "start_time": "2022-05-23T10:27:58.575Z"
   },
   {
    "duration": 8,
    "start_time": "2022-05-23T10:27:58.601Z"
   },
   {
    "duration": 1404,
    "start_time": "2022-05-23T10:27:58.610Z"
   },
   {
    "duration": 165,
    "start_time": "2022-05-23T10:28:05.253Z"
   },
   {
    "duration": 4,
    "start_time": "2022-05-23T10:28:14.204Z"
   },
   {
    "duration": 37,
    "start_time": "2022-05-23T10:28:15.538Z"
   },
   {
    "duration": 25,
    "start_time": "2022-05-23T10:28:18.026Z"
   },
   {
    "duration": 7,
    "start_time": "2022-05-23T10:28:19.363Z"
   },
   {
    "duration": 1183,
    "start_time": "2022-05-23T10:28:20.976Z"
   },
   {
    "duration": 15,
    "start_time": "2022-05-23T10:28:26.049Z"
   },
   {
    "duration": 14,
    "start_time": "2022-05-23T10:28:35.402Z"
   },
   {
    "duration": 14,
    "start_time": "2022-05-23T10:28:40.547Z"
   },
   {
    "duration": 12,
    "start_time": "2022-05-23T10:28:45.864Z"
   },
   {
    "duration": 33,
    "start_time": "2022-05-23T10:31:32.154Z"
   },
   {
    "duration": 14,
    "start_time": "2022-05-23T10:35:30.086Z"
   },
   {
    "duration": 168,
    "start_time": "2022-05-23T10:35:37.751Z"
   },
   {
    "duration": 424,
    "start_time": "2022-05-23T10:37:19.311Z"
   },
   {
    "duration": 440,
    "start_time": "2022-05-23T10:38:47.335Z"
   },
   {
    "duration": 451,
    "start_time": "2022-05-23T10:39:21.254Z"
   },
   {
    "duration": 5,
    "start_time": "2022-05-23T11:15:05.112Z"
   },
   {
    "duration": 6,
    "start_time": "2022-05-23T11:15:09.045Z"
   },
   {
    "duration": 30,
    "start_time": "2022-05-23T11:15:20.164Z"
   },
   {
    "duration": 12,
    "start_time": "2022-05-23T11:28:11.968Z"
   },
   {
    "duration": 12,
    "start_time": "2022-05-23T11:28:16.081Z"
   },
   {
    "duration": 13,
    "start_time": "2022-05-23T11:28:34.149Z"
   },
   {
    "duration": 11,
    "start_time": "2022-05-23T11:28:49.607Z"
   },
   {
    "duration": 10,
    "start_time": "2022-05-23T11:28:55.255Z"
   },
   {
    "duration": 8,
    "start_time": "2022-05-23T11:29:33.642Z"
   },
   {
    "duration": 148,
    "start_time": "2022-05-23T11:29:58.006Z"
   },
   {
    "duration": 9,
    "start_time": "2022-05-23T11:30:10.568Z"
   },
   {
    "duration": 8,
    "start_time": "2022-05-23T11:31:24.918Z"
   },
   {
    "duration": 11,
    "start_time": "2022-05-23T11:31:30.874Z"
   },
   {
    "duration": 13,
    "start_time": "2022-05-23T11:31:44.340Z"
   },
   {
    "duration": 7,
    "start_time": "2022-05-23T11:31:53.620Z"
   },
   {
    "duration": 14,
    "start_time": "2022-05-23T11:32:37.384Z"
   },
   {
    "duration": 12,
    "start_time": "2022-05-23T11:40:51.325Z"
   },
   {
    "duration": 11,
    "start_time": "2022-05-23T11:43:08.779Z"
   },
   {
    "duration": 11,
    "start_time": "2022-05-23T11:43:19.048Z"
   },
   {
    "duration": 4,
    "start_time": "2022-05-23T11:43:25.217Z"
   },
   {
    "duration": 11,
    "start_time": "2022-05-23T11:43:29.541Z"
   },
   {
    "duration": 56,
    "start_time": "2022-05-23T11:45:40.735Z"
   },
   {
    "duration": 618,
    "start_time": "2022-05-23T11:46:54.648Z"
   },
   {
    "duration": 631,
    "start_time": "2022-05-23T11:47:16.525Z"
   },
   {
    "duration": 5,
    "start_time": "2022-05-23T12:37:45.008Z"
   },
   {
    "duration": 403,
    "start_time": "2022-05-23T12:37:45.014Z"
   },
   {
    "duration": 35,
    "start_time": "2022-05-23T12:37:45.419Z"
   },
   {
    "duration": 8,
    "start_time": "2022-05-23T12:37:45.456Z"
   },
   {
    "duration": 1378,
    "start_time": "2022-05-23T12:37:45.467Z"
   },
   {
    "duration": 13,
    "start_time": "2022-05-23T12:37:46.851Z"
   },
   {
    "duration": 87,
    "start_time": "2022-05-23T12:37:46.866Z"
   },
   {
    "duration": 613,
    "start_time": "2022-05-23T12:37:46.955Z"
   },
   {
    "duration": 5183,
    "start_time": "2022-05-23T12:37:47.570Z"
   },
   {
    "duration": 15,
    "start_time": "2022-05-23T12:37:52.755Z"
   },
   {
    "duration": 44,
    "start_time": "2022-05-23T12:37:52.773Z"
   },
   {
    "duration": 6,
    "start_time": "2022-05-23T12:38:00.112Z"
   },
   {
    "duration": 12,
    "start_time": "2022-05-23T12:38:04.210Z"
   },
   {
    "duration": 7,
    "start_time": "2022-05-23T12:38:09.555Z"
   },
   {
    "duration": 20,
    "start_time": "2022-05-23T12:45:27.269Z"
   },
   {
    "duration": 35,
    "start_time": "2022-05-23T12:45:53.787Z"
   },
   {
    "duration": 2042511,
    "start_time": "2022-05-23T12:46:38.610Z"
   },
   {
    "duration": 10,
    "start_time": "2022-05-23T13:23:31.920Z"
   },
   {
    "duration": 8,
    "start_time": "2022-05-23T13:23:59.408Z"
   },
   {
    "duration": 9,
    "start_time": "2022-05-23T13:24:44.208Z"
   },
   {
    "duration": 6,
    "start_time": "2022-05-23T13:28:16.540Z"
   },
   {
    "duration": 12,
    "start_time": "2022-05-23T13:28:18.574Z"
   },
   {
    "duration": 6,
    "start_time": "2022-05-23T13:28:20.635Z"
   },
   {
    "duration": 10,
    "start_time": "2022-05-23T13:28:28.879Z"
   },
   {
    "duration": 5104,
    "start_time": "2022-05-23T13:29:15.686Z"
   },
   {
    "duration": 6,
    "start_time": "2022-05-23T13:29:44.948Z"
   },
   {
    "duration": 13,
    "start_time": "2022-05-23T13:29:46.139Z"
   },
   {
    "duration": 6,
    "start_time": "2022-05-23T13:29:47.282Z"
   },
   {
    "duration": 9,
    "start_time": "2022-05-23T13:29:57.365Z"
   },
   {
    "duration": 234,
    "start_time": "2022-05-23T13:33:53.858Z"
   },
   {
    "duration": 19,
    "start_time": "2022-05-23T13:35:18.223Z"
   },
   {
    "duration": 354,
    "start_time": "2022-05-23T13:38:44.059Z"
   },
   {
    "duration": 6,
    "start_time": "2022-05-23T13:40:09.411Z"
   },
   {
    "duration": 362,
    "start_time": "2022-05-23T13:43:17.990Z"
   },
   {
    "duration": 87412,
    "start_time": "2022-05-23T13:45:19.884Z"
   },
   {
    "duration": 7,
    "start_time": "2022-05-23T13:47:18.865Z"
   },
   {
    "duration": 8,
    "start_time": "2022-05-23T13:48:36.399Z"
   },
   {
    "duration": 4,
    "start_time": "2022-05-23T13:52:13.199Z"
   },
   {
    "duration": 14,
    "start_time": "2022-05-23T13:52:47.219Z"
   },
   {
    "duration": 5299,
    "start_time": "2022-05-23T13:53:46.400Z"
   },
   {
    "duration": 9,
    "start_time": "2022-05-23T13:59:50.938Z"
   },
   {
    "duration": 110,
    "start_time": "2022-05-23T14:03:08.250Z"
   },
   {
    "duration": 390,
    "start_time": "2022-05-23T14:29:35.349Z"
   },
   {
    "duration": 119,
    "start_time": "2022-05-23T14:34:47.647Z"
   },
   {
    "duration": 4,
    "start_time": "2022-05-23T15:11:28.217Z"
   },
   {
    "duration": 7,
    "start_time": "2022-05-23T15:24:35.063Z"
   },
   {
    "duration": 7,
    "start_time": "2022-05-23T15:25:16.880Z"
   },
   {
    "duration": 7,
    "start_time": "2022-05-23T15:25:55.858Z"
   },
   {
    "duration": 1449,
    "start_time": "2022-05-23T15:34:35.959Z"
   },
   {
    "duration": 151,
    "start_time": "2022-05-23T15:34:37.410Z"
   },
   {
    "duration": 0,
    "start_time": "2022-05-23T15:34:37.564Z"
   },
   {
    "duration": 0,
    "start_time": "2022-05-23T15:34:37.566Z"
   },
   {
    "duration": 0,
    "start_time": "2022-05-23T15:34:37.567Z"
   },
   {
    "duration": 0,
    "start_time": "2022-05-23T15:34:37.568Z"
   },
   {
    "duration": 0,
    "start_time": "2022-05-23T15:34:37.570Z"
   },
   {
    "duration": 0,
    "start_time": "2022-05-23T15:34:37.571Z"
   },
   {
    "duration": 0,
    "start_time": "2022-05-23T15:34:37.573Z"
   },
   {
    "duration": 0,
    "start_time": "2022-05-23T15:34:37.574Z"
   },
   {
    "duration": 0,
    "start_time": "2022-05-23T15:34:37.575Z"
   },
   {
    "duration": 0,
    "start_time": "2022-05-23T15:34:37.576Z"
   },
   {
    "duration": 0,
    "start_time": "2022-05-23T15:34:37.577Z"
   },
   {
    "duration": 0,
    "start_time": "2022-05-23T15:34:37.578Z"
   },
   {
    "duration": 0,
    "start_time": "2022-05-23T15:34:37.579Z"
   },
   {
    "duration": 0,
    "start_time": "2022-05-23T15:34:37.580Z"
   },
   {
    "duration": 0,
    "start_time": "2022-05-23T15:34:37.581Z"
   },
   {
    "duration": 0,
    "start_time": "2022-05-23T15:34:37.582Z"
   },
   {
    "duration": 0,
    "start_time": "2022-05-23T15:34:37.584Z"
   },
   {
    "duration": 0,
    "start_time": "2022-05-23T15:34:37.584Z"
   },
   {
    "duration": 0,
    "start_time": "2022-05-23T15:34:37.585Z"
   },
   {
    "duration": 0,
    "start_time": "2022-05-23T15:34:37.587Z"
   },
   {
    "duration": 0,
    "start_time": "2022-05-23T15:34:37.588Z"
   },
   {
    "duration": 0,
    "start_time": "2022-05-23T15:34:37.589Z"
   },
   {
    "duration": 0,
    "start_time": "2022-05-23T15:34:37.590Z"
   },
   {
    "duration": 0,
    "start_time": "2022-05-23T15:34:37.591Z"
   },
   {
    "duration": 0,
    "start_time": "2022-05-23T15:34:37.592Z"
   },
   {
    "duration": 27,
    "start_time": "2022-05-23T15:34:58.480Z"
   },
   {
    "duration": 1584,
    "start_time": "2022-05-23T15:53:46.810Z"
   },
   {
    "duration": 184,
    "start_time": "2022-05-23T15:53:48.397Z"
   },
   {
    "duration": 23,
    "start_time": "2022-05-23T15:53:48.582Z"
   },
   {
    "duration": 7,
    "start_time": "2022-05-23T15:53:48.607Z"
   },
   {
    "duration": 1943,
    "start_time": "2022-05-23T15:53:48.617Z"
   },
   {
    "duration": 73,
    "start_time": "2022-05-23T15:53:50.562Z"
   },
   {
    "duration": 113,
    "start_time": "2022-05-23T15:53:50.636Z"
   },
   {
    "duration": 82,
    "start_time": "2022-05-23T15:53:50.751Z"
   },
   {
    "duration": 20,
    "start_time": "2022-05-23T15:53:50.835Z"
   },
   {
    "duration": 1001,
    "start_time": "2022-05-23T15:53:50.857Z"
   },
   {
    "duration": 5127,
    "start_time": "2022-05-23T15:53:51.860Z"
   },
   {
    "duration": 18,
    "start_time": "2022-05-23T15:53:56.989Z"
   },
   {
    "duration": 65,
    "start_time": "2022-05-23T15:53:57.009Z"
   },
   {
    "duration": 115730,
    "start_time": "2022-05-23T15:53:57.077Z"
   },
   {
    "duration": 349,
    "start_time": "2022-05-23T15:55:52.809Z"
   },
   {
    "duration": 88426,
    "start_time": "2022-05-23T15:55:53.160Z"
   },
   {
    "duration": 7,
    "start_time": "2022-05-23T15:57:21.588Z"
   },
   {
    "duration": 40,
    "start_time": "2022-05-23T15:57:21.597Z"
   },
   {
    "duration": 24,
    "start_time": "2022-05-23T15:57:21.639Z"
   },
   {
    "duration": 15,
    "start_time": "2022-05-23T15:57:21.665Z"
   },
   {
    "duration": 6,
    "start_time": "2022-05-23T15:57:21.682Z"
   },
   {
    "duration": 33,
    "start_time": "2022-05-23T15:57:21.689Z"
   },
   {
    "duration": 210,
    "start_time": "2022-05-23T15:57:21.724Z"
   },
   {
    "duration": 5,
    "start_time": "2022-05-23T15:57:21.936Z"
   },
   {
    "duration": 27,
    "start_time": "2022-05-23T15:57:21.943Z"
   },
   {
    "duration": 17,
    "start_time": "2022-05-23T15:57:21.972Z"
   },
   {
    "duration": 17,
    "start_time": "2022-05-23T15:57:21.991Z"
   },
   {
    "duration": 14,
    "start_time": "2022-05-23T15:59:36.624Z"
   },
   {
    "duration": 16,
    "start_time": "2022-05-23T15:59:49.306Z"
   },
   {
    "duration": 1518,
    "start_time": "2023-09-18T12:14:25.519Z"
   },
   {
    "duration": 137,
    "start_time": "2023-09-18T12:14:33.551Z"
   },
   {
    "duration": 51,
    "start_time": "2023-09-18T12:18:04.570Z"
   },
   {
    "duration": 29,
    "start_time": "2023-09-18T12:18:37.235Z"
   },
   {
    "duration": 25,
    "start_time": "2023-09-18T12:18:46.694Z"
   },
   {
    "duration": 1749,
    "start_time": "2023-09-18T12:19:42.723Z"
   },
   {
    "duration": 646,
    "start_time": "2023-09-18T12:20:08.651Z"
   },
   {
    "duration": 672,
    "start_time": "2023-09-18T12:20:17.785Z"
   },
   {
    "duration": 724,
    "start_time": "2023-09-18T12:20:26.442Z"
   },
   {
    "duration": 701,
    "start_time": "2023-09-18T12:20:30.054Z"
   },
   {
    "duration": 940,
    "start_time": "2023-09-18T12:21:01.082Z"
   },
   {
    "duration": 13,
    "start_time": "2023-09-18T12:22:15.836Z"
   },
   {
    "duration": 124,
    "start_time": "2023-09-18T12:22:29.275Z"
   },
   {
    "duration": 1381,
    "start_time": "2023-09-18T12:24:33.298Z"
   },
   {
    "duration": 132,
    "start_time": "2023-09-18T12:24:57.892Z"
   },
   {
    "duration": 1483,
    "start_time": "2023-09-18T12:25:04.763Z"
   },
   {
    "duration": 744,
    "start_time": "2023-09-18T12:25:14.212Z"
   },
   {
    "duration": 924,
    "start_time": "2023-09-18T12:25:21.252Z"
   },
   {
    "duration": 766,
    "start_time": "2023-09-18T12:25:25.718Z"
   },
   {
    "duration": 1484,
    "start_time": "2023-09-18T12:25:38.949Z"
   },
   {
    "duration": 914,
    "start_time": "2023-09-18T12:25:42.593Z"
   },
   {
    "duration": 782,
    "start_time": "2023-09-18T12:25:53.662Z"
   },
   {
    "duration": 281,
    "start_time": "2023-09-18T12:27:29.941Z"
   },
   {
    "duration": 417,
    "start_time": "2023-09-18T12:27:35.382Z"
   },
   {
    "duration": 766,
    "start_time": "2023-09-18T12:27:40.195Z"
   },
   {
    "duration": 8,
    "start_time": "2023-09-18T12:28:24.023Z"
   },
   {
    "duration": 937,
    "start_time": "2023-09-18T12:28:40.230Z"
   },
   {
    "duration": 761,
    "start_time": "2023-09-18T12:28:52.535Z"
   },
   {
    "duration": 253,
    "start_time": "2023-09-18T12:29:13.320Z"
   },
   {
    "duration": 417,
    "start_time": "2023-09-18T12:29:25.815Z"
   },
   {
    "duration": 1361,
    "start_time": "2023-09-18T12:29:41.158Z"
   },
   {
    "duration": 267,
    "start_time": "2023-09-18T12:30:37.464Z"
   },
   {
    "duration": 273,
    "start_time": "2023-09-18T12:30:48.240Z"
   },
   {
    "duration": 295,
    "start_time": "2023-09-18T12:31:01.936Z"
   },
   {
    "duration": 273,
    "start_time": "2023-09-18T12:31:17.454Z"
   },
   {
    "duration": 1463,
    "start_time": "2023-09-18T12:31:42.009Z"
   },
   {
    "duration": 1499,
    "start_time": "2023-09-18T12:31:50.015Z"
   },
   {
    "duration": 265,
    "start_time": "2023-09-18T12:35:38.539Z"
   },
   {
    "duration": 528,
    "start_time": "2023-09-18T12:35:47.419Z"
   },
   {
    "duration": 1323,
    "start_time": "2023-09-18T12:36:24.146Z"
   },
   {
    "duration": 1657,
    "start_time": "2023-09-18T12:36:52.430Z"
   },
   {
    "duration": 2074,
    "start_time": "2023-09-18T12:38:07.404Z"
   },
   {
    "duration": 5,
    "start_time": "2023-09-18T12:38:53.006Z"
   },
   {
    "duration": 291,
    "start_time": "2023-09-18T12:39:25.932Z"
   },
   {
    "duration": 250,
    "start_time": "2023-09-18T12:39:36.196Z"
   },
   {
    "duration": 11,
    "start_time": "2023-09-18T12:39:48.221Z"
   },
   {
    "duration": 3226,
    "start_time": "2023-09-18T13:42:54.618Z"
   },
   {
    "duration": 2904,
    "start_time": "2023-09-18T13:43:17.859Z"
   },
   {
    "duration": 11,
    "start_time": "2023-09-18T13:44:23.004Z"
   },
   {
    "duration": 10,
    "start_time": "2023-09-18T13:45:49.294Z"
   },
   {
    "duration": 11,
    "start_time": "2023-09-18T13:45:53.637Z"
   },
   {
    "duration": 619,
    "start_time": "2023-09-18T13:46:27.071Z"
   },
   {
    "duration": 1795,
    "start_time": "2023-09-18T13:47:59.439Z"
   },
   {
    "duration": 2022,
    "start_time": "2023-09-18T13:48:48.552Z"
   },
   {
    "duration": 1786,
    "start_time": "2023-09-18T13:48:51.881Z"
   },
   {
    "duration": 2063,
    "start_time": "2023-09-18T13:48:59.600Z"
   },
   {
    "duration": 1840,
    "start_time": "2023-09-18T13:49:04.287Z"
   },
   {
    "duration": 1772,
    "start_time": "2023-09-18T13:49:52.393Z"
   },
   {
    "duration": 2004,
    "start_time": "2023-09-18T13:52:10.714Z"
   },
   {
    "duration": 2079,
    "start_time": "2023-09-18T13:52:16.618Z"
   },
   {
    "duration": 2395,
    "start_time": "2023-09-18T13:52:25.438Z"
   },
   {
    "duration": 1405,
    "start_time": "2023-09-18T13:52:45.402Z"
   },
   {
    "duration": 1961,
    "start_time": "2023-09-19T05:52:43.807Z"
   },
   {
    "duration": 2305,
    "start_time": "2023-09-19T05:52:52.309Z"
   },
   {
    "duration": 2216,
    "start_time": "2023-09-19T05:53:26.501Z"
   },
   {
    "duration": 1679,
    "start_time": "2023-09-19T06:34:45.972Z"
   },
   {
    "duration": 1902,
    "start_time": "2023-09-19T06:34:58.887Z"
   },
   {
    "duration": 1728,
    "start_time": "2023-09-19T06:35:59.767Z"
   },
   {
    "duration": 1698,
    "start_time": "2023-09-19T06:36:16.258Z"
   },
   {
    "duration": 1030,
    "start_time": "2023-09-19T06:36:33.202Z"
   },
   {
    "duration": 1647,
    "start_time": "2023-09-19T06:36:51.459Z"
   },
   {
    "duration": 2397,
    "start_time": "2023-09-19T06:41:04.633Z"
   },
   {
    "duration": 258,
    "start_time": "2023-09-19T06:42:42.065Z"
   },
   {
    "duration": 289,
    "start_time": "2023-09-19T06:42:45.095Z"
   },
   {
    "duration": 1894,
    "start_time": "2023-09-19T06:42:57.575Z"
   },
   {
    "duration": 1981,
    "start_time": "2023-09-19T06:43:07.432Z"
   },
   {
    "duration": 4,
    "start_time": "2023-09-19T06:43:26.431Z"
   },
   {
    "duration": 2482,
    "start_time": "2023-09-19T06:44:28.512Z"
   },
   {
    "duration": 2156,
    "start_time": "2023-09-19T06:44:39.450Z"
   },
   {
    "duration": 2620,
    "start_time": "2023-09-19T06:45:43.002Z"
   },
   {
    "duration": 2272,
    "start_time": "2023-09-19T06:45:52.866Z"
   },
   {
    "duration": 4,
    "start_time": "2023-09-19T06:45:58.201Z"
   },
   {
    "duration": 4,
    "start_time": "2023-09-19T06:46:11.107Z"
   },
   {
    "duration": 290,
    "start_time": "2023-09-19T06:46:22.601Z"
   },
   {
    "duration": 4,
    "start_time": "2023-09-19T06:46:31.777Z"
   },
   {
    "duration": 1373,
    "start_time": "2023-09-19T06:47:52.882Z"
   },
   {
    "duration": 301,
    "start_time": "2023-09-19T06:50:39.301Z"
   },
   {
    "duration": 306,
    "start_time": "2023-09-19T06:50:56.438Z"
   },
   {
    "duration": 1571,
    "start_time": "2023-09-19T06:51:12.466Z"
   },
   {
    "duration": 60,
    "start_time": "2023-09-19T06:51:14.038Z"
   },
   {
    "duration": 30,
    "start_time": "2023-09-19T06:51:14.100Z"
   },
   {
    "duration": 14,
    "start_time": "2023-09-19T06:51:14.133Z"
   },
   {
    "duration": 1570,
    "start_time": "2023-09-19T06:51:14.149Z"
   },
   {
    "duration": 2504,
    "start_time": "2023-09-19T06:51:24.670Z"
   },
   {
    "duration": 2385,
    "start_time": "2023-09-19T06:51:48.547Z"
   },
   {
    "duration": 607,
    "start_time": "2023-09-19T06:55:36.794Z"
   },
   {
    "duration": 3221,
    "start_time": "2023-09-19T06:56:22.762Z"
   },
   {
    "duration": 2920,
    "start_time": "2023-09-19T06:57:17.510Z"
   },
   {
    "duration": 1862,
    "start_time": "2023-09-19T06:59:41.205Z"
   },
   {
    "duration": 6,
    "start_time": "2023-09-19T07:00:21.277Z"
   },
   {
    "duration": 6,
    "start_time": "2023-09-19T07:00:30.342Z"
   },
   {
    "duration": 4,
    "start_time": "2023-09-19T07:00:49.406Z"
   },
   {
    "duration": 5,
    "start_time": "2023-09-19T07:03:51.935Z"
   },
   {
    "duration": 548,
    "start_time": "2023-09-19T07:04:49.985Z"
   },
   {
    "duration": 498,
    "start_time": "2023-09-19T07:05:35.666Z"
   },
   {
    "duration": 472,
    "start_time": "2023-09-19T07:05:57.826Z"
   },
   {
    "duration": 485,
    "start_time": "2023-09-19T07:08:37.996Z"
   },
   {
    "duration": 644,
    "start_time": "2023-09-19T07:08:43.115Z"
   },
   {
    "duration": 445,
    "start_time": "2023-09-19T07:08:47.012Z"
   },
   {
    "duration": 464,
    "start_time": "2023-09-19T07:08:52.596Z"
   },
   {
    "duration": 553,
    "start_time": "2023-09-19T07:08:56.436Z"
   },
   {
    "duration": 3,
    "start_time": "2023-09-19T07:10:31.445Z"
   },
   {
    "duration": 252,
    "start_time": "2023-09-19T07:10:51.997Z"
   },
   {
    "duration": 213,
    "start_time": "2023-09-19T07:11:05.469Z"
   },
   {
    "duration": 284,
    "start_time": "2023-09-19T07:11:16.299Z"
   },
   {
    "duration": 201,
    "start_time": "2023-09-19T07:11:21.878Z"
   },
   {
    "duration": 190,
    "start_time": "2023-09-19T07:11:27.590Z"
   },
   {
    "duration": 204,
    "start_time": "2023-09-19T07:11:30.282Z"
   },
   {
    "duration": 1860,
    "start_time": "2023-09-19T07:11:53.500Z"
   },
   {
    "duration": 489,
    "start_time": "2023-09-19T07:38:06.663Z"
   },
   {
    "duration": 328,
    "start_time": "2023-09-19T07:38:14.990Z"
   },
   {
    "duration": 1538,
    "start_time": "2023-09-19T07:39:05.003Z"
   },
   {
    "duration": 2338,
    "start_time": "2023-09-19T07:40:12.329Z"
   },
   {
    "duration": 2521,
    "start_time": "2023-09-19T07:40:28.258Z"
   },
   {
    "duration": 2106,
    "start_time": "2023-09-19T07:45:41.521Z"
   },
   {
    "duration": 2413,
    "start_time": "2023-09-19T07:46:29.152Z"
   },
   {
    "duration": 2230,
    "start_time": "2023-09-19T07:46:37.688Z"
   },
   {
    "duration": 2573,
    "start_time": "2023-09-19T07:47:26.936Z"
   },
   {
    "duration": 673,
    "start_time": "2023-09-19T07:47:54.986Z"
   },
   {
    "duration": 2148,
    "start_time": "2023-09-19T07:48:16.595Z"
   },
   {
    "duration": 2494,
    "start_time": "2023-09-19T07:48:30.067Z"
   },
   {
    "duration": 2229,
    "start_time": "2023-09-19T07:48:55.930Z"
   },
   {
    "duration": 2249,
    "start_time": "2023-09-19T07:49:09.643Z"
   },
   {
    "duration": 2776,
    "start_time": "2023-09-19T07:49:28.451Z"
   },
   {
    "duration": 644,
    "start_time": "2023-09-19T07:49:41.371Z"
   },
   {
    "duration": 2279,
    "start_time": "2023-09-19T07:50:05.840Z"
   },
   {
    "duration": 2731,
    "start_time": "2023-09-19T07:50:31.494Z"
   },
   {
    "duration": 2292,
    "start_time": "2023-09-19T07:50:45.741Z"
   },
   {
    "duration": 2242,
    "start_time": "2023-09-19T07:50:58.198Z"
   },
   {
    "duration": 2886,
    "start_time": "2023-09-19T07:53:37.831Z"
   },
   {
    "duration": 2263,
    "start_time": "2023-09-19T07:54:10.951Z"
   },
   {
    "duration": 2376,
    "start_time": "2023-09-19T07:54:36.521Z"
   },
   {
    "duration": 2562,
    "start_time": "2023-09-19T07:55:02.338Z"
   },
   {
    "duration": 2372,
    "start_time": "2023-09-19T07:55:40.930Z"
   },
   {
    "duration": 2519,
    "start_time": "2023-09-19T07:56:10.400Z"
   },
   {
    "duration": 1165,
    "start_time": "2023-09-19T07:56:52.481Z"
   },
   {
    "duration": 761,
    "start_time": "2023-09-19T07:57:07.912Z"
   },
   {
    "duration": 795,
    "start_time": "2023-09-19T07:57:19.441Z"
   },
   {
    "duration": 788,
    "start_time": "2023-09-19T07:57:31.255Z"
   },
   {
    "duration": 819,
    "start_time": "2023-09-19T07:57:43.383Z"
   },
   {
    "duration": 776,
    "start_time": "2023-09-19T07:57:52.207Z"
   },
   {
    "duration": 904,
    "start_time": "2023-09-19T07:58:03.448Z"
   },
   {
    "duration": 1116,
    "start_time": "2023-09-19T07:58:20.727Z"
   },
   {
    "duration": 987,
    "start_time": "2023-09-19T07:58:44.999Z"
   },
   {
    "duration": 1182,
    "start_time": "2023-09-19T07:59:39.678Z"
   },
   {
    "duration": 4549,
    "start_time": "2023-09-19T08:00:24.990Z"
   },
   {
    "duration": 2748,
    "start_time": "2023-09-19T08:01:03.293Z"
   },
   {
    "duration": 2682,
    "start_time": "2023-09-19T08:01:15.437Z"
   },
   {
    "duration": 887,
    "start_time": "2023-09-19T08:01:22.996Z"
   },
   {
    "duration": 621,
    "start_time": "2023-09-19T08:12:38.952Z"
   },
   {
    "duration": 892,
    "start_time": "2023-09-19T08:13:08.928Z"
   },
   {
    "duration": 1180,
    "start_time": "2023-09-19T08:13:17.999Z"
   },
   {
    "duration": 795,
    "start_time": "2023-09-19T08:13:28.951Z"
   },
   {
    "duration": 760,
    "start_time": "2023-09-19T08:13:45.384Z"
   },
   {
    "duration": 764,
    "start_time": "2023-09-19T08:15:10.776Z"
   },
   {
    "duration": 609,
    "start_time": "2023-09-19T08:16:14.625Z"
   },
   {
    "duration": 822,
    "start_time": "2023-09-19T08:16:19.633Z"
   },
   {
    "duration": 872,
    "start_time": "2023-09-19T08:16:33.576Z"
   },
   {
    "duration": 858,
    "start_time": "2023-09-19T08:16:51.681Z"
   },
   {
    "duration": 1628,
    "start_time": "2023-09-19T08:17:05.822Z"
   },
   {
    "duration": 59,
    "start_time": "2023-09-19T08:17:07.454Z"
   },
   {
    "duration": 27,
    "start_time": "2023-09-19T08:17:07.515Z"
   },
   {
    "duration": 9,
    "start_time": "2023-09-19T08:17:07.546Z"
   },
   {
    "duration": 1581,
    "start_time": "2023-09-19T08:17:07.558Z"
   },
   {
    "duration": 772,
    "start_time": "2023-09-19T08:17:11.666Z"
   },
   {
    "duration": 717,
    "start_time": "2023-09-19T08:17:36.234Z"
   },
   {
    "duration": 5,
    "start_time": "2023-09-19T08:17:56.369Z"
   },
   {
    "duration": 828,
    "start_time": "2023-09-19T08:18:11.554Z"
   },
   {
    "duration": 599,
    "start_time": "2023-09-19T08:18:31.491Z"
   },
   {
    "duration": 1129,
    "start_time": "2023-09-19T08:18:49.467Z"
   },
   {
    "duration": 957,
    "start_time": "2023-09-19T08:29:15.931Z"
   },
   {
    "duration": 785,
    "start_time": "2023-09-19T08:29:32.346Z"
   },
   {
    "duration": 914,
    "start_time": "2023-09-19T08:29:41.346Z"
   },
   {
    "duration": 404,
    "start_time": "2023-09-19T08:30:50.371Z"
   },
   {
    "duration": 415,
    "start_time": "2023-09-19T08:30:54.531Z"
   },
   {
    "duration": 398,
    "start_time": "2023-09-19T08:30:58.578Z"
   },
   {
    "duration": 790,
    "start_time": "2023-09-19T08:31:15.244Z"
   },
   {
    "duration": 832,
    "start_time": "2023-09-19T08:31:26.035Z"
   },
   {
    "duration": 654,
    "start_time": "2023-09-19T08:32:38.987Z"
   },
   {
    "duration": 608,
    "start_time": "2023-09-19T08:32:42.196Z"
   },
   {
    "duration": 733,
    "start_time": "2023-09-19T08:33:33.511Z"
   },
   {
    "duration": 861,
    "start_time": "2023-09-19T08:33:55.917Z"
   },
   {
    "duration": 751,
    "start_time": "2023-09-19T08:34:16.653Z"
   },
   {
    "duration": 757,
    "start_time": "2023-09-19T08:34:56.262Z"
   },
   {
    "duration": 750,
    "start_time": "2023-09-19T08:35:03.142Z"
   },
   {
    "duration": 742,
    "start_time": "2023-09-19T08:35:38.428Z"
   },
   {
    "duration": 757,
    "start_time": "2023-09-19T08:35:43.510Z"
   },
   {
    "duration": 880,
    "start_time": "2023-09-19T08:35:56.854Z"
   },
   {
    "duration": 749,
    "start_time": "2023-09-19T08:36:13.479Z"
   },
   {
    "duration": 1018,
    "start_time": "2023-09-19T08:36:19.679Z"
   },
   {
    "duration": 561,
    "start_time": "2023-09-19T08:36:33.413Z"
   },
   {
    "duration": 1239,
    "start_time": "2023-09-19T08:36:38.856Z"
   },
   {
    "duration": 16,
    "start_time": "2023-09-19T08:37:52.584Z"
   },
   {
    "duration": 17,
    "start_time": "2023-09-19T08:37:56.571Z"
   },
   {
    "duration": 798,
    "start_time": "2023-09-19T08:38:00.175Z"
   },
   {
    "duration": 762,
    "start_time": "2023-09-19T08:38:04.176Z"
   },
   {
    "duration": 792,
    "start_time": "2023-09-19T08:39:02.361Z"
   },
   {
    "duration": 782,
    "start_time": "2023-09-19T08:40:42.058Z"
   },
   {
    "duration": 763,
    "start_time": "2023-09-19T08:40:49.309Z"
   },
   {
    "duration": 7,
    "start_time": "2023-09-19T08:40:56.893Z"
   },
   {
    "duration": 991,
    "start_time": "2023-09-19T08:42:14.788Z"
   },
   {
    "duration": 792,
    "start_time": "2023-09-19T08:42:20.947Z"
   },
   {
    "duration": 12,
    "start_time": "2023-09-19T08:42:38.349Z"
   },
   {
    "duration": 22,
    "start_time": "2023-09-19T08:42:48.547Z"
   },
   {
    "duration": 12,
    "start_time": "2023-09-19T08:43:29.446Z"
   },
   {
    "duration": 12,
    "start_time": "2023-09-19T08:43:37.524Z"
   },
   {
    "duration": 756,
    "start_time": "2023-09-19T08:43:44.201Z"
   },
   {
    "duration": 733,
    "start_time": "2023-09-19T08:43:50.708Z"
   },
   {
    "duration": 11,
    "start_time": "2023-09-19T08:44:10.948Z"
   },
   {
    "duration": 12,
    "start_time": "2023-09-19T08:44:16.508Z"
   },
   {
    "duration": 12,
    "start_time": "2023-09-19T08:45:46.349Z"
   },
   {
    "duration": 2320,
    "start_time": "2023-09-19T08:45:59.141Z"
   },
   {
    "duration": 10,
    "start_time": "2023-09-19T08:47:52.655Z"
   },
   {
    "duration": 9,
    "start_time": "2023-09-19T08:47:57.175Z"
   },
   {
    "duration": 4,
    "start_time": "2023-09-19T08:48:19.896Z"
   },
   {
    "duration": 4,
    "start_time": "2023-09-19T08:48:26.879Z"
   },
   {
    "duration": 2635,
    "start_time": "2023-09-19T08:48:32.144Z"
   },
   {
    "duration": 1422,
    "start_time": "2023-09-19T08:48:37.559Z"
   },
   {
    "duration": 2421,
    "start_time": "2023-09-19T08:49:10.056Z"
   },
   {
    "duration": 5,
    "start_time": "2023-09-19T08:49:14.727Z"
   },
   {
    "duration": 2283,
    "start_time": "2023-09-19T08:50:10.041Z"
   },
   {
    "duration": 2369,
    "start_time": "2023-09-19T08:50:46.962Z"
   },
   {
    "duration": 17,
    "start_time": "2023-09-19T08:58:09.910Z"
   },
   {
    "duration": 4567,
    "start_time": "2023-09-19T08:59:06.423Z"
   },
   {
    "duration": 4678,
    "start_time": "2023-09-19T09:01:05.073Z"
   },
   {
    "duration": 4857,
    "start_time": "2023-09-19T09:03:08.042Z"
   },
   {
    "duration": 4833,
    "start_time": "2023-09-19T09:04:30.677Z"
   },
   {
    "duration": 4675,
    "start_time": "2023-09-19T09:04:56.776Z"
   },
   {
    "duration": 7102,
    "start_time": "2023-09-19T09:05:32.428Z"
   },
   {
    "duration": 7128,
    "start_time": "2023-09-19T09:06:13.940Z"
   },
   {
    "duration": 7187,
    "start_time": "2023-09-19T09:06:41.604Z"
   },
   {
    "duration": 7185,
    "start_time": "2023-09-19T09:08:36.485Z"
   },
   {
    "duration": 132,
    "start_time": "2023-09-19T09:09:07.710Z"
   },
   {
    "duration": 348,
    "start_time": "2023-09-19T09:09:13.360Z"
   },
   {
    "duration": 160,
    "start_time": "2023-09-19T09:09:18.700Z"
   },
   {
    "duration": 66,
    "start_time": "2023-09-19T09:09:26.719Z"
   },
   {
    "duration": 132,
    "start_time": "2023-09-19T09:09:30.606Z"
   },
   {
    "duration": 330,
    "start_time": "2023-09-19T09:09:34.807Z"
   },
   {
    "duration": 333,
    "start_time": "2023-09-19T09:09:54.831Z"
   },
   {
    "duration": 357,
    "start_time": "2023-09-19T09:10:10.743Z"
   },
   {
    "duration": 365,
    "start_time": "2023-09-19T09:10:15.566Z"
   },
   {
    "duration": 347,
    "start_time": "2023-09-19T09:10:19.822Z"
   },
   {
    "duration": 507,
    "start_time": "2023-09-19T09:11:25.334Z"
   },
   {
    "duration": 488,
    "start_time": "2023-09-19T09:12:54.526Z"
   },
   {
    "duration": 492,
    "start_time": "2023-09-19T09:12:59.232Z"
   },
   {
    "duration": 5,
    "start_time": "2023-09-19T09:15:24.059Z"
   },
   {
    "duration": 6,
    "start_time": "2023-09-19T09:15:27.786Z"
   },
   {
    "duration": 4,
    "start_time": "2023-09-19T09:15:42.011Z"
   },
   {
    "duration": 10,
    "start_time": "2023-09-19T09:15:46.018Z"
   },
   {
    "duration": 3,
    "start_time": "2023-09-19T09:15:52.035Z"
   },
   {
    "duration": 27,
    "start_time": "2023-09-19T09:15:58.563Z"
   },
   {
    "duration": 501,
    "start_time": "2023-09-19T09:16:10.788Z"
   },
   {
    "duration": 498,
    "start_time": "2023-09-19T09:16:21.867Z"
   },
   {
    "duration": 500,
    "start_time": "2023-09-19T09:16:26.437Z"
   },
   {
    "duration": 495,
    "start_time": "2023-09-19T09:17:53.676Z"
   },
   {
    "duration": 512,
    "start_time": "2023-09-19T09:18:00.244Z"
   },
   {
    "duration": 488,
    "start_time": "2023-09-19T09:18:06.212Z"
   },
   {
    "duration": 490,
    "start_time": "2023-09-19T09:18:16.685Z"
   },
   {
    "duration": 571,
    "start_time": "2023-09-19T09:18:21.909Z"
   },
   {
    "duration": 709,
    "start_time": "2023-09-19T09:18:58.525Z"
   },
   {
    "duration": 493,
    "start_time": "2023-09-19T09:19:02.269Z"
   },
   {
    "duration": 687,
    "start_time": "2023-09-19T09:19:07.842Z"
   },
   {
    "duration": 511,
    "start_time": "2023-09-19T09:19:10.132Z"
   },
   {
    "duration": 98,
    "start_time": "2023-09-19T09:19:45.662Z"
   },
   {
    "duration": 96,
    "start_time": "2023-09-19T09:19:49.365Z"
   },
   {
    "duration": 499,
    "start_time": "2023-09-19T09:19:59.318Z"
   },
   {
    "duration": 484,
    "start_time": "2023-09-19T09:20:06.863Z"
   },
   {
    "duration": 507,
    "start_time": "2023-09-19T09:21:03.439Z"
   },
   {
    "duration": 500,
    "start_time": "2023-09-19T09:21:35.815Z"
   },
   {
    "duration": 408,
    "start_time": "2023-09-19T09:22:51.728Z"
   },
   {
    "duration": 253,
    "start_time": "2023-09-19T09:23:09.098Z"
   },
   {
    "duration": 75,
    "start_time": "2023-09-19T09:23:12.936Z"
   },
   {
    "duration": 4,
    "start_time": "2023-09-19T09:23:20.665Z"
   },
   {
    "duration": 498,
    "start_time": "2023-09-19T09:23:23.912Z"
   },
   {
    "duration": 1681,
    "start_time": "2023-09-19T09:23:34.542Z"
   },
   {
    "duration": 66,
    "start_time": "2023-09-19T09:23:36.225Z"
   },
   {
    "duration": 23,
    "start_time": "2023-09-19T09:23:36.292Z"
   },
   {
    "duration": 7,
    "start_time": "2023-09-19T09:23:36.317Z"
   },
   {
    "duration": 1614,
    "start_time": "2023-09-19T09:23:36.326Z"
   },
   {
    "duration": 5,
    "start_time": "2023-09-19T09:23:37.941Z"
   },
   {
    "duration": 166,
    "start_time": "2023-09-19T09:23:40.200Z"
   },
   {
    "duration": 4,
    "start_time": "2023-09-19T09:24:24.562Z"
   },
   {
    "duration": 15,
    "start_time": "2023-09-19T09:24:27.279Z"
   },
   {
    "duration": 7218,
    "start_time": "2023-09-19T09:24:42.588Z"
   },
   {
    "duration": 494,
    "start_time": "2023-09-19T09:24:52.113Z"
   },
   {
    "duration": 476,
    "start_time": "2023-09-19T09:25:13.209Z"
   },
   {
    "duration": 659,
    "start_time": "2023-09-19T10:02:54.459Z"
   },
   {
    "duration": 20,
    "start_time": "2023-09-19T10:03:06.673Z"
   },
   {
    "duration": 505,
    "start_time": "2023-09-19T10:04:03.482Z"
   },
   {
    "duration": 480,
    "start_time": "2023-09-19T10:05:24.530Z"
   },
   {
    "duration": 1892,
    "start_time": "2023-09-19T10:05:27.770Z"
   },
   {
    "duration": 719,
    "start_time": "2023-09-19T10:05:30.218Z"
   },
   {
    "duration": 681,
    "start_time": "2023-09-19T10:05:38.290Z"
   },
   {
    "duration": 335,
    "start_time": "2023-09-19T10:05:52.002Z"
   },
   {
    "duration": 683,
    "start_time": "2023-09-19T10:05:55.610Z"
   },
   {
    "duration": 14,
    "start_time": "2023-09-19T10:06:46.413Z"
   },
   {
    "duration": 31,
    "start_time": "2023-09-19T10:08:07.476Z"
   },
   {
    "duration": 14,
    "start_time": "2023-09-19T10:08:08.208Z"
   },
   {
    "duration": 797,
    "start_time": "2023-09-19T10:10:42.934Z"
   },
   {
    "duration": 5905,
    "start_time": "2023-09-19T10:14:17.258Z"
   },
   {
    "duration": 6211,
    "start_time": "2023-09-19T10:15:46.009Z"
   },
   {
    "duration": 6252,
    "start_time": "2023-09-19T10:16:10.226Z"
   },
   {
    "duration": 23900,
    "start_time": "2023-09-19T10:16:27.313Z"
   },
   {
    "duration": 23905,
    "start_time": "2023-09-19T10:17:19.739Z"
   },
   {
    "duration": 180,
    "start_time": "2023-09-19T10:18:29.131Z"
   },
   {
    "duration": 711,
    "start_time": "2023-09-19T10:19:54.725Z"
   },
   {
    "duration": 617,
    "start_time": "2023-09-19T10:20:02.167Z"
   },
   {
    "duration": 2265931,
    "start_time": "2023-09-19T10:20:22.727Z"
   },
   {
    "duration": 175,
    "start_time": "2023-09-19T10:58:51.160Z"
   },
   {
    "duration": 11,
    "start_time": "2023-09-19T10:59:12.719Z"
   },
   {
    "duration": 5,
    "start_time": "2023-09-19T10:59:28.535Z"
   },
   {
    "duration": 7,
    "start_time": "2023-09-19T10:59:44.752Z"
   },
   {
    "duration": 12,
    "start_time": "2023-09-19T10:59:54.504Z"
   },
   {
    "duration": 16,
    "start_time": "2023-09-19T11:01:11.705Z"
   },
   {
    "duration": 50,
    "start_time": "2023-09-19T11:01:13.297Z"
   },
   {
    "duration": 53,
    "start_time": "2023-09-19T11:01:23.217Z"
   },
   {
    "duration": 193,
    "start_time": "2023-09-19T11:01:48.403Z"
   },
   {
    "duration": 118,
    "start_time": "2023-09-19T11:02:00.426Z"
   },
   {
    "duration": 269537,
    "start_time": "2023-09-19T11:02:08.042Z"
   },
   {
    "duration": 14,
    "start_time": "2023-09-19T11:06:55.198Z"
   },
   {
    "duration": 118,
    "start_time": "2023-09-19T11:07:40.961Z"
   },
   {
    "duration": 111,
    "start_time": "2023-09-19T11:07:50.503Z"
   },
   {
    "duration": 5,
    "start_time": "2023-09-19T11:07:58.623Z"
   },
   {
    "duration": 142,
    "start_time": "2023-09-19T11:08:37.287Z"
   },
   {
    "duration": 132,
    "start_time": "2023-09-19T11:08:50.279Z"
   },
   {
    "duration": 5,
    "start_time": "2023-09-19T11:08:54.114Z"
   },
   {
    "duration": 6,
    "start_time": "2023-09-19T11:10:04.441Z"
   },
   {
    "duration": 6,
    "start_time": "2023-09-19T11:10:11.409Z"
   },
   {
    "duration": 363,
    "start_time": "2023-09-19T11:11:42.178Z"
   },
   {
    "duration": 9071,
    "start_time": "2023-09-19T11:11:46.610Z"
   },
   {
    "duration": 270331,
    "start_time": "2023-09-19T11:12:04.154Z"
   },
   {
    "duration": 417,
    "start_time": "2023-09-19T11:16:34.487Z"
   },
   {
    "duration": 93484,
    "start_time": "2023-09-19T11:16:34.906Z"
   },
   {
    "duration": 8,
    "start_time": "2023-09-19T11:45:55.821Z"
   },
   {
    "duration": 6,
    "start_time": "2023-09-19T11:45:57.268Z"
   },
   {
    "duration": 13,
    "start_time": "2023-09-19T11:45:58.372Z"
   },
   {
    "duration": 5,
    "start_time": "2023-09-19T11:45:59.443Z"
   },
   {
    "duration": 8,
    "start_time": "2023-09-19T11:46:02.645Z"
   },
   {
    "duration": 9,
    "start_time": "2023-09-19T11:46:04.300Z"
   },
   {
    "duration": 9,
    "start_time": "2023-09-19T11:46:05.931Z"
   },
   {
    "duration": 9,
    "start_time": "2023-09-19T11:47:16.925Z"
   },
   {
    "duration": 7,
    "start_time": "2023-09-19T11:48:25.511Z"
   },
   {
    "duration": 6,
    "start_time": "2023-09-19T11:48:40.550Z"
   },
   {
    "duration": 14,
    "start_time": "2023-09-19T11:49:06.102Z"
   },
   {
    "duration": 6,
    "start_time": "2023-09-19T11:49:19.119Z"
   },
   {
    "duration": 6,
    "start_time": "2023-09-19T11:50:14.184Z"
   },
   {
    "duration": 115,
    "start_time": "2023-09-19T11:50:28.096Z"
   },
   {
    "duration": 9,
    "start_time": "2023-09-19T11:50:31.759Z"
   },
   {
    "duration": 174,
    "start_time": "2023-09-19T11:52:34.681Z"
   },
   {
    "duration": 4,
    "start_time": "2023-09-19T11:52:37.099Z"
   },
   {
    "duration": 1500,
    "start_time": "2023-09-19T11:57:22.611Z"
   },
   {
    "duration": 59,
    "start_time": "2023-09-19T11:57:24.113Z"
   },
   {
    "duration": 24,
    "start_time": "2023-09-19T11:57:24.173Z"
   },
   {
    "duration": 16,
    "start_time": "2023-09-19T11:57:24.199Z"
   },
   {
    "duration": 1552,
    "start_time": "2023-09-19T11:57:24.217Z"
   },
   {
    "duration": 1824,
    "start_time": "2023-09-19T11:57:25.771Z"
   },
   {
    "duration": 653,
    "start_time": "2023-09-19T11:57:27.597Z"
   },
   {
    "duration": 15,
    "start_time": "2023-09-19T11:57:28.251Z"
   },
   {
    "duration": 51,
    "start_time": "2023-09-19T11:57:28.267Z"
   },
   {
    "duration": 15,
    "start_time": "2023-09-19T11:57:28.320Z"
   },
   {
    "duration": 710,
    "start_time": "2023-09-19T11:57:28.337Z"
   },
   {
    "duration": 22989,
    "start_time": "2023-09-19T11:57:29.049Z"
   },
   {
    "duration": 19,
    "start_time": "2023-09-19T11:57:52.040Z"
   },
   {
    "duration": 59,
    "start_time": "2023-09-19T11:57:52.061Z"
   },
   {
    "duration": 276950,
    "start_time": "2023-09-19T11:57:52.122Z"
   },
   {
    "duration": 393,
    "start_time": "2023-09-19T12:02:29.074Z"
   },
   {
    "duration": 91261,
    "start_time": "2023-09-19T12:02:29.469Z"
   },
   {
    "duration": 18,
    "start_time": "2023-09-19T12:04:00.731Z"
   },
   {
    "duration": 45,
    "start_time": "2023-09-19T12:04:00.750Z"
   },
   {
    "duration": 60,
    "start_time": "2023-09-19T12:04:00.797Z"
   },
   {
    "duration": 21,
    "start_time": "2023-09-19T12:04:00.859Z"
   },
   {
    "duration": 68,
    "start_time": "2023-09-19T12:04:00.882Z"
   },
   {
    "duration": 89,
    "start_time": "2023-09-19T12:04:00.952Z"
   },
   {
    "duration": 311,
    "start_time": "2023-09-19T12:04:01.043Z"
   },
   {
    "duration": 4,
    "start_time": "2023-09-19T12:04:01.356Z"
   },
   {
    "duration": 135,
    "start_time": "2023-09-19T12:04:01.361Z"
   },
   {
    "duration": 34,
    "start_time": "2023-09-19T12:04:01.498Z"
   },
   {
    "duration": 32,
    "start_time": "2023-09-19T12:04:01.535Z"
   }
  ],
  "kernelspec": {
   "display_name": "Python 3 (ipykernel)",
   "language": "python",
   "name": "python3"
  },
  "language_info": {
   "codemirror_mode": {
    "name": "ipython",
    "version": 3
   },
   "file_extension": ".py",
   "mimetype": "text/x-python",
   "name": "python",
   "nbconvert_exporter": "python",
   "pygments_lexer": "ipython3",
   "version": "3.9.5"
  },
  "toc": {
   "base_numbering": 1,
   "nav_menu": {},
   "number_sections": true,
   "sideBar": true,
   "skip_h1_title": true,
   "title_cell": "Содержание",
   "title_sidebar": "Contents",
   "toc_cell": true,
   "toc_position": {
    "height": "calc(100% - 180px)",
    "left": "10px",
    "top": "150px",
    "width": "257.391px"
   },
   "toc_section_display": true,
   "toc_window_display": true
  }
 },
 "nbformat": 4,
 "nbformat_minor": 2
}
