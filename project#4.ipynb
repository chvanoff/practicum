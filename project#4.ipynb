{
 "cells": [
  {
   "cell_type": "markdown",
   "metadata": {},
   "source": [
    "# Определение перспективного тарифа для телеком-компании\n",
    "\n",
    "       Мы - аналитик компании «Мегалайн» — федерального оператора сотовой связи.  \n",
    "Клиентам предлагают два тарифных плана: «Смарт» и «Ультра». Чтобы скорректировать рекламный бюджет, коммерческий департамент хочет понять, какой тариф приносит больше денег.  \n",
    "Нам предстоит сделать предварительный анализ тарифов на небольшой выборке клиентов. В вашем распоряжении данные 500 пользователей «Мегалайна»: кто они, откуда, каким тарифом пользуются, сколько звонков и сообщений каждый отправил за 2018 год. Нужно проанализировать поведение клиентов и сделать вывод — какой тариф лучше.  "
   ]
  },
  {
   "cell_type": "markdown",
   "metadata": {
    "toc": true
   },
   "source": [
    "<h1>Содержание<span class=\"tocSkip\"></span></h1>\n",
    "<div class=\"toc\"><ul class=\"toc-item\"><li><span><a href=\"#Изучение-данных-из-файла\" data-toc-modified-id=\"Изучение-данных-из-файла-1\"><span class=\"toc-item-num\">1&nbsp;&nbsp;</span>Изучение данных из файла</a></span><ul class=\"toc-item\"><li><span><a href=\"#Calls\" data-toc-modified-id=\"Calls-1.1\"><span class=\"toc-item-num\">1.1&nbsp;&nbsp;</span>Calls</a></span></li><li><span><a href=\"#Internet\" data-toc-modified-id=\"Internet-1.2\"><span class=\"toc-item-num\">1.2&nbsp;&nbsp;</span>Internet</a></span></li><li><span><a href=\"#Messages\" data-toc-modified-id=\"Messages-1.3\"><span class=\"toc-item-num\">1.3&nbsp;&nbsp;</span>Messages</a></span></li><li><span><a href=\"#Tariffs\" data-toc-modified-id=\"Tariffs-1.4\"><span class=\"toc-item-num\">1.4&nbsp;&nbsp;</span>Tariffs</a></span></li><li><span><a href=\"#Users\" data-toc-modified-id=\"Users-1.5\"><span class=\"toc-item-num\">1.5&nbsp;&nbsp;</span>Users</a></span></li><li><span><a href=\"#Подытог\" data-toc-modified-id=\"Подытог-1.6\"><span class=\"toc-item-num\">1.6&nbsp;&nbsp;</span>Подытог</a></span></li></ul></li><li><span><a href=\"#Подготовка-данных\" data-toc-modified-id=\"Подготовка-данных-2\"><span class=\"toc-item-num\">2&nbsp;&nbsp;</span>Подготовка данных</a></span><ul class=\"toc-item\"><li><span><a href=\"#Найдите-и-исправьте-ошибки-в-данных\" data-toc-modified-id=\"Найдите-и-исправьте-ошибки-в-данных-2.1\"><span class=\"toc-item-num\">2.1&nbsp;&nbsp;</span>Найдите и исправьте ошибки в данных</a></span></li><li><span><a href=\"#Подытог\" data-toc-modified-id=\"Подытог-2.2\"><span class=\"toc-item-num\">2.2&nbsp;&nbsp;</span>Подытог</a></span></li><li><span><a href=\"#Расчет-использованных-услуг-по-пользователям-в-месяц\" data-toc-modified-id=\"Расчет-использованных-услуг-по-пользователям-в-месяц-2.3\"><span class=\"toc-item-num\">2.3&nbsp;&nbsp;</span>Расчет использованных услуг по пользователям в месяц</a></span><ul class=\"toc-item\"><li><span><a href=\"#Помесячная-выручку-с-каждого-пользователя\" data-toc-modified-id=\"Помесячная-выручку-с-каждого-пользователя-2.3.1\"><span class=\"toc-item-num\">2.3.1&nbsp;&nbsp;</span>Помесячная выручку с каждого пользователя</a></span></li></ul></li><li><span><a href=\"#Подытог\" data-toc-modified-id=\"Подытог-2.4\"><span class=\"toc-item-num\">2.4&nbsp;&nbsp;</span>Подытог</a></span></li></ul></li><li><span><a href=\"#Анализ-данных\" data-toc-modified-id=\"Анализ-данных-3\"><span class=\"toc-item-num\">3&nbsp;&nbsp;</span>Анализ данных</a></span><ul class=\"toc-item\"><li><span><a href=\"#Анализ-объемов-использования-услуг\" data-toc-modified-id=\"Анализ-объемов-использования-услуг-3.1\"><span class=\"toc-item-num\">3.1&nbsp;&nbsp;</span>Анализ объемов использования услуг</a></span></li><li><span><a href=\"#Анализ-выручки\" data-toc-modified-id=\"Анализ-выручки-3.2\"><span class=\"toc-item-num\">3.2&nbsp;&nbsp;</span>Анализ выручки</a></span></li><li><span><a href=\"#Подытог\" data-toc-modified-id=\"Подытог-3.3\"><span class=\"toc-item-num\">3.3&nbsp;&nbsp;</span>Подытог</a></span></li></ul></li><li><span><a href=\"#Проверка-гипотез\" data-toc-modified-id=\"Проверка-гипотез-4\"><span class=\"toc-item-num\">4&nbsp;&nbsp;</span>Проверка гипотез</a></span><ul class=\"toc-item\"><li><span><a href=\"#Гипотеза-1\" data-toc-modified-id=\"Гипотеза-1-4.1\"><span class=\"toc-item-num\">4.1&nbsp;&nbsp;</span>Гипотеза 1</a></span></li><li><span><a href=\"#Гипотеза-2\" data-toc-modified-id=\"Гипотеза-2-4.2\"><span class=\"toc-item-num\">4.2&nbsp;&nbsp;</span>Гипотеза 2</a></span></li><li><span><a href=\"#Дополнительный-анализ\" data-toc-modified-id=\"Дополнительный-анализ-4.3\"><span class=\"toc-item-num\">4.3&nbsp;&nbsp;</span>Дополнительный анализ</a></span></li></ul></li><li><span><a href=\"#Общий-вывод\" data-toc-modified-id=\"Общий-вывод-5\"><span class=\"toc-item-num\">5&nbsp;&nbsp;</span>Общий вывод</a></span></li></ul></div>"
   ]
  },
  {
   "cell_type": "markdown",
   "metadata": {},
   "source": [
    "## Изучение данных из файла\n"
   ]
  },
  {
   "cell_type": "code",
   "execution_count": 1,
   "metadata": {},
   "outputs": [],
   "source": [
    "import pandas as pd\n",
    "import numpy as np\n",
    "import matplotlib.pyplot as plt\n",
    "from scipy import stats as st\n",
    "import math"
   ]
  },
  {
   "cell_type": "markdown",
   "metadata": {},
   "source": [
    "### Calls"
   ]
  },
  {
   "cell_type": "code",
   "execution_count": 2,
   "metadata": {},
   "outputs": [
    {
     "name": "stdout",
     "output_type": "stream",
     "text": [
      "<class 'pandas.core.frame.DataFrame'>\n",
      "RangeIndex: 202607 entries, 0 to 202606\n",
      "Data columns (total 4 columns):\n",
      " #   Column     Non-Null Count   Dtype  \n",
      "---  ------     --------------   -----  \n",
      " 0   id         202607 non-null  object \n",
      " 1   call_date  202607 non-null  object \n",
      " 2   duration   202607 non-null  float64\n",
      " 3   user_id    202607 non-null  int64  \n",
      "dtypes: float64(1), int64(1), object(2)\n",
      "memory usage: 6.2+ MB\n"
     ]
    },
    {
     "data": {
      "text/html": [
       "<div>\n",
       "<style scoped>\n",
       "    .dataframe tbody tr th:only-of-type {\n",
       "        vertical-align: middle;\n",
       "    }\n",
       "\n",
       "    .dataframe tbody tr th {\n",
       "        vertical-align: top;\n",
       "    }\n",
       "\n",
       "    .dataframe thead th {\n",
       "        text-align: right;\n",
       "    }\n",
       "</style>\n",
       "<table border=\"1\" class=\"dataframe\">\n",
       "  <thead>\n",
       "    <tr style=\"text-align: right;\">\n",
       "      <th></th>\n",
       "      <th>id</th>\n",
       "      <th>call_date</th>\n",
       "      <th>duration</th>\n",
       "      <th>user_id</th>\n",
       "    </tr>\n",
       "  </thead>\n",
       "  <tbody>\n",
       "    <tr>\n",
       "      <th>0</th>\n",
       "      <td>1000_0</td>\n",
       "      <td>2018-07-25</td>\n",
       "      <td>0.00</td>\n",
       "      <td>1000</td>\n",
       "    </tr>\n",
       "    <tr>\n",
       "      <th>1</th>\n",
       "      <td>1000_1</td>\n",
       "      <td>2018-08-17</td>\n",
       "      <td>0.00</td>\n",
       "      <td>1000</td>\n",
       "    </tr>\n",
       "    <tr>\n",
       "      <th>2</th>\n",
       "      <td>1000_2</td>\n",
       "      <td>2018-06-11</td>\n",
       "      <td>2.85</td>\n",
       "      <td>1000</td>\n",
       "    </tr>\n",
       "    <tr>\n",
       "      <th>3</th>\n",
       "      <td>1000_3</td>\n",
       "      <td>2018-09-21</td>\n",
       "      <td>13.80</td>\n",
       "      <td>1000</td>\n",
       "    </tr>\n",
       "    <tr>\n",
       "      <th>4</th>\n",
       "      <td>1000_4</td>\n",
       "      <td>2018-12-15</td>\n",
       "      <td>5.18</td>\n",
       "      <td>1000</td>\n",
       "    </tr>\n",
       "    <tr>\n",
       "      <th>5</th>\n",
       "      <td>1000_5</td>\n",
       "      <td>2018-11-02</td>\n",
       "      <td>0.00</td>\n",
       "      <td>1000</td>\n",
       "    </tr>\n",
       "    <tr>\n",
       "      <th>6</th>\n",
       "      <td>1000_6</td>\n",
       "      <td>2018-10-18</td>\n",
       "      <td>0.00</td>\n",
       "      <td>1000</td>\n",
       "    </tr>\n",
       "    <tr>\n",
       "      <th>7</th>\n",
       "      <td>1000_7</td>\n",
       "      <td>2018-08-22</td>\n",
       "      <td>18.31</td>\n",
       "      <td>1000</td>\n",
       "    </tr>\n",
       "    <tr>\n",
       "      <th>8</th>\n",
       "      <td>1000_8</td>\n",
       "      <td>2018-09-15</td>\n",
       "      <td>18.44</td>\n",
       "      <td>1000</td>\n",
       "    </tr>\n",
       "    <tr>\n",
       "      <th>9</th>\n",
       "      <td>1000_9</td>\n",
       "      <td>2018-08-15</td>\n",
       "      <td>0.00</td>\n",
       "      <td>1000</td>\n",
       "    </tr>\n",
       "  </tbody>\n",
       "</table>\n",
       "</div>"
      ],
      "text/plain": [
       "       id   call_date  duration  user_id\n",
       "0  1000_0  2018-07-25      0.00     1000\n",
       "1  1000_1  2018-08-17      0.00     1000\n",
       "2  1000_2  2018-06-11      2.85     1000\n",
       "3  1000_3  2018-09-21     13.80     1000\n",
       "4  1000_4  2018-12-15      5.18     1000\n",
       "5  1000_5  2018-11-02      0.00     1000\n",
       "6  1000_6  2018-10-18      0.00     1000\n",
       "7  1000_7  2018-08-22     18.31     1000\n",
       "8  1000_8  2018-09-15     18.44     1000\n",
       "9  1000_9  2018-08-15      0.00     1000"
      ]
     },
     "execution_count": 2,
     "metadata": {},
     "output_type": "execute_result"
    }
   ],
   "source": [
    "try:\n",
    "    calls = pd.read_csv('C://datasets/calls.csv')\n",
    "except:\n",
    "    calls = pd.read_csv('/datasets/calls.csv')\n",
    "\n",
    "    \n",
    "calls.info()\n",
    "calls.head(10)"
   ]
  },
  {
   "cell_type": "markdown",
   "metadata": {},
   "source": [
    "### Internet"
   ]
  },
  {
   "cell_type": "code",
   "execution_count": 3,
   "metadata": {
    "scrolled": false
   },
   "outputs": [
    {
     "name": "stdout",
     "output_type": "stream",
     "text": [
      "<class 'pandas.core.frame.DataFrame'>\n",
      "RangeIndex: 149396 entries, 0 to 149395\n",
      "Data columns (total 5 columns):\n",
      " #   Column        Non-Null Count   Dtype  \n",
      "---  ------        --------------   -----  \n",
      " 0   Unnamed: 0    149396 non-null  int64  \n",
      " 1   id            149396 non-null  object \n",
      " 2   mb_used       149396 non-null  float64\n",
      " 3   session_date  149396 non-null  object \n",
      " 4   user_id       149396 non-null  int64  \n",
      "dtypes: float64(1), int64(2), object(2)\n",
      "memory usage: 5.7+ MB\n"
     ]
    },
    {
     "data": {
      "text/html": [
       "<div>\n",
       "<style scoped>\n",
       "    .dataframe tbody tr th:only-of-type {\n",
       "        vertical-align: middle;\n",
       "    }\n",
       "\n",
       "    .dataframe tbody tr th {\n",
       "        vertical-align: top;\n",
       "    }\n",
       "\n",
       "    .dataframe thead th {\n",
       "        text-align: right;\n",
       "    }\n",
       "</style>\n",
       "<table border=\"1\" class=\"dataframe\">\n",
       "  <thead>\n",
       "    <tr style=\"text-align: right;\">\n",
       "      <th></th>\n",
       "      <th>Unnamed: 0</th>\n",
       "      <th>id</th>\n",
       "      <th>mb_used</th>\n",
       "      <th>session_date</th>\n",
       "      <th>user_id</th>\n",
       "    </tr>\n",
       "  </thead>\n",
       "  <tbody>\n",
       "    <tr>\n",
       "      <th>0</th>\n",
       "      <td>0</td>\n",
       "      <td>1000_0</td>\n",
       "      <td>112.95</td>\n",
       "      <td>2018-11-25</td>\n",
       "      <td>1000</td>\n",
       "    </tr>\n",
       "    <tr>\n",
       "      <th>1</th>\n",
       "      <td>1</td>\n",
       "      <td>1000_1</td>\n",
       "      <td>1052.81</td>\n",
       "      <td>2018-09-07</td>\n",
       "      <td>1000</td>\n",
       "    </tr>\n",
       "    <tr>\n",
       "      <th>2</th>\n",
       "      <td>2</td>\n",
       "      <td>1000_2</td>\n",
       "      <td>1197.26</td>\n",
       "      <td>2018-06-25</td>\n",
       "      <td>1000</td>\n",
       "    </tr>\n",
       "    <tr>\n",
       "      <th>3</th>\n",
       "      <td>3</td>\n",
       "      <td>1000_3</td>\n",
       "      <td>550.27</td>\n",
       "      <td>2018-08-22</td>\n",
       "      <td>1000</td>\n",
       "    </tr>\n",
       "    <tr>\n",
       "      <th>4</th>\n",
       "      <td>4</td>\n",
       "      <td>1000_4</td>\n",
       "      <td>302.56</td>\n",
       "      <td>2018-09-24</td>\n",
       "      <td>1000</td>\n",
       "    </tr>\n",
       "    <tr>\n",
       "      <th>5</th>\n",
       "      <td>5</td>\n",
       "      <td>1000_5</td>\n",
       "      <td>399.97</td>\n",
       "      <td>2018-10-02</td>\n",
       "      <td>1000</td>\n",
       "    </tr>\n",
       "    <tr>\n",
       "      <th>6</th>\n",
       "      <td>6</td>\n",
       "      <td>1000_6</td>\n",
       "      <td>540.08</td>\n",
       "      <td>2018-09-07</td>\n",
       "      <td>1000</td>\n",
       "    </tr>\n",
       "    <tr>\n",
       "      <th>7</th>\n",
       "      <td>7</td>\n",
       "      <td>1000_7</td>\n",
       "      <td>415.70</td>\n",
       "      <td>2018-07-11</td>\n",
       "      <td>1000</td>\n",
       "    </tr>\n",
       "    <tr>\n",
       "      <th>8</th>\n",
       "      <td>8</td>\n",
       "      <td>1000_8</td>\n",
       "      <td>505.40</td>\n",
       "      <td>2018-10-08</td>\n",
       "      <td>1000</td>\n",
       "    </tr>\n",
       "    <tr>\n",
       "      <th>9</th>\n",
       "      <td>9</td>\n",
       "      <td>1000_9</td>\n",
       "      <td>345.54</td>\n",
       "      <td>2018-09-03</td>\n",
       "      <td>1000</td>\n",
       "    </tr>\n",
       "  </tbody>\n",
       "</table>\n",
       "</div>"
      ],
      "text/plain": [
       "   Unnamed: 0      id  mb_used session_date  user_id\n",
       "0           0  1000_0   112.95   2018-11-25     1000\n",
       "1           1  1000_1  1052.81   2018-09-07     1000\n",
       "2           2  1000_2  1197.26   2018-06-25     1000\n",
       "3           3  1000_3   550.27   2018-08-22     1000\n",
       "4           4  1000_4   302.56   2018-09-24     1000\n",
       "5           5  1000_5   399.97   2018-10-02     1000\n",
       "6           6  1000_6   540.08   2018-09-07     1000\n",
       "7           7  1000_7   415.70   2018-07-11     1000\n",
       "8           8  1000_8   505.40   2018-10-08     1000\n",
       "9           9  1000_9   345.54   2018-09-03     1000"
      ]
     },
     "execution_count": 3,
     "metadata": {},
     "output_type": "execute_result"
    }
   ],
   "source": [
    "internet = pd.read_csv('/datasets/internet.csv')\n",
    "internet.info()\n",
    "internet.head(10)"
   ]
  },
  {
   "cell_type": "code",
   "execution_count": 4,
   "metadata": {},
   "outputs": [
    {
     "data": {
      "text/plain": [
       "array([0])"
      ]
     },
     "execution_count": 4,
     "metadata": {},
     "output_type": "execute_result"
    }
   ],
   "source": [
    "a =  internet['Unnamed: 0'] - internet['Unnamed: 0'].index\n",
    "a.unique()"
   ]
  },
  {
   "cell_type": "markdown",
   "metadata": {},
   "source": [
    "    Стобец \"Unnamed: 0\" копирует индекс, поэтому удалим его."
   ]
  },
  {
   "cell_type": "code",
   "execution_count": 5,
   "metadata": {},
   "outputs": [],
   "source": [
    "internet = internet.drop('Unnamed: 0', axis=1)"
   ]
  },
  {
   "cell_type": "markdown",
   "metadata": {},
   "source": [
    "### Messages"
   ]
  },
  {
   "cell_type": "code",
   "execution_count": 6,
   "metadata": {},
   "outputs": [
    {
     "name": "stdout",
     "output_type": "stream",
     "text": [
      "<class 'pandas.core.frame.DataFrame'>\n",
      "RangeIndex: 123036 entries, 0 to 123035\n",
      "Data columns (total 3 columns):\n",
      " #   Column        Non-Null Count   Dtype \n",
      "---  ------        --------------   ----- \n",
      " 0   id            123036 non-null  object\n",
      " 1   message_date  123036 non-null  object\n",
      " 2   user_id       123036 non-null  int64 \n",
      "dtypes: int64(1), object(2)\n",
      "memory usage: 2.8+ MB\n"
     ]
    },
    {
     "data": {
      "text/html": [
       "<div>\n",
       "<style scoped>\n",
       "    .dataframe tbody tr th:only-of-type {\n",
       "        vertical-align: middle;\n",
       "    }\n",
       "\n",
       "    .dataframe tbody tr th {\n",
       "        vertical-align: top;\n",
       "    }\n",
       "\n",
       "    .dataframe thead th {\n",
       "        text-align: right;\n",
       "    }\n",
       "</style>\n",
       "<table border=\"1\" class=\"dataframe\">\n",
       "  <thead>\n",
       "    <tr style=\"text-align: right;\">\n",
       "      <th></th>\n",
       "      <th>id</th>\n",
       "      <th>message_date</th>\n",
       "      <th>user_id</th>\n",
       "    </tr>\n",
       "  </thead>\n",
       "  <tbody>\n",
       "    <tr>\n",
       "      <th>0</th>\n",
       "      <td>1000_0</td>\n",
       "      <td>2018-06-27</td>\n",
       "      <td>1000</td>\n",
       "    </tr>\n",
       "    <tr>\n",
       "      <th>1</th>\n",
       "      <td>1000_1</td>\n",
       "      <td>2018-10-08</td>\n",
       "      <td>1000</td>\n",
       "    </tr>\n",
       "    <tr>\n",
       "      <th>2</th>\n",
       "      <td>1000_2</td>\n",
       "      <td>2018-08-04</td>\n",
       "      <td>1000</td>\n",
       "    </tr>\n",
       "    <tr>\n",
       "      <th>3</th>\n",
       "      <td>1000_3</td>\n",
       "      <td>2018-06-16</td>\n",
       "      <td>1000</td>\n",
       "    </tr>\n",
       "    <tr>\n",
       "      <th>4</th>\n",
       "      <td>1000_4</td>\n",
       "      <td>2018-12-05</td>\n",
       "      <td>1000</td>\n",
       "    </tr>\n",
       "    <tr>\n",
       "      <th>5</th>\n",
       "      <td>1000_5</td>\n",
       "      <td>2018-06-20</td>\n",
       "      <td>1000</td>\n",
       "    </tr>\n",
       "    <tr>\n",
       "      <th>6</th>\n",
       "      <td>1000_6</td>\n",
       "      <td>2018-11-19</td>\n",
       "      <td>1000</td>\n",
       "    </tr>\n",
       "    <tr>\n",
       "      <th>7</th>\n",
       "      <td>1000_7</td>\n",
       "      <td>2018-10-29</td>\n",
       "      <td>1000</td>\n",
       "    </tr>\n",
       "    <tr>\n",
       "      <th>8</th>\n",
       "      <td>1000_8</td>\n",
       "      <td>2018-06-25</td>\n",
       "      <td>1000</td>\n",
       "    </tr>\n",
       "    <tr>\n",
       "      <th>9</th>\n",
       "      <td>1000_9</td>\n",
       "      <td>2018-12-18</td>\n",
       "      <td>1000</td>\n",
       "    </tr>\n",
       "  </tbody>\n",
       "</table>\n",
       "</div>"
      ],
      "text/plain": [
       "       id message_date  user_id\n",
       "0  1000_0   2018-06-27     1000\n",
       "1  1000_1   2018-10-08     1000\n",
       "2  1000_2   2018-08-04     1000\n",
       "3  1000_3   2018-06-16     1000\n",
       "4  1000_4   2018-12-05     1000\n",
       "5  1000_5   2018-06-20     1000\n",
       "6  1000_6   2018-11-19     1000\n",
       "7  1000_7   2018-10-29     1000\n",
       "8  1000_8   2018-06-25     1000\n",
       "9  1000_9   2018-12-18     1000"
      ]
     },
     "execution_count": 6,
     "metadata": {},
     "output_type": "execute_result"
    }
   ],
   "source": [
    "messages = pd.read_csv('/datasets/messages.csv')\n",
    "messages.info()\n",
    "messages.head(10)  "
   ]
  },
  {
   "cell_type": "markdown",
   "metadata": {},
   "source": [
    "### Tariffs"
   ]
  },
  {
   "cell_type": "code",
   "execution_count": 7,
   "metadata": {},
   "outputs": [
    {
     "name": "stdout",
     "output_type": "stream",
     "text": [
      "<class 'pandas.core.frame.DataFrame'>\n",
      "RangeIndex: 2 entries, 0 to 1\n",
      "Data columns (total 8 columns):\n",
      " #   Column                 Non-Null Count  Dtype \n",
      "---  ------                 --------------  ----- \n",
      " 0   messages_included      2 non-null      int64 \n",
      " 1   mb_per_month_included  2 non-null      int64 \n",
      " 2   minutes_included       2 non-null      int64 \n",
      " 3   rub_monthly_fee        2 non-null      int64 \n",
      " 4   rub_per_gb             2 non-null      int64 \n",
      " 5   rub_per_message        2 non-null      int64 \n",
      " 6   rub_per_minute         2 non-null      int64 \n",
      " 7   tariff_name            2 non-null      object\n",
      "dtypes: int64(7), object(1)\n",
      "memory usage: 256.0+ bytes\n"
     ]
    },
    {
     "data": {
      "text/html": [
       "<div>\n",
       "<style scoped>\n",
       "    .dataframe tbody tr th:only-of-type {\n",
       "        vertical-align: middle;\n",
       "    }\n",
       "\n",
       "    .dataframe tbody tr th {\n",
       "        vertical-align: top;\n",
       "    }\n",
       "\n",
       "    .dataframe thead th {\n",
       "        text-align: right;\n",
       "    }\n",
       "</style>\n",
       "<table border=\"1\" class=\"dataframe\">\n",
       "  <thead>\n",
       "    <tr style=\"text-align: right;\">\n",
       "      <th></th>\n",
       "      <th>messages_included</th>\n",
       "      <th>mb_per_month_included</th>\n",
       "      <th>minutes_included</th>\n",
       "      <th>rub_monthly_fee</th>\n",
       "      <th>rub_per_gb</th>\n",
       "      <th>rub_per_message</th>\n",
       "      <th>rub_per_minute</th>\n",
       "      <th>tariff_name</th>\n",
       "    </tr>\n",
       "  </thead>\n",
       "  <tbody>\n",
       "    <tr>\n",
       "      <th>0</th>\n",
       "      <td>50</td>\n",
       "      <td>15360</td>\n",
       "      <td>500</td>\n",
       "      <td>550</td>\n",
       "      <td>200</td>\n",
       "      <td>3</td>\n",
       "      <td>3</td>\n",
       "      <td>smart</td>\n",
       "    </tr>\n",
       "    <tr>\n",
       "      <th>1</th>\n",
       "      <td>1000</td>\n",
       "      <td>30720</td>\n",
       "      <td>3000</td>\n",
       "      <td>1950</td>\n",
       "      <td>150</td>\n",
       "      <td>1</td>\n",
       "      <td>1</td>\n",
       "      <td>ultra</td>\n",
       "    </tr>\n",
       "  </tbody>\n",
       "</table>\n",
       "</div>"
      ],
      "text/plain": [
       "   messages_included  mb_per_month_included  minutes_included  \\\n",
       "0                 50                  15360               500   \n",
       "1               1000                  30720              3000   \n",
       "\n",
       "   rub_monthly_fee  rub_per_gb  rub_per_message  rub_per_minute tariff_name  \n",
       "0              550         200                3               3       smart  \n",
       "1             1950         150                1               1       ultra  "
      ]
     },
     "execution_count": 7,
     "metadata": {},
     "output_type": "execute_result"
    }
   ],
   "source": [
    "tariffs = pd.read_csv('/datasets/tariffs.csv')\n",
    "tariffs.info()\n",
    "tariffs.head(10) "
   ]
  },
  {
   "cell_type": "markdown",
   "metadata": {},
   "source": [
    "### Users"
   ]
  },
  {
   "cell_type": "code",
   "execution_count": 8,
   "metadata": {},
   "outputs": [
    {
     "name": "stdout",
     "output_type": "stream",
     "text": [
      "<class 'pandas.core.frame.DataFrame'>\n",
      "RangeIndex: 500 entries, 0 to 499\n",
      "Data columns (total 8 columns):\n",
      " #   Column      Non-Null Count  Dtype \n",
      "---  ------      --------------  ----- \n",
      " 0   user_id     500 non-null    int64 \n",
      " 1   age         500 non-null    int64 \n",
      " 2   churn_date  38 non-null     object\n",
      " 3   city        500 non-null    object\n",
      " 4   first_name  500 non-null    object\n",
      " 5   last_name   500 non-null    object\n",
      " 6   reg_date    500 non-null    object\n",
      " 7   tariff      500 non-null    object\n",
      "dtypes: int64(2), object(6)\n",
      "memory usage: 31.4+ KB\n"
     ]
    },
    {
     "data": {
      "text/html": [
       "<div>\n",
       "<style scoped>\n",
       "    .dataframe tbody tr th:only-of-type {\n",
       "        vertical-align: middle;\n",
       "    }\n",
       "\n",
       "    .dataframe tbody tr th {\n",
       "        vertical-align: top;\n",
       "    }\n",
       "\n",
       "    .dataframe thead th {\n",
       "        text-align: right;\n",
       "    }\n",
       "</style>\n",
       "<table border=\"1\" class=\"dataframe\">\n",
       "  <thead>\n",
       "    <tr style=\"text-align: right;\">\n",
       "      <th></th>\n",
       "      <th>user_id</th>\n",
       "      <th>age</th>\n",
       "      <th>churn_date</th>\n",
       "      <th>city</th>\n",
       "      <th>first_name</th>\n",
       "      <th>last_name</th>\n",
       "      <th>reg_date</th>\n",
       "      <th>tariff</th>\n",
       "    </tr>\n",
       "  </thead>\n",
       "  <tbody>\n",
       "    <tr>\n",
       "      <th>0</th>\n",
       "      <td>1000</td>\n",
       "      <td>52</td>\n",
       "      <td>NaN</td>\n",
       "      <td>Краснодар</td>\n",
       "      <td>Рафаил</td>\n",
       "      <td>Верещагин</td>\n",
       "      <td>2018-05-25</td>\n",
       "      <td>ultra</td>\n",
       "    </tr>\n",
       "    <tr>\n",
       "      <th>1</th>\n",
       "      <td>1001</td>\n",
       "      <td>41</td>\n",
       "      <td>NaN</td>\n",
       "      <td>Москва</td>\n",
       "      <td>Иван</td>\n",
       "      <td>Ежов</td>\n",
       "      <td>2018-11-01</td>\n",
       "      <td>smart</td>\n",
       "    </tr>\n",
       "    <tr>\n",
       "      <th>2</th>\n",
       "      <td>1002</td>\n",
       "      <td>59</td>\n",
       "      <td>NaN</td>\n",
       "      <td>Стерлитамак</td>\n",
       "      <td>Евгений</td>\n",
       "      <td>Абрамович</td>\n",
       "      <td>2018-06-17</td>\n",
       "      <td>smart</td>\n",
       "    </tr>\n",
       "    <tr>\n",
       "      <th>3</th>\n",
       "      <td>1003</td>\n",
       "      <td>23</td>\n",
       "      <td>NaN</td>\n",
       "      <td>Москва</td>\n",
       "      <td>Белла</td>\n",
       "      <td>Белякова</td>\n",
       "      <td>2018-08-17</td>\n",
       "      <td>ultra</td>\n",
       "    </tr>\n",
       "    <tr>\n",
       "      <th>4</th>\n",
       "      <td>1004</td>\n",
       "      <td>68</td>\n",
       "      <td>NaN</td>\n",
       "      <td>Новокузнецк</td>\n",
       "      <td>Татьяна</td>\n",
       "      <td>Авдеенко</td>\n",
       "      <td>2018-05-14</td>\n",
       "      <td>ultra</td>\n",
       "    </tr>\n",
       "    <tr>\n",
       "      <th>5</th>\n",
       "      <td>1005</td>\n",
       "      <td>67</td>\n",
       "      <td>NaN</td>\n",
       "      <td>Набережные Челны</td>\n",
       "      <td>Афанасий</td>\n",
       "      <td>Горлов</td>\n",
       "      <td>2018-01-25</td>\n",
       "      <td>smart</td>\n",
       "    </tr>\n",
       "    <tr>\n",
       "      <th>6</th>\n",
       "      <td>1006</td>\n",
       "      <td>21</td>\n",
       "      <td>NaN</td>\n",
       "      <td>Ульяновск</td>\n",
       "      <td>Леонид</td>\n",
       "      <td>Ермолаев</td>\n",
       "      <td>2018-02-26</td>\n",
       "      <td>smart</td>\n",
       "    </tr>\n",
       "    <tr>\n",
       "      <th>7</th>\n",
       "      <td>1007</td>\n",
       "      <td>65</td>\n",
       "      <td>NaN</td>\n",
       "      <td>Москва</td>\n",
       "      <td>Юна</td>\n",
       "      <td>Березина</td>\n",
       "      <td>2018-04-19</td>\n",
       "      <td>smart</td>\n",
       "    </tr>\n",
       "    <tr>\n",
       "      <th>8</th>\n",
       "      <td>1008</td>\n",
       "      <td>63</td>\n",
       "      <td>NaN</td>\n",
       "      <td>Челябинск</td>\n",
       "      <td>Рустэм</td>\n",
       "      <td>Пономарёв</td>\n",
       "      <td>2018-12-19</td>\n",
       "      <td>smart</td>\n",
       "    </tr>\n",
       "    <tr>\n",
       "      <th>9</th>\n",
       "      <td>1009</td>\n",
       "      <td>24</td>\n",
       "      <td>NaN</td>\n",
       "      <td>Пермь</td>\n",
       "      <td>Василиса</td>\n",
       "      <td>Блинова</td>\n",
       "      <td>2018-03-22</td>\n",
       "      <td>smart</td>\n",
       "    </tr>\n",
       "  </tbody>\n",
       "</table>\n",
       "</div>"
      ],
      "text/plain": [
       "   user_id  age churn_date              city first_name  last_name  \\\n",
       "0     1000   52        NaN         Краснодар     Рафаил  Верещагин   \n",
       "1     1001   41        NaN            Москва       Иван       Ежов   \n",
       "2     1002   59        NaN       Стерлитамак    Евгений  Абрамович   \n",
       "3     1003   23        NaN            Москва      Белла   Белякова   \n",
       "4     1004   68        NaN       Новокузнецк    Татьяна   Авдеенко   \n",
       "5     1005   67        NaN  Набережные Челны   Афанасий     Горлов   \n",
       "6     1006   21        NaN         Ульяновск     Леонид   Ермолаев   \n",
       "7     1007   65        NaN            Москва        Юна   Березина   \n",
       "8     1008   63        NaN         Челябинск     Рустэм  Пономарёв   \n",
       "9     1009   24        NaN             Пермь   Василиса    Блинова   \n",
       "\n",
       "     reg_date tariff  \n",
       "0  2018-05-25  ultra  \n",
       "1  2018-11-01  smart  \n",
       "2  2018-06-17  smart  \n",
       "3  2018-08-17  ultra  \n",
       "4  2018-05-14  ultra  \n",
       "5  2018-01-25  smart  \n",
       "6  2018-02-26  smart  \n",
       "7  2018-04-19  smart  \n",
       "8  2018-12-19  smart  \n",
       "9  2018-03-22  smart  "
      ]
     },
     "execution_count": 8,
     "metadata": {},
     "output_type": "execute_result"
    }
   ],
   "source": [
    "users = pd.read_csv('/datasets/users.csv')\n",
    "users.info()\n",
    "users.head(10)  "
   ]
  },
  {
   "cell_type": "code",
   "execution_count": 9,
   "metadata": {},
   "outputs": [
    {
     "name": "stdout",
     "output_type": "stream",
     "text": [
      "Самая рання дата регистрации пользолателя:  2018-01-01\n",
      "Самая поздняя дата регистрации пользолателя:  2018-12-31\n"
     ]
    }
   ],
   "source": [
    "print('Самая рання дата регистрации пользолателя: ', users['reg_date'].min())\n",
    "print('Самая поздняя дата регистрации пользолателя: ', users['reg_date'].max())"
   ]
  },
  {
   "cell_type": "code",
   "execution_count": 10,
   "metadata": {
    "scrolled": false
   },
   "outputs": [
    {
     "data": {
      "image/png": "[encoded data removed]",
      "text/plain": [
       "<Figure size 864x432 with 1 Axes>"
      ]
     },
     "metadata": {
      "needs_background": "light"
     },
     "output_type": "display_data"
    }
   ],
   "source": [
    "ax = users['age'].hist(bins = 100, range = (0,100))\n",
    "bx = users[users['churn_date'].notna()]['age'].hist(bins = 100, range = (0,100), legend = True, figsize = (12,6))\n",
    "ax.set_xlabel(\"Возраст, лет\")\n",
    "ax.set_ylabel(\"Количество пользователей\")\n",
    "None"
   ]
  },
  {
   "cell_type": "markdown",
   "metadata": {},
   "source": [
    "Видим, что выборка по возрасту пользователей равномерна, как и распределение 38 человек, которые отключились от тарифов. "
   ]
  },
  {
   "cell_type": "code",
   "execution_count": 11,
   "metadata": {},
   "outputs": [
    {
     "data": {
      "image/png": "[encoded data removed]",
      "text/plain": [
       "<Figure size 864x432 with 1 Axes>"
      ]
     },
     "metadata": {
      "needs_background": "light"
     },
     "output_type": "display_data"
    }
   ],
   "source": [
    "ax = calls['user_id'].value_counts().hist(legend = True, figsize = (12,6), bins = 175)\n",
    "ax.set_xlabel(\"Количество звонков у пользователя\")\n",
    "ax.set_ylabel(\"Количество пользователей\")\n",
    "None"
   ]
  },
  {
   "cell_type": "code",
   "execution_count": 12,
   "metadata": {},
   "outputs": [
    {
     "name": "stdout",
     "output_type": "stream",
     "text": [
      "Самые длительные звонки из датасета\n"
     ]
    },
    {
     "data": {
      "text/plain": [
       "[38.0, 37.35, 36.47, 36.12, 35.95]"
      ]
     },
     "metadata": {},
     "output_type": "display_data"
    }
   ],
   "source": [
    "print('Самые длительные звонки из датасета')\n",
    "display(calls['duration'].sort_values(ascending = False).head().tolist())"
   ]
  },
  {
   "cell_type": "markdown",
   "metadata": {},
   "source": [
    "- Большинство пользователей делает менее одного звонка в день;\n",
    "- Самый длинный звонок за год - 38 минут"
   ]
  },
  {
   "cell_type": "code",
   "execution_count": 13,
   "metadata": {},
   "outputs": [
    {
     "name": "stdout",
     "output_type": "stream",
     "text": [
      "Статистика звонков без пропущенных\n"
     ]
    },
    {
     "data": {
      "text/plain": [
       "count    162994.000000\n",
       "mean          8.397794\n",
       "std           5.353022\n",
       "min           0.010000\n",
       "25%           4.170000\n",
       "50%           7.740000\n",
       "75%          11.850000\n",
       "max          38.000000\n",
       "Name: duration, dtype: float64"
      ]
     },
     "execution_count": 13,
     "metadata": {},
     "output_type": "execute_result"
    },
    {
     "data": {
      "image/png": "[encoded data removed]",
      "text/plain": [
       "<Figure size 432x288 with 1 Axes>"
      ]
     },
     "metadata": {
      "needs_background": "light"
     },
     "output_type": "display_data"
    }
   ],
   "source": [
    "ax = calls['duration'].hist(bins = 60, legend = True)\n",
    "ax.set_xlabel(\"Длительность звонка, мин.\")\n",
    "ax.set_ylabel(\"Количество звонков\")\n",
    "None\n",
    "print('Статистика звонков без пропущенных')\n",
    "calls[calls['duration']!=0]['duration'].describe()\n"
   ]
  },
  {
   "cell_type": "markdown",
   "metadata": {},
   "source": [
    "- по длительности звонков нормальное распределение с пиком звонков в ноль секунд;\n",
    "- В среднем звонки длились 8.5 минут;\n",
    "- в описании есть информация, что это неотвеченные и сброшенные звонки."
   ]
  },
  {
   "cell_type": "code",
   "execution_count": 14,
   "metadata": {},
   "outputs": [
    {
     "data": {
      "text/plain": [
       "2018-12-31    1435\n",
       "2018-12-29    1202\n",
       "2018-12-30    1192\n",
       "2018-12-22    1158\n",
       "2018-12-26    1149\n",
       "2018-12-18    1141\n",
       "2018-12-21    1135\n",
       "2018-12-17    1132\n",
       "2018-12-14    1128\n",
       "2018-12-20    1126\n",
       "2018-12-25    1122\n",
       "2018-12-24    1114\n",
       "2018-12-27    1110\n",
       "2018-12-28    1106\n",
       "2018-12-08    1105\n",
       "Name: call_date, dtype: int64"
      ]
     },
     "execution_count": 14,
     "metadata": {},
     "output_type": "execute_result"
    }
   ],
   "source": [
    "calls['call_date'].value_counts().head(15)"
   ]
  },
  {
   "cell_type": "markdown",
   "metadata": {},
   "source": [
    "- Больше всего звонков в декабре."
   ]
  },
  {
   "cell_type": "code",
   "execution_count": 15,
   "metadata": {},
   "outputs": [
    {
     "name": "stdout",
     "output_type": "stream",
     "text": [
      "2018-12-31    1057\n",
      "2018-12-30     903\n",
      "2018-12-25     859\n",
      "2018-12-26     844\n",
      "2018-12-22     834\n",
      "2018-12-21     833\n",
      "2018-12-29     825\n",
      "2018-12-24     820\n",
      "2018-12-12     816\n",
      "2018-12-23     808\n",
      "2018-12-13     805\n",
      "2018-12-05     804\n",
      "2018-12-27     803\n",
      "2018-12-28     802\n",
      "2018-12-02     801\n",
      "Name: session_date, dtype: int64\n",
      "2018-01-19    35\n",
      "2018-01-10    32\n",
      "2018-01-15    31\n",
      "2018-01-14    29\n",
      "2018-01-11    28\n",
      "2018-01-12    23\n",
      "2018-01-08    23\n",
      "2018-01-09    21\n",
      "2018-01-06    19\n",
      "2018-01-07    17\n",
      "2018-01-05    14\n",
      "2018-01-04     9\n",
      "2018-01-03     6\n",
      "2018-01-01     3\n",
      "2018-01-02     3\n",
      "Name: session_date, dtype: int64\n"
     ]
    }
   ],
   "source": [
    "print(internet['session_date'].value_counts().head(15))\n",
    "print(internet['session_date'].value_counts().tail(15))"
   ]
  },
  {
   "cell_type": "markdown",
   "metadata": {},
   "source": [
    "- Больше всего пользовались интернетом в декабре;\n",
    "- Меньше всего пользовались интерентом в январе."
   ]
  },
  {
   "cell_type": "code",
   "execution_count": 16,
   "metadata": {},
   "outputs": [
    {
     "data": {
      "image/png": "[encoded data removed]",
      "text/plain": [
       "<Figure size 1152x432 with 1 Axes>"
      ]
     },
     "metadata": {
      "needs_background": "light"
     },
     "output_type": "display_data"
    }
   ],
   "source": [
    "ax = users['reg_date'].hist(bins = 365, figsize = (16,6))\n",
    "ax.set_xlabel(\"Дата регистрации\")\n",
    "ax.set_ylabel(\"Количество регистраций\")\n",
    "None"
   ]
  },
  {
   "cell_type": "markdown",
   "metadata": {},
   "source": [
    "- пользователи равномерно регистрировались в течении всего года, максимум 8 человек в день;\n",
    "- получается, пользователи накапливались весь год и почти не отключались от тарифа, потому максимальная активность в декабре, а минимальная - в январе. "
   ]
  },
  {
   "cell_type": "code",
   "execution_count": 18,
   "metadata": {},
   "outputs": [
    {
     "data": {
      "image/png": "[encoded data removed]",
      "text/plain": [
       "<Figure size 432x288 with 1 Axes>"
      ]
     },
     "metadata": {
      "needs_background": "light"
     },
     "output_type": "display_data"
    }
   ],
   "source": [
    "ax = users['age'].hist(bins = 15)\n",
    "ax.set_xlabel(\"Возраст, лет\")\n",
    "ax.set_ylabel(\"Количество пользователей\")\n",
    "None\n",
    "\n"
   ]
  },
  {
   "cell_type": "code",
   "execution_count": 19,
   "metadata": {
    "scrolled": false
   },
   "outputs": [
    {
     "name": "stdout",
     "output_type": "stream",
     "text": [
      "Топ 5 городов по количеству пользователей:\n",
      " Москва             99\n",
      "Санкт-Петербург    39\n",
      "Новосибирск        16\n",
      "Казань             14\n",
      "Омск               14\n",
      "Name: city, dtype: int64\n",
      "\n",
      "Топ 5 имён пользователей:\n",
      " Радим        6\n",
      "Пётр         5\n",
      "Леонид       5\n",
      "Леон         4\n",
      "Александр    4\n",
      "Name: first_name, dtype: int64\n",
      "\n",
      "Топ 5 фамилий пользователей:\n",
      " Андреенко    5\n",
      "Анищенко     3\n",
      "Аничкина     3\n",
      "Березина     3\n",
      "Соловьев     3\n",
      "Name: last_name, dtype: int64\n"
     ]
    }
   ],
   "source": [
    "print('Топ 5 городов по количеству пользователей:\\n',  users['city'].value_counts().head(5))\n",
    "print('\\nТоп 5 имён пользователей:\\n',  users['first_name'].value_counts().head(5)) # Ну так, интереса ради\n",
    "print('\\nТоп 5 фамилий пользователей:\\n',  users['last_name'].value_counts().head(5)) # Ну так, интереса ради"
   ]
  },
  {
   "cell_type": "markdown",
   "metadata": {},
   "source": [
    "### Подытог\n",
    "\n",
    "- Пользователи постепенно регистрировались в течении года, из-за чего самое большое количество данных в последние месяцы;\n",
    "- Выборки неплохо сбалансированы по возрасту и дате регистрации, аномалий нет;\n",
    "- Лишний стобец, дублирующий индек в наборе \"internet.csv\" был удалён;\n",
    "- Пропуски в данных отсутвутют, за исключением пропусков в \"churn_date. На самом деле это информация о том, что пользователь остался у оператора;\n",
    "- Необходимо будет сменить типы данных."
   ]
  },
  {
   "cell_type": "markdown",
   "metadata": {},
   "source": [
    "## Подготовка данных"
   ]
  },
  {
   "cell_type": "markdown",
   "metadata": {},
   "source": [
    "### Найдите и исправьте ошибки в данных\n",
    "Приведём данные к нужным типам;\n",
    "\n",
    "Найдем и исправим ошибки в данных, если они есть."
   ]
  },
  {
   "cell_type": "markdown",
   "metadata": {},
   "source": [
    "- Первым исправим тип данных у дат."
   ]
  },
  {
   "cell_type": "code",
   "execution_count": 20,
   "metadata": {},
   "outputs": [],
   "source": [
    "calls['call_date'] = pd.to_datetime(calls['call_date'], format='%Y-%m-%d')\n",
    "internet['session_date'] = pd.to_datetime(internet['session_date'], format='%Y-%m-%d')\n",
    "messages['message_date'] = pd.to_datetime(messages['message_date'], format='%Y-%m-%d')\n",
    "users['churn_date'] = pd.to_datetime(users['churn_date'], format='%Y-%m-%d')\n",
    "users['reg_date'] = pd.to_datetime(users['reg_date'], format='%Y-%m-%d')"
   ]
  },
  {
   "cell_type": "markdown",
   "metadata": {},
   "source": [
    "- Проверим на аномалии отключившихся пользователей."
   ]
  },
  {
   "cell_type": "code",
   "execution_count": 21,
   "metadata": {},
   "outputs": [
    {
     "data": {
      "text/html": [
       "<div>\n",
       "<style scoped>\n",
       "    .dataframe tbody tr th:only-of-type {\n",
       "        vertical-align: middle;\n",
       "    }\n",
       "\n",
       "    .dataframe tbody tr th {\n",
       "        vertical-align: top;\n",
       "    }\n",
       "\n",
       "    .dataframe thead th {\n",
       "        text-align: right;\n",
       "    }\n",
       "</style>\n",
       "<table border=\"1\" class=\"dataframe\">\n",
       "  <thead>\n",
       "    <tr style=\"text-align: right;\">\n",
       "      <th></th>\n",
       "      <th>user_id</th>\n",
       "      <th>age</th>\n",
       "      <th>churn_date</th>\n",
       "      <th>city</th>\n",
       "      <th>first_name</th>\n",
       "      <th>last_name</th>\n",
       "      <th>reg_date</th>\n",
       "      <th>tariff</th>\n",
       "    </tr>\n",
       "  </thead>\n",
       "  <tbody>\n",
       "    <tr>\n",
       "      <th>19</th>\n",
       "      <td>1019</td>\n",
       "      <td>63</td>\n",
       "      <td>2018-10-05</td>\n",
       "      <td>Томск</td>\n",
       "      <td>Игнатий</td>\n",
       "      <td>Круглов</td>\n",
       "      <td>2018-05-16</td>\n",
       "      <td>ultra</td>\n",
       "    </tr>\n",
       "    <tr>\n",
       "      <th>20</th>\n",
       "      <td>1020</td>\n",
       "      <td>59</td>\n",
       "      <td>2018-12-18</td>\n",
       "      <td>Чита</td>\n",
       "      <td>Тала</td>\n",
       "      <td>Костина</td>\n",
       "      <td>2018-10-22</td>\n",
       "      <td>smart</td>\n",
       "    </tr>\n",
       "    <tr>\n",
       "      <th>34</th>\n",
       "      <td>1034</td>\n",
       "      <td>66</td>\n",
       "      <td>2018-11-21</td>\n",
       "      <td>Вологда</td>\n",
       "      <td>Святослав</td>\n",
       "      <td>Бондарев</td>\n",
       "      <td>2018-08-26</td>\n",
       "      <td>smart</td>\n",
       "    </tr>\n",
       "    <tr>\n",
       "      <th>50</th>\n",
       "      <td>1050</td>\n",
       "      <td>44</td>\n",
       "      <td>2018-10-03</td>\n",
       "      <td>Тюмень</td>\n",
       "      <td>Рузана</td>\n",
       "      <td>Аничкина</td>\n",
       "      <td>2018-06-16</td>\n",
       "      <td>ultra</td>\n",
       "    </tr>\n",
       "    <tr>\n",
       "      <th>51</th>\n",
       "      <td>1051</td>\n",
       "      <td>37</td>\n",
       "      <td>2018-10-14</td>\n",
       "      <td>Москва</td>\n",
       "      <td>Кристина</td>\n",
       "      <td>Сомова</td>\n",
       "      <td>2018-05-28</td>\n",
       "      <td>smart</td>\n",
       "    </tr>\n",
       "    <tr>\n",
       "      <th>56</th>\n",
       "      <td>1056</td>\n",
       "      <td>73</td>\n",
       "      <td>2018-10-14</td>\n",
       "      <td>Иркутск</td>\n",
       "      <td>Радислав</td>\n",
       "      <td>Артемьев</td>\n",
       "      <td>2018-04-13</td>\n",
       "      <td>smart</td>\n",
       "    </tr>\n",
       "    <tr>\n",
       "      <th>62</th>\n",
       "      <td>1062</td>\n",
       "      <td>24</td>\n",
       "      <td>2018-12-09</td>\n",
       "      <td>Москва</td>\n",
       "      <td>Александр</td>\n",
       "      <td>Коршунов</td>\n",
       "      <td>2018-11-16</td>\n",
       "      <td>smart</td>\n",
       "    </tr>\n",
       "    <tr>\n",
       "      <th>63</th>\n",
       "      <td>1063</td>\n",
       "      <td>45</td>\n",
       "      <td>2018-12-11</td>\n",
       "      <td>Тула</td>\n",
       "      <td>Таира</td>\n",
       "      <td>Климова</td>\n",
       "      <td>2018-04-12</td>\n",
       "      <td>ultra</td>\n",
       "    </tr>\n",
       "    <tr>\n",
       "      <th>64</th>\n",
       "      <td>1064</td>\n",
       "      <td>55</td>\n",
       "      <td>2018-12-26</td>\n",
       "      <td>Якутск</td>\n",
       "      <td>Динара</td>\n",
       "      <td>Алфеева</td>\n",
       "      <td>2018-03-17</td>\n",
       "      <td>smart</td>\n",
       "    </tr>\n",
       "    <tr>\n",
       "      <th>65</th>\n",
       "      <td>1065</td>\n",
       "      <td>53</td>\n",
       "      <td>2018-12-09</td>\n",
       "      <td>Москва</td>\n",
       "      <td>Роза</td>\n",
       "      <td>Игнатова</td>\n",
       "      <td>2018-03-08</td>\n",
       "      <td>smart</td>\n",
       "    </tr>\n",
       "    <tr>\n",
       "      <th>71</th>\n",
       "      <td>1071</td>\n",
       "      <td>20</td>\n",
       "      <td>2018-08-31</td>\n",
       "      <td>Омск</td>\n",
       "      <td>Гектор</td>\n",
       "      <td>Чумаков</td>\n",
       "      <td>2018-01-09</td>\n",
       "      <td>smart</td>\n",
       "    </tr>\n",
       "    <tr>\n",
       "      <th>90</th>\n",
       "      <td>1090</td>\n",
       "      <td>54</td>\n",
       "      <td>2018-12-03</td>\n",
       "      <td>Череповец</td>\n",
       "      <td>Екатерина</td>\n",
       "      <td>Астафьева</td>\n",
       "      <td>2018-10-11</td>\n",
       "      <td>ultra</td>\n",
       "    </tr>\n",
       "    <tr>\n",
       "      <th>128</th>\n",
       "      <td>1128</td>\n",
       "      <td>51</td>\n",
       "      <td>2018-12-23</td>\n",
       "      <td>Волжский</td>\n",
       "      <td>Ксения</td>\n",
       "      <td>Агаева</td>\n",
       "      <td>2018-12-15</td>\n",
       "      <td>ultra</td>\n",
       "    </tr>\n",
       "    <tr>\n",
       "      <th>161</th>\n",
       "      <td>1161</td>\n",
       "      <td>65</td>\n",
       "      <td>2018-11-07</td>\n",
       "      <td>Набережные Челны</td>\n",
       "      <td>Татьяна</td>\n",
       "      <td>Голованова</td>\n",
       "      <td>2018-07-03</td>\n",
       "      <td>smart</td>\n",
       "    </tr>\n",
       "    <tr>\n",
       "      <th>163</th>\n",
       "      <td>1163</td>\n",
       "      <td>21</td>\n",
       "      <td>2018-12-16</td>\n",
       "      <td>Москва</td>\n",
       "      <td>Лев</td>\n",
       "      <td>Вишневский</td>\n",
       "      <td>2018-11-03</td>\n",
       "      <td>smart</td>\n",
       "    </tr>\n",
       "    <tr>\n",
       "      <th>191</th>\n",
       "      <td>1191</td>\n",
       "      <td>64</td>\n",
       "      <td>2018-10-03</td>\n",
       "      <td>Набережные Челны</td>\n",
       "      <td>Александр</td>\n",
       "      <td>Акиндинов</td>\n",
       "      <td>2018-06-30</td>\n",
       "      <td>smart</td>\n",
       "    </tr>\n",
       "    <tr>\n",
       "      <th>201</th>\n",
       "      <td>1201</td>\n",
       "      <td>32</td>\n",
       "      <td>2018-12-03</td>\n",
       "      <td>Москва</td>\n",
       "      <td>Геннадий</td>\n",
       "      <td>Веселов</td>\n",
       "      <td>2018-08-06</td>\n",
       "      <td>ultra</td>\n",
       "    </tr>\n",
       "    <tr>\n",
       "      <th>206</th>\n",
       "      <td>1206</td>\n",
       "      <td>35</td>\n",
       "      <td>2018-12-20</td>\n",
       "      <td>Москва</td>\n",
       "      <td>Елена</td>\n",
       "      <td>Шарапова</td>\n",
       "      <td>2018-11-03</td>\n",
       "      <td>smart</td>\n",
       "    </tr>\n",
       "    <tr>\n",
       "      <th>232</th>\n",
       "      <td>1232</td>\n",
       "      <td>60</td>\n",
       "      <td>2018-11-30</td>\n",
       "      <td>Томск</td>\n",
       "      <td>Виктория</td>\n",
       "      <td>Ларина</td>\n",
       "      <td>2018-10-07</td>\n",
       "      <td>smart</td>\n",
       "    </tr>\n",
       "    <tr>\n",
       "      <th>242</th>\n",
       "      <td>1242</td>\n",
       "      <td>39</td>\n",
       "      <td>2018-12-21</td>\n",
       "      <td>Хабаровск</td>\n",
       "      <td>Радим</td>\n",
       "      <td>Федосеев</td>\n",
       "      <td>2018-11-18</td>\n",
       "      <td>smart</td>\n",
       "    </tr>\n",
       "    <tr>\n",
       "      <th>254</th>\n",
       "      <td>1254</td>\n",
       "      <td>75</td>\n",
       "      <td>2018-08-17</td>\n",
       "      <td>Москва</td>\n",
       "      <td>Александра</td>\n",
       "      <td>Сухарева</td>\n",
       "      <td>2018-01-04</td>\n",
       "      <td>ultra</td>\n",
       "    </tr>\n",
       "    <tr>\n",
       "      <th>255</th>\n",
       "      <td>1255</td>\n",
       "      <td>40</td>\n",
       "      <td>2018-09-02</td>\n",
       "      <td>Саранск</td>\n",
       "      <td>Серафима</td>\n",
       "      <td>Пономарева</td>\n",
       "      <td>2018-02-19</td>\n",
       "      <td>ultra</td>\n",
       "    </tr>\n",
       "    <tr>\n",
       "      <th>265</th>\n",
       "      <td>1265</td>\n",
       "      <td>24</td>\n",
       "      <td>2018-10-04</td>\n",
       "      <td>Омск</td>\n",
       "      <td>Радим</td>\n",
       "      <td>Адамов</td>\n",
       "      <td>2018-06-24</td>\n",
       "      <td>ultra</td>\n",
       "    </tr>\n",
       "    <tr>\n",
       "      <th>271</th>\n",
       "      <td>1271</td>\n",
       "      <td>69</td>\n",
       "      <td>2018-11-13</td>\n",
       "      <td>Челябинск</td>\n",
       "      <td>Аурелия</td>\n",
       "      <td>Чижова</td>\n",
       "      <td>2018-07-14</td>\n",
       "      <td>ultra</td>\n",
       "    </tr>\n",
       "    <tr>\n",
       "      <th>293</th>\n",
       "      <td>1293</td>\n",
       "      <td>39</td>\n",
       "      <td>2018-11-22</td>\n",
       "      <td>Санкт-Петербург</td>\n",
       "      <td>Эдита</td>\n",
       "      <td>Дубинина</td>\n",
       "      <td>2018-09-05</td>\n",
       "      <td>smart</td>\n",
       "    </tr>\n",
       "    <tr>\n",
       "      <th>343</th>\n",
       "      <td>1343</td>\n",
       "      <td>30</td>\n",
       "      <td>2018-10-28</td>\n",
       "      <td>Кострома</td>\n",
       "      <td>Анита</td>\n",
       "      <td>Верещагина</td>\n",
       "      <td>2018-08-15</td>\n",
       "      <td>ultra</td>\n",
       "    </tr>\n",
       "    <tr>\n",
       "      <th>353</th>\n",
       "      <td>1353</td>\n",
       "      <td>57</td>\n",
       "      <td>2018-11-26</td>\n",
       "      <td>Санкт-Петербург</td>\n",
       "      <td>Доминика</td>\n",
       "      <td>Анищенко</td>\n",
       "      <td>2018-04-22</td>\n",
       "      <td>smart</td>\n",
       "    </tr>\n",
       "    <tr>\n",
       "      <th>355</th>\n",
       "      <td>1355</td>\n",
       "      <td>33</td>\n",
       "      <td>2018-11-27</td>\n",
       "      <td>Киров</td>\n",
       "      <td>Сара</td>\n",
       "      <td>Абрикосова</td>\n",
       "      <td>2018-07-21</td>\n",
       "      <td>smart</td>\n",
       "    </tr>\n",
       "    <tr>\n",
       "      <th>367</th>\n",
       "      <td>1367</td>\n",
       "      <td>43</td>\n",
       "      <td>2018-11-16</td>\n",
       "      <td>Москва</td>\n",
       "      <td>Всеволод</td>\n",
       "      <td>Антоненко</td>\n",
       "      <td>2018-09-14</td>\n",
       "      <td>ultra</td>\n",
       "    </tr>\n",
       "    <tr>\n",
       "      <th>370</th>\n",
       "      <td>1370</td>\n",
       "      <td>48</td>\n",
       "      <td>2018-10-27</td>\n",
       "      <td>Новороссийск</td>\n",
       "      <td>Гектор</td>\n",
       "      <td>Сысоев</td>\n",
       "      <td>2018-02-06</td>\n",
       "      <td>smart</td>\n",
       "    </tr>\n",
       "    <tr>\n",
       "      <th>371</th>\n",
       "      <td>1371</td>\n",
       "      <td>50</td>\n",
       "      <td>2018-12-30</td>\n",
       "      <td>Омск</td>\n",
       "      <td>Ириней</td>\n",
       "      <td>Трофимов</td>\n",
       "      <td>2018-12-25</td>\n",
       "      <td>smart</td>\n",
       "    </tr>\n",
       "    <tr>\n",
       "      <th>392</th>\n",
       "      <td>1392</td>\n",
       "      <td>54</td>\n",
       "      <td>2018-09-27</td>\n",
       "      <td>Челябинск</td>\n",
       "      <td>Алла</td>\n",
       "      <td>Беликова</td>\n",
       "      <td>2018-02-27</td>\n",
       "      <td>ultra</td>\n",
       "    </tr>\n",
       "    <tr>\n",
       "      <th>399</th>\n",
       "      <td>1399</td>\n",
       "      <td>31</td>\n",
       "      <td>2018-12-25</td>\n",
       "      <td>Уфа</td>\n",
       "      <td>Алиса</td>\n",
       "      <td>Абрашина</td>\n",
       "      <td>2018-11-06</td>\n",
       "      <td>ultra</td>\n",
       "    </tr>\n",
       "    <tr>\n",
       "      <th>416</th>\n",
       "      <td>1416</td>\n",
       "      <td>50</td>\n",
       "      <td>2018-12-14</td>\n",
       "      <td>Санкт-Петербург</td>\n",
       "      <td>Валерия</td>\n",
       "      <td>Ёлчина</td>\n",
       "      <td>2018-07-16</td>\n",
       "      <td>ultra</td>\n",
       "    </tr>\n",
       "    <tr>\n",
       "      <th>422</th>\n",
       "      <td>1422</td>\n",
       "      <td>60</td>\n",
       "      <td>2018-12-21</td>\n",
       "      <td>Москва</td>\n",
       "      <td>Клара</td>\n",
       "      <td>Устинова</td>\n",
       "      <td>2018-10-12</td>\n",
       "      <td>smart</td>\n",
       "    </tr>\n",
       "    <tr>\n",
       "      <th>438</th>\n",
       "      <td>1438</td>\n",
       "      <td>24</td>\n",
       "      <td>2018-12-24</td>\n",
       "      <td>Екатеринбург</td>\n",
       "      <td>Нателла</td>\n",
       "      <td>Бородина</td>\n",
       "      <td>2018-10-05</td>\n",
       "      <td>smart</td>\n",
       "    </tr>\n",
       "    <tr>\n",
       "      <th>480</th>\n",
       "      <td>1480</td>\n",
       "      <td>29</td>\n",
       "      <td>2018-09-26</td>\n",
       "      <td>Новокузнецк</td>\n",
       "      <td>Гелена</td>\n",
       "      <td>Емельянова</td>\n",
       "      <td>2018-02-14</td>\n",
       "      <td>smart</td>\n",
       "    </tr>\n",
       "    <tr>\n",
       "      <th>498</th>\n",
       "      <td>1498</td>\n",
       "      <td>68</td>\n",
       "      <td>2018-10-25</td>\n",
       "      <td>Владикавказ</td>\n",
       "      <td>Всеволод</td>\n",
       "      <td>Акимчин</td>\n",
       "      <td>2018-07-19</td>\n",
       "      <td>smart</td>\n",
       "    </tr>\n",
       "  </tbody>\n",
       "</table>\n",
       "</div>"
      ],
      "text/plain": [
       "     user_id  age churn_date              city  first_name   last_name  \\\n",
       "19      1019   63 2018-10-05             Томск     Игнатий     Круглов   \n",
       "20      1020   59 2018-12-18              Чита        Тала     Костина   \n",
       "34      1034   66 2018-11-21           Вологда   Святослав    Бондарев   \n",
       "50      1050   44 2018-10-03            Тюмень      Рузана    Аничкина   \n",
       "51      1051   37 2018-10-14            Москва    Кристина      Сомова   \n",
       "56      1056   73 2018-10-14           Иркутск    Радислав    Артемьев   \n",
       "62      1062   24 2018-12-09            Москва   Александр    Коршунов   \n",
       "63      1063   45 2018-12-11              Тула       Таира     Климова   \n",
       "64      1064   55 2018-12-26            Якутск      Динара     Алфеева   \n",
       "65      1065   53 2018-12-09            Москва        Роза    Игнатова   \n",
       "71      1071   20 2018-08-31              Омск      Гектор     Чумаков   \n",
       "90      1090   54 2018-12-03         Череповец   Екатерина   Астафьева   \n",
       "128     1128   51 2018-12-23          Волжский      Ксения      Агаева   \n",
       "161     1161   65 2018-11-07  Набережные Челны     Татьяна  Голованова   \n",
       "163     1163   21 2018-12-16            Москва         Лев  Вишневский   \n",
       "191     1191   64 2018-10-03  Набережные Челны   Александр   Акиндинов   \n",
       "201     1201   32 2018-12-03            Москва    Геннадий     Веселов   \n",
       "206     1206   35 2018-12-20            Москва       Елена    Шарапова   \n",
       "232     1232   60 2018-11-30             Томск    Виктория      Ларина   \n",
       "242     1242   39 2018-12-21         Хабаровск       Радим    Федосеев   \n",
       "254     1254   75 2018-08-17            Москва  Александра    Сухарева   \n",
       "255     1255   40 2018-09-02           Саранск    Серафима  Пономарева   \n",
       "265     1265   24 2018-10-04              Омск       Радим      Адамов   \n",
       "271     1271   69 2018-11-13         Челябинск     Аурелия      Чижова   \n",
       "293     1293   39 2018-11-22   Санкт-Петербург       Эдита    Дубинина   \n",
       "343     1343   30 2018-10-28          Кострома       Анита  Верещагина   \n",
       "353     1353   57 2018-11-26   Санкт-Петербург    Доминика    Анищенко   \n",
       "355     1355   33 2018-11-27             Киров        Сара  Абрикосова   \n",
       "367     1367   43 2018-11-16            Москва    Всеволод   Антоненко   \n",
       "370     1370   48 2018-10-27      Новороссийск      Гектор      Сысоев   \n",
       "371     1371   50 2018-12-30              Омск      Ириней    Трофимов   \n",
       "392     1392   54 2018-09-27         Челябинск        Алла    Беликова   \n",
       "399     1399   31 2018-12-25               Уфа       Алиса    Абрашина   \n",
       "416     1416   50 2018-12-14   Санкт-Петербург     Валерия      Ёлчина   \n",
       "422     1422   60 2018-12-21            Москва       Клара    Устинова   \n",
       "438     1438   24 2018-12-24      Екатеринбург     Нателла    Бородина   \n",
       "480     1480   29 2018-09-26       Новокузнецк      Гелена  Емельянова   \n",
       "498     1498   68 2018-10-25       Владикавказ    Всеволод     Акимчин   \n",
       "\n",
       "      reg_date tariff  \n",
       "19  2018-05-16  ultra  \n",
       "20  2018-10-22  smart  \n",
       "34  2018-08-26  smart  \n",
       "50  2018-06-16  ultra  \n",
       "51  2018-05-28  smart  \n",
       "56  2018-04-13  smart  \n",
       "62  2018-11-16  smart  \n",
       "63  2018-04-12  ultra  \n",
       "64  2018-03-17  smart  \n",
       "65  2018-03-08  smart  \n",
       "71  2018-01-09  smart  \n",
       "90  2018-10-11  ultra  \n",
       "128 2018-12-15  ultra  \n",
       "161 2018-07-03  smart  \n",
       "163 2018-11-03  smart  \n",
       "191 2018-06-30  smart  \n",
       "201 2018-08-06  ultra  \n",
       "206 2018-11-03  smart  \n",
       "232 2018-10-07  smart  \n",
       "242 2018-11-18  smart  \n",
       "254 2018-01-04  ultra  \n",
       "255 2018-02-19  ultra  \n",
       "265 2018-06-24  ultra  \n",
       "271 2018-07-14  ultra  \n",
       "293 2018-09-05  smart  \n",
       "343 2018-08-15  ultra  \n",
       "353 2018-04-22  smart  \n",
       "355 2018-07-21  smart  \n",
       "367 2018-09-14  ultra  \n",
       "370 2018-02-06  smart  \n",
       "371 2018-12-25  smart  \n",
       "392 2018-02-27  ultra  \n",
       "399 2018-11-06  ultra  \n",
       "416 2018-07-16  ultra  \n",
       "422 2018-10-12  smart  \n",
       "438 2018-10-05  smart  \n",
       "480 2018-02-14  smart  \n",
       "498 2018-07-19  smart  "
      ]
     },
     "metadata": {},
     "output_type": "display_data"
    }
   ],
   "source": [
    "display(users[users['churn_date'].notnull()])"
   ]
  },
  {
   "cell_type": "code",
   "execution_count": 22,
   "metadata": {},
   "outputs": [],
   "source": [
    "calls['user_id'] = calls['user_id'].astype('int')\n",
    "internet['user_id'] = internet['user_id'].astype('int')\n",
    "messages['user_id'] = messages['user_id'].astype('int')\n",
    "users['user_id'] = users['user_id'].astype('int')"
   ]
  },
  {
   "cell_type": "markdown",
   "metadata": {},
   "source": [
    "- Создадим данные по количеству пользователей на дату регистрации текущего."
   ]
  },
  {
   "cell_type": "code",
   "execution_count": 23,
   "metadata": {
    "scrolled": true
   },
   "outputs": [
    {
     "data": {
      "text/html": [
       "<div>\n",
       "<style scoped>\n",
       "    .dataframe tbody tr th:only-of-type {\n",
       "        vertical-align: middle;\n",
       "    }\n",
       "\n",
       "    .dataframe tbody tr th {\n",
       "        vertical-align: top;\n",
       "    }\n",
       "\n",
       "    .dataframe thead th {\n",
       "        text-align: right;\n",
       "    }\n",
       "</style>\n",
       "<table border=\"1\" class=\"dataframe\">\n",
       "  <thead>\n",
       "    <tr style=\"text-align: right;\">\n",
       "      <th></th>\n",
       "      <th>user_id</th>\n",
       "      <th>age</th>\n",
       "      <th>churn_date</th>\n",
       "      <th>city</th>\n",
       "      <th>first_name</th>\n",
       "      <th>last_name</th>\n",
       "      <th>reg_date</th>\n",
       "      <th>tariff</th>\n",
       "      <th>users_by_date</th>\n",
       "    </tr>\n",
       "  </thead>\n",
       "  <tbody>\n",
       "    <tr>\n",
       "      <th>0</th>\n",
       "      <td>1000</td>\n",
       "      <td>52</td>\n",
       "      <td>NaT</td>\n",
       "      <td>Краснодар</td>\n",
       "      <td>Рафаил</td>\n",
       "      <td>Верещагин</td>\n",
       "      <td>2018-05-25</td>\n",
       "      <td>ultra</td>\n",
       "      <td>197.0</td>\n",
       "    </tr>\n",
       "    <tr>\n",
       "      <th>1</th>\n",
       "      <td>1001</td>\n",
       "      <td>41</td>\n",
       "      <td>NaT</td>\n",
       "      <td>Москва</td>\n",
       "      <td>Иван</td>\n",
       "      <td>Ежов</td>\n",
       "      <td>2018-11-01</td>\n",
       "      <td>smart</td>\n",
       "      <td>425.0</td>\n",
       "    </tr>\n",
       "    <tr>\n",
       "      <th>2</th>\n",
       "      <td>1002</td>\n",
       "      <td>59</td>\n",
       "      <td>NaT</td>\n",
       "      <td>Стерлитамак</td>\n",
       "      <td>Евгений</td>\n",
       "      <td>Абрамович</td>\n",
       "      <td>2018-06-17</td>\n",
       "      <td>smart</td>\n",
       "      <td>227.0</td>\n",
       "    </tr>\n",
       "    <tr>\n",
       "      <th>3</th>\n",
       "      <td>1003</td>\n",
       "      <td>23</td>\n",
       "      <td>NaT</td>\n",
       "      <td>Москва</td>\n",
       "      <td>Белла</td>\n",
       "      <td>Белякова</td>\n",
       "      <td>2018-08-17</td>\n",
       "      <td>ultra</td>\n",
       "      <td>322.0</td>\n",
       "    </tr>\n",
       "    <tr>\n",
       "      <th>4</th>\n",
       "      <td>1004</td>\n",
       "      <td>68</td>\n",
       "      <td>NaT</td>\n",
       "      <td>Новокузнецк</td>\n",
       "      <td>Татьяна</td>\n",
       "      <td>Авдеенко</td>\n",
       "      <td>2018-05-14</td>\n",
       "      <td>ultra</td>\n",
       "      <td>182.0</td>\n",
       "    </tr>\n",
       "  </tbody>\n",
       "</table>\n",
       "</div>"
      ],
      "text/plain": [
       "   user_id  age churn_date         city first_name  last_name   reg_date  \\\n",
       "0     1000   52        NaT    Краснодар     Рафаил  Верещагин 2018-05-25   \n",
       "1     1001   41        NaT       Москва       Иван       Ежов 2018-11-01   \n",
       "2     1002   59        NaT  Стерлитамак    Евгений  Абрамович 2018-06-17   \n",
       "3     1003   23        NaT       Москва      Белла   Белякова 2018-08-17   \n",
       "4     1004   68        NaT  Новокузнецк    Татьяна   Авдеенко 2018-05-14   \n",
       "\n",
       "  tariff  users_by_date  \n",
       "0  ultra          197.0  \n",
       "1  smart          425.0  \n",
       "2  smart          227.0  \n",
       "3  ultra          322.0  \n",
       "4  ultra          182.0  "
      ]
     },
     "execution_count": 23,
     "metadata": {},
     "output_type": "execute_result"
    }
   ],
   "source": [
    "users_by_date = 0\n",
    "for x in users['reg_date'].sort_values():\n",
    "    users_by_date += 1\n",
    "    users.loc[users['reg_date'] == x, 'users_by_date'] = users_by_date\n",
    "    \n",
    "users.head()"
   ]
  },
  {
   "cell_type": "code",
   "execution_count": 24,
   "metadata": {},
   "outputs": [
    {
     "data": {
      "text/html": [
       "<div>\n",
       "<style scoped>\n",
       "    .dataframe tbody tr th:only-of-type {\n",
       "        vertical-align: middle;\n",
       "    }\n",
       "\n",
       "    .dataframe tbody tr th {\n",
       "        vertical-align: top;\n",
       "    }\n",
       "\n",
       "    .dataframe thead th {\n",
       "        text-align: right;\n",
       "    }\n",
       "</style>\n",
       "<table border=\"1\" class=\"dataframe\">\n",
       "  <thead>\n",
       "    <tr style=\"text-align: right;\">\n",
       "      <th></th>\n",
       "      <th>user_id</th>\n",
       "      <th>age</th>\n",
       "      <th>churn_date</th>\n",
       "      <th>city</th>\n",
       "      <th>first_name</th>\n",
       "      <th>last_name</th>\n",
       "      <th>reg_date</th>\n",
       "      <th>tariff</th>\n",
       "      <th>users_by_date</th>\n",
       "    </tr>\n",
       "  </thead>\n",
       "  <tbody>\n",
       "    <tr>\n",
       "      <th>453</th>\n",
       "      <td>1453</td>\n",
       "      <td>50</td>\n",
       "      <td>NaT</td>\n",
       "      <td>Москва</td>\n",
       "      <td>Кузьма</td>\n",
       "      <td>Акуленко</td>\n",
       "      <td>2018-01-01</td>\n",
       "      <td>ultra</td>\n",
       "      <td>2.0</td>\n",
       "    </tr>\n",
       "    <tr>\n",
       "      <th>193</th>\n",
       "      <td>1193</td>\n",
       "      <td>55</td>\n",
       "      <td>NaT</td>\n",
       "      <td>Тамбов</td>\n",
       "      <td>Арсен</td>\n",
       "      <td>Безруков</td>\n",
       "      <td>2018-01-01</td>\n",
       "      <td>smart</td>\n",
       "      <td>2.0</td>\n",
       "    </tr>\n",
       "    <tr>\n",
       "      <th>55</th>\n",
       "      <td>1055</td>\n",
       "      <td>39</td>\n",
       "      <td>NaT</td>\n",
       "      <td>Казань</td>\n",
       "      <td>Луиза</td>\n",
       "      <td>Березина</td>\n",
       "      <td>2018-01-02</td>\n",
       "      <td>smart</td>\n",
       "      <td>4.0</td>\n",
       "    </tr>\n",
       "    <tr>\n",
       "      <th>155</th>\n",
       "      <td>1155</td>\n",
       "      <td>71</td>\n",
       "      <td>NaT</td>\n",
       "      <td>Ставрополь</td>\n",
       "      <td>Александр</td>\n",
       "      <td>Чернов</td>\n",
       "      <td>2018-01-02</td>\n",
       "      <td>smart</td>\n",
       "      <td>4.0</td>\n",
       "    </tr>\n",
       "    <tr>\n",
       "      <th>375</th>\n",
       "      <td>1375</td>\n",
       "      <td>53</td>\n",
       "      <td>NaT</td>\n",
       "      <td>Пенза</td>\n",
       "      <td>Мария</td>\n",
       "      <td>Акимычева</td>\n",
       "      <td>2018-01-04</td>\n",
       "      <td>ultra</td>\n",
       "      <td>9.0</td>\n",
       "    </tr>\n",
       "  </tbody>\n",
       "</table>\n",
       "</div>"
      ],
      "text/plain": [
       "     user_id  age churn_date        city first_name  last_name   reg_date  \\\n",
       "453     1453   50        NaT      Москва     Кузьма   Акуленко 2018-01-01   \n",
       "193     1193   55        NaT      Тамбов      Арсен   Безруков 2018-01-01   \n",
       "55      1055   39        NaT      Казань      Луиза   Березина 2018-01-02   \n",
       "155     1155   71        NaT  Ставрополь  Александр     Чернов 2018-01-02   \n",
       "375     1375   53        NaT       Пенза      Мария  Акимычева 2018-01-04   \n",
       "\n",
       "    tariff  users_by_date  \n",
       "453  ultra            2.0  \n",
       "193  smart            2.0  \n",
       "55   smart            4.0  \n",
       "155  smart            4.0  \n",
       "375  ultra            9.0  "
      ]
     },
     "execution_count": 24,
     "metadata": {},
     "output_type": "execute_result"
    }
   ],
   "source": [
    "users.sort_values(by = 'reg_date').head(5)"
   ]
  },
  {
   "cell_type": "code",
   "execution_count": 25,
   "metadata": {
    "scrolled": true
   },
   "outputs": [
    {
     "data": {
      "image/png": "[encoded data removed]",
      "text/plain": [
       "<Figure size 1152x360 with 1 Axes>"
      ]
     },
     "metadata": {
      "needs_background": "light"
     },
     "output_type": "display_data"
    }
   ],
   "source": [
    "ax = users.plot(x = 'reg_date', y = 'users_by_date', figsize = (16,5))\n",
    "ax.set_xlabel(\"Дата подключения\")\n",
    "ax.set_ylabel(\"Количество пользователей\")\n",
    "ax.set_title(\"Количество пользователей на дату\")\n",
    "None"
   ]
  },
  {
   "cell_type": "markdown",
   "metadata": {},
   "source": [
    "- Линейное накопление пользователей в течении всего года."
   ]
  },
  {
   "cell_type": "code",
   "execution_count": 26,
   "metadata": {},
   "outputs": [
    {
     "data": {
      "image/png": "[encoded data removed]",
      "text/plain": [
       "<Figure size 432x288 with 1 Axes>"
      ]
     },
     "metadata": {
      "needs_background": "light"
     },
     "output_type": "display_data"
    }
   ],
   "source": [
    "internet.hist(column = 'mb_used', bins = 175)\n",
    "ax.set_xlabel(\"Количество использованных мегабайт интернета за сессию\")\n",
    "ax.set_ylabel(\"Количество сессий\")\n",
    "ax.set_title(\"Количество использованного интернета за сессию\")\n",
    "None"
   ]
  },
  {
   "cell_type": "code",
   "execution_count": 27,
   "metadata": {},
   "outputs": [
    {
     "data": {
      "image/png": "[encoded data removed]",
      "text/plain": [
       "<Figure size 432x288 with 1 Axes>"
      ]
     },
     "metadata": {
      "needs_background": "light"
     },
     "output_type": "display_data"
    }
   ],
   "source": [
    "internet.hist(column = 'mb_used', bins = 175, range = (0.1, 1750))\n",
    "ax.set_xlabel(\"Количество использованных мегабайт интернета за сессию\")\n",
    "ax.set_ylabel(\"Количество сессий\")\n",
    "ax.set_title(\"Количество использованного интернета за сессию\")\n",
    "None\n"
   ]
  },
  {
   "cell_type": "markdown",
   "metadata": {},
   "source": [
    "- Много сессий без потраченного интернета. Вероятно, какие-то особенности системы учёта."
   ]
  },
  {
   "cell_type": "code",
   "execution_count": 28,
   "metadata": {},
   "outputs": [
    {
     "data": {
      "image/png": "[encoded data removed]",
      "text/plain": [
       "<Figure size 1152x360 with 2 Axes>"
      ]
     },
     "metadata": {
      "needs_background": "light"
     },
     "output_type": "display_data"
    }
   ],
   "source": [
    "ax = messages.hist(bins = 1500, figsize = (16,5))\n",
    "ax[0][0].set_xlabel(\"Количество СМС\")\n",
    "ax[0][0].set_ylabel(\"Дата отправки СМС\")\n",
    "ax[0][0].set_title(\"Количество использованных СМС в месяце\")\n",
    "ax[0][1].set_xlabel(\"Количество СМС\")\n",
    "ax[0][1].set_ylabel(\"id пользователя\")\n",
    "ax[0][1].set_title(\"Использование пользователями СМС\")\n",
    "None"
   ]
  },
  {
   "cell_type": "markdown",
   "metadata": {},
   "source": [
    "- 1500 корзин на 1500 абонентов;\n",
    "- График по количеству СМС искажен из-за наличия 1500 корзин на 365 дней;\n",
    "- Лишь небольшая часть пользователей используют СМС, у большинства сообщений очень мало."
   ]
  },
  {
   "cell_type": "code",
   "execution_count": 29,
   "metadata": {},
   "outputs": [
    {
     "data": {
      "text/html": [
       "<div>\n",
       "<style scoped>\n",
       "    .dataframe tbody tr th:only-of-type {\n",
       "        vertical-align: middle;\n",
       "    }\n",
       "\n",
       "    .dataframe tbody tr th {\n",
       "        vertical-align: top;\n",
       "    }\n",
       "\n",
       "    .dataframe thead th {\n",
       "        text-align: right;\n",
       "    }\n",
       "</style>\n",
       "<table border=\"1\" class=\"dataframe\">\n",
       "  <thead>\n",
       "    <tr style=\"text-align: right;\">\n",
       "      <th></th>\n",
       "      <th>id</th>\n",
       "    </tr>\n",
       "    <tr>\n",
       "      <th>user_id</th>\n",
       "      <th></th>\n",
       "    </tr>\n",
       "  </thead>\n",
       "  <tbody>\n",
       "    <tr>\n",
       "      <th>1471</th>\n",
       "      <td>924</td>\n",
       "    </tr>\n",
       "    <tr>\n",
       "      <th>1300</th>\n",
       "      <td>924</td>\n",
       "    </tr>\n",
       "    <tr>\n",
       "      <th>1251</th>\n",
       "      <td>935</td>\n",
       "    </tr>\n",
       "    <tr>\n",
       "      <th>1396</th>\n",
       "      <td>936</td>\n",
       "    </tr>\n",
       "    <tr>\n",
       "      <th>1324</th>\n",
       "      <td>944</td>\n",
       "    </tr>\n",
       "    <tr>\n",
       "      <th>1285</th>\n",
       "      <td>1089</td>\n",
       "    </tr>\n",
       "    <tr>\n",
       "      <th>1433</th>\n",
       "      <td>1092</td>\n",
       "    </tr>\n",
       "    <tr>\n",
       "      <th>1196</th>\n",
       "      <td>1120</td>\n",
       "    </tr>\n",
       "    <tr>\n",
       "      <th>1344</th>\n",
       "      <td>1125</td>\n",
       "    </tr>\n",
       "    <tr>\n",
       "      <th>1004</th>\n",
       "      <td>1192</td>\n",
       "    </tr>\n",
       "    <tr>\n",
       "      <th>1356</th>\n",
       "      <td>1224</td>\n",
       "    </tr>\n",
       "    <tr>\n",
       "      <th>1385</th>\n",
       "      <td>1380</td>\n",
       "    </tr>\n",
       "    <tr>\n",
       "      <th>1231</th>\n",
       "      <td>1384</td>\n",
       "    </tr>\n",
       "    <tr>\n",
       "      <th>1089</th>\n",
       "      <td>1408</td>\n",
       "    </tr>\n",
       "    <tr>\n",
       "      <th>1277</th>\n",
       "      <td>1463</td>\n",
       "    </tr>\n",
       "  </tbody>\n",
       "</table>\n",
       "</div>"
      ],
      "text/plain": [
       "           id\n",
       "user_id      \n",
       "1471      924\n",
       "1300      924\n",
       "1251      935\n",
       "1396      936\n",
       "1324      944\n",
       "1285     1089\n",
       "1433     1092\n",
       "1196     1120\n",
       "1344     1125\n",
       "1004     1192\n",
       "1356     1224\n",
       "1385     1380\n",
       "1231     1384\n",
       "1089     1408\n",
       "1277     1463"
      ]
     },
     "metadata": {},
     "output_type": "display_data"
    }
   ],
   "source": [
    "sms_by_user_id = messages.pivot_table(\n",
    "    index = 'user_id', values = 'id', aggfunc = 'count')\n",
    "display(sms_by_user_id.sort_values(by= 'id').tail(15))"
   ]
  },
  {
   "cell_type": "code",
   "execution_count": 30,
   "metadata": {},
   "outputs": [
    {
     "data": {
      "text/plain": [
       "id    426\n",
       "dtype: int64"
      ]
     },
     "execution_count": 30,
     "metadata": {},
     "output_type": "execute_result"
    }
   ],
   "source": [
    "sms_by_user_id.count()"
   ]
  },
  {
   "cell_type": "markdown",
   "metadata": {},
   "source": [
    "- только 426 пользователей из 500 пользовались СМС"
   ]
  },
  {
   "cell_type": "markdown",
   "metadata": {},
   "source": [
    "### Подытог\n",
    "    - Подготовка данных завершена"
   ]
  },
  {
   "cell_type": "markdown",
   "metadata": {},
   "source": [
    "### Расчет использованных услуг по пользователям в месяц"
   ]
  },
  {
   "cell_type": "markdown",
   "metadata": {},
   "source": [
    "Посчитаем для каждого пользователя:\n",
    "1) количество сделанных звонков и израсходованных минут разговора по месяцам;\n",
    "\n",
    "2) количество отправленных сообщений по месяцам;\n",
    "\n",
    "3) объем израсходованного интернет-трафика по месяцам;\n",
    "\n",
    "4) помесячную выручку с каждого пользователя (вычтем бесплатный лимит из суммарного количества звонков, сообщений и интернет-трафика; остаток умножим на значение из тарифного плана и прибавим абонентскую плату, соответствующую тарифному плану)."
   ]
  },
  {
   "cell_type": "code",
   "execution_count": 31,
   "metadata": {
    "scrolled": false
   },
   "outputs": [
    {
     "data": {
      "text/html": [
       "<div>\n",
       "<style scoped>\n",
       "    .dataframe tbody tr th:only-of-type {\n",
       "        vertical-align: middle;\n",
       "    }\n",
       "\n",
       "    .dataframe tbody tr th {\n",
       "        vertical-align: top;\n",
       "    }\n",
       "\n",
       "    .dataframe thead th {\n",
       "        text-align: right;\n",
       "    }\n",
       "</style>\n",
       "<table border=\"1\" class=\"dataframe\">\n",
       "  <thead>\n",
       "    <tr style=\"text-align: right;\">\n",
       "      <th></th>\n",
       "      <th></th>\n",
       "      <th>calls_count</th>\n",
       "      <th>calls_duration</th>\n",
       "    </tr>\n",
       "    <tr>\n",
       "      <th>month</th>\n",
       "      <th>user_id</th>\n",
       "      <th></th>\n",
       "      <th></th>\n",
       "    </tr>\n",
       "  </thead>\n",
       "  <tbody>\n",
       "    <tr>\n",
       "      <th rowspan=\"5\" valign=\"top\">1</th>\n",
       "      <th>1005</th>\n",
       "      <td>11</td>\n",
       "      <td>95</td>\n",
       "    </tr>\n",
       "    <tr>\n",
       "      <th>1032</th>\n",
       "      <td>44</td>\n",
       "      <td>380</td>\n",
       "    </tr>\n",
       "    <tr>\n",
       "      <th>1045</th>\n",
       "      <td>1</td>\n",
       "      <td>9</td>\n",
       "    </tr>\n",
       "    <tr>\n",
       "      <th>1055</th>\n",
       "      <td>47</td>\n",
       "      <td>551</td>\n",
       "    </tr>\n",
       "    <tr>\n",
       "      <th>1071</th>\n",
       "      <td>18</td>\n",
       "      <td>194</td>\n",
       "    </tr>\n",
       "    <tr>\n",
       "      <th>...</th>\n",
       "      <th>...</th>\n",
       "      <td>...</td>\n",
       "      <td>...</td>\n",
       "    </tr>\n",
       "    <tr>\n",
       "      <th rowspan=\"5\" valign=\"top\">12</th>\n",
       "      <th>1494</th>\n",
       "      <td>54</td>\n",
       "      <td>418</td>\n",
       "    </tr>\n",
       "    <tr>\n",
       "      <th>1495</th>\n",
       "      <td>120</td>\n",
       "      <td>1031</td>\n",
       "    </tr>\n",
       "    <tr>\n",
       "      <th>1496</th>\n",
       "      <td>65</td>\n",
       "      <td>518</td>\n",
       "    </tr>\n",
       "    <tr>\n",
       "      <th>1497</th>\n",
       "      <td>58</td>\n",
       "      <td>545</td>\n",
       "    </tr>\n",
       "    <tr>\n",
       "      <th>1499</th>\n",
       "      <td>56</td>\n",
       "      <td>492</td>\n",
       "    </tr>\n",
       "  </tbody>\n",
       "</table>\n",
       "<p>3168 rows × 2 columns</p>\n",
       "</div>"
      ],
      "text/plain": [
       "               calls_count  calls_duration\n",
       "month user_id                             \n",
       "1     1005              11              95\n",
       "      1032              44             380\n",
       "      1045               1               9\n",
       "      1055              47             551\n",
       "      1071              18             194\n",
       "...                    ...             ...\n",
       "12    1494              54             418\n",
       "      1495             120            1031\n",
       "      1496              65             518\n",
       "      1497              58             545\n",
       "      1499              56             492\n",
       "\n",
       "[3168 rows x 2 columns]"
      ]
     },
     "metadata": {},
     "output_type": "display_data"
    }
   ],
   "source": [
    "calls['duration'] = np.ceil(calls['duration']).astype(int) #Каждый звонок округляется вверх до целого количества минут\n",
    "\n",
    "calls['month'] = pd.DatetimeIndex(calls['call_date']).month #добавляем столбец с месяцем\n",
    "total_calls_by_month_by_user = calls[calls['duration'] > 0].pivot_table(\n",
    "    index = ['month', 'user_id'], values = 'duration', aggfunc = ['count', 'sum'])\n",
    "total_calls_by_month_by_user.columns = ['calls_count', 'calls_duration'] #количество \"израсходованных\" минут помесячно\n",
    "\n",
    "display(total_calls_by_month_by_user)"
   ]
  },
  {
   "cell_type": "code",
   "execution_count": 32,
   "metadata": {
    "scrolled": false
   },
   "outputs": [
    {
     "data": {
      "text/html": [
       "<div>\n",
       "<style scoped>\n",
       "    .dataframe tbody tr th:only-of-type {\n",
       "        vertical-align: middle;\n",
       "    }\n",
       "\n",
       "    .dataframe tbody tr th {\n",
       "        vertical-align: top;\n",
       "    }\n",
       "\n",
       "    .dataframe thead th {\n",
       "        text-align: right;\n",
       "    }\n",
       "</style>\n",
       "<table border=\"1\" class=\"dataframe\">\n",
       "  <thead>\n",
       "    <tr style=\"text-align: right;\">\n",
       "      <th></th>\n",
       "      <th></th>\n",
       "      <th>msg_count</th>\n",
       "    </tr>\n",
       "    <tr>\n",
       "      <th>month</th>\n",
       "      <th>user_id</th>\n",
       "      <th></th>\n",
       "    </tr>\n",
       "  </thead>\n",
       "  <tbody>\n",
       "    <tr>\n",
       "      <th rowspan=\"5\" valign=\"top\">1</th>\n",
       "      <th>1005</th>\n",
       "      <td>7</td>\n",
       "    </tr>\n",
       "    <tr>\n",
       "      <th>1032</th>\n",
       "      <td>38</td>\n",
       "    </tr>\n",
       "    <tr>\n",
       "      <th>1045</th>\n",
       "      <td>5</td>\n",
       "    </tr>\n",
       "    <tr>\n",
       "      <th>1055</th>\n",
       "      <td>30</td>\n",
       "    </tr>\n",
       "    <tr>\n",
       "      <th>1071</th>\n",
       "      <td>16</td>\n",
       "    </tr>\n",
       "    <tr>\n",
       "      <th>...</th>\n",
       "      <th>...</th>\n",
       "      <td>...</td>\n",
       "    </tr>\n",
       "    <tr>\n",
       "      <th rowspan=\"5\" valign=\"top\">12</th>\n",
       "      <th>1493</th>\n",
       "      <td>78</td>\n",
       "    </tr>\n",
       "    <tr>\n",
       "      <th>1495</th>\n",
       "      <td>84</td>\n",
       "    </tr>\n",
       "    <tr>\n",
       "      <th>1496</th>\n",
       "      <td>51</td>\n",
       "    </tr>\n",
       "    <tr>\n",
       "      <th>1497</th>\n",
       "      <td>17</td>\n",
       "    </tr>\n",
       "    <tr>\n",
       "      <th>1499</th>\n",
       "      <td>66</td>\n",
       "    </tr>\n",
       "  </tbody>\n",
       "</table>\n",
       "<p>2717 rows × 1 columns</p>\n",
       "</div>"
      ],
      "text/plain": [
       "               msg_count\n",
       "month user_id           \n",
       "1     1005             7\n",
       "      1032            38\n",
       "      1045             5\n",
       "      1055            30\n",
       "      1071            16\n",
       "...                  ...\n",
       "12    1493            78\n",
       "      1495            84\n",
       "      1496            51\n",
       "      1497            17\n",
       "      1499            66\n",
       "\n",
       "[2717 rows x 1 columns]"
      ]
     },
     "metadata": {},
     "output_type": "display_data"
    }
   ],
   "source": [
    "\n",
    "messages['month'] = pd.DatetimeIndex(messages['message_date']).month\n",
    "total_msg_by_month_by_user = messages.pivot_table(\n",
    "    index = ['month', 'user_id'], values = 'id', aggfunc = 'count')\n",
    "total_msg_by_month_by_user.columns = ['msg_count']\n",
    "\n",
    "display(total_msg_by_month_by_user) #количетсво сообщений по месяцам"
   ]
  },
  {
   "cell_type": "code",
   "execution_count": 33,
   "metadata": {},
   "outputs": [
    {
     "data": {
      "text/html": [
       "<div>\n",
       "<style scoped>\n",
       "    .dataframe tbody tr th:only-of-type {\n",
       "        vertical-align: middle;\n",
       "    }\n",
       "\n",
       "    .dataframe tbody tr th {\n",
       "        vertical-align: top;\n",
       "    }\n",
       "\n",
       "    .dataframe thead th {\n",
       "        text-align: right;\n",
       "    }\n",
       "</style>\n",
       "<table border=\"1\" class=\"dataframe\">\n",
       "  <thead>\n",
       "    <tr style=\"text-align: right;\">\n",
       "      <th></th>\n",
       "      <th></th>\n",
       "      <th>mb_used</th>\n",
       "    </tr>\n",
       "    <tr>\n",
       "      <th>month</th>\n",
       "      <th>user_id</th>\n",
       "      <th></th>\n",
       "    </tr>\n",
       "  </thead>\n",
       "  <tbody>\n",
       "    <tr>\n",
       "      <th rowspan=\"5\" valign=\"top\">1</th>\n",
       "      <th>1005</th>\n",
       "      <td>2727.97</td>\n",
       "    </tr>\n",
       "    <tr>\n",
       "      <th>1032</th>\n",
       "      <td>24127.69</td>\n",
       "    </tr>\n",
       "    <tr>\n",
       "      <th>1045</th>\n",
       "      <td>2346.71</td>\n",
       "    </tr>\n",
       "    <tr>\n",
       "      <th>1055</th>\n",
       "      <td>17090.88</td>\n",
       "    </tr>\n",
       "    <tr>\n",
       "      <th>1071</th>\n",
       "      <td>15604.34</td>\n",
       "    </tr>\n",
       "    <tr>\n",
       "      <th>...</th>\n",
       "      <th>...</th>\n",
       "      <td>...</td>\n",
       "    </tr>\n",
       "    <tr>\n",
       "      <th rowspan=\"5\" valign=\"top\">12</th>\n",
       "      <th>1494</th>\n",
       "      <td>17621.21</td>\n",
       "    </tr>\n",
       "    <tr>\n",
       "      <th>1495</th>\n",
       "      <td>23426.76</td>\n",
       "    </tr>\n",
       "    <tr>\n",
       "      <th>1496</th>\n",
       "      <td>20736.15</td>\n",
       "    </tr>\n",
       "    <tr>\n",
       "      <th>1497</th>\n",
       "      <td>19918.60</td>\n",
       "    </tr>\n",
       "    <tr>\n",
       "      <th>1499</th>\n",
       "      <td>13055.58</td>\n",
       "    </tr>\n",
       "  </tbody>\n",
       "</table>\n",
       "<p>3203 rows × 1 columns</p>\n",
       "</div>"
      ],
      "text/plain": [
       "                mb_used\n",
       "month user_id          \n",
       "1     1005      2727.97\n",
       "      1032     24127.69\n",
       "      1045      2346.71\n",
       "      1055     17090.88\n",
       "      1071     15604.34\n",
       "...                 ...\n",
       "12    1494     17621.21\n",
       "      1495     23426.76\n",
       "      1496     20736.15\n",
       "      1497     19918.60\n",
       "      1499     13055.58\n",
       "\n",
       "[3203 rows x 1 columns]"
      ]
     },
     "metadata": {},
     "output_type": "display_data"
    }
   ],
   "source": [
    "internet['month'] = pd.DatetimeIndex(internet['session_date']).month\n",
    "\n",
    "total_internet_by_month_by_users = internet.pivot_table(\n",
    "    index = ['month', 'user_id'], values = 'mb_used', aggfunc = 'sum')\n",
    "display(total_internet_by_month_by_users) #объем израсходованного интернет-трафика по месяцам."
   ]
  },
  {
   "cell_type": "code",
   "execution_count": 34,
   "metadata": {},
   "outputs": [
    {
     "data": {
      "text/html": [
       "<div>\n",
       "<style scoped>\n",
       "    .dataframe tbody tr th:only-of-type {\n",
       "        vertical-align: middle;\n",
       "    }\n",
       "\n",
       "    .dataframe tbody tr th {\n",
       "        vertical-align: top;\n",
       "    }\n",
       "\n",
       "    .dataframe thead th {\n",
       "        text-align: right;\n",
       "    }\n",
       "</style>\n",
       "<table border=\"1\" class=\"dataframe\">\n",
       "  <thead>\n",
       "    <tr style=\"text-align: right;\">\n",
       "      <th></th>\n",
       "      <th></th>\n",
       "      <th>gb_used</th>\n",
       "    </tr>\n",
       "    <tr>\n",
       "      <th>month</th>\n",
       "      <th>user_id</th>\n",
       "      <th></th>\n",
       "    </tr>\n",
       "  </thead>\n",
       "  <tbody>\n",
       "    <tr>\n",
       "      <th rowspan=\"5\" valign=\"top\">1</th>\n",
       "      <th>1005</th>\n",
       "      <td>3</td>\n",
       "    </tr>\n",
       "    <tr>\n",
       "      <th>1032</th>\n",
       "      <td>24</td>\n",
       "    </tr>\n",
       "    <tr>\n",
       "      <th>1045</th>\n",
       "      <td>3</td>\n",
       "    </tr>\n",
       "    <tr>\n",
       "      <th>1055</th>\n",
       "      <td>17</td>\n",
       "    </tr>\n",
       "    <tr>\n",
       "      <th>1071</th>\n",
       "      <td>16</td>\n",
       "    </tr>\n",
       "    <tr>\n",
       "      <th>...</th>\n",
       "      <th>...</th>\n",
       "      <td>...</td>\n",
       "    </tr>\n",
       "    <tr>\n",
       "      <th rowspan=\"5\" valign=\"top\">12</th>\n",
       "      <th>1494</th>\n",
       "      <td>18</td>\n",
       "    </tr>\n",
       "    <tr>\n",
       "      <th>1495</th>\n",
       "      <td>23</td>\n",
       "    </tr>\n",
       "    <tr>\n",
       "      <th>1496</th>\n",
       "      <td>21</td>\n",
       "    </tr>\n",
       "    <tr>\n",
       "      <th>1497</th>\n",
       "      <td>20</td>\n",
       "    </tr>\n",
       "    <tr>\n",
       "      <th>1499</th>\n",
       "      <td>13</td>\n",
       "    </tr>\n",
       "  </tbody>\n",
       "</table>\n",
       "<p>3203 rows × 1 columns</p>\n",
       "</div>"
      ],
      "text/plain": [
       "               gb_used\n",
       "month user_id         \n",
       "1     1005           3\n",
       "      1032          24\n",
       "      1045           3\n",
       "      1055          17\n",
       "      1071          16\n",
       "...                ...\n",
       "12    1494          18\n",
       "      1495          23\n",
       "      1496          21\n",
       "      1497          20\n",
       "      1499          13\n",
       "\n",
       "[3203 rows x 1 columns]"
      ]
     },
     "metadata": {},
     "output_type": "display_data"
    }
   ],
   "source": [
    "for value in total_internet_by_month_by_users.items():\n",
    "    total_internet_by_month_by_users = (total_internet_by_month_by_users/1024).apply(np.ceil).astype(int) \n",
    "total_internet_by_month_by_users.columns = ['gb_used']\n",
    "\n",
    "display(total_internet_by_month_by_users) #траты интернета по месяцам в гигабайтах\n"
   ]
  },
  {
   "cell_type": "code",
   "execution_count": 35,
   "metadata": {},
   "outputs": [
    {
     "data": {
      "text/html": [
       "<div>\n",
       "<style scoped>\n",
       "    .dataframe tbody tr th:only-of-type {\n",
       "        vertical-align: middle;\n",
       "    }\n",
       "\n",
       "    .dataframe tbody tr th {\n",
       "        vertical-align: top;\n",
       "    }\n",
       "\n",
       "    .dataframe thead th {\n",
       "        text-align: right;\n",
       "    }\n",
       "</style>\n",
       "<table border=\"1\" class=\"dataframe\">\n",
       "  <thead>\n",
       "    <tr style=\"text-align: right;\">\n",
       "      <th></th>\n",
       "      <th></th>\n",
       "      <th>calls_count</th>\n",
       "      <th>calls_duration</th>\n",
       "      <th>msg_count</th>\n",
       "      <th>gb_used</th>\n",
       "    </tr>\n",
       "    <tr>\n",
       "      <th>month</th>\n",
       "      <th>user_id</th>\n",
       "      <th></th>\n",
       "      <th></th>\n",
       "      <th></th>\n",
       "      <th></th>\n",
       "    </tr>\n",
       "  </thead>\n",
       "  <tbody>\n",
       "    <tr>\n",
       "      <th rowspan=\"5\" valign=\"top\">1</th>\n",
       "      <th>1005</th>\n",
       "      <td>11.0</td>\n",
       "      <td>95.0</td>\n",
       "      <td>7.0</td>\n",
       "      <td>3.0</td>\n",
       "    </tr>\n",
       "    <tr>\n",
       "      <th>1032</th>\n",
       "      <td>44.0</td>\n",
       "      <td>380.0</td>\n",
       "      <td>38.0</td>\n",
       "      <td>24.0</td>\n",
       "    </tr>\n",
       "    <tr>\n",
       "      <th>1045</th>\n",
       "      <td>1.0</td>\n",
       "      <td>9.0</td>\n",
       "      <td>5.0</td>\n",
       "      <td>3.0</td>\n",
       "    </tr>\n",
       "    <tr>\n",
       "      <th>1055</th>\n",
       "      <td>47.0</td>\n",
       "      <td>551.0</td>\n",
       "      <td>30.0</td>\n",
       "      <td>17.0</td>\n",
       "    </tr>\n",
       "    <tr>\n",
       "      <th>1071</th>\n",
       "      <td>18.0</td>\n",
       "      <td>194.0</td>\n",
       "      <td>16.0</td>\n",
       "      <td>16.0</td>\n",
       "    </tr>\n",
       "    <tr>\n",
       "      <th>...</th>\n",
       "      <th>...</th>\n",
       "      <td>...</td>\n",
       "      <td>...</td>\n",
       "      <td>...</td>\n",
       "      <td>...</td>\n",
       "    </tr>\n",
       "    <tr>\n",
       "      <th rowspan=\"5\" valign=\"top\">12</th>\n",
       "      <th>1494</th>\n",
       "      <td>54.0</td>\n",
       "      <td>418.0</td>\n",
       "      <td>NaN</td>\n",
       "      <td>18.0</td>\n",
       "    </tr>\n",
       "    <tr>\n",
       "      <th>1495</th>\n",
       "      <td>120.0</td>\n",
       "      <td>1031.0</td>\n",
       "      <td>84.0</td>\n",
       "      <td>23.0</td>\n",
       "    </tr>\n",
       "    <tr>\n",
       "      <th>1496</th>\n",
       "      <td>65.0</td>\n",
       "      <td>518.0</td>\n",
       "      <td>51.0</td>\n",
       "      <td>21.0</td>\n",
       "    </tr>\n",
       "    <tr>\n",
       "      <th>1497</th>\n",
       "      <td>58.0</td>\n",
       "      <td>545.0</td>\n",
       "      <td>17.0</td>\n",
       "      <td>20.0</td>\n",
       "    </tr>\n",
       "    <tr>\n",
       "      <th>1499</th>\n",
       "      <td>56.0</td>\n",
       "      <td>492.0</td>\n",
       "      <td>66.0</td>\n",
       "      <td>13.0</td>\n",
       "    </tr>\n",
       "  </tbody>\n",
       "</table>\n",
       "<p>3214 rows × 4 columns</p>\n",
       "</div>"
      ],
      "text/plain": [
       "               calls_count  calls_duration  msg_count  gb_used\n",
       "month user_id                                                 \n",
       "1     1005            11.0            95.0        7.0      3.0\n",
       "      1032            44.0           380.0       38.0     24.0\n",
       "      1045             1.0             9.0        5.0      3.0\n",
       "      1055            47.0           551.0       30.0     17.0\n",
       "      1071            18.0           194.0       16.0     16.0\n",
       "...                    ...             ...        ...      ...\n",
       "12    1494            54.0           418.0        NaN     18.0\n",
       "      1495           120.0          1031.0       84.0     23.0\n",
       "      1496            65.0           518.0       51.0     21.0\n",
       "      1497            58.0           545.0       17.0     20.0\n",
       "      1499            56.0           492.0       66.0     13.0\n",
       "\n",
       "[3214 rows x 4 columns]"
      ]
     },
     "metadata": {},
     "output_type": "display_data"
    }
   ],
   "source": [
    "users_monthly_activity = total_calls_by_month_by_user.join(total_msg_by_month_by_user, how = 'outer')\n",
    "users_monthly_activity = users_monthly_activity.join(total_internet_by_month_by_users, how = 'outer')\n",
    "\n",
    "display(users_monthly_activity) #сведем в общую таблицу"
   ]
  },
  {
   "cell_type": "code",
   "execution_count": 36,
   "metadata": {},
   "outputs": [
    {
     "data": {
      "text/html": [
       "<div>\n",
       "<style scoped>\n",
       "    .dataframe tbody tr th:only-of-type {\n",
       "        vertical-align: middle;\n",
       "    }\n",
       "\n",
       "    .dataframe tbody tr th {\n",
       "        vertical-align: top;\n",
       "    }\n",
       "\n",
       "    .dataframe thead th {\n",
       "        text-align: right;\n",
       "    }\n",
       "</style>\n",
       "<table border=\"1\" class=\"dataframe\">\n",
       "  <thead>\n",
       "    <tr style=\"text-align: right;\">\n",
       "      <th></th>\n",
       "      <th></th>\n",
       "      <th>calls_count</th>\n",
       "      <th>calls_duration</th>\n",
       "      <th>msg_count</th>\n",
       "      <th>gb_used</th>\n",
       "      <th>tariff</th>\n",
       "    </tr>\n",
       "    <tr>\n",
       "      <th>month</th>\n",
       "      <th>user_id</th>\n",
       "      <th></th>\n",
       "      <th></th>\n",
       "      <th></th>\n",
       "      <th></th>\n",
       "      <th></th>\n",
       "    </tr>\n",
       "  </thead>\n",
       "  <tbody>\n",
       "    <tr>\n",
       "      <th rowspan=\"5\" valign=\"top\">1</th>\n",
       "      <th>1005</th>\n",
       "      <td>11.0</td>\n",
       "      <td>95.0</td>\n",
       "      <td>7.0</td>\n",
       "      <td>3.0</td>\n",
       "      <td>smart</td>\n",
       "    </tr>\n",
       "    <tr>\n",
       "      <th>1032</th>\n",
       "      <td>44.0</td>\n",
       "      <td>380.0</td>\n",
       "      <td>38.0</td>\n",
       "      <td>24.0</td>\n",
       "      <td>smart</td>\n",
       "    </tr>\n",
       "    <tr>\n",
       "      <th>1045</th>\n",
       "      <td>1.0</td>\n",
       "      <td>9.0</td>\n",
       "      <td>5.0</td>\n",
       "      <td>3.0</td>\n",
       "      <td>smart</td>\n",
       "    </tr>\n",
       "    <tr>\n",
       "      <th>1055</th>\n",
       "      <td>47.0</td>\n",
       "      <td>551.0</td>\n",
       "      <td>30.0</td>\n",
       "      <td>17.0</td>\n",
       "      <td>smart</td>\n",
       "    </tr>\n",
       "    <tr>\n",
       "      <th>1071</th>\n",
       "      <td>18.0</td>\n",
       "      <td>194.0</td>\n",
       "      <td>16.0</td>\n",
       "      <td>16.0</td>\n",
       "      <td>smart</td>\n",
       "    </tr>\n",
       "    <tr>\n",
       "      <th>...</th>\n",
       "      <th>...</th>\n",
       "      <td>...</td>\n",
       "      <td>...</td>\n",
       "      <td>...</td>\n",
       "      <td>...</td>\n",
       "      <td>...</td>\n",
       "    </tr>\n",
       "    <tr>\n",
       "      <th rowspan=\"5\" valign=\"top\">12</th>\n",
       "      <th>1494</th>\n",
       "      <td>54.0</td>\n",
       "      <td>418.0</td>\n",
       "      <td>NaN</td>\n",
       "      <td>18.0</td>\n",
       "      <td>smart</td>\n",
       "    </tr>\n",
       "    <tr>\n",
       "      <th>1495</th>\n",
       "      <td>120.0</td>\n",
       "      <td>1031.0</td>\n",
       "      <td>84.0</td>\n",
       "      <td>23.0</td>\n",
       "      <td>ultra</td>\n",
       "    </tr>\n",
       "    <tr>\n",
       "      <th>1496</th>\n",
       "      <td>65.0</td>\n",
       "      <td>518.0</td>\n",
       "      <td>51.0</td>\n",
       "      <td>21.0</td>\n",
       "      <td>smart</td>\n",
       "    </tr>\n",
       "    <tr>\n",
       "      <th>1497</th>\n",
       "      <td>58.0</td>\n",
       "      <td>545.0</td>\n",
       "      <td>17.0</td>\n",
       "      <td>20.0</td>\n",
       "      <td>smart</td>\n",
       "    </tr>\n",
       "    <tr>\n",
       "      <th>1499</th>\n",
       "      <td>56.0</td>\n",
       "      <td>492.0</td>\n",
       "      <td>66.0</td>\n",
       "      <td>13.0</td>\n",
       "      <td>smart</td>\n",
       "    </tr>\n",
       "  </tbody>\n",
       "</table>\n",
       "<p>3214 rows × 5 columns</p>\n",
       "</div>"
      ],
      "text/plain": [
       "               calls_count  calls_duration  msg_count  gb_used tariff\n",
       "month user_id                                                        \n",
       "1     1005            11.0            95.0        7.0      3.0  smart\n",
       "      1032            44.0           380.0       38.0     24.0  smart\n",
       "      1045             1.0             9.0        5.0      3.0  smart\n",
       "      1055            47.0           551.0       30.0     17.0  smart\n",
       "      1071            18.0           194.0       16.0     16.0  smart\n",
       "...                    ...             ...        ...      ...    ...\n",
       "12    1494            54.0           418.0        NaN     18.0  smart\n",
       "      1495           120.0          1031.0       84.0     23.0  ultra\n",
       "      1496            65.0           518.0       51.0     21.0  smart\n",
       "      1497            58.0           545.0       17.0     20.0  smart\n",
       "      1499            56.0           492.0       66.0     13.0  smart\n",
       "\n",
       "[3214 rows x 5 columns]"
      ]
     },
     "metadata": {},
     "output_type": "display_data"
    }
   ],
   "source": [
    "user_tariffs = pd.DataFrame()\n",
    "user_tariffs['user_id'] = users['user_id']\n",
    "user_tariffs['tariff'] = users['tariff']\n",
    "user_tariffs = user_tariffs.set_index('user_id')\n",
    "users_monthly_activity = users_monthly_activity.join(user_tariffs, how = 'outer') \n",
    "display(users_monthly_activity) #добавляем к данным тариф"
   ]
  },
  {
   "cell_type": "code",
   "execution_count": 37,
   "metadata": {
    "scrolled": false
   },
   "outputs": [
    {
     "data": {
      "text/html": [
       "<div>\n",
       "<style scoped>\n",
       "    .dataframe tbody tr th:only-of-type {\n",
       "        vertical-align: middle;\n",
       "    }\n",
       "\n",
       "    .dataframe tbody tr th {\n",
       "        vertical-align: top;\n",
       "    }\n",
       "\n",
       "    .dataframe thead th {\n",
       "        text-align: right;\n",
       "    }\n",
       "</style>\n",
       "<table border=\"1\" class=\"dataframe\">\n",
       "  <thead>\n",
       "    <tr style=\"text-align: right;\">\n",
       "      <th></th>\n",
       "      <th>month</th>\n",
       "      <th>user_id</th>\n",
       "      <th>calls_count</th>\n",
       "      <th>calls_duration</th>\n",
       "      <th>msg_count</th>\n",
       "      <th>gb_used</th>\n",
       "    </tr>\n",
       "  </thead>\n",
       "  <tbody>\n",
       "    <tr>\n",
       "      <th>count</th>\n",
       "      <td>3214.000000</td>\n",
       "      <td>3214.000000</td>\n",
       "      <td>3168.000000</td>\n",
       "      <td>3168.000000</td>\n",
       "      <td>2717.000000</td>\n",
       "      <td>3203.000000</td>\n",
       "    </tr>\n",
       "    <tr>\n",
       "      <th>mean</th>\n",
       "      <td>8.317362</td>\n",
       "      <td>1251.590230</td>\n",
       "      <td>51.450126</td>\n",
       "      <td>457.797033</td>\n",
       "      <td>45.283769</td>\n",
       "      <td>17.358414</td>\n",
       "    </tr>\n",
       "    <tr>\n",
       "      <th>std</th>\n",
       "      <td>2.905413</td>\n",
       "      <td>144.659172</td>\n",
       "      <td>26.439188</td>\n",
       "      <td>237.423514</td>\n",
       "      <td>35.051363</td>\n",
       "      <td>7.343379</td>\n",
       "    </tr>\n",
       "    <tr>\n",
       "      <th>min</th>\n",
       "      <td>1.000000</td>\n",
       "      <td>1000.000000</td>\n",
       "      <td>1.000000</td>\n",
       "      <td>1.000000</td>\n",
       "      <td>1.000000</td>\n",
       "      <td>0.000000</td>\n",
       "    </tr>\n",
       "    <tr>\n",
       "      <th>25%</th>\n",
       "      <td>6.000000</td>\n",
       "      <td>1125.000000</td>\n",
       "      <td>33.000000</td>\n",
       "      <td>290.750000</td>\n",
       "      <td>19.000000</td>\n",
       "      <td>13.000000</td>\n",
       "    </tr>\n",
       "    <tr>\n",
       "      <th>50%</th>\n",
       "      <td>9.000000</td>\n",
       "      <td>1253.000000</td>\n",
       "      <td>50.000000</td>\n",
       "      <td>447.500000</td>\n",
       "      <td>38.000000</td>\n",
       "      <td>17.000000</td>\n",
       "    </tr>\n",
       "    <tr>\n",
       "      <th>75%</th>\n",
       "      <td>11.000000</td>\n",
       "      <td>1378.750000</td>\n",
       "      <td>67.000000</td>\n",
       "      <td>592.250000</td>\n",
       "      <td>63.000000</td>\n",
       "      <td>21.000000</td>\n",
       "    </tr>\n",
       "    <tr>\n",
       "      <th>max</th>\n",
       "      <td>12.000000</td>\n",
       "      <td>1499.000000</td>\n",
       "      <td>190.000000</td>\n",
       "      <td>1673.000000</td>\n",
       "      <td>224.000000</td>\n",
       "      <td>49.000000</td>\n",
       "    </tr>\n",
       "  </tbody>\n",
       "</table>\n",
       "</div>"
      ],
      "text/plain": [
       "             month      user_id  calls_count  calls_duration    msg_count  \\\n",
       "count  3214.000000  3214.000000  3168.000000     3168.000000  2717.000000   \n",
       "mean      8.317362  1251.590230    51.450126      457.797033    45.283769   \n",
       "std       2.905413   144.659172    26.439188      237.423514    35.051363   \n",
       "min       1.000000  1000.000000     1.000000        1.000000     1.000000   \n",
       "25%       6.000000  1125.000000    33.000000      290.750000    19.000000   \n",
       "50%       9.000000  1253.000000    50.000000      447.500000    38.000000   \n",
       "75%      11.000000  1378.750000    67.000000      592.250000    63.000000   \n",
       "max      12.000000  1499.000000   190.000000     1673.000000   224.000000   \n",
       "\n",
       "           gb_used  \n",
       "count  3203.000000  \n",
       "mean     17.358414  \n",
       "std       7.343379  \n",
       "min       0.000000  \n",
       "25%      13.000000  \n",
       "50%      17.000000  \n",
       "75%      21.000000  \n",
       "max      49.000000  "
      ]
     },
     "execution_count": 37,
     "metadata": {},
     "output_type": "execute_result"
    }
   ],
   "source": [
    "users_monthly_activity = users_monthly_activity.reset_index() #выведем индексы в отдельные столбцы\n",
    "users_monthly_activity.describe()"
   ]
  },
  {
   "cell_type": "code",
   "execution_count": 38,
   "metadata": {
    "scrolled": true
   },
   "outputs": [],
   "source": [
    "users_monthly_activity = users_monthly_activity.fillna(value = 0) #заполним пропуски"
   ]
  },
  {
   "cell_type": "markdown",
   "metadata": {},
   "source": [
    "####  Помесячная выручку с каждого пользователя"
   ]
  },
  {
   "cell_type": "markdown",
   "metadata": {},
   "source": [
    "При пересчёте выручки с пользователей будем обращаться к таблице с тарифами на случай, если тарифы поменяются."
   ]
  },
  {
   "cell_type": "code",
   "execution_count": 39,
   "metadata": {
    "scrolled": false
   },
   "outputs": [
    {
     "data": {
      "text/html": [
       "<div>\n",
       "<style scoped>\n",
       "    .dataframe tbody tr th:only-of-type {\n",
       "        vertical-align: middle;\n",
       "    }\n",
       "\n",
       "    .dataframe tbody tr th {\n",
       "        vertical-align: top;\n",
       "    }\n",
       "\n",
       "    .dataframe thead th {\n",
       "        text-align: right;\n",
       "    }\n",
       "</style>\n",
       "<table border=\"1\" class=\"dataframe\">\n",
       "  <thead>\n",
       "    <tr style=\"text-align: right;\">\n",
       "      <th></th>\n",
       "      <th>month</th>\n",
       "      <th>user_id</th>\n",
       "      <th>calls_count</th>\n",
       "      <th>calls_duration</th>\n",
       "      <th>msg_count</th>\n",
       "      <th>gb_used</th>\n",
       "      <th>tariff</th>\n",
       "      <th>revenue</th>\n",
       "    </tr>\n",
       "  </thead>\n",
       "  <tbody>\n",
       "    <tr>\n",
       "      <th>0</th>\n",
       "      <td>1</td>\n",
       "      <td>1005</td>\n",
       "      <td>11.0</td>\n",
       "      <td>95.0</td>\n",
       "      <td>7.0</td>\n",
       "      <td>3.0</td>\n",
       "      <td>smart</td>\n",
       "      <td>550.0</td>\n",
       "    </tr>\n",
       "    <tr>\n",
       "      <th>1</th>\n",
       "      <td>1</td>\n",
       "      <td>1032</td>\n",
       "      <td>44.0</td>\n",
       "      <td>380.0</td>\n",
       "      <td>38.0</td>\n",
       "      <td>24.0</td>\n",
       "      <td>smart</td>\n",
       "      <td>2350.0</td>\n",
       "    </tr>\n",
       "    <tr>\n",
       "      <th>2</th>\n",
       "      <td>1</td>\n",
       "      <td>1045</td>\n",
       "      <td>1.0</td>\n",
       "      <td>9.0</td>\n",
       "      <td>5.0</td>\n",
       "      <td>3.0</td>\n",
       "      <td>smart</td>\n",
       "      <td>550.0</td>\n",
       "    </tr>\n",
       "    <tr>\n",
       "      <th>3</th>\n",
       "      <td>1</td>\n",
       "      <td>1055</td>\n",
       "      <td>47.0</td>\n",
       "      <td>551.0</td>\n",
       "      <td>30.0</td>\n",
       "      <td>17.0</td>\n",
       "      <td>smart</td>\n",
       "      <td>1103.0</td>\n",
       "    </tr>\n",
       "    <tr>\n",
       "      <th>4</th>\n",
       "      <td>1</td>\n",
       "      <td>1071</td>\n",
       "      <td>18.0</td>\n",
       "      <td>194.0</td>\n",
       "      <td>16.0</td>\n",
       "      <td>16.0</td>\n",
       "      <td>smart</td>\n",
       "      <td>750.0</td>\n",
       "    </tr>\n",
       "    <tr>\n",
       "      <th>5</th>\n",
       "      <td>1</td>\n",
       "      <td>1113</td>\n",
       "      <td>13.0</td>\n",
       "      <td>110.0</td>\n",
       "      <td>14.0</td>\n",
       "      <td>1.0</td>\n",
       "      <td>smart</td>\n",
       "      <td>550.0</td>\n",
       "    </tr>\n",
       "    <tr>\n",
       "      <th>6</th>\n",
       "      <td>1</td>\n",
       "      <td>1120</td>\n",
       "      <td>4.0</td>\n",
       "      <td>55.0</td>\n",
       "      <td>0.0</td>\n",
       "      <td>1.0</td>\n",
       "      <td>ultra</td>\n",
       "      <td>1950.0</td>\n",
       "    </tr>\n",
       "    <tr>\n",
       "      <th>7</th>\n",
       "      <td>1</td>\n",
       "      <td>1126</td>\n",
       "      <td>28.0</td>\n",
       "      <td>272.0</td>\n",
       "      <td>4.0</td>\n",
       "      <td>16.0</td>\n",
       "      <td>ultra</td>\n",
       "      <td>1950.0</td>\n",
       "    </tr>\n",
       "    <tr>\n",
       "      <th>8</th>\n",
       "      <td>1</td>\n",
       "      <td>1134</td>\n",
       "      <td>33.0</td>\n",
       "      <td>332.0</td>\n",
       "      <td>32.0</td>\n",
       "      <td>10.0</td>\n",
       "      <td>smart</td>\n",
       "      <td>550.0</td>\n",
       "    </tr>\n",
       "    <tr>\n",
       "      <th>9</th>\n",
       "      <td>1</td>\n",
       "      <td>1135</td>\n",
       "      <td>9.0</td>\n",
       "      <td>90.0</td>\n",
       "      <td>1.0</td>\n",
       "      <td>2.0</td>\n",
       "      <td>smart</td>\n",
       "      <td>550.0</td>\n",
       "    </tr>\n",
       "    <tr>\n",
       "      <th>10</th>\n",
       "      <td>1</td>\n",
       "      <td>1155</td>\n",
       "      <td>37.0</td>\n",
       "      <td>337.0</td>\n",
       "      <td>48.0</td>\n",
       "      <td>20.0</td>\n",
       "      <td>smart</td>\n",
       "      <td>1550.0</td>\n",
       "    </tr>\n",
       "    <tr>\n",
       "      <th>11</th>\n",
       "      <td>1</td>\n",
       "      <td>1168</td>\n",
       "      <td>31.0</td>\n",
       "      <td>277.0</td>\n",
       "      <td>14.0</td>\n",
       "      <td>8.0</td>\n",
       "      <td>ultra</td>\n",
       "      <td>1950.0</td>\n",
       "    </tr>\n",
       "    <tr>\n",
       "      <th>12</th>\n",
       "      <td>1</td>\n",
       "      <td>1176</td>\n",
       "      <td>21.0</td>\n",
       "      <td>187.0</td>\n",
       "      <td>20.0</td>\n",
       "      <td>7.0</td>\n",
       "      <td>smart</td>\n",
       "      <td>550.0</td>\n",
       "    </tr>\n",
       "    <tr>\n",
       "      <th>13</th>\n",
       "      <td>1</td>\n",
       "      <td>1189</td>\n",
       "      <td>7.0</td>\n",
       "      <td>51.0</td>\n",
       "      <td>1.0</td>\n",
       "      <td>1.0</td>\n",
       "      <td>smart</td>\n",
       "      <td>550.0</td>\n",
       "    </tr>\n",
       "    <tr>\n",
       "      <th>14</th>\n",
       "      <td>1</td>\n",
       "      <td>1193</td>\n",
       "      <td>43.0</td>\n",
       "      <td>388.0</td>\n",
       "      <td>24.0</td>\n",
       "      <td>7.0</td>\n",
       "      <td>smart</td>\n",
       "      <td>550.0</td>\n",
       "    </tr>\n",
       "  </tbody>\n",
       "</table>\n",
       "</div>"
      ],
      "text/plain": [
       "    month  user_id  calls_count  calls_duration  msg_count  gb_used tariff  \\\n",
       "0       1     1005         11.0            95.0        7.0      3.0  smart   \n",
       "1       1     1032         44.0           380.0       38.0     24.0  smart   \n",
       "2       1     1045          1.0             9.0        5.0      3.0  smart   \n",
       "3       1     1055         47.0           551.0       30.0     17.0  smart   \n",
       "4       1     1071         18.0           194.0       16.0     16.0  smart   \n",
       "5       1     1113         13.0           110.0       14.0      1.0  smart   \n",
       "6       1     1120          4.0            55.0        0.0      1.0  ultra   \n",
       "7       1     1126         28.0           272.0        4.0     16.0  ultra   \n",
       "8       1     1134         33.0           332.0       32.0     10.0  smart   \n",
       "9       1     1135          9.0            90.0        1.0      2.0  smart   \n",
       "10      1     1155         37.0           337.0       48.0     20.0  smart   \n",
       "11      1     1168         31.0           277.0       14.0      8.0  ultra   \n",
       "12      1     1176         21.0           187.0       20.0      7.0  smart   \n",
       "13      1     1189          7.0            51.0        1.0      1.0  smart   \n",
       "14      1     1193         43.0           388.0       24.0      7.0  smart   \n",
       "\n",
       "    revenue  \n",
       "0     550.0  \n",
       "1    2350.0  \n",
       "2     550.0  \n",
       "3    1103.0  \n",
       "4     750.0  \n",
       "5     550.0  \n",
       "6    1950.0  \n",
       "7    1950.0  \n",
       "8     550.0  \n",
       "9     550.0  \n",
       "10   1550.0  \n",
       "11   1950.0  \n",
       "12    550.0  \n",
       "13    550.0  \n",
       "14    550.0  "
      ]
     },
     "execution_count": 39,
     "metadata": {},
     "output_type": "execute_result"
    }
   ],
   "source": [
    "for index, row in users_monthly_activity.iterrows(): #своровал в интернете функцию\n",
    "    if row['tariff'] == 'smart':\n",
    "        revenue = tariffs.loc[0, 'rub_monthly_fee']\n",
    "        if (users_monthly_activity.loc[index, 'calls_duration'] - tariffs.loc[0, 'minutes_included']) > 0:\n",
    "            revenue = revenue + (users_monthly_activity.loc[index, 'calls_duration'] - tariffs.loc[0, 'minutes_included'])*tariffs.loc[0, 'rub_per_minute']\n",
    "        if (users_monthly_activity.loc[index, 'msg_count'] - tariffs.loc[0, 'messages_included']) > 0:\n",
    "            revenue = revenue + (users_monthly_activity.loc[index, 'msg_count'] - tariffs.loc[0, 'messages_included'])*tariffs.loc[0, 'rub_per_message']\n",
    "        if (users_monthly_activity.loc[index, 'gb_used'] - 15) > 0:\n",
    "            revenue = revenue + (users_monthly_activity.loc[index, 'gb_used'] - 15)*tariffs.loc[0, 'rub_per_gb']           \n",
    "    else:\n",
    "        revenue = tariffs.loc[1, 'rub_monthly_fee']\n",
    "        if (users_monthly_activity.loc[index, 'calls_duration'] - tariffs.loc[1, 'minutes_included']) > 0:\n",
    "            revenue = revenue + (users_monthly_activity.loc[index, 'calls_duration'] - tariffs.loc[1, 'minutes_included'])*tariffs.loc[1, 'rub_per_minute']\n",
    "        if (users_monthly_activity.loc[index, 'msg_count'] - tariffs.loc[1, 'messages_included']) > 0:\n",
    "            revenue = revenue + (users_monthly_activity.loc[index, 'msg_count'] - tariffs.loc[1, 'minutes_included'])*tariffs.loc[1, 'rub_per_message']\n",
    "        if (users_monthly_activity.loc[index, 'gb_used'] - 30) > 0:\n",
    "            revenue = revenue + (users_monthly_activity.loc[index, 'gb_used'] - 30)*tariffs.loc[1, 'rub_per_gb']           \n",
    "    users_monthly_activity.loc[index, 'revenue'] = revenue\n",
    "users_monthly_activity.head(15)"
   ]
  },
  {
   "cell_type": "code",
   "execution_count": 40,
   "metadata": {},
   "outputs": [
    {
     "data": {
      "text/html": [
       "<div>\n",
       "<style scoped>\n",
       "    .dataframe tbody tr th:only-of-type {\n",
       "        vertical-align: middle;\n",
       "    }\n",
       "\n",
       "    .dataframe tbody tr th {\n",
       "        vertical-align: top;\n",
       "    }\n",
       "\n",
       "    .dataframe thead th {\n",
       "        text-align: right;\n",
       "    }\n",
       "</style>\n",
       "<table border=\"1\" class=\"dataframe\">\n",
       "  <thead>\n",
       "    <tr style=\"text-align: right;\">\n",
       "      <th></th>\n",
       "      <th>month</th>\n",
       "      <th>user_id</th>\n",
       "      <th>calls_count</th>\n",
       "      <th>calls_duration</th>\n",
       "      <th>msg_count</th>\n",
       "      <th>gb_used</th>\n",
       "      <th>tariff</th>\n",
       "      <th>revenue</th>\n",
       "    </tr>\n",
       "  </thead>\n",
       "  <tbody>\n",
       "  </tbody>\n",
       "</table>\n",
       "</div>"
      ],
      "text/plain": [
       "Empty DataFrame\n",
       "Columns: [month, user_id, calls_count, calls_duration, msg_count, gb_used, tariff, revenue]\n",
       "Index: []"
      ]
     },
     "execution_count": 40,
     "metadata": {},
     "output_type": "execute_result"
    }
   ],
   "source": [
    "users_monthly_activity.query('revenue < 550') #Проверка ошибки, прибыль не может быть менее стоимости дешевого тарифа за месяц"
   ]
  },
  {
   "cell_type": "code",
   "execution_count": 41,
   "metadata": {},
   "outputs": [
    {
     "name": "stdout",
     "output_type": "stream",
     "text": [
      "Cредняя выручка с тарифа smart 1290\n",
      "Cредняя выручка с тарифа ultra 2070\n"
     ]
    }
   ],
   "source": [
    "print(f\"Cредняя выручка с тарифа smart {users_monthly_activity[users_monthly_activity['tariff'] == 'smart']['revenue'].mean():.0f}\")\n",
    "print(f\"Cредняя выручка с тарифа ultra {users_monthly_activity[users_monthly_activity['tariff'] == 'ultra']['revenue'].mean():.0f}\")"
   ]
  },
  {
   "cell_type": "markdown",
   "metadata": {},
   "source": [
    "- Средняя выручка в месяц с тарифа ультра выше;\n",
    "- Объеденим таблицы с выручкой и персональными данными пользователей."
   ]
  },
  {
   "cell_type": "code",
   "execution_count": 42,
   "metadata": {},
   "outputs": [
    {
     "data": {
      "text/html": [
       "<div>\n",
       "<style scoped>\n",
       "    .dataframe tbody tr th:only-of-type {\n",
       "        vertical-align: middle;\n",
       "    }\n",
       "\n",
       "    .dataframe tbody tr th {\n",
       "        vertical-align: top;\n",
       "    }\n",
       "\n",
       "    .dataframe thead th {\n",
       "        text-align: right;\n",
       "    }\n",
       "</style>\n",
       "<table border=\"1\" class=\"dataframe\">\n",
       "  <thead>\n",
       "    <tr style=\"text-align: right;\">\n",
       "      <th></th>\n",
       "      <th>month</th>\n",
       "      <th>user_id</th>\n",
       "      <th>calls_count</th>\n",
       "      <th>calls_duration</th>\n",
       "      <th>msg_count</th>\n",
       "      <th>gb_used</th>\n",
       "      <th>tariff_x</th>\n",
       "      <th>revenue</th>\n",
       "      <th>age</th>\n",
       "      <th>churn_date</th>\n",
       "      <th>city</th>\n",
       "      <th>first_name</th>\n",
       "      <th>last_name</th>\n",
       "      <th>reg_date</th>\n",
       "      <th>tariff_y</th>\n",
       "      <th>users_by_date</th>\n",
       "    </tr>\n",
       "  </thead>\n",
       "  <tbody>\n",
       "    <tr>\n",
       "      <th>0</th>\n",
       "      <td>1.0</td>\n",
       "      <td>1005</td>\n",
       "      <td>11.0</td>\n",
       "      <td>95.0</td>\n",
       "      <td>7.0</td>\n",
       "      <td>3.0</td>\n",
       "      <td>smart</td>\n",
       "      <td>550.0</td>\n",
       "      <td>67</td>\n",
       "      <td>NaT</td>\n",
       "      <td>Набережные Челны</td>\n",
       "      <td>Афанасий</td>\n",
       "      <td>Горлов</td>\n",
       "      <td>2018-01-25</td>\n",
       "      <td>smart</td>\n",
       "      <td>36.0</td>\n",
       "    </tr>\n",
       "    <tr>\n",
       "      <th>1</th>\n",
       "      <td>2.0</td>\n",
       "      <td>1005</td>\n",
       "      <td>55.0</td>\n",
       "      <td>456.0</td>\n",
       "      <td>38.0</td>\n",
       "      <td>8.0</td>\n",
       "      <td>smart</td>\n",
       "      <td>550.0</td>\n",
       "      <td>67</td>\n",
       "      <td>NaT</td>\n",
       "      <td>Набережные Челны</td>\n",
       "      <td>Афанасий</td>\n",
       "      <td>Горлов</td>\n",
       "      <td>2018-01-25</td>\n",
       "      <td>smart</td>\n",
       "      <td>36.0</td>\n",
       "    </tr>\n",
       "    <tr>\n",
       "      <th>2</th>\n",
       "      <td>3.0</td>\n",
       "      <td>1005</td>\n",
       "      <td>63.0</td>\n",
       "      <td>606.0</td>\n",
       "      <td>56.0</td>\n",
       "      <td>11.0</td>\n",
       "      <td>smart</td>\n",
       "      <td>886.0</td>\n",
       "      <td>67</td>\n",
       "      <td>NaT</td>\n",
       "      <td>Набережные Челны</td>\n",
       "      <td>Афанасий</td>\n",
       "      <td>Горлов</td>\n",
       "      <td>2018-01-25</td>\n",
       "      <td>smart</td>\n",
       "      <td>36.0</td>\n",
       "    </tr>\n",
       "    <tr>\n",
       "      <th>3</th>\n",
       "      <td>4.0</td>\n",
       "      <td>1005</td>\n",
       "      <td>77.0</td>\n",
       "      <td>712.0</td>\n",
       "      <td>41.0</td>\n",
       "      <td>10.0</td>\n",
       "      <td>smart</td>\n",
       "      <td>1186.0</td>\n",
       "      <td>67</td>\n",
       "      <td>NaT</td>\n",
       "      <td>Набережные Челны</td>\n",
       "      <td>Афанасий</td>\n",
       "      <td>Горлов</td>\n",
       "      <td>2018-01-25</td>\n",
       "      <td>smart</td>\n",
       "      <td>36.0</td>\n",
       "    </tr>\n",
       "    <tr>\n",
       "      <th>4</th>\n",
       "      <td>5.0</td>\n",
       "      <td>1005</td>\n",
       "      <td>62.0</td>\n",
       "      <td>595.0</td>\n",
       "      <td>42.0</td>\n",
       "      <td>8.0</td>\n",
       "      <td>smart</td>\n",
       "      <td>835.0</td>\n",
       "      <td>67</td>\n",
       "      <td>NaT</td>\n",
       "      <td>Набережные Челны</td>\n",
       "      <td>Афанасий</td>\n",
       "      <td>Горлов</td>\n",
       "      <td>2018-01-25</td>\n",
       "      <td>smart</td>\n",
       "      <td>36.0</td>\n",
       "    </tr>\n",
       "    <tr>\n",
       "      <th>...</th>\n",
       "      <td>...</td>\n",
       "      <td>...</td>\n",
       "      <td>...</td>\n",
       "      <td>...</td>\n",
       "      <td>...</td>\n",
       "      <td>...</td>\n",
       "      <td>...</td>\n",
       "      <td>...</td>\n",
       "      <td>...</td>\n",
       "      <td>...</td>\n",
       "      <td>...</td>\n",
       "      <td>...</td>\n",
       "      <td>...</td>\n",
       "      <td>...</td>\n",
       "      <td>...</td>\n",
       "      <td>...</td>\n",
       "    </tr>\n",
       "    <tr>\n",
       "      <th>3211</th>\n",
       "      <td>12.0</td>\n",
       "      <td>1434</td>\n",
       "      <td>65.0</td>\n",
       "      <td>560.0</td>\n",
       "      <td>21.0</td>\n",
       "      <td>15.0</td>\n",
       "      <td>smart</td>\n",
       "      <td>730.0</td>\n",
       "      <td>73</td>\n",
       "      <td>NaT</td>\n",
       "      <td>Москва</td>\n",
       "      <td>Карина</td>\n",
       "      <td>Субботина</td>\n",
       "      <td>2018-12-14</td>\n",
       "      <td>smart</td>\n",
       "      <td>481.0</td>\n",
       "    </tr>\n",
       "    <tr>\n",
       "      <th>3212</th>\n",
       "      <td>12.0</td>\n",
       "      <td>1445</td>\n",
       "      <td>54.0</td>\n",
       "      <td>508.0</td>\n",
       "      <td>75.0</td>\n",
       "      <td>17.0</td>\n",
       "      <td>smart</td>\n",
       "      <td>1049.0</td>\n",
       "      <td>40</td>\n",
       "      <td>NaT</td>\n",
       "      <td>Москва</td>\n",
       "      <td>Рауль</td>\n",
       "      <td>Иванов</td>\n",
       "      <td>2018-12-29</td>\n",
       "      <td>smart</td>\n",
       "      <td>496.0</td>\n",
       "    </tr>\n",
       "    <tr>\n",
       "      <th>3213</th>\n",
       "      <td>12.0</td>\n",
       "      <td>1485</td>\n",
       "      <td>72.0</td>\n",
       "      <td>584.0</td>\n",
       "      <td>155.0</td>\n",
       "      <td>23.0</td>\n",
       "      <td>ultra</td>\n",
       "      <td>1950.0</td>\n",
       "      <td>34</td>\n",
       "      <td>NaT</td>\n",
       "      <td>Киров</td>\n",
       "      <td>Таисия</td>\n",
       "      <td>Сухова</td>\n",
       "      <td>2018-12-29</td>\n",
       "      <td>ultra</td>\n",
       "      <td>496.0</td>\n",
       "    </tr>\n",
       "    <tr>\n",
       "      <th>3214</th>\n",
       "      <td>NaN</td>\n",
       "      <td>1128</td>\n",
       "      <td>NaN</td>\n",
       "      <td>NaN</td>\n",
       "      <td>NaN</td>\n",
       "      <td>NaN</td>\n",
       "      <td>NaN</td>\n",
       "      <td>NaN</td>\n",
       "      <td>51</td>\n",
       "      <td>2018-12-23</td>\n",
       "      <td>Волжский</td>\n",
       "      <td>Ксения</td>\n",
       "      <td>Агаева</td>\n",
       "      <td>2018-12-15</td>\n",
       "      <td>ultra</td>\n",
       "      <td>483.0</td>\n",
       "    </tr>\n",
       "    <tr>\n",
       "      <th>3215</th>\n",
       "      <td>NaN</td>\n",
       "      <td>1371</td>\n",
       "      <td>NaN</td>\n",
       "      <td>NaN</td>\n",
       "      <td>NaN</td>\n",
       "      <td>NaN</td>\n",
       "      <td>NaN</td>\n",
       "      <td>NaN</td>\n",
       "      <td>50</td>\n",
       "      <td>2018-12-30</td>\n",
       "      <td>Омск</td>\n",
       "      <td>Ириней</td>\n",
       "      <td>Трофимов</td>\n",
       "      <td>2018-12-25</td>\n",
       "      <td>smart</td>\n",
       "      <td>494.0</td>\n",
       "    </tr>\n",
       "  </tbody>\n",
       "</table>\n",
       "<p>3216 rows × 16 columns</p>\n",
       "</div>"
      ],
      "text/plain": [
       "      month  user_id  calls_count  calls_duration  msg_count  gb_used  \\\n",
       "0       1.0     1005         11.0            95.0        7.0      3.0   \n",
       "1       2.0     1005         55.0           456.0       38.0      8.0   \n",
       "2       3.0     1005         63.0           606.0       56.0     11.0   \n",
       "3       4.0     1005         77.0           712.0       41.0     10.0   \n",
       "4       5.0     1005         62.0           595.0       42.0      8.0   \n",
       "...     ...      ...          ...             ...        ...      ...   \n",
       "3211   12.0     1434         65.0           560.0       21.0     15.0   \n",
       "3212   12.0     1445         54.0           508.0       75.0     17.0   \n",
       "3213   12.0     1485         72.0           584.0      155.0     23.0   \n",
       "3214    NaN     1128          NaN             NaN        NaN      NaN   \n",
       "3215    NaN     1371          NaN             NaN        NaN      NaN   \n",
       "\n",
       "     tariff_x  revenue  age churn_date              city first_name  \\\n",
       "0       smart    550.0   67        NaT  Набережные Челны   Афанасий   \n",
       "1       smart    550.0   67        NaT  Набережные Челны   Афанасий   \n",
       "2       smart    886.0   67        NaT  Набережные Челны   Афанасий   \n",
       "3       smart   1186.0   67        NaT  Набережные Челны   Афанасий   \n",
       "4       smart    835.0   67        NaT  Набережные Челны   Афанасий   \n",
       "...       ...      ...  ...        ...               ...        ...   \n",
       "3211    smart    730.0   73        NaT            Москва     Карина   \n",
       "3212    smart   1049.0   40        NaT            Москва      Рауль   \n",
       "3213    ultra   1950.0   34        NaT             Киров     Таисия   \n",
       "3214      NaN      NaN   51 2018-12-23          Волжский     Ксения   \n",
       "3215      NaN      NaN   50 2018-12-30              Омск     Ириней   \n",
       "\n",
       "      last_name   reg_date tariff_y  users_by_date  \n",
       "0        Горлов 2018-01-25    smart           36.0  \n",
       "1        Горлов 2018-01-25    smart           36.0  \n",
       "2        Горлов 2018-01-25    smart           36.0  \n",
       "3        Горлов 2018-01-25    smart           36.0  \n",
       "4        Горлов 2018-01-25    smart           36.0  \n",
       "...         ...        ...      ...            ...  \n",
       "3211  Субботина 2018-12-14    smart          481.0  \n",
       "3212     Иванов 2018-12-29    smart          496.0  \n",
       "3213     Сухова 2018-12-29    ultra          496.0  \n",
       "3214     Агаева 2018-12-15    ultra          483.0  \n",
       "3215   Трофимов 2018-12-25    smart          494.0  \n",
       "\n",
       "[3216 rows x 16 columns]"
      ]
     },
     "execution_count": 42,
     "metadata": {},
     "output_type": "execute_result"
    }
   ],
   "source": [
    "users_monthly_activity = users_monthly_activity.merge(users, how='outer', on = 'user_id')\n",
    "users_monthly_activity"
   ]
  },
  {
   "cell_type": "code",
   "execution_count": 43,
   "metadata": {},
   "outputs": [
    {
     "data": {
      "text/html": [
       "<div>\n",
       "<style scoped>\n",
       "    .dataframe tbody tr th:only-of-type {\n",
       "        vertical-align: middle;\n",
       "    }\n",
       "\n",
       "    .dataframe tbody tr th {\n",
       "        vertical-align: top;\n",
       "    }\n",
       "\n",
       "    .dataframe thead th {\n",
       "        text-align: right;\n",
       "    }\n",
       "</style>\n",
       "<table border=\"1\" class=\"dataframe\">\n",
       "  <thead>\n",
       "    <tr style=\"text-align: right;\">\n",
       "      <th></th>\n",
       "      <th>month</th>\n",
       "      <th>user_id</th>\n",
       "      <th>calls_count</th>\n",
       "      <th>calls_duration</th>\n",
       "      <th>msg_count</th>\n",
       "      <th>gb_used</th>\n",
       "      <th>tariff_x</th>\n",
       "      <th>revenue</th>\n",
       "      <th>age</th>\n",
       "      <th>churn_date</th>\n",
       "      <th>city</th>\n",
       "      <th>first_name</th>\n",
       "      <th>last_name</th>\n",
       "      <th>reg_date</th>\n",
       "      <th>tariff_y</th>\n",
       "      <th>users_by_date</th>\n",
       "    </tr>\n",
       "  </thead>\n",
       "  <tbody>\n",
       "    <tr>\n",
       "      <th>3214</th>\n",
       "      <td>NaN</td>\n",
       "      <td>1128</td>\n",
       "      <td>NaN</td>\n",
       "      <td>NaN</td>\n",
       "      <td>NaN</td>\n",
       "      <td>NaN</td>\n",
       "      <td>NaN</td>\n",
       "      <td>NaN</td>\n",
       "      <td>51</td>\n",
       "      <td>2018-12-23</td>\n",
       "      <td>Волжский</td>\n",
       "      <td>Ксения</td>\n",
       "      <td>Агаева</td>\n",
       "      <td>2018-12-15</td>\n",
       "      <td>ultra</td>\n",
       "      <td>483.0</td>\n",
       "    </tr>\n",
       "    <tr>\n",
       "      <th>3215</th>\n",
       "      <td>NaN</td>\n",
       "      <td>1371</td>\n",
       "      <td>NaN</td>\n",
       "      <td>NaN</td>\n",
       "      <td>NaN</td>\n",
       "      <td>NaN</td>\n",
       "      <td>NaN</td>\n",
       "      <td>NaN</td>\n",
       "      <td>50</td>\n",
       "      <td>2018-12-30</td>\n",
       "      <td>Омск</td>\n",
       "      <td>Ириней</td>\n",
       "      <td>Трофимов</td>\n",
       "      <td>2018-12-25</td>\n",
       "      <td>smart</td>\n",
       "      <td>494.0</td>\n",
       "    </tr>\n",
       "  </tbody>\n",
       "</table>\n",
       "</div>"
      ],
      "text/plain": [
       "      month  user_id  calls_count  calls_duration  msg_count  gb_used  \\\n",
       "3214    NaN     1128          NaN             NaN        NaN      NaN   \n",
       "3215    NaN     1371          NaN             NaN        NaN      NaN   \n",
       "\n",
       "     tariff_x  revenue  age churn_date      city first_name last_name  \\\n",
       "3214      NaN      NaN   51 2018-12-23  Волжский     Ксения    Агаева   \n",
       "3215      NaN      NaN   50 2018-12-30      Омск     Ириней  Трофимов   \n",
       "\n",
       "       reg_date tariff_y  users_by_date  \n",
       "3214 2018-12-15    ultra          483.0  \n",
       "3215 2018-12-25    smart          494.0  "
      ]
     },
     "execution_count": 43,
     "metadata": {},
     "output_type": "execute_result"
    }
   ],
   "source": [
    "users_monthly_activity[users_monthly_activity['revenue'].isna()]"
   ]
  },
  {
   "cell_type": "markdown",
   "metadata": {},
   "source": [
    "- Два пользователя не воспользовались купленным тарифом. Исключим их из анализа.\n",
    "- Появился дублирующийся столбец с тарифом. Удалим его и переименуем оставшийся."
   ]
  },
  {
   "cell_type": "code",
   "execution_count": 44,
   "metadata": {
    "scrolled": true
   },
   "outputs": [
    {
     "data": {
      "text/html": [
       "<div>\n",
       "<style scoped>\n",
       "    .dataframe tbody tr th:only-of-type {\n",
       "        vertical-align: middle;\n",
       "    }\n",
       "\n",
       "    .dataframe tbody tr th {\n",
       "        vertical-align: top;\n",
       "    }\n",
       "\n",
       "    .dataframe thead th {\n",
       "        text-align: right;\n",
       "    }\n",
       "</style>\n",
       "<table border=\"1\" class=\"dataframe\">\n",
       "  <thead>\n",
       "    <tr style=\"text-align: right;\">\n",
       "      <th></th>\n",
       "      <th>month</th>\n",
       "      <th>user_id</th>\n",
       "      <th>calls_count</th>\n",
       "      <th>calls_duration</th>\n",
       "      <th>msg_sent</th>\n",
       "      <th>gb_used</th>\n",
       "      <th>tariff</th>\n",
       "      <th>revenue</th>\n",
       "      <th>age</th>\n",
       "      <th>churn_date</th>\n",
       "      <th>city</th>\n",
       "      <th>first_name</th>\n",
       "      <th>last_name</th>\n",
       "      <th>reg_date</th>\n",
       "      <th>users_by_date</th>\n",
       "    </tr>\n",
       "  </thead>\n",
       "  <tbody>\n",
       "    <tr>\n",
       "      <th>0</th>\n",
       "      <td>1.0</td>\n",
       "      <td>1005</td>\n",
       "      <td>11.0</td>\n",
       "      <td>95.0</td>\n",
       "      <td>7.0</td>\n",
       "      <td>3.0</td>\n",
       "      <td>smart</td>\n",
       "      <td>550.0</td>\n",
       "      <td>67</td>\n",
       "      <td>NaT</td>\n",
       "      <td>Набережные Челны</td>\n",
       "      <td>Афанасий</td>\n",
       "      <td>Горлов</td>\n",
       "      <td>2018-01-25</td>\n",
       "      <td>36.0</td>\n",
       "    </tr>\n",
       "    <tr>\n",
       "      <th>1</th>\n",
       "      <td>2.0</td>\n",
       "      <td>1005</td>\n",
       "      <td>55.0</td>\n",
       "      <td>456.0</td>\n",
       "      <td>38.0</td>\n",
       "      <td>8.0</td>\n",
       "      <td>smart</td>\n",
       "      <td>550.0</td>\n",
       "      <td>67</td>\n",
       "      <td>NaT</td>\n",
       "      <td>Набережные Челны</td>\n",
       "      <td>Афанасий</td>\n",
       "      <td>Горлов</td>\n",
       "      <td>2018-01-25</td>\n",
       "      <td>36.0</td>\n",
       "    </tr>\n",
       "    <tr>\n",
       "      <th>2</th>\n",
       "      <td>3.0</td>\n",
       "      <td>1005</td>\n",
       "      <td>63.0</td>\n",
       "      <td>606.0</td>\n",
       "      <td>56.0</td>\n",
       "      <td>11.0</td>\n",
       "      <td>smart</td>\n",
       "      <td>886.0</td>\n",
       "      <td>67</td>\n",
       "      <td>NaT</td>\n",
       "      <td>Набережные Челны</td>\n",
       "      <td>Афанасий</td>\n",
       "      <td>Горлов</td>\n",
       "      <td>2018-01-25</td>\n",
       "      <td>36.0</td>\n",
       "    </tr>\n",
       "    <tr>\n",
       "      <th>3</th>\n",
       "      <td>4.0</td>\n",
       "      <td>1005</td>\n",
       "      <td>77.0</td>\n",
       "      <td>712.0</td>\n",
       "      <td>41.0</td>\n",
       "      <td>10.0</td>\n",
       "      <td>smart</td>\n",
       "      <td>1186.0</td>\n",
       "      <td>67</td>\n",
       "      <td>NaT</td>\n",
       "      <td>Набережные Челны</td>\n",
       "      <td>Афанасий</td>\n",
       "      <td>Горлов</td>\n",
       "      <td>2018-01-25</td>\n",
       "      <td>36.0</td>\n",
       "    </tr>\n",
       "    <tr>\n",
       "      <th>4</th>\n",
       "      <td>5.0</td>\n",
       "      <td>1005</td>\n",
       "      <td>62.0</td>\n",
       "      <td>595.0</td>\n",
       "      <td>42.0</td>\n",
       "      <td>8.0</td>\n",
       "      <td>smart</td>\n",
       "      <td>835.0</td>\n",
       "      <td>67</td>\n",
       "      <td>NaT</td>\n",
       "      <td>Набережные Челны</td>\n",
       "      <td>Афанасий</td>\n",
       "      <td>Горлов</td>\n",
       "      <td>2018-01-25</td>\n",
       "      <td>36.0</td>\n",
       "    </tr>\n",
       "  </tbody>\n",
       "</table>\n",
       "</div>"
      ],
      "text/plain": [
       "   month  user_id  calls_count  calls_duration  msg_sent  gb_used tariff  \\\n",
       "0    1.0     1005         11.0            95.0       7.0      3.0  smart   \n",
       "1    2.0     1005         55.0           456.0      38.0      8.0  smart   \n",
       "2    3.0     1005         63.0           606.0      56.0     11.0  smart   \n",
       "3    4.0     1005         77.0           712.0      41.0     10.0  smart   \n",
       "4    5.0     1005         62.0           595.0      42.0      8.0  smart   \n",
       "\n",
       "   revenue  age churn_date              city first_name last_name   reg_date  \\\n",
       "0    550.0   67        NaT  Набережные Челны   Афанасий    Горлов 2018-01-25   \n",
       "1    550.0   67        NaT  Набережные Челны   Афанасий    Горлов 2018-01-25   \n",
       "2    886.0   67        NaT  Набережные Челны   Афанасий    Горлов 2018-01-25   \n",
       "3   1186.0   67        NaT  Набережные Челны   Афанасий    Горлов 2018-01-25   \n",
       "4    835.0   67        NaT  Набережные Челны   Афанасий    Горлов 2018-01-25   \n",
       "\n",
       "   users_by_date  \n",
       "0           36.0  \n",
       "1           36.0  \n",
       "2           36.0  \n",
       "3           36.0  \n",
       "4           36.0  "
      ]
     },
     "execution_count": 44,
     "metadata": {},
     "output_type": "execute_result"
    }
   ],
   "source": [
    "users_monthly_activity = users_monthly_activity.drop(index = [3214, 3215])\n",
    "users_monthly_activity = users_monthly_activity.drop(['tariff_y'], axis=1)\n",
    "users_monthly_activity = users_monthly_activity.rename(columns={\"tariff_x\": \"tariff\", \"msg_count\": \"msg_sent\"})\n",
    "users_monthly_activity.head()"
   ]
  },
  {
   "cell_type": "markdown",
   "metadata": {},
   "source": [
    "### Подытог\n",
    "- Выполнили подготовку данных к анализу\n",
    "- Изучили структуру и особенности наборов данных\n",
    "- Устранили мелкие ошибки в данных и сменили типы данных (даты на даты, целые числа на целые числа)\n",
    "- Свели в одну таблицу всю информацию, добавив выручку по клиентам, счетчик активных пользователей на момент подключения абонента, посчитали количество совершенных вызовов."
   ]
  },
  {
   "cell_type": "markdown",
   "metadata": {},
   "source": [
    "## Анализ данных"
   ]
  },
  {
   "cell_type": "markdown",
   "metadata": {},
   "source": [
    "Опишем поведение клиентов оператора, исходя из выборки. \n",
    "- Сколько минут разговора, сколько сообщений и какой объём интернет-трафика требуется пользователям каждого тарифа в месяц? \n",
    "- Посчитаем среднее количество, дисперсию и стандартное отклонение. Построим гистограммы. Опишем распределения."
   ]
  },
  {
   "cell_type": "markdown",
   "metadata": {},
   "source": [
    "### Анализ объемов использования услуг"
   ]
  },
  {
   "cell_type": "code",
   "execution_count": 45,
   "metadata": {},
   "outputs": [
    {
     "data": {
      "image/png": "[encoded data removed]",
      "text/plain": [
       "<Figure size 1080x576 with 2 Axes>"
      ]
     },
     "metadata": {
      "needs_background": "light"
     },
     "output_type": "display_data"
    }
   ],
   "source": [
    "ax = users_monthly_activity.hist(column='calls_duration', by = 'tariff', layout=(1,2), \n",
    "                                 bins = 100, figsize = (15,8), sharey = True,  sharex = True)\n",
    "ax[0].set_xlabel(\"Длительность звонков\")\n",
    "ax[0].set_ylabel(\"Количество\")\n",
    "ax[0].set_title(\"Длительность звонков на тарифе Smart\")\n",
    "ax[1].set_xlabel(\"Длительность звонков\")\n",
    "ax[1].set_ylabel(\"Количество\")\n",
    "ax[1].set_title(\"Длительность звонков на тарифе Ultra\")\n",
    "None"
   ]
  },
  {
   "cell_type": "code",
   "execution_count": 46,
   "metadata": {},
   "outputs": [
    {
     "name": "stdout",
     "output_type": "stream",
     "text": [
      "Тариф смарт\n",
      " count    2229.000000\n",
      "mean      417.934948\n",
      "std       190.313730\n",
      "min         0.000000\n",
      "25%       282.000000\n",
      "50%       422.000000\n",
      "75%       545.000000\n",
      "max      1435.000000\n",
      "Name: calls_duration, dtype: float64\n",
      "\n",
      "Тариф ультра\n",
      " count     985.000000\n",
      "mean      526.623350\n",
      "std       317.606098\n",
      "min         0.000000\n",
      "25%       284.000000\n",
      "50%       518.000000\n",
      "75%       752.000000\n",
      "max      1673.000000\n",
      "Name: calls_duration, dtype: float64\n"
     ]
    }
   ],
   "source": [
    "print('Тариф смарт\\n',users_monthly_activity[users_monthly_activity['tariff'] == 'smart']['calls_duration'].describe()), \n",
    "print('\\nТариф ультра\\n',users_monthly_activity[users_monthly_activity['tariff'] == 'ultra']['calls_duration'].describe())\n",
    "None"
   ]
  },
  {
   "cell_type": "code",
   "execution_count": 47,
   "metadata": {},
   "outputs": [
    {
     "name": "stdout",
     "output_type": "stream",
     "text": [
      "Тариф смарт\n",
      " count    2229.000000\n",
      "mean       33.384029\n",
      "std        28.227876\n",
      "min         0.000000\n",
      "25%        10.000000\n",
      "50%        28.000000\n",
      "75%        51.000000\n",
      "max       143.000000\n",
      "Name: msg_sent, dtype: float64\n",
      "\n",
      "Тариф ультра\n",
      " count    985.000000\n",
      "mean      49.363452\n",
      "std       47.804457\n",
      "min        0.000000\n",
      "25%        6.000000\n",
      "50%       38.000000\n",
      "75%       79.000000\n",
      "max      224.000000\n",
      "Name: msg_sent, dtype: float64\n"
     ]
    },
    {
     "data": {
      "image/png": "[encoded data removed]",
      "text/plain": [
       "<Figure size 1080x576 with 2 Axes>"
      ]
     },
     "metadata": {
      "needs_background": "light"
     },
     "output_type": "display_data"
    }
   ],
   "source": [
    "ax = users_monthly_activity.hist(column='msg_sent', by = 'tariff', layout=(1,2), \n",
    "                                 bins = 50, figsize = (15,8), sharey = True,  sharex = True)\n",
    "ax[0].set_xlabel(\"Количество сообщений\")\n",
    "ax[0].set_ylabel(\"Количество\")\n",
    "ax[0].set_title(\"Количество сообщений на тарифе Smart\")\n",
    "ax[1].set_xlabel(\"Количество сообщений\")\n",
    "ax[1].set_ylabel(\"Количество\")\n",
    "ax[1].set_title(\"Количество сообщений на тарифе Ultra\")\n",
    "print('Тариф смарт\\n',users_monthly_activity[users_monthly_activity['tariff'] == 'smart']['msg_sent'].describe()), \n",
    "print('\\nТариф ультра\\n',users_monthly_activity[users_monthly_activity['tariff'] == 'ultra']['msg_sent'].describe())\n",
    "None"
   ]
  },
  {
   "cell_type": "code",
   "execution_count": 48,
   "metadata": {},
   "outputs": [
    {
     "name": "stdout",
     "output_type": "stream",
     "text": [
      "Тариф смарт\n",
      " count    2229.000000\n",
      "mean       16.328847\n",
      "std         5.747061\n",
      "min         0.000000\n",
      "25%        13.000000\n",
      "50%        17.000000\n",
      "75%        20.000000\n",
      "max        38.000000\n",
      "Name: gb_used, dtype: float64\n",
      "\n",
      "Тариф ультра\n",
      " count    985.000000\n",
      "mean      19.494416\n",
      "std        9.853511\n",
      "min        0.000000\n",
      "25%       12.000000\n",
      "50%       19.000000\n",
      "75%       27.000000\n",
      "max       49.000000\n",
      "Name: gb_used, dtype: float64\n"
     ]
    },
    {
     "data": {
      "image/png": "[encoded data removed]",
      "text/plain": [
       "<Figure size 1080x576 with 2 Axes>"
      ]
     },
     "metadata": {
      "needs_background": "light"
     },
     "output_type": "display_data"
    }
   ],
   "source": [
    "ax = users_monthly_activity.hist(column='gb_used', by = 'tariff', layout=(1,2), \n",
    "                                 bins = 50, figsize = (15,8), sharey = True,  sharex = True)\n",
    "ax[0].set_xlabel(\"Количество траффика, Гб\")\n",
    "ax[0].set_ylabel(\"Количество\")\n",
    "ax[0].set_title(\"Использование интернета на тарифе Smart\")\n",
    "ax[1].set_xlabel(\"Количество траффика, Гб\")\n",
    "ax[1].set_ylabel(\"Количество\")\n",
    "ax[1].set_title(\"Использование интернета на тарифе Ultra\")\n",
    "print('Тариф смарт\\n',users_monthly_activity[users_monthly_activity['tariff'] == 'smart']['gb_used'].describe()), \n",
    "print('\\nТариф ультра\\n',users_monthly_activity[users_monthly_activity['tariff'] == 'ultra']['gb_used'].describe())\n",
    "None"
   ]
  },
  {
   "cell_type": "markdown",
   "metadata": {},
   "source": [
    "|Параметр| Звонки, тариф смарт, мин|Звонки, тариф ультра, мин|Сообщения, тариф смарт|Сообщения, тариф ультра|Интернет, тариф смарт, Гб|Интернет, тариф ультра, Гб|\n",
    "|-------|-------|-------|-------|-------|-------|-------|\n",
    "| Среднее                 | 417.9      | 526.6         | 33.4 | 49.4      | 16.3         | 19.5       \n",
    "| Стандартное отклонение  | 190.3       | 317.6          | 28.2 | 47.8       | 5.74          | 9.85  \n",
    "| Оценка дисперсии*       | 36219.3       | 100873.6          | 796.8  | 2285.3       | 33.0          | 97.1   \n"
   ]
  },
  {
   "cell_type": "markdown",
   "metadata": {},
   "source": [
    "### Анализ выручки"
   ]
  },
  {
   "cell_type": "code",
   "execution_count": 49,
   "metadata": {
    "scrolled": true
   },
   "outputs": [
    {
     "data": {
      "text/html": [
       "<div>\n",
       "<style scoped>\n",
       "    .dataframe tbody tr th:only-of-type {\n",
       "        vertical-align: middle;\n",
       "    }\n",
       "\n",
       "    .dataframe tbody tr th {\n",
       "        vertical-align: top;\n",
       "    }\n",
       "\n",
       "    .dataframe thead th {\n",
       "        text-align: right;\n",
       "    }\n",
       "</style>\n",
       "<table border=\"1\" class=\"dataframe\">\n",
       "  <thead>\n",
       "    <tr style=\"text-align: right;\">\n",
       "      <th></th>\n",
       "      <th>Количество пользователей</th>\n",
       "      <th>Средняя выручка, руб.</th>\n",
       "      <th>Медиана выручки, руб.</th>\n",
       "      <th>Суммарная выручка, млн.</th>\n",
       "    </tr>\n",
       "    <tr>\n",
       "      <th>tariff</th>\n",
       "      <th></th>\n",
       "      <th></th>\n",
       "      <th></th>\n",
       "      <th></th>\n",
       "    </tr>\n",
       "  </thead>\n",
       "  <tbody>\n",
       "    <tr>\n",
       "      <th>smart</th>\n",
       "      <td>2229</td>\n",
       "      <td>1289.973531</td>\n",
       "      <td>1023.0</td>\n",
       "      <td>2.875351</td>\n",
       "    </tr>\n",
       "    <tr>\n",
       "      <th>ultra</th>\n",
       "      <td>985</td>\n",
       "      <td>2070.152284</td>\n",
       "      <td>1950.0</td>\n",
       "      <td>2.039100</td>\n",
       "    </tr>\n",
       "  </tbody>\n",
       "</table>\n",
       "</div>"
      ],
      "text/plain": [
       "        Количество пользователей  Средняя выручка, руб.  \\\n",
       "tariff                                                    \n",
       "smart                       2229            1289.973531   \n",
       "ultra                        985            2070.152284   \n",
       "\n",
       "        Медиана выручки, руб.  Суммарная выручка, млн.  \n",
       "tariff                                                  \n",
       "smart                  1023.0                 2.875351  \n",
       "ultra                  1950.0                 2.039100  "
      ]
     },
     "execution_count": 49,
     "metadata": {},
     "output_type": "execute_result"
    }
   ],
   "source": [
    "revenue_by_tariff_new = users_monthly_activity.pivot_table(\n",
    "    index = 'tariff' , values = 'revenue', aggfunc = ['count', 'mean', 'median', sum])\n",
    "revenue_by_tariff_new[('sum', 'revenue')] = revenue_by_tariff_new[('sum', 'revenue')]/1000000\n",
    "revenue_by_tariff_new.columns = ['Количество пользователей', 'Средняя выручка, руб.', \n",
    "                                 \"Медиана выручки, руб.\", \"Суммарная выручка, млн.\"]\n",
    "revenue_by_tariff_new"
   ]
  },
  {
   "cell_type": "code",
   "execution_count": 50,
   "metadata": {},
   "outputs": [
    {
     "data": {
      "image/png": "[encoded data removed]",
      "text/plain": [
       "<Figure size 1080x576 with 1 Axes>"
      ]
     },
     "metadata": {
      "needs_background": "light"
     },
     "output_type": "display_data"
    }
   ],
   "source": [
    "ax = users_monthly_activity.groupby(by = ['month', 'tariff']).mean()['revenue'].unstack(level=1).plot(\n",
    "    subplots = False, figsize = (15,8))\n",
    "ax.set_xlabel(\"Месяц\")\n",
    "ax.set_ylabel(\"Средняя выручка, руб.\")\n",
    "ax.set_title(\"Средняя выручка по месяцам пользователей различных тарифов\")\n",
    "None"
   ]
  },
  {
   "cell_type": "markdown",
   "metadata": {},
   "source": [
    "<a id='graph'></a>"
   ]
  },
  {
   "cell_type": "code",
   "execution_count": 51,
   "metadata": {
    "scrolled": false
   },
   "outputs": [
    {
     "data": {
      "image/png": "[encoded data removed]",
      "text/plain": [
       "<Figure size 1080x432 with 1 Axes>"
      ]
     },
     "metadata": {
      "needs_background": "light"
     },
     "output_type": "display_data"
    }
   ],
   "source": [
    "ax = users_monthly_activity.groupby(by = 'tariff')['revenue'].plot(kind = 'hist', figsize = (15,6), bins = 25, legend = True)\n",
    "ax[0].set_xlabel(\"Выручка, руб\")\n",
    "ax[0].set_ylabel(\"Количество счетов\")\n",
    "ax[0].set_title(\"Выручка от пользователей различных тарифов\")\n",
    "None"
   ]
  },
  {
   "cell_type": "code",
   "execution_count": 52,
   "metadata": {},
   "outputs": [
    {
     "name": "stdout",
     "output_type": "stream",
     "text": [
      "Количество пользователей на различных тарифах, потративших больше стоимости пакета Ультра:\n",
      " smart    417\n",
      "ultra    134\n",
      "Name: tariff, dtype: int64\n"
     ]
    }
   ],
   "source": [
    "print(\"Количество пользователей на различных тарифах, потративших больше стоимости пакета Ультра:\\n\",\n",
    "      users_monthly_activity.query('revenue > 1950')['tariff'].value_counts())\n",
    "None"
   ]
  },
  {
   "cell_type": "markdown",
   "metadata": {},
   "source": [
    "- Средняя выручка по тарифу \"Смарт\" растёт быстрее, чем по тарифу \"Ультра\";\n",
    "- Гораздо больше пользователей тарифа \"Смарт\" тратят более 1950 рублей в месяц;\n",
    "- Проверим, увеличится ли выручка, если перевести всех пользователей на тариф \"Смарт\"."
   ]
  },
  {
   "cell_type": "code",
   "execution_count": 53,
   "metadata": {
    "scrolled": true
   },
   "outputs": [],
   "source": [
    "for index, row in users_monthly_activity.iterrows():\n",
    "    revenue = tariffs.loc[0, 'rub_monthly_fee']\n",
    "    if (users_monthly_activity.loc[index, 'calls_duration'] - tariffs.loc[0, 'minutes_included']) > 0:\n",
    "        revenue = revenue + (users_monthly_activity.loc[index, 'calls_duration'] - tariffs.loc[0, 'minutes_included'])*tariffs.loc[0, 'rub_per_minute']\n",
    "    if (users_monthly_activity.loc[index, 'msg_sent'] - tariffs.loc[0, 'messages_included']) > 0:\n",
    "            revenue = revenue + (users_monthly_activity.loc[index, 'msg_sent'] - tariffs.loc[0, 'messages_included'])*tariffs.loc[0, 'rub_per_message']\n",
    "    if (users_monthly_activity.loc[index, 'gb_used'] - 15) > 0:\n",
    "            revenue = revenue + (users_monthly_activity.loc[index, 'gb_used'] - 15)*tariffs.loc[0, 'rub_per_gb']           \n",
    "    users_monthly_activity.loc[index, 'revenue_if_smart'] = revenue"
   ]
  },
  {
   "cell_type": "code",
   "execution_count": 54,
   "metadata": {},
   "outputs": [],
   "source": [
    "revenue_by_tariff_if_no_ultra = users_monthly_activity.pivot_table(\n",
    "    index = 'tariff' , values = 'revenue_if_smart', aggfunc = ['count', 'mean', 'median', sum])\n",
    "\n",
    "revenue_by_tariff_if_no_ultra[('sum', 'revenue_if_smart')] = revenue_by_tariff_if_no_ultra[('sum', 'revenue_if_smart')]/1000000\n",
    "revenue_by_tariff_if_no_ultra.columns = ['Количество пользователей', 'Средняя выручка, руб.', \n",
    "                                 \"Медиана выручки, руб.\", \"Суммарная выручка, млн.\"]"
   ]
  },
  {
   "cell_type": "code",
   "execution_count": 55,
   "metadata": {
    "scrolled": true
   },
   "outputs": [
    {
     "name": "stdout",
     "output_type": "stream",
     "text": [
      "Выручка по пользователям с двумя базовыми тарифами\n"
     ]
    },
    {
     "data": {
      "text/html": [
       "<div>\n",
       "<style scoped>\n",
       "    .dataframe tbody tr th:only-of-type {\n",
       "        vertical-align: middle;\n",
       "    }\n",
       "\n",
       "    .dataframe tbody tr th {\n",
       "        vertical-align: top;\n",
       "    }\n",
       "\n",
       "    .dataframe thead th {\n",
       "        text-align: right;\n",
       "    }\n",
       "</style>\n",
       "<table border=\"1\" class=\"dataframe\">\n",
       "  <thead>\n",
       "    <tr style=\"text-align: right;\">\n",
       "      <th></th>\n",
       "      <th>Количество пользователей</th>\n",
       "      <th>Средняя выручка, руб.</th>\n",
       "      <th>Медиана выручки, руб.</th>\n",
       "      <th>Суммарная выручка, млн.</th>\n",
       "    </tr>\n",
       "    <tr>\n",
       "      <th>tariff</th>\n",
       "      <th></th>\n",
       "      <th></th>\n",
       "      <th></th>\n",
       "      <th></th>\n",
       "    </tr>\n",
       "  </thead>\n",
       "  <tbody>\n",
       "    <tr>\n",
       "      <th>smart</th>\n",
       "      <td>2229</td>\n",
       "      <td>1289.973531</td>\n",
       "      <td>1023.0</td>\n",
       "      <td>2.875351</td>\n",
       "    </tr>\n",
       "    <tr>\n",
       "      <th>ultra</th>\n",
       "      <td>985</td>\n",
       "      <td>2070.152284</td>\n",
       "      <td>1950.0</td>\n",
       "      <td>2.039100</td>\n",
       "    </tr>\n",
       "  </tbody>\n",
       "</table>\n",
       "</div>"
      ],
      "text/plain": [
       "        Количество пользователей  Средняя выручка, руб.  \\\n",
       "tariff                                                    \n",
       "smart                       2229            1289.973531   \n",
       "ultra                        985            2070.152284   \n",
       "\n",
       "        Медиана выручки, руб.  Суммарная выручка, млн.  \n",
       "tariff                                                  \n",
       "smart                  1023.0                 2.875351  \n",
       "ultra                  1950.0                 2.039100  "
      ]
     },
     "metadata": {},
     "output_type": "display_data"
    },
    {
     "name": "stdout",
     "output_type": "stream",
     "text": [
      "\n",
      "\n",
      "Выручка по пользователям с одним базовым тарифом\n"
     ]
    },
    {
     "data": {
      "text/html": [
       "<div>\n",
       "<style scoped>\n",
       "    .dataframe tbody tr th:only-of-type {\n",
       "        vertical-align: middle;\n",
       "    }\n",
       "\n",
       "    .dataframe tbody tr th {\n",
       "        vertical-align: top;\n",
       "    }\n",
       "\n",
       "    .dataframe thead th {\n",
       "        text-align: right;\n",
       "    }\n",
       "</style>\n",
       "<table border=\"1\" class=\"dataframe\">\n",
       "  <thead>\n",
       "    <tr style=\"text-align: right;\">\n",
       "      <th></th>\n",
       "      <th>Количество пользователей</th>\n",
       "      <th>Средняя выручка, руб.</th>\n",
       "      <th>Медиана выручки, руб.</th>\n",
       "      <th>Суммарная выручка, млн.</th>\n",
       "    </tr>\n",
       "    <tr>\n",
       "      <th>tariff</th>\n",
       "      <th></th>\n",
       "      <th></th>\n",
       "      <th></th>\n",
       "      <th></th>\n",
       "    </tr>\n",
       "  </thead>\n",
       "  <tbody>\n",
       "    <tr>\n",
       "      <th>smart</th>\n",
       "      <td>2229</td>\n",
       "      <td>1289.973531</td>\n",
       "      <td>1023.0</td>\n",
       "      <td>2.875351</td>\n",
       "    </tr>\n",
       "    <tr>\n",
       "      <th>ultra</th>\n",
       "      <td>985</td>\n",
       "      <td>2354.079188</td>\n",
       "      <td>1950.0</td>\n",
       "      <td>2.318768</td>\n",
       "    </tr>\n",
       "  </tbody>\n",
       "</table>\n",
       "</div>"
      ],
      "text/plain": [
       "        Количество пользователей  Средняя выручка, руб.  \\\n",
       "tariff                                                    \n",
       "smart                       2229            1289.973531   \n",
       "ultra                        985            2354.079188   \n",
       "\n",
       "        Медиана выручки, руб.  Суммарная выручка, млн.  \n",
       "tariff                                                  \n",
       "smart                  1023.0                 2.875351  \n",
       "ultra                  1950.0                 2.318768  "
      ]
     },
     "metadata": {},
     "output_type": "display_data"
    }
   ],
   "source": [
    "print('Выручка по пользователям с двумя базовыми тарифами')\n",
    "display(revenue_by_tariff_new) \n",
    "print('\\n\\nВыручка по пользователям с одним базовым тарифом')\n",
    "display(revenue_by_tariff_if_no_ultra)"
   ]
  },
  {
   "cell_type": "code",
   "execution_count": 56,
   "metadata": {},
   "outputs": [
    {
     "name": "stdout",
     "output_type": "stream",
     "text": [
      "Процент пользователей, использующих более 15Гб в месяц:\n"
     ]
    },
    {
     "data": {
      "text/plain": [
       "'60.3%'"
      ]
     },
     "execution_count": 56,
     "metadata": {},
     "output_type": "execute_result"
    }
   ],
   "source": [
    "print('Процент пользователей, использующих более 15Гб в месяц:')\n",
    "f\"{[users_monthly_activity.query('gb_used > 15').count() / users_monthly_activity.count()][0][1]:.1%}\""
   ]
  },
  {
   "cell_type": "code",
   "execution_count": 57,
   "metadata": {},
   "outputs": [
    {
     "name": "stdout",
     "output_type": "stream",
     "text": [
      "Процент пользователей, использующих более 30Гб в месяц:\n"
     ]
    },
    {
     "data": {
      "text/plain": [
       "'4.7%'"
      ]
     },
     "execution_count": 57,
     "metadata": {},
     "output_type": "execute_result"
    }
   ],
   "source": [
    "print('Процент пользователей, использующих более 30Гб в месяц:')\n",
    "f\"{[users_monthly_activity.query('gb_used > 30').count() / users_monthly_activity.count()][0][1]:.1%}\""
   ]
  },
  {
   "cell_type": "markdown",
   "metadata": {},
   "source": [
    "Кратко: \n",
    "1) Пользователи тарифа ультра потребляют всех видов услуг больше, чем пользователи тарифа смарт.\n",
    "    \n",
    "    \n",
    "2) При этом стоит отметить, что цена между тарифами различается в 3.5 раза, при этом среднее потребление услуг выше всего на 20-30%\n",
    "    \n",
    "    \n",
    "3) Оценка дисперсии и стандартное отклонение параметров на тарифе ультра значительно больше, чем на тарифе смарт. Это означает, что разброс потребления услуг между пользователями тарифа ультра значительно сильнее, чем у тарифа смарт. Т.е. если у пользователей тарифа смарт ярко выраженный пик потребления на 16 Гб траффика в месяц, что хорошо согласуется со средним значением, то у пользователей тарифа ультра пик менее выражен, разброс по использованию трафика гораздо шире.\n",
    "    \n",
    "    \n",
    "    \n",
    "4) На тарифе смарт более 50% пользователей докупают интернет свыше лимита 15Гб, при этом на тарифе ультра около 80% пользователей укладываются в тарифный лимит 30ГБ.\n",
    "    \n",
    "    \n",
    "5) БольшАя часть пользователей не пользуется отправкой сообщений. На тарифе смарт в лимит сообщений укладываются 75% пользователей, на тарифе ультра никто не использует полностью включенный пакет в 1000 сообщений (максимальное значение - 224 смс в месяц).\n",
    "    \n",
    "    \n",
    "6) Почти та же ситуация со звонками. Около 60% пользователей тарифа смарт укладываются в лимит звонков, но никто из пользователей тарифа ультра не использует полностью включенный пакет в 3000 минут (максимальное значение - 1673)\n",
    "    \n",
    "    \n",
    "7) Из-за большого искажения нормальности выборки по количеству использованных СМС - пик около нуля - стандартное отклонение очень велико. Особенно хорошо это видно на пользователях тарифа ультра, где стандартное отклонение практически равно среднему. \n",
    "    \n",
    "    \n",
    "8) Стоит так же отметить, что на распределении количества звонков в месяц правая часть нормального распределения спадает значительно быстрее, чем, например, на распределении количества использованного трафика. Это может говорит о том, что пользователи тарифа смарт не хотят переплачивать за звонки и снижают потребления данной услуги при превышении лимита. Но при этом они с гораздо большим желанием переплачивают за интернет. \n"
   ]
  },
  {
   "cell_type": "markdown",
   "metadata": {},
   "source": [
    "### Подытог\n",
    "- Из анализа выручки можно сделать вывод, что большинство клиентов выбирают тариф смарт. \n",
    "- Средняя выручка с пользователя на тарифе ультра выше, чем на смарт на 780 рублей, но при этом самих пользователей тарифа лишь 30% от общего числа.\n",
    "- Стоит так же отметить, что пользователи тарифа \"смарт\" платили более 1950 рублей в месяц 417 раз, при этом пользователи тарифа ультра платили свыше абоненсткой платы лишь 147 раз (почти в три раза реже).\n",
    "- Так же заметим, что если пересчитать потребление услуг пользователей тарифа \"ультра\" по тарифной сетке \"смарт\", то общая выручка увеличится на 280 тысяч рублей или на 5.7% от общей выручки.\n",
    "    \n",
    "<b>Учитывая все вышеперечисленное, более перспективным является тариф \"Smart\", поскольку в 60% случаев пользователи используют интернет-трафик свыше 15 Гб в месяц, но лишь в 4.7% случаев они потребляют выше 30 Гб в месяц. <b>\n"
   ]
  },
  {
   "cell_type": "markdown",
   "metadata": {},
   "source": [
    "## Проверка гипотез"
   ]
  },
  {
   "cell_type": "markdown",
   "metadata": {},
   "source": [
    "1) Средняя выручка пользователей тарифов «Ультра» и «Смарт» различаются;\n",
    "\n",
    "2) Средняя выручка пользователей из Москвы отличается от выручки пользователей из других регионов.\n",
    "\n",
    "Пороговое значение alpha задайте самостоятельно.\n",
    " \n",
    "Пояснить:\n",
    " - как вы формулировали нулевую и альтернативную гипотезы;\n",
    " - какой критерий использовали для проверки гипотез и почему."
   ]
  },
  {
   "cell_type": "markdown",
   "metadata": {},
   "source": [
    "### Гипотеза 1\n",
    "    Проверим, что средняя выручка пользователей тарифов различаются.\n",
    "    \n",
    "- Нулевой гипотезой будет, что средняя выручка пользователей разных тарифов не различаются;\n",
    "- Альтернативная гипотеза - средняя выручка пользователей по тарифам различается;\n",
    "- У нас два независимых распределения, которые являются подвыборками (не полной совокупностью всех пользователей компании);\n",
    "- Ранее мы уже проверяли, что их дисперсия различается."
   ]
  },
  {
   "cell_type": "code",
   "execution_count": 58,
   "metadata": {},
   "outputs": [
    {
     "name": "stdout",
     "output_type": "stream",
     "text": [
      "P-value: 4.2606313931076085e-250\n",
      "Отвергаем нулевую гипотезу\n"
     ]
    }
   ],
   "source": [
    "alpha = 0.01\n",
    "results = st.ttest_ind(users_monthly_activity.query('tariff == \"smart\"')['revenue'], \n",
    "                       users_monthly_activity.query('tariff == \"ultra\"')['revenue'],\n",
    "                       equal_var = False)\n",
    "print('P-value:', results.pvalue)\n",
    "\n",
    "if (results.pvalue < alpha):\n",
    "    print(\"Отвергаем нулевую гипотезу\")\n",
    "else:\n",
    "    print(\"Не получилось отвергнуть нулевую гипотезу\")"
   ]
  },
  {
   "cell_type": "markdown",
   "metadata": {},
   "source": [
    "### Гипотеза 2"
   ]
  },
  {
   "cell_type": "code",
   "execution_count": 59,
   "metadata": {},
   "outputs": [
    {
     "name": "stdout",
     "output_type": "stream",
     "text": [
      "Выручка пользователей из Москвы: \n",
      " count     611.000000\n",
      "mean     1546.713584\n",
      "std       752.088071\n",
      "min       550.000000\n",
      "25%       780.500000\n",
      "50%      1750.000000\n",
      "75%      1950.000000\n",
      "max      5321.000000\n",
      "Name: revenue, dtype: float64\n",
      "\n",
      "Выручка пользователей не из Москвы: \n",
      " count    2603.000000\n",
      "mean     1524.936227\n",
      "std       808.787752\n",
      "min       550.000000\n",
      "25%       750.000000\n",
      "50%      1583.000000\n",
      "75%      1950.000000\n",
      "max      6770.000000\n",
      "Name: revenue, dtype: float64\n"
     ]
    }
   ],
   "source": [
    "print('Выручка пользователей из Москвы: \\n',users_monthly_activity.query('city == \"Москва\"')['revenue'].describe())\n",
    "print('\\nВыручка пользователей не из Москвы: \\n',users_monthly_activity.query('city != \"Москва\"')['revenue'].describe())"
   ]
  },
  {
   "cell_type": "markdown",
   "metadata": {},
   "source": [
    "    Проверим гипотезу, что средняя выручка абонентов из Москвы и других регионов тарифов различаются.\n",
    "    \n",
    "- Нулевой гипотезой будет, что средняя выручка не различаются;\n",
    "- Альтернативная гипотеза - средняя выручка пользователей различается;\n",
    "- У нас два независимых распределения, которые являются подвыборками (не полной совокупностью всех пользователей компании);\n",
    "- Их дисперсия различается."
   ]
  },
  {
   "cell_type": "code",
   "execution_count": 60,
   "metadata": {},
   "outputs": [
    {
     "name": "stdout",
     "output_type": "stream",
     "text": [
      "P-value: 0.5257376663729298\n",
      "Не получилось отвергнуть нулевую гипотезу\n"
     ]
    }
   ],
   "source": [
    "\n",
    "alpha = 0.01 \n",
    "\n",
    "results = st.ttest_ind(users_monthly_activity.query('city == \"Москва\"')['revenue'], \n",
    "                       users_monthly_activity.query('city != \"Москва\"')['revenue'],\n",
    "                       equal_var = False)\n",
    "print('P-value:', results.pvalue)\n",
    "\n",
    "if (results.pvalue < alpha):\n",
    "    print(\"Отвергаем нулевую гипотезу\")\n",
    "else:\n",
    "    print(\"Не получилось отвергнуть нулевую гипотезу\")"
   ]
  },
  {
   "cell_type": "markdown",
   "metadata": {},
   "source": [
    "### Дополнительный анализ\n",
    "- Проверим, какую долю выручки приносит каждый из тарифов;\n",
    "- Проверим, долю пользователей тарифов по месяцам в течении года;\n",
    "- Проверим, какой процент пользователей докупает дополнительные услуги к тарифу."
   ]
  },
  {
   "cell_type": "code",
   "execution_count": 61,
   "metadata": {},
   "outputs": [
    {
     "data": {
      "text/html": [
       "<div>\n",
       "<style scoped>\n",
       "    .dataframe tbody tr th:only-of-type {\n",
       "        vertical-align: middle;\n",
       "    }\n",
       "\n",
       "    .dataframe tbody tr th {\n",
       "        vertical-align: top;\n",
       "    }\n",
       "\n",
       "    .dataframe thead th {\n",
       "        text-align: right;\n",
       "    }\n",
       "</style>\n",
       "<table border=\"1\" class=\"dataframe\">\n",
       "  <thead>\n",
       "    <tr style=\"text-align: right;\">\n",
       "      <th></th>\n",
       "      <th>Выручка, руб.</th>\n",
       "      <th>Доля от общего</th>\n",
       "    </tr>\n",
       "    <tr>\n",
       "      <th>tariff</th>\n",
       "      <th></th>\n",
       "      <th></th>\n",
       "    </tr>\n",
       "  </thead>\n",
       "  <tbody>\n",
       "    <tr>\n",
       "      <th>smart</th>\n",
       "      <td>2875351.0</td>\n",
       "      <td>0.585081</td>\n",
       "    </tr>\n",
       "    <tr>\n",
       "      <th>ultra</th>\n",
       "      <td>2039100.0</td>\n",
       "      <td>0.414919</td>\n",
       "    </tr>\n",
       "  </tbody>\n",
       "</table>\n",
       "</div>"
      ],
      "text/plain": [
       "        Выручка, руб.  Доля от общего\n",
       "tariff                               \n",
       "smart       2875351.0        0.585081\n",
       "ultra       2039100.0        0.414919"
      ]
     },
     "metadata": {},
     "output_type": "display_data"
    },
    {
     "data": {
      "text/html": [
       "<div>\n",
       "<style scoped>\n",
       "    .dataframe tbody tr th:only-of-type {\n",
       "        vertical-align: middle;\n",
       "    }\n",
       "\n",
       "    .dataframe tbody tr th {\n",
       "        vertical-align: top;\n",
       "    }\n",
       "\n",
       "    .dataframe thead th {\n",
       "        text-align: right;\n",
       "    }\n",
       "</style>\n",
       "<table border=\"1\" class=\"dataframe\">\n",
       "  <thead>\n",
       "    <tr style=\"text-align: right;\">\n",
       "      <th></th>\n",
       "      <th>Количество пользователей</th>\n",
       "      <th>Доля от общего</th>\n",
       "    </tr>\n",
       "    <tr>\n",
       "      <th>tariff</th>\n",
       "      <th></th>\n",
       "      <th></th>\n",
       "    </tr>\n",
       "  </thead>\n",
       "  <tbody>\n",
       "    <tr>\n",
       "      <th>smart</th>\n",
       "      <td>2229</td>\n",
       "      <td>0.693528</td>\n",
       "    </tr>\n",
       "    <tr>\n",
       "      <th>ultra</th>\n",
       "      <td>985</td>\n",
       "      <td>0.306472</td>\n",
       "    </tr>\n",
       "  </tbody>\n",
       "</table>\n",
       "</div>"
      ],
      "text/plain": [
       "        Количество пользователей  Доля от общего\n",
       "tariff                                          \n",
       "smart                       2229        0.693528\n",
       "ultra                        985        0.306472"
      ]
     },
     "execution_count": 61,
     "metadata": {},
     "output_type": "execute_result"
    }
   ],
   "source": [
    "mean_revenue_by_tariff = users_monthly_activity.pivot_table(\n",
    "    index = 'tariff', values = 'revenue', aggfunc = 'sum')\n",
    "mean_revenue_by_tariff['percent_to_total'] = mean_revenue_by_tariff['revenue']/mean_revenue_by_tariff.sum()['revenue']\n",
    "mean_revenue_by_tariff.columns = ['Выручка, руб.', 'Доля от общего']\n",
    "display(mean_revenue_by_tariff)\n",
    "user_count_by_tariff = users_monthly_activity.pivot_table(\n",
    "    index = 'tariff', values = 'user_id', aggfunc = 'count')\n",
    "user_count_by_tariff['percent_to_total'] = user_count_by_tariff['user_id']/user_count_by_tariff.sum()['user_id']\n",
    "user_count_by_tariff.columns = ['Количество пользователей', 'Доля от общего']\n",
    "user_count_by_tariff"
   ]
  },
  {
   "cell_type": "code",
   "execution_count": 62,
   "metadata": {
    "scrolled": true
   },
   "outputs": [
    {
     "name": "stdout",
     "output_type": "stream",
     "text": [
      "Докупают услуги на тарифе смарт 74.56258411843876 %\n",
      "Докупают услуги на тарифе ультра 13.604060913705585 %\n"
     ]
    }
   ],
   "source": [
    "#посчитаем, какой процент пользователей тарифов доплачивает за услуги сверх плана\n",
    "print(\"Докупают услуги на тарифе смарт\", users_monthly_activity.query('tariff == \"smart\" and revenue > 550').count()['user_id']/user_count_by_tariff.loc['smart','Количество пользователей']*100, '%')\n",
    "print('Докупают услуги на тарифе ультра', users_monthly_activity.query('tariff == \"ultra\" and revenue > 1950').count()['user_id']/user_count_by_tariff.loc['ultra','Количество пользователей']*100, '%')"
   ]
  },
  {
   "cell_type": "markdown",
   "metadata": {},
   "source": [
    "## Общий вывод"
   ]
  },
  {
   "cell_type": "markdown",
   "metadata": {},
   "source": [
    "Вывод:\n",
    "======\n",
    "\n",
    "1. 30% абонентов подключают тариф 'Ультра' и приносят 41.5% от общей выручки. При этом лишь 13.6% из них используют платные опции сверх включенного пакета. В их случае это всегда дополнительные траты на интернет. При этом никто из пользователей тарифа полностью не потребляет пакет сообщений и звонков.\n",
    "    \n",
    "2. 70% абонентов подключают тариф \"Смарт\" и приносят 58.5% прибыли. При этом 74.6% из них докупают дополнительные услуги. 75% абонентов тарифа укладываются в лимит сообшений, в лимит звонков укладываются порядка 60% и лишь 40% (примерно) укладываются в лимит по интернет-трафику.\n",
    "    \n",
    "3. Дисперсии параметров тарифа ультра выше, чем у тарифа смарт, что говорит о большей разнице в привычках между абонентами-пользователями пакетов ультра, чем в пакете смарт.\n",
    "    \n",
    "4. Среднее потребление услуг по категориям выше у тарифа \"ультра\" на 20-30%, при этом цена на этот тариф выше в 3.5 раза.\n",
    "\n",
    "5. Статистически однозначно, что средняя выручка с пользователей по тарифам отличается. Исходя из полученных данных, средняя выручка от пользователей тарифа \"ультра\" всегда выше.\n",
    "    \n",
    "6. Опровергнуть гипотезу, что средняя выручка на абонента в Москве отличается от других городов не получилось.\n",
    "    \n",
    "7. Чаще всего пользователи докупают доступ в интернет, реже звонки и очень редко смс-сообщения.\n",
    "    \n",
    "8. Расчеты показывают, что при пересчете потребления услуг пользователей с тарифом \"ультра\" по трафиной сетке \"смарт\" общая выручка от абонентов по году увеличится на 4.7%\n",
    "    \n",
    "9. Несморя на более низкую абоненскую плату, более чем в 60% случаев пользователи потребляют более 15 Гб интернета, но лишь в 4.7% случаев потребляют более 30Гб интернета. Таким образом, заложенные 30 Гб интернета в тариф ультра при пересчете на тариф \"смарт\" являются дополнительными (30 - 15) * 200 = 3000 рублей в месяц, которые могли бы доплатить пользователи.\n",
    "    \n",
    "10. Исходя из вышеперечисленного, более перспективным для компании «Мегалайн» является более массовый тариф \"Смарт\". \n"
   ]
  }
 ],
 "metadata": {
  "ExecuteTimeLog": [
   {
    "duration": 1400,
    "start_time": "2022-04-24T09:11:44.014Z"
   },
   {
    "duration": 172,
    "start_time": "2022-04-24T09:43:11.893Z"
   },
   {
    "duration": 171,
    "start_time": "2022-04-24T09:43:32.078Z"
   },
   {
    "duration": 171,
    "start_time": "2022-04-24T09:43:50.710Z"
   },
   {
    "duration": 463,
    "start_time": "2022-04-24T09:48:41.031Z"
   },
   {
    "duration": 184,
    "start_time": "2022-04-24T09:49:15.637Z"
   },
   {
    "duration": 166,
    "start_time": "2022-04-24T09:49:17.331Z"
   },
   {
    "duration": 107,
    "start_time": "2022-04-24T09:49:19.095Z"
   },
   {
    "duration": 20,
    "start_time": "2022-04-24T09:49:20.704Z"
   },
   {
    "duration": 40,
    "start_time": "2022-04-24T09:49:22.522Z"
   },
   {
    "duration": 132,
    "start_time": "2022-04-24T09:55:52.945Z"
   },
   {
    "duration": 60,
    "start_time": "2022-04-24T09:56:15.389Z"
   },
   {
    "duration": 91,
    "start_time": "2022-04-24T09:57:27.172Z"
   },
   {
    "duration": 70,
    "start_time": "2022-04-24T10:04:55.038Z"
   },
   {
    "duration": 66,
    "start_time": "2022-04-24T10:05:06.516Z"
   },
   {
    "duration": 62,
    "start_time": "2022-04-24T10:05:39.672Z"
   },
   {
    "duration": 55,
    "start_time": "2022-04-24T10:06:14.263Z"
   },
   {
    "duration": 66,
    "start_time": "2022-04-24T10:06:43.423Z"
   },
   {
    "duration": 63,
    "start_time": "2022-04-24T10:06:49.470Z"
   },
   {
    "duration": 67,
    "start_time": "2022-04-24T10:07:00.607Z"
   },
   {
    "duration": 73,
    "start_time": "2022-04-24T10:07:20.737Z"
   },
   {
    "duration": 59,
    "start_time": "2022-04-24T10:07:51.185Z"
   },
   {
    "duration": 117,
    "start_time": "2022-04-24T10:10:48.111Z"
   },
   {
    "duration": 195,
    "start_time": "2022-04-24T10:12:18.161Z"
   },
   {
    "duration": 108,
    "start_time": "2022-04-24T10:12:24.273Z"
   },
   {
    "duration": 201,
    "start_time": "2022-04-24T10:12:49.240Z"
   },
   {
    "duration": 477,
    "start_time": "2022-04-24T10:15:28.519Z"
   },
   {
    "duration": 472,
    "start_time": "2022-04-24T10:15:50.359Z"
   },
   {
    "duration": 494,
    "start_time": "2022-04-24T10:16:13.719Z"
   },
   {
    "duration": 118,
    "start_time": "2022-04-24T10:16:41.932Z"
   },
   {
    "duration": 204,
    "start_time": "2022-04-24T10:17:28.363Z"
   },
   {
    "duration": 389,
    "start_time": "2022-04-24T10:17:38.304Z"
   },
   {
    "duration": 318,
    "start_time": "2022-04-24T10:18:35.885Z"
   },
   {
    "duration": 412,
    "start_time": "2022-04-24T10:19:22.326Z"
   },
   {
    "duration": 567,
    "start_time": "2022-04-24T10:19:54.701Z"
   },
   {
    "duration": 31,
    "start_time": "2022-04-24T10:24:36.006Z"
   },
   {
    "duration": 27,
    "start_time": "2022-04-24T10:24:40.402Z"
   },
   {
    "duration": 48,
    "start_time": "2022-04-24T10:24:50.709Z"
   },
   {
    "duration": 417,
    "start_time": "2022-04-24T10:25:02.198Z"
   },
   {
    "duration": 8,
    "start_time": "2022-04-24T10:25:26.624Z"
   },
   {
    "duration": 10,
    "start_time": "2022-04-24T10:52:48.647Z"
   },
   {
    "duration": 9,
    "start_time": "2022-04-24T10:53:11.701Z"
   },
   {
    "duration": 10,
    "start_time": "2022-04-24T10:53:13.859Z"
   },
   {
    "duration": 10,
    "start_time": "2022-04-24T16:11:00.601Z"
   },
   {
    "duration": 9,
    "start_time": "2022-04-24T16:11:15.812Z"
   },
   {
    "duration": 186,
    "start_time": "2022-04-24T16:11:35.451Z"
   },
   {
    "duration": 321,
    "start_time": "2022-04-24T16:12:19.843Z"
   },
   {
    "duration": 219,
    "start_time": "2022-04-24T16:12:41.748Z"
   },
   {
    "duration": 122,
    "start_time": "2022-04-24T16:12:51.656Z"
   },
   {
    "duration": 139,
    "start_time": "2022-04-24T16:12:55.542Z"
   },
   {
    "duration": 419,
    "start_time": "2022-04-24T16:21:07.742Z"
   },
   {
    "duration": 134,
    "start_time": "2022-04-24T16:23:18.345Z"
   },
   {
    "duration": 221,
    "start_time": "2022-04-24T16:27:42.275Z"
   },
   {
    "duration": 296,
    "start_time": "2022-04-24T16:27:50.820Z"
   },
   {
    "duration": 611,
    "start_time": "2022-04-24T16:30:50.462Z"
   },
   {
    "duration": 426,
    "start_time": "2022-04-24T16:32:52.536Z"
   },
   {
    "duration": 475,
    "start_time": "2022-04-24T16:33:17.111Z"
   },
   {
    "duration": 452,
    "start_time": "2022-04-24T16:33:56.165Z"
   },
   {
    "duration": 183,
    "start_time": "2022-04-24T16:35:04.402Z"
   },
   {
    "duration": 137,
    "start_time": "2022-04-24T16:35:47.383Z"
   },
   {
    "duration": 6543,
    "start_time": "2022-04-24T16:40:06.767Z"
   },
   {
    "duration": 380,
    "start_time": "2022-04-24T16:40:20.800Z"
   },
   {
    "duration": 313,
    "start_time": "2022-04-24T16:40:35.027Z"
   },
   {
    "duration": 190,
    "start_time": "2022-04-24T16:40:50.612Z"
   },
   {
    "duration": 210,
    "start_time": "2022-04-24T16:42:57.591Z"
   },
   {
    "duration": 174,
    "start_time": "2022-04-24T16:43:14.937Z"
   },
   {
    "duration": 195,
    "start_time": "2022-04-24T16:44:29.893Z"
   },
   {
    "duration": 202,
    "start_time": "2022-04-24T16:46:00.107Z"
   },
   {
    "duration": 32,
    "start_time": "2022-04-24T16:46:04.075Z"
   },
   {
    "duration": 261,
    "start_time": "2022-04-24T16:46:08.183Z"
   },
   {
    "duration": 182,
    "start_time": "2022-04-24T16:46:35.575Z"
   },
   {
    "duration": 268,
    "start_time": "2022-04-24T16:46:45.664Z"
   },
   {
    "duration": 347,
    "start_time": "2022-04-24T16:46:52.076Z"
   },
   {
    "duration": 267,
    "start_time": "2022-04-24T16:47:11.515Z"
   },
   {
    "duration": 223,
    "start_time": "2022-04-24T16:47:17.227Z"
   },
   {
    "duration": 20,
    "start_time": "2022-04-24T16:47:44.520Z"
   },
   {
    "duration": 312,
    "start_time": "2022-04-24T16:48:00.386Z"
   },
   {
    "duration": 27,
    "start_time": "2022-04-24T16:48:18.991Z"
   },
   {
    "duration": 274,
    "start_time": "2022-04-24T16:48:26.284Z"
   },
   {
    "duration": 181,
    "start_time": "2022-04-24T16:48:36.376Z"
   },
   {
    "duration": 14335,
    "start_time": "2022-04-24T17:09:06.426Z"
   },
   {
    "duration": 29,
    "start_time": "2022-04-24T17:10:06.213Z"
   },
   {
    "duration": 19,
    "start_time": "2022-04-24T17:10:11.126Z"
   },
   {
    "duration": 21,
    "start_time": "2022-04-24T17:10:18.323Z"
   },
   {
    "duration": 5,
    "start_time": "2022-04-24T17:11:46.596Z"
   },
   {
    "duration": 4,
    "start_time": "2022-04-24T17:11:53.040Z"
   },
   {
    "duration": 4,
    "start_time": "2022-04-24T17:11:59.884Z"
   },
   {
    "duration": 31,
    "start_time": "2022-04-24T17:13:36.864Z"
   },
   {
    "duration": 28,
    "start_time": "2022-04-24T17:15:42.964Z"
   },
   {
    "duration": 27,
    "start_time": "2022-04-24T17:22:04.808Z"
   },
   {
    "duration": 27,
    "start_time": "2022-04-24T17:24:19.111Z"
   },
   {
    "duration": 30,
    "start_time": "2022-04-24T17:24:39.345Z"
   },
   {
    "duration": 27,
    "start_time": "2022-04-24T17:27:04.385Z"
   },
   {
    "duration": 30,
    "start_time": "2022-04-24T17:28:49.845Z"
   },
   {
    "duration": 3230,
    "start_time": "2022-04-24T17:30:04.598Z"
   },
   {
    "duration": 17,
    "start_time": "2022-04-24T17:30:14.647Z"
   },
   {
    "duration": 3483,
    "start_time": "2022-04-24T17:30:38.070Z"
   },
   {
    "duration": 5336,
    "start_time": "2022-04-24T17:30:57.756Z"
   },
   {
    "duration": 4,
    "start_time": "2022-04-24T17:36:44.072Z"
   },
   {
    "duration": 11,
    "start_time": "2022-04-24T17:48:26.062Z"
   },
   {
    "duration": 45,
    "start_time": "2022-04-24T18:03:45.666Z"
   },
   {
    "duration": 215,
    "start_time": "2022-04-24T18:03:58.160Z"
   },
   {
    "duration": 1851,
    "start_time": "2022-04-24T18:14:37.162Z"
   },
   {
    "duration": 1843,
    "start_time": "2022-04-24T18:14:58.502Z"
   },
   {
    "duration": 43,
    "start_time": "2022-04-24T18:15:11.974Z"
   },
   {
    "duration": 37,
    "start_time": "2022-04-24T18:15:51.938Z"
   },
   {
    "duration": 8,
    "start_time": "2022-04-24T18:18:04.034Z"
   },
   {
    "duration": 44,
    "start_time": "2022-04-24T18:18:24.969Z"
   },
   {
    "duration": 24,
    "start_time": "2022-04-24T18:18:29.387Z"
   },
   {
    "duration": 16,
    "start_time": "2022-04-24T18:18:43.897Z"
   },
   {
    "duration": 235,
    "start_time": "2022-04-24T18:23:08.322Z"
   },
   {
    "duration": 179,
    "start_time": "2022-04-24T18:29:25.532Z"
   },
   {
    "duration": 17,
    "start_time": "2022-04-24T18:30:15.762Z"
   },
   {
    "duration": 3,
    "start_time": "2022-04-24T18:32:29.769Z"
   },
   {
    "duration": 6,
    "start_time": "2022-04-24T18:41:10.642Z"
   },
   {
    "duration": 11,
    "start_time": "2022-04-24T18:41:27.185Z"
   },
   {
    "duration": 11,
    "start_time": "2022-04-24T18:41:33.178Z"
   },
   {
    "duration": 8,
    "start_time": "2022-04-24T18:41:38.635Z"
   },
   {
    "duration": 10,
    "start_time": "2022-04-24T18:41:48.072Z"
   },
   {
    "duration": 16,
    "start_time": "2022-04-24T18:42:34.699Z"
   },
   {
    "duration": 14,
    "start_time": "2022-04-24T18:44:00.566Z"
   },
   {
    "duration": 10,
    "start_time": "2022-04-24T18:44:10.526Z"
   },
   {
    "duration": 9,
    "start_time": "2022-04-24T18:44:16.772Z"
   },
   {
    "duration": 6,
    "start_time": "2022-04-24T18:45:04.492Z"
   },
   {
    "duration": 5,
    "start_time": "2022-04-24T18:45:22.429Z"
   },
   {
    "duration": 41,
    "start_time": "2022-04-24T18:54:00.122Z"
   },
   {
    "duration": 16,
    "start_time": "2022-04-24T18:54:44.340Z"
   },
   {
    "duration": 518,
    "start_time": "2022-04-24T18:55:44.690Z"
   },
   {
    "duration": 168,
    "start_time": "2022-04-24T18:56:47.378Z"
   },
   {
    "duration": 271,
    "start_time": "2022-04-24T18:57:37.335Z"
   },
   {
    "duration": 299,
    "start_time": "2022-04-24T18:58:14.128Z"
   },
   {
    "duration": 335,
    "start_time": "2022-04-24T18:59:43.816Z"
   },
   {
    "duration": 116,
    "start_time": "2022-04-24T19:00:33.072Z"
   },
   {
    "duration": 168,
    "start_time": "2022-04-24T19:01:00.348Z"
   },
   {
    "duration": 173,
    "start_time": "2022-04-24T19:01:18.979Z"
   },
   {
    "duration": 340,
    "start_time": "2022-04-24T19:02:32.142Z"
   },
   {
    "duration": 964,
    "start_time": "2022-04-24T19:04:03.988Z"
   },
   {
    "duration": 1269,
    "start_time": "2022-04-24T19:04:40.448Z"
   },
   {
    "duration": 4,
    "start_time": "2022-04-24T19:07:01.107Z"
   },
   {
    "duration": 657,
    "start_time": "2022-04-24T19:07:12.170Z"
   },
   {
    "duration": 826,
    "start_time": "2022-04-24T19:09:21.849Z"
   },
   {
    "duration": 931,
    "start_time": "2022-04-24T19:10:01.127Z"
   },
   {
    "duration": 251,
    "start_time": "2022-04-24T19:10:16.722Z"
   },
   {
    "duration": 896,
    "start_time": "2022-04-24T19:10:23.855Z"
   },
   {
    "duration": 1184,
    "start_time": "2022-04-24T19:11:06.767Z"
   },
   {
    "duration": 252,
    "start_time": "2022-04-24T19:11:07.956Z"
   },
   {
    "duration": 211,
    "start_time": "2022-04-24T19:11:08.209Z"
   },
   {
    "duration": 142,
    "start_time": "2022-04-24T19:11:08.423Z"
   },
   {
    "duration": 27,
    "start_time": "2022-04-24T19:11:08.567Z"
   },
   {
    "duration": 33,
    "start_time": "2022-04-24T19:11:08.596Z"
   },
   {
    "duration": 230,
    "start_time": "2022-04-24T19:11:08.631Z"
   },
   {
    "duration": 334,
    "start_time": "2022-04-24T19:11:08.862Z"
   },
   {
    "duration": 138,
    "start_time": "2022-04-24T19:11:09.197Z"
   },
   {
    "duration": 339,
    "start_time": "2022-04-24T19:11:09.336Z"
   },
   {
    "duration": 169,
    "start_time": "2022-04-24T19:11:09.676Z"
   },
   {
    "duration": 186,
    "start_time": "2022-04-24T19:11:09.846Z"
   },
   {
    "duration": 35,
    "start_time": "2022-04-24T19:11:10.034Z"
   },
   {
    "duration": 44,
    "start_time": "2022-04-24T19:11:10.072Z"
   },
   {
    "duration": 52,
    "start_time": "2022-04-24T19:11:10.119Z"
   },
   {
    "duration": 4432,
    "start_time": "2022-04-24T19:11:10.173Z"
   },
   {
    "duration": 5,
    "start_time": "2022-04-24T19:11:14.607Z"
   },
   {
    "duration": 12,
    "start_time": "2022-04-24T19:11:14.614Z"
   },
   {
    "duration": 39,
    "start_time": "2022-04-24T19:11:14.649Z"
   },
   {
    "duration": 42,
    "start_time": "2022-04-24T19:11:14.689Z"
   },
   {
    "duration": 21,
    "start_time": "2022-04-24T19:11:14.733Z"
   },
   {
    "duration": 19,
    "start_time": "2022-04-24T19:11:14.756Z"
   },
   {
    "duration": 911,
    "start_time": "2022-04-24T19:11:14.777Z"
   },
   {
    "duration": 3,
    "start_time": "2022-04-24T19:11:15.690Z"
   },
   {
    "duration": 277,
    "start_time": "2022-04-24T19:12:02.295Z"
   },
   {
    "duration": 342,
    "start_time": "2022-04-24T19:12:30.107Z"
   },
   {
    "duration": 241,
    "start_time": "2022-04-24T19:12:55.815Z"
   },
   {
    "duration": 6,
    "start_time": "2022-04-24T19:13:14.802Z"
   },
   {
    "duration": 16,
    "start_time": "2022-04-24T19:13:27.837Z"
   },
   {
    "duration": 12,
    "start_time": "2022-04-24T19:14:45.373Z"
   },
   {
    "duration": 114,
    "start_time": "2022-04-24T19:25:49.538Z"
   },
   {
    "duration": 18,
    "start_time": "2022-04-24T19:28:07.007Z"
   },
   {
    "duration": 698,
    "start_time": "2022-04-24T19:29:12.487Z"
   },
   {
    "duration": 252,
    "start_time": "2022-04-24T19:29:29.333Z"
   },
   {
    "duration": 331,
    "start_time": "2022-04-24T19:29:34.648Z"
   },
   {
    "duration": 685,
    "start_time": "2022-04-24T19:29:49.813Z"
   },
   {
    "duration": 158,
    "start_time": "2022-04-24T19:31:02.223Z"
   },
   {
    "duration": 321,
    "start_time": "2022-04-24T19:31:23.293Z"
   },
   {
    "duration": 20,
    "start_time": "2022-04-24T19:33:02.711Z"
   },
   {
    "duration": 20,
    "start_time": "2022-04-24T19:33:07.148Z"
   },
   {
    "duration": 706,
    "start_time": "2022-04-24T19:47:47.876Z"
   },
   {
    "duration": 521,
    "start_time": "2022-04-24T19:48:35.678Z"
   },
   {
    "duration": 354,
    "start_time": "2022-04-24T19:48:59.989Z"
   },
   {
    "duration": 34,
    "start_time": "2022-04-24T19:50:50.172Z"
   },
   {
    "duration": 34,
    "start_time": "2022-04-24T19:51:04.171Z"
   },
   {
    "duration": 222,
    "start_time": "2022-04-24T19:52:14.891Z"
   },
   {
    "duration": 684,
    "start_time": "2022-04-24T19:55:17.970Z"
   },
   {
    "duration": 3563,
    "start_time": "2022-04-24T19:58:08.209Z"
   },
   {
    "duration": 571,
    "start_time": "2022-04-24T19:58:27.531Z"
   },
   {
    "duration": 251,
    "start_time": "2022-04-24T19:59:24.837Z"
   },
   {
    "duration": 311,
    "start_time": "2022-04-24T20:01:46.085Z"
   },
   {
    "duration": 290,
    "start_time": "2022-04-24T20:01:52.987Z"
   },
   {
    "duration": 318,
    "start_time": "2022-04-24T20:01:57.366Z"
   },
   {
    "duration": 409,
    "start_time": "2022-04-24T20:02:05.925Z"
   },
   {
    "duration": 433,
    "start_time": "2022-04-24T20:02:33.346Z"
   },
   {
    "duration": 326,
    "start_time": "2022-04-24T20:06:13.102Z"
   },
   {
    "duration": 133,
    "start_time": "2022-04-24T20:08:47.732Z"
   },
   {
    "duration": 151,
    "start_time": "2022-04-24T20:09:02.739Z"
   },
   {
    "duration": 100,
    "start_time": "2022-04-24T20:09:05.534Z"
   },
   {
    "duration": 103,
    "start_time": "2022-04-24T20:09:16.112Z"
   },
   {
    "duration": 38,
    "start_time": "2022-04-24T20:09:23.741Z"
   },
   {
    "duration": 4520,
    "start_time": "2022-04-24T20:09:55.461Z"
   },
   {
    "duration": 23,
    "start_time": "2022-04-24T20:12:30.511Z"
   },
   {
    "duration": 26,
    "start_time": "2022-04-24T20:12:51.890Z"
   },
   {
    "duration": 32,
    "start_time": "2022-04-24T20:13:02.560Z"
   },
   {
    "duration": 32,
    "start_time": "2022-04-24T20:13:08.988Z"
   },
   {
    "duration": 40,
    "start_time": "2022-04-24T20:13:20.991Z"
   },
   {
    "duration": 41,
    "start_time": "2022-04-24T20:18:37.902Z"
   },
   {
    "duration": 23,
    "start_time": "2022-04-24T20:24:27.816Z"
   },
   {
    "duration": 12,
    "start_time": "2022-04-24T20:24:44.940Z"
   },
   {
    "duration": 25,
    "start_time": "2022-04-24T20:25:59.038Z"
   },
   {
    "duration": 7,
    "start_time": "2022-04-24T20:26:30.801Z"
   },
   {
    "duration": 9,
    "start_time": "2022-04-24T20:27:13.024Z"
   },
   {
    "duration": 1747,
    "start_time": "2022-04-25T07:24:38.614Z"
   },
   {
    "duration": 156,
    "start_time": "2022-04-25T07:27:07.552Z"
   },
   {
    "duration": 11,
    "start_time": "2022-04-25T07:28:10.710Z"
   },
   {
    "duration": 1445,
    "start_time": "2022-04-25T07:28:37.846Z"
   },
   {
    "duration": 272,
    "start_time": "2022-04-25T07:28:39.294Z"
   },
   {
    "duration": 251,
    "start_time": "2022-04-25T07:28:39.568Z"
   },
   {
    "duration": 424,
    "start_time": "2022-04-25T07:28:39.822Z"
   },
   {
    "duration": 0,
    "start_time": "2022-04-25T07:28:40.251Z"
   },
   {
    "duration": 0,
    "start_time": "2022-04-25T07:28:40.253Z"
   },
   {
    "duration": 0,
    "start_time": "2022-04-25T07:28:40.255Z"
   },
   {
    "duration": 0,
    "start_time": "2022-04-25T07:28:40.257Z"
   },
   {
    "duration": 0,
    "start_time": "2022-04-25T07:28:40.260Z"
   },
   {
    "duration": 0,
    "start_time": "2022-04-25T07:28:40.262Z"
   },
   {
    "duration": 0,
    "start_time": "2022-04-25T07:28:40.282Z"
   },
   {
    "duration": 0,
    "start_time": "2022-04-25T07:28:40.283Z"
   },
   {
    "duration": 0,
    "start_time": "2022-04-25T07:28:40.287Z"
   },
   {
    "duration": 0,
    "start_time": "2022-04-25T07:28:40.289Z"
   },
   {
    "duration": 0,
    "start_time": "2022-04-25T07:28:40.291Z"
   },
   {
    "duration": 0,
    "start_time": "2022-04-25T07:28:40.294Z"
   },
   {
    "duration": 0,
    "start_time": "2022-04-25T07:28:40.296Z"
   },
   {
    "duration": 0,
    "start_time": "2022-04-25T07:28:40.298Z"
   },
   {
    "duration": 0,
    "start_time": "2022-04-25T07:28:40.300Z"
   },
   {
    "duration": 0,
    "start_time": "2022-04-25T07:28:40.302Z"
   },
   {
    "duration": 0,
    "start_time": "2022-04-25T07:28:40.304Z"
   },
   {
    "duration": 0,
    "start_time": "2022-04-25T07:28:40.306Z"
   },
   {
    "duration": 0,
    "start_time": "2022-04-25T07:28:40.308Z"
   },
   {
    "duration": 0,
    "start_time": "2022-04-25T07:28:40.310Z"
   },
   {
    "duration": 0,
    "start_time": "2022-04-25T07:28:40.312Z"
   },
   {
    "duration": 0,
    "start_time": "2022-04-25T07:28:40.314Z"
   },
   {
    "duration": 0,
    "start_time": "2022-04-25T07:28:40.316Z"
   },
   {
    "duration": 0,
    "start_time": "2022-04-25T07:28:40.318Z"
   },
   {
    "duration": 0,
    "start_time": "2022-04-25T07:28:40.320Z"
   },
   {
    "duration": 0,
    "start_time": "2022-04-25T07:28:40.322Z"
   },
   {
    "duration": 0,
    "start_time": "2022-04-25T07:28:40.326Z"
   },
   {
    "duration": 0,
    "start_time": "2022-04-25T07:28:40.328Z"
   },
   {
    "duration": 0,
    "start_time": "2022-04-25T07:28:40.330Z"
   },
   {
    "duration": 1610,
    "start_time": "2022-04-25T07:29:33.423Z"
   },
   {
    "duration": 278,
    "start_time": "2022-04-25T07:29:35.036Z"
   },
   {
    "duration": 234,
    "start_time": "2022-04-25T07:29:35.317Z"
   },
   {
    "duration": 172,
    "start_time": "2022-04-25T07:29:35.553Z"
   },
   {
    "duration": 32,
    "start_time": "2022-04-25T07:29:35.728Z"
   },
   {
    "duration": 81,
    "start_time": "2022-04-25T07:29:35.764Z"
   },
   {
    "duration": 385,
    "start_time": "2022-04-25T07:29:35.848Z"
   },
   {
    "duration": 634,
    "start_time": "2022-04-25T07:29:36.235Z"
   },
   {
    "duration": 245,
    "start_time": "2022-04-25T07:29:36.871Z"
   },
   {
    "duration": 1492,
    "start_time": "2022-04-25T07:29:37.122Z"
   },
   {
    "duration": 303,
    "start_time": "2022-04-25T07:29:38.617Z"
   },
   {
    "duration": 305,
    "start_time": "2022-04-25T07:29:38.922Z"
   },
   {
    "duration": 28,
    "start_time": "2022-04-25T07:29:39.230Z"
   },
   {
    "duration": 155,
    "start_time": "2022-04-25T07:29:39.260Z"
   },
   {
    "duration": 108,
    "start_time": "2022-04-25T07:29:39.417Z"
   },
   {
    "duration": 8374,
    "start_time": "2022-04-25T07:29:39.528Z"
   },
   {
    "duration": 8,
    "start_time": "2022-04-25T07:29:47.907Z"
   },
   {
    "duration": 23,
    "start_time": "2022-04-25T07:29:47.918Z"
   },
   {
    "duration": 84,
    "start_time": "2022-04-25T07:29:47.944Z"
   },
   {
    "duration": 86,
    "start_time": "2022-04-25T07:29:48.030Z"
   },
   {
    "duration": 9,
    "start_time": "2022-04-25T07:29:48.118Z"
   },
   {
    "duration": 23,
    "start_time": "2022-04-25T07:29:48.129Z"
   },
   {
    "duration": 458,
    "start_time": "2022-04-25T07:29:48.154Z"
   },
   {
    "duration": 20,
    "start_time": "2022-04-25T07:29:48.617Z"
   },
   {
    "duration": 586,
    "start_time": "2022-04-25T07:29:48.639Z"
   },
   {
    "duration": 27,
    "start_time": "2022-04-25T07:29:49.228Z"
   },
   {
    "duration": 754,
    "start_time": "2022-04-25T07:29:49.258Z"
   },
   {
    "duration": 728,
    "start_time": "2022-04-25T07:29:50.018Z"
   },
   {
    "duration": 37,
    "start_time": "2022-04-25T07:29:50.748Z"
   },
   {
    "duration": 7067,
    "start_time": "2022-04-25T07:29:50.790Z"
   },
   {
    "duration": 69,
    "start_time": "2022-04-25T07:29:57.859Z"
   },
   {
    "duration": 12,
    "start_time": "2022-04-25T07:29:57.932Z"
   },
   {
    "duration": 15,
    "start_time": "2022-04-25T07:29:57.946Z"
   },
   {
    "duration": 14,
    "start_time": "2022-04-25T07:30:11.083Z"
   },
   {
    "duration": 10,
    "start_time": "2022-04-25T07:30:25.949Z"
   },
   {
    "duration": 184,
    "start_time": "2022-04-25T07:37:11.975Z"
   },
   {
    "duration": 68,
    "start_time": "2022-04-25T07:38:33.112Z"
   },
   {
    "duration": 77,
    "start_time": "2022-04-25T07:38:51.728Z"
   },
   {
    "duration": 83,
    "start_time": "2022-04-25T07:39:30.079Z"
   },
   {
    "duration": 64,
    "start_time": "2022-04-25T07:42:17.935Z"
   },
   {
    "duration": 996,
    "start_time": "2022-04-25T07:42:44.976Z"
   },
   {
    "duration": 4,
    "start_time": "2022-04-25T07:43:59.560Z"
   },
   {
    "duration": 289,
    "start_time": "2022-04-25T07:43:59.567Z"
   },
   {
    "duration": 284,
    "start_time": "2022-04-25T07:43:59.858Z"
   },
   {
    "duration": 176,
    "start_time": "2022-04-25T07:44:00.146Z"
   },
   {
    "duration": 42,
    "start_time": "2022-04-25T07:44:00.325Z"
   },
   {
    "duration": 57,
    "start_time": "2022-04-25T07:44:00.382Z"
   },
   {
    "duration": 348,
    "start_time": "2022-04-25T07:44:00.441Z"
   },
   {
    "duration": 607,
    "start_time": "2022-04-25T07:44:00.798Z"
   },
   {
    "duration": 236,
    "start_time": "2022-04-25T07:44:01.410Z"
   },
   {
    "duration": 888,
    "start_time": "2022-04-25T07:44:01.650Z"
   },
   {
    "duration": 283,
    "start_time": "2022-04-25T07:44:02.540Z"
   },
   {
    "duration": 311,
    "start_time": "2022-04-25T07:44:02.826Z"
   },
   {
    "duration": 27,
    "start_time": "2022-04-25T07:44:03.139Z"
   },
   {
    "duration": 51,
    "start_time": "2022-04-25T07:44:03.181Z"
   },
   {
    "duration": 65,
    "start_time": "2022-04-25T07:44:03.235Z"
   },
   {
    "duration": 6222,
    "start_time": "2022-04-25T07:44:03.306Z"
   },
   {
    "duration": 6,
    "start_time": "2022-04-25T07:44:09.530Z"
   },
   {
    "duration": 28,
    "start_time": "2022-04-25T07:44:09.539Z"
   },
   {
    "duration": 77,
    "start_time": "2022-04-25T07:44:09.569Z"
   },
   {
    "duration": 88,
    "start_time": "2022-04-25T07:44:09.648Z"
   },
   {
    "duration": 8,
    "start_time": "2022-04-25T07:44:09.739Z"
   },
   {
    "duration": 36,
    "start_time": "2022-04-25T07:44:09.750Z"
   },
   {
    "duration": 447,
    "start_time": "2022-04-25T07:44:09.790Z"
   },
   {
    "duration": 18,
    "start_time": "2022-04-25T07:44:10.240Z"
   },
   {
    "duration": 291,
    "start_time": "2022-04-25T07:44:10.260Z"
   },
   {
    "duration": 37,
    "start_time": "2022-04-25T07:44:10.554Z"
   },
   {
    "duration": 589,
    "start_time": "2022-04-25T07:44:10.598Z"
   },
   {
    "duration": 1060,
    "start_time": "2022-04-25T07:44:11.193Z"
   },
   {
    "duration": 34,
    "start_time": "2022-04-25T07:44:12.256Z"
   },
   {
    "duration": 7481,
    "start_time": "2022-04-25T07:44:12.292Z"
   },
   {
    "duration": 49,
    "start_time": "2022-04-25T07:44:19.776Z"
   },
   {
    "duration": 14,
    "start_time": "2022-04-25T07:44:19.828Z"
   },
   {
    "duration": 1627,
    "start_time": "2022-04-25T07:44:19.844Z"
   },
   {
    "duration": 48,
    "start_time": "2022-04-25T07:56:11.622Z"
   },
   {
    "duration": 72,
    "start_time": "2022-04-25T07:56:28.547Z"
   },
   {
    "duration": 55,
    "start_time": "2022-04-25T07:57:01.467Z"
   },
   {
    "duration": 57,
    "start_time": "2022-04-25T07:57:18.244Z"
   },
   {
    "duration": 79,
    "start_time": "2022-04-25T07:57:23.210Z"
   },
   {
    "duration": 56,
    "start_time": "2022-04-25T07:57:58.319Z"
   },
   {
    "duration": 53,
    "start_time": "2022-04-25T07:58:05.965Z"
   },
   {
    "duration": 49,
    "start_time": "2022-04-25T07:58:13.711Z"
   },
   {
    "duration": 60,
    "start_time": "2022-04-25T07:58:32.163Z"
   },
   {
    "duration": 71,
    "start_time": "2022-04-25T07:58:57.181Z"
   },
   {
    "duration": 1006,
    "start_time": "2022-04-25T08:00:05.512Z"
   },
   {
    "duration": 1133,
    "start_time": "2022-04-25T08:00:13.031Z"
   },
   {
    "duration": 71,
    "start_time": "2022-04-25T08:00:20.939Z"
   },
   {
    "duration": 97,
    "start_time": "2022-04-25T08:01:39.825Z"
   },
   {
    "duration": 95,
    "start_time": "2022-04-25T08:02:01.935Z"
   },
   {
    "duration": 557,
    "start_time": "2022-04-25T08:03:08.076Z"
   },
   {
    "duration": 92,
    "start_time": "2022-04-25T08:03:15.530Z"
   },
   {
    "duration": 249,
    "start_time": "2022-04-25T08:04:24.568Z"
   },
   {
    "duration": 251,
    "start_time": "2022-04-25T08:04:39.819Z"
   },
   {
    "duration": 77,
    "start_time": "2022-04-25T08:13:58.266Z"
   },
   {
    "duration": 291,
    "start_time": "2022-04-25T08:14:13.529Z"
   },
   {
    "duration": 1890,
    "start_time": "2022-04-25T08:19:23.772Z"
   },
   {
    "duration": 270,
    "start_time": "2022-04-25T08:19:31.231Z"
   },
   {
    "duration": 489,
    "start_time": "2022-04-25T08:21:22.354Z"
   },
   {
    "duration": 506,
    "start_time": "2022-04-25T08:21:39.268Z"
   },
   {
    "duration": 481,
    "start_time": "2022-04-25T08:21:48.410Z"
   },
   {
    "duration": 275,
    "start_time": "2022-04-25T08:21:54.413Z"
   },
   {
    "duration": 371,
    "start_time": "2022-04-25T08:50:00.902Z"
   },
   {
    "duration": 25,
    "start_time": "2022-04-25T09:15:42.708Z"
   },
   {
    "duration": 50,
    "start_time": "2022-04-25T09:16:31.314Z"
   },
   {
    "duration": 74,
    "start_time": "2022-04-25T09:16:50.869Z"
   },
   {
    "duration": 43,
    "start_time": "2022-04-25T09:18:26.327Z"
   },
   {
    "duration": 42,
    "start_time": "2022-04-25T09:19:04.353Z"
   },
   {
    "duration": 60,
    "start_time": "2022-04-25T09:19:33.783Z"
   },
   {
    "duration": 49,
    "start_time": "2022-04-25T09:19:45.298Z"
   },
   {
    "duration": 41,
    "start_time": "2022-04-25T09:47:20.885Z"
   },
   {
    "duration": 44,
    "start_time": "2022-04-25T09:47:37.131Z"
   },
   {
    "duration": 676,
    "start_time": "2022-04-25T09:47:42.837Z"
   },
   {
    "duration": 43,
    "start_time": "2022-04-25T09:50:21.817Z"
   },
   {
    "duration": 43,
    "start_time": "2022-04-25T09:51:03.260Z"
   },
   {
    "duration": 45,
    "start_time": "2022-04-25T09:53:16.078Z"
   },
   {
    "duration": 41,
    "start_time": "2022-04-25T09:53:53.334Z"
   },
   {
    "duration": 44,
    "start_time": "2022-04-25T09:54:07.600Z"
   },
   {
    "duration": 42,
    "start_time": "2022-04-25T09:54:16.706Z"
   },
   {
    "duration": 47,
    "start_time": "2022-04-25T09:54:40.541Z"
   },
   {
    "duration": 43,
    "start_time": "2022-04-25T09:54:57.405Z"
   },
   {
    "duration": 56,
    "start_time": "2022-04-25T09:55:11.072Z"
   },
   {
    "duration": 44,
    "start_time": "2022-04-25T09:56:34.528Z"
   },
   {
    "duration": 43,
    "start_time": "2022-04-25T09:56:50.033Z"
   },
   {
    "duration": 42,
    "start_time": "2022-04-25T09:57:20.234Z"
   },
   {
    "duration": 37,
    "start_time": "2022-04-25T10:44:30.971Z"
   },
   {
    "duration": 36,
    "start_time": "2022-04-25T10:44:47.588Z"
   },
   {
    "duration": 43,
    "start_time": "2022-04-25T10:47:55.587Z"
   },
   {
    "duration": 37,
    "start_time": "2022-04-25T10:49:11.019Z"
   },
   {
    "duration": 47,
    "start_time": "2022-04-25T10:49:21.156Z"
   },
   {
    "duration": 49,
    "start_time": "2022-04-25T11:06:28.408Z"
   },
   {
    "duration": 104,
    "start_time": "2022-04-25T11:09:20.490Z"
   },
   {
    "duration": 121,
    "start_time": "2022-04-25T11:09:39.577Z"
   },
   {
    "duration": 284,
    "start_time": "2022-04-25T11:10:46.965Z"
   },
   {
    "duration": 63,
    "start_time": "2022-04-25T11:11:05.851Z"
   },
   {
    "duration": 1507,
    "start_time": "2022-04-25T11:11:51.191Z"
   },
   {
    "duration": 1266,
    "start_time": "2022-04-25T11:11:57.609Z"
   },
   {
    "duration": 102,
    "start_time": "2022-04-25T11:12:12.562Z"
   },
   {
    "duration": 100,
    "start_time": "2022-04-25T11:12:47.515Z"
   },
   {
    "duration": 106,
    "start_time": "2022-04-25T11:12:59.885Z"
   },
   {
    "duration": 1642,
    "start_time": "2022-04-25T11:13:04.819Z"
   },
   {
    "duration": 1413,
    "start_time": "2022-04-25T11:13:17.822Z"
   },
   {
    "duration": 105,
    "start_time": "2022-04-25T11:13:54.829Z"
   },
   {
    "duration": 59,
    "start_time": "2022-04-25T11:15:01.150Z"
   },
   {
    "duration": 312,
    "start_time": "2022-04-25T11:34:14.573Z"
   },
   {
    "duration": 12,
    "start_time": "2022-04-25T11:34:33.712Z"
   },
   {
    "duration": 118,
    "start_time": "2022-04-25T11:34:37.435Z"
   },
   {
    "duration": 25,
    "start_time": "2022-04-25T11:37:43.140Z"
   },
   {
    "duration": 1953,
    "start_time": "2022-04-25T11:38:45.207Z"
   },
   {
    "duration": 18,
    "start_time": "2022-04-25T11:38:59.176Z"
   },
   {
    "duration": 155,
    "start_time": "2022-04-25T11:39:11.046Z"
   },
   {
    "duration": 951,
    "start_time": "2022-04-25T11:39:16.991Z"
   },
   {
    "duration": 1999,
    "start_time": "2022-04-25T11:39:25.551Z"
   },
   {
    "duration": 2304,
    "start_time": "2022-04-25T11:39:35.615Z"
   },
   {
    "duration": 2054,
    "start_time": "2022-04-25T11:40:00.067Z"
   },
   {
    "duration": 2391,
    "start_time": "2022-04-25T11:40:13.947Z"
   },
   {
    "duration": 12,
    "start_time": "2022-04-25T11:40:38.228Z"
   },
   {
    "duration": 2364,
    "start_time": "2022-04-25T11:40:58.704Z"
   },
   {
    "duration": 2929,
    "start_time": "2022-04-25T11:41:16.933Z"
   },
   {
    "duration": 25,
    "start_time": "2022-04-25T11:41:38.618Z"
   },
   {
    "duration": 31,
    "start_time": "2022-04-25T11:41:44.681Z"
   },
   {
    "duration": 27,
    "start_time": "2022-04-25T11:43:22.207Z"
   },
   {
    "duration": 1827,
    "start_time": "2022-04-25T11:43:24.333Z"
   },
   {
    "duration": 1845,
    "start_time": "2022-04-25T11:43:32.131Z"
   },
   {
    "duration": 23,
    "start_time": "2022-04-25T11:43:36.208Z"
   },
   {
    "duration": 2393,
    "start_time": "2022-04-25T11:43:49.657Z"
   },
   {
    "duration": 1753,
    "start_time": "2022-04-25T11:44:25.354Z"
   },
   {
    "duration": 1894,
    "start_time": "2022-04-25T11:45:17.493Z"
   },
   {
    "duration": 1406,
    "start_time": "2022-04-25T11:48:56.259Z"
   },
   {
    "duration": 1415,
    "start_time": "2022-04-25T11:49:13.689Z"
   },
   {
    "duration": 20,
    "start_time": "2022-04-25T11:49:19.446Z"
   },
   {
    "duration": 3158,
    "start_time": "2022-04-25T11:49:26.818Z"
   },
   {
    "duration": 7,
    "start_time": "2022-04-25T11:55:47.410Z"
   },
   {
    "duration": 4178,
    "start_time": "2022-04-25T11:55:54.705Z"
   },
   {
    "duration": 7,
    "start_time": "2022-04-25T11:56:05.744Z"
   },
   {
    "duration": 26,
    "start_time": "2022-04-25T11:56:57.217Z"
   },
   {
    "duration": 31,
    "start_time": "2022-04-25T11:59:07.604Z"
   },
   {
    "duration": 16,
    "start_time": "2022-04-25T11:59:38.889Z"
   },
   {
    "duration": 82,
    "start_time": "2022-04-25T12:02:16.578Z"
   },
   {
    "duration": 56,
    "start_time": "2022-04-25T12:04:04.495Z"
   },
   {
    "duration": 18,
    "start_time": "2022-04-25T12:07:15.109Z"
   },
   {
    "duration": 31,
    "start_time": "2022-04-25T12:08:21.006Z"
   },
   {
    "duration": 46,
    "start_time": "2022-04-25T12:09:07.128Z"
   },
   {
    "duration": 23,
    "start_time": "2022-04-25T12:09:28.818Z"
   },
   {
    "duration": 50,
    "start_time": "2022-04-25T12:11:21.743Z"
   },
   {
    "duration": 45,
    "start_time": "2022-04-25T12:11:56.300Z"
   },
   {
    "duration": 12,
    "start_time": "2022-04-25T12:14:58.197Z"
   },
   {
    "duration": 1316,
    "start_time": "2022-04-25T12:18:21.562Z"
   },
   {
    "duration": 2457,
    "start_time": "2022-04-25T12:18:27.627Z"
   },
   {
    "duration": 120,
    "start_time": "2022-04-25T12:18:41.765Z"
   },
   {
    "duration": 19,
    "start_time": "2022-04-25T12:18:46.977Z"
   },
   {
    "duration": 122,
    "start_time": "2022-04-25T12:19:11.379Z"
   },
   {
    "duration": 14,
    "start_time": "2022-04-25T12:19:33.261Z"
   },
   {
    "duration": 19,
    "start_time": "2022-04-25T12:19:38.678Z"
   },
   {
    "duration": 17,
    "start_time": "2022-04-25T12:19:47.461Z"
   },
   {
    "duration": 39,
    "start_time": "2022-04-25T12:20:29.579Z"
   },
   {
    "duration": 52,
    "start_time": "2022-04-25T12:20:34.378Z"
   },
   {
    "duration": 26,
    "start_time": "2022-04-25T12:20:45.925Z"
   },
   {
    "duration": 18,
    "start_time": "2022-04-25T12:22:14.709Z"
   },
   {
    "duration": 40,
    "start_time": "2022-04-25T12:22:34.520Z"
   },
   {
    "duration": 9,
    "start_time": "2022-04-25T12:50:25.048Z"
   },
   {
    "duration": 1992,
    "start_time": "2022-04-25T12:51:05.474Z"
   },
   {
    "duration": 1680,
    "start_time": "2022-04-25T12:51:24.283Z"
   },
   {
    "duration": 913,
    "start_time": "2022-04-25T12:51:50.610Z"
   },
   {
    "duration": 138,
    "start_time": "2022-04-25T12:51:59.701Z"
   },
   {
    "duration": 15,
    "start_time": "2022-04-25T12:52:21.326Z"
   },
   {
    "duration": 14,
    "start_time": "2022-04-25T12:53:12.958Z"
   },
   {
    "duration": 41,
    "start_time": "2022-04-25T12:54:45.275Z"
   },
   {
    "duration": 14,
    "start_time": "2022-04-25T12:55:07.506Z"
   },
   {
    "duration": 36,
    "start_time": "2022-04-25T12:55:26.161Z"
   },
   {
    "duration": 14,
    "start_time": "2022-04-25T12:56:03.671Z"
   },
   {
    "duration": 543,
    "start_time": "2022-04-25T12:57:29.755Z"
   },
   {
    "duration": 2108,
    "start_time": "2022-04-25T12:59:05.132Z"
   },
   {
    "duration": 46,
    "start_time": "2022-04-25T12:59:24.607Z"
   },
   {
    "duration": 28,
    "start_time": "2022-04-25T12:59:36.538Z"
   },
   {
    "duration": 1980,
    "start_time": "2022-04-25T12:59:56.361Z"
   },
   {
    "duration": 280,
    "start_time": "2022-04-25T12:59:58.345Z"
   },
   {
    "duration": 237,
    "start_time": "2022-04-25T12:59:58.627Z"
   },
   {
    "duration": 178,
    "start_time": "2022-04-25T12:59:58.867Z"
   },
   {
    "duration": 57,
    "start_time": "2022-04-25T12:59:59.049Z"
   },
   {
    "duration": 56,
    "start_time": "2022-04-25T12:59:59.109Z"
   },
   {
    "duration": 413,
    "start_time": "2022-04-25T12:59:59.167Z"
   },
   {
    "duration": 707,
    "start_time": "2022-04-25T12:59:59.583Z"
   },
   {
    "duration": 255,
    "start_time": "2022-04-25T13:00:00.293Z"
   },
   {
    "duration": 659,
    "start_time": "2022-04-25T13:00:00.551Z"
   },
   {
    "duration": 337,
    "start_time": "2022-04-25T13:00:01.214Z"
   },
   {
    "duration": 322,
    "start_time": "2022-04-25T13:00:01.553Z"
   },
   {
    "duration": 45,
    "start_time": "2022-04-25T13:00:01.878Z"
   },
   {
    "duration": 95,
    "start_time": "2022-04-25T13:00:01.927Z"
   },
   {
    "duration": 40,
    "start_time": "2022-04-25T13:00:02.024Z"
   },
   {
    "duration": 6618,
    "start_time": "2022-04-25T13:00:02.067Z"
   },
   {
    "duration": 8,
    "start_time": "2022-04-25T13:00:08.689Z"
   },
   {
    "duration": 25,
    "start_time": "2022-04-25T13:00:08.709Z"
   },
   {
    "duration": 86,
    "start_time": "2022-04-25T13:00:08.736Z"
   },
   {
    "duration": 82,
    "start_time": "2022-04-25T13:00:08.824Z"
   },
   {
    "duration": 10,
    "start_time": "2022-04-25T13:00:08.909Z"
   },
   {
    "duration": 21,
    "start_time": "2022-04-25T13:00:08.922Z"
   },
   {
    "duration": 501,
    "start_time": "2022-04-25T13:00:08.946Z"
   },
   {
    "duration": 34,
    "start_time": "2022-04-25T13:00:09.450Z"
   },
   {
    "duration": 458,
    "start_time": "2022-04-25T13:00:09.489Z"
   },
   {
    "duration": 39,
    "start_time": "2022-04-25T13:00:09.950Z"
   },
   {
    "duration": 837,
    "start_time": "2022-04-25T13:00:09.991Z"
   },
   {
    "duration": 1035,
    "start_time": "2022-04-25T13:00:10.831Z"
   },
   {
    "duration": 45,
    "start_time": "2022-04-25T13:00:11.868Z"
   },
   {
    "duration": 9040,
    "start_time": "2022-04-25T13:00:11.915Z"
   },
   {
    "duration": 71,
    "start_time": "2022-04-25T13:00:20.958Z"
   },
   {
    "duration": 9,
    "start_time": "2022-04-25T13:00:21.032Z"
   },
   {
    "duration": 156,
    "start_time": "2022-04-25T13:00:21.043Z"
   },
   {
    "duration": 19,
    "start_time": "2022-04-25T13:00:21.202Z"
   },
   {
    "duration": 101,
    "start_time": "2022-04-25T13:00:21.225Z"
   },
   {
    "duration": 13,
    "start_time": "2022-04-25T13:00:21.329Z"
   },
   {
    "duration": 103,
    "start_time": "2022-04-25T13:00:21.345Z"
   },
   {
    "duration": 70,
    "start_time": "2022-04-25T13:00:21.451Z"
   },
   {
    "duration": 30,
    "start_time": "2022-04-25T13:00:21.523Z"
   },
   {
    "duration": 61,
    "start_time": "2022-04-25T13:00:21.555Z"
   },
   {
    "duration": 75,
    "start_time": "2022-04-25T13:00:21.622Z"
   },
   {
    "duration": 17,
    "start_time": "2022-04-25T13:00:21.700Z"
   },
   {
    "duration": 123,
    "start_time": "2022-04-25T13:00:21.720Z"
   },
   {
    "duration": 184,
    "start_time": "2022-04-25T13:01:26.539Z"
   },
   {
    "duration": 13,
    "start_time": "2022-04-25T13:06:29.411Z"
   },
   {
    "duration": 12,
    "start_time": "2022-04-25T13:06:46.509Z"
   },
   {
    "duration": 24,
    "start_time": "2022-04-25T13:07:42.916Z"
   },
   {
    "duration": 34,
    "start_time": "2022-04-25T13:08:48.963Z"
   },
   {
    "duration": 112,
    "start_time": "2022-04-25T13:09:01.522Z"
   },
   {
    "duration": 6,
    "start_time": "2022-04-25T13:10:21.009Z"
   },
   {
    "duration": 40,
    "start_time": "2022-04-25T13:10:26.816Z"
   },
   {
    "duration": 41,
    "start_time": "2022-04-25T13:12:23.427Z"
   },
   {
    "duration": 16,
    "start_time": "2022-04-25T13:20:11.880Z"
   },
   {
    "duration": 18,
    "start_time": "2022-04-25T13:21:20.388Z"
   },
   {
    "duration": 357,
    "start_time": "2022-04-25T13:21:35.391Z"
   },
   {
    "duration": 1406,
    "start_time": "2022-04-25T13:22:07.424Z"
   },
   {
    "duration": 1660,
    "start_time": "2022-04-25T13:22:39.161Z"
   },
   {
    "duration": 16,
    "start_time": "2022-04-25T13:24:00.243Z"
   },
   {
    "duration": 19,
    "start_time": "2022-04-25T13:24:17.327Z"
   },
   {
    "duration": 13,
    "start_time": "2022-04-25T13:24:49.192Z"
   },
   {
    "duration": 1538,
    "start_time": "2022-04-25T13:25:06.047Z"
   },
   {
    "duration": 28,
    "start_time": "2022-04-25T13:29:26.401Z"
   },
   {
    "duration": 1969,
    "start_time": "2022-04-25T14:14:37.234Z"
   },
   {
    "duration": 1424,
    "start_time": "2022-04-25T14:16:35.986Z"
   },
   {
    "duration": 3368,
    "start_time": "2022-04-25T14:17:31.421Z"
   },
   {
    "duration": 486,
    "start_time": "2022-04-25T14:17:55.903Z"
   },
   {
    "duration": 464,
    "start_time": "2022-04-25T14:18:18.561Z"
   },
   {
    "duration": 473,
    "start_time": "2022-04-25T14:18:25.043Z"
   },
   {
    "duration": 1391,
    "start_time": "2022-04-25T14:19:08.850Z"
   },
   {
    "duration": 902,
    "start_time": "2022-04-25T14:20:23.875Z"
   },
   {
    "duration": 566,
    "start_time": "2022-04-25T14:20:52.641Z"
   },
   {
    "duration": 1937,
    "start_time": "2022-04-25T14:21:10.063Z"
   },
   {
    "duration": 335,
    "start_time": "2022-04-25T14:21:12.005Z"
   },
   {
    "duration": 215,
    "start_time": "2022-04-25T14:21:12.343Z"
   },
   {
    "duration": 184,
    "start_time": "2022-04-25T14:21:12.561Z"
   },
   {
    "duration": 53,
    "start_time": "2022-04-25T14:21:12.748Z"
   },
   {
    "duration": 44,
    "start_time": "2022-04-25T14:21:12.804Z"
   },
   {
    "duration": 789,
    "start_time": "2022-04-25T14:21:12.851Z"
   },
   {
    "duration": 669,
    "start_time": "2022-04-25T14:21:13.644Z"
   },
   {
    "duration": 283,
    "start_time": "2022-04-25T14:21:14.316Z"
   },
   {
    "duration": 818,
    "start_time": "2022-04-25T14:21:14.607Z"
   },
   {
    "duration": 349,
    "start_time": "2022-04-25T14:21:15.429Z"
   },
   {
    "duration": 389,
    "start_time": "2022-04-25T14:21:15.781Z"
   },
   {
    "duration": 71,
    "start_time": "2022-04-25T14:21:16.174Z"
   },
   {
    "duration": 52,
    "start_time": "2022-04-25T14:21:16.247Z"
   },
   {
    "duration": 45,
    "start_time": "2022-04-25T14:21:16.302Z"
   },
   {
    "duration": 6570,
    "start_time": "2022-04-25T14:21:16.350Z"
   },
   {
    "duration": 7,
    "start_time": "2022-04-25T14:21:22.923Z"
   },
   {
    "duration": 19,
    "start_time": "2022-04-25T14:21:22.932Z"
   },
   {
    "duration": 114,
    "start_time": "2022-04-25T14:21:22.953Z"
   },
   {
    "duration": 123,
    "start_time": "2022-04-25T14:21:23.070Z"
   },
   {
    "duration": 19,
    "start_time": "2022-04-25T14:21:23.196Z"
   },
   {
    "duration": 19,
    "start_time": "2022-04-25T14:21:23.219Z"
   },
   {
    "duration": 499,
    "start_time": "2022-04-25T14:21:23.241Z"
   },
   {
    "duration": 21,
    "start_time": "2022-04-25T14:21:23.742Z"
   },
   {
    "duration": 463,
    "start_time": "2022-04-25T14:21:23.765Z"
   },
   {
    "duration": 21,
    "start_time": "2022-04-25T14:21:24.230Z"
   },
   {
    "duration": 807,
    "start_time": "2022-04-25T14:21:24.253Z"
   },
   {
    "duration": 664,
    "start_time": "2022-04-25T14:21:25.065Z"
   },
   {
    "duration": 22,
    "start_time": "2022-04-25T14:21:25.731Z"
   },
   {
    "duration": 7304,
    "start_time": "2022-04-25T14:21:25.755Z"
   },
   {
    "duration": 57,
    "start_time": "2022-04-25T14:21:33.061Z"
   },
   {
    "duration": 9,
    "start_time": "2022-04-25T14:21:33.120Z"
   },
   {
    "duration": 178,
    "start_time": "2022-04-25T14:21:33.132Z"
   },
   {
    "duration": 13,
    "start_time": "2022-04-25T14:21:33.312Z"
   },
   {
    "duration": 87,
    "start_time": "2022-04-25T14:21:33.328Z"
   },
   {
    "duration": 8,
    "start_time": "2022-04-25T14:21:33.418Z"
   },
   {
    "duration": 100,
    "start_time": "2022-04-25T14:21:33.428Z"
   },
   {
    "duration": 81,
    "start_time": "2022-04-25T14:21:33.530Z"
   },
   {
    "duration": 30,
    "start_time": "2022-04-25T14:21:33.615Z"
   },
   {
    "duration": 69,
    "start_time": "2022-04-25T14:21:33.648Z"
   },
   {
    "duration": 66,
    "start_time": "2022-04-25T14:21:33.719Z"
   },
   {
    "duration": 15,
    "start_time": "2022-04-25T14:21:33.788Z"
   },
   {
    "duration": 110,
    "start_time": "2022-04-25T14:21:33.806Z"
   },
   {
    "duration": 164,
    "start_time": "2022-04-25T14:21:33.918Z"
   },
   {
    "duration": 0,
    "start_time": "2022-04-25T14:21:34.085Z"
   },
   {
    "duration": 38,
    "start_time": "2022-04-25T14:22:01.238Z"
   },
   {
    "duration": 3446,
    "start_time": "2022-04-25T14:22:43.709Z"
   },
   {
    "duration": 1537,
    "start_time": "2022-04-25T14:23:56.149Z"
   },
   {
    "duration": 1757,
    "start_time": "2022-04-25T14:24:52.708Z"
   },
   {
    "duration": 34,
    "start_time": "2022-04-25T14:25:33.903Z"
   },
   {
    "duration": 30,
    "start_time": "2022-04-25T14:25:35.717Z"
   },
   {
    "duration": 42,
    "start_time": "2022-04-25T14:25:38.610Z"
   },
   {
    "duration": 15,
    "start_time": "2022-04-25T14:25:41.111Z"
   },
   {
    "duration": 73,
    "start_time": "2022-04-25T14:25:43.348Z"
   },
   {
    "duration": 41,
    "start_time": "2022-04-25T14:25:47.811Z"
   },
   {
    "duration": 15,
    "start_time": "2022-04-25T15:03:14.563Z"
   },
   {
    "duration": 1787,
    "start_time": "2022-04-25T15:04:04.003Z"
   },
   {
    "duration": 133,
    "start_time": "2022-04-25T15:12:06.150Z"
   },
   {
    "duration": 38,
    "start_time": "2022-04-25T15:42:20.124Z"
   },
   {
    "duration": 22,
    "start_time": "2022-04-25T15:46:31.837Z"
   },
   {
    "duration": 111,
    "start_time": "2022-04-25T15:46:56.951Z"
   },
   {
    "duration": 103,
    "start_time": "2022-04-25T15:47:06.036Z"
   },
   {
    "duration": 123,
    "start_time": "2022-04-25T15:47:20.917Z"
   },
   {
    "duration": 31,
    "start_time": "2022-04-25T15:47:55.580Z"
   },
   {
    "duration": 2674,
    "start_time": "2022-04-25T15:48:56.712Z"
   },
   {
    "duration": 2874,
    "start_time": "2022-04-25T15:51:35.434Z"
   },
   {
    "duration": 2943,
    "start_time": "2022-04-25T15:51:50.869Z"
   },
   {
    "duration": 2983,
    "start_time": "2022-04-25T15:52:30.532Z"
   },
   {
    "duration": 47,
    "start_time": "2022-04-25T15:56:56.919Z"
   },
   {
    "duration": 65,
    "start_time": "2022-04-25T15:58:12.755Z"
   },
   {
    "duration": 59,
    "start_time": "2022-04-25T15:58:27.995Z"
   },
   {
    "duration": 290,
    "start_time": "2022-04-25T15:58:49.769Z"
   },
   {
    "duration": 58,
    "start_time": "2022-04-25T15:59:23.271Z"
   },
   {
    "duration": 286,
    "start_time": "2022-04-25T15:59:27.048Z"
   },
   {
    "duration": 495,
    "start_time": "2022-04-25T15:59:49.367Z"
   },
   {
    "duration": 109,
    "start_time": "2022-04-25T16:02:52.168Z"
   },
   {
    "duration": 25,
    "start_time": "2022-04-25T16:02:59.834Z"
   },
   {
    "duration": 3163,
    "start_time": "2022-04-25T16:03:56.992Z"
   },
   {
    "duration": 49,
    "start_time": "2022-04-25T16:04:04.715Z"
   },
   {
    "duration": 25,
    "start_time": "2022-04-25T16:04:19.454Z"
   },
   {
    "duration": 32,
    "start_time": "2022-04-25T16:05:03.027Z"
   },
   {
    "duration": 32,
    "start_time": "2022-04-25T16:05:42.756Z"
   },
   {
    "duration": 21,
    "start_time": "2022-04-25T16:09:16.509Z"
   },
   {
    "duration": 16,
    "start_time": "2022-04-25T16:09:39.244Z"
   },
   {
    "duration": 82,
    "start_time": "2022-04-25T16:09:44.574Z"
   },
   {
    "duration": 159,
    "start_time": "2022-04-25T16:12:07.728Z"
   },
   {
    "duration": 2730,
    "start_time": "2022-04-25T16:12:17.607Z"
   },
   {
    "duration": 114,
    "start_time": "2022-04-25T16:15:26.132Z"
   },
   {
    "duration": 46,
    "start_time": "2022-04-25T16:15:37.111Z"
   },
   {
    "duration": 60,
    "start_time": "2022-04-25T16:27:15.572Z"
   },
   {
    "duration": 49,
    "start_time": "2022-04-25T16:27:31.907Z"
   },
   {
    "duration": 78,
    "start_time": "2022-04-25T16:35:32.997Z"
   },
   {
    "duration": 1664,
    "start_time": "2022-04-25T16:36:00.196Z"
   },
   {
    "duration": 496,
    "start_time": "2022-04-25T16:36:01.862Z"
   },
   {
    "duration": 233,
    "start_time": "2022-04-25T16:36:02.360Z"
   },
   {
    "duration": 264,
    "start_time": "2022-04-25T16:36:02.596Z"
   },
   {
    "duration": 50,
    "start_time": "2022-04-25T16:36:02.863Z"
   },
   {
    "duration": 63,
    "start_time": "2022-04-25T16:36:02.916Z"
   },
   {
    "duration": 424,
    "start_time": "2022-04-25T16:36:02.981Z"
   },
   {
    "duration": 653,
    "start_time": "2022-04-25T16:36:03.407Z"
   },
   {
    "duration": 307,
    "start_time": "2022-04-25T16:36:04.063Z"
   },
   {
    "duration": 692,
    "start_time": "2022-04-25T16:36:04.372Z"
   },
   {
    "duration": 302,
    "start_time": "2022-04-25T16:36:05.067Z"
   },
   {
    "duration": 364,
    "start_time": "2022-04-25T16:36:05.371Z"
   },
   {
    "duration": 28,
    "start_time": "2022-04-25T16:36:05.737Z"
   },
   {
    "duration": 60,
    "start_time": "2022-04-25T16:36:05.770Z"
   },
   {
    "duration": 58,
    "start_time": "2022-04-25T16:36:05.832Z"
   },
   {
    "duration": 6477,
    "start_time": "2022-04-25T16:36:05.893Z"
   },
   {
    "duration": 15,
    "start_time": "2022-04-25T16:36:12.372Z"
   },
   {
    "duration": 37,
    "start_time": "2022-04-25T16:36:12.393Z"
   },
   {
    "duration": 56,
    "start_time": "2022-04-25T16:36:12.433Z"
   },
   {
    "duration": 87,
    "start_time": "2022-04-25T16:36:12.491Z"
   },
   {
    "duration": 44,
    "start_time": "2022-04-25T16:36:12.580Z"
   },
   {
    "duration": 12,
    "start_time": "2022-04-25T16:36:12.626Z"
   },
   {
    "duration": 27,
    "start_time": "2022-04-25T16:36:12.640Z"
   },
   {
    "duration": 473,
    "start_time": "2022-04-25T16:36:12.684Z"
   },
   {
    "duration": 31,
    "start_time": "2022-04-25T16:36:13.159Z"
   },
   {
    "duration": 546,
    "start_time": "2022-04-25T16:36:13.192Z"
   },
   {
    "duration": 29,
    "start_time": "2022-04-25T16:36:13.742Z"
   },
   {
    "duration": 710,
    "start_time": "2022-04-25T16:36:13.773Z"
   },
   {
    "duration": 726,
    "start_time": "2022-04-25T16:36:14.486Z"
   },
   {
    "duration": 21,
    "start_time": "2022-04-25T16:36:15.214Z"
   },
   {
    "duration": 7003,
    "start_time": "2022-04-25T16:36:15.237Z"
   },
   {
    "duration": 55,
    "start_time": "2022-04-25T16:36:22.243Z"
   },
   {
    "duration": 16,
    "start_time": "2022-04-25T16:36:22.300Z"
   },
   {
    "duration": 146,
    "start_time": "2022-04-25T16:36:22.319Z"
   },
   {
    "duration": 28,
    "start_time": "2022-04-25T16:36:22.468Z"
   },
   {
    "duration": 77,
    "start_time": "2022-04-25T16:36:22.499Z"
   },
   {
    "duration": 14,
    "start_time": "2022-04-25T16:36:22.578Z"
   },
   {
    "duration": 115,
    "start_time": "2022-04-25T16:36:22.595Z"
   },
   {
    "duration": 55,
    "start_time": "2022-04-25T16:36:22.713Z"
   },
   {
    "duration": 42,
    "start_time": "2022-04-25T16:36:22.789Z"
   },
   {
    "duration": 54,
    "start_time": "2022-04-25T16:36:22.837Z"
   },
   {
    "duration": 51,
    "start_time": "2022-04-25T16:36:22.894Z"
   },
   {
    "duration": 16,
    "start_time": "2022-04-25T16:36:22.947Z"
   },
   {
    "duration": 87,
    "start_time": "2022-04-25T16:36:22.965Z"
   },
   {
    "duration": 59,
    "start_time": "2022-04-25T16:36:23.054Z"
   },
   {
    "duration": 2825,
    "start_time": "2022-04-25T16:36:23.117Z"
   },
   {
    "duration": 57,
    "start_time": "2022-04-25T16:36:25.945Z"
   },
   {
    "duration": 48,
    "start_time": "2022-04-25T16:36:26.007Z"
   },
   {
    "duration": 3,
    "start_time": "2022-04-25T16:36:26.057Z"
   },
   {
    "duration": 3172,
    "start_time": "2022-04-25T16:37:32.952Z"
   },
   {
    "duration": 19,
    "start_time": "2022-04-25T16:37:40.495Z"
   },
   {
    "duration": 56,
    "start_time": "2022-04-25T16:37:54.973Z"
   },
   {
    "duration": 29,
    "start_time": "2022-04-25T16:40:34.348Z"
   },
   {
    "duration": 13,
    "start_time": "2022-04-25T16:40:37.924Z"
   },
   {
    "duration": 54,
    "start_time": "2022-04-25T16:41:11.723Z"
   },
   {
    "duration": 44,
    "start_time": "2022-04-25T16:45:09.775Z"
   },
   {
    "duration": 214,
    "start_time": "2022-04-25T16:53:52.655Z"
   },
   {
    "duration": 25,
    "start_time": "2022-04-25T16:59:56.165Z"
   },
   {
    "duration": 29,
    "start_time": "2022-04-25T17:00:03.858Z"
   },
   {
    "duration": 115,
    "start_time": "2022-04-25T17:01:05.312Z"
   },
   {
    "duration": 18,
    "start_time": "2022-04-25T17:01:13.109Z"
   },
   {
    "duration": 19,
    "start_time": "2022-04-25T17:01:23.955Z"
   },
   {
    "duration": 30,
    "start_time": "2022-04-25T17:01:58.578Z"
   },
   {
    "duration": 25,
    "start_time": "2022-04-25T17:02:05.297Z"
   },
   {
    "duration": 18,
    "start_time": "2022-04-25T17:02:27.722Z"
   },
   {
    "duration": 18,
    "start_time": "2022-04-25T17:02:34.563Z"
   },
   {
    "duration": 45,
    "start_time": "2022-04-25T17:02:44.207Z"
   },
   {
    "duration": 1522,
    "start_time": "2022-04-25T17:03:39.056Z"
   },
   {
    "duration": 279,
    "start_time": "2022-04-25T17:03:40.580Z"
   },
   {
    "duration": 250,
    "start_time": "2022-04-25T17:03:40.862Z"
   },
   {
    "duration": 153,
    "start_time": "2022-04-25T17:03:41.116Z"
   },
   {
    "duration": 41,
    "start_time": "2022-04-25T17:03:41.271Z"
   },
   {
    "duration": 42,
    "start_time": "2022-04-25T17:03:41.315Z"
   },
   {
    "duration": 403,
    "start_time": "2022-04-25T17:03:41.360Z"
   },
   {
    "duration": 641,
    "start_time": "2022-04-25T17:03:41.765Z"
   },
   {
    "duration": 240,
    "start_time": "2022-04-25T17:03:42.413Z"
   },
   {
    "duration": 630,
    "start_time": "2022-04-25T17:03:42.657Z"
   },
   {
    "duration": 279,
    "start_time": "2022-04-25T17:03:43.290Z"
   },
   {
    "duration": 317,
    "start_time": "2022-04-25T17:03:43.571Z"
   },
   {
    "duration": 38,
    "start_time": "2022-04-25T17:03:43.891Z"
   },
   {
    "duration": 84,
    "start_time": "2022-04-25T17:03:43.932Z"
   },
   {
    "duration": 84,
    "start_time": "2022-04-25T17:03:44.019Z"
   },
   {
    "duration": 6539,
    "start_time": "2022-04-25T17:03:44.107Z"
   },
   {
    "duration": 6,
    "start_time": "2022-04-25T17:03:50.649Z"
   },
   {
    "duration": 50,
    "start_time": "2022-04-25T17:03:50.658Z"
   },
   {
    "duration": 53,
    "start_time": "2022-04-25T17:03:50.710Z"
   },
   {
    "duration": 92,
    "start_time": "2022-04-25T17:03:50.766Z"
   },
   {
    "duration": 49,
    "start_time": "2022-04-25T17:03:50.860Z"
   },
   {
    "duration": 9,
    "start_time": "2022-04-25T17:03:50.912Z"
   },
   {
    "duration": 27,
    "start_time": "2022-04-25T17:03:50.923Z"
   },
   {
    "duration": 438,
    "start_time": "2022-04-25T17:03:50.953Z"
   },
   {
    "duration": 23,
    "start_time": "2022-04-25T17:03:51.396Z"
   },
   {
    "duration": 438,
    "start_time": "2022-04-25T17:03:51.421Z"
   },
   {
    "duration": 32,
    "start_time": "2022-04-25T17:03:51.861Z"
   },
   {
    "duration": 720,
    "start_time": "2022-04-25T17:03:51.901Z"
   },
   {
    "duration": 611,
    "start_time": "2022-04-25T17:03:52.624Z"
   },
   {
    "duration": 23,
    "start_time": "2022-04-25T17:03:53.237Z"
   },
   {
    "duration": 7054,
    "start_time": "2022-04-25T17:03:53.290Z"
   },
   {
    "duration": 51,
    "start_time": "2022-04-25T17:04:00.346Z"
   },
   {
    "duration": 11,
    "start_time": "2022-04-25T17:04:00.400Z"
   },
   {
    "duration": 151,
    "start_time": "2022-04-25T17:04:00.413Z"
   },
   {
    "duration": 30,
    "start_time": "2022-04-25T17:04:00.566Z"
   },
   {
    "duration": 74,
    "start_time": "2022-04-25T17:04:00.600Z"
   },
   {
    "duration": 12,
    "start_time": "2022-04-25T17:04:00.676Z"
   },
   {
    "duration": 82,
    "start_time": "2022-04-25T17:04:00.691Z"
   },
   {
    "duration": 64,
    "start_time": "2022-04-25T17:04:00.776Z"
   },
   {
    "duration": 54,
    "start_time": "2022-04-25T17:04:00.842Z"
   },
   {
    "duration": 33,
    "start_time": "2022-04-25T17:04:00.899Z"
   },
   {
    "duration": 63,
    "start_time": "2022-04-25T17:04:00.934Z"
   },
   {
    "duration": 16,
    "start_time": "2022-04-25T17:04:01.000Z"
   },
   {
    "duration": 88,
    "start_time": "2022-04-25T17:04:01.019Z"
   },
   {
    "duration": 39,
    "start_time": "2022-04-25T17:04:01.109Z"
   },
   {
    "duration": 2911,
    "start_time": "2022-04-25T17:04:01.150Z"
   },
   {
    "duration": 37,
    "start_time": "2022-04-25T17:04:04.064Z"
   },
   {
    "duration": 86,
    "start_time": "2022-04-25T17:04:04.104Z"
   },
   {
    "duration": 57,
    "start_time": "2022-04-25T17:04:04.193Z"
   },
   {
    "duration": 49,
    "start_time": "2022-04-25T17:04:04.252Z"
   },
   {
    "duration": 46,
    "start_time": "2022-04-25T17:04:04.306Z"
   },
   {
    "duration": 45,
    "start_time": "2022-04-25T17:09:39.311Z"
   },
   {
    "duration": 56,
    "start_time": "2022-04-25T17:10:00.963Z"
   },
   {
    "duration": 1463,
    "start_time": "2022-04-25T17:10:56.329Z"
   },
   {
    "duration": 283,
    "start_time": "2022-04-25T17:10:57.794Z"
   },
   {
    "duration": 252,
    "start_time": "2022-04-25T17:10:58.079Z"
   },
   {
    "duration": 156,
    "start_time": "2022-04-25T17:10:58.334Z"
   },
   {
    "duration": 40,
    "start_time": "2022-04-25T17:10:58.492Z"
   },
   {
    "duration": 40,
    "start_time": "2022-04-25T17:10:58.535Z"
   },
   {
    "duration": 392,
    "start_time": "2022-04-25T17:10:58.577Z"
   },
   {
    "duration": 605,
    "start_time": "2022-04-25T17:10:58.971Z"
   },
   {
    "duration": 243,
    "start_time": "2022-04-25T17:10:59.584Z"
   },
   {
    "duration": 607,
    "start_time": "2022-04-25T17:10:59.829Z"
   },
   {
    "duration": 288,
    "start_time": "2022-04-25T17:11:00.438Z"
   },
   {
    "duration": 308,
    "start_time": "2022-04-25T17:11:00.728Z"
   },
   {
    "duration": 41,
    "start_time": "2022-04-25T17:11:01.040Z"
   },
   {
    "duration": 45,
    "start_time": "2022-04-25T17:11:01.090Z"
   },
   {
    "duration": 55,
    "start_time": "2022-04-25T17:11:01.137Z"
   },
   {
    "duration": 6355,
    "start_time": "2022-04-25T17:11:01.195Z"
   },
   {
    "duration": 6,
    "start_time": "2022-04-25T17:11:07.554Z"
   },
   {
    "duration": 51,
    "start_time": "2022-04-25T17:11:07.563Z"
   },
   {
    "duration": 60,
    "start_time": "2022-04-25T17:11:07.616Z"
   },
   {
    "duration": 78,
    "start_time": "2022-04-25T17:11:07.678Z"
   },
   {
    "duration": 50,
    "start_time": "2022-04-25T17:11:07.758Z"
   },
   {
    "duration": 10,
    "start_time": "2022-04-25T17:11:07.810Z"
   },
   {
    "duration": 17,
    "start_time": "2022-04-25T17:11:07.822Z"
   },
   {
    "duration": 570,
    "start_time": "2022-04-25T17:11:07.841Z"
   },
   {
    "duration": 19,
    "start_time": "2022-04-25T17:11:08.413Z"
   },
   {
    "duration": 459,
    "start_time": "2022-04-25T17:11:08.435Z"
   },
   {
    "duration": 22,
    "start_time": "2022-04-25T17:11:08.896Z"
   },
   {
    "duration": 825,
    "start_time": "2022-04-25T17:11:08.921Z"
   },
   {
    "duration": 617,
    "start_time": "2022-04-25T17:11:09.748Z"
   },
   {
    "duration": 29,
    "start_time": "2022-04-25T17:11:10.367Z"
   },
   {
    "duration": 7331,
    "start_time": "2022-04-25T17:11:10.398Z"
   },
   {
    "duration": 38,
    "start_time": "2022-04-25T17:11:17.732Z"
   },
   {
    "duration": 20,
    "start_time": "2022-04-25T17:11:17.781Z"
   },
   {
    "duration": 146,
    "start_time": "2022-04-25T17:11:17.804Z"
   },
   {
    "duration": 15,
    "start_time": "2022-04-25T17:11:17.953Z"
   },
   {
    "duration": 65,
    "start_time": "2022-04-25T17:11:17.984Z"
   },
   {
    "duration": 7,
    "start_time": "2022-04-25T17:11:18.052Z"
   },
   {
    "duration": 69,
    "start_time": "2022-04-25T17:11:18.085Z"
   },
   {
    "duration": 76,
    "start_time": "2022-04-25T17:11:18.156Z"
   },
   {
    "duration": 65,
    "start_time": "2022-04-25T17:11:18.238Z"
   },
   {
    "duration": 33,
    "start_time": "2022-04-25T17:11:18.309Z"
   },
   {
    "duration": 66,
    "start_time": "2022-04-25T17:11:18.345Z"
   },
   {
    "duration": 14,
    "start_time": "2022-04-25T17:11:18.413Z"
   },
   {
    "duration": 83,
    "start_time": "2022-04-25T17:11:18.429Z"
   },
   {
    "duration": 37,
    "start_time": "2022-04-25T17:11:18.514Z"
   },
   {
    "duration": 2859,
    "start_time": "2022-04-25T17:11:18.553Z"
   },
   {
    "duration": 15,
    "start_time": "2022-04-25T17:11:21.414Z"
   },
   {
    "duration": 81,
    "start_time": "2022-04-25T17:11:21.430Z"
   },
   {
    "duration": 54,
    "start_time": "2022-04-25T17:11:21.514Z"
   },
   {
    "duration": 44,
    "start_time": "2022-04-25T17:11:21.570Z"
   },
   {
    "duration": 65,
    "start_time": "2022-04-25T17:11:21.616Z"
   },
   {
    "duration": 300,
    "start_time": "2022-04-25T17:22:52.404Z"
   },
   {
    "duration": 332,
    "start_time": "2022-04-25T17:54:29.365Z"
   },
   {
    "duration": 355,
    "start_time": "2022-04-25T17:54:33.969Z"
   },
   {
    "duration": 681,
    "start_time": "2022-04-25T17:55:54.693Z"
   },
   {
    "duration": 612,
    "start_time": "2022-04-25T17:56:16.999Z"
   },
   {
    "duration": 416,
    "start_time": "2022-04-25T17:56:42.216Z"
   },
   {
    "duration": 425,
    "start_time": "2022-04-25T17:56:48.973Z"
   },
   {
    "duration": 413,
    "start_time": "2022-04-25T17:56:52.669Z"
   },
   {
    "duration": 476,
    "start_time": "2022-04-25T17:58:36.933Z"
   },
   {
    "duration": 416,
    "start_time": "2022-04-25T17:59:00.678Z"
   },
   {
    "duration": 114,
    "start_time": "2022-04-25T17:59:26.945Z"
   },
   {
    "duration": 417,
    "start_time": "2022-04-25T17:59:33.243Z"
   },
   {
    "duration": 704,
    "start_time": "2022-04-25T17:59:59.117Z"
   },
   {
    "duration": 1398,
    "start_time": "2022-04-25T18:00:29.873Z"
   },
   {
    "duration": 600,
    "start_time": "2022-04-25T18:00:41.472Z"
   },
   {
    "duration": 408,
    "start_time": "2022-04-25T18:00:57.925Z"
   },
   {
    "duration": 650,
    "start_time": "2022-04-25T18:00:59.196Z"
   },
   {
    "duration": 646,
    "start_time": "2022-04-25T18:01:56.804Z"
   },
   {
    "duration": 255,
    "start_time": "2022-04-25T18:02:08.899Z"
   },
   {
    "duration": 443,
    "start_time": "2022-04-25T18:02:17.620Z"
   },
   {
    "duration": 442,
    "start_time": "2022-04-25T18:03:04.809Z"
   },
   {
    "duration": 327,
    "start_time": "2022-04-25T18:03:11.178Z"
   },
   {
    "duration": 387,
    "start_time": "2022-04-25T18:03:15.845Z"
   },
   {
    "duration": 42,
    "start_time": "2022-04-25T18:05:55.959Z"
   },
   {
    "duration": 52,
    "start_time": "2022-04-25T18:06:02.448Z"
   },
   {
    "duration": 47,
    "start_time": "2022-04-25T18:08:08.122Z"
   },
   {
    "duration": 354,
    "start_time": "2022-04-25T18:09:03.318Z"
   },
   {
    "duration": 304,
    "start_time": "2022-04-25T18:09:40.646Z"
   },
   {
    "duration": 571,
    "start_time": "2022-04-25T18:21:51.729Z"
   },
   {
    "duration": 784,
    "start_time": "2022-04-25T18:22:52.941Z"
   },
   {
    "duration": 1759,
    "start_time": "2022-04-25T18:23:22.996Z"
   },
   {
    "duration": 487,
    "start_time": "2022-04-25T18:23:45.643Z"
   },
   {
    "duration": 514,
    "start_time": "2022-04-25T18:25:40.550Z"
   },
   {
    "duration": 425,
    "start_time": "2022-04-25T18:26:21.693Z"
   },
   {
    "duration": 479,
    "start_time": "2022-04-25T18:26:26.231Z"
   },
   {
    "duration": 458,
    "start_time": "2022-04-25T18:27:49.921Z"
   },
   {
    "duration": 426,
    "start_time": "2022-04-25T18:27:56.711Z"
   },
   {
    "duration": 569,
    "start_time": "2022-04-25T18:28:27.029Z"
   },
   {
    "duration": 393,
    "start_time": "2022-04-25T18:29:51.906Z"
   },
   {
    "duration": 667,
    "start_time": "2022-04-25T18:30:07.690Z"
   },
   {
    "duration": 741,
    "start_time": "2022-04-25T18:31:05.602Z"
   },
   {
    "duration": 519,
    "start_time": "2022-04-25T18:32:03.146Z"
   },
   {
    "duration": 386,
    "start_time": "2022-04-25T18:33:23.225Z"
   },
   {
    "duration": 351,
    "start_time": "2022-04-25T18:33:46.816Z"
   },
   {
    "duration": 354,
    "start_time": "2022-04-25T18:34:05.069Z"
   },
   {
    "duration": 292,
    "start_time": "2022-04-25T18:36:23.180Z"
   },
   {
    "duration": 292,
    "start_time": "2022-04-25T18:37:25.146Z"
   },
   {
    "duration": 296,
    "start_time": "2022-04-25T18:37:40.345Z"
   },
   {
    "duration": 308,
    "start_time": "2022-04-25T18:38:11.167Z"
   },
   {
    "duration": 351,
    "start_time": "2022-04-25T18:38:14.136Z"
   },
   {
    "duration": 556,
    "start_time": "2022-04-25T18:38:43.683Z"
   },
   {
    "duration": 392,
    "start_time": "2022-04-25T18:38:54.524Z"
   },
   {
    "duration": 355,
    "start_time": "2022-04-25T18:39:29.083Z"
   },
   {
    "duration": 332,
    "start_time": "2022-04-25T18:41:09.820Z"
   },
   {
    "duration": 330,
    "start_time": "2022-04-25T18:41:16.767Z"
   },
   {
    "duration": 327,
    "start_time": "2022-04-25T18:42:05.111Z"
   },
   {
    "duration": 42,
    "start_time": "2022-04-25T19:52:19.466Z"
   },
   {
    "duration": 8,
    "start_time": "2022-04-25T19:52:59.926Z"
   },
   {
    "duration": 8,
    "start_time": "2022-04-25T19:53:09.986Z"
   },
   {
    "duration": 25,
    "start_time": "2022-04-25T19:53:42.007Z"
   },
   {
    "duration": 30,
    "start_time": "2022-04-25T19:57:25.306Z"
   },
   {
    "duration": 28,
    "start_time": "2022-04-25T19:57:43.056Z"
   },
   {
    "duration": 362,
    "start_time": "2022-04-25T19:58:40.847Z"
   },
   {
    "duration": 228,
    "start_time": "2022-04-25T19:59:35.282Z"
   },
   {
    "duration": 216,
    "start_time": "2022-04-25T20:00:45.506Z"
   },
   {
    "duration": 22,
    "start_time": "2022-04-25T20:01:27.481Z"
   },
   {
    "duration": 627,
    "start_time": "2022-04-25T20:01:34.054Z"
   },
   {
    "duration": 266,
    "start_time": "2022-04-25T20:04:18.695Z"
   },
   {
    "duration": 264,
    "start_time": "2022-04-25T20:04:41.459Z"
   },
   {
    "duration": 21,
    "start_time": "2022-04-25T20:13:45.004Z"
   },
   {
    "duration": 226,
    "start_time": "2022-04-25T20:16:34.334Z"
   },
   {
    "duration": 254,
    "start_time": "2022-04-25T20:16:51.094Z"
   },
   {
    "duration": 622,
    "start_time": "2022-04-25T20:17:04.995Z"
   },
   {
    "duration": 371,
    "start_time": "2022-04-25T20:17:15.002Z"
   },
   {
    "duration": 17,
    "start_time": "2022-04-25T20:18:08.360Z"
   },
   {
    "duration": 311,
    "start_time": "2022-04-25T20:24:24.034Z"
   },
   {
    "duration": 259,
    "start_time": "2022-04-25T20:24:41.934Z"
   },
   {
    "duration": 16,
    "start_time": "2022-04-25T20:29:47.635Z"
   },
   {
    "duration": 24,
    "start_time": "2022-04-25T20:29:52.263Z"
   },
   {
    "duration": 32,
    "start_time": "2022-04-25T20:31:10.008Z"
   },
   {
    "duration": 11,
    "start_time": "2022-04-25T20:32:00.127Z"
   },
   {
    "duration": 240,
    "start_time": "2022-04-25T20:32:02.747Z"
   },
   {
    "duration": 447,
    "start_time": "2022-04-25T20:32:32.656Z"
   },
   {
    "duration": 35,
    "start_time": "2022-04-25T20:33:15.065Z"
   },
   {
    "duration": 452,
    "start_time": "2022-04-25T20:33:18.507Z"
   },
   {
    "duration": 39,
    "start_time": "2022-04-25T20:34:50.380Z"
   },
   {
    "duration": 26,
    "start_time": "2022-04-25T20:35:03.148Z"
   },
   {
    "duration": 166,
    "start_time": "2022-04-25T20:35:48.461Z"
   },
   {
    "duration": 472,
    "start_time": "2022-04-25T20:35:52.146Z"
   },
   {
    "duration": 151,
    "start_time": "2022-04-25T20:36:01.199Z"
   },
   {
    "duration": 26,
    "start_time": "2022-04-25T20:36:26.141Z"
   },
   {
    "duration": 26,
    "start_time": "2022-04-25T20:36:28.139Z"
   },
   {
    "duration": 457,
    "start_time": "2022-04-25T20:36:33.420Z"
   },
   {
    "duration": 151,
    "start_time": "2022-04-25T20:36:35.912Z"
   },
   {
    "duration": 145,
    "start_time": "2022-04-25T20:36:45.212Z"
   },
   {
    "duration": 29,
    "start_time": "2022-04-25T20:37:27.598Z"
   },
   {
    "duration": 25,
    "start_time": "2022-04-25T20:38:42.305Z"
   },
   {
    "duration": 14,
    "start_time": "2022-04-25T20:40:15.883Z"
   },
   {
    "duration": 10,
    "start_time": "2022-04-25T20:40:21.959Z"
   },
   {
    "duration": 15,
    "start_time": "2022-04-25T20:43:10.553Z"
   },
   {
    "duration": 520,
    "start_time": "2022-04-25T20:45:54.427Z"
   },
   {
    "duration": 21,
    "start_time": "2022-04-25T20:47:32.604Z"
   },
   {
    "duration": 28,
    "start_time": "2022-04-25T20:48:30.200Z"
   },
   {
    "duration": 16,
    "start_time": "2022-04-25T20:49:45.628Z"
   },
   {
    "duration": 25,
    "start_time": "2022-04-25T20:49:50.966Z"
   },
   {
    "duration": 16,
    "start_time": "2022-04-25T20:49:52.268Z"
   },
   {
    "duration": 127,
    "start_time": "2022-04-25T20:50:57.966Z"
   },
   {
    "duration": 11,
    "start_time": "2022-04-25T20:51:26.201Z"
   },
   {
    "duration": 9,
    "start_time": "2022-04-25T20:51:49.750Z"
   },
   {
    "duration": 10,
    "start_time": "2022-04-25T20:52:01.847Z"
   },
   {
    "duration": 15,
    "start_time": "2022-04-25T20:52:06.364Z"
   },
   {
    "duration": 22,
    "start_time": "2022-04-25T20:53:38.292Z"
   },
   {
    "duration": 10,
    "start_time": "2022-04-25T20:53:40.191Z"
   },
   {
    "duration": 28,
    "start_time": "2022-04-25T20:55:19.739Z"
   },
   {
    "duration": 19,
    "start_time": "2022-04-25T20:59:01.196Z"
   },
   {
    "duration": 33,
    "start_time": "2022-04-25T20:59:48.194Z"
   },
   {
    "duration": 374,
    "start_time": "2022-04-25T21:01:53.826Z"
   },
   {
    "duration": 225,
    "start_time": "2022-04-25T21:02:01.666Z"
   },
   {
    "duration": 239,
    "start_time": "2022-04-25T21:02:07.737Z"
   },
   {
    "duration": 291,
    "start_time": "2022-04-25T21:02:20.646Z"
   },
   {
    "duration": 264,
    "start_time": "2022-04-25T21:02:25.874Z"
   },
   {
    "duration": 279,
    "start_time": "2022-04-25T21:02:35.062Z"
   },
   {
    "duration": 32,
    "start_time": "2022-04-25T21:06:29.942Z"
   },
   {
    "duration": 562,
    "start_time": "2022-04-25T21:06:45.812Z"
   },
   {
    "duration": 273,
    "start_time": "2022-04-25T21:07:02.674Z"
   },
   {
    "duration": 270,
    "start_time": "2022-04-25T21:08:17.182Z"
   },
   {
    "duration": 260,
    "start_time": "2022-04-25T21:08:27.467Z"
   },
   {
    "duration": 292,
    "start_time": "2022-04-25T21:08:46.194Z"
   },
   {
    "duration": 46,
    "start_time": "2022-04-25T21:13:12.781Z"
   },
   {
    "duration": 42,
    "start_time": "2022-04-25T21:14:09.046Z"
   },
   {
    "duration": 17,
    "start_time": "2022-04-25T21:15:12.509Z"
   },
   {
    "duration": 44,
    "start_time": "2022-04-25T21:15:22.575Z"
   },
   {
    "duration": 16,
    "start_time": "2022-04-25T21:15:53.938Z"
   },
   {
    "duration": 18,
    "start_time": "2022-04-25T21:16:53.996Z"
   },
   {
    "duration": 17,
    "start_time": "2022-04-25T21:16:59.554Z"
   },
   {
    "duration": 14,
    "start_time": "2022-04-25T21:17:07.956Z"
   },
   {
    "duration": 31,
    "start_time": "2022-04-25T21:17:14.015Z"
   },
   {
    "duration": 285,
    "start_time": "2022-04-25T21:17:50.155Z"
   },
   {
    "duration": 9,
    "start_time": "2022-04-25T21:18:20.407Z"
   },
   {
    "duration": 7,
    "start_time": "2022-04-25T21:18:30.848Z"
   },
   {
    "duration": 11,
    "start_time": "2022-04-25T21:18:37.611Z"
   },
   {
    "duration": 329,
    "start_time": "2022-04-25T21:19:06.746Z"
   },
   {
    "duration": 53,
    "start_time": "2022-04-26T04:00:09.427Z"
   },
   {
    "duration": 1386,
    "start_time": "2022-04-26T04:00:23.137Z"
   },
   {
    "duration": 202,
    "start_time": "2022-04-26T04:00:24.525Z"
   },
   {
    "duration": 166,
    "start_time": "2022-04-26T04:00:24.733Z"
   },
   {
    "duration": 114,
    "start_time": "2022-04-26T04:00:24.901Z"
   },
   {
    "duration": 29,
    "start_time": "2022-04-26T04:00:25.017Z"
   },
   {
    "duration": 53,
    "start_time": "2022-04-26T04:00:25.048Z"
   },
   {
    "duration": 255,
    "start_time": "2022-04-26T04:00:25.103Z"
   },
   {
    "duration": 396,
    "start_time": "2022-04-26T04:00:25.359Z"
   },
   {
    "duration": 161,
    "start_time": "2022-04-26T04:00:25.757Z"
   },
   {
    "duration": 388,
    "start_time": "2022-04-26T04:00:25.921Z"
   },
   {
    "duration": 189,
    "start_time": "2022-04-26T04:00:26.311Z"
   },
   {
    "duration": 205,
    "start_time": "2022-04-26T04:00:26.501Z"
   },
   {
    "duration": 31,
    "start_time": "2022-04-26T04:00:26.708Z"
   },
   {
    "duration": 34,
    "start_time": "2022-04-26T04:00:26.741Z"
   },
   {
    "duration": 26,
    "start_time": "2022-04-26T04:00:26.777Z"
   },
   {
    "duration": 4471,
    "start_time": "2022-04-26T04:00:26.805Z"
   },
   {
    "duration": 5,
    "start_time": "2022-04-26T04:00:31.277Z"
   },
   {
    "duration": 20,
    "start_time": "2022-04-26T04:00:31.284Z"
   },
   {
    "duration": 48,
    "start_time": "2022-04-26T04:00:31.306Z"
   },
   {
    "duration": 51,
    "start_time": "2022-04-26T04:00:31.355Z"
   },
   {
    "duration": 36,
    "start_time": "2022-04-26T04:00:31.408Z"
   },
   {
    "duration": 20,
    "start_time": "2022-04-26T04:00:31.446Z"
   },
   {
    "duration": 17,
    "start_time": "2022-04-26T04:00:31.468Z"
   },
   {
    "duration": 283,
    "start_time": "2022-04-26T04:00:31.486Z"
   },
   {
    "duration": 14,
    "start_time": "2022-04-26T04:00:31.771Z"
   },
   {
    "duration": 283,
    "start_time": "2022-04-26T04:00:31.787Z"
   },
   {
    "duration": 16,
    "start_time": "2022-04-26T04:00:32.072Z"
   },
   {
    "duration": 495,
    "start_time": "2022-04-26T04:00:32.093Z"
   },
   {
    "duration": 390,
    "start_time": "2022-04-26T04:00:32.589Z"
   },
   {
    "duration": 16,
    "start_time": "2022-04-26T04:00:32.981Z"
   },
   {
    "duration": 4518,
    "start_time": "2022-04-26T04:00:32.999Z"
   },
   {
    "duration": 36,
    "start_time": "2022-04-26T04:00:37.519Z"
   },
   {
    "duration": 7,
    "start_time": "2022-04-26T04:00:37.556Z"
   },
   {
    "duration": 114,
    "start_time": "2022-04-26T04:00:37.565Z"
   },
   {
    "duration": 8,
    "start_time": "2022-04-26T04:00:37.681Z"
   },
   {
    "duration": 57,
    "start_time": "2022-04-26T04:00:37.691Z"
   },
   {
    "duration": 5,
    "start_time": "2022-04-26T04:00:37.750Z"
   },
   {
    "duration": 52,
    "start_time": "2022-04-26T04:00:37.757Z"
   },
   {
    "duration": 58,
    "start_time": "2022-04-26T04:00:37.811Z"
   },
   {
    "duration": 22,
    "start_time": "2022-04-26T04:00:37.870Z"
   },
   {
    "duration": 48,
    "start_time": "2022-04-26T04:00:37.894Z"
   },
   {
    "duration": 28,
    "start_time": "2022-04-26T04:00:37.944Z"
   },
   {
    "duration": 9,
    "start_time": "2022-04-26T04:00:37.974Z"
   },
   {
    "duration": 69,
    "start_time": "2022-04-26T04:00:37.985Z"
   },
   {
    "duration": 27,
    "start_time": "2022-04-26T04:00:38.056Z"
   },
   {
    "duration": 1502,
    "start_time": "2022-04-26T04:00:38.085Z"
   },
   {
    "duration": 9,
    "start_time": "2022-04-26T04:00:39.589Z"
   },
   {
    "duration": 45,
    "start_time": "2022-04-26T04:00:39.600Z"
   },
   {
    "duration": 35,
    "start_time": "2022-04-26T04:00:39.647Z"
   },
   {
    "duration": 16,
    "start_time": "2022-04-26T04:00:39.684Z"
   },
   {
    "duration": 51,
    "start_time": "2022-04-26T04:00:39.702Z"
   },
   {
    "duration": 283,
    "start_time": "2022-04-26T04:00:39.755Z"
   },
   {
    "duration": 274,
    "start_time": "2022-04-26T04:00:40.040Z"
   },
   {
    "duration": 507,
    "start_time": "2022-04-26T04:00:40.316Z"
   },
   {
    "duration": 277,
    "start_time": "2022-04-26T04:00:40.825Z"
   },
   {
    "duration": 205,
    "start_time": "2022-04-26T04:00:41.104Z"
   },
   {
    "duration": 209,
    "start_time": "2022-04-26T04:00:41.311Z"
   },
   {
    "duration": 249,
    "start_time": "2022-04-26T04:00:41.522Z"
   },
   {
    "duration": 206,
    "start_time": "2022-04-26T04:00:41.773Z"
   },
   {
    "duration": 31,
    "start_time": "2022-04-26T04:00:41.981Z"
   },
   {
    "duration": 22,
    "start_time": "2022-04-26T04:00:42.033Z"
   },
   {
    "duration": 18,
    "start_time": "2022-04-26T04:00:42.058Z"
   },
   {
    "duration": 206,
    "start_time": "2022-04-26T04:00:42.078Z"
   },
   {
    "duration": 238,
    "start_time": "2022-04-26T04:00:42.286Z"
   },
   {
    "duration": 180,
    "start_time": "2022-04-26T04:00:42.526Z"
   },
   {
    "duration": 27,
    "start_time": "2022-04-26T04:00:42.708Z"
   },
   {
    "duration": 18,
    "start_time": "2022-04-26T04:00:42.737Z"
   },
   {
    "duration": 352,
    "start_time": "2022-04-26T04:00:42.758Z"
   },
   {
    "duration": 31,
    "start_time": "2022-04-26T04:00:43.112Z"
   },
   {
    "duration": 15,
    "start_time": "2022-04-26T04:00:43.145Z"
   },
   {
    "duration": 183,
    "start_time": "2022-04-26T04:00:43.162Z"
   },
   {
    "duration": 194,
    "start_time": "2022-04-26T04:00:43.347Z"
   },
   {
    "duration": 10,
    "start_time": "2022-04-26T04:00:43.543Z"
   },
   {
    "duration": 5,
    "start_time": "2022-04-26T04:00:43.554Z"
   },
   {
    "duration": 12,
    "start_time": "2022-04-26T04:02:56.851Z"
   },
   {
    "duration": 21,
    "start_time": "2022-04-26T04:28:33.563Z"
   },
   {
    "duration": 23,
    "start_time": "2022-04-26T04:28:40.698Z"
   },
   {
    "duration": 23,
    "start_time": "2022-04-26T04:29:14.948Z"
   },
   {
    "duration": 15,
    "start_time": "2022-04-26T04:58:39.747Z"
   },
   {
    "duration": 13,
    "start_time": "2022-04-26T04:59:03.456Z"
   },
   {
    "duration": 16,
    "start_time": "2022-04-26T04:59:23.450Z"
   },
   {
    "duration": 2845,
    "start_time": "2022-04-26T05:00:12.737Z"
   },
   {
    "duration": 2703,
    "start_time": "2022-04-26T05:02:11.548Z"
   },
   {
    "duration": 18,
    "start_time": "2022-04-26T05:02:49.963Z"
   },
   {
    "duration": 19,
    "start_time": "2022-04-26T05:03:14.891Z"
   },
   {
    "duration": 13,
    "start_time": "2022-04-26T05:03:21.301Z"
   },
   {
    "duration": 12,
    "start_time": "2022-04-26T05:03:31.929Z"
   },
   {
    "duration": 12,
    "start_time": "2022-04-26T05:03:35.641Z"
   },
   {
    "duration": 17,
    "start_time": "2022-04-26T05:03:37.042Z"
   },
   {
    "duration": 16,
    "start_time": "2022-04-26T05:03:48.745Z"
   },
   {
    "duration": 36,
    "start_time": "2022-04-26T05:05:17.828Z"
   },
   {
    "duration": 2926,
    "start_time": "2022-04-26T05:06:01.458Z"
   },
   {
    "duration": 32,
    "start_time": "2022-04-26T05:06:14.161Z"
   },
   {
    "duration": 29,
    "start_time": "2022-04-26T05:06:25.957Z"
   },
   {
    "duration": 379,
    "start_time": "2022-04-26T06:54:12.861Z"
   },
   {
    "duration": 9,
    "start_time": "2022-04-26T06:54:21.823Z"
   },
   {
    "duration": 11,
    "start_time": "2022-04-26T06:54:31.070Z"
   },
   {
    "duration": 16,
    "start_time": "2022-04-26T06:54:59.293Z"
   },
   {
    "duration": 22,
    "start_time": "2022-04-26T06:55:34.130Z"
   },
   {
    "duration": 16,
    "start_time": "2022-04-26T06:55:50.404Z"
   },
   {
    "duration": 2909,
    "start_time": "2022-04-26T06:56:40.305Z"
   },
   {
    "duration": 16,
    "start_time": "2022-04-26T06:56:55.675Z"
   },
   {
    "duration": 24,
    "start_time": "2022-04-26T06:57:10.328Z"
   },
   {
    "duration": 16,
    "start_time": "2022-04-26T06:58:24.651Z"
   },
   {
    "duration": 1230,
    "start_time": "2022-04-26T07:20:40.031Z"
   },
   {
    "duration": 200,
    "start_time": "2022-04-26T07:20:41.263Z"
   },
   {
    "duration": 169,
    "start_time": "2022-04-26T07:20:41.465Z"
   },
   {
    "duration": 116,
    "start_time": "2022-04-26T07:20:41.636Z"
   },
   {
    "duration": 29,
    "start_time": "2022-04-26T07:20:41.754Z"
   },
   {
    "duration": 52,
    "start_time": "2022-04-26T07:20:41.785Z"
   },
   {
    "duration": 265,
    "start_time": "2022-04-26T07:20:41.839Z"
   },
   {
    "duration": 395,
    "start_time": "2022-04-26T07:20:42.106Z"
   },
   {
    "duration": 160,
    "start_time": "2022-04-26T07:20:42.502Z"
   },
   {
    "duration": 388,
    "start_time": "2022-04-26T07:20:42.666Z"
   },
   {
    "duration": 189,
    "start_time": "2022-04-26T07:20:43.057Z"
   },
   {
    "duration": 207,
    "start_time": "2022-04-26T07:20:43.248Z"
   },
   {
    "duration": 23,
    "start_time": "2022-04-26T07:20:43.457Z"
   },
   {
    "duration": 51,
    "start_time": "2022-04-26T07:20:43.482Z"
   },
   {
    "duration": 24,
    "start_time": "2022-04-26T07:20:43.535Z"
   },
   {
    "duration": 4430,
    "start_time": "2022-04-26T07:20:43.561Z"
   },
   {
    "duration": 6,
    "start_time": "2022-04-26T07:20:47.993Z"
   },
   {
    "duration": 22,
    "start_time": "2022-04-26T07:20:48.001Z"
   },
   {
    "duration": 38,
    "start_time": "2022-04-26T07:20:48.034Z"
   },
   {
    "duration": 59,
    "start_time": "2022-04-26T07:20:48.074Z"
   },
   {
    "duration": 18,
    "start_time": "2022-04-26T07:20:48.135Z"
   },
   {
    "duration": 13,
    "start_time": "2022-04-26T07:20:48.154Z"
   },
   {
    "duration": 15,
    "start_time": "2022-04-26T07:20:48.168Z"
   },
   {
    "duration": 317,
    "start_time": "2022-04-26T07:20:48.185Z"
   },
   {
    "duration": 17,
    "start_time": "2022-04-26T07:20:48.504Z"
   },
   {
    "duration": 271,
    "start_time": "2022-04-26T07:20:48.534Z"
   },
   {
    "duration": 27,
    "start_time": "2022-04-26T07:20:48.807Z"
   },
   {
    "duration": 497,
    "start_time": "2022-04-26T07:20:48.839Z"
   },
   {
    "duration": 396,
    "start_time": "2022-04-26T07:20:49.337Z"
   },
   {
    "duration": 16,
    "start_time": "2022-04-26T07:20:49.735Z"
   },
   {
    "duration": 4698,
    "start_time": "2022-04-26T07:20:49.753Z"
   },
   {
    "duration": 34,
    "start_time": "2022-04-26T07:20:54.453Z"
   },
   {
    "duration": 7,
    "start_time": "2022-04-26T07:20:54.489Z"
   },
   {
    "duration": 120,
    "start_time": "2022-04-26T07:20:54.497Z"
   },
   {
    "duration": 15,
    "start_time": "2022-04-26T07:20:54.619Z"
   },
   {
    "duration": 46,
    "start_time": "2022-04-26T07:20:54.636Z"
   },
   {
    "duration": 5,
    "start_time": "2022-04-26T07:20:54.684Z"
   },
   {
    "duration": 70,
    "start_time": "2022-04-26T07:20:54.691Z"
   },
   {
    "duration": 43,
    "start_time": "2022-04-26T07:20:54.762Z"
   },
   {
    "duration": 38,
    "start_time": "2022-04-26T07:20:54.806Z"
   },
   {
    "duration": 24,
    "start_time": "2022-04-26T07:20:54.846Z"
   },
   {
    "duration": 27,
    "start_time": "2022-04-26T07:20:54.872Z"
   },
   {
    "duration": 34,
    "start_time": "2022-04-26T07:20:54.901Z"
   },
   {
    "duration": 40,
    "start_time": "2022-04-26T07:20:54.937Z"
   },
   {
    "duration": 29,
    "start_time": "2022-04-26T07:20:54.978Z"
   },
   {
    "duration": 1434,
    "start_time": "2022-04-26T07:20:55.033Z"
   },
   {
    "duration": 9,
    "start_time": "2022-04-26T07:20:56.469Z"
   },
   {
    "duration": 34,
    "start_time": "2022-04-26T07:20:56.480Z"
   },
   {
    "duration": 50,
    "start_time": "2022-04-26T07:20:56.516Z"
   },
   {
    "duration": 16,
    "start_time": "2022-04-26T07:20:56.568Z"
   },
   {
    "duration": 52,
    "start_time": "2022-04-26T07:20:56.586Z"
   },
   {
    "duration": 286,
    "start_time": "2022-04-26T07:20:56.640Z"
   },
   {
    "duration": 275,
    "start_time": "2022-04-26T07:20:56.934Z"
   },
   {
    "duration": 537,
    "start_time": "2022-04-26T07:20:57.210Z"
   },
   {
    "duration": 270,
    "start_time": "2022-04-26T07:20:57.749Z"
   },
   {
    "duration": 212,
    "start_time": "2022-04-26T07:20:58.021Z"
   },
   {
    "duration": 200,
    "start_time": "2022-04-26T07:20:58.235Z"
   },
   {
    "duration": 243,
    "start_time": "2022-04-26T07:20:58.437Z"
   },
   {
    "duration": 205,
    "start_time": "2022-04-26T07:20:58.681Z"
   },
   {
    "duration": 30,
    "start_time": "2022-04-26T07:20:58.887Z"
   },
   {
    "duration": 35,
    "start_time": "2022-04-26T07:20:58.918Z"
   },
   {
    "duration": 20,
    "start_time": "2022-04-26T07:20:58.955Z"
   },
   {
    "duration": 207,
    "start_time": "2022-04-26T07:20:58.976Z"
   },
   {
    "duration": 238,
    "start_time": "2022-04-26T07:20:59.185Z"
   },
   {
    "duration": 190,
    "start_time": "2022-04-26T07:20:59.425Z"
   },
   {
    "duration": 27,
    "start_time": "2022-04-26T07:20:59.617Z"
   },
   {
    "duration": 19,
    "start_time": "2022-04-26T07:20:59.645Z"
   },
   {
    "duration": 359,
    "start_time": "2022-04-26T07:20:59.665Z"
   },
   {
    "duration": 29,
    "start_time": "2022-04-26T07:21:00.026Z"
   },
   {
    "duration": 15,
    "start_time": "2022-04-26T07:21:00.057Z"
   },
   {
    "duration": 197,
    "start_time": "2022-04-26T07:21:00.073Z"
   },
   {
    "duration": 200,
    "start_time": "2022-04-26T07:21:00.271Z"
   },
   {
    "duration": 12,
    "start_time": "2022-04-26T07:21:00.473Z"
   },
   {
    "duration": 50,
    "start_time": "2022-04-26T07:21:00.487Z"
   },
   {
    "duration": 16,
    "start_time": "2022-04-26T07:21:00.539Z"
   },
   {
    "duration": 76,
    "start_time": "2022-05-02T09:21:37.967Z"
   },
   {
    "duration": 1662,
    "start_time": "2022-05-02T09:21:44.557Z"
   },
   {
    "duration": 381,
    "start_time": "2022-05-02T09:21:47.635Z"
   },
   {
    "duration": 84,
    "start_time": "2022-05-02T09:25:10.795Z"
   },
   {
    "duration": 5,
    "start_time": "2022-05-02T09:25:19.493Z"
   },
   {
    "duration": 285,
    "start_time": "2022-05-02T09:25:19.500Z"
   },
   {
    "duration": 219,
    "start_time": "2022-05-02T09:25:19.787Z"
   },
   {
    "duration": 147,
    "start_time": "2022-05-02T09:25:20.009Z"
   },
   {
    "duration": 29,
    "start_time": "2022-05-02T09:25:20.158Z"
   },
   {
    "duration": 38,
    "start_time": "2022-05-02T09:25:20.189Z"
   },
   {
    "duration": 358,
    "start_time": "2022-05-02T09:25:20.229Z"
   },
   {
    "duration": 582,
    "start_time": "2022-05-02T09:25:20.590Z"
   },
   {
    "duration": 223,
    "start_time": "2022-05-02T09:25:21.175Z"
   },
   {
    "duration": 540,
    "start_time": "2022-05-02T09:25:21.400Z"
   },
   {
    "duration": 261,
    "start_time": "2022-05-02T09:25:21.944Z"
   },
   {
    "duration": 275,
    "start_time": "2022-05-02T09:25:22.207Z"
   },
   {
    "duration": 29,
    "start_time": "2022-05-02T09:25:22.484Z"
   },
   {
    "duration": 56,
    "start_time": "2022-05-02T09:25:22.515Z"
   },
   {
    "duration": 30,
    "start_time": "2022-05-02T09:25:22.573Z"
   },
   {
    "duration": 6072,
    "start_time": "2022-05-02T09:25:22.606Z"
   },
   {
    "duration": 8,
    "start_time": "2022-05-02T09:25:28.680Z"
   },
   {
    "duration": 30,
    "start_time": "2022-05-02T09:25:28.691Z"
   },
   {
    "duration": 73,
    "start_time": "2022-05-02T09:25:28.725Z"
   },
   {
    "duration": 76,
    "start_time": "2022-05-02T09:25:28.800Z"
   },
   {
    "duration": 24,
    "start_time": "2022-05-02T09:25:28.878Z"
   },
   {
    "duration": 12,
    "start_time": "2022-05-02T09:25:28.904Z"
   },
   {
    "duration": 37,
    "start_time": "2022-05-02T09:25:28.918Z"
   },
   {
    "duration": 500,
    "start_time": "2022-05-02T09:25:28.957Z"
   },
   {
    "duration": 17,
    "start_time": "2022-05-02T09:25:29.459Z"
   },
   {
    "duration": 395,
    "start_time": "2022-05-02T09:25:29.478Z"
   },
   {
    "duration": 19,
    "start_time": "2022-05-02T09:25:29.875Z"
   },
   {
    "duration": 660,
    "start_time": "2022-05-02T09:25:29.896Z"
   },
   {
    "duration": 551,
    "start_time": "2022-05-02T09:25:30.561Z"
   },
   {
    "duration": 21,
    "start_time": "2022-05-02T09:25:31.114Z"
   },
   {
    "duration": 6668,
    "start_time": "2022-05-02T09:25:31.152Z"
   },
   {
    "duration": 43,
    "start_time": "2022-05-02T09:25:37.822Z"
   },
   {
    "duration": 10,
    "start_time": "2022-05-02T09:25:37.867Z"
   },
   {
    "duration": 156,
    "start_time": "2022-05-02T09:25:37.878Z"
   },
   {
    "duration": 20,
    "start_time": "2022-05-02T09:25:38.037Z"
   },
   {
    "duration": 60,
    "start_time": "2022-05-02T09:25:38.060Z"
   },
   {
    "duration": 35,
    "start_time": "2022-05-02T09:25:38.122Z"
   },
   {
    "duration": 71,
    "start_time": "2022-05-02T09:25:38.160Z"
   },
   {
    "duration": 74,
    "start_time": "2022-05-02T09:25:38.234Z"
   },
   {
    "duration": 47,
    "start_time": "2022-05-02T09:25:38.310Z"
   },
   {
    "duration": 33,
    "start_time": "2022-05-02T09:25:38.360Z"
   },
   {
    "duration": 63,
    "start_time": "2022-05-02T09:25:38.395Z"
   },
   {
    "duration": 15,
    "start_time": "2022-05-02T09:25:38.461Z"
   },
   {
    "duration": 91,
    "start_time": "2022-05-02T09:25:38.479Z"
   },
   {
    "duration": 39,
    "start_time": "2022-05-02T09:25:38.572Z"
   },
   {
    "duration": 2789,
    "start_time": "2022-05-02T09:25:38.614Z"
   },
   {
    "duration": 14,
    "start_time": "2022-05-02T09:25:41.405Z"
   },
   {
    "duration": 75,
    "start_time": "2022-05-02T09:25:41.421Z"
   },
   {
    "duration": 64,
    "start_time": "2022-05-02T09:25:41.498Z"
   },
   {
    "duration": 25,
    "start_time": "2022-05-02T09:25:41.568Z"
   },
   {
    "duration": 57,
    "start_time": "2022-05-02T09:25:41.596Z"
   },
   {
    "duration": 413,
    "start_time": "2022-05-02T09:25:41.658Z"
   },
   {
    "duration": 401,
    "start_time": "2022-05-02T09:25:42.073Z"
   },
   {
    "duration": 837,
    "start_time": "2022-05-02T09:25:46.271Z"
   },
   {
    "duration": 595,
    "start_time": "2022-05-02T09:25:58.265Z"
   },
   {
    "duration": 608,
    "start_time": "2022-05-02T09:26:08.177Z"
   },
   {
    "duration": 5,
    "start_time": "2022-05-02T09:27:53.967Z"
   },
   {
    "duration": 296,
    "start_time": "2022-05-02T09:27:53.975Z"
   },
   {
    "duration": 221,
    "start_time": "2022-05-02T09:27:54.274Z"
   },
   {
    "duration": 153,
    "start_time": "2022-05-02T09:27:54.498Z"
   },
   {
    "duration": 33,
    "start_time": "2022-05-02T09:27:54.655Z"
   },
   {
    "duration": 42,
    "start_time": "2022-05-02T09:27:54.690Z"
   },
   {
    "duration": 357,
    "start_time": "2022-05-02T09:27:54.734Z"
   },
   {
    "duration": 597,
    "start_time": "2022-05-02T09:27:55.093Z"
   },
   {
    "duration": 236,
    "start_time": "2022-05-02T09:27:55.692Z"
   },
   {
    "duration": 582,
    "start_time": "2022-05-02T09:27:55.931Z"
   },
   {
    "duration": 278,
    "start_time": "2022-05-02T09:27:56.517Z"
   },
   {
    "duration": 562,
    "start_time": "2022-05-02T09:27:56.798Z"
   },
   {
    "duration": 33,
    "start_time": "2022-05-02T09:27:57.362Z"
   },
   {
    "duration": 66,
    "start_time": "2022-05-02T09:27:57.398Z"
   },
   {
    "duration": 35,
    "start_time": "2022-05-02T09:27:57.467Z"
   },
   {
    "duration": 6490,
    "start_time": "2022-05-02T09:27:57.504Z"
   },
   {
    "duration": 6,
    "start_time": "2022-05-02T09:28:03.996Z"
   },
   {
    "duration": 25,
    "start_time": "2022-05-02T09:28:04.005Z"
   },
   {
    "duration": 77,
    "start_time": "2022-05-02T09:28:04.059Z"
   },
   {
    "duration": 123,
    "start_time": "2022-05-02T09:28:04.139Z"
   },
   {
    "duration": 41,
    "start_time": "2022-05-02T09:28:04.266Z"
   },
   {
    "duration": 8,
    "start_time": "2022-05-02T09:28:04.310Z"
   },
   {
    "duration": 44,
    "start_time": "2022-05-02T09:28:04.320Z"
   },
   {
    "duration": 469,
    "start_time": "2022-05-02T09:28:04.369Z"
   },
   {
    "duration": 29,
    "start_time": "2022-05-02T09:28:04.840Z"
   },
   {
    "duration": 285,
    "start_time": "2022-05-02T09:28:04.870Z"
   },
   {
    "duration": 27,
    "start_time": "2022-05-02T09:28:05.158Z"
   },
   {
    "duration": 780,
    "start_time": "2022-05-02T09:28:05.187Z"
   },
   {
    "duration": 595,
    "start_time": "2022-05-02T09:28:05.973Z"
   },
   {
    "duration": 21,
    "start_time": "2022-05-02T09:28:06.571Z"
   },
   {
    "duration": 7257,
    "start_time": "2022-05-02T09:28:06.594Z"
   },
   {
    "duration": 36,
    "start_time": "2022-05-02T09:28:13.854Z"
   },
   {
    "duration": 9,
    "start_time": "2022-05-02T09:28:13.893Z"
   },
   {
    "duration": 166,
    "start_time": "2022-05-02T09:28:13.904Z"
   },
   {
    "duration": 12,
    "start_time": "2022-05-02T09:28:14.072Z"
   },
   {
    "duration": 84,
    "start_time": "2022-05-02T09:28:14.086Z"
   },
   {
    "duration": 7,
    "start_time": "2022-05-02T09:28:14.173Z"
   },
   {
    "duration": 81,
    "start_time": "2022-05-02T09:28:14.182Z"
   },
   {
    "duration": 50,
    "start_time": "2022-05-02T09:28:14.266Z"
   },
   {
    "duration": 64,
    "start_time": "2022-05-02T09:28:14.318Z"
   },
   {
    "duration": 33,
    "start_time": "2022-05-02T09:28:14.384Z"
   },
   {
    "duration": 62,
    "start_time": "2022-05-02T09:28:14.419Z"
   },
   {
    "duration": 15,
    "start_time": "2022-05-02T09:28:14.483Z"
   },
   {
    "duration": 84,
    "start_time": "2022-05-02T09:28:14.500Z"
   },
   {
    "duration": 37,
    "start_time": "2022-05-02T09:28:14.586Z"
   },
   {
    "duration": 2743,
    "start_time": "2022-05-02T09:28:14.625Z"
   },
   {
    "duration": 16,
    "start_time": "2022-05-02T09:28:17.370Z"
   },
   {
    "duration": 76,
    "start_time": "2022-05-02T09:28:17.389Z"
   },
   {
    "duration": 86,
    "start_time": "2022-05-02T09:28:17.468Z"
   },
   {
    "duration": 35,
    "start_time": "2022-05-02T09:28:17.557Z"
   },
   {
    "duration": 81,
    "start_time": "2022-05-02T09:28:17.595Z"
   },
   {
    "duration": 436,
    "start_time": "2022-05-02T09:28:17.679Z"
   },
   {
    "duration": 510,
    "start_time": "2022-05-02T09:28:18.117Z"
   },
   {
    "duration": 1030,
    "start_time": "2022-05-02T09:28:18.629Z"
   },
   {
    "duration": 441,
    "start_time": "2022-05-02T09:28:19.662Z"
   },
   {
    "duration": 415,
    "start_time": "2022-05-02T09:28:20.107Z"
   },
   {
    "duration": 314,
    "start_time": "2022-05-02T09:28:20.525Z"
   },
   {
    "duration": 304,
    "start_time": "2022-05-02T09:28:20.841Z"
   },
   {
    "duration": 356,
    "start_time": "2022-05-02T09:28:21.151Z"
   },
   {
    "duration": 303,
    "start_time": "2022-05-02T09:28:21.509Z"
   },
   {
    "duration": 42,
    "start_time": "2022-05-02T09:35:14.005Z"
   },
   {
    "duration": 35,
    "start_time": "2022-05-02T09:35:18.847Z"
   },
   {
    "duration": 44,
    "start_time": "2022-05-02T09:35:35.398Z"
   },
   {
    "duration": 257,
    "start_time": "2022-05-02T09:36:03.364Z"
   },
   {
    "duration": 245,
    "start_time": "2022-05-02T09:36:07.697Z"
   },
   {
    "duration": 244,
    "start_time": "2022-05-02T09:39:17.581Z"
   },
   {
    "duration": 244,
    "start_time": "2022-05-02T09:39:47.868Z"
   },
   {
    "duration": 242,
    "start_time": "2022-05-02T09:39:51.718Z"
   },
   {
    "duration": 214,
    "start_time": "2022-05-02T09:41:08.121Z"
   },
   {
    "duration": 192,
    "start_time": "2022-05-02T09:41:12.509Z"
   },
   {
    "duration": 192,
    "start_time": "2022-05-02T09:41:18.922Z"
   },
   {
    "duration": 189,
    "start_time": "2022-05-02T09:41:25.676Z"
   },
   {
    "duration": 183,
    "start_time": "2022-05-02T09:41:33.671Z"
   },
   {
    "duration": 41,
    "start_time": "2022-05-02T09:41:47.689Z"
   },
   {
    "duration": 28,
    "start_time": "2022-05-02T09:41:50.542Z"
   },
   {
    "duration": 27,
    "start_time": "2022-05-02T09:41:52.443Z"
   },
   {
    "duration": 188,
    "start_time": "2022-05-02T09:41:54.217Z"
   },
   {
    "duration": 137,
    "start_time": "2022-05-02T09:42:18.185Z"
   },
   {
    "duration": 252,
    "start_time": "2022-05-02T09:42:28.186Z"
   },
   {
    "duration": 250,
    "start_time": "2022-05-02T09:42:47.188Z"
   },
   {
    "duration": 252,
    "start_time": "2022-05-02T09:43:17.544Z"
   },
   {
    "duration": 254,
    "start_time": "2022-05-02T09:44:35.328Z"
   },
   {
    "duration": 244,
    "start_time": "2022-05-02T09:47:07.580Z"
   },
   {
    "duration": 24,
    "start_time": "2022-05-02T09:48:05.862Z"
   },
   {
    "duration": 19,
    "start_time": "2022-05-02T09:48:27.184Z"
   },
   {
    "duration": 18,
    "start_time": "2022-05-02T09:48:35.007Z"
   },
   {
    "duration": 195,
    "start_time": "2022-05-02T09:48:39.366Z"
   },
   {
    "duration": 18,
    "start_time": "2022-05-02T09:48:45.711Z"
   },
   {
    "duration": 206,
    "start_time": "2022-05-02T09:48:48.842Z"
   },
   {
    "duration": 204,
    "start_time": "2022-05-02T09:49:02.543Z"
   },
   {
    "duration": 229,
    "start_time": "2022-05-02T09:49:17.650Z"
   },
   {
    "duration": 6,
    "start_time": "2022-05-02T09:50:00.910Z"
   },
   {
    "duration": 24,
    "start_time": "2022-05-02T09:50:25.070Z"
   },
   {
    "duration": 26,
    "start_time": "2022-05-02T09:50:54.357Z"
   },
   {
    "duration": 30,
    "start_time": "2022-05-02T09:51:00.028Z"
   },
   {
    "duration": 30,
    "start_time": "2022-05-02T09:51:17.421Z"
   },
   {
    "duration": 39,
    "start_time": "2022-05-02T09:51:45.108Z"
   },
   {
    "duration": 252,
    "start_time": "2022-05-02T09:53:06.385Z"
   },
   {
    "duration": 17,
    "start_time": "2022-05-02T09:56:01.699Z"
   },
   {
    "duration": 19,
    "start_time": "2022-05-02T09:56:18.776Z"
   },
   {
    "duration": 51,
    "start_time": "2022-05-02T09:56:36.884Z"
   },
   {
    "duration": 18,
    "start_time": "2022-05-02T09:56:48.502Z"
   },
   {
    "duration": 439,
    "start_time": "2022-05-02T10:23:40.486Z"
   },
   {
    "duration": 15,
    "start_time": "2022-05-02T10:23:48.881Z"
   },
   {
    "duration": 941,
    "start_time": "2022-05-02T10:24:23.583Z"
   },
   {
    "duration": 49,
    "start_time": "2022-05-02T10:25:35.900Z"
   },
   {
    "duration": 841,
    "start_time": "2022-05-02T10:25:46.196Z"
   },
   {
    "duration": 50,
    "start_time": "2022-05-02T10:36:03.036Z"
   },
   {
    "duration": 11,
    "start_time": "2022-05-02T10:36:07.456Z"
   },
   {
    "duration": 11,
    "start_time": "2022-05-02T10:36:15.196Z"
   },
   {
    "duration": 15,
    "start_time": "2022-05-02T10:36:24.298Z"
   },
   {
    "duration": 19,
    "start_time": "2022-05-02T10:36:44.643Z"
   },
   {
    "duration": 15,
    "start_time": "2022-05-02T10:38:10.320Z"
   },
   {
    "duration": 22,
    "start_time": "2022-05-02T10:38:24.439Z"
   },
   {
    "duration": 25,
    "start_time": "2022-05-02T10:38:38.825Z"
   },
   {
    "duration": 2055,
    "start_time": "2022-05-02T10:56:23.556Z"
   },
   {
    "duration": 3153,
    "start_time": "2022-05-02T10:57:33.612Z"
   },
   {
    "duration": 2904,
    "start_time": "2022-05-02T10:58:20.404Z"
   },
   {
    "duration": 4389,
    "start_time": "2022-05-02T10:59:17.221Z"
   },
   {
    "duration": 46,
    "start_time": "2022-05-02T10:59:40.091Z"
   },
   {
    "duration": 62,
    "start_time": "2022-05-02T11:00:44.284Z"
   },
   {
    "duration": 45,
    "start_time": "2022-05-02T11:00:48.886Z"
   },
   {
    "duration": 14,
    "start_time": "2022-05-02T11:01:00.678Z"
   },
   {
    "duration": 48,
    "start_time": "2022-05-02T11:03:07.030Z"
   },
   {
    "duration": 53,
    "start_time": "2022-05-02T11:03:19.924Z"
   },
   {
    "duration": 17,
    "start_time": "2022-05-02T11:04:50.879Z"
   },
   {
    "duration": 20,
    "start_time": "2022-05-02T11:06:39.007Z"
   },
   {
    "duration": 5,
    "start_time": "2022-05-02T11:09:01.784Z"
   },
   {
    "duration": 45,
    "start_time": "2022-05-02T11:10:08.441Z"
   },
   {
    "duration": 263,
    "start_time": "2022-05-02T11:10:10.635Z"
   },
   {
    "duration": 355,
    "start_time": "2022-05-02T11:10:14.904Z"
   },
   {
    "duration": 63,
    "start_time": "2022-05-02T11:10:21.083Z"
   },
   {
    "duration": 15,
    "start_time": "2022-05-02T11:10:45.103Z"
   },
   {
    "duration": 19,
    "start_time": "2022-05-02T11:13:33.797Z"
   },
   {
    "duration": 20,
    "start_time": "2022-05-02T11:13:39.375Z"
   },
   {
    "duration": 14,
    "start_time": "2022-05-02T11:13:53.720Z"
   },
   {
    "duration": 14,
    "start_time": "2022-05-02T11:25:25.868Z"
   },
   {
    "duration": 20,
    "start_time": "2022-05-02T11:25:39.573Z"
   },
   {
    "duration": 44,
    "start_time": "2022-05-02T11:25:50.536Z"
   },
   {
    "duration": 14,
    "start_time": "2022-05-02T11:25:53.093Z"
   },
   {
    "duration": 7,
    "start_time": "2022-05-02T11:28:00.843Z"
   },
   {
    "duration": 17,
    "start_time": "2022-05-02T11:43:19.962Z"
   },
   {
    "duration": 18,
    "start_time": "2022-05-02T11:44:52.485Z"
   },
   {
    "duration": 1539,
    "start_time": "2022-05-02T11:47:40.065Z"
   },
   {
    "duration": 246,
    "start_time": "2022-05-02T11:47:41.606Z"
   },
   {
    "duration": 207,
    "start_time": "2022-05-02T11:47:41.854Z"
   },
   {
    "duration": 145,
    "start_time": "2022-05-02T11:47:42.066Z"
   },
   {
    "duration": 39,
    "start_time": "2022-05-02T11:47:42.214Z"
   },
   {
    "duration": 39,
    "start_time": "2022-05-02T11:47:42.256Z"
   },
   {
    "duration": 370,
    "start_time": "2022-05-02T11:47:42.297Z"
   },
   {
    "duration": 567,
    "start_time": "2022-05-02T11:47:42.669Z"
   },
   {
    "duration": 225,
    "start_time": "2022-05-02T11:47:43.238Z"
   },
   {
    "duration": 564,
    "start_time": "2022-05-02T11:47:43.467Z"
   },
   {
    "duration": 267,
    "start_time": "2022-05-02T11:47:44.033Z"
   },
   {
    "duration": 295,
    "start_time": "2022-05-02T11:47:44.302Z"
   },
   {
    "duration": 26,
    "start_time": "2022-05-02T11:47:44.600Z"
   },
   {
    "duration": 56,
    "start_time": "2022-05-02T11:47:44.629Z"
   },
   {
    "duration": 32,
    "start_time": "2022-05-02T11:47:44.688Z"
   },
   {
    "duration": 6291,
    "start_time": "2022-05-02T11:47:44.723Z"
   },
   {
    "duration": 8,
    "start_time": "2022-05-02T11:47:51.017Z"
   },
   {
    "duration": 38,
    "start_time": "2022-05-02T11:47:51.027Z"
   },
   {
    "duration": 95,
    "start_time": "2022-05-02T11:47:51.068Z"
   },
   {
    "duration": 116,
    "start_time": "2022-05-02T11:47:51.166Z"
   },
   {
    "duration": 37,
    "start_time": "2022-05-02T11:47:51.284Z"
   },
   {
    "duration": 29,
    "start_time": "2022-05-02T11:47:51.324Z"
   },
   {
    "duration": 15,
    "start_time": "2022-05-02T11:47:51.356Z"
   },
   {
    "duration": 438,
    "start_time": "2022-05-02T11:47:51.373Z"
   },
   {
    "duration": 17,
    "start_time": "2022-05-02T11:47:51.813Z"
   },
   {
    "duration": 394,
    "start_time": "2022-05-02T11:47:51.832Z"
   },
   {
    "duration": 26,
    "start_time": "2022-05-02T11:47:52.228Z"
   },
   {
    "duration": 746,
    "start_time": "2022-05-02T11:47:52.261Z"
   },
   {
    "duration": 558,
    "start_time": "2022-05-02T11:47:53.009Z"
   },
   {
    "duration": 21,
    "start_time": "2022-05-02T11:47:53.570Z"
   },
   {
    "duration": 7019,
    "start_time": "2022-05-02T11:47:53.594Z"
   },
   {
    "duration": 56,
    "start_time": "2022-05-02T11:48:00.616Z"
   },
   {
    "duration": 10,
    "start_time": "2022-05-02T11:48:00.675Z"
   },
   {
    "duration": 162,
    "start_time": "2022-05-02T11:48:00.688Z"
   },
   {
    "duration": 11,
    "start_time": "2022-05-02T11:48:00.853Z"
   },
   {
    "duration": 88,
    "start_time": "2022-05-02T11:48:00.867Z"
   },
   {
    "duration": 7,
    "start_time": "2022-05-02T11:48:00.958Z"
   },
   {
    "duration": 89,
    "start_time": "2022-05-02T11:48:00.968Z"
   },
   {
    "duration": 59,
    "start_time": "2022-05-02T11:48:01.059Z"
   },
   {
    "duration": 55,
    "start_time": "2022-05-02T11:48:01.120Z"
   },
   {
    "duration": 33,
    "start_time": "2022-05-02T11:48:01.177Z"
   },
   {
    "duration": 72,
    "start_time": "2022-05-02T11:48:01.212Z"
   },
   {
    "duration": 13,
    "start_time": "2022-05-02T11:48:01.286Z"
   },
   {
    "duration": 91,
    "start_time": "2022-05-02T11:48:01.301Z"
   },
   {
    "duration": 59,
    "start_time": "2022-05-02T11:48:01.394Z"
   },
   {
    "duration": 2708,
    "start_time": "2022-05-02T11:48:01.455Z"
   },
   {
    "duration": 17,
    "start_time": "2022-05-02T11:48:04.166Z"
   },
   {
    "duration": 70,
    "start_time": "2022-05-02T11:48:04.185Z"
   },
   {
    "duration": 53,
    "start_time": "2022-05-02T11:48:04.258Z"
   },
   {
    "duration": 51,
    "start_time": "2022-05-02T11:48:04.313Z"
   },
   {
    "duration": 47,
    "start_time": "2022-05-02T11:48:04.367Z"
   },
   {
    "duration": 443,
    "start_time": "2022-05-02T11:48:04.417Z"
   },
   {
    "duration": 419,
    "start_time": "2022-05-02T11:48:04.863Z"
   },
   {
    "duration": 886,
    "start_time": "2022-05-02T11:48:05.285Z"
   },
   {
    "duration": 461,
    "start_time": "2022-05-02T11:48:06.173Z"
   },
   {
    "duration": 423,
    "start_time": "2022-05-02T11:48:06.637Z"
   },
   {
    "duration": 302,
    "start_time": "2022-05-02T11:48:07.062Z"
   },
   {
    "duration": 288,
    "start_time": "2022-05-02T11:48:07.367Z"
   },
   {
    "duration": 343,
    "start_time": "2022-05-02T11:48:07.657Z"
   },
   {
    "duration": 286,
    "start_time": "2022-05-02T11:48:08.003Z"
   },
   {
    "duration": 44,
    "start_time": "2022-05-02T11:48:08.292Z"
   },
   {
    "duration": 332,
    "start_time": "2022-05-02T11:48:08.338Z"
   },
   {
    "duration": 318,
    "start_time": "2022-05-02T11:48:08.672Z"
   },
   {
    "duration": 41,
    "start_time": "2022-05-02T11:48:08.992Z"
   },
   {
    "duration": 18,
    "start_time": "2022-05-02T11:48:09.035Z"
   },
   {
    "duration": 24,
    "start_time": "2022-05-02T11:48:09.055Z"
   },
   {
    "duration": 47,
    "start_time": "2022-05-02T11:48:09.082Z"
   },
   {
    "duration": 3144,
    "start_time": "2022-05-02T11:48:09.132Z"
   },
   {
    "duration": 43,
    "start_time": "2022-05-02T11:48:12.279Z"
   },
   {
    "duration": 33,
    "start_time": "2022-05-02T11:48:12.324Z"
   },
   {
    "duration": 17,
    "start_time": "2022-05-02T11:48:12.360Z"
   },
   {
    "duration": 17,
    "start_time": "2022-05-02T11:48:12.380Z"
   },
   {
    "duration": 6,
    "start_time": "2022-05-02T11:48:12.400Z"
   },
   {
    "duration": 20,
    "start_time": "2022-05-02T11:48:12.453Z"
   },
   {
    "duration": 18,
    "start_time": "2022-05-02T11:48:12.475Z"
   },
   {
    "duration": 81,
    "start_time": "2022-05-02T11:48:12.495Z"
   },
   {
    "duration": 28,
    "start_time": "2022-05-02T11:48:12.579Z"
   },
   {
    "duration": 58,
    "start_time": "2022-05-02T11:48:12.610Z"
   },
   {
    "duration": 268,
    "start_time": "2022-05-02T11:48:12.671Z"
   },
   {
    "duration": 342,
    "start_time": "2022-05-02T11:48:12.942Z"
   },
   {
    "duration": 267,
    "start_time": "2022-05-02T11:48:13.287Z"
   },
   {
    "duration": 23,
    "start_time": "2022-05-02T11:48:13.562Z"
   },
   {
    "duration": 29,
    "start_time": "2022-05-02T11:48:13.587Z"
   },
   {
    "duration": 505,
    "start_time": "2022-05-02T11:48:13.619Z"
   },
   {
    "duration": 29,
    "start_time": "2022-05-02T11:48:21.596Z"
   },
   {
    "duration": 530,
    "start_time": "2022-05-02T11:49:26.223Z"
   },
   {
    "duration": 16,
    "start_time": "2022-05-02T11:49:57.550Z"
   },
   {
    "duration": 381,
    "start_time": "2022-05-02T11:58:17.039Z"
   },
   {
    "duration": 582,
    "start_time": "2022-05-02T11:58:50.729Z"
   },
   {
    "duration": 303,
    "start_time": "2022-05-02T11:58:52.884Z"
   },
   {
    "duration": 16,
    "start_time": "2022-05-02T12:01:06.954Z"
   },
   {
    "duration": 16,
    "start_time": "2022-05-02T12:01:20.256Z"
   },
   {
    "duration": 16,
    "start_time": "2022-05-02T12:01:23.945Z"
   },
   {
    "duration": 17,
    "start_time": "2022-05-02T12:01:27.602Z"
   },
   {
    "duration": 20,
    "start_time": "2022-05-02T12:04:41.670Z"
   },
   {
    "duration": 1256,
    "start_time": "2023-09-10T09:02:48.983Z"
   },
   {
    "duration": 294,
    "start_time": "2023-09-10T09:02:54.752Z"
   },
   {
    "duration": 367,
    "start_time": "2023-09-10T09:03:08.467Z"
   },
   {
    "duration": 353,
    "start_time": "2023-09-10T09:03:11.156Z"
   },
   {
    "duration": 3,
    "start_time": "2023-09-10T10:47:48.973Z"
   },
   {
    "duration": 3,
    "start_time": "2023-09-10T10:47:54.683Z"
   },
   {
    "duration": 83,
    "start_time": "2023-09-10T10:48:16.948Z"
   },
   {
    "duration": 4,
    "start_time": "2023-09-10T10:48:22.663Z"
   },
   {
    "duration": 4,
    "start_time": "2023-09-10T11:42:46.696Z"
   },
   {
    "duration": 8,
    "start_time": "2023-09-10T11:43:15.808Z"
   },
   {
    "duration": 3,
    "start_time": "2023-09-10T11:43:39.455Z"
   },
   {
    "duration": 3,
    "start_time": "2023-09-10T11:43:50.229Z"
   },
   {
    "duration": 4,
    "start_time": "2023-09-10T11:44:04.700Z"
   },
   {
    "duration": 3,
    "start_time": "2023-09-10T11:44:12.991Z"
   },
   {
    "duration": 3,
    "start_time": "2023-09-10T11:44:14.201Z"
   },
   {
    "duration": 281,
    "start_time": "2023-09-10T11:44:15.448Z"
   },
   {
    "duration": 4,
    "start_time": "2023-09-10T11:44:17.369Z"
   },
   {
    "duration": 3,
    "start_time": "2023-09-10T11:44:58.790Z"
   },
   {
    "duration": 3,
    "start_time": "2023-09-10T11:45:01.587Z"
   },
   {
    "duration": 3,
    "start_time": "2023-09-10T11:45:03.996Z"
   },
   {
    "duration": 8,
    "start_time": "2023-09-10T11:45:09.525Z"
   },
   {
    "duration": 9,
    "start_time": "2023-09-10T11:45:16.748Z"
   },
   {
    "duration": 3,
    "start_time": "2023-09-10T11:45:21.477Z"
   },
   {
    "duration": 88,
    "start_time": "2023-09-10T11:45:34.284Z"
   },
   {
    "duration": 90,
    "start_time": "2023-09-10T11:45:37.528Z"
   },
   {
    "duration": 4,
    "start_time": "2023-09-10T11:45:53.870Z"
   },
   {
    "duration": 75,
    "start_time": "2023-09-10T11:45:57.709Z"
   },
   {
    "duration": 80,
    "start_time": "2023-09-10T11:46:03.330Z"
   },
   {
    "duration": 73,
    "start_time": "2023-09-10T11:46:06.544Z"
   },
   {
    "duration": 4,
    "start_time": "2023-09-10T11:46:09.022Z"
   },
   {
    "duration": 94,
    "start_time": "2023-09-10T11:46:12.600Z"
   },
   {
    "duration": 3,
    "start_time": "2023-09-10T11:46:17.949Z"
   },
   {
    "duration": 3,
    "start_time": "2023-09-10T11:46:23.619Z"
   },
   {
    "duration": 4,
    "start_time": "2023-09-10T11:46:29.012Z"
   },
   {
    "duration": 3,
    "start_time": "2023-09-10T11:46:41.548Z"
   },
   {
    "duration": 3,
    "start_time": "2023-09-10T13:31:09.935Z"
   },
   {
    "duration": 4,
    "start_time": "2023-09-10T13:31:19.085Z"
   },
   {
    "duration": 1382,
    "start_time": "2023-09-11T16:08:51.003Z"
   },
   {
    "duration": 583,
    "start_time": "2023-09-11T16:08:54.715Z"
   },
   {
    "duration": 432,
    "start_time": "2023-09-11T16:08:58.336Z"
   },
   {
    "duration": 169,
    "start_time": "2023-09-11T16:09:01.490Z"
   },
   {
    "duration": 70,
    "start_time": "2023-09-11T16:09:05.968Z"
   },
   {
    "duration": 100,
    "start_time": "2023-09-11T16:09:14.118Z"
   },
   {
    "duration": 5,
    "start_time": "2023-09-11T16:12:09.745Z"
   },
   {
    "duration": 152,
    "start_time": "2023-09-11T16:12:34.862Z"
   },
   {
    "duration": 5,
    "start_time": "2023-09-11T16:12:47.577Z"
   },
   {
    "duration": 5,
    "start_time": "2023-09-11T16:13:47.176Z"
   },
   {
    "duration": 96,
    "start_time": "2023-09-11T16:13:58.616Z"
   },
   {
    "duration": 4,
    "start_time": "2023-09-11T16:14:01.977Z"
   },
   {
    "duration": 142,
    "start_time": "2023-09-11T16:14:30.040Z"
   },
   {
    "duration": 13,
    "start_time": "2023-09-11T16:14:34.369Z"
   },
   {
    "duration": 10,
    "start_time": "2023-09-11T16:14:38.320Z"
   },
   {
    "duration": 6,
    "start_time": "2023-09-11T16:15:01.442Z"
   },
   {
    "duration": 24,
    "start_time": "2023-09-11T16:16:28.586Z"
   },
   {
    "duration": 16,
    "start_time": "2023-09-11T16:16:59.575Z"
   },
   {
    "duration": 164,
    "start_time": "2023-09-11T16:17:08.233Z"
   },
   {
    "duration": 8,
    "start_time": "2023-09-11T16:17:10.359Z"
   },
   {
    "duration": 4,
    "start_time": "2023-09-11T16:17:31.109Z"
   },
   {
    "duration": 5,
    "start_time": "2023-09-11T16:17:36.968Z"
   },
   {
    "duration": 125,
    "start_time": "2023-09-11T16:18:02.837Z"
   },
   {
    "duration": 36,
    "start_time": "2023-09-11T16:18:04.719Z"
   },
   {
    "duration": 52,
    "start_time": "2023-09-11T16:18:06.543Z"
   },
   {
    "duration": 67,
    "start_time": "2023-09-11T16:19:22.673Z"
   },
   {
    "duration": 67,
    "start_time": "2023-09-11T16:19:31.416Z"
   },
   {
    "duration": 60,
    "start_time": "2023-09-11T16:19:36.875Z"
   },
   {
    "duration": 5,
    "start_time": "2023-09-11T16:29:17.831Z"
   },
   {
    "duration": 392,
    "start_time": "2023-09-11T16:30:47.622Z"
   },
   {
    "duration": 388,
    "start_time": "2023-09-11T16:31:07.679Z"
   },
   {
    "duration": 447,
    "start_time": "2023-09-11T16:32:01.472Z"
   },
   {
    "duration": 417,
    "start_time": "2023-09-11T16:32:20.548Z"
   },
   {
    "duration": 128,
    "start_time": "2023-09-11T16:34:13.028Z"
   },
   {
    "duration": 190,
    "start_time": "2023-09-11T16:34:22.177Z"
   },
   {
    "duration": 111,
    "start_time": "2023-09-11T16:34:34.410Z"
   },
   {
    "duration": 186,
    "start_time": "2023-09-11T16:34:43.797Z"
   },
   {
    "duration": 212,
    "start_time": "2023-09-11T16:34:47.506Z"
   },
   {
    "duration": 311,
    "start_time": "2023-09-11T16:34:55.714Z"
   },
   {
    "duration": 472,
    "start_time": "2023-09-11T16:36:53.190Z"
   },
   {
    "duration": 25,
    "start_time": "2023-09-11T16:37:01.870Z"
   },
   {
    "duration": 26,
    "start_time": "2023-09-11T16:38:49.990Z"
   },
   {
    "duration": 26,
    "start_time": "2023-09-11T16:38:54.862Z"
   },
   {
    "duration": 25,
    "start_time": "2023-09-11T16:39:09.605Z"
   },
   {
    "duration": 24,
    "start_time": "2023-09-11T16:39:13.455Z"
   },
   {
    "duration": 24,
    "start_time": "2023-09-11T16:39:17.339Z"
   },
   {
    "duration": 29,
    "start_time": "2023-09-11T16:39:21.469Z"
   },
   {
    "duration": 36,
    "start_time": "2023-09-11T16:39:24.087Z"
   },
   {
    "duration": 1228,
    "start_time": "2023-09-11T16:39:32.499Z"
   },
   {
    "duration": 25,
    "start_time": "2023-09-11T16:39:39.135Z"
   },
   {
    "duration": 89,
    "start_time": "2023-09-11T16:39:49.133Z"
   },
   {
    "duration": 31,
    "start_time": "2023-09-11T16:39:51.692Z"
   },
   {
    "duration": 28,
    "start_time": "2023-09-11T16:40:00.422Z"
   },
   {
    "duration": 95,
    "start_time": "2023-09-11T16:40:08.119Z"
   },
   {
    "duration": 95,
    "start_time": "2023-09-11T16:40:18.344Z"
   },
   {
    "duration": 83,
    "start_time": "2023-09-11T16:40:21.504Z"
   },
   {
    "duration": 1300,
    "start_time": "2023-09-11T16:40:23.561Z"
   },
   {
    "duration": 1339,
    "start_time": "2023-09-11T16:40:26.806Z"
   },
   {
    "duration": 25,
    "start_time": "2023-09-11T16:40:38.434Z"
   },
   {
    "duration": 28,
    "start_time": "2023-09-11T16:40:41.966Z"
   },
   {
    "duration": 30,
    "start_time": "2023-09-11T16:40:45.075Z"
   },
   {
    "duration": 23,
    "start_time": "2023-09-11T16:41:29.528Z"
   },
   {
    "duration": 27,
    "start_time": "2023-09-11T16:41:37.306Z"
   },
   {
    "duration": 24,
    "start_time": "2023-09-11T16:41:40.258Z"
   },
   {
    "duration": 212,
    "start_time": "2023-09-11T17:04:20.324Z"
   },
   {
    "duration": 226,
    "start_time": "2023-09-11T17:04:58.195Z"
   },
   {
    "duration": 219,
    "start_time": "2023-09-11T17:05:06.169Z"
   },
   {
    "duration": 246,
    "start_time": "2023-09-11T17:06:49.863Z"
   },
   {
    "duration": 27,
    "start_time": "2023-09-11T17:07:01.518Z"
   },
   {
    "duration": 25,
    "start_time": "2023-09-11T17:08:35.141Z"
   },
   {
    "duration": 24,
    "start_time": "2023-09-11T17:09:53.577Z"
   },
   {
    "duration": 8,
    "start_time": "2023-09-11T17:09:58.633Z"
   },
   {
    "duration": 14,
    "start_time": "2023-09-11T17:10:07.666Z"
   },
   {
    "duration": 9,
    "start_time": "2023-09-11T17:10:19.763Z"
   },
   {
    "duration": 10,
    "start_time": "2023-09-11T17:10:22.764Z"
   },
   {
    "duration": 10,
    "start_time": "2023-09-11T17:12:22.205Z"
   },
   {
    "duration": 4,
    "start_time": "2023-09-11T17:12:28.136Z"
   },
   {
    "duration": 30,
    "start_time": "2023-09-11T17:13:47.071Z"
   },
   {
    "duration": 3681,
    "start_time": "2023-09-11T17:15:06.587Z"
   },
   {
    "duration": 3775,
    "start_time": "2023-09-11T17:15:45.429Z"
   },
   {
    "duration": 3968,
    "start_time": "2023-09-11T17:17:51.817Z"
   },
   {
    "duration": 101,
    "start_time": "2023-09-11T17:19:16.162Z"
   },
   {
    "duration": 238,
    "start_time": "2023-09-11T17:20:50.203Z"
   },
   {
    "duration": 8,
    "start_time": "2023-09-11T17:22:42.634Z"
   },
   {
    "duration": 25,
    "start_time": "2023-09-11T17:22:53.763Z"
   },
   {
    "duration": 265,
    "start_time": "2023-09-11T17:23:14.069Z"
   },
   {
    "duration": 240,
    "start_time": "2023-09-11T17:23:30.855Z"
   },
   {
    "duration": 331,
    "start_time": "2023-09-11T17:23:37.480Z"
   },
   {
    "duration": 214,
    "start_time": "2023-09-11T17:23:41.161Z"
   },
   {
    "duration": 224,
    "start_time": "2023-09-11T17:23:54.768Z"
   },
   {
    "duration": 220,
    "start_time": "2023-09-11T17:24:00.570Z"
   },
   {
    "duration": 213,
    "start_time": "2023-09-11T17:24:07.224Z"
   },
   {
    "duration": 5,
    "start_time": "2023-09-11T17:26:24.773Z"
   },
   {
    "duration": 336,
    "start_time": "2023-09-11T17:27:05.244Z"
   },
   {
    "duration": 371,
    "start_time": "2023-09-11T17:27:28.386Z"
   },
   {
    "duration": 328,
    "start_time": "2023-09-11T17:27:50.005Z"
   },
   {
    "duration": 291,
    "start_time": "2023-09-11T17:28:00.087Z"
   },
   {
    "duration": 284,
    "start_time": "2023-09-11T17:28:08.250Z"
   },
   {
    "duration": 116,
    "start_time": "2023-09-11T17:30:20.707Z"
   },
   {
    "duration": 101,
    "start_time": "2023-09-11T17:30:33.287Z"
   },
   {
    "duration": 10,
    "start_time": "2023-09-11T17:30:46.772Z"
   },
   {
    "duration": 121,
    "start_time": "2023-09-11T17:31:32.392Z"
   },
   {
    "duration": 104,
    "start_time": "2023-09-11T17:31:42.419Z"
   },
   {
    "duration": 104,
    "start_time": "2023-09-11T17:32:03.287Z"
   },
   {
    "duration": 1210,
    "start_time": "2023-09-11T17:32:41.616Z"
   },
   {
    "duration": 114,
    "start_time": "2023-09-11T17:32:48.451Z"
   },
   {
    "duration": 1138,
    "start_time": "2023-09-11T17:32:51.326Z"
   },
   {
    "duration": 119,
    "start_time": "2023-09-11T17:34:24.891Z"
   },
   {
    "duration": 146,
    "start_time": "2023-09-11T17:34:30.657Z"
   },
   {
    "duration": 183,
    "start_time": "2023-09-11T17:34:34.188Z"
   },
   {
    "duration": 132,
    "start_time": "2023-09-11T17:34:41.033Z"
   },
   {
    "duration": 138,
    "start_time": "2023-09-11T17:34:48.120Z"
   },
   {
    "duration": 163,
    "start_time": "2023-09-11T17:35:16.191Z"
   },
   {
    "duration": 166,
    "start_time": "2023-09-11T17:35:33.513Z"
   },
   {
    "duration": 481,
    "start_time": "2023-09-11T17:35:43.966Z"
   },
   {
    "duration": 162,
    "start_time": "2023-09-11T17:35:56.477Z"
   },
   {
    "duration": 171,
    "start_time": "2023-09-11T17:36:07.401Z"
   },
   {
    "duration": 286,
    "start_time": "2023-09-11T17:36:11.721Z"
   },
   {
    "duration": 156,
    "start_time": "2023-09-11T17:36:17.017Z"
   },
   {
    "duration": 159,
    "start_time": "2023-09-11T17:36:21.632Z"
   },
   {
    "duration": 135,
    "start_time": "2023-09-11T17:36:26.655Z"
   },
   {
    "duration": 160,
    "start_time": "2023-09-11T17:36:30.951Z"
   },
   {
    "duration": 159,
    "start_time": "2023-09-11T17:36:44.588Z"
   },
   {
    "duration": 154,
    "start_time": "2023-09-11T17:36:54.285Z"
   },
   {
    "duration": 126,
    "start_time": "2023-09-11T17:37:24.651Z"
   },
   {
    "duration": 9,
    "start_time": "2023-09-11T17:38:00.351Z"
   },
   {
    "duration": 94,
    "start_time": "2023-09-11T17:38:07.593Z"
   },
   {
    "duration": 8,
    "start_time": "2023-09-11T17:38:45.482Z"
   },
   {
    "duration": 9,
    "start_time": "2023-09-11T17:38:51.622Z"
   },
   {
    "duration": 110,
    "start_time": "2023-09-11T17:38:54.474Z"
   },
   {
    "duration": 8,
    "start_time": "2023-09-11T17:39:07.090Z"
   },
   {
    "duration": 11,
    "start_time": "2023-09-11T17:39:15.018Z"
   },
   {
    "duration": 9,
    "start_time": "2023-09-11T17:39:43.065Z"
   },
   {
    "duration": 13,
    "start_time": "2023-09-11T17:39:49.635Z"
   },
   {
    "duration": 9,
    "start_time": "2023-09-11T17:39:59.828Z"
   },
   {
    "duration": 8,
    "start_time": "2023-09-11T17:40:05.530Z"
   },
   {
    "duration": 73,
    "start_time": "2023-09-11T17:46:49.325Z"
   },
   {
    "duration": 16,
    "start_time": "2023-09-11T17:47:33.283Z"
   },
   {
    "duration": 7,
    "start_time": "2023-09-11T17:59:03.716Z"
   },
   {
    "duration": 256,
    "start_time": "2023-09-11T18:01:16.403Z"
   },
   {
    "duration": 11,
    "start_time": "2023-09-11T18:01:39.400Z"
   },
   {
    "duration": 1382,
    "start_time": "2023-09-11T18:02:19.462Z"
   },
   {
    "duration": 222,
    "start_time": "2023-09-11T18:03:16.516Z"
   },
   {
    "duration": 180,
    "start_time": "2023-09-11T18:03:30.435Z"
   },
   {
    "duration": 176,
    "start_time": "2023-09-11T18:03:34.700Z"
   },
   {
    "duration": 183,
    "start_time": "2023-09-11T18:03:42.496Z"
   },
   {
    "duration": 186,
    "start_time": "2023-09-11T18:03:45.902Z"
   },
   {
    "duration": 201,
    "start_time": "2023-09-11T18:03:48.790Z"
   },
   {
    "duration": 8,
    "start_time": "2023-09-11T18:04:45.467Z"
   },
   {
    "duration": 13,
    "start_time": "2023-09-11T18:05:23.864Z"
   },
   {
    "duration": 8,
    "start_time": "2023-09-11T18:05:32.432Z"
   },
   {
    "duration": 489,
    "start_time": "2023-09-11T18:08:48.759Z"
   },
   {
    "duration": 320,
    "start_time": "2023-09-11T18:08:53.405Z"
   },
   {
    "duration": 4479,
    "start_time": "2023-09-11T18:10:35.965Z"
   },
   {
    "duration": 3982,
    "start_time": "2023-09-11T18:11:12.307Z"
   },
   {
    "duration": 4759,
    "start_time": "2023-09-11T18:11:24.137Z"
   },
   {
    "duration": 4,
    "start_time": "2023-09-11T18:11:55.149Z"
   },
   {
    "duration": 4294,
    "start_time": "2023-09-11T18:12:10.804Z"
   },
   {
    "duration": 4317,
    "start_time": "2023-09-11T18:12:30.102Z"
   },
   {
    "duration": 4,
    "start_time": "2023-09-11T18:12:42.052Z"
   },
   {
    "duration": 4328,
    "start_time": "2023-09-11T18:13:14.420Z"
   },
   {
    "duration": 4163,
    "start_time": "2023-09-11T18:13:22.808Z"
   },
   {
    "duration": 139,
    "start_time": "2023-09-11T18:13:30.094Z"
   },
   {
    "duration": 132,
    "start_time": "2023-09-11T18:13:35.149Z"
   },
   {
    "duration": 4,
    "start_time": "2023-09-11T18:13:38.269Z"
   },
   {
    "duration": 4591,
    "start_time": "2023-09-11T18:13:45.492Z"
   },
   {
    "duration": 4,
    "start_time": "2023-09-11T18:13:53.129Z"
   },
   {
    "duration": 137,
    "start_time": "2023-09-11T18:13:55.813Z"
   },
   {
    "duration": 4101,
    "start_time": "2023-09-11T18:14:08.831Z"
   },
   {
    "duration": 3,
    "start_time": "2023-09-11T18:14:15.933Z"
   },
   {
    "duration": 4,
    "start_time": "2023-09-11T18:14:22.891Z"
   },
   {
    "duration": 9,
    "start_time": "2023-09-11T18:14:30.008Z"
   },
   {
    "duration": 4,
    "start_time": "2023-09-11T18:14:33.834Z"
   },
   {
    "duration": 132,
    "start_time": "2023-09-11T18:14:45.210Z"
   },
   {
    "duration": 11,
    "start_time": "2023-09-11T18:14:54.106Z"
   },
   {
    "duration": 4,
    "start_time": "2023-09-11T18:15:01.504Z"
   },
   {
    "duration": 3956,
    "start_time": "2023-09-11T18:15:40.558Z"
   },
   {
    "duration": 5,
    "start_time": "2023-09-11T18:15:44.516Z"
   },
   {
    "duration": 8,
    "start_time": "2023-09-11T18:15:58.644Z"
   },
   {
    "duration": 4,
    "start_time": "2023-09-11T18:16:03.493Z"
   },
   {
    "duration": 5,
    "start_time": "2023-09-11T18:16:10.254Z"
   },
   {
    "duration": 4,
    "start_time": "2023-09-11T18:16:18.734Z"
   },
   {
    "duration": 7,
    "start_time": "2023-09-11T18:16:23.935Z"
   },
   {
    "duration": 8,
    "start_time": "2023-09-11T18:16:29.261Z"
   },
   {
    "duration": 6,
    "start_time": "2023-09-11T18:16:31.956Z"
   },
   {
    "duration": 8,
    "start_time": "2023-09-11T18:17:07.254Z"
   },
   {
    "duration": 4,
    "start_time": "2023-09-11T18:17:12.277Z"
   },
   {
    "duration": 9,
    "start_time": "2023-09-11T18:17:21.357Z"
   },
   {
    "duration": 4,
    "start_time": "2023-09-11T18:17:26.698Z"
   },
   {
    "duration": 4,
    "start_time": "2023-09-11T18:17:32.166Z"
   },
   {
    "duration": 4,
    "start_time": "2023-09-11T18:17:37.689Z"
   },
   {
    "duration": 4,
    "start_time": "2023-09-11T18:17:46.770Z"
   },
   {
    "duration": 7,
    "start_time": "2023-09-11T18:17:54.679Z"
   },
   {
    "duration": 8,
    "start_time": "2023-09-11T18:17:57.181Z"
   },
   {
    "duration": 8,
    "start_time": "2023-09-11T18:17:59.431Z"
   },
   {
    "duration": 8,
    "start_time": "2023-09-11T18:18:01.285Z"
   },
   {
    "duration": 4,
    "start_time": "2023-09-11T18:18:47.326Z"
   },
   {
    "duration": 9,
    "start_time": "2023-09-11T18:19:08.194Z"
   },
   {
    "duration": 5,
    "start_time": "2023-09-11T18:19:12.964Z"
   },
   {
    "duration": 10,
    "start_time": "2023-09-11T18:20:27.193Z"
   },
   {
    "duration": 4115,
    "start_time": "2023-09-11T18:20:38.474Z"
   },
   {
    "duration": 4306,
    "start_time": "2023-09-11T18:21:03.597Z"
   },
   {
    "duration": 4746,
    "start_time": "2023-09-11T18:21:20.757Z"
   },
   {
    "duration": 4539,
    "start_time": "2023-09-11T18:21:43.023Z"
   },
   {
    "duration": 4442,
    "start_time": "2023-09-11T18:25:03.765Z"
   },
   {
    "duration": 8,
    "start_time": "2023-09-11T18:27:37.314Z"
   },
   {
    "duration": 8,
    "start_time": "2023-09-11T18:29:18.844Z"
   },
   {
    "duration": 10,
    "start_time": "2023-09-11T18:29:23.829Z"
   },
   {
    "duration": 5,
    "start_time": "2023-09-11T18:29:32.039Z"
   },
   {
    "duration": 200,
    "start_time": "2023-09-11T18:30:11.399Z"
   },
   {
    "duration": 143,
    "start_time": "2023-09-11T18:30:16.338Z"
   },
   {
    "duration": 1888,
    "start_time": "2023-09-11T18:30:36.431Z"
   },
   {
    "duration": 23,
    "start_time": "2023-09-11T18:34:46.840Z"
   },
   {
    "duration": 21,
    "start_time": "2023-09-11T18:35:31.583Z"
   },
   {
    "duration": 11,
    "start_time": "2023-09-11T18:43:20.427Z"
   },
   {
    "duration": 9,
    "start_time": "2023-09-11T18:43:55.459Z"
   },
   {
    "duration": 8,
    "start_time": "2023-09-11T18:44:03.189Z"
   },
   {
    "duration": 9,
    "start_time": "2023-09-11T18:44:48.776Z"
   },
   {
    "duration": 3,
    "start_time": "2023-09-11T18:45:30.592Z"
   },
   {
    "duration": 3,
    "start_time": "2023-09-11T18:45:33.183Z"
   },
   {
    "duration": 14,
    "start_time": "2023-09-11T18:45:37.983Z"
   },
   {
    "duration": 12,
    "start_time": "2023-09-11T18:46:00.657Z"
   },
   {
    "duration": 13,
    "start_time": "2023-09-11T18:46:14.177Z"
   },
   {
    "duration": 8,
    "start_time": "2023-09-11T18:46:14.308Z"
   },
   {
    "duration": 9,
    "start_time": "2023-09-11T18:46:39.434Z"
   },
   {
    "duration": 12,
    "start_time": "2023-09-11T18:46:47.309Z"
   },
   {
    "duration": 10,
    "start_time": "2023-09-11T18:47:09.582Z"
   },
   {
    "duration": 10,
    "start_time": "2023-09-11T18:47:20.997Z"
   },
   {
    "duration": 11,
    "start_time": "2023-09-11T18:47:29.797Z"
   },
   {
    "duration": 9,
    "start_time": "2023-09-11T18:47:43.414Z"
   },
   {
    "duration": 12,
    "start_time": "2023-09-11T18:47:46.463Z"
   },
   {
    "duration": 8,
    "start_time": "2023-09-11T18:48:34.317Z"
   },
   {
    "duration": 51,
    "start_time": "2023-09-12T06:34:59.442Z"
   },
   {
    "duration": 1337,
    "start_time": "2023-09-12T06:35:08.458Z"
   },
   {
    "duration": 299,
    "start_time": "2023-09-12T06:35:09.797Z"
   },
   {
    "duration": 363,
    "start_time": "2023-09-12T06:35:10.098Z"
   },
   {
    "duration": 7,
    "start_time": "2023-09-12T06:35:10.463Z"
   },
   {
    "duration": 9,
    "start_time": "2023-09-12T06:35:10.472Z"
   },
   {
    "duration": 383,
    "start_time": "2023-09-12T06:35:10.483Z"
   },
   {
    "duration": 86,
    "start_time": "2023-09-12T06:35:10.867Z"
   },
   {
    "duration": 73,
    "start_time": "2023-09-12T06:35:10.954Z"
   },
   {
    "duration": 4,
    "start_time": "2023-09-12T06:35:11.029Z"
   },
   {
    "duration": 529,
    "start_time": "2023-09-12T06:35:11.036Z"
   },
   {
    "duration": 464,
    "start_time": "2023-09-12T06:35:11.567Z"
   },
   {
    "duration": 30,
    "start_time": "2023-09-12T06:35:12.033Z"
   },
   {
    "duration": 284,
    "start_time": "2023-09-12T06:35:12.064Z"
   },
   {
    "duration": 24,
    "start_time": "2023-09-12T06:35:12.350Z"
   },
   {
    "duration": 58,
    "start_time": "2023-09-12T06:35:12.375Z"
   },
   {
    "duration": 4370,
    "start_time": "2023-09-12T06:35:12.435Z"
   },
   {
    "duration": 412,
    "start_time": "2023-09-12T06:35:16.810Z"
   },
   {
    "duration": 160,
    "start_time": "2023-09-12T06:35:17.224Z"
   },
   {
    "duration": 9,
    "start_time": "2023-09-12T06:35:17.386Z"
   },
   {
    "duration": 96,
    "start_time": "2023-09-12T06:35:17.397Z"
   },
   {
    "duration": 29,
    "start_time": "2023-09-12T06:35:17.495Z"
   },
   {
    "duration": 9,
    "start_time": "2023-09-12T06:35:17.527Z"
   },
   {
    "duration": 311,
    "start_time": "2023-09-12T06:35:17.537Z"
   },
   {
    "duration": 13,
    "start_time": "2023-09-12T06:35:17.850Z"
   },
   {
    "duration": 415,
    "start_time": "2023-09-12T06:35:17.865Z"
   },
   {
    "duration": 373,
    "start_time": "2023-09-12T06:35:18.282Z"
   },
   {
    "duration": 379,
    "start_time": "2023-09-12T06:35:18.657Z"
   },
   {
    "duration": 4462,
    "start_time": "2023-09-12T06:35:19.040Z"
   },
   {
    "duration": 30,
    "start_time": "2023-09-12T06:35:23.504Z"
   },
   {
    "duration": 7,
    "start_time": "2023-09-12T06:35:23.536Z"
   },
   {
    "duration": 122,
    "start_time": "2023-09-12T06:35:23.545Z"
   },
   {
    "duration": 57,
    "start_time": "2023-09-12T06:38:24.565Z"
   },
   {
    "duration": 45,
    "start_time": "2023-09-12T06:38:57.029Z"
   },
   {
    "duration": 60,
    "start_time": "2023-09-12T06:40:42.734Z"
   },
   {
    "duration": 71,
    "start_time": "2023-09-12T06:41:31.879Z"
   },
   {
    "duration": 4,
    "start_time": "2023-09-12T06:41:35.656Z"
   },
   {
    "duration": 3,
    "start_time": "2023-09-12T06:41:41.264Z"
   },
   {
    "duration": 4,
    "start_time": "2023-09-12T06:41:48.625Z"
   },
   {
    "duration": 7,
    "start_time": "2023-09-12T06:41:55.239Z"
   },
   {
    "duration": 76,
    "start_time": "2023-09-12T06:42:06.655Z"
   },
   {
    "duration": 8,
    "start_time": "2023-09-12T06:42:15.839Z"
   },
   {
    "duration": 13,
    "start_time": "2023-09-12T06:42:26.969Z"
   },
   {
    "duration": 20,
    "start_time": "2023-09-12T06:43:15.714Z"
   },
   {
    "duration": 14,
    "start_time": "2023-09-12T06:43:20.313Z"
   },
   {
    "duration": 47,
    "start_time": "2023-09-12T06:43:23.697Z"
   },
   {
    "duration": 13,
    "start_time": "2023-09-12T06:43:27.633Z"
   },
   {
    "duration": 31,
    "start_time": "2023-09-12T06:47:20.993Z"
   },
   {
    "duration": 30,
    "start_time": "2023-09-12T06:48:55.727Z"
   },
   {
    "duration": 19,
    "start_time": "2023-09-12T06:50:21.768Z"
   },
   {
    "duration": 1226,
    "start_time": "2023-09-12T06:50:36.574Z"
   },
   {
    "duration": 240,
    "start_time": "2023-09-12T06:50:37.802Z"
   },
   {
    "duration": 189,
    "start_time": "2023-09-12T06:50:38.044Z"
   },
   {
    "duration": 7,
    "start_time": "2023-09-12T06:50:38.236Z"
   },
   {
    "duration": 28,
    "start_time": "2023-09-12T06:50:38.245Z"
   },
   {
    "duration": 135,
    "start_time": "2023-09-12T06:50:38.275Z"
   },
   {
    "duration": 29,
    "start_time": "2023-09-12T06:50:38.412Z"
   },
   {
    "duration": 45,
    "start_time": "2023-09-12T06:50:38.443Z"
   },
   {
    "duration": 5,
    "start_time": "2023-09-12T06:50:38.489Z"
   },
   {
    "duration": 529,
    "start_time": "2023-09-12T06:50:38.496Z"
   },
   {
    "duration": 477,
    "start_time": "2023-09-12T06:50:39.026Z"
   },
   {
    "duration": 33,
    "start_time": "2023-09-12T06:50:39.505Z"
   },
   {
    "duration": 297,
    "start_time": "2023-09-12T06:50:39.540Z"
   },
   {
    "duration": 31,
    "start_time": "2023-09-12T06:50:39.840Z"
   },
   {
    "duration": 58,
    "start_time": "2023-09-12T06:50:39.873Z"
   },
   {
    "duration": 4424,
    "start_time": "2023-09-12T06:50:39.932Z"
   },
   {
    "duration": 373,
    "start_time": "2023-09-12T06:50:44.358Z"
   },
   {
    "duration": 163,
    "start_time": "2023-09-12T06:50:44.733Z"
   },
   {
    "duration": 17,
    "start_time": "2023-09-12T06:50:44.898Z"
   },
   {
    "duration": 96,
    "start_time": "2023-09-12T06:50:44.917Z"
   },
   {
    "duration": 19,
    "start_time": "2023-09-12T06:50:45.014Z"
   },
   {
    "duration": 27,
    "start_time": "2023-09-12T06:50:45.035Z"
   },
   {
    "duration": 323,
    "start_time": "2023-09-12T06:50:45.064Z"
   },
   {
    "duration": 23,
    "start_time": "2023-09-12T06:50:45.389Z"
   },
   {
    "duration": 410,
    "start_time": "2023-09-12T06:50:45.414Z"
   },
   {
    "duration": 394,
    "start_time": "2023-09-12T06:50:45.826Z"
   },
   {
    "duration": 381,
    "start_time": "2023-09-12T06:50:46.223Z"
   },
   {
    "duration": 4432,
    "start_time": "2023-09-12T06:50:46.608Z"
   },
   {
    "duration": 25,
    "start_time": "2023-09-12T06:50:51.042Z"
   },
   {
    "duration": 6,
    "start_time": "2023-09-12T06:50:51.069Z"
   },
   {
    "duration": 120,
    "start_time": "2023-09-12T06:50:51.077Z"
   },
   {
    "duration": 51,
    "start_time": "2023-09-12T06:50:51.199Z"
   },
   {
    "duration": 61,
    "start_time": "2023-09-12T06:50:51.253Z"
   },
   {
    "duration": 14,
    "start_time": "2023-09-12T06:50:51.317Z"
   },
   {
    "duration": 34,
    "start_time": "2023-09-12T06:50:51.333Z"
   },
   {
    "duration": 23,
    "start_time": "2023-09-12T06:51:07.672Z"
   },
   {
    "duration": 7,
    "start_time": "2023-09-12T06:51:28.159Z"
   },
   {
    "duration": 1514,
    "start_time": "2023-09-12T06:51:37.159Z"
   },
   {
    "duration": 1961,
    "start_time": "2023-09-12T06:51:40.545Z"
   },
   {
    "duration": 1627,
    "start_time": "2023-09-12T06:51:46.376Z"
   },
   {
    "duration": 6,
    "start_time": "2023-09-12T06:52:03.832Z"
   },
   {
    "duration": 2667,
    "start_time": "2023-09-12T06:52:17.616Z"
   },
   {
    "duration": 9,
    "start_time": "2023-09-12T06:52:27.777Z"
   },
   {
    "duration": 10,
    "start_time": "2023-09-12T06:52:30.584Z"
   },
   {
    "duration": 1245,
    "start_time": "2023-09-12T06:52:37.352Z"
   },
   {
    "duration": 752,
    "start_time": "2023-09-12T06:52:49.514Z"
   },
   {
    "duration": 1242,
    "start_time": "2023-09-12T06:54:08.683Z"
   },
   {
    "duration": 101,
    "start_time": "2023-09-12T06:54:20.211Z"
   },
   {
    "duration": 951,
    "start_time": "2023-09-12T06:54:23.548Z"
   },
   {
    "duration": 9,
    "start_time": "2023-09-12T06:54:26.634Z"
   },
   {
    "duration": 77,
    "start_time": "2023-09-12T06:54:37.282Z"
   },
   {
    "duration": 6,
    "start_time": "2023-09-12T06:54:52.090Z"
   },
   {
    "duration": 5,
    "start_time": "2023-09-12T06:55:03.731Z"
   },
   {
    "duration": 6,
    "start_time": "2023-09-12T06:55:09.660Z"
   },
   {
    "duration": 32,
    "start_time": "2023-09-12T07:04:18.547Z"
   },
   {
    "duration": 4,
    "start_time": "2023-09-12T07:08:33.609Z"
   },
   {
    "duration": 9,
    "start_time": "2023-09-12T07:11:36.082Z"
   },
   {
    "duration": 1568,
    "start_time": "2023-09-12T07:28:23.857Z"
   },
   {
    "duration": 15,
    "start_time": "2023-09-12T07:30:12.525Z"
   },
   {
    "duration": 1898,
    "start_time": "2023-09-12T07:34:42.128Z"
   },
   {
    "duration": 16,
    "start_time": "2023-09-12T07:34:50.976Z"
   },
   {
    "duration": 9,
    "start_time": "2023-09-12T07:35:12.057Z"
   },
   {
    "duration": 7,
    "start_time": "2023-09-12T07:35:24.072Z"
   },
   {
    "duration": 116,
    "start_time": "2023-09-12T07:36:16.106Z"
   },
   {
    "duration": 118,
    "start_time": "2023-09-12T07:36:31.657Z"
   },
   {
    "duration": 94,
    "start_time": "2023-09-12T07:36:38.530Z"
   },
   {
    "duration": 126,
    "start_time": "2023-09-12T07:36:45.033Z"
   },
   {
    "duration": 105,
    "start_time": "2023-09-12T07:37:07.402Z"
   },
   {
    "duration": 3,
    "start_time": "2023-09-12T07:37:27.442Z"
   },
   {
    "duration": 4,
    "start_time": "2023-09-12T07:37:40.571Z"
   },
   {
    "duration": 95,
    "start_time": "2023-09-12T07:37:50.430Z"
   },
   {
    "duration": 4,
    "start_time": "2023-09-12T07:37:57.187Z"
   },
   {
    "duration": 4,
    "start_time": "2023-09-12T07:38:02.314Z"
   },
   {
    "duration": 6,
    "start_time": "2023-09-12T07:38:06.214Z"
   },
   {
    "duration": 3,
    "start_time": "2023-09-12T07:38:10.397Z"
   },
   {
    "duration": 86,
    "start_time": "2023-09-12T07:38:14.538Z"
   },
   {
    "duration": 8,
    "start_time": "2023-09-12T07:38:23.525Z"
   },
   {
    "duration": 95,
    "start_time": "2023-09-12T07:38:32.963Z"
   },
   {
    "duration": 85,
    "start_time": "2023-09-12T07:38:42.540Z"
   },
   {
    "duration": 7,
    "start_time": "2023-09-12T07:38:51.052Z"
   },
   {
    "duration": 9,
    "start_time": "2023-09-12T07:39:12.329Z"
   },
   {
    "duration": 9,
    "start_time": "2023-09-12T07:39:17.190Z"
   },
   {
    "duration": 4,
    "start_time": "2023-09-12T07:39:22.435Z"
   },
   {
    "duration": 5,
    "start_time": "2023-09-12T07:39:25.747Z"
   },
   {
    "duration": 7,
    "start_time": "2023-09-12T07:42:24.442Z"
   },
   {
    "duration": 7,
    "start_time": "2023-09-12T07:42:28.046Z"
   },
   {
    "duration": 11,
    "start_time": "2023-09-12T07:42:34.901Z"
   },
   {
    "duration": 7,
    "start_time": "2023-09-12T07:42:39.354Z"
   },
   {
    "duration": 7,
    "start_time": "2023-09-12T07:42:49.573Z"
   },
   {
    "duration": 8,
    "start_time": "2023-09-12T07:42:53.286Z"
   },
   {
    "duration": 8,
    "start_time": "2023-09-12T07:42:58.517Z"
   },
   {
    "duration": 13,
    "start_time": "2023-09-12T07:43:02.477Z"
   },
   {
    "duration": 8,
    "start_time": "2023-09-12T07:43:05.254Z"
   },
   {
    "duration": 10,
    "start_time": "2023-09-12T07:43:12.006Z"
   },
   {
    "duration": 9,
    "start_time": "2023-09-12T07:43:17.069Z"
   },
   {
    "duration": 8,
    "start_time": "2023-09-12T07:43:23.717Z"
   },
   {
    "duration": 7,
    "start_time": "2023-09-12T07:43:27.046Z"
   },
   {
    "duration": 10,
    "start_time": "2023-09-12T07:43:32.990Z"
   },
   {
    "duration": 10,
    "start_time": "2023-09-12T07:43:36.419Z"
   },
   {
    "duration": 14,
    "start_time": "2023-09-12T07:43:40.517Z"
   },
   {
    "duration": 7,
    "start_time": "2023-09-12T07:44:46.254Z"
   },
   {
    "duration": 7,
    "start_time": "2023-09-12T07:44:52.353Z"
   },
   {
    "duration": 7,
    "start_time": "2023-09-12T07:45:14.048Z"
   },
   {
    "duration": 174,
    "start_time": "2023-09-12T08:37:42.105Z"
   },
   {
    "duration": 10,
    "start_time": "2023-09-12T08:38:10.073Z"
   },
   {
    "duration": 8,
    "start_time": "2023-09-12T08:38:39.522Z"
   },
   {
    "duration": 8,
    "start_time": "2023-09-12T08:38:52.323Z"
   },
   {
    "duration": 45,
    "start_time": "2023-09-12T08:42:19.102Z"
   },
   {
    "duration": 19,
    "start_time": "2023-09-12T08:42:41.743Z"
   },
   {
    "duration": 23,
    "start_time": "2023-09-12T08:44:39.040Z"
   },
   {
    "duration": 321,
    "start_time": "2023-09-12T08:49:10.023Z"
   },
   {
    "duration": 644,
    "start_time": "2023-09-12T08:49:11.411Z"
   },
   {
    "duration": 6,
    "start_time": "2023-09-12T08:49:19.184Z"
   },
   {
    "duration": 9,
    "start_time": "2023-09-12T08:49:28.257Z"
   },
   {
    "duration": 4,
    "start_time": "2023-09-12T08:50:06.626Z"
   },
   {
    "duration": 13,
    "start_time": "2023-09-12T08:50:36.554Z"
   },
   {
    "duration": 5,
    "start_time": "2023-09-12T08:52:22.382Z"
   },
   {
    "duration": 6,
    "start_time": "2023-09-12T08:52:27.355Z"
   },
   {
    "duration": 11,
    "start_time": "2023-09-12T08:52:30.873Z"
   },
   {
    "duration": 4,
    "start_time": "2023-09-12T08:52:39.374Z"
   },
   {
    "duration": 21,
    "start_time": "2023-09-12T08:52:46.627Z"
   },
   {
    "duration": 4,
    "start_time": "2023-09-12T08:53:48.180Z"
   },
   {
    "duration": 13,
    "start_time": "2023-09-12T08:53:53.139Z"
   },
   {
    "duration": 18,
    "start_time": "2023-09-12T08:53:58.293Z"
   },
   {
    "duration": 9,
    "start_time": "2023-09-12T08:54:06.239Z"
   },
   {
    "duration": 10,
    "start_time": "2023-09-12T08:54:08.347Z"
   },
   {
    "duration": 5,
    "start_time": "2023-09-12T08:54:11.327Z"
   },
   {
    "duration": 3,
    "start_time": "2023-09-12T08:54:17.972Z"
   },
   {
    "duration": 4,
    "start_time": "2023-09-12T08:54:21.597Z"
   },
   {
    "duration": 5,
    "start_time": "2023-09-12T08:54:41.445Z"
   },
   {
    "duration": 159,
    "start_time": "2023-09-12T08:54:47.272Z"
   },
   {
    "duration": 3,
    "start_time": "2023-09-12T08:54:54.072Z"
   },
   {
    "duration": 14,
    "start_time": "2023-09-12T08:55:12.731Z"
   },
   {
    "duration": 7,
    "start_time": "2023-09-12T08:56:04.026Z"
   },
   {
    "duration": 5,
    "start_time": "2023-09-12T08:56:15.588Z"
   },
   {
    "duration": 185,
    "start_time": "2023-09-12T08:57:21.750Z"
   },
   {
    "duration": 234,
    "start_time": "2023-09-12T08:57:31.606Z"
   },
   {
    "duration": 6,
    "start_time": "2023-09-12T08:57:40.550Z"
   },
   {
    "duration": 6,
    "start_time": "2023-09-12T08:57:47.670Z"
   },
   {
    "duration": 10,
    "start_time": "2023-09-12T08:59:09.385Z"
   },
   {
    "duration": 115,
    "start_time": "2023-09-12T08:59:19.096Z"
   },
   {
    "duration": 8,
    "start_time": "2023-09-12T08:59:35.235Z"
   },
   {
    "duration": 5,
    "start_time": "2023-09-12T08:59:39.543Z"
   },
   {
    "duration": 5,
    "start_time": "2023-09-12T08:59:50.639Z"
   },
   {
    "duration": 8,
    "start_time": "2023-09-12T09:04:09.027Z"
   },
   {
    "duration": 200,
    "start_time": "2023-09-12T09:04:15.186Z"
   },
   {
    "duration": 169,
    "start_time": "2023-09-12T09:04:18.187Z"
   },
   {
    "duration": 186,
    "start_time": "2023-09-12T09:04:20.977Z"
   },
   {
    "duration": 194,
    "start_time": "2023-09-12T09:04:28.305Z"
   },
   {
    "duration": 187,
    "start_time": "2023-09-12T09:04:34.371Z"
   },
   {
    "duration": 5,
    "start_time": "2023-09-12T09:05:14.570Z"
   },
   {
    "duration": 4,
    "start_time": "2023-09-12T09:05:24.979Z"
   },
   {
    "duration": 9,
    "start_time": "2023-09-12T09:05:31.731Z"
   },
   {
    "duration": 4,
    "start_time": "2023-09-12T09:05:39.755Z"
   },
   {
    "duration": 5,
    "start_time": "2023-09-12T09:05:45.724Z"
   },
   {
    "duration": 370,
    "start_time": "2023-09-12T09:07:00.476Z"
   },
   {
    "duration": 10,
    "start_time": "2023-09-12T09:51:58.559Z"
   },
   {
    "duration": 8,
    "start_time": "2023-09-12T09:52:11.417Z"
   },
   {
    "duration": 21,
    "start_time": "2023-09-12T09:52:16.543Z"
   },
   {
    "duration": 19,
    "start_time": "2023-09-12T09:52:20.167Z"
   },
   {
    "duration": 19,
    "start_time": "2023-09-12T09:52:34.782Z"
   },
   {
    "duration": 19,
    "start_time": "2023-09-12T09:52:49.496Z"
   },
   {
    "duration": 24,
    "start_time": "2023-09-12T09:52:52.543Z"
   },
   {
    "duration": 7001,
    "start_time": "2023-09-12T09:53:26.976Z"
   },
   {
    "duration": 291,
    "start_time": "2023-09-12T09:53:59.896Z"
   },
   {
    "duration": 286,
    "start_time": "2023-09-12T09:54:01.128Z"
   },
   {
    "duration": 3,
    "start_time": "2023-09-12T09:54:13.415Z"
   },
   {
    "duration": 8,
    "start_time": "2023-09-12T09:54:21.656Z"
   },
   {
    "duration": 187,
    "start_time": "2023-09-12T09:54:36.152Z"
   },
   {
    "duration": 4,
    "start_time": "2023-09-12T09:54:46.121Z"
   },
   {
    "duration": 5,
    "start_time": "2023-09-12T09:54:48.991Z"
   },
   {
    "duration": 3,
    "start_time": "2023-09-12T09:54:55.817Z"
   },
   {
    "duration": 3,
    "start_time": "2023-09-12T09:54:59.872Z"
   },
   {
    "duration": 248,
    "start_time": "2023-09-12T09:55:02.335Z"
   },
   {
    "duration": 86,
    "start_time": "2023-09-12T09:56:37.601Z"
   },
   {
    "duration": 10,
    "start_time": "2023-09-12T09:56:39.873Z"
   },
   {
    "duration": 10,
    "start_time": "2023-09-12T09:56:44.842Z"
   },
   {
    "duration": 12,
    "start_time": "2023-09-12T09:56:50.106Z"
   },
   {
    "duration": 12,
    "start_time": "2023-09-12T09:56:58.268Z"
   },
   {
    "duration": 6,
    "start_time": "2023-09-12T09:57:57.650Z"
   },
   {
    "duration": 6,
    "start_time": "2023-09-12T09:58:02.549Z"
   },
   {
    "duration": 223,
    "start_time": "2023-09-12T09:58:07.154Z"
   },
   {
    "duration": 359,
    "start_time": "2023-09-12T09:58:16.491Z"
   },
   {
    "duration": 290,
    "start_time": "2023-09-12T09:58:39.292Z"
   },
   {
    "duration": 6,
    "start_time": "2023-09-12T09:58:47.634Z"
   },
   {
    "duration": 5,
    "start_time": "2023-09-12T09:58:52.091Z"
   },
   {
    "duration": 4,
    "start_time": "2023-09-12T09:59:07.075Z"
   },
   {
    "duration": 4,
    "start_time": "2023-09-12T09:59:10.187Z"
   },
   {
    "duration": 5,
    "start_time": "2023-09-12T09:59:13.195Z"
   },
   {
    "duration": 16,
    "start_time": "2023-09-12T10:00:48.304Z"
   },
   {
    "duration": 285,
    "start_time": "2023-09-12T10:01:01.430Z"
   },
   {
    "duration": 246,
    "start_time": "2023-09-12T10:01:06.164Z"
   },
   {
    "duration": 271,
    "start_time": "2023-09-12T10:01:14.368Z"
   },
   {
    "duration": 336,
    "start_time": "2023-09-12T10:01:35.304Z"
   },
   {
    "duration": 20,
    "start_time": "2023-09-12T10:01:39.107Z"
   },
   {
    "duration": 21,
    "start_time": "2023-09-12T10:01:48.828Z"
   },
   {
    "duration": 5,
    "start_time": "2023-09-12T10:05:47.526Z"
   },
   {
    "duration": 215,
    "start_time": "2023-09-12T10:05:53.255Z"
   },
   {
    "duration": 11,
    "start_time": "2023-09-12T10:06:02.430Z"
   },
   {
    "duration": 6,
    "start_time": "2023-09-12T10:06:08.341Z"
   },
   {
    "duration": 11,
    "start_time": "2023-09-12T10:06:13.027Z"
   },
   {
    "duration": 6,
    "start_time": "2023-09-12T10:06:17.664Z"
   },
   {
    "duration": 13,
    "start_time": "2023-09-12T10:06:20.077Z"
   },
   {
    "duration": 13,
    "start_time": "2023-09-12T10:06:32.474Z"
   },
   {
    "duration": 15,
    "start_time": "2023-09-12T10:06:36.555Z"
   },
   {
    "duration": 9,
    "start_time": "2023-09-12T10:07:58.528Z"
   },
   {
    "duration": 4,
    "start_time": "2023-09-12T10:08:37.143Z"
   },
   {
    "duration": 5,
    "start_time": "2023-09-12T10:08:39.426Z"
   },
   {
    "duration": 19,
    "start_time": "2023-09-12T10:08:45.808Z"
   },
   {
    "duration": 230,
    "start_time": "2023-09-12T10:08:49.127Z"
   },
   {
    "duration": 478,
    "start_time": "2023-09-12T10:11:20.777Z"
   },
   {
    "duration": 17,
    "start_time": "2023-09-12T10:12:42.965Z"
   },
   {
    "duration": 21,
    "start_time": "2023-09-12T10:13:40.271Z"
   },
   {
    "duration": 13,
    "start_time": "2023-09-12T10:14:52.636Z"
   },
   {
    "duration": 11,
    "start_time": "2023-09-12T10:16:13.074Z"
   },
   {
    "duration": 169067,
    "start_time": "2023-09-12T10:16:17.772Z"
   },
   {
    "duration": 0,
    "start_time": "2023-09-12T10:19:06.844Z"
   },
   {
    "duration": 483,
    "start_time": "2023-09-12T10:19:44.239Z"
   },
   {
    "duration": 260,
    "start_time": "2023-09-12T10:20:38.561Z"
   },
   {
    "duration": 556,
    "start_time": "2023-09-12T10:20:49.183Z"
   },
   {
    "duration": 579,
    "start_time": "2023-09-12T10:21:07.304Z"
   },
   {
    "duration": 832,
    "start_time": "2023-09-12T10:21:12.032Z"
   },
   {
    "duration": 803,
    "start_time": "2023-09-12T10:22:12.320Z"
   },
   {
    "duration": 599,
    "start_time": "2023-09-12T10:22:21.496Z"
   },
   {
    "duration": 5,
    "start_time": "2023-09-12T10:22:35.535Z"
   },
   {
    "duration": 608,
    "start_time": "2023-09-12T10:22:48.096Z"
   },
   {
    "duration": 40,
    "start_time": "2023-09-12T10:24:31.523Z"
   },
   {
    "duration": 563,
    "start_time": "2023-09-12T10:25:42.960Z"
   },
   {
    "duration": 598,
    "start_time": "2023-09-12T10:25:58.235Z"
   },
   {
    "duration": 579,
    "start_time": "2023-09-12T10:26:20.307Z"
   },
   {
    "duration": 556,
    "start_time": "2023-09-12T10:26:31.458Z"
   },
   {
    "duration": 581,
    "start_time": "2023-09-12T10:26:40.210Z"
   },
   {
    "duration": 566,
    "start_time": "2023-09-12T10:26:53.979Z"
   },
   {
    "duration": 693,
    "start_time": "2023-09-12T10:27:47.464Z"
   },
   {
    "duration": 700,
    "start_time": "2023-09-12T10:27:55.316Z"
   },
   {
    "duration": 734,
    "start_time": "2023-09-12T10:27:59.619Z"
   },
   {
    "duration": 169,
    "start_time": "2023-09-12T10:31:10.862Z"
   },
   {
    "duration": 159,
    "start_time": "2023-09-12T10:31:12.660Z"
   },
   {
    "duration": 193,
    "start_time": "2023-09-12T10:31:17.980Z"
   },
   {
    "duration": 339,
    "start_time": "2023-09-12T10:31:20.664Z"
   },
   {
    "duration": 24,
    "start_time": "2023-09-12T10:31:23.702Z"
   },
   {
    "duration": 580,
    "start_time": "2023-09-12T10:31:35.991Z"
   },
   {
    "duration": 21,
    "start_time": "2023-09-12T10:32:13.087Z"
   },
   {
    "duration": 23,
    "start_time": "2023-09-12T10:32:18.190Z"
   },
   {
    "duration": 23,
    "start_time": "2023-09-12T10:32:30.960Z"
   },
   {
    "duration": 19,
    "start_time": "2023-09-12T10:40:47.733Z"
   },
   {
    "duration": 20,
    "start_time": "2023-09-12T10:40:52.795Z"
   },
   {
    "duration": 22,
    "start_time": "2023-09-12T10:40:57.349Z"
   },
   {
    "duration": 28,
    "start_time": "2023-09-12T10:41:14.836Z"
   },
   {
    "duration": 19,
    "start_time": "2023-09-12T10:41:22.722Z"
   },
   {
    "duration": 16,
    "start_time": "2023-09-12T10:41:28.388Z"
   },
   {
    "duration": 20,
    "start_time": "2023-09-12T10:41:39.624Z"
   },
   {
    "duration": 19,
    "start_time": "2023-09-12T10:42:26.269Z"
   },
   {
    "duration": 19,
    "start_time": "2023-09-12T10:42:31.244Z"
   },
   {
    "duration": 17,
    "start_time": "2023-09-12T10:42:35.845Z"
   },
   {
    "duration": 17,
    "start_time": "2023-09-12T10:42:38.642Z"
   },
   {
    "duration": 23,
    "start_time": "2023-09-12T10:42:45.308Z"
   },
   {
    "duration": 16,
    "start_time": "2023-09-12T10:42:53.574Z"
   },
   {
    "duration": 18,
    "start_time": "2023-09-12T10:43:21.461Z"
   },
   {
    "duration": 87,
    "start_time": "2023-09-12T10:43:54.333Z"
   },
   {
    "duration": 29,
    "start_time": "2023-09-12T10:44:00.245Z"
   },
   {
    "duration": 15,
    "start_time": "2023-09-12T10:44:09.181Z"
   },
   {
    "duration": 17,
    "start_time": "2023-09-12T10:44:15.704Z"
   },
   {
    "duration": 19,
    "start_time": "2023-09-12T10:44:19.830Z"
   },
   {
    "duration": 17,
    "start_time": "2023-09-12T10:44:40.069Z"
   },
   {
    "duration": 15,
    "start_time": "2023-09-12T10:44:45.618Z"
   },
   {
    "duration": 540,
    "start_time": "2023-09-12T10:45:47.345Z"
   },
   {
    "duration": 663,
    "start_time": "2023-09-12T10:47:12.199Z"
   },
   {
    "duration": 418,
    "start_time": "2023-09-12T10:47:33.280Z"
   },
   {
    "duration": 460,
    "start_time": "2023-09-12T10:49:08.370Z"
   },
   {
    "duration": 41,
    "start_time": "2023-09-12T10:52:43.322Z"
   },
   {
    "duration": 28,
    "start_time": "2023-09-12T10:55:06.109Z"
   },
   {
    "duration": 9,
    "start_time": "2023-09-12T10:55:13.773Z"
   },
   {
    "duration": 34,
    "start_time": "2023-09-12T10:55:18.142Z"
   },
   {
    "duration": 195,
    "start_time": "2023-09-12T10:55:56.301Z"
   },
   {
    "duration": 245,
    "start_time": "2023-09-12T10:57:37.464Z"
   },
   {
    "duration": 173,
    "start_time": "2023-09-12T10:58:35.871Z"
   },
   {
    "duration": 165,
    "start_time": "2023-09-12T10:58:38.682Z"
   },
   {
    "duration": 266,
    "start_time": "2023-09-12T10:58:53.025Z"
   },
   {
    "duration": 170,
    "start_time": "2023-09-12T10:59:43.578Z"
   },
   {
    "duration": 179,
    "start_time": "2023-09-12T11:01:51.232Z"
   },
   {
    "duration": 9,
    "start_time": "2023-09-12T11:02:15.522Z"
   },
   {
    "duration": 11,
    "start_time": "2023-09-12T11:03:16.994Z"
   },
   {
    "duration": 229,
    "start_time": "2023-09-12T11:03:21.994Z"
   },
   {
    "duration": 183,
    "start_time": "2023-09-12T11:03:34.426Z"
   },
   {
    "duration": 14,
    "start_time": "2023-09-12T11:04:06.906Z"
   },
   {
    "duration": 178,
    "start_time": "2023-09-12T11:05:30.884Z"
   },
   {
    "duration": 21,
    "start_time": "2023-09-12T11:06:33.389Z"
   },
   {
    "duration": 22,
    "start_time": "2023-09-12T11:07:54.992Z"
   },
   {
    "duration": 1086,
    "start_time": "2023-09-12T11:07:59.783Z"
   },
   {
    "duration": 312,
    "start_time": "2023-09-12T11:08:09.739Z"
   },
   {
    "duration": 204,
    "start_time": "2023-09-12T11:08:16.680Z"
   },
   {
    "duration": 203,
    "start_time": "2023-09-12T11:08:33.365Z"
   },
   {
    "duration": 14,
    "start_time": "2023-09-12T11:10:47.642Z"
   },
   {
    "duration": 22,
    "start_time": "2023-09-12T11:10:54.825Z"
   },
   {
    "duration": 18,
    "start_time": "2023-09-12T11:10:58.969Z"
   },
   {
    "duration": 14,
    "start_time": "2023-09-12T11:11:02.968Z"
   },
   {
    "duration": 229,
    "start_time": "2023-09-12T11:25:53.940Z"
   },
   {
    "duration": 245,
    "start_time": "2023-09-12T11:26:00.195Z"
   },
   {
    "duration": 227,
    "start_time": "2023-09-12T11:26:03.211Z"
   },
   {
    "duration": 24,
    "start_time": "2023-09-12T11:27:15.252Z"
   },
   {
    "duration": 20,
    "start_time": "2023-09-12T11:27:26.693Z"
   },
   {
    "duration": 231,
    "start_time": "2023-09-12T11:27:58.222Z"
   },
   {
    "duration": 222,
    "start_time": "2023-09-12T11:28:29.421Z"
   },
   {
    "duration": 225,
    "start_time": "2023-09-12T11:28:36.073Z"
   },
   {
    "duration": 213,
    "start_time": "2023-09-12T11:28:47.990Z"
   },
   {
    "duration": 219,
    "start_time": "2023-09-12T11:29:27.485Z"
   },
   {
    "duration": 517,
    "start_time": "2023-09-12T11:29:32.502Z"
   },
   {
    "duration": 11,
    "start_time": "2023-09-12T11:30:36.135Z"
   },
   {
    "duration": 165,
    "start_time": "2023-09-12T11:30:39.735Z"
   },
   {
    "duration": 502,
    "start_time": "2023-09-12T11:31:12.513Z"
   },
   {
    "duration": 151,
    "start_time": "2023-09-12T11:31:27.415Z"
   },
   {
    "duration": 164,
    "start_time": "2023-09-12T11:32:04.647Z"
   },
   {
    "duration": 157,
    "start_time": "2023-09-12T11:32:09.678Z"
   },
   {
    "duration": 129,
    "start_time": "2023-09-12T11:33:00.248Z"
   },
   {
    "duration": 127,
    "start_time": "2023-09-12T11:33:10.162Z"
   },
   {
    "duration": 133,
    "start_time": "2023-09-12T11:33:17.139Z"
   },
   {
    "duration": 146,
    "start_time": "2023-09-12T11:33:23.497Z"
   },
   {
    "duration": 22,
    "start_time": "2023-09-12T11:33:53.282Z"
   },
   {
    "duration": 86,
    "start_time": "2023-09-12T11:34:05.915Z"
   },
   {
    "duration": 176,
    "start_time": "2023-09-12T11:34:11.152Z"
   },
   {
    "duration": 161,
    "start_time": "2023-09-12T11:34:29.002Z"
   },
   {
    "duration": 7,
    "start_time": "2023-09-12T11:34:56.868Z"
   },
   {
    "duration": 579,
    "start_time": "2023-09-12T11:35:02.106Z"
   },
   {
    "duration": 200,
    "start_time": "2023-09-12T11:35:20.115Z"
   },
   {
    "duration": 11,
    "start_time": "2023-09-12T11:35:33.918Z"
   },
   {
    "duration": 11,
    "start_time": "2023-09-12T11:36:53.651Z"
   },
   {
    "duration": 151,
    "start_time": "2023-09-12T11:37:00.564Z"
   },
   {
    "duration": 179,
    "start_time": "2023-09-12T11:37:08.485Z"
   },
   {
    "duration": 449,
    "start_time": "2023-09-12T11:37:35.590Z"
   },
   {
    "duration": 14,
    "start_time": "2023-09-12T11:38:23.467Z"
   },
   {
    "duration": 12,
    "start_time": "2023-09-12T11:38:32.797Z"
   },
   {
    "duration": 12,
    "start_time": "2023-09-12T11:38:37.188Z"
   },
   {
    "duration": 32,
    "start_time": "2023-09-12T11:38:51.894Z"
   },
   {
    "duration": 79,
    "start_time": "2023-09-12T11:39:26.598Z"
   },
   {
    "duration": 29,
    "start_time": "2023-09-12T11:39:31.148Z"
   },
   {
    "duration": 891,
    "start_time": "2023-09-12T11:39:38.038Z"
   },
   {
    "duration": 5,
    "start_time": "2023-09-12T11:40:11.047Z"
   },
   {
    "duration": 6,
    "start_time": "2023-09-12T11:40:18.854Z"
   },
   {
    "duration": 41,
    "start_time": "2023-09-12T11:41:07.096Z"
   },
   {
    "duration": 29,
    "start_time": "2023-09-12T11:41:23.601Z"
   },
   {
    "duration": 444,
    "start_time": "2023-09-12T11:42:30.290Z"
   },
   {
    "duration": 363,
    "start_time": "2023-09-12T11:43:01.271Z"
   },
   {
    "duration": 21,
    "start_time": "2023-09-12T11:43:13.669Z"
   },
   {
    "duration": 463,
    "start_time": "2023-09-12T11:44:47.900Z"
   },
   {
    "duration": 268,
    "start_time": "2023-09-12T11:48:33.760Z"
   },
   {
    "duration": 242,
    "start_time": "2023-09-12T11:48:53.718Z"
   },
   {
    "duration": 24,
    "start_time": "2023-09-12T11:49:46.200Z"
   },
   {
    "duration": 438,
    "start_time": "2023-09-12T11:50:03.593Z"
   },
   {
    "duration": 443,
    "start_time": "2023-09-12T11:51:01.668Z"
   },
   {
    "duration": 27,
    "start_time": "2023-09-12T11:51:54.931Z"
   },
   {
    "duration": 896,
    "start_time": "2023-09-12T11:52:08.755Z"
   },
   {
    "duration": 3659,
    "start_time": "2023-09-12T11:52:29.522Z"
   },
   {
    "duration": 199,
    "start_time": "2023-09-12T11:53:02.096Z"
   },
   {
    "duration": 5,
    "start_time": "2023-09-12T11:53:16.452Z"
   },
   {
    "duration": 175,
    "start_time": "2023-09-12T11:53:22.671Z"
   },
   {
    "duration": 178,
    "start_time": "2023-09-12T11:53:34.924Z"
   },
   {
    "duration": 176,
    "start_time": "2023-09-12T11:53:48.013Z"
   },
   {
    "duration": 193,
    "start_time": "2023-09-12T11:53:51.203Z"
   },
   {
    "duration": 181,
    "start_time": "2023-09-12T11:54:06.878Z"
   },
   {
    "duration": 323,
    "start_time": "2023-09-12T11:54:26.709Z"
   },
   {
    "duration": 444,
    "start_time": "2023-09-12T11:54:39.917Z"
   },
   {
    "duration": 237,
    "start_time": "2023-09-12T11:54:47.479Z"
   },
   {
    "duration": 334,
    "start_time": "2023-09-12T11:55:52.197Z"
   },
   {
    "duration": 330,
    "start_time": "2023-09-12T11:56:15.111Z"
   },
   {
    "duration": 6,
    "start_time": "2023-09-12T11:56:41.612Z"
   },
   {
    "duration": 286,
    "start_time": "2023-09-12T11:56:51.959Z"
   },
   {
    "duration": 285,
    "start_time": "2023-09-12T11:57:07.027Z"
   },
   {
    "duration": 41,
    "start_time": "2023-09-12T11:57:42.840Z"
   },
   {
    "duration": 319,
    "start_time": "2023-09-12T12:00:14.553Z"
   },
   {
    "duration": 10,
    "start_time": "2023-09-12T12:10:39.512Z"
   },
   {
    "duration": 10,
    "start_time": "2023-09-12T12:11:58.492Z"
   },
   {
    "duration": 10,
    "start_time": "2023-09-12T12:12:05.899Z"
   },
   {
    "duration": 9,
    "start_time": "2023-09-12T12:12:12.834Z"
   },
   {
    "duration": 7,
    "start_time": "2023-09-12T12:12:19.043Z"
   },
   {
    "duration": 17,
    "start_time": "2023-09-12T12:12:31.650Z"
   },
   {
    "duration": 22,
    "start_time": "2023-09-12T12:12:35.021Z"
   },
   {
    "duration": 2810,
    "start_time": "2023-09-12T12:12:37.539Z"
   },
   {
    "duration": 9,
    "start_time": "2023-09-12T12:12:48.828Z"
   },
   {
    "duration": 172,
    "start_time": "2023-09-12T12:13:10.223Z"
   },
   {
    "duration": 173,
    "start_time": "2023-09-12T12:13:25.011Z"
   },
   {
    "duration": 19,
    "start_time": "2023-09-12T12:13:53.585Z"
   },
   {
    "duration": 10,
    "start_time": "2023-09-12T12:14:00.555Z"
   },
   {
    "duration": 1662,
    "start_time": "2023-09-12T12:17:03.463Z"
   },
   {
    "duration": 9,
    "start_time": "2023-09-12T12:17:25.116Z"
   },
   {
    "duration": 11,
    "start_time": "2023-09-12T12:18:29.748Z"
   },
   {
    "duration": 5378,
    "start_time": "2023-09-12T12:18:31.978Z"
   },
   {
    "duration": 28,
    "start_time": "2023-09-12T12:19:08.325Z"
   },
   {
    "duration": 17,
    "start_time": "2023-09-12T12:19:10.348Z"
   },
   {
    "duration": 31,
    "start_time": "2023-09-12T12:19:36.337Z"
   },
   {
    "duration": 29,
    "start_time": "2023-09-12T12:20:36.453Z"
   },
   {
    "duration": 15,
    "start_time": "2023-09-12T12:20:41.942Z"
   },
   {
    "duration": 9,
    "start_time": "2023-09-12T12:20:54.950Z"
   },
   {
    "duration": 9,
    "start_time": "2023-09-12T12:20:57.662Z"
   },
   {
    "duration": 11,
    "start_time": "2023-09-12T12:21:05.806Z"
   },
   {
    "duration": 12,
    "start_time": "2023-09-12T12:21:32.691Z"
   },
   {
    "duration": 13,
    "start_time": "2023-09-12T12:21:34.622Z"
   },
   {
    "duration": 34,
    "start_time": "2023-09-12T12:22:46.978Z"
   },
   {
    "duration": 34,
    "start_time": "2023-09-12T12:23:04.647Z"
   },
   {
    "duration": 9,
    "start_time": "2023-09-12T12:39:37.114Z"
   },
   {
    "duration": 13,
    "start_time": "2023-09-12T12:39:44.753Z"
   },
   {
    "duration": 21,
    "start_time": "2023-09-12T12:40:26.938Z"
   },
   {
    "duration": 9,
    "start_time": "2023-09-12T12:41:41.651Z"
   },
   {
    "duration": 12,
    "start_time": "2023-09-12T12:41:54.042Z"
   },
   {
    "duration": 19,
    "start_time": "2023-09-12T12:42:02.313Z"
   },
   {
    "duration": 8,
    "start_time": "2023-09-12T12:42:09.947Z"
   },
   {
    "duration": 17,
    "start_time": "2023-09-12T12:42:48.326Z"
   },
   {
    "duration": 19,
    "start_time": "2023-09-12T12:43:00.963Z"
   },
   {
    "duration": 15,
    "start_time": "2023-09-12T12:43:08.971Z"
   },
   {
    "duration": 19,
    "start_time": "2023-09-12T12:43:40.596Z"
   },
   {
    "duration": 17,
    "start_time": "2023-09-12T12:43:46.643Z"
   },
   {
    "duration": 17,
    "start_time": "2023-09-12T12:43:51.203Z"
   },
   {
    "duration": 16,
    "start_time": "2023-09-12T12:43:56.212Z"
   },
   {
    "duration": 18,
    "start_time": "2023-09-12T13:06:37.950Z"
   },
   {
    "duration": 19,
    "start_time": "2023-09-12T13:06:40.877Z"
   },
   {
    "duration": 23,
    "start_time": "2023-09-12T13:06:46.581Z"
   },
   {
    "duration": 18,
    "start_time": "2023-09-12T13:06:50.973Z"
   },
   {
    "duration": 25,
    "start_time": "2023-09-12T13:06:56.269Z"
   },
   {
    "duration": 124,
    "start_time": "2023-09-12T13:07:07.541Z"
   },
   {
    "duration": 19,
    "start_time": "2023-09-12T13:07:11.428Z"
   },
   {
    "duration": 13,
    "start_time": "2023-09-12T13:07:16.869Z"
   },
   {
    "duration": 18,
    "start_time": "2023-09-12T13:07:27.511Z"
   },
   {
    "duration": 109,
    "start_time": "2023-09-12T13:07:34.780Z"
   },
   {
    "duration": 15,
    "start_time": "2023-09-12T13:07:45.086Z"
   },
   {
    "duration": 16,
    "start_time": "2023-09-12T13:07:48.925Z"
   },
   {
    "duration": 17,
    "start_time": "2023-09-12T13:08:44.647Z"
   },
   {
    "duration": 117,
    "start_time": "2023-09-12T13:09:05.575Z"
   },
   {
    "duration": 114,
    "start_time": "2023-09-12T13:09:14.295Z"
   },
   {
    "duration": 94,
    "start_time": "2023-09-12T13:09:24.319Z"
   },
   {
    "duration": 16,
    "start_time": "2023-09-12T13:09:26.648Z"
   },
   {
    "duration": 14,
    "start_time": "2023-09-12T13:09:33.127Z"
   },
   {
    "duration": 16,
    "start_time": "2023-09-12T13:09:40.443Z"
   },
   {
    "duration": 16,
    "start_time": "2023-09-12T13:09:55.007Z"
   },
   {
    "duration": 14,
    "start_time": "2023-09-12T13:09:57.807Z"
   },
   {
    "duration": 23,
    "start_time": "2023-09-12T13:10:04.608Z"
   },
   {
    "duration": 15,
    "start_time": "2023-09-12T13:10:18.119Z"
   },
   {
    "duration": 18,
    "start_time": "2023-09-12T13:11:02.201Z"
   },
   {
    "duration": 18,
    "start_time": "2023-09-12T13:11:04.600Z"
   },
   {
    "duration": 20,
    "start_time": "2023-09-12T13:11:07.065Z"
   },
   {
    "duration": 15,
    "start_time": "2023-09-12T13:11:10.008Z"
   },
   {
    "duration": 19,
    "start_time": "2023-09-12T13:11:12.808Z"
   },
   {
    "duration": 15,
    "start_time": "2023-09-12T13:11:16.953Z"
   },
   {
    "duration": 26,
    "start_time": "2023-09-12T13:11:31.872Z"
   },
   {
    "duration": 15,
    "start_time": "2023-09-12T13:11:36.435Z"
   },
   {
    "duration": 17,
    "start_time": "2023-09-12T13:11:40.249Z"
   },
   {
    "duration": 21,
    "start_time": "2023-09-12T13:11:52.994Z"
   },
   {
    "duration": 21,
    "start_time": "2023-09-12T13:12:06.897Z"
   },
   {
    "duration": 16,
    "start_time": "2023-09-12T13:12:26.137Z"
   },
   {
    "duration": 14,
    "start_time": "2023-09-12T13:12:33.153Z"
   },
   {
    "duration": 18,
    "start_time": "2023-09-12T13:12:38.657Z"
   },
   {
    "duration": 17,
    "start_time": "2023-09-12T13:13:02.492Z"
   },
   {
    "duration": 19,
    "start_time": "2023-09-12T13:13:05.649Z"
   },
   {
    "duration": 14,
    "start_time": "2023-09-12T13:13:11.738Z"
   },
   {
    "duration": 22,
    "start_time": "2023-09-12T13:13:15.129Z"
   },
   {
    "duration": 13,
    "start_time": "2023-09-12T13:13:18.330Z"
   },
   {
    "duration": 23,
    "start_time": "2023-09-12T13:13:27.099Z"
   },
   {
    "duration": 14,
    "start_time": "2023-09-12T13:13:35.435Z"
   },
   {
    "duration": 13,
    "start_time": "2023-09-12T13:13:52.992Z"
   },
   {
    "duration": 15,
    "start_time": "2023-09-12T13:40:05.989Z"
   },
   {
    "duration": 363,
    "start_time": "2023-09-12T13:41:27.887Z"
   },
   {
    "duration": 269,
    "start_time": "2023-09-12T13:41:44.953Z"
   },
   {
    "duration": 19,
    "start_time": "2023-09-12T13:42:20.879Z"
   },
   {
    "duration": 25,
    "start_time": "2023-09-12T13:42:28.063Z"
   },
   {
    "duration": 22,
    "start_time": "2023-09-12T13:43:01.954Z"
   },
   {
    "duration": 21,
    "start_time": "2023-09-12T13:43:07.048Z"
   },
   {
    "duration": 23,
    "start_time": "2023-09-12T13:43:25.137Z"
   },
   {
    "duration": 330,
    "start_time": "2023-09-12T13:43:50.386Z"
   },
   {
    "duration": 23,
    "start_time": "2023-09-12T13:45:23.106Z"
   },
   {
    "duration": 11,
    "start_time": "2023-09-12T14:15:14.791Z"
   },
   {
    "duration": 24,
    "start_time": "2023-09-12T14:20:29.822Z"
   },
   {
    "duration": 33,
    "start_time": "2023-09-12T14:20:36.882Z"
   },
   {
    "duration": 94,
    "start_time": "2023-09-12T14:21:40.146Z"
   },
   {
    "duration": 173,
    "start_time": "2023-09-12T14:21:46.772Z"
   },
   {
    "duration": 227,
    "start_time": "2023-09-12T14:22:03.998Z"
   },
   {
    "duration": 100,
    "start_time": "2023-09-12T14:22:21.891Z"
   },
   {
    "duration": 190,
    "start_time": "2023-09-12T14:22:29.825Z"
   },
   {
    "duration": 147,
    "start_time": "2023-09-12T14:23:00.605Z"
   },
   {
    "duration": 132,
    "start_time": "2023-09-12T14:23:11.130Z"
   },
   {
    "duration": 81,
    "start_time": "2023-09-12T14:23:26.580Z"
   },
   {
    "duration": 1596,
    "start_time": "2023-09-12T14:23:30.157Z"
   },
   {
    "duration": 1894,
    "start_time": "2023-09-12T14:24:14.478Z"
   },
   {
    "duration": 1718,
    "start_time": "2023-09-12T14:24:36.226Z"
   },
   {
    "duration": 38,
    "start_time": "2023-09-12T14:25:00.557Z"
   },
   {
    "duration": 1884,
    "start_time": "2023-09-12T14:25:12.600Z"
   },
   {
    "duration": 11,
    "start_time": "2023-09-12T14:25:47.342Z"
   },
   {
    "duration": 115,
    "start_time": "2023-09-12T14:25:55.431Z"
   },
   {
    "duration": 171,
    "start_time": "2023-09-12T14:26:00.158Z"
   },
   {
    "duration": 13,
    "start_time": "2023-09-12T14:26:03.852Z"
   },
   {
    "duration": 16,
    "start_time": "2023-09-12T14:26:26.848Z"
   },
   {
    "duration": 23,
    "start_time": "2023-09-12T14:26:43.993Z"
   },
   {
    "duration": 102,
    "start_time": "2023-09-12T14:26:49.785Z"
   },
   {
    "duration": 268,
    "start_time": "2023-09-12T14:26:57.207Z"
   },
   {
    "duration": 139,
    "start_time": "2023-09-12T14:27:07.087Z"
   },
   {
    "duration": 164,
    "start_time": "2023-09-12T14:27:17.061Z"
   },
   {
    "duration": 115,
    "start_time": "2023-09-12T14:27:20.199Z"
   },
   {
    "duration": 17,
    "start_time": "2023-09-12T14:27:25.526Z"
   },
   {
    "duration": 19,
    "start_time": "2023-09-12T14:27:53.180Z"
   },
   {
    "duration": 117,
    "start_time": "2023-09-12T14:37:10.327Z"
   },
   {
    "duration": 305,
    "start_time": "2023-09-12T14:37:34.226Z"
   },
   {
    "duration": 1346,
    "start_time": "2023-09-12T14:39:22.151Z"
   },
   {
    "duration": 224,
    "start_time": "2023-09-12T14:39:23.499Z"
   },
   {
    "duration": 191,
    "start_time": "2023-09-12T14:39:23.725Z"
   },
   {
    "duration": 8,
    "start_time": "2023-09-12T14:39:23.919Z"
   },
   {
    "duration": 15,
    "start_time": "2023-09-12T14:39:23.928Z"
   },
   {
    "duration": 150,
    "start_time": "2023-09-12T14:39:23.945Z"
   },
   {
    "duration": 30,
    "start_time": "2023-09-12T14:39:24.098Z"
   },
   {
    "duration": 48,
    "start_time": "2023-09-12T14:39:24.130Z"
   },
   {
    "duration": 4,
    "start_time": "2023-09-12T14:39:24.181Z"
   },
   {
    "duration": 508,
    "start_time": "2023-09-12T14:39:24.188Z"
   },
   {
    "duration": 468,
    "start_time": "2023-09-12T14:39:24.697Z"
   },
   {
    "duration": 44,
    "start_time": "2023-09-12T14:39:25.166Z"
   },
   {
    "duration": 338,
    "start_time": "2023-09-12T14:39:25.212Z"
   },
   {
    "duration": 25,
    "start_time": "2023-09-12T14:39:25.552Z"
   },
   {
    "duration": 50,
    "start_time": "2023-09-12T14:39:25.579Z"
   },
   {
    "duration": 4768,
    "start_time": "2023-09-12T14:39:25.631Z"
   },
   {
    "duration": 360,
    "start_time": "2023-09-12T14:39:30.402Z"
   },
   {
    "duration": 175,
    "start_time": "2023-09-12T14:39:30.764Z"
   },
   {
    "duration": 9,
    "start_time": "2023-09-12T14:39:30.941Z"
   },
   {
    "duration": 125,
    "start_time": "2023-09-12T14:39:30.952Z"
   },
   {
    "duration": 50,
    "start_time": "2023-09-12T14:39:31.079Z"
   },
   {
    "duration": 73,
    "start_time": "2023-09-12T14:39:31.131Z"
   },
   {
    "duration": 309,
    "start_time": "2023-09-12T14:39:31.206Z"
   },
   {
    "duration": 15,
    "start_time": "2023-09-12T14:39:31.518Z"
   },
   {
    "duration": 448,
    "start_time": "2023-09-12T14:39:31.534Z"
   },
   {
    "duration": 445,
    "start_time": "2023-09-12T14:39:31.985Z"
   },
   {
    "duration": 516,
    "start_time": "2023-09-12T14:39:32.433Z"
   },
   {
    "duration": 4838,
    "start_time": "2023-09-12T14:39:32.954Z"
   },
   {
    "duration": 34,
    "start_time": "2023-09-12T14:39:37.794Z"
   },
   {
    "duration": 6,
    "start_time": "2023-09-12T14:39:37.830Z"
   },
   {
    "duration": 127,
    "start_time": "2023-09-12T14:39:37.837Z"
   },
   {
    "duration": 56,
    "start_time": "2023-09-12T14:39:37.965Z"
   },
   {
    "duration": 48,
    "start_time": "2023-09-12T14:39:38.023Z"
   },
   {
    "duration": 14,
    "start_time": "2023-09-12T14:39:38.072Z"
   },
   {
    "duration": 50,
    "start_time": "2023-09-12T14:39:38.088Z"
   },
   {
    "duration": 31,
    "start_time": "2023-09-12T14:39:38.140Z"
   },
   {
    "duration": 51,
    "start_time": "2023-09-12T14:39:38.173Z"
   },
   {
    "duration": 4,
    "start_time": "2023-09-12T14:39:38.226Z"
   },
   {
    "duration": 1584,
    "start_time": "2023-09-12T14:39:38.232Z"
   },
   {
    "duration": 11,
    "start_time": "2023-09-12T14:39:39.818Z"
   },
   {
    "duration": 11,
    "start_time": "2023-09-12T14:39:39.831Z"
   },
   {
    "duration": 39,
    "start_time": "2023-09-12T14:39:39.844Z"
   },
   {
    "duration": 40,
    "start_time": "2023-09-12T14:39:39.885Z"
   },
   {
    "duration": 21,
    "start_time": "2023-09-12T14:39:39.927Z"
   },
   {
    "duration": 781,
    "start_time": "2023-09-12T14:39:39.950Z"
   },
   {
    "duration": 14,
    "start_time": "2023-09-12T14:39:40.734Z"
   },
   {
    "duration": 431,
    "start_time": "2023-09-12T14:39:40.750Z"
   },
   {
    "duration": 429,
    "start_time": "2023-09-12T14:39:41.183Z"
   },
   {
    "duration": 31,
    "start_time": "2023-09-12T14:39:41.614Z"
   },
   {
    "duration": 312,
    "start_time": "2023-09-12T14:39:41.647Z"
   },
   {
    "duration": 277,
    "start_time": "2023-09-12T14:39:41.961Z"
   },
   {
    "duration": 9,
    "start_time": "2023-09-12T14:39:42.240Z"
   },
   {
    "duration": 1711,
    "start_time": "2023-09-12T14:39:42.251Z"
   },
   {
    "duration": 27,
    "start_time": "2023-09-12T14:39:43.964Z"
   },
   {
    "duration": 28,
    "start_time": "2023-09-12T14:39:43.993Z"
   },
   {
    "duration": 15,
    "start_time": "2023-09-12T14:39:44.023Z"
   },
   {
    "duration": 18,
    "start_time": "2023-09-12T14:39:44.040Z"
   },
   {
    "duration": 10,
    "start_time": "2023-09-12T14:39:44.060Z"
   },
   {
    "duration": 51,
    "start_time": "2023-09-12T14:39:44.072Z"
   },
   {
    "duration": 11,
    "start_time": "2023-09-12T14:39:44.125Z"
   },
   {
    "duration": 29,
    "start_time": "2023-09-12T14:39:44.138Z"
   },
   {
    "duration": 48,
    "start_time": "2023-09-12T14:39:44.168Z"
   }
  ],
  "kernelspec": {
   "display_name": "Python 3 (ipykernel)",
   "language": "python",
   "name": "python3"
  },
  "language_info": {
   "codemirror_mode": {
    "name": "ipython",
    "version": 3
   },
   "file_extension": ".py",
   "mimetype": "text/x-python",
   "name": "python",
   "nbconvert_exporter": "python",
   "pygments_lexer": "ipython3",
   "version": "3.9.5"
  },
  "toc": {
   "base_numbering": 1,
   "nav_menu": {
    "height": "204px",
    "width": "236px"
   },
   "number_sections": true,
   "sideBar": true,
   "skip_h1_title": true,
   "title_cell": "Содержание",
   "title_sidebar": "Contents",
   "toc_cell": true,
   "toc_position": {
    "height": "calc(100% - 180px)",
    "left": "10px",
    "top": "150px",
    "width": "222.969px"
   },
   "toc_section_display": true,
   "toc_window_display": true
  }
 },
 "nbformat": 4,
 "nbformat_minor": 2
}
